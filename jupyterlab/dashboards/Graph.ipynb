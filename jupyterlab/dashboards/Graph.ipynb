{
 "cells": [
  {
   "cell_type": "code",
   "execution_count": 9,
   "metadata": {},
   "outputs": [],
   "source": [
    "%matplotlib widget\n",
    "from ipywidgets import VBox, HBox, Text, Button, widgets, Layout\n",
    "from IPython.display import display\n",
    "from datetime import datetime, timedelta\n",
    "import plotly.express as px \n",
    "import yfinance as yf\n",
    "import pandas as pd"
   ]
  },
  {
   "cell_type": "code",
   "execution_count": 11,
   "metadata": {},
   "outputs": [
    {
     "data": {
      "application/vnd.jupyter.widget-view+json": {
       "model_id": "8aa0fe2420ae412695ccf3e0227cf23e",
       "version_major": 2,
       "version_minor": 0
      },
      "text/plain": "VBox(children=(HBox(children=(Text(value='', layout=Layout(width='50%')), Button(description='Add', layout=Lay…"
     },
     "metadata": {},
     "output_type": "display_data"
    }
   ],
   "source": [
    "class StockGraph():\n",
    "    def __init__(self):\n",
    "        self.tickers = {}\n",
    "        self.lines = []\n",
    "        self.views = {\n",
    "            \"Raw Data\": lambda x: x,\n",
    "            \"Rolling Average\": lambda x: x.rolling(rolling.value).mean(),\n",
    "            \"Rolling Variance\": lambda x: x.rolling(rolling.value).var(),\n",
    "            \"Rolling Standard Deviation\": lambda x: x.rolling(rolling.value).var()**0.5,\n",
    "            \"Rolling Coefficient of Variation\": lambda x: (x.rolling(rolling.value).var()**0.5) / (x.rolling(rolling.value).mean())\n",
    "        }\n",
    "\n",
    "\n",
    "    def plot_data(self, *args):\n",
    "        if start_date.value.year > 1900 and end_date.value.year > 1900:\n",
    "            new_df = pd.DataFrame()\n",
    "            while self.lines:\n",
    "                item = self.lines.pop()\n",
    "                item.remove()\n",
    "            for tick in self.tickers.keys():\n",
    "                df = self.tickers[tick]\n",
    "                start = datetime(start_date.value.year, start_date.value.month, start_date.value.day)\n",
    "                end = datetime(end_date.value.year, end_date.value.month, end_date.value.day)\n",
    "                selection = df.loc[(df.index >= start) & (df.index <= end)]\n",
    "                value = self.views[calculation.value](selection[data_type.value])\n",
    "                new_df[tick] = value\n",
    "            fig = px.line(new_df, x='Index', y=df.columns)\n",
    "            fig.show()\n",
    "            #self.finish_matplotlib()\n",
    "\n",
    "    def render_stocks(self, *args):\n",
    "        if stock_text.value != '':\n",
    "            ticker = yf.download(stock_text.value.upper(), period=\"max\", progress=False)\n",
    "            if not ticker.empty:\n",
    "                self.tickers[stock_text.value.upper()] = ticker\n",
    "                self.plot_data()\n",
    "        stock_text.value = ''\n",
    "        boxes = [self.completed_stock(each) for each in self.tickers]\n",
    "        tickersWidget.children = ([VBox([VBox(boxes), HBox([stock_text, stock_button])])])\n",
    "\n",
    "\n",
    "    def completed_stock(self, ticker): \n",
    "        tickerField = Text(value=ticker,layout=Layout(width='50%',))\n",
    "        removeButton = Button(description='Remove', button_style='danger',layout=Layout(width='50%',))\n",
    "        return HBox([tickerField, removeButton])\n",
    "\n",
    "\n",
    "    def completed_stock(self, ticker):\n",
    "        def remove_stock(_):\n",
    "            if tickerField.value in self.tickers.keys():\n",
    "                self.tickers.pop(tickerField.value)\n",
    "                self.render_stocks()\n",
    "            self.plot_data()\n",
    "                    \n",
    "        tickerField = Text(value=ticker,layout=Layout(width='50%',))\n",
    "        removeButton = Button(description='Remove', button_style='danger',layout=Layout(width='50%',))\n",
    "        removeButton.on_click(remove_stock)\n",
    "        stock_view = HBox([tickerField, removeButton])\n",
    "        return stock_view\n",
    "    \n",
    "    def finish_matplotlib(self):\n",
    "        ax.legend()\n",
    "        title = f\"{calculation.value} of {data_type.value} from {start_date.value.strftime('%Y/%m/%d')}\"\n",
    "        title += f\" to {end_date.value.strftime('%Y/%m/%d')}\"\n",
    "        ax.set_title(title)\n",
    "        ax.relim()\n",
    "        ax.autoscale()\n",
    "        fig.canvas.draw_idle()\n",
    "\n",
    "graph = StockGraph()\n",
    "\"\"\"\n",
    "fig, ax = plt.subplots(figsize=(10, 5))\n",
    "fig.canvas.toolbar_position = 'bottom'\n",
    "\"\"\"\n",
    "\n",
    "# Setting up a basic view with an empty field and a button\n",
    "stock_text = widgets.Text(value='',layout=Layout(width='50%',))\n",
    "stock_button = widgets.Button(description='Add',layout=Layout(width='50%',))                                 \n",
    "stock_button.on_click(graph.render_stocks)\n",
    "tickersWidget = HBox([stock_text, stock_button])\n",
    "\n",
    "# Choose data to be shown\n",
    "calculation = widgets.Dropdown(value=\"Raw Data\", options=graph.views.keys(),layout=Layout(width='auto',))\n",
    "data_type = widgets.Dropdown(value=\"Close\", options=['Open', 'Close', 'High', 'Low', 'Volume'],layout=Layout(width='auto',))\n",
    "calculation.observe(graph.plot_data)\n",
    "data_type.observe(graph.plot_data)\n",
    "dropdowns = VBox([calculation, data_type])\n",
    "\n",
    "#Choose dates to be shown\n",
    "start_date = widgets.DatePicker(value=datetime.today() - timedelta(days=365),disabled=False,layout=Layout(width='auto',))\n",
    "end_date = widgets.DatePicker(value=datetime.today(),disabled=False,layout=Layout(width='auto',))\n",
    "start_date.observe(graph.plot_data)\n",
    "end_date.observe(graph.plot_data)\n",
    "dates = VBox([start_date, end_date])\n",
    "\n",
    "#Other Settings for Users\n",
    "rolling = widgets.Dropdown(options=list(range(2,101)), value=60,description='Rolling:',disabled=False,layout=Layout(width='auto',))\n",
    "rolling.observe(graph.plot_data)\n",
    "\n",
    "final_view = VBox([tickersWidget, dropdowns, dates, rolling],layout=Layout(width='20%',))\n",
    "display(final_view)\n",
    "\n"
   ]
  },
  {
   "cell_type": "code",
   "execution_count": null,
   "metadata": {},
   "outputs": [],
   "source": []
  }
 ],
 "metadata": {
  "kernelspec": {
   "display_name": "Python 3.9.7 64-bit ('base': conda)",
   "name": "python397jvsc74a57bd0e896a00ead8b521528d79ac9ef24990696f2b751eb283ab8e0d078c9c4971ffc"
  },
  "language_info": {
   "codemirror_mode": {
    "name": "ipython",
    "version": 3
   },
   "file_extension": ".py",
   "mimetype": "text/x-python",
   "name": "python",
   "nbconvert_exporter": "python",
   "pygments_lexer": "ipython3",
   "version": "3.9.7"
  },
  "metadata": {
   "interpreter": {
    "hash": "e896a00ead8b521528d79ac9ef24990696f2b751eb283ab8e0d078c9c4971ffc"
   }
  }
 },
 "nbformat": 4,
 "nbformat_minor": 5
}