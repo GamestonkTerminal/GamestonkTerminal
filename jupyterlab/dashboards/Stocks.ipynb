{
 "cells": [
  {
   "cell_type": "code",
   "execution_count": 1,
   "metadata": {},
   "outputs": [],
   "source": [
    "from datetime import datetime, timedelta\n",
    "import ipywidgets as widgets\n",
    "import plotly.graph_objs as go\n",
    "import yfinance as yf\n",
    "import pandas as pd\n",
    "import plotly.express as px\n",
    "from IPython.display import display"
   ]
  },
  {
   "cell_type": "code",
   "execution_count": 2,
   "metadata": {},
   "outputs": [],
   "source": [
    "views = {\n",
    "    \"Raw Data\": lambda x, y: x,\n",
    "    \"Percent Change\": lambda x, y: x.pct_change(),\n",
    "    \"Rolling Average\": lambda x, y: x.rolling(y).mean(),\n",
    "    \"Rolling Variance\": lambda x, y: x.rolling(y).var(),\n",
    "    \"Rolling Standard Deviation\": lambda x, y: x.rolling(y).var() ** 0.5,\n",
    "    \"Rolling Coefficient of Variation\": lambda x, y: (x.rolling(y).var() ** 0.5)\n",
    "    / (x.rolling(y).mean()),\n",
    "}\n",
    "\n",
    "\n",
    "def format_plotly(fig, calc, data, start, end):\n",
    "    fig.update_yaxes(title=None)\n",
    "    fig.update_xaxes(title=None)\n",
    "    fig_title = f\"{calc} of {data} from {start.strftime('%Y/%m/%d')} to {end.strftime('%Y/%m/%d')}\"\n",
    "    fig.update_layout(\n",
    "        autosize=False,\n",
    "        width=1000,\n",
    "        height=500,\n",
    "        title={\n",
    "            \"text\": fig_title,\n",
    "            \"y\": 0.95,\n",
    "            \"x\": 0.5,\n",
    "            \"xanchor\": \"center\",\n",
    "            \"yanchor\": \"top\",\n",
    "        },\n",
    "    )\n",
    "\n",
    "\n",
    "last_tickers = \"\""
   ]
  },
  {
   "cell_type": "code",
   "execution_count": 9,
   "metadata": {},
   "outputs": [
    {
     "name": "stdout",
     "output_type": "stream",
     "text": [
      "Output(layout=Layout(grid_area='widget001'))\n"
     ]
    },
    {
     "data": {
      "application/vnd.jupyter.widget-view+json": {
       "model_id": "7a6059f527e64c76b2f4dc2ad126c087",
       "version_major": 2,
       "version_minor": 0
      },
      "text/plain": [
       "VBox(children=(HTML(value='\\n<h1>Voilà Example Soccer Analytics Dashboard</h1>\\n', layout=Layout(margin='-1em …"
      ]
     },
     "metadata": {},
     "output_type": "display_data"
    }
   ],
   "source": [
    "def view_chart(calculation, data, rolling, start, end, tickers):\n",
    "    global last_tickers, df\n",
    "    if tickers and tickers[-1] == \",\":\n",
    "        if tickers != last_tickers:\n",
    "            df = yf.download(tickers, period=\"max\", progress=False)\n",
    "            last_tickers = tickers\n",
    "\n",
    "        start_n = datetime(start.year, start.month, start.day)\n",
    "        end_n = datetime(end.year, end.month, end.day)\n",
    "        calcs = views[calculation](df[data], rolling)\n",
    "        selection = calcs.loc[(calcs.index >= start_n) & (calcs.index <= end_n)]\n",
    "        fig = px.line()  # go.Figure()\n",
    "\n",
    "        # Probabbly delete this\n",
    "        fig.update_traces(hovertemplate=None, hoverinfo=\"skip\")\n",
    "        if isinstance(selection, pd.Series):\n",
    "            fig.add_trace(\n",
    "                go.Scatter(\n",
    "                    x=selection.index, y=selection, mode=\"lines\", name=tickers[:-1]\n",
    "                )\n",
    "            )\n",
    "        else:\n",
    "            for item in selection:\n",
    "                fig.add_trace(\n",
    "                    go.Scatter(\n",
    "                        x=selection.index,\n",
    "                        y=selection[item],\n",
    "                        mode=\"lines\",\n",
    "                        name=item.upper(),\n",
    "                    )\n",
    "                )\n",
    "\n",
    "        format_plotly(fig, calculation, data, start, end)\n",
    "        fig.show(config={\"displayModeBar\": False, \"showTips\": False})\n",
    "\n",
    "\n",
    "calc_widget = widgets.Dropdown(options=list(views.keys()), value=\"Raw Data\")\n",
    "data_widget = widgets.Dropdown(\n",
    "    options=[\"Open\", \"Close\", \"High\", \"Low\", \"Volume\"], value=\"Close\"\n",
    ")\n",
    "rolling_widget = widgets.Dropdown(options=list(range(2, 101)), value=60)\n",
    "start_widget = widgets.DatePicker(value=datetime.today() - timedelta(days=365))\n",
    "end_widget = widgets.DatePicker(value=datetime.today())\n",
    "tickers_widget = widgets.Text(value=\"TSLA,\")\n",
    "\n",
    "stocks_view = widgets.interactive(\n",
    "    view_chart,\n",
    "    calculation=calc_widget,\n",
    "    data=data_widget,\n",
    "    rolling=rolling_widget,\n",
    "    start=start_widget,\n",
    "    end=end_widget,\n",
    "    tickers=tickers_widget,\n",
    ")\n",
    "\n",
    "stocks_view.observe(lambda x: calc_widget.update(), \"value\")\n",
    "stocks_view.observe(lambda x: data_widget.update(), \"value\")\n",
    "stocks_view.observe(lambda x: rolling_widget.update(), \"value\")\n",
    "stocks_view.observe(lambda x: start_widget.update(), \"value\")\n",
    "stocks_view.observe(lambda x: end_widget.update(), \"value\")\n",
    "stocks_view.observe(lambda x: tickers_widget.update(), \"value\")\n",
    "\n",
    "grid = widgets.GridspecLayout(\n",
    "    2, 4, layout=widgets.Layout(justify_content=\"center\", align_items=\"center\")\n",
    ")\n",
    "grid[0, 0] = stocks_view.children[-1]\n",
    "\n",
    "title_html = \"\"\"<h1>Stock Analysis Dashboard</h1>\"\"\"\n",
    "app_contents = [widgets.HTML(title_html), stocks_view, grid]\n",
    "app = widgets.VBox(app_contents)\n",
    "\n",
    "display(app)\n"
   ]
  },
  {
   "cell_type": "code",
   "execution_count": null,
   "metadata": {},
   "outputs": [],
   "source": []
  }
 ],
 "metadata": {
  "kernelspec": {
   "display_name": "Python 3.9.7 64-bit ('base': conda)",
   "name": "python397jvsc74a57bd0e896a00ead8b521528d79ac9ef24990696f2b751eb283ab8e0d078c9c4971ffc"
  },
  "language_info": {
   "name": "python",
   "version": ""
  },
  "metadata": {
   "interpreter": {
    "hash": "e896a00ead8b521528d79ac9ef24990696f2b751eb283ab8e0d078c9c4971ffc"
   }
  }
 },
 "nbformat": 4,
 "nbformat_minor": 5
}