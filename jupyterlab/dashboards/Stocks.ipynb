{
 "cells": [
  {
   "cell_type": "code",
   "execution_count": 1,
   "id": "47e5b6e6",
   "metadata": {},
   "outputs": [],
   "source": [
    "from datetime import datetime, timedelta\n",
    "import ipywidgets as widgets\n",
    "from IPython.display import display\n",
    "import plotly.graph_objs as go\n",
    "import plotly.offline as py\n",
    "import plotly.express as px\n",
    "import yfinance as yf\n",
    "import pandas as pd"
   ]
  },
  {
   "cell_type": "code",
   "execution_count": 2,
   "id": "76538ad6",
   "metadata": {},
   "outputs": [],
   "source": [
    "views = {\n",
    "          \"Raw Data\": lambda x, y: x,\n",
    "          \"Percent Change\": lambda x, y: x.pct_change(),\n",
    "          \"Rolling Average\": lambda x, y: x.rolling(y).mean(),\n",
    "          \"Rolling Variance\": lambda x, y: x.rolling(y).var(),\n",
    "          \"Rolling Standard Deviation\": lambda x, y: x.rolling(y).var() ** 0.5,\n",
    "          \"Rolling Coefficient of Variation\": lambda x, y: (x.rolling(y).var() ** 0.5)\n",
    "              / (x.rolling(y).mean()),\n",
    "    }\n",
    "\n",
    "def format_plotly(fig, calc, data, start, end):\n",
    "    fig.update_yaxes(title=None)\n",
    "    fig.update_xaxes(title=None)\n",
    "    fig_title = f\"{calc} of {data} from {start.strftime('%Y/%m/%d')} to {end.strftime('%Y/%m/%d')}\"\n",
    "    fig.update_layout(\n",
    "    autosize=False,\n",
    "    width=1000,\n",
    "    height=500,\n",
    "    title={\n",
    "      'text': fig_title,\n",
    "      'y':.95,\n",
    "      'x':.5,\n",
    "      'xanchor': 'center',\n",
    "      'yanchor': 'top'}\n",
    "    )\n",
    "\n",
    "\n",
    "cols = [\"Open\", \"Close\", \"High\", \"Low\", \"Volume\"]\n",
    "start_d = datetime.today() - timedelta(days=365)\n",
    "end_d = datetime.today()\n",
    "\n",
    "last_tickers = \"\""
   ]
  },
  {
   "cell_type": "code",
   "execution_count": 3,
   "id": "6e681616",
   "metadata": {},
   "outputs": [
    {
     "data": {
      "application/vnd.jupyter.widget-view+json": {
       "model_id": "0e279e4f52264107a6b3cf8a36875135",
       "version_major": 2,
       "version_minor": 0
      },
      "text/plain": [
       "interactive(children=(Dropdown(description='calculation', options=('Raw Data', 'Percent Change', 'Rolling Aver…"
      ]
     },
     "metadata": {},
     "output_type": "display_data"
    }
   ],
   "source": [
    "@widgets.interact(calculation=[x for x in views.keys()], data=cols, rolling=list(range(2, 101)),\n",
    "                  start=widgets.DatePicker(value=start_d), end=widgets.DatePicker(value=end_d), \n",
    "                  tickers=widgets.Text()\n",
    "                  )\n",
    "def view_chart(calculation = \"Raw Data\", data=\"Close\", rolling=60, start=start_d, end=end_d, tickers=\"\",):\n",
    "    global last_tickers, df\n",
    "    if tickers and tickers[-1] == \",\":\n",
    "        if tickers != last_tickers:\n",
    "            df = yf.download(tickers, period=\"max\", progress=False)\n",
    "            last_tickers = tickers\n",
    "\n",
    "        start_n = datetime(start.year, start.month, start.day)\n",
    "        end_n = datetime(end.year, end.month, end.day)\n",
    "        calcs = views[calculation](df[data], rolling)\n",
    "        selection = calcs.loc[(calcs.index >= start_n) & (calcs.index <= end_n)]\n",
    "        fig = go.Figure()\n",
    "        if isinstance(selection, pd.Series):\n",
    "            fig.add_trace(go.Scatter(x=selection.index, y=selection,mode='lines',name=tickers[:-1]))\n",
    "        else:\n",
    "            for item in selection:\n",
    "                fig.add_trace(go.Scatter(x=selection.index, y=selection[item],mode='lines',name=item.upper()))\n",
    "\n",
    "        format_plotly(fig,calculation,data,start,end)\n",
    "        fig.show(autosize=False)\n"
   ]
  },
  {
   "cell_type": "code",
   "execution_count": null,
   "id": "bec78147",
   "metadata": {},
   "outputs": [],
   "source": []
  }
 ],
 "metadata": {
  "kernelspec": {
   "display_name": "Python 3.9.7 64-bit ('base': conda)",
   "language": "python",
   "name": "python397jvsc74a57bd0e896a00ead8b521528d79ac9ef24990696f2b751eb283ab8e0d078c9c4971ffc"
  },
  "language_info": {
   "codemirror_mode": {
    "name": "ipython",
    "version": 3
   },
   "file_extension": ".py",
   "mimetype": "text/x-python",
   "name": "python",
   "nbconvert_exporter": "python",
   "pygments_lexer": "ipython3",
   "version": "3.9.7"
  },
  "metadata": {
   "interpreter": {
    "hash": "e896a00ead8b521528d79ac9ef24990696f2b751eb283ab8e0d078c9c4971ffc"
   }
  }
 },
 "nbformat": 4,
 "nbformat_minor": 5
}
