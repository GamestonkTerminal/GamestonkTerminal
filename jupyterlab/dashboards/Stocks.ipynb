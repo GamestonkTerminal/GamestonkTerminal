{
 "cells": [
  {
   "cell_type": "code",
   "execution_count": 9,
   "metadata": {},
   "outputs": [],
   "source": [
    "from datetime import datetime, timedelta\n",
    "import ipywidgets as widgets\n",
    "import plotly.graph_objs as go\n",
    "import yfinance as yf\n",
    "import pandas as pd\n",
    "from IPython.display import display\n",
    "\n",
    "import plotly.io as pio\n",
    "pio.renderers.default = 'vscode'"
   ]
  },
  {
   "cell_type": "code",
   "execution_count": 10,
   "metadata": {},
   "outputs": [],
   "source": [
    "views = {\n",
    "    \"Raw Data\": lambda x, y: x,\n",
    "    \"Percent Change\": lambda x, y: x.pct_change(),\n",
    "    \"Rolling Average\": lambda x, y: x.rolling(y).mean(),\n",
    "    \"Rolling Variance\": lambda x, y: x.rolling(y).var(),\n",
    "    \"Rolling Standard Deviation\": lambda x, y: x.rolling(y).var() ** 0.5,\n",
    "    \"Rolling Coefficient of Variation\": lambda x, y: (x.rolling(y).var() ** 0.5)\n",
    "    / (x.rolling(y).mean()),\n",
    "}\n",
    "\n",
    "\n",
    "def format_plotly(fig, calc, data, start, end):\n",
    "    fig.update_yaxes(title=None)\n",
    "    fig.update_xaxes(title=None)\n",
    "    fig_title = f\"{calc} of {data} from {start.strftime('%Y/%m/%d')} to {end.strftime('%Y/%m/%d')}\"\n",
    "    fig.update_layout(\n",
    "        autosize=False,\n",
    "        width=1000,\n",
    "        height=500,\n",
    "        title={\n",
    "            \"text\": fig_title,\n",
    "            \"y\": 0.95,\n",
    "            \"x\": 0.5,\n",
    "            \"xanchor\": \"center\",\n",
    "            \"yanchor\": \"top\",\n",
    "        },\n",
    "    )\n",
    "\n",
    "\n",
    "last_tickers = \"\""
   ]
  },
  {
   "cell_type": "code",
   "execution_count": 11,
   "metadata": {},
   "outputs": [
    {
     "data": {
      "application/vnd.jupyter.widget-view+json": {
       "model_id": "4fda6e154e59410c88cc470946956b6e",
       "version_major": 2,
       "version_minor": 0
      },
      "text/plain": "VBox(children=(HTML(value='<h1>Stock Analysis Dashboard</h1>'), VBox(children=(Dropdown(options=('Raw Data', '…"
     },
     "metadata": {},
     "output_type": "display_data"
    }
   ],
   "source": [
    "def view_chart(calculation, data, rolling, start, end, tickers):\n",
    "    global last_tickers, df\n",
    "    if tickers and tickers[-1] == \",\":\n",
    "        if tickers != last_tickers:\n",
    "            df = yf.download(tickers, period=\"max\", progress=False)\n",
    "            last_tickers = tickers\n",
    "\n",
    "        start_n = datetime(start.year, start.month, start.day)\n",
    "        end_n = datetime(end.year, end.month, end.day)\n",
    "        calcs = views[calculation](df[data], rolling)\n",
    "        selection = calcs.loc[(calcs.index >= start_n) & (calcs.index <= end_n)]\n",
    "        fig = go.Figure()\n",
    "\n",
    "        # Probabbly delete this\n",
    "        fig.update_traces(hovertemplate=None, hoverinfo=\"skip\")\n",
    "        if isinstance(selection, pd.Series):\n",
    "            fig.add_trace(\n",
    "                go.Scatter(\n",
    "                    x=selection.index, y=selection, mode=\"lines\", name=tickers[:-1]\n",
    "                )\n",
    "            )\n",
    "        else:\n",
    "            for item in selection:\n",
    "                fig.add_trace(\n",
    "                    go.Scatter(\n",
    "                        x=selection.index,\n",
    "                        y=selection[item],\n",
    "                        mode=\"lines\",\n",
    "                        name=item.upper(),\n",
    "                    )\n",
    "                )\n",
    "\n",
    "        format_plotly(fig, calculation, data, start, end)\n",
    "        fig.show(config={\"showTips\": False})\n",
    "\n",
    "\n",
    "calc_widget = widgets.Dropdown(options=list(views.keys()), value=\"Raw Data\")\n",
    "data_widget = widgets.Dropdown(\n",
    "    options=[\"Open\", \"Close\", \"High\", \"Low\", \"Volume\"], value=\"Close\"\n",
    ")\n",
    "rolling_widget = widgets.Dropdown(options=list(range(2, 101)), value=60)\n",
    "start_widget = widgets.DatePicker(value=datetime.today() - timedelta(days=365))\n",
    "end_widget = widgets.DatePicker(value=datetime.today())\n",
    "tickers_widget = widgets.Text(value=\"TSLA,\")\n",
    "controls = widgets.VBox([calc_widget, data_widget, rolling_widget, start_widget, end_widget, tickers_widget])\n",
    "\n",
    "stocks_view = widgets.interactive_output(\n",
    "    view_chart,\n",
    "    {\"calculation\": calc_widget,\n",
    "    \"data\": data_widget,\n",
    "    \"rolling\": rolling_widget,\n",
    "    \"start\": start_widget,\n",
    "    \"end\": end_widget,\n",
    "    \"tickers\": tickers_widget,\n",
    "    }\n",
    ")\n",
    "\n",
    "\n",
    "grid = widgets.GridspecLayout(2, 2)\n",
    "grid[0, 1] = stocks_view\n",
    "grid[0, 0] = controls\n",
    "\n",
    "title_html = \"\"\"<h1>Stock Analysis Dashboard</h1>\"\"\"\n",
    "app_contents = [widgets.HTML(title_html), controls, stocks_view]\n",
    "app = widgets.VBox(app_contents)\n",
    "\n",
    "display(app)\n"
   ]
  }
 ],
 "metadata": {
  "kernelspec": {
   "display_name": "Python 3.9.7 64-bit ('base': conda)",
   "name": "python397jvsc74a57bd0e896a00ead8b521528d79ac9ef24990696f2b751eb283ab8e0d078c9c4971ffc"
  },
  "language_info": {
   "codemirror_mode": {
    "name": "ipython",
    "version": 3
   },
   "file_extension": ".py",
   "mimetype": "text/x-python",
   "name": "python",
   "nbconvert_exporter": "python",
   "pygments_lexer": "ipython3",
   "version": "3.9.7"
  },
  "metadata": {
   "interpreter": {
    "hash": "e896a00ead8b521528d79ac9ef24990696f2b751eb283ab8e0d078c9c4971ffc"
   }
  }
 },
 "nbformat": 4,
 "nbformat_minor": 5
}