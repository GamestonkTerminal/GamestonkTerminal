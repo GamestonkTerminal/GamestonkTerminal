{
 "cells": [
  {
   "cell_type": "markdown",
   "id": "70ba2c8a",
   "metadata": {},
   "source": [
    "## Notebook setup"
   ]
  },
  {
   "cell_type": "code",
   "execution_count": null,
   "id": "driven-billion",
   "metadata": {},
   "outputs": [],
   "source": [
    "import os\n",
    "import io\n",
    "import warnings\n",
    "import datetime\n",
    "import numpy as np\n",
    "import pandas as pd\n",
    "import base64\n",
    "\n",
    "import matplotlib.pyplot as plt\n",
    "import matplotlib_inline.backend_inline\n",
    "\n",
    "import sys\n",
    "sys.path.append('../../../')\n",
    "\n",
    "from openbb_terminal import api as openbb\n",
    "from openbb_terminal.helper_classes import TerminalStyle\n",
    "\n",
    "%matplotlib inline\n",
    "matplotlib_inline.backend_inline.set_matplotlib_formats(\"svg\")\n",
    "warnings.filterwarnings(\"ignore\")"
   ]
  },
  {
   "cell_type": "code",
   "execution_count": null,
   "id": "c3fe7db5-ec6a-42cf-9e66-52dc1de22370",
   "metadata": {},
   "outputs": [],
   "source": [
    "try:\n",
    "    theme = TerminalStyle(\"dark\", \"dark\", \"dark\")\n",
    "except:\n",
    "    pass\n",
    "stylesheet = openbb.widgets.html_report_stylesheet()\n",
    "# with open(\"./OpenBB_reports_logo.png\", \"rb\") as image_file:\n",
    "with open(\"../../reports/OpenBB_reports_logo.png\", \"rb\") as image_file:\n",
    "    openbb_image_encoded = base64.b64encode(image_file.read())"
   ]
  },
  {
   "cell_type": "code",
   "execution_count": null,
   "id": "d6aa8b34-aa60-45ce-8ba0-0182addffab8",
   "metadata": {},
   "outputs": [],
   "source": [
    "author = \"Minh Hoang\"\n",
    "report_title = f\"LUNATICS REPORT\"\n",
    "report_date =  datetime.datetime.now().strftime('%d %B, %Y')\n",
    "report_time =  datetime.datetime.now().strftime('%H:%M') \n",
    "report_timezone = datetime.datetime.now(datetime.timezone.utc).astimezone().tzinfo\n",
    "report_name = \"luna_crash\""
   ]
  },
  {
   "cell_type": "code",
   "execution_count": null,
   "id": "abfe37e4-ea38-42c3-8fb5-7cceb233fb12",
   "metadata": {},
   "outputs": [],
   "source": [
    "body = \"\"\n",
    "\n",
    "img = f'<img src=\"data:image/png;base64,{openbb_image_encoded.decode()}\" alt=\"OpenBB\" style=\"width:144px;\">'\n",
    "body += openbb.widgets.header(img, author, report_date, report_time, report_timezone, f'<b>{report_name}</b>')\n",
    "\n",
    "body += openbb.widgets.tablinks([\"Overview\", \"Before\", \"During\", \"After\"])"
   ]
  },
  {
   "cell_type": "code",
   "execution_count": null,
   "id": "381b353b-3e01-4db7-ab3d-429b5785e98e",
   "metadata": {},
   "outputs": [],
   "source": [
    "# OVERVIEW\n",
    "text = \"\"\"Over the past few days, we witnessed the bank run of the largest decentralized stablecoin, UST, together with the demise of LUNA. \n",
    "Its effect was spread over the entire Terra ecosystem as well as the entire crypto market. \n",
    "\"\"\"\n",
    "htmlcode = openbb.widgets.p(text, \"width:1200px; margin-bottom:8px\")\n",
    "body += openbb.widgets.add_tab(\"Overview\", htmlcode, False)"
   ]
  },
  {
   "cell_type": "code",
   "execution_count": null,
   "id": "adc40a71-f245-4542-a303-fbf0970b9759",
   "metadata": {},
   "outputs": [],
   "source": [
    "# BEFORE\n",
    "htmlcode = openbb.widgets.add_external_fig(\"./luna_supply.png\", \"width:500px; margin-bottom:16px\")\n",
    "text = \"\"\"Just a few weeks ago, LUNA and the Terra ecosystem are still the darlings of crypto investors.</br> \n",
    "Experiencing a 20,000% increase since the beginning of 2021, LUNA reached its ATH of $119 in January 2021.\n",
    "\"\"\"\n",
    "htmlcode += openbb.widgets.p(text, \"width:1200px; margin-bottom:8px\")\n",
    "htmlcode += openbb.widgets.add_external_fig(\"./coin_highs.png\", \"width:500px; margin-bottom:16px\")\n",
    "text = \"\"\"On the other hand, Terra ecosystem was the second biggest smart contract platform in terms of total value lock, with almost $22 billion. \n",
    "The biggest dApps is Anchor, a lending and borrowing protocol offering up to 20% APY.\n",
    "\"\"\"\n",
    "htmlcode += openbb.widgets.p(text, \"width:1200px; margin-bottom:8px\")\n",
    "htmlcode += openbb.widgets.add_external_fig(\"./tvl.png\", \"width:500px; margin-bottom:16px\")\n",
    "body += openbb.widgets.add_tab(\"Before\", htmlcode, False)"
   ]
  },
  {
   "cell_type": "code",
   "execution_count": null,
   "id": "e08062d0-cc29-4308-87c6-b54d5d7339a7",
   "metadata": {},
   "outputs": [],
   "source": [
    "# DURING\n",
    "htmlcode = openbb.widgets.add_external_fig(\"./luna_terra.png\", \"width:500px;\")\n",
    "htmlcode += openbb.widgets.add_external_fig(\"./ust_terra.png\", \"width:500px; margin-left:2em\")\n",
    "text = \"\"\"\n",
    "How did Luna lose its price so much? To explain this, we first have to understand the price stabilization mechanism supply control by Terra's algorithm.\n",
    "</br></br> \n",
    "Unlike a centralized stablecoin, UST is decentralized, which means that there’s no collaterals backing its price. To keep the peg against USD, LUNA plays the main role, using the mint and burn mechanism. \n",
    "</br> \n",
    "- To mint 100$ worth of UST,  Terra will have to burn $100 worth of LUNA to generate those 100 UST.\n",
    "- With LUNA, 100 UST will always be worth $100.\n",
    "</br> </br> \n",
    "For example, if the price of UST falls below $1, it would cost less than $ to buy LUNA with UST, but could sell LUNA for a larger amount. This causes the demand for UST (to buy LUNA) to increase and causes the price of UST to rise back to $1.\n",
    "</br> </br> \n",
    "However, this mechanism also has a weakness: if the supply of UST increases rapidly, the price of UST decreases, triggering the burning of UST to mint LUNA, the supply of LUNA increases suddenly while the market is gloomy, then the price of LUNA will fell miserably because not too many people were willing to take $ to buy LUNA.\n",
    "</br> </br> \n",
    "Actual situation: the supply of UST suddenly increased after the fact that whales sold 285 million UST, causing the price of UST to fall below $ 1 for too long, many people panicked and withdrew 1/3 of UST - more than 4 billion UST on Anchor Protocol for sale), the price of UST is continuously falling, promoting the Terra protocol to continuously burn UST and mint LUNA. => The supply of LUNA suddenly increased while the market was gloomy, causing the price of LUNA to fall freely and the wider the panic spread, the more the LUNA price returned to the \"stone age\".\n",
    "In short, it is easier to sell $, gold or ETH than to sell LUNA suddenly.\n",
    "\"\"\"\n",
    "htmlcode += openbb.widgets.p(text, \"width:1200px; margin-bottom:8px; margin-top:16px\")\n",
    "body += openbb.widgets.add_tab(\"During\", htmlcode, False)"
   ]
  },
  {
   "cell_type": "code",
   "execution_count": null,
   "id": "660ea74b-316a-45b0-af95-ee0a4ec162ef",
   "metadata": {},
   "outputs": [],
   "source": [
    "# AFTER\n",
    "text = \"Do Kwon's plan. Regulations. Investor's confidence\"\n",
    "htmlcode = openbb.widgets.p(text, \"width:1200px; margin-bottom:8px; margin-top:16px\")\n",
    "body += openbb.widgets.add_tab(\"After\", htmlcode, False)"
   ]
  },
  {
   "cell_type": "code",
   "execution_count": null,
   "id": "5ddfca2f-658c-41ae-be37-e588cd2daa37",
   "metadata": {},
   "outputs": [],
   "source": [
    "body += openbb.widgets.tab_clickable_evt()\n",
    "\n",
    "report = openbb.widgets.html_report(title=report_name, stylesheet=stylesheet, body=body)\n",
    "\n",
    "# to save the results\n",
    "with open(report_name + \".html\", \"w\") as fh:\n",
    "    fh.write(report)"
   ]
  },
  {
   "cell_type": "code",
   "execution_count": null,
   "id": "e15cef06-0d10-4153-b6d3-9762be0ed1dd",
   "metadata": {},
   "outputs": [],
   "source": []
  }
 ],
 "metadata": {
  "celltoolbar": "Tags",
  "interpreter": {
   "hash": "aa1c4d436101635411b2afa2ce061827695b6e3d0efa7f05338cbf11ad26165e"
  },
  "kernelspec": {
   "display_name": "Python 3 (ipykernel)",
   "language": "python",
   "name": "python3"
  },
  "language_info": {
   "codemirror_mode": {
    "name": "ipython",
    "version": 3
   },
   "file_extension": ".py",
   "mimetype": "text/x-python",
   "name": "python",
   "nbconvert_exporter": "python",
   "pygments_lexer": "ipython3",
   "version": "3.8.6"
  }
 },
 "nbformat": 4,
 "nbformat_minor": 5
}
