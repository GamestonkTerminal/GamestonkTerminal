{
 "cells": [
  {
   "cell_type": "markdown",
   "id": "70ba2c8a",
   "metadata": {},
   "source": [
    "## Notebook setup"
   ]
  },
  {
   "cell_type": "code",
   "execution_count": null,
   "id": "driven-billion",
   "metadata": {},
   "outputs": [],
   "source": [
    "import os\n",
    "import io\n",
    "import warnings\n",
    "import datetime\n",
    "import numpy as np\n",
    "import base64\n",
    "\n",
    "import matplotlib.pyplot as plt\n",
    "import matplotlib_inline.backend_inline\n",
    "\n",
    "from IPython.display import HTML\n",
    "\n",
    "# import sys\n",
    "# sys.path.append('../../')\n",
    "\n",
    "from openbb_terminal.api import widgets\n",
    "from openbb_terminal.api import openbb\n",
    "from openbb_terminal.helper_classes import TerminalStyle\n",
    "\n",
    "%matplotlib inline\n",
    "matplotlib_inline.backend_inline.set_matplotlib_formats(\"svg\")\n",
    "warnings.filterwarnings(\"ignore\")\n",
    "\n",
    "# Detect if prediction capabilities are present. If they are not, disable prediction in the rest of the script\n",
    "# so that the report can still be generated without prediction results.\n",
    "# predictions = True\n",
    "# try:\n",
    "#     openbb.stocks.pred.models\n",
    "# except Exception as e:\n",
    "#     predictions = False\n",
    "\n",
    "# TODO Fix predictions virtual path on api refactored\n",
    "\n",
    "predictions = False"
   ]
  },
  {
   "cell_type": "code",
   "execution_count": null,
   "id": "c3fe7db5-ec6a-42cf-9e66-52dc1de22370",
   "metadata": {},
   "outputs": [],
   "source": [
    "try:\n",
    "    theme = TerminalStyle(\"light\", \"light\", \"light\")\n",
    "except:\n",
    "    pass\n",
    "stylesheet = widgets.html_report_stylesheet()\n",
    "with open(\"./openbb_terminal/reports/OpenBB_reports_logo.png\", \"rb\") as image_file:\n",
    "    openbb_image_encoded = base64.b64encode(image_file.read())"
   ]
  },
  {
   "cell_type": "markdown",
   "id": "807fda4e",
   "metadata": {},
   "source": [
    "## Select symbol"
   ]
  },
  {
   "cell_type": "code",
   "execution_count": null,
   "id": "intended-sherman",
   "metadata": {
    "tags": [
     "parameters"
    ]
   },
   "outputs": [],
   "source": [
    "# Parameters that will be replaced when calling this notebook\n",
    "symbol = \"TSLA\"\n",
    "report_name = \"\""
   ]
  },
  {
   "cell_type": "code",
   "execution_count": null,
   "id": "a441ddbc-d75b-4a18-84d4-e01b677674d3",
   "metadata": {},
   "outputs": [],
   "source": [
    "if \".\" in symbol:\n",
    "    import sys\n",
    "\n",
    "    sys.exit(0)"
   ]
  },
  {
   "cell_type": "code",
   "execution_count": null,
   "id": "1be26dae-cafe-4a22-80aa-eff296fc1a9b",
   "metadata": {},
   "outputs": [],
   "source": [
    "ticker_data = openbb.stocks.load(\n",
    "    symbol=symbol, start_date=datetime.datetime.now() - datetime.timedelta(days=4 * 30)\n",
    ")\n",
    "ticker_data = openbb.stocks.process_candle(df=ticker_data)\n",
    "\n",
    "author = \"Didier Rodrigues Lopes\"\n",
    "report_title = f\"INVESTMENT RESEARCH REPORT ON {symbol.upper()}\"\n",
    "report_date = datetime.datetime.now().strftime(\"%d %B, %Y\")\n",
    "report_time = datetime.datetime.now().strftime(\"%H:%M\")\n",
    "report_timezone = datetime.datetime.now(datetime.timezone.utc).astimezone().tzinfo\n",
    "report_title, report_date, report_time, report_timezone"
   ]
  },
  {
   "cell_type": "code",
   "execution_count": null,
   "id": "e3b15d6f-dc9e-4f97-aa07-37d949a4e4bb",
   "metadata": {},
   "outputs": [],
   "source": [
    "info = openbb.stocks.fa.info(symbol=symbol).transpose()\n",
    "\n",
    "if info[\"Long business summary\"][0] != \"NA\":\n",
    "    overview = info[\"Long business summary\"][0]\n",
    "else:\n",
    "    overview = info[\"Long name\"][0]\n",
    "overview"
   ]
  },
  {
   "cell_type": "markdown",
   "id": "f8a0d747",
   "metadata": {},
   "source": [
    "## Data"
   ]
  },
  {
   "cell_type": "code",
   "execution_count": null,
   "id": "aca4b6ef",
   "metadata": {},
   "outputs": [],
   "source": [
    "(\n",
    "    df_year_estimates,\n",
    "    df_quarter_earnings,\n",
    "    df_quarter_revenues,\n",
    ") = openbb.stocks.dd.est(symbol=symbol)"
   ]
  },
  {
   "cell_type": "code",
   "execution_count": null,
   "id": "c0f0a1ca",
   "metadata": {},
   "outputs": [],
   "source": [
    "display_year = sorted(df_year_estimates.columns.tolist())[:3]\n",
    "df_year_estimates = df_year_estimates[display_year].head(5)\n",
    "df_year_estimates"
   ]
  },
  {
   "cell_type": "code",
   "execution_count": null,
   "id": "38e38d7c",
   "metadata": {},
   "outputs": [],
   "source": [
    "quote_data = openbb.stocks.quote(symbol)\n",
    "quote_data"
   ]
  },
  {
   "cell_type": "code",
   "execution_count": null,
   "id": "fde46353",
   "metadata": {},
   "outputs": [],
   "source": [
    "df_quarter_revenues"
   ]
  },
  {
   "cell_type": "code",
   "execution_count": null,
   "id": "51dfd9d2",
   "metadata": {},
   "outputs": [],
   "source": [
    "(\n",
    "    df_major_holders,\n",
    "    df_institutional_shareholders,\n",
    "    df_mutualfund_shareholders,\n",
    ") = openbb.stocks.fa.shrs(symbol)\n",
    "df_institutional_shareholders.index += 1\n",
    "df_institutional_shareholders"
   ]
  },
  {
   "cell_type": "code",
   "execution_count": null,
   "id": "3022130e",
   "metadata": {},
   "outputs": [],
   "source": [
    "df_sec_filings = openbb.stocks.dd.sec(symbol=symbol)[\n",
    "    [\"Type\", \"Category\", \"Link\"]\n",
    "].head(5)\n",
    "df_sec_filings[\"Link\"] = df_sec_filings[\"Link\"].apply(\n",
    "    lambda x: f'<a href=\"{x}\">{x}</a>'\n",
    ")\n",
    "df_sec_filings"
   ]
  },
  {
   "cell_type": "code",
   "execution_count": null,
   "id": "4662b1ac",
   "metadata": {},
   "outputs": [],
   "source": [
    "df_analyst = openbb.stocks.dd.analyst(symbol=symbol)\n",
    "if not df_analyst.empty:\n",
    "    if \"target\" in df_analyst.columns:\n",
    "        df_analyst[\"target_to\"] = df_analyst[\"target_to\"].combine_first(\n",
    "            df_analyst[\"target\"]\n",
    "        )\n",
    "    df_analyst = df_analyst[[\"category\", \"analyst\", \"rating\", \"target_to\"]].rename(\n",
    "        columns={\n",
    "            \"category\": \"Category\",\n",
    "            \"analyst\": \"Analyst\",\n",
    "            \"rating\": \"Rating\",\n",
    "            \"target_to\": \"Price Target\",\n",
    "        }\n",
    "    )\n",
    "df_analyst"
   ]
  },
  {
   "cell_type": "code",
   "execution_count": 52,
   "id": "324e2d4b-b2f6-4da3-bac4-ef785ad4e436",
   "metadata": {},
   "outputs": [
    {
     "data": {
      "text/html": [
       "<pre style=\"white-space:pre;overflow-x:auto;line-height:normal;font-family:Menlo,'DejaVu Sans Mono',consolas,'Courier New',monospace\">\n",
       "</pre>\n"
      ],
      "text/plain": [
       "\n"
      ]
     },
     "metadata": {},
     "output_type": "display_data"
    },
    {
     "data": {
      "image/svg+xml": "<?xml version=\"1.0\" encoding=\"utf-8\" standalone=\"no\"?>\n<!DOCTYPE svg PUBLIC \"-//W3C//DTD SVG 1.1//EN\"\n  \"http://www.w3.org/Graphics/SVG/1.1/DTD/svg11.dtd\">\n<svg xmlns:xlink=\"http://www.w3.org/1999/xlink\" width=\"777.205452pt\" height=\"345.642245pt\" viewBox=\"0 0 777.205452 345.642245\" xmlns=\"http://www.w3.org/2000/svg\" version=\"1.1\">\n <metadata>\n  <rdf:RDF xmlns:dc=\"http://purl.org/dc/elements/1.1/\" xmlns:cc=\"http://creativecommons.org/ns#\" xmlns:rdf=\"http://www.w3.org/1999/02/22-rdf-syntax-ns#\">\n   <cc:Work>\n    <dc:type rdf:resource=\"http://purl.org/dc/dcmitype/StillImage\"/>\n    <dc:date>2022-08-25T15:30:08.129635</dc:date>\n    <dc:format>image/svg+xml</dc:format>\n    <dc:creator>\n     <cc:Agent>\n      <dc:title>Matplotlib v3.5.2, https://matplotlib.org/</dc:title>\n     </cc:Agent>\n    </dc:creator>\n   </cc:Work>\n  </rdf:RDF>\n </metadata>\n <defs>\n  <style type=\"text/css\">*{stroke-linejoin: round; stroke-linecap: butt}</style>\n </defs>\n <g id=\"figure_1\">\n  <g id=\"patch_1\">\n   <path d=\"M 0 345.642245 \nL 777.205452 345.642245 \nL 777.205452 0 \nL 0 0 \nz\n\" style=\"fill: #ffffff\"/>\n  </g>\n  <g id=\"axes_1\">\n   <g id=\"patch_2\">\n    <path d=\"M 56.598097 313.109728 \nL 714.653097 313.109728 \nL 714.653097 23.964 \nL 56.598097 23.964 \nz\n\" style=\"fill: #ffffff\"/>\n   </g>\n   <g id=\"patch_3\">\n    <path d=\"M -1283.640586 129.213834 \nL -1279.253553 129.213834 \nL -1279.253553 149.269408 \nL -1283.640586 149.269408 \nz\n\" clip-path=\"url(#pabadc0df42)\" style=\"fill: #e4003a\"/>\n   </g>\n   <g id=\"patch_4\">\n    <path d=\"M -1278.156795 129.213834 \nL -1273.769761 129.213834 \nL -1273.769761 146.275769 \nL -1278.156795 146.275769 \nz\n\" clip-path=\"url(#pabadc0df42)\" style=\"fill: #e4003a\"/>\n   </g>\n   <g id=\"patch_5\">\n    <path d=\"M -1272.673003 129.213834 \nL -1268.28597 129.213834 \nL -1268.28597 148.500825 \nL -1272.673003 148.500825 \nz\n\" clip-path=\"url(#pabadc0df42)\" style=\"fill: #e4003a\"/>\n   </g>\n   <g id=\"patch_6\">\n    <path d=\"M -1256.221628 129.213834 \nL -1251.834595 129.213834 \nL -1251.834595 158.685472 \nL -1256.221628 158.685472 \nz\n\" clip-path=\"url(#pabadc0df42)\" style=\"fill: #e4003a\"/>\n   </g>\n   <g id=\"patch_7\">\n    <path d=\"M -1250.737836 129.213834 \nL -1246.350803 129.213834 \nL -1246.350803 152.352837 \nL -1250.737836 152.352837 \nz\n\" clip-path=\"url(#pabadc0df42)\" style=\"fill: #e4003a\"/>\n   </g>\n   <g id=\"patch_8\">\n    <path d=\"M -1245.254045 129.213834 \nL -1240.867011 129.213834 \nL -1240.867011 144.352436 \nL -1245.254045 144.352436 \nz\n\" clip-path=\"url(#pabadc0df42)\" style=\"fill: #e4003a\"/>\n   </g>\n   <g id=\"patch_9\">\n    <path d=\"M -1239.770253 129.213834 \nL -1235.38322 129.213834 \nL -1235.38322 155.670601 \nL -1239.770253 155.670601 \nz\n\" clip-path=\"url(#pabadc0df42)\" style=\"fill: #e4003a\"/>\n   </g>\n   <g id=\"patch_10\">\n    <path d=\"M -1234.286461 129.213834 \nL -1229.899428 129.213834 \nL -1229.899428 146.203975 \nL -1234.286461 146.203975 \nz\n\" clip-path=\"url(#pabadc0df42)\" style=\"fill: #e4003a\"/>\n   </g>\n   <g id=\"patch_11\">\n    <path d=\"M -1212.351295 129.213834 \nL -1207.964261 129.213834 \nL -1207.964261 158.095452 \nL -1212.351295 158.095452 \nz\n\" clip-path=\"url(#pabadc0df42)\" style=\"fill: #e4003a\"/>\n   </g>\n   <g id=\"patch_12\">\n    <path d=\"M -1206.867503 129.213834 \nL -1202.48047 129.213834 \nL -1202.48047 161.341689 \nL -1206.867503 161.341689 \nz\n\" clip-path=\"url(#pabadc0df42)\" style=\"fill: #e4003a\"/>\n   </g>\n   <g id=\"patch_13\">\n    <path d=\"M -1201.383711 129.213834 \nL -1196.996678 129.213834 \nL -1196.996678 137.308865 \nL -1201.383711 137.308865 \nz\n\" clip-path=\"url(#pabadc0df42)\" style=\"fill: #e4003a\"/>\n   </g>\n   <g id=\"patch_14\">\n    <path d=\"M -1195.89992 129.213834 \nL -1191.512886 129.213834 \nL -1191.512886 149.163354 \nL -1195.89992 149.163354 \nz\n\" clip-path=\"url(#pabadc0df42)\" style=\"fill: #e4003a\"/>\n   </g>\n   <g id=\"patch_15\">\n    <path d=\"M -1179.448545 129.213834 \nL -1175.061511 129.213834 \nL -1175.061511 160.063873 \nL -1179.448545 160.063873 \nz\n\" clip-path=\"url(#pabadc0df42)\" style=\"fill: #e4003a\"/>\n   </g>\n   <g id=\"patch_16\">\n    <path d=\"M -1173.964753 129.213834 \nL -1169.57772 129.213834 \nL -1169.57772 154.706997 \nL -1173.964753 154.706997 \nz\n\" clip-path=\"url(#pabadc0df42)\" style=\"fill: #e4003a\"/>\n   </g>\n   <g id=\"patch_17\">\n    <path d=\"M -1168.480961 129.213834 \nL -1164.093928 129.213834 \nL -1164.093928 158.43274 \nL -1168.480961 158.43274 \nz\n\" clip-path=\"url(#pabadc0df42)\" style=\"fill: #e4003a\"/>\n   </g>\n   <g id=\"patch_18\">\n    <path d=\"M -1162.99717 129.213834 \nL -1158.610136 129.213834 \nL -1158.610136 140.024386 \nL -1162.99717 140.024386 \nz\n\" clip-path=\"url(#pabadc0df42)\" style=\"fill: #e4003a\"/>\n   </g>\n   <g id=\"patch_19\">\n    <path d=\"M -1157.513378 129.213834 \nL -1153.126345 129.213834 \nL -1153.126345 129.628384 \nL -1157.513378 129.628384 \nz\n\" clip-path=\"url(#pabadc0df42)\" style=\"fill: #e4003a\"/>\n   </g>\n   <g id=\"patch_20\">\n    <path d=\"M -1141.062003 129.213834 \nL -1136.67497 129.213834 \nL -1136.67497 166.338006 \nL -1141.062003 166.338006 \nz\n\" clip-path=\"url(#pabadc0df42)\" style=\"fill: #e4003a\"/>\n   </g>\n   <g id=\"patch_21\">\n    <path d=\"M -1135.578211 129.213834 \nL -1131.191178 129.213834 \nL -1131.191178 173.792007 \nL -1135.578211 173.792007 \nz\n\" clip-path=\"url(#pabadc0df42)\" style=\"fill: #e4003a\"/>\n   </g>\n   <g id=\"patch_22\">\n    <path d=\"M -1130.09442 129.213834 \nL -1125.707386 129.213834 \nL -1125.707386 161.380479 \nL -1130.09442 161.380479 \nz\n\" clip-path=\"url(#pabadc0df42)\" style=\"fill: #e4003a\"/>\n   </g>\n   <g id=\"patch_23\">\n    <path d=\"M -1124.610628 129.213834 \nL -1120.223595 129.213834 \nL -1120.223595 142.398206 \nL -1124.610628 142.398206 \nz\n\" clip-path=\"url(#pabadc0df42)\" style=\"fill: #e4003a\"/>\n   </g>\n   <g id=\"patch_24\">\n    <path d=\"M -1119.126836 129.213834 \nL -1114.739803 129.213834 \nL -1114.739803 157.439632 \nL -1119.126836 157.439632 \nz\n\" clip-path=\"url(#pabadc0df42)\" style=\"fill: #e4003a\"/>\n   </g>\n   <g id=\"patch_25\">\n    <path d=\"M -1102.675461 129.213834 \nL -1098.288428 129.213834 \nL -1098.288428 171.555646 \nL -1102.675461 171.555646 \nz\n\" clip-path=\"url(#pabadc0df42)\" style=\"fill: #e4003a\"/>\n   </g>\n   <g id=\"patch_26\">\n    <path d=\"M -1097.19167 129.213834 \nL -1092.804636 129.213834 \nL -1092.804636 172.691555 \nL -1097.19167 172.691555 \nz\n\" clip-path=\"url(#pabadc0df42)\" style=\"fill: #e4003a\"/>\n   </g>\n   <g id=\"patch_27\">\n    <path d=\"M -1091.707878 129.213834 \nL -1087.320845 129.213834 \nL -1087.320845 165.137528 \nL -1091.707878 165.137528 \nz\n\" clip-path=\"url(#pabadc0df42)\" style=\"fill: #e4003a\"/>\n   </g>\n   <g id=\"patch_28\">\n    <path d=\"M -1086.224086 129.213834 \nL -1081.837053 129.213834 \nL -1081.837053 145.900561 \nL -1086.224086 145.900561 \nz\n\" clip-path=\"url(#pabadc0df42)\" style=\"fill: #e4003a\"/>\n   </g>\n   <g id=\"patch_29\">\n    <path d=\"M -1080.740295 129.213834 \nL -1076.353261 129.213834 \nL -1076.353261 140.136274 \nL -1080.740295 140.136274 \nz\n\" clip-path=\"url(#pabadc0df42)\" style=\"fill: #e4003a\"/>\n   </g>\n   <g id=\"patch_30\">\n    <path d=\"M -1064.28892 129.213834 \nL -1059.901886 129.213834 \nL -1059.901886 220.553652 \nL -1064.28892 220.553652 \nz\n\" clip-path=\"url(#pabadc0df42)\" style=\"fill: #e4003a\"/>\n   </g>\n   <g id=\"patch_31\">\n    <path d=\"M -1058.805128 129.213834 \nL -1054.418095 129.213834 \nL -1054.418095 166.915833 \nL -1058.805128 166.915833 \nz\n\" clip-path=\"url(#pabadc0df42)\" style=\"fill: #e4003a\"/>\n   </g>\n   <g id=\"patch_32\">\n    <path d=\"M -1053.321336 129.213834 \nL -1048.934303 129.213834 \nL -1048.934303 150.999023 \nL -1053.321336 150.999023 \nz\n\" clip-path=\"url(#pabadc0df42)\" style=\"fill: #e4003a\"/>\n   </g>\n   <g id=\"patch_33\">\n    <path d=\"M -1047.837545 129.213834 \nL -1043.450511 129.213834 \nL -1043.450511 157.302223 \nL -1047.837545 157.302223 \nz\n\" clip-path=\"url(#pabadc0df42)\" style=\"fill: #e4003a\"/>\n   </g>\n   <g id=\"patch_34\">\n    <path d=\"M -1042.353753 129.213834 \nL -1037.96672 129.213834 \nL -1037.96672 144.853189 \nL -1042.353753 144.853189 \nz\n\" clip-path=\"url(#pabadc0df42)\" style=\"fill: #e4003a\"/>\n   </g>\n   <g id=\"patch_35\">\n    <path d=\"M -1025.902378 129.213834 \nL -1021.515345 129.213834 \nL -1021.515345 150.277226 \nL -1025.902378 150.277226 \nz\n\" clip-path=\"url(#pabadc0df42)\" style=\"fill: #e4003a\"/>\n   </g>\n   <g id=\"patch_36\">\n    <path d=\"M -1020.418586 129.213834 \nL -1016.031553 129.213834 \nL -1016.031553 146.191256 \nL -1020.418586 146.191256 \nz\n\" clip-path=\"url(#pabadc0df42)\" style=\"fill: #e4003a\"/>\n   </g>\n   <g id=\"patch_37\">\n    <path d=\"M -1014.934795 129.213834 \nL -1010.547761 129.213834 \nL -1010.547761 140.520848 \nL -1014.934795 140.520848 \nz\n\" clip-path=\"url(#pabadc0df42)\" style=\"fill: #e4003a\"/>\n   </g>\n   <g id=\"patch_38\">\n    <path d=\"M -1009.451003 129.213834 \nL -1005.06397 129.213834 \nL -1005.06397 123.818642 \nL -1009.451003 123.818642 \nz\n\" clip-path=\"url(#pabadc0df42)\" style=\"fill: #e4003a\"/>\n   </g>\n   <g id=\"patch_39\">\n    <path d=\"M -1003.967211 129.213834 \nL -999.580178 129.213834 \nL -999.580178 149.06557 \nL -1003.967211 149.06557 \nz\n\" clip-path=\"url(#pabadc0df42)\" style=\"fill: #e4003a\"/>\n   </g>\n   <g id=\"patch_40\">\n    <path d=\"M -987.515836 129.213834 \nL -983.128803 129.213834 \nL -983.128803 155.184175 \nL -987.515836 155.184175 \nz\n\" clip-path=\"url(#pabadc0df42)\" style=\"fill: #e4003a\"/>\n   </g>\n   <g id=\"patch_41\">\n    <path d=\"M -982.032045 129.213834 \nL -977.645011 129.213834 \nL -977.645011 157.246314 \nL -982.032045 157.246314 \nz\n\" clip-path=\"url(#pabadc0df42)\" style=\"fill: #e4003a\"/>\n   </g>\n   <g id=\"patch_42\">\n    <path d=\"M -976.548253 129.213834 \nL -972.16122 129.213834 \nL -972.16122 151.990268 \nL -976.548253 151.990268 \nz\n\" clip-path=\"url(#pabadc0df42)\" style=\"fill: #e4003a\"/>\n   </g>\n   <g id=\"patch_43\">\n    <path d=\"M -971.064461 129.213834 \nL -966.677428 129.213834 \nL -966.677428 202.783954 \nL -971.064461 202.783954 \nz\n\" clip-path=\"url(#pabadc0df42)\" style=\"fill: #e4003a\"/>\n   </g>\n   <g id=\"patch_44\">\n    <path d=\"M -965.58067 129.213834 \nL -961.193636 129.213834 \nL -961.193636 168.088309 \nL -965.58067 168.088309 \nz\n\" clip-path=\"url(#pabadc0df42)\" style=\"fill: #e4003a\"/>\n   </g>\n   <g id=\"patch_45\">\n    <path d=\"M -949.129295 129.213834 \nL -944.742261 129.213834 \nL -944.742261 213.420832 \nL -949.129295 213.420832 \nz\n\" clip-path=\"url(#pabadc0df42)\" style=\"fill: #e4003a\"/>\n   </g>\n   <g id=\"patch_46\">\n    <path d=\"M -943.645503 129.213834 \nL -939.25847 129.213834 \nL -939.25847 203.497869 \nL -943.645503 203.497869 \nz\n\" clip-path=\"url(#pabadc0df42)\" style=\"fill: #e4003a\"/>\n   </g>\n   <g id=\"patch_47\">\n    <path d=\"M -938.161711 129.213834 \nL -933.774678 129.213834 \nL -933.774678 152.899221 \nL -938.161711 152.899221 \nz\n\" clip-path=\"url(#pabadc0df42)\" style=\"fill: #e4003a\"/>\n   </g>\n   <g id=\"patch_48\">\n    <path d=\"M -932.67792 129.213834 \nL -928.290886 129.213834 \nL -928.290886 151.251137 \nL -932.67792 151.251137 \nz\n\" clip-path=\"url(#pabadc0df42)\" style=\"fill: #e4003a\"/>\n   </g>\n   <g id=\"patch_49\">\n    <path d=\"M -927.194128 129.213834 \nL -922.807095 129.213834 \nL -922.807095 182.174607 \nL -927.194128 182.174607 \nz\n\" clip-path=\"url(#pabadc0df42)\" style=\"fill: #e4003a\"/>\n   </g>\n   <g id=\"patch_50\">\n    <path d=\"M -910.742753 129.213834 \nL -906.35572 129.213834 \nL -906.35572 127.932249 \nL -910.742753 127.932249 \nz\n\" clip-path=\"url(#pabadc0df42)\" style=\"fill: #e4003a\"/>\n   </g>\n   <g id=\"patch_51\">\n    <path d=\"M -905.258961 129.213834 \nL -900.871928 129.213834 \nL -900.871928 63.123348 \nL -905.258961 63.123348 \nz\n\" clip-path=\"url(#pabadc0df42)\" style=\"fill: #e4003a\"/>\n   </g>\n   <g id=\"patch_52\">\n    <path d=\"M -899.77517 129.213834 \nL -895.388136 129.213834 \nL -895.388136 37.106988 \nL -899.77517 37.106988 \nz\n\" clip-path=\"url(#pabadc0df42)\" style=\"fill: #e4003a\"/>\n   </g>\n   <g id=\"patch_53\">\n    <path d=\"M -894.291378 129.213834 \nL -889.904345 129.213834 \nL -889.904345 114.707906 \nL -894.291378 114.707906 \nz\n\" clip-path=\"url(#pabadc0df42)\" style=\"fill: #e4003a\"/>\n   </g>\n   <g id=\"patch_54\">\n    <path d=\"M -888.807586 129.213834 \nL -884.420553 129.213834 \nL -884.420553 130.849193 \nL -888.807586 130.849193 \nz\n\" clip-path=\"url(#pabadc0df42)\" style=\"fill: #e4003a\"/>\n   </g>\n   <g id=\"patch_55\">\n    <path d=\"M -872.356211 129.213834 \nL -867.969178 129.213834 \nL -867.969178 165.78553 \nL -872.356211 165.78553 \nz\n\" clip-path=\"url(#pabadc0df42)\" style=\"fill: #e4003a\"/>\n   </g>\n   <g id=\"patch_56\">\n    <path d=\"M -866.87242 129.213834 \nL -862.485386 129.213834 \nL -862.485386 271.897252 \nL -866.87242 271.897252 \nz\n\" clip-path=\"url(#pabadc0df42)\" style=\"fill: #e4003a\"/>\n   </g>\n   <g id=\"patch_57\">\n    <path d=\"M -861.388628 129.213834 \nL -857.001595 129.213834 \nL -857.001595 196.606665 \nL -861.388628 196.606665 \nz\n\" clip-path=\"url(#pabadc0df42)\" style=\"fill: #e4003a\"/>\n   </g>\n   <g id=\"patch_58\">\n    <path d=\"M -855.904836 129.213834 \nL -851.517803 129.213834 \nL -851.517803 153.054543 \nL -855.904836 153.054543 \nz\n\" clip-path=\"url(#pabadc0df42)\" style=\"fill: #e4003a\"/>\n   </g>\n   <g id=\"patch_59\">\n    <path d=\"M -850.421045 129.213834 \nL -846.034011 129.213834 \nL -846.034011 174.277814 \nL -850.421045 174.277814 \nz\n\" clip-path=\"url(#pabadc0df42)\" style=\"fill: #e4003a\"/>\n   </g>\n   <g id=\"patch_60\">\n    <path d=\"M -833.96967 129.213834 \nL -829.582636 129.213834 \nL -829.582636 181.898827 \nL -833.96967 181.898827 \nz\n\" clip-path=\"url(#pabadc0df42)\" style=\"fill: #e4003a\"/>\n   </g>\n   <g id=\"patch_61\">\n    <path d=\"M -828.485878 129.213834 \nL -824.098845 129.213834 \nL -824.098845 183.358957 \nL -828.485878 183.358957 \nz\n\" clip-path=\"url(#pabadc0df42)\" style=\"fill: #e4003a\"/>\n   </g>\n   <g id=\"patch_62\">\n    <path d=\"M -823.002086 129.213834 \nL -818.615053 129.213834 \nL -818.615053 176.332687 \nL -823.002086 176.332687 \nz\n\" clip-path=\"url(#pabadc0df42)\" style=\"fill: #e4003a\"/>\n   </g>\n   <g id=\"patch_63\">\n    <path d=\"M -817.518295 129.213834 \nL -813.131261 129.213834 \nL -813.131261 160.040781 \nL -817.518295 160.040781 \nz\n\" clip-path=\"url(#pabadc0df42)\" style=\"fill: #e4003a\"/>\n   </g>\n   <g id=\"patch_64\">\n    <path d=\"M -812.034503 129.213834 \nL -807.64747 129.213834 \nL -807.64747 170.151116 \nL -812.034503 170.151116 \nz\n\" clip-path=\"url(#pabadc0df42)\" style=\"fill: #e4003a\"/>\n   </g>\n   <g id=\"patch_65\">\n    <path d=\"M -795.583128 129.213834 \nL -791.196095 129.213834 \nL -791.196095 222.278214 \nL -795.583128 222.278214 \nz\n\" clip-path=\"url(#pabadc0df42)\" style=\"fill: #e4003a\"/>\n   </g>\n   <g id=\"patch_66\">\n    <path d=\"M -790.099336 129.213834 \nL -785.712303 129.213834 \nL -785.712303 194.591034 \nL -790.099336 194.591034 \nz\n\" clip-path=\"url(#pabadc0df42)\" style=\"fill: #e4003a\"/>\n   </g>\n   <g id=\"patch_67\">\n    <path d=\"M -784.615545 129.213834 \nL -780.228511 129.213834 \nL -780.228511 159.70083 \nL -784.615545 159.70083 \nz\n\" clip-path=\"url(#pabadc0df42)\" style=\"fill: #e4003a\"/>\n   </g>\n   <g id=\"patch_68\">\n    <path d=\"M -773.647961 129.213834 \nL -769.260928 129.213834 \nL -769.260928 156.544346 \nL -773.647961 156.544346 \nz\n\" clip-path=\"url(#pabadc0df42)\" style=\"fill: #e4003a\"/>\n   </g>\n   <g id=\"patch_69\">\n    <path d=\"M -757.196586 129.213834 \nL -752.809553 129.213834 \nL -752.809553 168.286671 \nL -757.196586 168.286671 \nz\n\" clip-path=\"url(#pabadc0df42)\" style=\"fill: #e4003a\"/>\n   </g>\n   <g id=\"patch_70\">\n    <path d=\"M -751.712795 129.213834 \nL -747.325761 129.213834 \nL -747.325761 190.089046 \nL -751.712795 190.089046 \nz\n\" clip-path=\"url(#pabadc0df42)\" style=\"fill: #e4003a\"/>\n   </g>\n   <g id=\"patch_71\">\n    <path d=\"M -746.229003 129.213834 \nL -741.84197 129.213834 \nL -741.84197 171.998552 \nL -746.229003 171.998552 \nz\n\" clip-path=\"url(#pabadc0df42)\" style=\"fill: #e4003a\"/>\n   </g>\n   <g id=\"patch_72\">\n    <path d=\"M -740.745211 129.213834 \nL -736.358178 129.213834 \nL -736.358178 164.166107 \nL -740.745211 164.166107 \nz\n\" clip-path=\"url(#pabadc0df42)\" style=\"fill: #e4003a\"/>\n   </g>\n   <g id=\"patch_73\">\n    <path d=\"M -735.26142 129.213834 \nL -730.874386 129.213834 \nL -730.874386 167.407834 \nL -735.26142 167.407834 \nz\n\" clip-path=\"url(#pabadc0df42)\" style=\"fill: #e4003a\"/>\n   </g>\n   <g id=\"patch_74\">\n    <path d=\"M -718.810045 129.213834 \nL -714.423011 129.213834 \nL -714.423011 83.621541 \nL -718.810045 83.621541 \nz\n\" clip-path=\"url(#pabadc0df42)\" style=\"fill: #e4003a\"/>\n   </g>\n   <g id=\"patch_75\">\n    <path d=\"M -713.326253 129.213834 \nL -708.93922 129.213834 \nL -708.93922 113.715162 \nL -713.326253 113.715162 \nz\n\" clip-path=\"url(#pabadc0df42)\" style=\"fill: #e4003a\"/>\n   </g>\n   <g id=\"patch_76\">\n    <path d=\"M -707.842461 129.213834 \nL -703.455428 129.213834 \nL -703.455428 101.243227 \nL -707.842461 101.243227 \nz\n\" clip-path=\"url(#pabadc0df42)\" style=\"fill: #e4003a\"/>\n   </g>\n   <g id=\"patch_77\">\n    <path d=\"M -702.35867 129.213834 \nL -697.971636 129.213834 \nL -697.971636 97.010016 \nL -702.35867 97.010016 \nz\n\" clip-path=\"url(#pabadc0df42)\" style=\"fill: #e4003a\"/>\n   </g>\n   <g id=\"patch_78\">\n    <path d=\"M -696.874878 129.213834 \nL -692.487845 129.213834 \nL -692.487845 94.607088 \nL -696.874878 94.607088 \nz\n\" clip-path=\"url(#pabadc0df42)\" style=\"fill: #e4003a\"/>\n   </g>\n   <g id=\"patch_79\">\n    <path d=\"M -680.423503 129.213834 \nL -676.03647 129.213834 \nL -676.03647 147.630509 \nL -680.423503 147.630509 \nz\n\" clip-path=\"url(#pabadc0df42)\" style=\"fill: #e4003a\"/>\n   </g>\n   <g id=\"patch_80\">\n    <path d=\"M -674.939711 129.213834 \nL -670.552678 129.213834 \nL -670.552678 146.678429 \nL -674.939711 146.678429 \nz\n\" clip-path=\"url(#pabadc0df42)\" style=\"fill: #e4003a\"/>\n   </g>\n   <g id=\"patch_81\">\n    <path d=\"M -669.45592 129.213834 \nL -665.068886 129.213834 \nL -665.068886 153.138516 \nL -669.45592 153.138516 \nz\n\" clip-path=\"url(#pabadc0df42)\" style=\"fill: #e4003a\"/>\n   </g>\n   <g id=\"patch_82\">\n    <path d=\"M -663.972128 129.213834 \nL -659.585095 129.213834 \nL -659.585095 82.173427 \nL -663.972128 82.173427 \nz\n\" clip-path=\"url(#pabadc0df42)\" style=\"fill: #e4003a\"/>\n   </g>\n   <g id=\"patch_83\">\n    <path d=\"M -658.488336 129.213834 \nL -654.101303 129.213834 \nL -654.101303 126.316197 \nL -658.488336 126.316197 \nz\n\" clip-path=\"url(#pabadc0df42)\" style=\"fill: #e4003a\"/>\n   </g>\n   <g id=\"patch_84\">\n    <path d=\"M -642.036961 129.213834 \nL -637.649928 129.213834 \nL -637.649928 154.532382 \nL -642.036961 154.532382 \nz\n\" clip-path=\"url(#pabadc0df42)\" style=\"fill: #e4003a\"/>\n   </g>\n   <g id=\"patch_85\">\n    <path d=\"M -636.55317 129.213834 \nL -632.166136 129.213834 \nL -632.166136 146.618134 \nL -636.55317 146.618134 \nz\n\" clip-path=\"url(#pabadc0df42)\" style=\"fill: #e4003a\"/>\n   </g>\n   <g id=\"patch_86\">\n    <path d=\"M -631.069378 129.213834 \nL -626.682345 129.213834 \nL -626.682345 173.645373 \nL -631.069378 173.645373 \nz\n\" clip-path=\"url(#pabadc0df42)\" style=\"fill: #e4003a\"/>\n   </g>\n   <g id=\"patch_87\">\n    <path d=\"M -625.585586 129.213834 \nL -621.198553 129.213834 \nL -621.198553 157.086021 \nL -625.585586 157.086021 \nz\n\" clip-path=\"url(#pabadc0df42)\" style=\"fill: #e4003a\"/>\n   </g>\n   <g id=\"patch_88\">\n    <path d=\"M -603.65042 129.213834 \nL -599.263386 129.213834 \nL -599.263386 78.160768 \nL -603.65042 78.160768 \nz\n\" clip-path=\"url(#pabadc0df42)\" style=\"fill: #e4003a\"/>\n   </g>\n   <g id=\"patch_89\">\n    <path d=\"M -598.166628 129.213834 \nL -593.779595 129.213834 \nL -593.779595 94.608817 \nL -598.166628 94.608817 \nz\n\" clip-path=\"url(#pabadc0df42)\" style=\"fill: #e4003a\"/>\n   </g>\n   <g id=\"patch_90\">\n    <path d=\"M -592.682836 129.213834 \nL -588.295803 129.213834 \nL -588.295803 148.131538 \nL -592.682836 148.131538 \nz\n\" clip-path=\"url(#pabadc0df42)\" style=\"fill: #e4003a\"/>\n   </g>\n   <g id=\"patch_91\">\n    <path d=\"M -587.199045 129.213834 \nL -582.812011 129.213834 \nL -582.812011 157.670903 \nL -587.199045 157.670903 \nz\n\" clip-path=\"url(#pabadc0df42)\" style=\"fill: #e4003a\"/>\n   </g>\n   <g id=\"patch_92\">\n    <path d=\"M -581.715253 129.213834 \nL -577.32822 129.213834 \nL -577.32822 134.996795 \nL -581.715253 134.996795 \nz\n\" clip-path=\"url(#pabadc0df42)\" style=\"fill: #e4003a\"/>\n   </g>\n   <g id=\"patch_93\">\n    <path d=\"M -565.263878 129.213834 \nL -560.876845 129.213834 \nL -560.876845 226.977323 \nL -565.263878 226.977323 \nz\n\" clip-path=\"url(#pabadc0df42)\" style=\"fill: #e4003a\"/>\n   </g>\n   <g id=\"patch_94\">\n    <path d=\"M -559.780086 129.213834 \nL -555.393053 129.213834 \nL -555.393053 176.481592 \nL -559.780086 176.481592 \nz\n\" clip-path=\"url(#pabadc0df42)\" style=\"fill: #e4003a\"/>\n   </g>\n   <g id=\"patch_95\">\n    <path d=\"M -554.296295 129.213834 \nL -549.909261 129.213834 \nL -549.909261 177.561916 \nL -554.296295 177.561916 \nz\n\" clip-path=\"url(#pabadc0df42)\" style=\"fill: #e4003a\"/>\n   </g>\n   <g id=\"patch_96\">\n    <path d=\"M -548.812503 129.213834 \nL -544.42547 129.213834 \nL -544.42547 204.386424 \nL -548.812503 204.386424 \nz\n\" clip-path=\"url(#pabadc0df42)\" style=\"fill: #e4003a\"/>\n   </g>\n   <g id=\"patch_97\">\n    <path d=\"M -543.328711 129.213834 \nL -538.941678 129.213834 \nL -538.941678 157.933603 \nL -543.328711 157.933603 \nz\n\" clip-path=\"url(#pabadc0df42)\" style=\"fill: #e4003a\"/>\n   </g>\n   <g id=\"patch_98\">\n    <path d=\"M -526.877336 129.213834 \nL -522.490303 129.213834 \nL -522.490303 164.550628 \nL -526.877336 164.550628 \nz\n\" clip-path=\"url(#pabadc0df42)\" style=\"fill: #e4003a\"/>\n   </g>\n   <g id=\"patch_99\">\n    <path d=\"M -521.393545 129.213834 \nL -517.006511 129.213834 \nL -517.006511 148.570627 \nL -521.393545 148.570627 \nz\n\" clip-path=\"url(#pabadc0df42)\" style=\"fill: #e4003a\"/>\n   </g>\n   <g id=\"patch_100\">\n    <path d=\"M -515.909753 129.213834 \nL -511.52272 129.213834 \nL -511.52272 150.025078 \nL -515.909753 150.025078 \nz\n\" clip-path=\"url(#pabadc0df42)\" style=\"fill: #e4003a\"/>\n   </g>\n   <g id=\"patch_101\">\n    <path d=\"M -510.425961 129.213834 \nL -506.038928 129.213834 \nL -506.038928 153.49838 \nL -510.425961 153.49838 \nz\n\" clip-path=\"url(#pabadc0df42)\" style=\"fill: #e4003a\"/>\n   </g>\n   <g id=\"patch_102\">\n    <path d=\"M -504.94217 129.213834 \nL -500.555136 129.213834 \nL -500.555136 149.21016 \nL -504.94217 149.21016 \nz\n\" clip-path=\"url(#pabadc0df42)\" style=\"fill: #e4003a\"/>\n   </g>\n   <g id=\"patch_103\">\n    <path d=\"M -483.007003 129.213834 \nL -478.61997 129.213834 \nL -478.61997 144.441182 \nL -483.007003 144.441182 \nz\n\" clip-path=\"url(#pabadc0df42)\" style=\"fill: #e4003a\"/>\n   </g>\n   <g id=\"patch_104\">\n    <path d=\"M -477.523211 129.213834 \nL -473.136178 129.213834 \nL -473.136178 135.645776 \nL -477.523211 135.645776 \nz\n\" clip-path=\"url(#pabadc0df42)\" style=\"fill: #e4003a\"/>\n   </g>\n   <g id=\"patch_105\">\n    <path d=\"M -472.03942 129.213834 \nL -467.652386 129.213834 \nL -467.652386 134.358965 \nL -472.03942 134.358965 \nz\n\" clip-path=\"url(#pabadc0df42)\" style=\"fill: #e4003a\"/>\n   </g>\n   <g id=\"patch_106\">\n    <path d=\"M -466.555628 129.213834 \nL -462.168595 129.213834 \nL -462.168595 149.870129 \nL -466.555628 149.870129 \nz\n\" clip-path=\"url(#pabadc0df42)\" style=\"fill: #e4003a\"/>\n   </g>\n   <g id=\"patch_107\">\n    <path d=\"M -450.104253 129.213834 \nL -445.71722 129.213834 \nL -445.71722 299.966741 \nL -450.104253 299.966741 \nz\n\" clip-path=\"url(#pabadc0df42)\" style=\"fill: #e4003a\"/>\n   </g>\n   <g id=\"patch_108\">\n    <path d=\"M -444.620461 129.213834 \nL -440.233428 129.213834 \nL -440.233428 158.677898 \nL -444.620461 158.677898 \nz\n\" clip-path=\"url(#pabadc0df42)\" style=\"fill: #e4003a\"/>\n   </g>\n   <g id=\"patch_109\">\n    <path d=\"M -439.13667 129.213834 \nL -434.749636 129.213834 \nL -434.749636 141.336035 \nL -439.13667 141.336035 \nz\n\" clip-path=\"url(#pabadc0df42)\" style=\"fill: #e4003a\"/>\n   </g>\n   <g id=\"patch_110\">\n    <path d=\"M -433.652878 129.213834 \nL -429.265845 129.213834 \nL -429.265845 150.069797 \nL -433.652878 150.069797 \nz\n\" clip-path=\"url(#pabadc0df42)\" style=\"fill: #e4003a\"/>\n   </g>\n   <g id=\"patch_111\">\n    <path d=\"M -428.169086 129.213834 \nL -423.782053 129.213834 \nL -423.782053 192.218467 \nL -428.169086 192.218467 \nz\n\" clip-path=\"url(#pabadc0df42)\" style=\"fill: #e4003a\"/>\n   </g>\n   <g id=\"patch_112\">\n    <path d=\"M -411.717711 129.213834 \nL -407.330678 129.213834 \nL -407.330678 149.810887 \nL -411.717711 149.810887 \nz\n\" clip-path=\"url(#pabadc0df42)\" style=\"fill: #e4003a\"/>\n   </g>\n   <g id=\"patch_113\">\n    <path d=\"M -406.23392 129.213834 \nL -401.846886 129.213834 \nL -401.846886 147.346884 \nL -406.23392 147.346884 \nz\n\" clip-path=\"url(#pabadc0df42)\" style=\"fill: #e4003a\"/>\n   </g>\n   <g id=\"patch_114\">\n    <path d=\"M -400.750128 129.213834 \nL -396.363095 129.213834 \nL -396.363095 134.381045 \nL -400.750128 134.381045 \nz\n\" clip-path=\"url(#pabadc0df42)\" style=\"fill: #e4003a\"/>\n   </g>\n   <g id=\"patch_115\">\n    <path d=\"M -395.266336 129.213834 \nL -390.879303 129.213834 \nL -390.879303 153.238404 \nL -395.266336 153.238404 \nz\n\" clip-path=\"url(#pabadc0df42)\" style=\"fill: #e4003a\"/>\n   </g>\n   <g id=\"patch_116\">\n    <path d=\"M -389.782545 129.213834 \nL -385.395511 129.213834 \nL -385.395511 141.239796 \nL -389.782545 141.239796 \nz\n\" clip-path=\"url(#pabadc0df42)\" style=\"fill: #e4003a\"/>\n   </g>\n   <g id=\"patch_117\">\n    <path d=\"M -373.33117 129.213834 \nL -368.944136 129.213834 \nL -368.944136 156.622442 \nL -373.33117 156.622442 \nz\n\" clip-path=\"url(#pabadc0df42)\" style=\"fill: #e4003a\"/>\n   </g>\n   <g id=\"patch_118\">\n    <path d=\"M -367.847378 129.213834 \nL -363.460345 129.213834 \nL -363.460345 145.085295 \nL -367.847378 145.085295 \nz\n\" clip-path=\"url(#pabadc0df42)\" style=\"fill: #e4003a\"/>\n   </g>\n   <g id=\"patch_119\">\n    <path d=\"M -362.363586 129.213834 \nL -357.976553 129.213834 \nL -357.976553 147.290093 \nL -362.363586 147.290093 \nz\n\" clip-path=\"url(#pabadc0df42)\" style=\"fill: #e4003a\"/>\n   </g>\n   <g id=\"patch_120\">\n    <path d=\"M -356.879795 129.213834 \nL -352.492761 129.213834 \nL -352.492761 125.798401 \nL -356.879795 125.798401 \nz\n\" clip-path=\"url(#pabadc0df42)\" style=\"fill: #e4003a\"/>\n   </g>\n   <g id=\"patch_121\">\n    <path d=\"M -351.396003 129.213834 \nL -347.00897 129.213834 \nL -347.00897 134.650116 \nL -351.396003 134.650116 \nz\n\" clip-path=\"url(#pabadc0df42)\" style=\"fill: #e4003a\"/>\n   </g>\n   <g id=\"patch_122\">\n    <path d=\"M -334.944628 129.213834 \nL -330.557595 129.213834 \nL -330.557595 148.746215 \nL -334.944628 148.746215 \nz\n\" clip-path=\"url(#pabadc0df42)\" style=\"fill: #e4003a\"/>\n   </g>\n   <g id=\"patch_123\">\n    <path d=\"M -329.460836 129.213834 \nL -325.073803 129.213834 \nL -325.073803 151.540124 \nL -329.460836 151.540124 \nz\n\" clip-path=\"url(#pabadc0df42)\" style=\"fill: #e4003a\"/>\n   </g>\n   <g id=\"patch_124\">\n    <path d=\"M -323.977045 129.213834 \nL -319.590011 129.213834 \nL -319.590011 138.660294 \nL -323.977045 138.660294 \nz\n\" clip-path=\"url(#pabadc0df42)\" style=\"fill: #e4003a\"/>\n   </g>\n   <g id=\"patch_125\">\n    <path d=\"M -318.493253 129.213834 \nL -314.10622 129.213834 \nL -314.10622 137.157144 \nL -318.493253 137.157144 \nz\n\" clip-path=\"url(#pabadc0df42)\" style=\"fill: #e4003a\"/>\n   </g>\n   <g id=\"patch_126\">\n    <path d=\"M -313.009461 129.213834 \nL -308.622428 129.213834 \nL -308.622428 137.470074 \nL -313.009461 137.470074 \nz\n\" clip-path=\"url(#pabadc0df42)\" style=\"fill: #e4003a\"/>\n   </g>\n   <g id=\"patch_127\">\n    <path d=\"M -291.074295 129.213834 \nL -286.687261 129.213834 \nL -286.687261 163.874309 \nL -291.074295 163.874309 \nz\n\" clip-path=\"url(#pabadc0df42)\" style=\"fill: #e4003a\"/>\n   </g>\n   <g id=\"patch_128\">\n    <path d=\"M -285.590503 129.213834 \nL -281.20347 129.213834 \nL -281.20347 151.182222 \nL -285.590503 151.182222 \nz\n\" clip-path=\"url(#pabadc0df42)\" style=\"fill: #e4003a\"/>\n   </g>\n   <g id=\"patch_129\">\n    <path d=\"M -280.106711 129.213834 \nL -275.719678 129.213834 \nL -275.719678 186.785581 \nL -280.106711 186.785581 \nz\n\" clip-path=\"url(#pabadc0df42)\" style=\"fill: #e4003a\"/>\n   </g>\n   <g id=\"patch_130\">\n    <path d=\"M -274.62292 129.213834 \nL -270.235886 129.213834 \nL -270.235886 136.317963 \nL -274.62292 136.317963 \nz\n\" clip-path=\"url(#pabadc0df42)\" style=\"fill: #e4003a\"/>\n   </g>\n   <g id=\"patch_131\">\n    <path d=\"M -258.171545 129.213834 \nL -253.784511 129.213834 \nL -253.784511 58.435086 \nL -258.171545 58.435086 \nz\n\" clip-path=\"url(#pabadc0df42)\" style=\"fill: #e4003a\"/>\n   </g>\n   <g id=\"patch_132\">\n    <path d=\"M -252.687753 129.213834 \nL -248.30072 129.213834 \nL -248.30072 75.293089 \nL -252.687753 75.293089 \nz\n\" clip-path=\"url(#pabadc0df42)\" style=\"fill: #e4003a\"/>\n   </g>\n   <g id=\"patch_133\">\n    <path d=\"M -247.203961 129.213834 \nL -242.816928 129.213834 \nL -242.816928 75.739279 \nL -247.203961 75.739279 \nz\n\" clip-path=\"url(#pabadc0df42)\" style=\"fill: #e4003a\"/>\n   </g>\n   <g id=\"patch_134\">\n    <path d=\"M -241.72017 129.213834 \nL -237.333136 129.213834 \nL -237.333136 93.53952 \nL -241.72017 93.53952 \nz\n\" clip-path=\"url(#pabadc0df42)\" style=\"fill: #e4003a\"/>\n   </g>\n   <g id=\"patch_135\">\n    <path d=\"M -236.236378 129.213834 \nL -231.849345 129.213834 \nL -231.849345 116.157501 \nL -236.236378 116.157501 \nz\n\" clip-path=\"url(#pabadc0df42)\" style=\"fill: #e4003a\"/>\n   </g>\n   <g id=\"patch_136\">\n    <path d=\"M -219.785003 129.213834 \nL -215.39797 129.213834 \nL -215.39797 139.173405 \nL -219.785003 139.173405 \nz\n\" clip-path=\"url(#pabadc0df42)\" style=\"fill: #e4003a\"/>\n   </g>\n   <g id=\"patch_137\">\n    <path d=\"M -214.301211 129.213834 \nL -209.914178 129.213834 \nL -209.914178 163.125052 \nL -214.301211 163.125052 \nz\n\" clip-path=\"url(#pabadc0df42)\" style=\"fill: #e4003a\"/>\n   </g>\n   <g id=\"patch_138\">\n    <path d=\"M -208.81742 129.213834 \nL -204.430386 129.213834 \nL -204.430386 159.318062 \nL -208.81742 159.318062 \nz\n\" clip-path=\"url(#pabadc0df42)\" style=\"fill: #e4003a\"/>\n   </g>\n   <g id=\"patch_139\">\n    <path d=\"M -203.333628 129.213834 \nL -198.946595 129.213834 \nL -198.946595 127.573771 \nL -203.333628 127.573771 \nz\n\" clip-path=\"url(#pabadc0df42)\" style=\"fill: #e4003a\"/>\n   </g>\n   <g id=\"patch_140\">\n    <path d=\"M -197.849836 129.213834 \nL -193.462803 129.213834 \nL -193.462803 123.413579 \nL -197.849836 123.413579 \nz\n\" clip-path=\"url(#pabadc0df42)\" style=\"fill: #e4003a\"/>\n   </g>\n   <g id=\"patch_141\">\n    <path d=\"M -181.398461 129.213834 \nL -177.011428 129.213834 \nL -177.011428 100.333353 \nL -181.398461 100.333353 \nz\n\" clip-path=\"url(#pabadc0df42)\" style=\"fill: #e4003a\"/>\n   </g>\n   <g id=\"patch_142\">\n    <path d=\"M -175.91467 129.213834 \nL -171.527636 129.213834 \nL -171.527636 157.663873 \nL -175.91467 157.663873 \nz\n\" clip-path=\"url(#pabadc0df42)\" style=\"fill: #e4003a\"/>\n   </g>\n   <g id=\"patch_143\">\n    <path d=\"M -170.430878 129.213834 \nL -166.043845 129.213834 \nL -166.043845 142.780192 \nL -170.430878 142.780192 \nz\n\" clip-path=\"url(#pabadc0df42)\" style=\"fill: #e4003a\"/>\n   </g>\n   <g id=\"patch_144\">\n    <path d=\"M -164.947086 129.213834 \nL -160.560053 129.213834 \nL -160.560053 122.926167 \nL -164.947086 122.926167 \nz\n\" clip-path=\"url(#pabadc0df42)\" style=\"fill: #e4003a\"/>\n   </g>\n   <g id=\"patch_145\">\n    <path d=\"M -159.463295 129.213834 \nL -155.076261 129.213834 \nL -155.076261 78.353398 \nL -159.463295 78.353398 \nz\n\" clip-path=\"url(#pabadc0df42)\" style=\"fill: #e4003a\"/>\n   </g>\n   <g id=\"patch_146\">\n    <path d=\"M -143.01192 129.213834 \nL -138.624886 129.213834 \nL -138.624886 82.386376 \nL -143.01192 82.386376 \nz\n\" clip-path=\"url(#pabadc0df42)\" style=\"fill: #e4003a\"/>\n   </g>\n   <g id=\"patch_147\">\n    <path d=\"M -137.528128 129.213834 \nL -133.141095 129.213834 \nL -133.141095 50.731112 \nL -137.528128 50.731112 \nz\n\" clip-path=\"url(#pabadc0df42)\" style=\"fill: #e4003a\"/>\n   </g>\n   <g id=\"patch_148\">\n    <path d=\"M -132.044336 129.213834 \nL -127.657303 129.213834 \nL -127.657303 49.731432 \nL -132.044336 49.731432 \nz\n\" clip-path=\"url(#pabadc0df42)\" style=\"fill: #e4003a\"/>\n   </g>\n   <g id=\"patch_149\">\n    <path d=\"M -126.560545 129.213834 \nL -122.173511 129.213834 \nL -122.173511 84.714152 \nL -126.560545 84.714152 \nz\n\" clip-path=\"url(#pabadc0df42)\" style=\"fill: #e4003a\"/>\n   </g>\n   <g id=\"patch_150\">\n    <path d=\"M -121.076753 129.213834 \nL -116.68972 129.213834 \nL -116.68972 84.562315 \nL -121.076753 84.562315 \nz\n\" clip-path=\"url(#pabadc0df42)\" style=\"fill: #e4003a\"/>\n   </g>\n   <g id=\"patch_151\">\n    <path d=\"M -104.625378 129.213834 \nL -100.238345 129.213834 \nL -100.238345 60.037635 \nL -104.625378 60.037635 \nz\n\" clip-path=\"url(#pabadc0df42)\" style=\"fill: #e4003a\"/>\n   </g>\n   <g id=\"patch_152\">\n    <path d=\"M -99.141586 129.213834 \nL -94.754553 129.213834 \nL -94.754553 64.717458 \nL -99.141586 64.717458 \nz\n\" clip-path=\"url(#pabadc0df42)\" style=\"fill: #e4003a\"/>\n   </g>\n   <g id=\"patch_153\">\n    <path d=\"M -93.657795 129.213834 \nL -89.270761 129.213834 \nL -89.270761 74.965229 \nL -93.657795 74.965229 \nz\n\" clip-path=\"url(#pabadc0df42)\" style=\"fill: #e4003a\"/>\n   </g>\n   <g id=\"patch_154\">\n    <path d=\"M -88.174003 129.213834 \nL -83.78697 129.213834 \nL -83.78697 137.159319 \nL -88.174003 137.159319 \nz\n\" clip-path=\"url(#pabadc0df42)\" style=\"fill: #e4003a\"/>\n   </g>\n   <g id=\"patch_155\">\n    <path d=\"M -82.690211 129.213834 \nL -78.303178 129.213834 \nL -78.303178 137.585779 \nL -82.690211 137.585779 \nz\n\" clip-path=\"url(#pabadc0df42)\" style=\"fill: #e4003a\"/>\n   </g>\n   <g id=\"patch_156\">\n    <path d=\"M -66.238836 129.213834 \nL -61.851803 129.213834 \nL -61.851803 77.198509 \nL -66.238836 77.198509 \nz\n\" clip-path=\"url(#pabadc0df42)\" style=\"fill: #e4003a\"/>\n   </g>\n   <g id=\"patch_157\">\n    <path d=\"M -60.755045 129.213834 \nL -56.368011 129.213834 \nL -56.368011 98.261283 \nL -60.755045 98.261283 \nz\n\" clip-path=\"url(#pabadc0df42)\" style=\"fill: #e4003a\"/>\n   </g>\n   <g id=\"patch_158\">\n    <path d=\"M -55.271253 129.213834 \nL -50.88422 129.213834 \nL -50.88422 188.031846 \nL -55.271253 188.031846 \nz\n\" clip-path=\"url(#pabadc0df42)\" style=\"fill: #e4003a\"/>\n   </g>\n   <g id=\"patch_159\">\n    <path d=\"M -49.787461 129.213834 \nL -45.400428 129.213834 \nL -45.400428 153.33066 \nL -49.787461 153.33066 \nz\n\" clip-path=\"url(#pabadc0df42)\" style=\"fill: #e4003a\"/>\n   </g>\n   <g id=\"patch_160\">\n    <path d=\"M -44.30367 129.213834 \nL -39.916636 129.213834 \nL -39.916636 145.063712 \nL -44.30367 145.063712 \nz\n\" clip-path=\"url(#pabadc0df42)\" style=\"fill: #e4003a\"/>\n   </g>\n   <g id=\"patch_161\">\n    <path d=\"M -27.852295 129.213834 \nL -23.465261 129.213834 \nL -23.465261 147.857675 \nL -27.852295 147.857675 \nz\n\" clip-path=\"url(#pabadc0df42)\" style=\"fill: #e4003a\"/>\n   </g>\n   <g id=\"patch_162\">\n    <path d=\"M -22.368503 129.213834 \nL -17.98147 129.213834 \nL -17.98147 143.05975 \nL -22.368503 143.05975 \nz\n\" clip-path=\"url(#pabadc0df42)\" style=\"fill: #e4003a\"/>\n   </g>\n   <g id=\"patch_163\">\n    <path d=\"M -16.884711 129.213834 \nL -12.497678 129.213834 \nL -12.497678 144.353807 \nL -16.884711 144.353807 \nz\n\" clip-path=\"url(#pabadc0df42)\" style=\"fill: #e4003a\"/>\n   </g>\n   <g id=\"patch_164\">\n    <path d=\"M -11.40092 129.213834 \nL -7.013886 129.213834 \nL -7.013886 140.471509 \nL -11.40092 140.471509 \nz\n\" clip-path=\"url(#pabadc0df42)\" style=\"fill: #e4003a\"/>\n   </g>\n   <g id=\"patch_165\">\n    <path d=\"M 10.534247 129.213834 \nL 14.92128 129.213834 \nL 14.92128 144.937542 \nL 10.534247 144.937542 \nz\n\" clip-path=\"url(#pabadc0df42)\" style=\"fill: #e4003a\"/>\n   </g>\n   <g id=\"patch_166\">\n    <path d=\"M 16.018039 129.213834 \nL 20.405072 129.213834 \nL 20.405072 152.535889 \nL 16.018039 152.535889 \nz\n\" clip-path=\"url(#pabadc0df42)\" style=\"fill: #e4003a\"/>\n   </g>\n   <g id=\"patch_167\">\n    <path d=\"M 21.50183 129.213834 \nL 25.888864 129.213834 \nL 25.888864 150.340443 \nL 21.50183 150.340443 \nz\n\" clip-path=\"url(#pabadc0df42)\" style=\"fill: #e4003a\"/>\n   </g>\n   <g id=\"patch_168\">\n    <path d=\"M 26.985622 129.213834 \nL 31.372655 129.213834 \nL 31.372655 235.797532 \nL 26.985622 235.797532 \nz\n\" clip-path=\"url(#pabadc0df42)\" style=\"fill: #e4003a\"/>\n   </g>\n   <g id=\"patch_169\">\n    <path d=\"M 32.469414 129.213834 \nL 36.856447 129.213834 \nL 36.856447 166.810191 \nL 32.469414 166.810191 \nz\n\" clip-path=\"url(#pabadc0df42)\" style=\"fill: #e4003a\"/>\n   </g>\n   <g id=\"patch_170\">\n    <path d=\"M 48.920789 129.213834 \nL 53.307822 129.213834 \nL 53.307822 179.741569 \nL 48.920789 179.741569 \nz\n\" clip-path=\"url(#pabadc0df42)\" style=\"fill: #e4003a\"/>\n   </g>\n   <g id=\"patch_171\">\n    <path d=\"M 54.40458 129.213834 \nL 58.791614 129.213834 \nL 58.791614 165.695313 \nL 54.40458 165.695313 \nz\n\" clip-path=\"url(#pabadc0df42)\" style=\"fill: #e4003a\"/>\n   </g>\n   <g id=\"patch_172\">\n    <path d=\"M 59.888372 129.213834 \nL 64.275405 129.213834 \nL 64.275405 145.79039 \nL 59.888372 145.79039 \nz\n\" clip-path=\"url(#pabadc0df42)\" style=\"fill: #e4003a\"/>\n   </g>\n   <g id=\"patch_173\">\n    <path d=\"M 65.372164 129.213834 \nL 69.759197 129.213834 \nL 69.759197 161.128148 \nL 65.372164 161.128148 \nz\n\" clip-path=\"url(#pabadc0df42)\" style=\"fill: #e4003a\"/>\n   </g>\n   <g id=\"patch_174\">\n    <path d=\"M 70.855955 129.213834 \nL 75.242989 129.213834 \nL 75.242989 155.83671 \nL 70.855955 155.83671 \nz\n\" clip-path=\"url(#pabadc0df42)\" style=\"fill: #e4003a\"/>\n   </g>\n   <g id=\"patch_175\">\n    <path d=\"M 87.30733 129.213834 \nL 91.694364 129.213834 \nL 91.694364 96.524715 \nL 87.30733 96.524715 \nz\n\" clip-path=\"url(#pabadc0df42)\" style=\"fill: #e4003a\"/>\n   </g>\n   <g id=\"patch_176\">\n    <path d=\"M 92.791122 129.213834 \nL 97.178155 129.213834 \nL 97.178155 99.087984 \nL 92.791122 99.087984 \nz\n\" clip-path=\"url(#pabadc0df42)\" style=\"fill: #e4003a\"/>\n   </g>\n   <g id=\"patch_177\">\n    <path d=\"M 98.274914 129.213834 \nL 102.661947 129.213834 \nL 102.661947 74.873758 \nL 98.274914 74.873758 \nz\n\" clip-path=\"url(#pabadc0df42)\" style=\"fill: #e4003a\"/>\n   </g>\n   <g id=\"patch_178\">\n    <path d=\"M 103.758705 129.213834 \nL 108.145739 129.213834 \nL 108.145739 69.135657 \nL 103.758705 69.135657 \nz\n\" clip-path=\"url(#pabadc0df42)\" style=\"fill: #e4003a\"/>\n   </g>\n   <g id=\"patch_179\">\n    <path d=\"M 109.242497 129.213834 \nL 113.62953 129.213834 \nL 113.62953 97.212331 \nL 109.242497 97.212331 \nz\n\" clip-path=\"url(#pabadc0df42)\" style=\"fill: #e4003a\"/>\n   </g>\n   <g id=\"patch_180\">\n    <path d=\"M 125.693872 129.213834 \nL 130.080905 129.213834 \nL 130.080905 111.666533 \nL 125.693872 111.666533 \nz\n\" clip-path=\"url(#pabadc0df42)\" style=\"fill: #e4003a\"/>\n   </g>\n   <g id=\"patch_181\">\n    <path d=\"M 131.177664 129.213834 \nL 135.564697 129.213834 \nL 135.564697 145.608945 \nL 131.177664 145.608945 \nz\n\" clip-path=\"url(#pabadc0df42)\" style=\"fill: #e4003a\"/>\n   </g>\n   <g id=\"patch_182\">\n    <path d=\"M 136.661455 129.213834 \nL 141.048489 129.213834 \nL 141.048489 124.289485 \nL 136.661455 124.289485 \nz\n\" clip-path=\"url(#pabadc0df42)\" style=\"fill: #e4003a\"/>\n   </g>\n   <g id=\"patch_183\">\n    <path d=\"M 142.145247 129.213834 \nL 146.53228 129.213834 \nL 146.53228 136.249191 \nL 142.145247 136.249191 \nz\n\" clip-path=\"url(#pabadc0df42)\" style=\"fill: #e4003a\"/>\n   </g>\n   <g id=\"patch_184\">\n    <path d=\"M 147.629039 129.213834 \nL 152.016072 129.213834 \nL 152.016072 76.130098 \nL 147.629039 76.130098 \nz\n\" clip-path=\"url(#pabadc0df42)\" style=\"fill: #e4003a\"/>\n   </g>\n   <g id=\"patch_185\">\n    <path d=\"M 164.080414 129.213834 \nL 168.467447 129.213834 \nL 168.467447 70.263407 \nL 164.080414 70.263407 \nz\n\" clip-path=\"url(#pabadc0df42)\" style=\"fill: #e4003a\"/>\n   </g>\n   <g id=\"patch_186\">\n    <path d=\"M 169.564205 129.213834 \nL 173.951239 129.213834 \nL 173.951239 98.685761 \nL 169.564205 98.685761 \nz\n\" clip-path=\"url(#pabadc0df42)\" style=\"fill: #e4003a\"/>\n   </g>\n   <g id=\"patch_187\">\n    <path d=\"M 175.047997 129.213834 \nL 179.43503 129.213834 \nL 179.43503 145.153707 \nL 175.047997 145.153707 \nz\n\" clip-path=\"url(#pabadc0df42)\" style=\"fill: #e4003a\"/>\n   </g>\n   <g id=\"patch_188\">\n    <path d=\"M 180.531789 129.213834 \nL 184.918822 129.213834 \nL 184.918822 165.051463 \nL 180.531789 165.051463 \nz\n\" clip-path=\"url(#pabadc0df42)\" style=\"fill: #e4003a\"/>\n   </g>\n   <g id=\"patch_189\">\n    <path d=\"M 186.01558 129.213834 \nL 190.402614 129.213834 \nL 190.402614 67.331732 \nL 186.01558 67.331732 \nz\n\" clip-path=\"url(#pabadc0df42)\" style=\"fill: #e4003a\"/>\n   </g>\n   <g id=\"patch_190\">\n    <path d=\"M 202.466955 129.213834 \nL 206.853989 129.213834 \nL 206.853989 97.788613 \nL 202.466955 97.788613 \nz\n\" clip-path=\"url(#pabadc0df42)\" style=\"fill: #e4003a\"/>\n   </g>\n   <g id=\"patch_191\">\n    <path d=\"M 207.950747 129.213834 \nL 212.33778 129.213834 \nL 212.33778 119.132421 \nL 207.950747 119.132421 \nz\n\" clip-path=\"url(#pabadc0df42)\" style=\"fill: #e4003a\"/>\n   </g>\n   <g id=\"patch_192\">\n    <path d=\"M 213.434539 129.213834 \nL 217.821572 129.213834 \nL 217.821572 116.599208 \nL 213.434539 116.599208 \nz\n\" clip-path=\"url(#pabadc0df42)\" style=\"fill: #e4003a\"/>\n   </g>\n   <g id=\"patch_193\">\n    <path d=\"M 218.91833 129.213834 \nL 223.305364 129.213834 \nL 223.305364 62.31758 \nL 218.91833 62.31758 \nz\n\" clip-path=\"url(#pabadc0df42)\" style=\"fill: #e4003a\"/>\n   </g>\n   <g id=\"patch_194\">\n    <path d=\"M 224.402122 129.213834 \nL 228.789155 129.213834 \nL 228.789155 70.466258 \nL 224.402122 70.466258 \nz\n\" clip-path=\"url(#pabadc0df42)\" style=\"fill: #e4003a\"/>\n   </g>\n   <g id=\"patch_195\">\n    <path d=\"M 246.337289 129.213834 \nL 250.724322 129.213834 \nL 250.724322 82.77739 \nL 246.337289 82.77739 \nz\n\" clip-path=\"url(#pabadc0df42)\" style=\"fill: #e4003a\"/>\n   </g>\n   <g id=\"patch_196\">\n    <path d=\"M 251.82108 129.213834 \nL 256.208114 129.213834 \nL 256.208114 81.686991 \nL 251.82108 81.686991 \nz\n\" clip-path=\"url(#pabadc0df42)\" style=\"fill: #e4003a\"/>\n   </g>\n   <g id=\"patch_197\">\n    <path d=\"M 257.304872 129.213834 \nL 261.691905 129.213834 \nL 261.691905 88.770137 \nL 257.304872 88.770137 \nz\n\" clip-path=\"url(#pabadc0df42)\" style=\"fill: #e4003a\"/>\n   </g>\n   <g id=\"patch_198\">\n    <path d=\"M 262.788664 129.213834 \nL 267.175697 129.213834 \nL 267.175697 66.63547 \nL 262.788664 66.63547 \nz\n\" clip-path=\"url(#pabadc0df42)\" style=\"fill: #e4003a\"/>\n   </g>\n   <g id=\"patch_199\">\n    <path d=\"M 279.240039 129.213834 \nL 283.627072 129.213834 \nL 283.627072 139.259224 \nL 279.240039 139.259224 \nz\n\" clip-path=\"url(#pabadc0df42)\" style=\"fill: #e4003a\"/>\n   </g>\n   <g id=\"patch_200\">\n    <path d=\"M 284.72383 129.213834 \nL 289.110864 129.213834 \nL 289.110864 142.52808 \nL 284.72383 142.52808 \nz\n\" clip-path=\"url(#pabadc0df42)\" style=\"fill: #e4003a\"/>\n   </g>\n   <g id=\"patch_201\">\n    <path d=\"M 290.207622 129.213834 \nL 294.594655 129.213834 \nL 294.594655 142.621459 \nL 290.207622 142.621459 \nz\n\" clip-path=\"url(#pabadc0df42)\" style=\"fill: #e4003a\"/>\n   </g>\n   <g id=\"patch_202\">\n    <path d=\"M 295.691414 129.213834 \nL 300.078447 129.213834 \nL 300.078447 135.573911 \nL 295.691414 135.573911 \nz\n\" clip-path=\"url(#pabadc0df42)\" style=\"fill: #e4003a\"/>\n   </g>\n   <g id=\"patch_203\">\n    <path d=\"M 301.175205 129.213834 \nL 305.562239 129.213834 \nL 305.562239 126.896556 \nL 301.175205 126.896556 \nz\n\" clip-path=\"url(#pabadc0df42)\" style=\"fill: #e4003a\"/>\n   </g>\n   <g id=\"patch_204\">\n    <path d=\"M 317.62658 129.213834 \nL 322.013614 129.213834 \nL 322.013614 143.883192 \nL 317.62658 143.883192 \nz\n\" clip-path=\"url(#pabadc0df42)\" style=\"fill: #e4003a\"/>\n   </g>\n   <g id=\"patch_205\">\n    <path d=\"M 323.110372 129.213834 \nL 327.497405 129.213834 \nL 327.497405 171.738429 \nL 323.110372 171.738429 \nz\n\" clip-path=\"url(#pabadc0df42)\" style=\"fill: #e4003a\"/>\n   </g>\n   <g id=\"patch_206\">\n    <path d=\"M 328.594164 129.213834 \nL 332.981197 129.213834 \nL 332.981197 182.381539 \nL 328.594164 182.381539 \nz\n\" clip-path=\"url(#pabadc0df42)\" style=\"fill: #e4003a\"/>\n   </g>\n   <g id=\"patch_207\">\n    <path d=\"M 334.077955 129.213834 \nL 338.464989 129.213834 \nL 338.464989 136.795734 \nL 334.077955 136.795734 \nz\n\" clip-path=\"url(#pabadc0df42)\" style=\"fill: #e4003a\"/>\n   </g>\n   <g id=\"patch_208\">\n    <path d=\"M 339.561747 129.213834 \nL 343.94878 129.213834 \nL 343.94878 140.032366 \nL 339.561747 140.032366 \nz\n\" clip-path=\"url(#pabadc0df42)\" style=\"fill: #e4003a\"/>\n   </g>\n   <g id=\"patch_209\">\n    <path d=\"M 361.496914 129.213834 \nL 365.883947 129.213834 \nL 365.883947 192.018022 \nL 361.496914 192.018022 \nz\n\" clip-path=\"url(#pabadc0df42)\" style=\"fill: #e4003a\"/>\n   </g>\n   <g id=\"patch_210\">\n    <path d=\"M 366.980705 129.213834 \nL 371.367739 129.213834 \nL 371.367739 148.294601 \nL 366.980705 148.294601 \nz\n\" clip-path=\"url(#pabadc0df42)\" style=\"fill: #e4003a\"/>\n   </g>\n   <g id=\"patch_211\">\n    <path d=\"M 372.464497 129.213834 \nL 376.85153 129.213834 \nL 376.85153 144.228287 \nL 372.464497 144.228287 \nz\n\" clip-path=\"url(#pabadc0df42)\" style=\"fill: #e4003a\"/>\n   </g>\n   <g id=\"patch_212\">\n    <path d=\"M 377.948289 129.213834 \nL 382.335322 129.213834 \nL 382.335322 209.931724 \nL 377.948289 209.931724 \nz\n\" clip-path=\"url(#pabadc0df42)\" style=\"fill: #e4003a\"/>\n   </g>\n   <g id=\"patch_213\">\n    <path d=\"M 394.399664 129.213834 \nL 398.786697 129.213834 \nL 398.786697 152.028312 \nL 394.399664 152.028312 \nz\n\" clip-path=\"url(#pabadc0df42)\" style=\"fill: #e4003a\"/>\n   </g>\n   <g id=\"patch_214\">\n    <path d=\"M 399.883455 129.213834 \nL 404.270489 129.213834 \nL 404.270489 133.481615 \nL 399.883455 133.481615 \nz\n\" clip-path=\"url(#pabadc0df42)\" style=\"fill: #e4003a\"/>\n   </g>\n   <g id=\"patch_215\">\n    <path d=\"M 405.367247 129.213834 \nL 409.75428 129.213834 \nL 409.75428 143.373815 \nL 405.367247 143.373815 \nz\n\" clip-path=\"url(#pabadc0df42)\" style=\"fill: #e4003a\"/>\n   </g>\n   <g id=\"patch_216\">\n    <path d=\"M 410.851039 129.213834 \nL 415.238072 129.213834 \nL 415.238072 70.536539 \nL 410.851039 70.536539 \nz\n\" clip-path=\"url(#pabadc0df42)\" style=\"fill: #e4003a\"/>\n   </g>\n   <g id=\"patch_217\">\n    <path d=\"M 416.33483 129.213834 \nL 420.721864 129.213834 \nL 420.721864 96.205343 \nL 416.33483 96.205343 \nz\n\" clip-path=\"url(#pabadc0df42)\" style=\"fill: #e4003a\"/>\n   </g>\n   <g id=\"patch_218\">\n    <path d=\"M 438.269997 129.213834 \nL 442.65703 129.213834 \nL 442.65703 83.504062 \nL 438.269997 83.504062 \nz\n\" clip-path=\"url(#pabadc0df42)\" style=\"fill: #e4003a\"/>\n   </g>\n   <g id=\"patch_219\">\n    <path d=\"M 443.753789 129.213834 \nL 448.140822 129.213834 \nL 448.140822 145.314999 \nL 443.753789 145.314999 \nz\n\" clip-path=\"url(#pabadc0df42)\" style=\"fill: #e4003a\"/>\n   </g>\n   <g id=\"patch_220\">\n    <path d=\"M 449.23758 129.213834 \nL 453.624614 129.213834 \nL 453.624614 183.331308 \nL 449.23758 183.331308 \nz\n\" clip-path=\"url(#pabadc0df42)\" style=\"fill: #e4003a\"/>\n   </g>\n   <g id=\"patch_221\">\n    <path d=\"M 454.721372 129.213834 \nL 459.108405 129.213834 \nL 459.108405 168.661568 \nL 454.721372 168.661568 \nz\n\" clip-path=\"url(#pabadc0df42)\" style=\"fill: #e4003a\"/>\n   </g>\n   <g id=\"patch_222\">\n    <path d=\"M 471.172747 129.213834 \nL 475.55978 129.213834 \nL 475.55978 81.435167 \nL 471.172747 81.435167 \nz\n\" clip-path=\"url(#pabadc0df42)\" style=\"fill: #e4003a\"/>\n   </g>\n   <g id=\"patch_223\">\n    <path d=\"M 476.656539 129.213834 \nL 481.043572 129.213834 \nL 481.043572 124.828114 \nL 476.656539 124.828114 \nz\n\" clip-path=\"url(#pabadc0df42)\" style=\"fill: #e4003a\"/>\n   </g>\n   <g id=\"patch_224\">\n    <path d=\"M 482.14033 129.213834 \nL 486.527364 129.213834 \nL 486.527364 143.933862 \nL 482.14033 143.933862 \nz\n\" clip-path=\"url(#pabadc0df42)\" style=\"fill: #e4003a\"/>\n   </g>\n   <g id=\"patch_225\">\n    <path d=\"M 487.624122 129.213834 \nL 492.011155 129.213834 \nL 492.011155 127.425071 \nL 487.624122 127.425071 \nz\n\" clip-path=\"url(#pabadc0df42)\" style=\"fill: #e4003a\"/>\n   </g>\n   <g id=\"patch_226\">\n    <path d=\"M 493.107914 129.213834 \nL 497.494947 129.213834 \nL 497.494947 140.546996 \nL 493.107914 140.546996 \nz\n\" clip-path=\"url(#pabadc0df42)\" style=\"fill: #e4003a\"/>\n   </g>\n   <g id=\"patch_227\">\n    <path d=\"M 509.559289 129.213834 \nL 513.946322 129.213834 \nL 513.946322 124.654987 \nL 509.559289 124.654987 \nz\n\" clip-path=\"url(#pabadc0df42)\" style=\"fill: #e4003a\"/>\n   </g>\n   <g id=\"patch_228\">\n    <path d=\"M 515.04308 129.213834 \nL 519.430114 129.213834 \nL 519.430114 101.522899 \nL 515.04308 101.522899 \nz\n\" clip-path=\"url(#pabadc0df42)\" style=\"fill: #e4003a\"/>\n   </g>\n   <g id=\"patch_229\">\n    <path d=\"M 520.526872 129.213834 \nL 524.913905 129.213834 \nL 524.913905 104.870569 \nL 520.526872 104.870569 \nz\n\" clip-path=\"url(#pabadc0df42)\" style=\"fill: #e4003a\"/>\n   </g>\n   <g id=\"patch_230\">\n    <path d=\"M 526.010664 129.213834 \nL 530.397697 129.213834 \nL 530.397697 80.107155 \nL 526.010664 80.107155 \nz\n\" clip-path=\"url(#pabadc0df42)\" style=\"fill: #e4003a\"/>\n   </g>\n   <g id=\"patch_231\">\n    <path d=\"M 531.494455 129.213834 \nL 535.881489 129.213834 \nL 535.881489 87.497839 \nL 531.494455 87.497839 \nz\n\" clip-path=\"url(#pabadc0df42)\" style=\"fill: #e4003a\"/>\n   </g>\n   <g id=\"patch_232\">\n    <path d=\"M 547.94583 129.213834 \nL 552.332864 129.213834 \nL 552.332864 116.331183 \nL 547.94583 116.331183 \nz\n\" clip-path=\"url(#pabadc0df42)\" style=\"fill: #e4003a\"/>\n   </g>\n   <g id=\"patch_233\">\n    <path d=\"M 553.429622 129.213834 \nL 557.816655 129.213834 \nL 557.816655 123.694161 \nL 553.429622 123.694161 \nz\n\" clip-path=\"url(#pabadc0df42)\" style=\"fill: #e4003a\"/>\n   </g>\n   <g id=\"patch_234\">\n    <path d=\"M 558.913414 129.213834 \nL 563.300447 129.213834 \nL 563.300447 83.295355 \nL 558.913414 83.295355 \nz\n\" clip-path=\"url(#pabadc0df42)\" style=\"fill: #e4003a\"/>\n   </g>\n   <g id=\"patch_235\">\n    <path d=\"M 564.397205 129.213834 \nL 568.784239 129.213834 \nL 568.784239 74.215707 \nL 564.397205 74.215707 \nz\n\" clip-path=\"url(#pabadc0df42)\" style=\"fill: #e4003a\"/>\n   </g>\n   <g id=\"patch_236\">\n    <path d=\"M 569.880997 129.213834 \nL 574.26803 129.213834 \nL 574.26803 67.594219 \nL 569.880997 67.594219 \nz\n\" clip-path=\"url(#pabadc0df42)\" style=\"fill: #e4003a\"/>\n   </g>\n   <g id=\"patch_237\">\n    <path d=\"M 586.332372 129.213834 \nL 590.719405 129.213834 \nL 590.719405 141.386367 \nL 586.332372 141.386367 \nz\n\" clip-path=\"url(#pabadc0df42)\" style=\"fill: #e4003a\"/>\n   </g>\n   <g id=\"patch_238\">\n    <path d=\"M 591.816164 129.213834 \nL 596.203197 129.213834 \nL 596.203197 223.242267 \nL 591.816164 223.242267 \nz\n\" clip-path=\"url(#pabadc0df42)\" style=\"fill: #e4003a\"/>\n   </g>\n   <g id=\"patch_239\">\n    <path d=\"M 597.299955 129.213834 \nL 601.686989 129.213834 \nL 601.686989 177.446768 \nL 597.299955 177.446768 \nz\n\" clip-path=\"url(#pabadc0df42)\" style=\"fill: #e4003a\"/>\n   </g>\n   <g id=\"patch_240\">\n    <path d=\"M 602.783747 129.213834 \nL 607.17078 129.213834 \nL 607.17078 138.233249 \nL 602.783747 138.233249 \nz\n\" clip-path=\"url(#pabadc0df42)\" style=\"fill: #e4003a\"/>\n   </g>\n   <g id=\"patch_241\">\n    <path d=\"M 608.267539 129.213834 \nL 612.654572 129.213834 \nL 612.654572 172.033491 \nL 608.267539 172.033491 \nz\n\" clip-path=\"url(#pabadc0df42)\" style=\"fill: #e4003a\"/>\n   </g>\n   <g id=\"patch_242\">\n    <path d=\"M 624.718914 129.213834 \nL 629.105947 129.213834 \nL 629.105947 184.479999 \nL 624.718914 184.479999 \nz\n\" clip-path=\"url(#pabadc0df42)\" style=\"fill: #e4003a\"/>\n   </g>\n   <g id=\"patch_243\">\n    <path d=\"M 630.202705 129.213834 \nL 634.589739 129.213834 \nL 634.589739 154.008252 \nL 630.202705 154.008252 \nz\n\" clip-path=\"url(#pabadc0df42)\" style=\"fill: #e4003a\"/>\n   </g>\n   <g id=\"patch_244\">\n    <path d=\"M 635.686497 129.213834 \nL 640.07353 129.213834 \nL 640.07353 143.95219 \nL 635.686497 143.95219 \nz\n\" clip-path=\"url(#pabadc0df42)\" style=\"fill: #e4003a\"/>\n   </g>\n   <g id=\"patch_245\">\n    <path d=\"M 641.170289 129.213834 \nL 645.557322 129.213834 \nL 645.557322 135.85347 \nL 641.170289 135.85347 \nz\n\" clip-path=\"url(#pabadc0df42)\" style=\"fill: #e4003a\"/>\n   </g>\n   <g id=\"patch_246\">\n    <path d=\"M 646.65408 129.213834 \nL 651.041114 129.213834 \nL 651.041114 158.470451 \nL 646.65408 158.470451 \nz\n\" clip-path=\"url(#pabadc0df42)\" style=\"fill: #e4003a\"/>\n   </g>\n   <g id=\"patch_247\">\n    <path d=\"M 663.105455 129.213834 \nL 667.492489 129.213834 \nL 667.492489 153.661073 \nL 663.105455 153.661073 \nz\n\" clip-path=\"url(#pabadc0df42)\" style=\"fill: #e4003a\"/>\n   </g>\n   <g id=\"patch_248\">\n    <path d=\"M 668.589247 129.213834 \nL 672.97628 129.213834 \nL 672.97628 150.747765 \nL 668.589247 150.747765 \nz\n\" clip-path=\"url(#pabadc0df42)\" style=\"fill: #e4003a\"/>\n   </g>\n   <g id=\"patch_249\">\n    <path d=\"M 674.073039 129.213834 \nL 678.460072 129.213834 \nL 678.460072 167.813306 \nL 674.073039 167.813306 \nz\n\" clip-path=\"url(#pabadc0df42)\" style=\"fill: #e4003a\"/>\n   </g>\n   <g id=\"patch_250\">\n    <path d=\"M 679.55683 129.213834 \nL 683.943864 129.213834 \nL 683.943864 137.645979 \nL 679.55683 137.645979 \nz\n\" clip-path=\"url(#pabadc0df42)\" style=\"fill: #e4003a\"/>\n   </g>\n   <g id=\"patch_251\">\n    <path d=\"M 685.040622 129.213834 \nL 689.427655 129.213834 \nL 689.427655 146.47219 \nL 685.040622 146.47219 \nz\n\" clip-path=\"url(#pabadc0df42)\" style=\"fill: #e4003a\"/>\n   </g>\n   <g id=\"patch_252\">\n    <path d=\"M 701.491997 129.213834 \nL 705.87903 129.213834 \nL 705.87903 142.381681 \nL 701.491997 142.381681 \nz\n\" clip-path=\"url(#pabadc0df42)\" style=\"fill: #e4003a\"/>\n   </g>\n   <g id=\"patch_253\">\n    <path d=\"M 706.975789 129.213834 \nL 711.362822 129.213834 \nL 711.362822 135.1565 \nL 706.975789 135.1565 \nz\n\" clip-path=\"url(#pabadc0df42)\" style=\"fill: #e4003a\"/>\n   </g>\n   <g id=\"patch_254\">\n    <path d=\"M 712.45958 129.213834 \nL 716.846614 129.213834 \nL 716.846614 147.901312 \nL 712.45958 147.901312 \nz\n\" clip-path=\"url(#pabadc0df42)\" style=\"fill: #e4003a\"/>\n   </g>\n   <g id=\"matplotlib.axis_1\">\n    <g id=\"xtick_1\">\n     <g id=\"line2d_1\">\n      <path d=\"M 84.017055 313.109728 \nL 84.017055 23.964 \n\" clip-path=\"url(#pabadc0df42)\" style=\"fill: none; stroke-dasharray: 0.4,0.66; stroke-dashoffset: 0; stroke: #0f0f0f; stroke-width: 0.4; stroke-linejoin: miter\"/>\n     </g>\n     <g id=\"line2d_2\">\n      <defs>\n       <path id=\"m26c1b95264\" d=\"M 0 0 \nL 0 2 \n\" style=\"stroke: #0f0f0f; stroke-width: 0.2\"/>\n      </defs>\n      <g>\n       <use xlink:href=\"#m26c1b95264\" x=\"84.017055\" y=\"313.109728\" style=\"fill: #0f0f0f; stroke: #0f0f0f; stroke-width: 0.2\"/>\n      </g>\n     </g>\n     <g id=\"text_1\">\n      <!-- 2022-05-01 -->\n      <g style=\"fill: #0f0f0f\" transform=\"translate(55.158618 336.307682)rotate(-10)scale(0.10829 -0.10829)\">\n       <defs>\n        <path id=\"Consolas-32\" d=\"M 3150 0 \nL 459 0 \nL 459 488 \nL 1516 1538 \nQ 1775 1794 1937 1981 \nQ 2100 2169 2190 2323 \nQ 2281 2478 2312 2615 \nQ 2344 2753 2344 2913 \nQ 2344 3063 2303 3198 \nQ 2263 3334 2178 3437 \nQ 2094 3541 1959 3600 \nQ 1825 3659 1638 3659 \nQ 1378 3659 1165 3543 \nQ 953 3428 775 3244 \nL 475 3603 \nQ 706 3847 1007 3994 \nQ 1309 4141 1709 4141 \nQ 1981 4141 2204 4059 \nQ 2428 3978 2590 3825 \nQ 2753 3672 2842 3450 \nQ 2931 3228 2931 2950 \nQ 2931 2716 2868 2516 \nQ 2806 2316 2679 2117 \nQ 2553 1919 2361 1706 \nQ 2169 1494 1906 1241 \nL 1166 519 \nL 3150 519 \nL 3150 0 \nz\n\" transform=\"scale(0.015625)\"/>\n        <path id=\"Consolas-30\" d=\"M 3244 2041 \nQ 3244 1572 3150 1186 \nQ 3056 800 2865 523 \nQ 2675 247 2392 95 \nQ 2109 -56 1728 -56 \nQ 1400 -56 1131 67 \nQ 863 191 672 447 \nQ 481 703 378 1100 \nQ 275 1497 275 2041 \nQ 275 2509 370 2896 \nQ 466 3284 655 3561 \nQ 844 3838 1128 3989 \nQ 1413 4141 1791 4141 \nQ 2119 4141 2387 4017 \nQ 2656 3894 2847 3636 \nQ 3038 3378 3141 2981 \nQ 3244 2584 3244 2041 \nz\nM 2694 2022 \nQ 2694 2128 2686 2233 \nQ 2678 2338 2669 2438 \nL 941 1153 \nQ 988 991 1059 853 \nQ 1131 716 1232 617 \nQ 1334 519 1464 464 \nQ 1594 409 1759 409 \nQ 1972 409 2145 512 \nQ 2319 616 2441 819 \nQ 2563 1022 2628 1323 \nQ 2694 1625 2694 2022 \nz\nM 825 2059 \nQ 825 1963 826 1866 \nQ 828 1769 838 1678 \nL 2566 2956 \nQ 2519 3116 2447 3247 \nQ 2375 3378 2275 3473 \nQ 2175 3569 2047 3622 \nQ 1919 3675 1759 3675 \nQ 1547 3675 1373 3572 \nQ 1200 3469 1078 3264 \nQ 956 3059 890 2757 \nQ 825 2456 825 2059 \nz\n\" transform=\"scale(0.015625)\"/>\n        <path id=\"Consolas-2d\" d=\"M 2694 1447 \nL 825 1447 \nL 825 1959 \nL 2694 1959 \nL 2694 1447 \nz\n\" transform=\"scale(0.015625)\"/>\n        <path id=\"Consolas-35\" d=\"M 3047 1306 \nQ 3047 1003 2915 753 \nQ 2784 503 2554 323 \nQ 2325 144 2012 44 \nQ 1700 -56 1338 -56 \nQ 1247 -56 1142 -51 \nQ 1038 -47 934 -39 \nQ 831 -31 732 -22 \nQ 634 -13 556 0 \nL 556 494 \nQ 725 453 942 434 \nQ 1159 416 1381 416 \nQ 1631 416 1831 475 \nQ 2031 534 2172 645 \nQ 2313 756 2388 914 \nQ 2463 1072 2463 1269 \nQ 2463 1650 2189 1823 \nQ 1916 1997 1403 1997 \nL 628 1997 \nL 628 4084 \nL 2828 4084 \nL 2828 3609 \nL 1141 3609 \nL 1141 2463 \nL 1497 2463 \nQ 1791 2463 2069 2409 \nQ 2347 2356 2564 2223 \nQ 2781 2091 2914 1867 \nQ 3047 1644 3047 1306 \nz\n\" transform=\"scale(0.015625)\"/>\n        <path id=\"Consolas-31\" d=\"M 3116 0 \nL 550 0 \nL 550 506 \nL 1600 506 \nL 1600 3488 \nL 622 2956 \nL 422 3419 \nL 1722 4103 \nL 2203 4103 \nL 2203 506 \nL 3116 506 \nL 3116 0 \nz\n\" transform=\"scale(0.015625)\"/>\n       </defs>\n       <use xlink:href=\"#Consolas-32\"/>\n       <use xlink:href=\"#Consolas-30\" x=\"54.980469\"/>\n       <use xlink:href=\"#Consolas-32\" x=\"109.960938\"/>\n       <use xlink:href=\"#Consolas-32\" x=\"164.941406\"/>\n       <use xlink:href=\"#Consolas-2d\" x=\"219.921875\"/>\n       <use xlink:href=\"#Consolas-30\" x=\"274.902344\"/>\n       <use xlink:href=\"#Consolas-35\" x=\"329.882812\"/>\n       <use xlink:href=\"#Consolas-2d\" x=\"384.863281\"/>\n       <use xlink:href=\"#Consolas-30\" x=\"439.84375\"/>\n       <use xlink:href=\"#Consolas-31\" x=\"494.824219\"/>\n      </g>\n     </g>\n    </g>\n    <g id=\"xtick_2\">\n     <g id=\"line2d_3\">\n      <path d=\"M 160.790139 313.109728 \nL 160.790139 23.964 \n\" clip-path=\"url(#pabadc0df42)\" style=\"fill: none; stroke-dasharray: 0.4,0.66; stroke-dashoffset: 0; stroke: #0f0f0f; stroke-width: 0.4; stroke-linejoin: miter\"/>\n     </g>\n     <g id=\"line2d_4\">\n      <g>\n       <use xlink:href=\"#m26c1b95264\" x=\"160.790139\" y=\"313.109728\" style=\"fill: #0f0f0f; stroke: #0f0f0f; stroke-width: 0.2\"/>\n      </g>\n     </g>\n     <g id=\"text_2\">\n      <!-- 2022-05-15 -->\n      <g style=\"fill: #0f0f0f\" transform=\"translate(131.931701 336.307682)rotate(-10)scale(0.10829 -0.10829)\">\n       <use xlink:href=\"#Consolas-32\"/>\n       <use xlink:href=\"#Consolas-30\" x=\"54.980469\"/>\n       <use xlink:href=\"#Consolas-32\" x=\"109.960938\"/>\n       <use xlink:href=\"#Consolas-32\" x=\"164.941406\"/>\n       <use xlink:href=\"#Consolas-2d\" x=\"219.921875\"/>\n       <use xlink:href=\"#Consolas-30\" x=\"274.902344\"/>\n       <use xlink:href=\"#Consolas-35\" x=\"329.882812\"/>\n       <use xlink:href=\"#Consolas-2d\" x=\"384.863281\"/>\n       <use xlink:href=\"#Consolas-31\" x=\"439.84375\"/>\n       <use xlink:href=\"#Consolas-35\" x=\"494.824219\"/>\n      </g>\n     </g>\n    </g>\n    <g id=\"xtick_3\">\n     <g id=\"line2d_5\">\n      <path d=\"M 254.014597 313.109728 \nL 254.014597 23.964 \n\" clip-path=\"url(#pabadc0df42)\" style=\"fill: none; stroke-dasharray: 0.4,0.66; stroke-dashoffset: 0; stroke: #0f0f0f; stroke-width: 0.4; stroke-linejoin: miter\"/>\n     </g>\n     <g id=\"line2d_6\">\n      <g>\n       <use xlink:href=\"#m26c1b95264\" x=\"254.014597\" y=\"313.109728\" style=\"fill: #0f0f0f; stroke: #0f0f0f; stroke-width: 0.2\"/>\n      </g>\n     </g>\n     <g id=\"text_3\">\n      <!-- 2022-06-01 -->\n      <g style=\"fill: #0f0f0f\" transform=\"translate(225.15616 336.307682)rotate(-10)scale(0.10829 -0.10829)\">\n       <defs>\n        <path id=\"Consolas-36\" d=\"M 3200 1294 \nQ 3200 1013 3098 766 \nQ 2997 519 2809 336 \nQ 2622 153 2358 48 \nQ 2094 -56 1772 -56 \nQ 1434 -56 1175 51 \nQ 916 159 741 382 \nQ 566 606 475 947 \nQ 384 1288 384 1753 \nQ 384 2066 425 2359 \nQ 466 2653 559 2912 \nQ 653 3172 809 3387 \nQ 966 3603 1198 3758 \nQ 1431 3913 1747 3998 \nQ 2063 4084 2478 4084 \nL 2881 4084 \nL 2881 3609 \nL 2444 3609 \nQ 2078 3609 1809 3521 \nQ 1541 3434 1359 3275 \nQ 1178 3116 1081 2891 \nQ 984 2666 959 2388 \nL 947 2259 \nQ 1144 2375 1401 2445 \nQ 1659 2516 1959 2516 \nQ 2269 2516 2501 2425 \nQ 2734 2334 2889 2173 \nQ 3044 2013 3122 1788 \nQ 3200 1563 3200 1294 \nz\nM 2631 1259 \nQ 2631 1447 2586 1598 \nQ 2541 1750 2444 1854 \nQ 2347 1959 2198 2017 \nQ 2050 2075 1844 2075 \nQ 1725 2075 1603 2053 \nQ 1481 2031 1364 1992 \nQ 1247 1953 1140 1903 \nQ 1034 1853 947 1797 \nQ 947 1394 1003 1123 \nQ 1059 853 1170 690 \nQ 1281 528 1443 459 \nQ 1606 391 1819 391 \nQ 1997 391 2145 448 \nQ 2294 506 2401 618 \nQ 2509 731 2570 892 \nQ 2631 1053 2631 1259 \nz\n\" transform=\"scale(0.015625)\"/>\n       </defs>\n       <use xlink:href=\"#Consolas-32\"/>\n       <use xlink:href=\"#Consolas-30\" x=\"54.980469\"/>\n       <use xlink:href=\"#Consolas-32\" x=\"109.960938\"/>\n       <use xlink:href=\"#Consolas-32\" x=\"164.941406\"/>\n       <use xlink:href=\"#Consolas-2d\" x=\"219.921875\"/>\n       <use xlink:href=\"#Consolas-30\" x=\"274.902344\"/>\n       <use xlink:href=\"#Consolas-36\" x=\"329.882812\"/>\n       <use xlink:href=\"#Consolas-2d\" x=\"384.863281\"/>\n       <use xlink:href=\"#Consolas-30\" x=\"439.84375\"/>\n       <use xlink:href=\"#Consolas-31\" x=\"494.824219\"/>\n      </g>\n     </g>\n    </g>\n    <g id=\"xtick_4\">\n     <g id=\"line2d_7\">\n      <path d=\"M 330.78768 313.109728 \nL 330.78768 23.964 \n\" clip-path=\"url(#pabadc0df42)\" style=\"fill: none; stroke-dasharray: 0.4,0.66; stroke-dashoffset: 0; stroke: #0f0f0f; stroke-width: 0.4; stroke-linejoin: miter\"/>\n     </g>\n     <g id=\"line2d_8\">\n      <g>\n       <use xlink:href=\"#m26c1b95264\" x=\"330.78768\" y=\"313.109728\" style=\"fill: #0f0f0f; stroke: #0f0f0f; stroke-width: 0.2\"/>\n      </g>\n     </g>\n     <g id=\"text_4\">\n      <!-- 2022-06-15 -->\n      <g style=\"fill: #0f0f0f\" transform=\"translate(301.929243 336.307682)rotate(-10)scale(0.10829 -0.10829)\">\n       <use xlink:href=\"#Consolas-32\"/>\n       <use xlink:href=\"#Consolas-30\" x=\"54.980469\"/>\n       <use xlink:href=\"#Consolas-32\" x=\"109.960938\"/>\n       <use xlink:href=\"#Consolas-32\" x=\"164.941406\"/>\n       <use xlink:href=\"#Consolas-2d\" x=\"219.921875\"/>\n       <use xlink:href=\"#Consolas-30\" x=\"274.902344\"/>\n       <use xlink:href=\"#Consolas-36\" x=\"329.882812\"/>\n       <use xlink:href=\"#Consolas-2d\" x=\"384.863281\"/>\n       <use xlink:href=\"#Consolas-31\" x=\"439.84375\"/>\n       <use xlink:href=\"#Consolas-35\" x=\"494.824219\"/>\n      </g>\n     </g>\n    </g>\n    <g id=\"xtick_5\">\n     <g id=\"line2d_9\">\n      <path d=\"M 418.528347 313.109728 \nL 418.528347 23.964 \n\" clip-path=\"url(#pabadc0df42)\" style=\"fill: none; stroke-dasharray: 0.4,0.66; stroke-dashoffset: 0; stroke: #0f0f0f; stroke-width: 0.4; stroke-linejoin: miter\"/>\n     </g>\n     <g id=\"line2d_10\">\n      <g>\n       <use xlink:href=\"#m26c1b95264\" x=\"418.528347\" y=\"313.109728\" style=\"fill: #0f0f0f; stroke: #0f0f0f; stroke-width: 0.2\"/>\n      </g>\n     </g>\n     <g id=\"text_5\">\n      <!-- 2022-07-01 -->\n      <g style=\"fill: #0f0f0f\" transform=\"translate(389.66991 336.307682)rotate(-10)scale(0.10829 -0.10829)\">\n       <defs>\n        <path id=\"Consolas-37\" d=\"M 3128 3578 \nL 1416 0 \nL 794 0 \nL 2572 3578 \nL 366 3578 \nL 366 4084 \nL 3128 4084 \nL 3128 3578 \nz\n\" transform=\"scale(0.015625)\"/>\n       </defs>\n       <use xlink:href=\"#Consolas-32\"/>\n       <use xlink:href=\"#Consolas-30\" x=\"54.980469\"/>\n       <use xlink:href=\"#Consolas-32\" x=\"109.960938\"/>\n       <use xlink:href=\"#Consolas-32\" x=\"164.941406\"/>\n       <use xlink:href=\"#Consolas-2d\" x=\"219.921875\"/>\n       <use xlink:href=\"#Consolas-30\" x=\"274.902344\"/>\n       <use xlink:href=\"#Consolas-37\" x=\"329.882812\"/>\n       <use xlink:href=\"#Consolas-2d\" x=\"384.863281\"/>\n       <use xlink:href=\"#Consolas-30\" x=\"439.84375\"/>\n       <use xlink:href=\"#Consolas-31\" x=\"494.824219\"/>\n      </g>\n     </g>\n    </g>\n    <g id=\"xtick_6\">\n     <g id=\"line2d_11\">\n      <path d=\"M 495.30143 313.109728 \nL 495.30143 23.964 \n\" clip-path=\"url(#pabadc0df42)\" style=\"fill: none; stroke-dasharray: 0.4,0.66; stroke-dashoffset: 0; stroke: #0f0f0f; stroke-width: 0.4; stroke-linejoin: miter\"/>\n     </g>\n     <g id=\"line2d_12\">\n      <g>\n       <use xlink:href=\"#m26c1b95264\" x=\"495.30143\" y=\"313.109728\" style=\"fill: #0f0f0f; stroke: #0f0f0f; stroke-width: 0.2\"/>\n      </g>\n     </g>\n     <g id=\"text_6\">\n      <!-- 2022-07-15 -->\n      <g style=\"fill: #0f0f0f\" transform=\"translate(466.442993 336.307682)rotate(-10)scale(0.10829 -0.10829)\">\n       <use xlink:href=\"#Consolas-32\"/>\n       <use xlink:href=\"#Consolas-30\" x=\"54.980469\"/>\n       <use xlink:href=\"#Consolas-32\" x=\"109.960938\"/>\n       <use xlink:href=\"#Consolas-32\" x=\"164.941406\"/>\n       <use xlink:href=\"#Consolas-2d\" x=\"219.921875\"/>\n       <use xlink:href=\"#Consolas-30\" x=\"274.902344\"/>\n       <use xlink:href=\"#Consolas-37\" x=\"329.882812\"/>\n       <use xlink:href=\"#Consolas-2d\" x=\"384.863281\"/>\n       <use xlink:href=\"#Consolas-31\" x=\"439.84375\"/>\n       <use xlink:href=\"#Consolas-35\" x=\"494.824219\"/>\n      </g>\n     </g>\n    </g>\n    <g id=\"xtick_7\">\n     <g id=\"line2d_13\">\n      <path d=\"M 588.525889 313.109728 \nL 588.525889 23.964 \n\" clip-path=\"url(#pabadc0df42)\" style=\"fill: none; stroke-dasharray: 0.4,0.66; stroke-dashoffset: 0; stroke: #0f0f0f; stroke-width: 0.4; stroke-linejoin: miter\"/>\n     </g>\n     <g id=\"line2d_14\">\n      <g>\n       <use xlink:href=\"#m26c1b95264\" x=\"588.525889\" y=\"313.109728\" style=\"fill: #0f0f0f; stroke: #0f0f0f; stroke-width: 0.2\"/>\n      </g>\n     </g>\n     <g id=\"text_7\">\n      <!-- 2022-08-01 -->\n      <g style=\"fill: #0f0f0f\" transform=\"translate(559.667451 336.307682)rotate(-10)scale(0.10829 -0.10829)\">\n       <defs>\n        <path id=\"Consolas-38\" d=\"M 3150 1025 \nQ 3150 766 3044 564 \nQ 2938 363 2747 225 \nQ 2556 88 2297 16 \nQ 2038 -56 1734 -56 \nQ 1400 -56 1145 19 \nQ 891 94 719 228 \nQ 547 363 459 547 \nQ 372 731 372 953 \nQ 372 1328 581 1600 \nQ 791 1872 1228 2094 \nQ 828 2297 643 2545 \nQ 459 2794 459 3116 \nQ 459 3313 540 3497 \nQ 622 3681 786 3825 \nQ 950 3969 1197 4055 \nQ 1444 4141 1778 4141 \nQ 2094 4141 2333 4073 \nQ 2572 4006 2734 3881 \nQ 2897 3756 2978 3578 \nQ 3059 3400 3059 3181 \nQ 3059 2825 2861 2575 \nQ 2663 2325 2297 2138 \nQ 2478 2047 2634 1937 \nQ 2791 1828 2906 1693 \nQ 3022 1559 3086 1393 \nQ 3150 1228 3150 1025 \nz\nM 2503 3138 \nQ 2503 3416 2308 3552 \nQ 2113 3688 1759 3688 \nQ 1409 3688 1214 3553 \nQ 1019 3419 1019 3150 \nQ 1019 3028 1066 2925 \nQ 1113 2822 1211 2731 \nQ 1309 2641 1456 2553 \nQ 1603 2466 1806 2375 \nQ 2159 2541 2331 2720 \nQ 2503 2900 2503 3138 \nz\nM 2559 984 \nQ 2559 1100 2521 1209 \nQ 2484 1319 2387 1425 \nQ 2291 1531 2128 1637 \nQ 1966 1744 1716 1856 \nQ 1503 1753 1358 1651 \nQ 1213 1550 1123 1445 \nQ 1034 1341 996 1228 \nQ 959 1116 959 991 \nQ 959 850 1020 742 \nQ 1081 634 1187 559 \nQ 1294 484 1441 446 \nQ 1588 409 1759 409 \nQ 1925 409 2072 443 \nQ 2219 478 2326 548 \nQ 2434 619 2496 726 \nQ 2559 834 2559 984 \nz\n\" transform=\"scale(0.015625)\"/>\n       </defs>\n       <use xlink:href=\"#Consolas-32\"/>\n       <use xlink:href=\"#Consolas-30\" x=\"54.980469\"/>\n       <use xlink:href=\"#Consolas-32\" x=\"109.960938\"/>\n       <use xlink:href=\"#Consolas-32\" x=\"164.941406\"/>\n       <use xlink:href=\"#Consolas-2d\" x=\"219.921875\"/>\n       <use xlink:href=\"#Consolas-30\" x=\"274.902344\"/>\n       <use xlink:href=\"#Consolas-38\" x=\"329.882812\"/>\n       <use xlink:href=\"#Consolas-2d\" x=\"384.863281\"/>\n       <use xlink:href=\"#Consolas-30\" x=\"439.84375\"/>\n       <use xlink:href=\"#Consolas-31\" x=\"494.824219\"/>\n      </g>\n     </g>\n    </g>\n    <g id=\"xtick_8\">\n     <g id=\"line2d_15\">\n      <path d=\"M 665.298972 313.109728 \nL 665.298972 23.964 \n\" clip-path=\"url(#pabadc0df42)\" style=\"fill: none; stroke-dasharray: 0.4,0.66; stroke-dashoffset: 0; stroke: #0f0f0f; stroke-width: 0.4; stroke-linejoin: miter\"/>\n     </g>\n     <g id=\"line2d_16\">\n      <g>\n       <use xlink:href=\"#m26c1b95264\" x=\"665.298972\" y=\"313.109728\" style=\"fill: #0f0f0f; stroke: #0f0f0f; stroke-width: 0.2\"/>\n      </g>\n     </g>\n     <g id=\"text_8\">\n      <!-- 2022-08-15 -->\n      <g style=\"fill: #0f0f0f\" transform=\"translate(636.440535 336.307682)rotate(-10)scale(0.10829 -0.10829)\">\n       <use xlink:href=\"#Consolas-32\"/>\n       <use xlink:href=\"#Consolas-30\" x=\"54.980469\"/>\n       <use xlink:href=\"#Consolas-32\" x=\"109.960938\"/>\n       <use xlink:href=\"#Consolas-32\" x=\"164.941406\"/>\n       <use xlink:href=\"#Consolas-2d\" x=\"219.921875\"/>\n       <use xlink:href=\"#Consolas-30\" x=\"274.902344\"/>\n       <use xlink:href=\"#Consolas-38\" x=\"329.882812\"/>\n       <use xlink:href=\"#Consolas-2d\" x=\"384.863281\"/>\n       <use xlink:href=\"#Consolas-31\" x=\"439.84375\"/>\n       <use xlink:href=\"#Consolas-35\" x=\"494.824219\"/>\n      </g>\n     </g>\n    </g>\n   </g>\n   <g id=\"matplotlib.axis_2\">\n    <g id=\"ytick_1\">\n     <g id=\"line2d_17\">\n      <path d=\"M 56.598097 306.178894 \nL 714.653097 306.178894 \n\" clip-path=\"url(#pabadc0df42)\" style=\"fill: none; stroke-dasharray: 0.4,0.66; stroke-dashoffset: 0; stroke: #0f0f0f; stroke-width: 0.4; stroke-linejoin: miter\"/>\n     </g>\n     <g id=\"line2d_18\">\n      <defs>\n       <path id=\"ma5239056c7\" d=\"M 0 0 \nL -2 0 \n\" style=\"stroke: #0f0f0f; stroke-width: 0.2\"/>\n      </defs>\n      <g>\n       <use xlink:href=\"#ma5239056c7\" x=\"56.598097\" y=\"306.178894\" style=\"fill: #0f0f0f; stroke: #0f0f0f; stroke-width: 0.2\"/>\n      </g>\n     </g>\n     <g id=\"text_9\">\n      <!-- −8000 -->\n      <g style=\"fill: #0f0f0f\" transform=\"translate(21.326807 309.914899)scale(0.10829 -0.10829)\">\n       <defs>\n        <path id=\"Consolas-2212\" d=\"M 3103 1466 \nL 416 1466 \nL 416 1941 \nL 3103 1941 \nL 3103 1466 \nz\n\" transform=\"scale(0.015625)\"/>\n       </defs>\n       <use xlink:href=\"#Consolas-2212\"/>\n       <use xlink:href=\"#Consolas-38\" x=\"54.980469\"/>\n       <use xlink:href=\"#Consolas-30\" x=\"109.960938\"/>\n       <use xlink:href=\"#Consolas-30\" x=\"164.941406\"/>\n       <use xlink:href=\"#Consolas-30\" x=\"219.921875\"/>\n      </g>\n     </g>\n    </g>\n    <g id=\"ytick_2\">\n     <g id=\"line2d_19\">\n      <path d=\"M 56.598097 261.937629 \nL 714.653097 261.937629 \n\" clip-path=\"url(#pabadc0df42)\" style=\"fill: none; stroke-dasharray: 0.4,0.66; stroke-dashoffset: 0; stroke: #0f0f0f; stroke-width: 0.4; stroke-linejoin: miter\"/>\n     </g>\n     <g id=\"line2d_20\">\n      <g>\n       <use xlink:href=\"#ma5239056c7\" x=\"56.598097\" y=\"261.937629\" style=\"fill: #0f0f0f; stroke: #0f0f0f; stroke-width: 0.2\"/>\n      </g>\n     </g>\n     <g id=\"text_10\">\n      <!-- −6000 -->\n      <g style=\"fill: #0f0f0f\" transform=\"translate(21.326807 265.673634)scale(0.10829 -0.10829)\">\n       <use xlink:href=\"#Consolas-2212\"/>\n       <use xlink:href=\"#Consolas-36\" x=\"54.980469\"/>\n       <use xlink:href=\"#Consolas-30\" x=\"109.960938\"/>\n       <use xlink:href=\"#Consolas-30\" x=\"164.941406\"/>\n       <use xlink:href=\"#Consolas-30\" x=\"219.921875\"/>\n      </g>\n     </g>\n    </g>\n    <g id=\"ytick_3\">\n     <g id=\"line2d_21\">\n      <path d=\"M 56.598097 217.696364 \nL 714.653097 217.696364 \n\" clip-path=\"url(#pabadc0df42)\" style=\"fill: none; stroke-dasharray: 0.4,0.66; stroke-dashoffset: 0; stroke: #0f0f0f; stroke-width: 0.4; stroke-linejoin: miter\"/>\n     </g>\n     <g id=\"line2d_22\">\n      <g>\n       <use xlink:href=\"#ma5239056c7\" x=\"56.598097\" y=\"217.696364\" style=\"fill: #0f0f0f; stroke: #0f0f0f; stroke-width: 0.2\"/>\n      </g>\n     </g>\n     <g id=\"text_11\">\n      <!-- −4000 -->\n      <g style=\"fill: #0f0f0f\" transform=\"translate(21.326807 221.432369)scale(0.10829 -0.10829)\">\n       <defs>\n        <path id=\"Consolas-34\" d=\"M 3353 903 \nL 2656 903 \nL 2656 0 \nL 2100 0 \nL 2100 903 \nL 134 903 \nL 134 1381 \nL 1875 4084 \nL 2656 4084 \nL 2656 1381 \nL 3353 1381 \nL 3353 903 \nz\nM 2100 3559 \nL 678 1381 \nL 2100 1381 \nL 2100 3559 \nz\n\" transform=\"scale(0.015625)\"/>\n       </defs>\n       <use xlink:href=\"#Consolas-2212\"/>\n       <use xlink:href=\"#Consolas-34\" x=\"54.980469\"/>\n       <use xlink:href=\"#Consolas-30\" x=\"109.960938\"/>\n       <use xlink:href=\"#Consolas-30\" x=\"164.941406\"/>\n       <use xlink:href=\"#Consolas-30\" x=\"219.921875\"/>\n      </g>\n     </g>\n    </g>\n    <g id=\"ytick_4\">\n     <g id=\"line2d_23\">\n      <path d=\"M 56.598097 173.455099 \nL 714.653097 173.455099 \n\" clip-path=\"url(#pabadc0df42)\" style=\"fill: none; stroke-dasharray: 0.4,0.66; stroke-dashoffset: 0; stroke: #0f0f0f; stroke-width: 0.4; stroke-linejoin: miter\"/>\n     </g>\n     <g id=\"line2d_24\">\n      <g>\n       <use xlink:href=\"#ma5239056c7\" x=\"56.598097\" y=\"173.455099\" style=\"fill: #0f0f0f; stroke: #0f0f0f; stroke-width: 0.2\"/>\n      </g>\n     </g>\n     <g id=\"text_12\">\n      <!-- −2000 -->\n      <g style=\"fill: #0f0f0f\" transform=\"translate(21.326807 177.191104)scale(0.10829 -0.10829)\">\n       <use xlink:href=\"#Consolas-2212\"/>\n       <use xlink:href=\"#Consolas-32\" x=\"54.980469\"/>\n       <use xlink:href=\"#Consolas-30\" x=\"109.960938\"/>\n       <use xlink:href=\"#Consolas-30\" x=\"164.941406\"/>\n       <use xlink:href=\"#Consolas-30\" x=\"219.921875\"/>\n      </g>\n     </g>\n    </g>\n    <g id=\"ytick_5\">\n     <g id=\"line2d_25\">\n      <path d=\"M 56.598097 129.213834 \nL 714.653097 129.213834 \n\" clip-path=\"url(#pabadc0df42)\" style=\"fill: none; stroke-dasharray: 0.4,0.66; stroke-dashoffset: 0; stroke: #0f0f0f; stroke-width: 0.4; stroke-linejoin: miter\"/>\n     </g>\n     <g id=\"line2d_26\">\n      <g>\n       <use xlink:href=\"#ma5239056c7\" x=\"56.598097\" y=\"129.213834\" style=\"fill: #0f0f0f; stroke: #0f0f0f; stroke-width: 0.2\"/>\n      </g>\n     </g>\n     <g id=\"text_13\">\n      <!-- 0 -->\n      <g style=\"fill: #0f0f0f\" transform=\"translate(45.143839 132.949839)scale(0.10829 -0.10829)\">\n       <use xlink:href=\"#Consolas-30\"/>\n      </g>\n     </g>\n    </g>\n    <g id=\"ytick_6\">\n     <g id=\"line2d_27\">\n      <path d=\"M 56.598097 84.972569 \nL 714.653097 84.972569 \n\" clip-path=\"url(#pabadc0df42)\" style=\"fill: none; stroke-dasharray: 0.4,0.66; stroke-dashoffset: 0; stroke: #0f0f0f; stroke-width: 0.4; stroke-linejoin: miter\"/>\n     </g>\n     <g id=\"line2d_28\">\n      <g>\n       <use xlink:href=\"#ma5239056c7\" x=\"56.598097\" y=\"84.972569\" style=\"fill: #0f0f0f; stroke: #0f0f0f; stroke-width: 0.2\"/>\n      </g>\n     </g>\n     <g id=\"text_14\">\n      <!-- 2000 -->\n      <g style=\"fill: #0f0f0f\" transform=\"translate(27.281065 88.708574)scale(0.10829 -0.10829)\">\n       <use xlink:href=\"#Consolas-32\"/>\n       <use xlink:href=\"#Consolas-30\" x=\"54.980469\"/>\n       <use xlink:href=\"#Consolas-30\" x=\"109.960938\"/>\n       <use xlink:href=\"#Consolas-30\" x=\"164.941406\"/>\n      </g>\n     </g>\n    </g>\n    <g id=\"ytick_7\">\n     <g id=\"line2d_29\">\n      <path d=\"M 56.598097 40.731304 \nL 714.653097 40.731304 \n\" clip-path=\"url(#pabadc0df42)\" style=\"fill: none; stroke-dasharray: 0.4,0.66; stroke-dashoffset: 0; stroke: #0f0f0f; stroke-width: 0.4; stroke-linejoin: miter\"/>\n     </g>\n     <g id=\"line2d_30\">\n      <g>\n       <use xlink:href=\"#ma5239056c7\" x=\"56.598097\" y=\"40.731304\" style=\"fill: #0f0f0f; stroke: #0f0f0f; stroke-width: 0.2\"/>\n      </g>\n     </g>\n     <g id=\"text_15\">\n      <!-- 4000 -->\n      <g style=\"fill: #0f0f0f\" transform=\"translate(27.281065 44.467309)scale(0.10829 -0.10829)\">\n       <use xlink:href=\"#Consolas-34\"/>\n       <use xlink:href=\"#Consolas-30\" x=\"54.980469\"/>\n       <use xlink:href=\"#Consolas-30\" x=\"109.960938\"/>\n       <use xlink:href=\"#Consolas-30\" x=\"164.941406\"/>\n      </g>\n     </g>\n    </g>\n    <g id=\"text_16\">\n     <!-- Net Short Vol. (1k $) -->\n     <g style=\"fill: #0f0f0f\" transform=\"translate(15.10517 231.056573)rotate(-90)scale(0.10829 -0.10829)\">\n      <defs>\n       <path id=\"Consolas-4e\" d=\"M 3150 0 \nL 2425 0 \nL 1234 2547 \nL 891 3366 \nL 891 1306 \nL 891 0 \nL 372 0 \nL 372 4084 \nL 1088 4084 \nL 2222 1672 \nL 2631 738 \nL 2631 2925 \nL 2631 4084 \nL 3150 4084 \nL 3150 0 \nz\n\" transform=\"scale(0.015625)\"/>\n       <path id=\"Consolas-65\" d=\"M 3150 1734 \nQ 3150 1619 3147 1541 \nQ 3144 1463 3138 1394 \nL 934 1394 \nQ 934 913 1203 655 \nQ 1472 397 1978 397 \nQ 2116 397 2253 408 \nQ 2391 419 2519 437 \nQ 2647 456 2764 479 \nQ 2881 503 2981 531 \nL 2981 84 \nQ 2759 22 2479 -17 \nQ 2200 -56 1900 -56 \nQ 1497 -56 1206 53 \nQ 916 163 730 370 \nQ 544 578 455 879 \nQ 366 1181 366 1563 \nQ 366 1894 461 2189 \nQ 556 2484 739 2707 \nQ 922 2931 1187 3062 \nQ 1453 3194 1791 3194 \nQ 2119 3194 2372 3091 \nQ 2625 2988 2798 2798 \nQ 2972 2609 3061 2339 \nQ 3150 2069 3150 1734 \nz\nM 2584 1813 \nQ 2594 2022 2544 2195 \nQ 2494 2369 2389 2494 \nQ 2284 2619 2128 2689 \nQ 1972 2759 1766 2759 \nQ 1588 2759 1441 2690 \nQ 1294 2622 1187 2497 \nQ 1081 2372 1015 2197 \nQ 950 2022 934 1813 \nL 2584 1813 \nz\n\" transform=\"scale(0.015625)\"/>\n       <path id=\"Consolas-74\" d=\"M 3028 44 \nQ 2844 -3 2647 -23 \nQ 2450 -44 2247 -44 \nQ 1656 -44 1365 223 \nQ 1075 491 1075 1044 \nL 1075 2681 \nL 197 2681 \nL 197 3138 \nL 1075 3138 \nL 1075 4000 \nL 1619 4141 \nL 1619 3138 \nL 3028 3138 \nL 3028 2681 \nL 1619 2681 \nL 1619 1088 \nQ 1619 750 1798 583 \nQ 1978 416 2328 416 \nQ 2478 416 2656 439 \nQ 2834 463 3028 513 \nL 3028 44 \nz\n\" transform=\"scale(0.015625)\"/>\n       <path id=\"Consolas-20\" transform=\"scale(0.015625)\"/>\n       <path id=\"Consolas-53\" d=\"M 3116 1106 \nQ 3116 816 2997 597 \nQ 2878 378 2665 233 \nQ 2453 88 2154 16 \nQ 1856 -56 1497 -56 \nQ 1334 -56 1173 -43 \nQ 1013 -31 864 -12 \nQ 716 6 584 31 \nQ 453 56 347 84 \nL 347 622 \nQ 581 534 873 484 \nQ 1166 434 1538 434 \nQ 1806 434 1995 476 \nQ 2184 519 2304 601 \nQ 2425 684 2479 803 \nQ 2534 922 2534 1075 \nQ 2534 1241 2442 1358 \nQ 2350 1475 2200 1567 \nQ 2050 1659 1858 1736 \nQ 1666 1813 1466 1894 \nQ 1266 1975 1073 2070 \nQ 881 2166 731 2295 \nQ 581 2425 489 2600 \nQ 397 2775 397 3016 \nQ 397 3225 484 3428 \nQ 572 3631 756 3789 \nQ 941 3947 1230 4044 \nQ 1519 4141 1919 4141 \nQ 2022 4141 2142 4131 \nQ 2263 4122 2386 4105 \nQ 2509 4088 2629 4066 \nQ 2750 4044 2853 4019 \nL 2853 3519 \nQ 2613 3588 2372 3623 \nQ 2131 3659 1906 3659 \nQ 1428 3659 1203 3500 \nQ 978 3341 978 3072 \nQ 978 2906 1070 2787 \nQ 1163 2669 1313 2575 \nQ 1463 2481 1655 2404 \nQ 1847 2328 2047 2247 \nQ 2247 2166 2439 2069 \nQ 2631 1972 2781 1839 \nQ 2931 1706 3023 1528 \nQ 3116 1350 3116 1106 \nz\n\" transform=\"scale(0.015625)\"/>\n       <path id=\"Consolas-68\" d=\"M 3022 0 \nL 2478 0 \nL 2478 2003 \nQ 2478 2366 2342 2545 \nQ 2206 2725 1953 2725 \nQ 1844 2725 1748 2695 \nQ 1653 2666 1550 2592 \nQ 1447 2519 1325 2394 \nQ 1203 2269 1044 2081 \nL 1044 0 \nL 500 0 \nL 500 4416 \nL 1044 4416 \nL 1044 3138 \nL 1025 2644 \nQ 1153 2797 1276 2901 \nQ 1400 3006 1523 3072 \nQ 1647 3138 1775 3166 \nQ 1903 3194 2041 3194 \nQ 2509 3194 2765 2908 \nQ 3022 2622 3022 2047 \nL 3022 0 \nz\n\" transform=\"scale(0.015625)\"/>\n       <path id=\"Consolas-6f\" d=\"M 3231 1594 \nQ 3231 1228 3128 923 \nQ 3025 619 2831 401 \nQ 2638 184 2359 64 \nQ 2081 -56 1728 -56 \nQ 1391 -56 1123 48 \nQ 856 153 670 356 \nQ 484 559 386 859 \nQ 288 1159 288 1550 \nQ 288 1916 391 2217 \nQ 494 2519 687 2736 \nQ 881 2953 1159 3073 \nQ 1438 3194 1791 3194 \nQ 2128 3194 2395 3089 \nQ 2663 2984 2848 2782 \nQ 3034 2581 3132 2281 \nQ 3231 1981 3231 1594 \nz\nM 2675 1569 \nQ 2675 1859 2611 2076 \nQ 2547 2294 2428 2439 \nQ 2309 2584 2139 2657 \nQ 1969 2731 1759 2731 \nQ 1516 2731 1342 2636 \nQ 1169 2541 1058 2381 \nQ 947 2222 895 2011 \nQ 844 1800 844 1569 \nQ 844 1278 908 1059 \nQ 972 841 1090 695 \nQ 1209 550 1378 476 \nQ 1547 403 1759 403 \nQ 2003 403 2176 498 \nQ 2350 594 2461 753 \nQ 2572 913 2623 1123 \nQ 2675 1334 2675 1569 \nz\n\" transform=\"scale(0.015625)\"/>\n       <path id=\"Consolas-72\" d=\"M 628 3138 \nL 1125 3138 \nL 1141 2559 \nQ 1419 2894 1689 3044 \nQ 1959 3194 2234 3194 \nQ 2722 3194 2973 2878 \nQ 3225 2563 3206 1941 \nL 2656 1941 \nQ 2666 2353 2536 2539 \nQ 2406 2725 2156 2725 \nQ 2047 2725 1936 2686 \nQ 1825 2647 1708 2561 \nQ 1591 2475 1459 2340 \nQ 1328 2206 1178 2016 \nL 1178 0 \nL 628 0 \nL 628 3138 \nz\n\" transform=\"scale(0.015625)\"/>\n       <path id=\"Consolas-56\" d=\"M 3506 4084 \nL 2119 0 \nL 1369 0 \nL 13 4084 \nL 641 4084 \nL 1522 1331 \nL 1772 525 \nL 2028 1331 \nL 2913 4084 \nL 3506 4084 \nz\n\" transform=\"scale(0.015625)\"/>\n       <path id=\"Consolas-6c\" d=\"M 1569 3969 \nL 641 3969 \nL 641 4416 \nL 2119 4416 \nL 2119 453 \nL 3053 453 \nL 3053 0 \nL 538 0 \nL 538 453 \nL 1569 453 \nL 1569 3969 \nz\n\" transform=\"scale(0.015625)\"/>\n       <path id=\"Consolas-2e\" d=\"M 1734 984 \nQ 1841 984 1936 943 \nQ 2031 903 2101 831 \nQ 2172 759 2212 664 \nQ 2253 569 2253 459 \nQ 2253 353 2212 259 \nQ 2172 166 2101 95 \nQ 2031 25 1936 -15 \nQ 1841 -56 1734 -56 \nQ 1625 -56 1531 -15 \nQ 1438 25 1367 95 \nQ 1297 166 1256 259 \nQ 1216 353 1216 459 \nQ 1216 569 1256 664 \nQ 1297 759 1367 831 \nQ 1438 903 1531 943 \nQ 1625 984 1734 984 \nz\n\" transform=\"scale(0.015625)\"/>\n       <path id=\"Consolas-28\" d=\"M 2378 -1313 \nQ 938 22 938 1638 \nQ 938 2016 1014 2392 \nQ 1091 2769 1261 3147 \nQ 1431 3525 1711 3903 \nQ 1991 4281 2391 4653 \nL 2706 4331 \nQ 1494 3134 1494 1678 \nQ 1494 953 1800 284 \nQ 2106 -384 2706 -978 \nL 2378 -1313 \nz\n\" transform=\"scale(0.015625)\"/>\n       <path id=\"Consolas-6b\" d=\"M 3322 0 \nL 2575 0 \nL 1113 1681 \nL 1113 0 \nL 569 0 \nL 569 4416 \nL 1113 4416 \nL 1113 1703 \nL 2522 3138 \nL 3241 3138 \nL 1769 1691 \nL 3322 0 \nz\n\" transform=\"scale(0.015625)\"/>\n       <path id=\"Consolas-24\" d=\"M 1850 4672 \nL 2303 4672 \nL 2222 4063 \nQ 2384 4047 2548 4022 \nQ 2713 3997 2853 3963 \nL 2853 3481 \nQ 2681 3525 2506 3556 \nQ 2331 3588 2163 3603 \nL 1984 2266 \nQ 2194 2184 2400 2089 \nQ 2606 1994 2770 1864 \nQ 2934 1734 3036 1556 \nQ 3138 1378 3138 1131 \nQ 3138 869 3031 666 \nQ 2925 463 2734 322 \nQ 2544 181 2275 101 \nQ 2006 22 1684 6 \nL 1581 -738 \nL 1125 -738 \nL 1228 6 \nQ 975 25 745 61 \nQ 516 97 347 141 \nL 347 659 \nQ 544 591 776 547 \nQ 1009 503 1294 488 \nL 1478 1894 \nQ 1275 1972 1078 2062 \nQ 881 2153 726 2279 \nQ 572 2406 475 2578 \nQ 378 2750 378 2988 \nQ 378 3181 459 3370 \nQ 541 3559 712 3711 \nQ 884 3863 1146 3961 \nQ 1409 4059 1772 4078 \nL 1850 4672 \nz\nM 1709 3609 \nQ 1319 3575 1139 3426 \nQ 959 3278 959 3047 \nQ 959 2831 1107 2692 \nQ 1256 2553 1550 2438 \nL 1709 3609 \nz\nM 1747 488 \nQ 2169 519 2361 675 \nQ 2553 831 2553 1100 \nQ 2553 1213 2512 1302 \nQ 2472 1391 2390 1462 \nQ 2309 1534 2189 1596 \nQ 2069 1659 1906 1722 \nL 1747 488 \nz\n\" transform=\"scale(0.015625)\"/>\n       <path id=\"Consolas-29\" d=\"M 1141 4653 \nQ 2581 3319 2581 1684 \nQ 2581 1347 2512 984 \nQ 2444 622 2278 242 \nQ 2113 -138 1833 -528 \nQ 1553 -919 1128 -1313 \nL 813 -991 \nQ 1422 -388 1722 268 \nQ 2022 925 2022 1644 \nQ 2022 3131 813 4319 \nL 1141 4653 \nz\n\" transform=\"scale(0.015625)\"/>\n      </defs>\n      <use xlink:href=\"#Consolas-4e\"/>\n      <use xlink:href=\"#Consolas-65\" x=\"54.980469\"/>\n      <use xlink:href=\"#Consolas-74\" x=\"109.960938\"/>\n      <use xlink:href=\"#Consolas-20\" x=\"164.941406\"/>\n      <use xlink:href=\"#Consolas-53\" x=\"219.921875\"/>\n      <use xlink:href=\"#Consolas-68\" x=\"274.902344\"/>\n      <use xlink:href=\"#Consolas-6f\" x=\"329.882812\"/>\n      <use xlink:href=\"#Consolas-72\" x=\"384.863281\"/>\n      <use xlink:href=\"#Consolas-74\" x=\"439.84375\"/>\n      <use xlink:href=\"#Consolas-20\" x=\"494.824219\"/>\n      <use xlink:href=\"#Consolas-56\" x=\"549.804688\"/>\n      <use xlink:href=\"#Consolas-6f\" x=\"604.785156\"/>\n      <use xlink:href=\"#Consolas-6c\" x=\"659.765625\"/>\n      <use xlink:href=\"#Consolas-2e\" x=\"714.746094\"/>\n      <use xlink:href=\"#Consolas-20\" x=\"769.726562\"/>\n      <use xlink:href=\"#Consolas-28\" x=\"824.707031\"/>\n      <use xlink:href=\"#Consolas-31\" x=\"879.6875\"/>\n      <use xlink:href=\"#Consolas-6b\" x=\"934.667969\"/>\n      <use xlink:href=\"#Consolas-20\" x=\"989.648438\"/>\n      <use xlink:href=\"#Consolas-24\" x=\"1044.628906\"/>\n      <use xlink:href=\"#Consolas-29\" x=\"1099.609375\"/>\n     </g>\n    </g>\n   </g>\n   <g id=\"patch_255\">\n    <path d=\"M 56.598097 313.109728 \nL 56.598097 23.964 \n\" style=\"fill: none; stroke: #0f0f0f; stroke-width: 0.2; stroke-linejoin: miter; stroke-linecap: square\"/>\n   </g>\n   <g id=\"patch_256\">\n    <path d=\"M 714.653097 313.109728 \nL 714.653097 23.964 \n\" style=\"fill: none; stroke: #0f0f0f; stroke-width: 0.2; stroke-linejoin: miter; stroke-linecap: square\"/>\n   </g>\n   <g id=\"patch_257\">\n    <path d=\"M 56.598097 313.109728 \nL 714.653097 313.109728 \n\" style=\"fill: none; stroke: #0f0f0f; stroke-width: 0.2; stroke-linejoin: miter; stroke-linecap: square\"/>\n   </g>\n   <g id=\"patch_258\">\n    <path d=\"M 56.598097 23.964 \nL 714.653097 23.964 \n\" style=\"fill: none; stroke: #0f0f0f; stroke-width: 0.2; stroke-linejoin: miter; stroke-linecap: square\"/>\n   </g>\n   <g id=\"text_17\">\n    <!-- Net Short Vol. vs Position for TSLA -->\n    <g style=\"fill: #0f0f0f\" transform=\"translate(56.598097 17.964)scale(0.156 -0.156)\">\n     <defs>\n      <path id=\"Consolas-76\" d=\"M 206 3138 \nL 825 3138 \nL 1594 1063 \nL 1759 556 \nL 1931 1075 \nL 2694 3138 \nL 3291 3138 \nL 2059 0 \nL 1434 0 \nL 206 3138 \nz\n\" transform=\"scale(0.015625)\"/>\n      <path id=\"Consolas-73\" d=\"M 2984 856 \nQ 2984 691 2928 559 \nQ 2872 428 2775 326 \nQ 2678 225 2550 153 \nQ 2422 81 2276 34 \nQ 2131 -13 1978 -34 \nQ 1825 -56 1678 -56 \nQ 1359 -56 1092 -28 \nQ 825 0 569 63 \nL 569 563 \nQ 844 484 1116 443 \nQ 1388 403 1656 403 \nQ 2047 403 2234 509 \nQ 2422 616 2422 813 \nQ 2422 897 2392 964 \nQ 2363 1031 2284 1092 \nQ 2206 1153 2042 1218 \nQ 1878 1284 1594 1369 \nQ 1381 1431 1201 1511 \nQ 1022 1591 890 1700 \nQ 759 1809 684 1956 \nQ 609 2103 609 2303 \nQ 609 2434 670 2590 \nQ 731 2747 878 2881 \nQ 1025 3016 1275 3105 \nQ 1525 3194 1900 3194 \nQ 2084 3194 2309 3173 \nQ 2534 3153 2778 3103 \nL 2778 2619 \nQ 2522 2681 2292 2711 \nQ 2063 2741 1894 2741 \nQ 1691 2741 1552 2709 \nQ 1413 2678 1327 2623 \nQ 1241 2569 1203 2495 \nQ 1166 2422 1166 2338 \nQ 1166 2253 1198 2184 \nQ 1231 2116 1320 2052 \nQ 1409 1988 1568 1923 \nQ 1728 1859 1984 1784 \nQ 2263 1703 2453 1614 \nQ 2644 1525 2762 1415 \nQ 2881 1306 2932 1168 \nQ 2984 1031 2984 856 \nz\n\" transform=\"scale(0.015625)\"/>\n      <path id=\"Consolas-50\" d=\"M 3175 2834 \nQ 3175 2584 3081 2339 \nQ 2988 2094 2791 1900 \nQ 2594 1706 2287 1586 \nQ 1981 1466 1556 1466 \nL 1050 1466 \nL 1050 0 \nL 494 0 \nL 494 4084 \nL 1644 4084 \nQ 1947 4084 2225 4017 \nQ 2503 3950 2714 3800 \nQ 2925 3650 3050 3412 \nQ 3175 3175 3175 2834 \nz\nM 2597 2809 \nQ 2597 3203 2339 3412 \nQ 2081 3622 1619 3622 \nL 1050 3622 \nL 1050 1941 \nL 1569 1941 \nQ 2063 1941 2330 2156 \nQ 2597 2372 2597 2809 \nz\n\" transform=\"scale(0.015625)\"/>\n      <path id=\"Consolas-69\" d=\"M 1569 2688 \nL 641 2688 \nL 641 3138 \nL 2119 3138 \nL 2119 453 \nL 3053 453 \nL 3053 0 \nL 538 0 \nL 538 453 \nL 1569 453 \nL 1569 2688 \nz\nM 1759 4453 \nQ 1850 4453 1928 4420 \nQ 2006 4388 2064 4328 \nQ 2122 4269 2155 4192 \nQ 2188 4116 2188 4025 \nQ 2188 3938 2155 3859 \nQ 2122 3781 2064 3722 \nQ 2006 3663 1928 3630 \nQ 1850 3597 1759 3597 \nQ 1669 3597 1591 3630 \nQ 1513 3663 1455 3722 \nQ 1397 3781 1364 3859 \nQ 1331 3938 1331 4025 \nQ 1331 4116 1364 4192 \nQ 1397 4269 1455 4328 \nQ 1513 4388 1591 4420 \nQ 1669 4453 1759 4453 \nz\n\" transform=\"scale(0.015625)\"/>\n      <path id=\"Consolas-6e\" d=\"M 500 3138 \nL 984 3138 \nL 1006 2631 \nQ 1144 2794 1272 2901 \nQ 1400 3009 1523 3075 \nQ 1647 3141 1775 3167 \nQ 1903 3194 2041 3194 \nQ 2525 3194 2773 2908 \nQ 3022 2622 3022 2047 \nL 3022 0 \nL 2478 0 \nL 2478 2003 \nQ 2478 2372 2340 2548 \nQ 2203 2725 1931 2725 \nQ 1831 2725 1736 2695 \nQ 1641 2666 1537 2592 \nQ 1434 2519 1314 2394 \nQ 1194 2269 1044 2081 \nL 1044 0 \nL 500 0 \nL 500 3138 \nz\n\" transform=\"scale(0.015625)\"/>\n      <path id=\"Consolas-66\" d=\"M 3284 3909 \nQ 2856 4000 2547 4000 \nQ 1813 4000 1813 3231 \nL 1813 2681 \nL 3188 2681 \nL 3188 2228 \nL 1813 2228 \nL 1813 0 \nL 1259 0 \nL 1259 2228 \nL 250 2228 \nL 250 2681 \nL 1259 2681 \nL 1259 3200 \nQ 1259 4453 2566 4453 \nQ 2891 4453 3284 4378 \nL 3284 3909 \nz\nM 0 3138 \nL 0 3138 \nz\n\" transform=\"scale(0.015625)\"/>\n      <path id=\"Consolas-54\" d=\"M 3250 3609 \nL 2041 3609 \nL 2041 0 \nL 1478 0 \nL 1478 3609 \nL 269 3609 \nL 269 4084 \nL 3250 4084 \nL 3250 3609 \nz\n\" transform=\"scale(0.015625)\"/>\n      <path id=\"Consolas-4c\" d=\"M 3078 0 \nL 728 0 \nL 728 4084 \nL 1294 4084 \nL 1294 475 \nL 3078 475 \nL 3078 0 \nz\n\" transform=\"scale(0.015625)\"/>\n      <path id=\"Consolas-41\" d=\"M 3488 0 \nL 2881 0 \nL 2597 891 \nL 897 891 \nL 609 0 \nL 31 0 \nL 1388 4084 \nL 2150 4084 \nL 3488 0 \nz\nM 2438 1388 \nL 1747 3572 \nL 1056 1388 \nL 2438 1388 \nz\n\" transform=\"scale(0.015625)\"/>\n     </defs>\n     <use xlink:href=\"#Consolas-4e\"/>\n     <use xlink:href=\"#Consolas-65\" x=\"54.980469\"/>\n     <use xlink:href=\"#Consolas-74\" x=\"109.960938\"/>\n     <use xlink:href=\"#Consolas-20\" x=\"164.941406\"/>\n     <use xlink:href=\"#Consolas-53\" x=\"219.921875\"/>\n     <use xlink:href=\"#Consolas-68\" x=\"274.902344\"/>\n     <use xlink:href=\"#Consolas-6f\" x=\"329.882812\"/>\n     <use xlink:href=\"#Consolas-72\" x=\"384.863281\"/>\n     <use xlink:href=\"#Consolas-74\" x=\"439.84375\"/>\n     <use xlink:href=\"#Consolas-20\" x=\"494.824219\"/>\n     <use xlink:href=\"#Consolas-56\" x=\"549.804688\"/>\n     <use xlink:href=\"#Consolas-6f\" x=\"604.785156\"/>\n     <use xlink:href=\"#Consolas-6c\" x=\"659.765625\"/>\n     <use xlink:href=\"#Consolas-2e\" x=\"714.746094\"/>\n     <use xlink:href=\"#Consolas-20\" x=\"769.726562\"/>\n     <use xlink:href=\"#Consolas-76\" x=\"824.707031\"/>\n     <use xlink:href=\"#Consolas-73\" x=\"879.6875\"/>\n     <use xlink:href=\"#Consolas-20\" x=\"934.667969\"/>\n     <use xlink:href=\"#Consolas-50\" x=\"989.648438\"/>\n     <use xlink:href=\"#Consolas-6f\" x=\"1044.628906\"/>\n     <use xlink:href=\"#Consolas-73\" x=\"1099.609375\"/>\n     <use xlink:href=\"#Consolas-69\" x=\"1154.589844\"/>\n     <use xlink:href=\"#Consolas-74\" x=\"1209.570312\"/>\n     <use xlink:href=\"#Consolas-69\" x=\"1264.550781\"/>\n     <use xlink:href=\"#Consolas-6f\" x=\"1319.53125\"/>\n     <use xlink:href=\"#Consolas-6e\" x=\"1374.511719\"/>\n     <use xlink:href=\"#Consolas-20\" x=\"1429.492188\"/>\n     <use xlink:href=\"#Consolas-66\" x=\"1484.472656\"/>\n     <use xlink:href=\"#Consolas-6f\" x=\"1539.453125\"/>\n     <use xlink:href=\"#Consolas-72\" x=\"1594.433594\"/>\n     <use xlink:href=\"#Consolas-20\" x=\"1649.414062\"/>\n     <use xlink:href=\"#Consolas-54\" x=\"1704.394531\"/>\n     <use xlink:href=\"#Consolas-53\" x=\"1759.375\"/>\n     <use xlink:href=\"#Consolas-4c\" x=\"1814.355469\"/>\n     <use xlink:href=\"#Consolas-41\" x=\"1869.335938\"/>\n    </g>\n   </g>\n  </g>\n  <g id=\"axes_2\">\n   <g id=\"matplotlib.axis_3\">\n    <g id=\"ytick_8\">\n     <g id=\"line2d_31\">\n      <defs>\n       <path id=\"m1dffc368fc\" d=\"M 0 0 \nL 2 0 \n\" style=\"stroke: #0f0f0f; stroke-width: 0.2\"/>\n      </defs>\n      <g>\n       <use xlink:href=\"#m1dffc368fc\" x=\"714.653097\" y=\"284.636934\" style=\"fill: #0f0f0f; stroke: #0f0f0f; stroke-width: 0.2\"/>\n      </g>\n     </g>\n     <g id=\"text_18\">\n      <!-- −40000 -->\n      <g style=\"fill: #0f0f0f\" transform=\"translate(720.153097 288.372939)scale(0.10829 -0.10829)\">\n       <use xlink:href=\"#Consolas-2212\"/>\n       <use xlink:href=\"#Consolas-34\" x=\"54.980469\"/>\n       <use xlink:href=\"#Consolas-30\" x=\"109.960938\"/>\n       <use xlink:href=\"#Consolas-30\" x=\"164.941406\"/>\n       <use xlink:href=\"#Consolas-30\" x=\"219.921875\"/>\n       <use xlink:href=\"#Consolas-30\" x=\"274.902344\"/>\n      </g>\n     </g>\n    </g>\n    <g id=\"ytick_9\">\n     <g id=\"line2d_32\">\n      <g>\n       <use xlink:href=\"#m1dffc368fc\" x=\"714.653097\" y=\"247.047941\" style=\"fill: #0f0f0f; stroke: #0f0f0f; stroke-width: 0.2\"/>\n      </g>\n     </g>\n     <g id=\"text_19\">\n      <!-- −30000 -->\n      <g style=\"fill: #0f0f0f\" transform=\"translate(720.153097 250.783946)scale(0.10829 -0.10829)\">\n       <defs>\n        <path id=\"Consolas-33\" d=\"M 3072 1241 \nQ 3072 972 2962 736 \nQ 2853 500 2634 323 \nQ 2416 147 2084 45 \nQ 1753 -56 1313 -56 \nQ 1069 -56 875 -40 \nQ 681 -25 513 0 \nL 513 488 \nQ 706 453 922 434 \nQ 1138 416 1363 416 \nQ 1669 416 1886 470 \nQ 2103 525 2240 628 \nQ 2378 731 2440 878 \nQ 2503 1025 2503 1209 \nQ 2503 1378 2428 1503 \nQ 2353 1628 2217 1712 \nQ 2081 1797 1892 1839 \nQ 1703 1881 1478 1881 \nL 1013 1881 \nL 1013 2328 \nL 1484 2328 \nQ 1669 2328 1820 2376 \nQ 1972 2425 2080 2515 \nQ 2188 2606 2245 2739 \nQ 2303 2872 2303 3041 \nQ 2303 3369 2103 3519 \nQ 1903 3669 1516 3669 \nQ 1309 3669 1090 3628 \nQ 872 3588 622 3506 \nL 622 3981 \nQ 728 4019 848 4048 \nQ 969 4078 1089 4098 \nQ 1209 4119 1328 4130 \nQ 1447 4141 1556 4141 \nQ 1881 4141 2128 4070 \nQ 2375 4000 2540 3869 \nQ 2706 3738 2790 3550 \nQ 2875 3363 2875 3128 \nQ 2875 2778 2695 2540 \nQ 2516 2303 2203 2163 \nQ 2363 2138 2517 2063 \nQ 2672 1988 2795 1870 \nQ 2919 1753 2995 1593 \nQ 3072 1434 3072 1241 \nz\n\" transform=\"scale(0.015625)\"/>\n       </defs>\n       <use xlink:href=\"#Consolas-2212\"/>\n       <use xlink:href=\"#Consolas-33\" x=\"54.980469\"/>\n       <use xlink:href=\"#Consolas-30\" x=\"109.960938\"/>\n       <use xlink:href=\"#Consolas-30\" x=\"164.941406\"/>\n       <use xlink:href=\"#Consolas-30\" x=\"219.921875\"/>\n       <use xlink:href=\"#Consolas-30\" x=\"274.902344\"/>\n      </g>\n     </g>\n    </g>\n    <g id=\"ytick_10\">\n     <g id=\"line2d_33\">\n      <g>\n       <use xlink:href=\"#m1dffc368fc\" x=\"714.653097\" y=\"209.458948\" style=\"fill: #0f0f0f; stroke: #0f0f0f; stroke-width: 0.2\"/>\n      </g>\n     </g>\n     <g id=\"text_20\">\n      <!-- −20000 -->\n      <g style=\"fill: #0f0f0f\" transform=\"translate(720.153097 213.194953)scale(0.10829 -0.10829)\">\n       <use xlink:href=\"#Consolas-2212\"/>\n       <use xlink:href=\"#Consolas-32\" x=\"54.980469\"/>\n       <use xlink:href=\"#Consolas-30\" x=\"109.960938\"/>\n       <use xlink:href=\"#Consolas-30\" x=\"164.941406\"/>\n       <use xlink:href=\"#Consolas-30\" x=\"219.921875\"/>\n       <use xlink:href=\"#Consolas-30\" x=\"274.902344\"/>\n      </g>\n     </g>\n    </g>\n    <g id=\"ytick_11\">\n     <g id=\"line2d_34\">\n      <g>\n       <use xlink:href=\"#m1dffc368fc\" x=\"714.653097\" y=\"171.869955\" style=\"fill: #0f0f0f; stroke: #0f0f0f; stroke-width: 0.2\"/>\n      </g>\n     </g>\n     <g id=\"text_21\">\n      <!-- −10000 -->\n      <g style=\"fill: #0f0f0f\" transform=\"translate(720.153097 175.60596)scale(0.10829 -0.10829)\">\n       <use xlink:href=\"#Consolas-2212\"/>\n       <use xlink:href=\"#Consolas-31\" x=\"54.980469\"/>\n       <use xlink:href=\"#Consolas-30\" x=\"109.960938\"/>\n       <use xlink:href=\"#Consolas-30\" x=\"164.941406\"/>\n       <use xlink:href=\"#Consolas-30\" x=\"219.921875\"/>\n       <use xlink:href=\"#Consolas-30\" x=\"274.902344\"/>\n      </g>\n     </g>\n    </g>\n    <g id=\"ytick_12\">\n     <g id=\"line2d_35\">\n      <g>\n       <use xlink:href=\"#m1dffc368fc\" x=\"714.653097\" y=\"134.280962\" style=\"fill: #0f0f0f; stroke: #0f0f0f; stroke-width: 0.2\"/>\n      </g>\n     </g>\n     <g id=\"text_22\">\n      <!-- 0 -->\n      <g style=\"fill: #0f0f0f\" transform=\"translate(720.153097 138.016967)scale(0.10829 -0.10829)\">\n       <use xlink:href=\"#Consolas-30\"/>\n      </g>\n     </g>\n    </g>\n    <g id=\"ytick_13\">\n     <g id=\"line2d_36\">\n      <g>\n       <use xlink:href=\"#m1dffc368fc\" x=\"714.653097\" y=\"96.691969\" style=\"fill: #0f0f0f; stroke: #0f0f0f; stroke-width: 0.2\"/>\n      </g>\n     </g>\n     <g id=\"text_23\">\n      <!-- 10000 -->\n      <g style=\"fill: #0f0f0f\" transform=\"translate(720.153097 100.427974)scale(0.10829 -0.10829)\">\n       <use xlink:href=\"#Consolas-31\"/>\n       <use xlink:href=\"#Consolas-30\" x=\"54.980469\"/>\n       <use xlink:href=\"#Consolas-30\" x=\"109.960938\"/>\n       <use xlink:href=\"#Consolas-30\" x=\"164.941406\"/>\n       <use xlink:href=\"#Consolas-30\" x=\"219.921875\"/>\n      </g>\n     </g>\n    </g>\n    <g id=\"ytick_14\">\n     <g id=\"line2d_37\">\n      <g>\n       <use xlink:href=\"#m1dffc368fc\" x=\"714.653097\" y=\"59.102976\" style=\"fill: #0f0f0f; stroke: #0f0f0f; stroke-width: 0.2\"/>\n      </g>\n     </g>\n     <g id=\"text_24\">\n      <!-- 20000 -->\n      <g style=\"fill: #0f0f0f\" transform=\"translate(720.153097 62.838981)scale(0.10829 -0.10829)\">\n       <use xlink:href=\"#Consolas-32\"/>\n       <use xlink:href=\"#Consolas-30\" x=\"54.980469\"/>\n       <use xlink:href=\"#Consolas-30\" x=\"109.960938\"/>\n       <use xlink:href=\"#Consolas-30\" x=\"164.941406\"/>\n       <use xlink:href=\"#Consolas-30\" x=\"219.921875\"/>\n      </g>\n     </g>\n    </g>\n    <g id=\"text_25\">\n     <!-- Position (1M $) -->\n     <g style=\"fill: #0f0f0f\" transform=\"translate(767.783815 213.193799)rotate(-90)scale(0.10829 -0.10829)\">\n      <defs>\n       <path id=\"Consolas-4d\" d=\"M 3366 0 \nL 2822 0 \nL 2741 2547 \nL 2706 3525 \nL 2516 2956 \nL 1913 1331 \nL 1528 1331 \nL 953 2894 \nL 763 3525 \nL 750 2503 \nL 678 0 \nL 153 0 \nL 353 4084 \nL 1013 4084 \nL 1563 2547 \nL 1741 2028 \nL 1913 2547 \nL 2491 4084 \nL 3169 4084 \nL 3366 0 \nz\n\" transform=\"scale(0.015625)\"/>\n      </defs>\n      <use xlink:href=\"#Consolas-50\"/>\n      <use xlink:href=\"#Consolas-6f\" x=\"54.980469\"/>\n      <use xlink:href=\"#Consolas-73\" x=\"109.960938\"/>\n      <use xlink:href=\"#Consolas-69\" x=\"164.941406\"/>\n      <use xlink:href=\"#Consolas-74\" x=\"219.921875\"/>\n      <use xlink:href=\"#Consolas-69\" x=\"274.902344\"/>\n      <use xlink:href=\"#Consolas-6f\" x=\"329.882812\"/>\n      <use xlink:href=\"#Consolas-6e\" x=\"384.863281\"/>\n      <use xlink:href=\"#Consolas-20\" x=\"439.84375\"/>\n      <use xlink:href=\"#Consolas-28\" x=\"494.824219\"/>\n      <use xlink:href=\"#Consolas-31\" x=\"549.804688\"/>\n      <use xlink:href=\"#Consolas-4d\" x=\"604.785156\"/>\n      <use xlink:href=\"#Consolas-20\" x=\"659.765625\"/>\n      <use xlink:href=\"#Consolas-24\" x=\"714.746094\"/>\n      <use xlink:href=\"#Consolas-29\" x=\"769.726562\"/>\n     </g>\n    </g>\n   </g>\n   <g id=\"line2d_38\">\n    <path d=\"M -1 63.456932 \nL 12.727764 70.537886 \nL 18.211555 82.458221 \nL 23.695347 99.384582 \nL 29.179139 131.002262 \nL 34.66293 144.952628 \nL 51.114305 161.126194 \nL 56.598097 179.080314 \nL 62.081889 192.85683 \nL 67.56568 207.498231 \nL 73.049472 210.672058 \nL 89.500847 203.694639 \nL 94.984639 207.414258 \nL 100.46843 203.440086 \nL 105.952222 183.236378 \nL 111.436014 173.700351 \nL 127.887389 168.02524 \nL 133.37118 167.643148 \nL 138.854972 164.453534 \nL 144.338764 163.076349 \nL 149.822555 152.142989 \nL 166.27393 139.453809 \nL 171.757722 130.30322 \nL 177.241514 129.421833 \nL 182.725305 117.400159 \nL 188.209097 100.496051 \nL 204.660472 86.570005 \nL 210.144264 78.65771 \nL 215.628055 73.697316 \nL 221.111847 56.906727 \nL 226.595639 42.399931 \nL 248.530805 40.063888 \nL 254.014597 37.106988 \nL 259.498389 39.468366 \nL 264.98218 39.043497 \nL 281.433555 46.188413 \nL 286.917347 51.432642 \nL 292.401139 50.925002 \nL 297.88493 52.84253 \nL 303.368722 51.253267 \nL 319.820097 62.766362 \nL 325.303889 80.009749 \nL 330.78768 94.23192 \nL 336.271472 92.811695 \nL 341.755264 88.560267 \nL 363.69043 109.747867 \nL 369.174222 118.330224 \nL 374.658014 122.594695 \nL 380.141805 138.454431 \nL 396.59318 153.698722 \nL 402.076972 164.406736 \nL 407.560764 174.703752 \nL 413.044555 172.808966 \nL 418.528347 174.072407 \nL 440.463514 176.938869 \nL 445.947305 177.967905 \nL 451.431097 184.901495 \nL 456.914889 189.326397 \nL 473.366264 180.126754 \nL 478.850055 179.775259 \nL 484.333847 179.783867 \nL 489.817639 172.253814 \nL 495.30143 165.144984 \nL 511.752805 163.08195 \nL 517.236597 156.538157 \nL 522.720389 141.729409 \nL 528.20418 130.142489 \nL 533.687972 120.502454 \nL 550.139347 104.59716 \nL 555.623139 99.782424 \nL 561.10693 91.254421 \nL 566.590722 79.50256 \nL 572.074514 79.002589 \nL 588.525889 86.680066 \nL 594.00968 110.425409 \nL 599.493472 115.885473 \nL 604.977264 108.222055 \nL 610.461055 108.795061 \nL 626.91243 126.305179 \nL 632.396222 131.263694 \nL 637.880014 131.266814 \nL 643.363805 132.69903 \nL 648.847597 135.744715 \nL 665.298972 140.67361 \nL 670.782764 149.038288 \nL 676.266555 159.733973 \nL 681.750347 169.511396 \nL 687.234139 179.532735 \nL 703.685514 183.959402 \nL 709.169305 185.907189 \nL 714.653097 196.885505 \nL 714.653097 196.885505 \n\" clip-path=\"url(#pabadc0df42)\" style=\"fill: none; stroke: #00acff; stroke-width: 1.1; stroke-linejoin: miter; stroke-linecap: square\"/>\n   </g>\n   <g id=\"patch_259\">\n    <path d=\"M 56.598097 313.109728 \nL 56.598097 23.964 \n\" style=\"fill: none; stroke: #0f0f0f; stroke-width: 0.2; stroke-linejoin: miter; stroke-linecap: square\"/>\n   </g>\n   <g id=\"patch_260\">\n    <path d=\"M 714.653097 313.109728 \nL 714.653097 23.964 \n\" style=\"fill: none; stroke: #0f0f0f; stroke-width: 0.2; stroke-linejoin: miter; stroke-linecap: square\"/>\n   </g>\n   <g id=\"patch_261\">\n    <path d=\"M 56.598097 313.109728 \nL 714.653097 313.109728 \n\" style=\"fill: none; stroke: #0f0f0f; stroke-width: 0.2; stroke-linejoin: miter; stroke-linecap: square\"/>\n   </g>\n   <g id=\"patch_262\">\n    <path d=\"M 56.598097 23.964 \nL 714.653097 23.964 \n\" style=\"fill: none; stroke: #0f0f0f; stroke-width: 0.2; stroke-linejoin: miter; stroke-linecap: square\"/>\n   </g>\n   <g id=\"legend_1\">\n    <g id=\"patch_263\">\n     <path d=\"M 64.178397 63.709814 \nL 223.870614 63.709814 \nQ 226.036414 63.709814 226.036414 61.544014 \nL 226.036414 31.5443 \nQ 226.036414 29.3785 223.870614 29.3785 \nL 64.178397 29.3785 \nQ 62.012597 29.3785 62.012597 31.5443 \nL 62.012597 61.544014 \nQ 62.012597 63.709814 64.178397 63.709814 \nz\n\" style=\"fill: #ffffff; opacity: 0.6; stroke: #ffffff; stroke-linejoin: miter\"/>\n    </g>\n    <g id=\"patch_264\">\n     <path d=\"M 66.344197 41.61527 \nL 88.002197 41.61527 \nL 88.002197 34.03497 \nL 66.344197 34.03497 \nz\n\" style=\"fill: #e4003a\"/>\n    </g>\n    <g id=\"text_26\">\n     <!-- Net Short Vol. (1k $) -->\n     <g style=\"fill: #0f0f0f\" transform=\"translate(96.665397 41.61527)scale(0.10829 -0.10829)\">\n      <use xlink:href=\"#Consolas-4e\"/>\n      <use xlink:href=\"#Consolas-65\" x=\"54.980469\"/>\n      <use xlink:href=\"#Consolas-74\" x=\"109.960938\"/>\n      <use xlink:href=\"#Consolas-20\" x=\"164.941406\"/>\n      <use xlink:href=\"#Consolas-53\" x=\"219.921875\"/>\n      <use xlink:href=\"#Consolas-68\" x=\"274.902344\"/>\n      <use xlink:href=\"#Consolas-6f\" x=\"329.882812\"/>\n      <use xlink:href=\"#Consolas-72\" x=\"384.863281\"/>\n      <use xlink:href=\"#Consolas-74\" x=\"439.84375\"/>\n      <use xlink:href=\"#Consolas-20\" x=\"494.824219\"/>\n      <use xlink:href=\"#Consolas-56\" x=\"549.804688\"/>\n      <use xlink:href=\"#Consolas-6f\" x=\"604.785156\"/>\n      <use xlink:href=\"#Consolas-6c\" x=\"659.765625\"/>\n      <use xlink:href=\"#Consolas-2e\" x=\"714.746094\"/>\n      <use xlink:href=\"#Consolas-20\" x=\"769.726562\"/>\n      <use xlink:href=\"#Consolas-28\" x=\"824.707031\"/>\n      <use xlink:href=\"#Consolas-31\" x=\"879.6875\"/>\n      <use xlink:href=\"#Consolas-6b\" x=\"934.667969\"/>\n      <use xlink:href=\"#Consolas-20\" x=\"989.648438\"/>\n      <use xlink:href=\"#Consolas-24\" x=\"1044.628906\"/>\n      <use xlink:href=\"#Consolas-29\" x=\"1099.609375\"/>\n     </g>\n    </g>\n    <g id=\"line2d_39\">\n     <path d=\"M 66.344197 53.366427 \nL 77.173197 53.366427 \nL 88.002197 53.366427 \n\" style=\"fill: none; stroke: #00acff; stroke-width: 1.1; stroke-linejoin: miter; stroke-linecap: square\"/>\n    </g>\n    <g id=\"text_27\">\n     <!-- Position (1M $) -->\n     <g style=\"fill: #0f0f0f\" transform=\"translate(96.665397 57.156577)scale(0.10829 -0.10829)\">\n      <use xlink:href=\"#Consolas-50\"/>\n      <use xlink:href=\"#Consolas-6f\" x=\"54.980469\"/>\n      <use xlink:href=\"#Consolas-73\" x=\"109.960938\"/>\n      <use xlink:href=\"#Consolas-69\" x=\"164.941406\"/>\n      <use xlink:href=\"#Consolas-74\" x=\"219.921875\"/>\n      <use xlink:href=\"#Consolas-69\" x=\"274.902344\"/>\n      <use xlink:href=\"#Consolas-6f\" x=\"329.882812\"/>\n      <use xlink:href=\"#Consolas-6e\" x=\"384.863281\"/>\n      <use xlink:href=\"#Consolas-20\" x=\"439.84375\"/>\n      <use xlink:href=\"#Consolas-28\" x=\"494.824219\"/>\n      <use xlink:href=\"#Consolas-31\" x=\"549.804688\"/>\n      <use xlink:href=\"#Consolas-4d\" x=\"604.785156\"/>\n      <use xlink:href=\"#Consolas-20\" x=\"659.765625\"/>\n      <use xlink:href=\"#Consolas-24\" x=\"714.746094\"/>\n      <use xlink:href=\"#Consolas-29\" x=\"769.726562\"/>\n     </g>\n    </g>\n   </g>\n  </g>\n </g>\n <defs>\n  <clipPath id=\"pabadc0df42\">\n   <rect x=\"56.598097\" y=\"23.964\" width=\"658.055\" height=\"289.145728\"/>\n  </clipPath>\n </defs>\n</svg>\n",
      "text/plain": [
       "<Figure size 1650x750 with 2 Axes>"
      ]
     },
     "metadata": {},
     "output_type": "display_data"
    }
   ],
   "source": [
    "fig, ax1 = plt.subplots(figsize=(11, 5), dpi=150)\n",
    "ax2 = ax1.twinx()\n",
    "openbb.stocks.dps.spos(\n",
    "    symbol=symbol,\n",
    "    limit=84,\n",
    "    raw=False,\n",
    "    export=\"\",\n",
    "    external_axes=[ax1, ax2],\n",
    "    chart=True,\n",
    ")\n",
    "fig.tight_layout()\n",
    "\n",
    "f = io.BytesIO()\n",
    "fig.savefig(f, format=\"svg\")\n",
    "net_short_position = f.getvalue().decode(\"utf-8\")"
   ]
  },
  {
   "cell_type": "code",
   "execution_count": null,
   "id": "ac0bfbda-e4b8-4b3b-b8e7-c02639fdb971",
   "metadata": {},
   "outputs": [],
   "source": [
    "fig, (ax1, ax2) = plt.subplots(nrows=2, ncols=1, figsize=(11, 5), dpi=150)\n",
    "openbb.stocks.dps.dpotc(\n",
    "    symbol=symbol,\n",
    "    external_axes=[ax1, ax2],\n",
    "    chart=True\n",
    ")\n",
    "fig.tight_layout()\n",
    "\n",
    "f = io.BytesIO()\n",
    "fig.savefig(f, format=\"svg\")\n",
    "dark_pools = f.getvalue().decode(\"utf-8\")"
   ]
  },
  {
   "cell_type": "code",
   "execution_count": null,
   "id": "d8bb53c1-147e-4342-af61-0d0a9cc56e59",
   "metadata": {},
   "outputs": [],
   "source": [
    "fig, (ax1, ax2) = plt.subplots(nrows=2, ncols=1, figsize=(11, 5), dpi=150)\n",
    "ax3 = ax1.twinx()\n",
    "openbb.stocks.dps.psi_sg(\n",
    "    symbol=symbol,\n",
    "    external_axes=[ax1, ax2, ax3],\n",
    "    chart=True,\n",
    ")\n",
    "fig.tight_layout()\n",
    "\n",
    "f = io.BytesIO()\n",
    "fig.savefig(f, format=\"svg\")\n",
    "price_vs_short_interest = f.getvalue().decode(\"utf-8\")"
   ]
  },
  {
   "cell_type": "code",
   "execution_count": null,
   "id": "394668e1-1158-4a2b-8a38-04c72a6abdd6",
   "metadata": {},
   "outputs": [],
   "source": [
    "fig, (candles, volume) = plt.subplots(nrows=2, ncols=1, figsize=(11, 5), dpi=150)\n",
    "openbb.stocks.candle(\n",
    "    symbol=symbol,\n",
    "    data=ticker_data,\n",
    "    use_matplotlib=True,\n",
    "    external_axes=[candles, volume],\n",
    "    chart=True,\n",
    ")\n",
    "candles.set_xticklabels(\"\")\n",
    "fig.tight_layout()\n",
    "\n",
    "f = io.BytesIO()\n",
    "fig.savefig(f, format=\"svg\")\n",
    "price_chart = f.getvalue().decode(\"utf-8\")"
   ]
  },
  {
   "cell_type": "code",
   "execution_count": null,
   "id": "900686a3",
   "metadata": {},
   "outputs": [],
   "source": [
    "fig, ax = plt.subplots(figsize=(11, 3), dpi=150)\n",
    "openbb.stocks.dd.pt(\n",
    "    symbol=symbol,\n",
    "    start_date=\"2022-01-01\",\n",
    "    data=ticker_data,\n",
    "    limit=10,\n",
    "    raw=False,\n",
    "    external_axes=[ax],\n",
    "    chart=True\n",
    ")\n",
    "fig.tight_layout()\n",
    "f = io.BytesIO()\n",
    "fig.savefig(f, format=\"svg\")\n",
    "price_target_chart = f.getvalue().decode(\"utf-8\")"
   ]
  },
  {
   "cell_type": "code",
   "execution_count": null,
   "id": "61d62e1a-199e-481d-b57d-38ab486951be",
   "metadata": {},
   "outputs": [],
   "source": [
    "df = openbb.stocks.dd.pt(symbol=symbol)\n",
    "avg_ratings_last_30_days= 0\n",
    "if not df.empty:\n",
    "    avg_ratings_last_30_days = round(\n",
    "        np.mean(\n",
    "            df[datetime.datetime.now() - datetime.timedelta(days=30) :][\n",
    "                \"Price Target\"\n",
    "            ].values\n",
    "        ),\n",
    "        2,\n",
    "    )\n",
    "last_price = round(ticker_data[\"Close\"][-1], 2)"
   ]
  },
  {
   "cell_type": "code",
   "execution_count": null,
   "id": "f3733ff2",
   "metadata": {},
   "outputs": [],
   "source": [
    "fig, ax = plt.subplots(figsize=(11, 3), dpi=150)\n",
    "openbb.stocks.dd.rot(\n",
    "    symbol=symbol,\n",
    "    limit=10,\n",
    "    raw=False,\n",
    "    export=\"\",\n",
    "    external_axes=[ax],\n",
    "    chart=True\n",
    ")\n",
    "fig.tight_layout()\n",
    "f = io.BytesIO()\n",
    "fig.savefig(f, format=\"svg\")\n",
    "ratings_over_time_chart = f.getvalue().decode(\"utf-8\")"
   ]
  },
  {
   "cell_type": "code",
   "execution_count": null,
   "id": "924f8042-e58a-449c-91a3-7923158ff714",
   "metadata": {},
   "outputs": [],
   "source": [
    "fig, (ax1, ax2) = plt.subplots(nrows=2, ncols=1, figsize=(11, 3), dpi=150)\n",
    "openbb.common.ta.rsi(\n",
    "    ticker_data[\"Close\"], external_axes=[ax1, ax2], chart=True\n",
    ")\n",
    "fig.tight_layout()\n",
    "f = io.BytesIO()\n",
    "fig.savefig(f, format=\"svg\")\n",
    "ta_rsi = f.getvalue().decode(\"utf-8\")"
   ]
  },
  {
   "cell_type": "code",
   "execution_count": null,
   "id": "953a340e-7ea1-4aa3-ae1d-872683dced41",
   "metadata": {},
   "outputs": [],
   "source": [
    "df = openbb.common.ta.rsi(ticker_data[\"Close\"])\n",
    "rsi_value = round(df.values[-1][0], 2)\n",
    "rsi_value"
   ]
  },
  {
   "cell_type": "code",
   "execution_count": null,
   "id": "dce71711-20b3-4c69-af52-e0f9a69991f8",
   "metadata": {},
   "outputs": [],
   "source": [
    "from sklearn.linear_model import LinearRegression\n",
    "\n",
    "model = LinearRegression().fit(\n",
    "    np.array(range(len(ticker_data[\"Close\"][-30:].index))).reshape(-1, 1),\n",
    "    ticker_data[\"Close\"][-30:].values,\n",
    ")\n",
    "regression_slope = round(model.coef_[0], 2)"
   ]
  },
  {
   "cell_type": "code",
   "execution_count": null,
   "id": "6272e34b-9511-4b48-9eea-ea882ce9846a",
   "metadata": {},
   "outputs": [],
   "source": [
    "import pandas as pd\n",
    "\n",
    "df_insider = pd.DataFrame.from_dict(\n",
    "    openbb.stocks.ins.lins(symbol=symbol)\n",
    ").head(10)\n",
    "df_insider[\"Val ($)\"] = df_insider[\"Value ($)\"].replace({\",\": \"\"}, regex=True)\n",
    "df_insider[\"Trade\"] = df_insider.apply(\n",
    "    lambda row: (-1 * float(row[\"Val ($)\"]))\n",
    "    if row[\"Transaction\"] == \"Sale\"\n",
    "    else (float(row[\"Val ($)\"]) if row[\"Transaction\"] == \"Buy\" else 0),\n",
    "    axis=1,\n",
    ")\n",
    "last_10_insider_trading = round(sum(df_insider[\"Trade\"]) / 1_000_000, 2)\n",
    "df_insider = df_insider.drop(columns=[\"Val ($)\", \"Trade\"])\n",
    "df_insider"
   ]
  },
  {
   "cell_type": "code",
   "execution_count": null,
   "id": "29254666-58c6-4686-87e6-2635ad8387e2",
   "metadata": {},
   "outputs": [],
   "source": [
    "fig, ax = plt.subplots(figsize=(11, 3), dpi=150)\n",
    "openbb.stocks.ba.headlines(symbol=symbol, external_axes=[ax], chart=True)\n",
    "fig.tight_layout()\n",
    "f = io.BytesIO()\n",
    "fig.savefig(f, format=\"svg\")\n",
    "finbrain_sentiment = f.getvalue().decode(\"utf-8\")"
   ]
  },
  {
   "cell_type": "code",
   "execution_count": null,
   "id": "b8251b47-8ecc-47be-83f3-d9f108596898",
   "metadata": {},
   "outputs": [],
   "source": [
    "df_sentiment_finbrain = openbb.stocks.ca.sentiment(\n",
    "    symbols=[symbol]\n",
    ")\n",
    "finbrain_sentiment_val = float(df_sentiment_finbrain.values[-1][0])"
   ]
  },
  {
   "cell_type": "code",
   "execution_count": null,
   "id": "6fe6e513-d568-41b4-8aa0-37cc578c9dc3",
   "metadata": {},
   "outputs": [],
   "source": [
    "(\n",
    "    watchlist_count,\n",
    "    n_cases,\n",
    "    n_bull,\n",
    "    n_bear,\n",
    ") = openbb.stocks.ba.bullbear(symbol=symbol)\n",
    "stocktwits_sentiment = f\"Watchlist count: {watchlist_count}</br>\"\n",
    "if n_cases > 0:\n",
    "    stocktwits_sentiment += f\"\\nLast {n_cases} sentiment messages:</br>\"\n",
    "    stocktwits_sentiment += f\"Bullish {round(100*n_bull/n_cases, 2)}%</br>\"\n",
    "    stocktwits_sentiment += f\"Bearish {round(100*n_bear/n_cases, 2)}%\"\n",
    "else:\n",
    "    stocktwits_sentiment += \"No messages found\""
   ]
  },
  {
   "cell_type": "code",
   "execution_count": null,
   "id": "bfb75909-b877-4b3a-82a7-21ce174a7bb4",
   "metadata": {},
   "outputs": [],
   "source": [
    "fig, (ax1, ax2) = plt.subplots(nrows=2, ncols=1, figsize=(11, 5), dpi=150)\n",
    "openbb.stocks.ba.snews(symbol, external_axes=[ax1, ax2],chart=True)\n",
    "fig.tight_layout()\n",
    "f = io.BytesIO()\n",
    "fig.savefig(f, format=\"svg\")\n",
    "snews = f.getvalue().decode(\"utf-8\")"
   ]
  },
  {
   "cell_type": "code",
   "execution_count": null,
   "id": "329c9e1b-e1de-4836-91fd-656cc87f7111",
   "metadata": {},
   "outputs": [],
   "source": [
    "ticker_data_all = openbb.stocks.load(\n",
    "    symbol=symbol, start_date=datetime.datetime.now() - datetime.timedelta(days=5 * 12 * 21)\n",
    ")\n",
    "ticker_data_all[\"Returns\"] = ticker_data_all[\"Adj Close\"].pct_change()"
   ]
  },
  {
   "cell_type": "code",
   "execution_count": null,
   "id": "37743ef3-2f16-4166-bfcc-a0fe3eb959bc",
   "metadata": {},
   "outputs": [],
   "source": [
    "# Deprecated in the new API\n",
    "\n",
    "# fig, ax = plt.subplots(figsize=(11, 3), dpi=150)\n",
    "# openbb.stocks.qa.bw(symbol, ticker_data_all, \"Returns\", False, external_axes=[ax])\n",
    "# fig.tight_layout()\n",
    "# f = io.BytesIO()\n",
    "# fig.savefig(f, format=\"svg\")\n",
    "# bw_month = f.getvalue().decode(\"utf-8\")"
   ]
  },
  {
   "cell_type": "code",
   "execution_count": null,
   "id": "16b33868-23dc-4c77-ac00-acb452da386c",
   "metadata": {},
   "outputs": [],
   "source": [
    "# Deprecated in the new API\n",
    "\n",
    "# fig, ax = plt.subplots(figsize=(11, 3), dpi=150)\n",
    "# openbb.stocks.qa.bw(symbol, ticker_data_all, \"Returns\", True, external_axes=[ax])\n",
    "# fig.tight_layout()\n",
    "# f = io.BytesIO()\n",
    "# fig.savefig(f, format=\"svg\")\n",
    "# bw_year = f.getvalue().decode(\"utf-8\")"
   ]
  },
  {
   "cell_type": "code",
   "execution_count": null,
   "id": "c688fa89-3773-41fe-8ab8-bb6a610f2287",
   "metadata": {},
   "outputs": [],
   "source": [
    "# TODO Fix predictions virtual path on api refactored\n",
    "\n",
    "if predictions:\n",
    "    regression_val = round(\n",
    "        openbb.stocks.pred.models.regression.get_regression_model(\n",
    "            ticker_data_all[\"Close\"], 1, 80, 20, 1\n",
    "        )[0][-1],\n",
    "        2,\n",
    "    )\n",
    "    regression_val"
   ]
  },
  {
   "cell_type": "code",
   "execution_count": null,
   "id": "66e51d40-3dca-46c0-abd6-4c1f04f59732",
   "metadata": {},
   "outputs": [],
   "source": [
    "# TODO Fix predictions virtual path on api refactored\n",
    "\n",
    "if predictions:\n",
    "    fig, ax = plt.subplots(figsize=(11, 3), dpi=150)\n",
    "    openbb.stocks.pred.regression(\n",
    "        symbol, ticker_data_all[\"Close\"], 1, 80, 20, 1, external_axes=[ax]\n",
    "    )\n",
    "    fig.tight_layout()\n",
    "    f = io.BytesIO()\n",
    "    fig.savefig(f, format=\"svg\")\n",
    "    regression = f.getvalue().decode(\"utf-8\")"
   ]
  },
  {
   "cell_type": "code",
   "execution_count": null,
   "id": "90e77854-0652-4f62-9c0b-89d3fda456c6",
   "metadata": {},
   "outputs": [],
   "source": [
    "# TODO Fix predictions virtual path on api refactored\n",
    "\n",
    "if predictions:\n",
    "    fig, (ax1, ax2) = plt.subplots(nrows=1, ncols=2, figsize=(11, 3), dpi=150)\n",
    "    openbb.stocks.pred.mc(ticker_data[\"Close\"], 30, 100, external_axes=[ax1, ax2])\n",
    "    fig.tight_layout()\n",
    "    f = io.BytesIO()\n",
    "    fig.savefig(f, format=\"svg\")\n",
    "    mc = f.getvalue().decode(\"utf-8\")"
   ]
  },
  {
   "cell_type": "code",
   "execution_count": null,
   "id": "bb97c78c-4c4e-4e24-a2a1-29cdf47839c5",
   "metadata": {},
   "outputs": [],
   "source": [
    "# TODO Fix predictions virtual path on api refactored\n",
    "\n",
    "if predictions:\n",
    "    fig, ax = plt.subplots(figsize=(11, 3), dpi=150)\n",
    "    openbb.stocks.pred.regression(\n",
    "        symbol, ticker_data_all[\"Close\"], 1, 80, 20, 1, external_axes=[ax]\n",
    "    )\n",
    "    fig.tight_layout()\n",
    "    f = io.BytesIO()\n",
    "    fig.savefig(f, format=\"svg\")\n",
    "    regression = f.getvalue().decode(\"utf-8\")"
   ]
  },
  {
   "cell_type": "markdown",
   "id": "ac501a32-124d-4d21-aae1-a8d147bb1071",
   "metadata": {},
   "source": [
    "## Render the report template to a file"
   ]
  },
  {
   "cell_type": "code",
   "execution_count": null,
   "id": "abfe37e4-ea38-42c3-8fb5-7cceb233fb12",
   "metadata": {},
   "outputs": [],
   "source": [
    "body = \"\"\n",
    "\n",
    "img = f'<img src=\"data:image/png;base64,{openbb_image_encoded.decode()}\" alt=\"OpenBB\" style=\"width:144px;\">'\n",
    "body += widgets.header(\n",
    "    img,\n",
    "    author,\n",
    "    report_date,\n",
    "    report_time,\n",
    "    report_timezone,\n",
    "    f\"<b>INVESTMENT RESEARCH REPORT:</b> {symbol}\",\n",
    ")\n",
    "\n",
    "body += widgets.tablinks(\n",
    "    [\n",
    "        \"Summary\",\n",
    "        \"Overview\",\n",
    "        \"Analyst Opinions\",\n",
    "        \"Fundamental Analysis\",\n",
    "        \"Dark Pool and Shorts\",\n",
    "        \"Technical Analysis\",\n",
    "        \"Insider Trading\",\n",
    "        \"Behavioural Analysis\",\n",
    "        \"Quantitative Analysis\",\n",
    "        \"Prediction Techniques\",\n",
    "    ]\n",
    ")\n",
    "\n",
    "htmlcode = widgets.h(3, \"KPIs\")\n",
    "htmlcode += widgets.kpi(\n",
    "    [last_price],\n",
    "    [\n",
    "        \"Last closing price is above the average price ratings of last 30 days\",\n",
    "        \"Average price ratings of last 30 day is above last closing price\",\n",
    "    ],\n",
    "    avg_ratings_last_30_days,\n",
    ")\n",
    "if predictions:\n",
    "    htmlcode += widgets.kpi(\n",
    "        [0],\n",
    "        [\n",
    "            \"Regression (dollars per market day) on last 30 market days is negative\",\n",
    "            \"Regression (dollars per market day) on last 30 market days is positive\",\n",
    "        ],\n",
    "        regression_slope,\n",
    "    )\n",
    "htmlcode += widgets.kpi(\n",
    "    [30, 70],\n",
    "    [\"RSI level is oversold\", \"RSI level is normal\", \"RSI level is overbought\"],\n",
    "    rsi_value,\n",
    ")\n",
    "htmlcode += widgets.kpi(\n",
    "    [0],\n",
    "    [\n",
    "        \"The sum of last 10 insider trading (in millions) was negative\",\n",
    "        \"The sum of last 10 insider trading (in millions) was positive\",\n",
    "    ],\n",
    "    last_10_insider_trading,\n",
    ")\n",
    "htmlcode += widgets.kpi(\n",
    "    [-0.1, 0.1],\n",
    "    [\n",
    "        \"Last FinBrain sentiment is bearish\",\n",
    "        \" Last FinBrain sentiment is neutral\",\n",
    "        \"Last FinBrain sentiment is bullish\",\n",
    "    ],\n",
    "    finbrain_sentiment_val,\n",
    ")\n",
    "if predictions:\n",
    "    htmlcode += widgets.kpi(\n",
    "        [0],\n",
    "        [\n",
    "            \"The regression for the next 20th market price is below closing price\",\n",
    "            \"The regression for the next 20th market price is above closing price\",\n",
    "        ],\n",
    "        round(regression_val - last_price, 2),\n",
    "    )\n",
    "body += widgets.add_tab(\"Summary\", htmlcode)\n",
    "\n",
    "htmlcode = widgets.row([widgets.h(3, \"Price Chart\") + price_chart])\n",
    "htmlcode += widgets.row(\n",
    "    [widgets.h(3, \"Quote\") + quote_data.to_html()]\n",
    ")\n",
    "htmlcode += widgets.row(\n",
    "    [widgets.h(3, \"Description\") + widgets.p(overview)]\n",
    ")\n",
    "body += widgets.add_tab(\"Overview\", htmlcode)\n",
    "\n",
    "htmlcode = widgets.row([widgets.h(3, \"Price Target Chart\") + price_target_chart])\n",
    "htmlcode += widgets.row([widgets.h(3, \"Analyst Ratings over time\") + ratings_over_time_chart])\n",
    "htmlcode += widgets.row([widgets.h(3, \"Analyst Ratings\") + df_analyst.to_html()])\n",
    "htmlcode += widgets.row([widgets.h(3, \"Analyst Recommendations\") + df_rating.to_html()])\n",
    "\n",
    "body += widgets.add_tab(\"Analyst Opinions\", htmlcode)\n",
    "\n",
    "htmlcode = widgets.row(\n",
    "    [widgets.h(3, \"Estimates\") + df_year_estimates.head().to_html()]\n",
    ")\n",
    "htmlcode += widgets.row(\n",
    "    [widgets.h(3, \"Earnings\") + df_quarter_earnings.head().to_html()]\n",
    ")\n",
    "htmlcode += widgets.row(\n",
    "    [widgets.h(3, \"Revenues\") + df_quarter_revenues.head().to_html()]\n",
    ")\n",
    "htmlcode += widgets.row(\n",
    "    [widgets.h(3, \"Major Institutional Shareholders\") + df_institutional_shareholders.head().to_html()]\n",
    ")\n",
    "htmlcode += widgets.row(\n",
    "    [widgets.h(3, \"SEC filings\") + df_sec_filings.to_html(escape=False)]\n",
    ")\n",
    "body += widgets.add_tab(\"Fundamental Analysis\", htmlcode)\n",
    "\n",
    "htmlcode = widgets.row([net_short_position])\n",
    "htmlcode += widgets.row([price_vs_short_interest])\n",
    "htmlcode += widgets.row([dark_pools])\n",
    "body += widgets.add_tab(\"Dark Pool and Shorts\", htmlcode)\n",
    "\n",
    "body += widgets.add_tab(\"Technical Analysis\", widgets.row([ta_rsi]))\n",
    "\n",
    "htmlcode = widgets.row(\n",
    "    [\n",
    "        widgets.h(3, \"Last Activity\")\n",
    "        + df_insider.head(10).to_html(col_space=\"75px\")\n",
    "    ]\n",
    ")\n",
    "body += widgets.add_tab(\"Insider Trading\", htmlcode)\n",
    "\n",
    "htmlcode = widgets.row([finbrain_sentiment])\n",
    "htmlcode += widgets.row([snews])\n",
    "htmlcode += widgets.row(\n",
    "    [widgets.h(3, \"Stocktwits\") + stocktwits_sentiment]\n",
    ")\n",
    "body += widgets.add_tab(\"Behavioural Analysis\", htmlcode)\n",
    "\n",
    "# Deprecated in the new API\n",
    "htmlcode = widgets.row([bw_month])\n",
    "htmlcode += widgets.row([bw_year])\n",
    "body += widgets.add_tab(\"Quantitative Analysis\", htmlcode)\n",
    "\n",
    "if predictions:\n",
    "    htmlcode = widgets.row([regression])\n",
    "    htmlcode += widgets.row([mc])\n",
    "else:\n",
    "    htmlcode = widgets.row([\"Prediction features not enabled.\"])\n",
    "body += widgets.add_tab(\"Prediction Techniques\", htmlcode)\n",
    "\n",
    "body += widgets.tab_clickable_evt()\n",
    "\n",
    "report = widgets.html_report(title=report_name, stylesheet=stylesheet, body=body)\n",
    "\n",
    "# to save the results\n",
    "with open(report_name + \".html\", \"w\", encoding=\"utf-8\") as fh:\n",
    "    fh.write(report)"
   ]
  },
  {
   "cell_type": "code",
   "execution_count": null,
   "id": "746a3e56",
   "metadata": {},
   "outputs": [],
   "source": []
  }
 ],
 "metadata": {
  "celltoolbar": "Tags",
  "kernelspec": {
   "display_name": "Python 3.9.13 ('obb')",
   "language": "python",
   "name": "python3"
  },
  "language_info": {
   "codemirror_mode": {
    "name": "ipython",
    "version": 3
   },
   "file_extension": ".py",
   "mimetype": "text/x-python",
   "name": "python",
   "nbconvert_exporter": "python",
   "pygments_lexer": "ipython3",
   "version": "3.9.13"
  },
  "vscode": {
   "interpreter": {
    "hash": "ab0e87f2bc73919b75956d1b3e303320699d53da895be1bb46287d7dc67c6497"
   }
  }
 },
 "nbformat": 4,
 "nbformat_minor": 5
}
