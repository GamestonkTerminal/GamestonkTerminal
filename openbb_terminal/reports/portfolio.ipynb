{
 "cells": [
  {
   "cell_type": "markdown",
   "id": "70ba2c8a",
   "metadata": {},
   "source": [
    "## Notebook setup"
   ]
  },
  {
   "cell_type": "code",
   "execution_count": null,
   "id": "driven-billion",
   "metadata": {},
   "outputs": [],
   "source": [
    "import os\n",
    "import io\n",
    "import warnings\n",
    "import datetime\n",
    "import numpy as np\n",
    "import base64\n",
    "import pytz\n",
    "import pandas as pd\n",
    "import matplotlib\n",
    "\n",
    "import matplotlib.pyplot as plt\n",
    "import matplotlib_inline.backend_inline\n",
    "\n",
    "from IPython.display import HTML\n",
    "\n",
    "# import sys\n",
    "# sys.path.append('../../')\n",
    "\n",
    "from openbb_terminal.api import widgets\n",
    "from openbb_terminal.api import helper\n",
    "from openbb_terminal.api import openbb\n",
    "from openbb_terminal.api import Portfolio\n",
    "from openbb_terminal.helper_classes import TerminalStyle\n",
    "\n",
    "%matplotlib inline\n",
    "matplotlib_inline.backend_inline.set_matplotlib_formats(\"svg\")\n",
    "warnings.filterwarnings(\"ignore\")\n",
    "\n",
    "# Detect if prediction capabilities are present. If they are not, disable prediction in the rest of the script\n",
    "# so that the report can still be generated without prediction results.\n",
    "# predictions = True\n",
    "# try:\n",
    "#     openbb.stocks.pred.models\n",
    "# except Exception as e:\n",
    "#     predictions = False\n",
    "\n",
    "# TODO Fix predictions virtual path on api refactored\n",
    "\n",
    "predictions = False"
   ]
  },
  {
   "cell_type": "markdown",
   "id": "8136bf90",
   "metadata": {},
   "source": [
    "### Header"
   ]
  },
  {
   "cell_type": "code",
   "execution_count": null,
   "id": "c3fe7db5-ec6a-42cf-9e66-52dc1de22370",
   "metadata": {},
   "outputs": [],
   "source": [
    "try:\n",
    "    theme = TerminalStyle(\"dark\", \"dark\", \"dark\")\n",
    "except:\n",
    "    pass\n",
    "stylesheet = widgets.html_report_stylesheet()\n",
    "with open(\"OpenBB_reports_logo.png\", \"rb\") as image_file:\n",
    "    openbb_image_encoded = base64.b64encode(image_file.read())\n",
    "\n",
    "user_time_zone = pytz.timezone(helper.get_user_timezone())"
   ]
  },
  {
   "cell_type": "code",
   "execution_count": null,
   "id": "daef64ec",
   "metadata": {
    "tags": [
     "parameters"
    ]
   },
   "outputs": [],
   "source": [
    "# Parameters that will be replaced when calling this notebook\n",
    "symbol = \"\"\n",
    "report_name = \"portfolio_report\""
   ]
  },
  {
   "cell_type": "code",
   "execution_count": null,
   "id": "1be26dae-cafe-4a22-80aa-eff296fc1a9b",
   "metadata": {},
   "outputs": [],
   "source": [
    "author = \"Diogo Sousa\"\n",
    "report_title = f\"Portfolio report\"\n",
    "report_date = pd.Timestamp.now(tz=user_time_zone).strftime(\"%d %B, %Y\")\n",
    "report_time = pd.Timestamp.now(tz=user_time_zone).strftime(\"%H:%M\")\n",
    "report_timezone = pd.Timestamp.now(tz=user_time_zone).tzinfo\n",
    "report_title, report_date, report_time, report_timezone"
   ]
  },
  {
   "cell_type": "markdown",
   "id": "9363f19a",
   "metadata": {},
   "source": [
    "## Data"
   ]
  },
  {
   "cell_type": "markdown",
   "id": "eb3dbd48",
   "metadata": {},
   "source": [
    "Loading"
   ]
  },
  {
   "cell_type": "code",
   "execution_count": null,
   "id": "b139556d",
   "metadata": {},
   "outputs": [],
   "source": [
    "transactions = Portfolio.read_orderbook(\"..\\\\..\\\\portfolio\\\\holdings\\\\example.csv\")\n",
    "\n",
    "P = Portfolio(transactions)\n",
    "P.generate_portfolio_data()\n",
    "P.load_benchmark()\n",
    "P.get_orderbook()"
   ]
  },
  {
   "cell_type": "code",
   "execution_count": null,
   "id": "ba329515",
   "metadata": {},
   "outputs": [],
   "source": [
    "openbb.portfolio.holdv(P, chart=True)"
   ]
  },
  {
   "cell_type": "code",
   "execution_count": null,
   "id": "2bbdc428",
   "metadata": {},
   "outputs": [],
   "source": [
    "openbb.portfolio.perf(P)"
   ]
  },
  {
   "cell_type": "code",
   "execution_count": null,
   "id": "94426712",
   "metadata": {},
   "outputs": [],
   "source": [
    "openbb.portfolio.holdp(P, chart=True)"
   ]
  },
  {
   "cell_type": "code",
   "execution_count": null,
   "id": "af24ed22",
   "metadata": {},
   "outputs": [],
   "source": [
    "openbb.portfolio.rvol(P, chart=True)"
   ]
  },
  {
   "cell_type": "code",
   "execution_count": null,
   "id": "8cc6b34b",
   "metadata": {},
   "outputs": [],
   "source": [
    "openbb.portfolio.rsharpe(P, chart=True)"
   ]
  },
  {
   "cell_type": "code",
   "execution_count": null,
   "id": "f4d77f8e",
   "metadata": {},
   "outputs": [],
   "source": [
    "openbb.portfolio.rsortino(P, chart=True)"
   ]
  },
  {
   "cell_type": "code",
   "execution_count": null,
   "id": "5c513b23",
   "metadata": {},
   "outputs": [],
   "source": [
    "openbb.portfolio.rbeta(P, chart=True)"
   ]
  },
  {
   "cell_type": "code",
   "execution_count": null,
   "id": "3567b0ca",
   "metadata": {},
   "outputs": [],
   "source": [
    "openbb.portfolio.maxdd(P, chart=True)"
   ]
  },
  {
   "cell_type": "code",
   "execution_count": null,
   "id": "339621b8",
   "metadata": {},
   "outputs": [],
   "source": [
    "openbb.portfolio.distr(P, chart=True)"
   ]
  },
  {
   "cell_type": "code",
   "execution_count": null,
   "id": "0c09b08e",
   "metadata": {},
   "outputs": [],
   "source": [
    "openbb.portfolio.var(P)"
   ]
  },
  {
   "cell_type": "code",
   "execution_count": null,
   "id": "075dd50e",
   "metadata": {},
   "outputs": [],
   "source": [
    "openbb.portfolio.es(P)"
   ]
  },
  {
   "cell_type": "code",
   "execution_count": null,
   "id": "1696f087",
   "metadata": {},
   "outputs": [],
   "source": [
    "openbb.portfolio.om(P, chart=True)"
   ]
  },
  {
   "cell_type": "code",
   "execution_count": null,
   "id": "24aa19d4",
   "metadata": {},
   "outputs": [],
   "source": [
    "openbb.portfolio.summary(P)"
   ]
  },
  {
   "cell_type": "code",
   "execution_count": null,
   "id": "a668a58b",
   "metadata": {},
   "outputs": [],
   "source": [
    "openbb.portfolio.dret(P, chart=True)"
   ]
  },
  {
   "cell_type": "code",
   "execution_count": null,
   "id": "7850d6e8",
   "metadata": {},
   "outputs": [],
   "source": [
    "openbb.portfolio.mret(P, chart=True)"
   ]
  },
  {
   "cell_type": "code",
   "execution_count": null,
   "id": "1ea71ca6",
   "metadata": {},
   "outputs": [],
   "source": [
    "openbb.portfolio.yret(P, chart=True)"
   ]
  },
  {
   "cell_type": "code",
   "execution_count": null,
   "id": "8904973d",
   "metadata": {},
   "outputs": [],
   "source": []
  }
 ],
 "metadata": {
  "celltoolbar": "Tags",
  "kernelspec": {
   "display_name": "Python 3.8.13 ('gst')",
   "language": "python",
   "name": "python3"
  },
  "language_info": {
   "codemirror_mode": {
    "name": "ipython",
    "version": 3
   },
   "file_extension": ".py",
   "mimetype": "text/x-python",
   "name": "python",
   "nbconvert_exporter": "python",
   "pygments_lexer": "ipython3",
   "version": "3.8.13"
  },
  "vscode": {
   "interpreter": {
    "hash": "39c68581b77c20b2b9e341f45cfba0f58d94e64800d60175ae1f2ce9ad635dc5"
   }
  }
 },
 "nbformat": 4,
 "nbformat_minor": 5
}
