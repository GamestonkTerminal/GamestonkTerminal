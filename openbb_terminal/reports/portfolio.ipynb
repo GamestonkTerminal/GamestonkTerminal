{
 "cells": [
  {
   "cell_type": "markdown",
   "id": "70ba2c8a",
   "metadata": {},
   "source": [
    "## Notebook setup"
   ]
  },
  {
   "cell_type": "code",
   "execution_count": 1,
   "id": "driven-billion",
   "metadata": {},
   "outputs": [
    {
     "name": "stdout",
     "output_type": "stream",
     "text": [
      "WARNING! Breaking changes incoming! Especially avoid using kwargs, since some of them will change.\n",
      "You can try <link> branch with the latest changes.\n"
     ]
    }
   ],
   "source": [
    "import os\n",
    "import io\n",
    "import warnings\n",
    "import datetime\n",
    "import numpy as np\n",
    "import base64\n",
    "import pytz\n",
    "import pandas as pd\n",
    "import matplotlib\n",
    "\n",
    "import matplotlib.pyplot as plt\n",
    "import matplotlib_inline.backend_inline\n",
    "\n",
    "from IPython.display import HTML\n",
    "\n",
    "# import sys\n",
    "# sys.path.append('../../')\n",
    "\n",
    "from openbb_terminal.api import widgets\n",
    "from openbb_terminal.api import helper\n",
    "from openbb_terminal.api import openbb\n",
    "from openbb_terminal.api import Portfolio\n",
    "from openbb_terminal.helper_classes import TerminalStyle\n",
    "\n",
    "%matplotlib inline\n",
    "matplotlib_inline.backend_inline.set_matplotlib_formats(\"svg\")\n",
    "warnings.filterwarnings(\"ignore\")\n",
    "\n",
    "# Detect if prediction capabilities are present. If they are not, disable prediction in the rest of the script\n",
    "# so that the report can still be generated without prediction results.\n",
    "# predictions = True\n",
    "# try:\n",
    "#     openbb.stocks.pred.models\n",
    "# except Exception as e:\n",
    "#     predictions = False\n",
    "\n",
    "# TODO Fix predictions virtual path on api refactored\n",
    "\n",
    "predictions = False"
   ]
  },
  {
   "cell_type": "markdown",
   "id": "8136bf90",
   "metadata": {},
   "source": [
    "### Header"
   ]
  },
  {
   "cell_type": "code",
   "execution_count": 2,
   "id": "c3fe7db5-ec6a-42cf-9e66-52dc1de22370",
   "metadata": {},
   "outputs": [],
   "source": [
    "try:\n",
    "    theme = TerminalStyle(\"dark\", \"dark\", \"dark\")\n",
    "except:\n",
    "    pass\n",
    "stylesheet = widgets.html_report_stylesheet()\n",
    "with open(\"OpenBB_reports_logo.png\", \"rb\") as image_file:\n",
    "    openbb_image_encoded = base64.b64encode(image_file.read())\n",
    "\n",
    "user_time_zone = pytz.timezone(helper.get_user_timezone())"
   ]
  },
  {
   "cell_type": "code",
   "execution_count": 3,
   "id": "daef64ec",
   "metadata": {
    "tags": [
     "parameters"
    ]
   },
   "outputs": [],
   "source": [
    "# Parameters that will be replaced when calling this notebook\n",
    "symbol = \"\"\n",
    "report_name = \"portfolio_report\""
   ]
  },
  {
   "cell_type": "code",
   "execution_count": 4,
   "id": "1be26dae-cafe-4a22-80aa-eff296fc1a9b",
   "metadata": {},
   "outputs": [
    {
     "data": {
      "text/plain": [
       "('Portfolio report',\n",
       " '11 September, 2022',\n",
       " '06:35',\n",
       " <DstTzInfo 'America/New_York' EDT-1 day, 20:00:00 DST>)"
      ]
     },
     "execution_count": 4,
     "metadata": {},
     "output_type": "execute_result"
    }
   ],
   "source": [
    "author = \"Diogo Sousa\"\n",
    "report_title = f\"Portfolio report\"\n",
    "report_date = pd.Timestamp.now(tz=user_time_zone).strftime(\"%d %B, %Y\")\n",
    "report_time = pd.Timestamp.now(tz=user_time_zone).strftime(\"%H:%M\")\n",
    "report_timezone = pd.Timestamp.now(tz=user_time_zone).tzinfo\n",
    "report_title, report_date, report_time, report_timezone"
   ]
  },
  {
   "cell_type": "markdown",
   "id": "9363f19a",
   "metadata": {},
   "source": [
    "## Data"
   ]
  },
  {
   "cell_type": "markdown",
   "id": "eb3dbd48",
   "metadata": {},
   "source": [
    "Loading"
   ]
  },
  {
   "cell_type": "code",
   "execution_count": 5,
   "id": "b139556d",
   "metadata": {},
   "outputs": [
    {
     "data": {
      "text/html": [
       "<pre style=\"white-space:pre;overflow-x:auto;line-height:normal;font-family:Menlo,'DejaVu Sans Mono',consolas,'Courier New',monospace\"> Preprocessing orderbook: </pre>\n"
      ],
      "text/plain": [
       " Preprocessing orderbook: "
      ]
     },
     "metadata": {},
     "output_type": "display_data"
    },
    {
     "data": {
      "text/html": [
       "<pre style=\"white-space:pre;overflow-x:auto;line-height:normal;font-family:Menlo,'DejaVu Sans Mono',consolas,'Courier New',monospace\">.</pre>\n"
      ],
      "text/plain": [
       "."
      ]
     },
     "metadata": {},
     "output_type": "display_data"
    },
    {
     "data": {
      "text/html": [
       "<pre style=\"white-space:pre;overflow-x:auto;line-height:normal;font-family:Menlo,'DejaVu Sans Mono',consolas,'Courier New',monospace\">.</pre>\n"
      ],
      "text/plain": [
       "."
      ]
     },
     "metadata": {},
     "output_type": "display_data"
    },
    {
     "data": {
      "text/html": [
       "<pre style=\"white-space:pre;overflow-x:auto;line-height:normal;font-family:Menlo,'DejaVu Sans Mono',consolas,'Courier New',monospace\">.</pre>\n"
      ],
      "text/plain": [
       "."
      ]
     },
     "metadata": {},
     "output_type": "display_data"
    },
    {
     "data": {
      "text/html": [
       "<pre style=\"white-space:pre;overflow-x:auto;line-height:normal;font-family:Menlo,'DejaVu Sans Mono',consolas,'Courier New',monospace\">.</pre>\n"
      ],
      "text/plain": [
       "."
      ]
     },
     "metadata": {},
     "output_type": "display_data"
    },
    {
     "data": {
      "text/html": [
       "<pre style=\"white-space:pre;overflow-x:auto;line-height:normal;font-family:Menlo,'DejaVu Sans Mono',consolas,'Courier New',monospace\">.</pre>\n"
      ],
      "text/plain": [
       "."
      ]
     },
     "metadata": {},
     "output_type": "display_data"
    },
    {
     "data": {
      "text/html": [
       "<pre style=\"white-space:pre;overflow-x:auto;line-height:normal;font-family:Menlo,'DejaVu Sans Mono',consolas,'Courier New',monospace\">.</pre>\n"
      ],
      "text/plain": [
       "."
      ]
     },
     "metadata": {},
     "output_type": "display_data"
    },
    {
     "data": {
      "text/html": [
       "<pre style=\"white-space:pre;overflow-x:auto;line-height:normal;font-family:Menlo,'DejaVu Sans Mono',consolas,'Courier New',monospace\">.</pre>\n"
      ],
      "text/plain": [
       "."
      ]
     },
     "metadata": {},
     "output_type": "display_data"
    },
    {
     "data": {
      "text/html": [
       "<pre style=\"white-space:pre;overflow-x:auto;line-height:normal;font-family:Menlo,'DejaVu Sans Mono',consolas,'Courier New',monospace\">.</pre>\n"
      ],
      "text/plain": [
       "."
      ]
     },
     "metadata": {},
     "output_type": "display_data"
    },
    {
     "data": {
      "text/html": [
       "<pre style=\"white-space:pre;overflow-x:auto;line-height:normal;font-family:Menlo,'DejaVu Sans Mono',consolas,'Courier New',monospace\">.</pre>\n"
      ],
      "text/plain": [
       "."
      ]
     },
     "metadata": {},
     "output_type": "display_data"
    },
    {
     "data": {
      "text/html": [
       "<pre style=\"white-space:pre;overflow-x:auto;line-height:normal;font-family:Menlo,'DejaVu Sans Mono',consolas,'Courier New',monospace\">.</pre>\n"
      ],
      "text/plain": [
       "."
      ]
     },
     "metadata": {},
     "output_type": "display_data"
    },
    {
     "data": {
      "text/html": [
       "<pre style=\"white-space:pre;overflow-x:auto;line-height:normal;font-family:Menlo,'DejaVu Sans Mono',consolas,'Courier New',monospace\">.</pre>\n"
      ],
      "text/plain": [
       "."
      ]
     },
     "metadata": {},
     "output_type": "display_data"
    },
    {
     "data": {
      "text/html": [
       "<pre style=\"white-space:pre;overflow-x:auto;line-height:normal;font-family:Menlo,'DejaVu Sans Mono',consolas,'Courier New',monospace\">.</pre>\n"
      ],
      "text/plain": [
       "."
      ]
     },
     "metadata": {},
     "output_type": "display_data"
    },
    {
     "data": {
      "text/html": [
       "<pre style=\"white-space:pre;overflow-x:auto;line-height:normal;font-family:Menlo,'DejaVu Sans Mono',consolas,'Courier New',monospace\">\n",
       "    Loading company data: </pre>\n"
      ],
      "text/plain": [
       "\n",
       "    Loading company data: "
      ]
     },
     "metadata": {},
     "output_type": "display_data"
    },
    {
     "data": {
      "text/html": [
       "<pre style=\"white-space:pre;overflow-x:auto;line-height:normal;font-family:Menlo,'DejaVu Sans Mono',consolas,'Courier New',monospace\">.</pre>\n"
      ],
      "text/plain": [
       "."
      ]
     },
     "metadata": {},
     "output_type": "display_data"
    },
    {
     "data": {
      "text/html": [
       "<pre style=\"white-space:pre;overflow-x:auto;line-height:normal;font-family:Menlo,'DejaVu Sans Mono',consolas,'Courier New',monospace\">.</pre>\n"
      ],
      "text/plain": [
       "."
      ]
     },
     "metadata": {},
     "output_type": "display_data"
    },
    {
     "data": {
      "text/html": [
       "<pre style=\"white-space:pre;overflow-x:auto;line-height:normal;font-family:Menlo,'DejaVu Sans Mono',consolas,'Courier New',monospace\">.</pre>\n"
      ],
      "text/plain": [
       "."
      ]
     },
     "metadata": {},
     "output_type": "display_data"
    },
    {
     "data": {
      "text/html": [
       "<pre style=\"white-space:pre;overflow-x:auto;line-height:normal;font-family:Menlo,'DejaVu Sans Mono',consolas,'Courier New',monospace\">.</pre>\n"
      ],
      "text/plain": [
       "."
      ]
     },
     "metadata": {},
     "output_type": "display_data"
    },
    {
     "data": {
      "text/html": [
       "<pre style=\"white-space:pre;overflow-x:auto;line-height:normal;font-family:Menlo,'DejaVu Sans Mono',consolas,'Courier New',monospace\">\n",
       "      Loading price data: </pre>\n"
      ],
      "text/plain": [
       "\n",
       "      Loading price data: "
      ]
     },
     "metadata": {},
     "output_type": "display_data"
    },
    {
     "data": {
      "text/html": [
       "<pre style=\"white-space:pre;overflow-x:auto;line-height:normal;font-family:Menlo,'DejaVu Sans Mono',consolas,'Courier New',monospace\">.</pre>\n"
      ],
      "text/plain": [
       "."
      ]
     },
     "metadata": {},
     "output_type": "display_data"
    },
    {
     "data": {
      "text/html": [
       "<pre style=\"white-space:pre;overflow-x:auto;line-height:normal;font-family:Menlo,'DejaVu Sans Mono',consolas,'Courier New',monospace\">.</pre>\n"
      ],
      "text/plain": [
       "."
      ]
     },
     "metadata": {},
     "output_type": "display_data"
    },
    {
     "data": {
      "text/html": [
       "<pre style=\"white-space:pre;overflow-x:auto;line-height:normal;font-family:Menlo,'DejaVu Sans Mono',consolas,'Courier New',monospace\">\n",
       "     Calculating returns: </pre>\n"
      ],
      "text/plain": [
       "\n",
       "     Calculating returns: "
      ]
     },
     "metadata": {},
     "output_type": "display_data"
    },
    {
     "data": {
      "text/html": [
       "<pre style=\"white-space:pre;overflow-x:auto;line-height:normal;font-family:Menlo,'DejaVu Sans Mono',consolas,'Courier New',monospace\">.</pre>\n"
      ],
      "text/plain": [
       "."
      ]
     },
     "metadata": {},
     "output_type": "display_data"
    },
    {
     "data": {
      "text/html": [
       "<pre style=\"white-space:pre;overflow-x:auto;line-height:normal;font-family:Menlo,'DejaVu Sans Mono',consolas,'Courier New',monospace\">\n",
       "       Loading benchmark: </pre>\n"
      ],
      "text/plain": [
       "\n",
       "       Loading benchmark: "
      ]
     },
     "metadata": {},
     "output_type": "display_data"
    },
    {
     "data": {
      "text/html": [
       "<pre style=\"white-space:pre;overflow-x:auto;line-height:normal;font-family:Menlo,'DejaVu Sans Mono',consolas,'Courier New',monospace\">.\n",
       "</pre>\n"
      ],
      "text/plain": [
       ".\n"
      ]
     },
     "metadata": {},
     "output_type": "display_data"
    },
    {
     "data": {
      "text/html": [
       "<div>\n",
       "<style scoped>\n",
       "    .dataframe tbody tr th:only-of-type {\n",
       "        vertical-align: middle;\n",
       "    }\n",
       "\n",
       "    .dataframe tbody tr th {\n",
       "        vertical-align: top;\n",
       "    }\n",
       "\n",
       "    .dataframe thead th {\n",
       "        text-align: right;\n",
       "    }\n",
       "</style>\n",
       "<table border=\"1\" class=\"dataframe\">\n",
       "  <thead>\n",
       "    <tr style=\"text-align: right;\">\n",
       "      <th></th>\n",
       "      <th>Date</th>\n",
       "      <th>Type</th>\n",
       "      <th>Ticker</th>\n",
       "      <th>Side</th>\n",
       "      <th>Price</th>\n",
       "      <th>Quantity</th>\n",
       "      <th>Fees</th>\n",
       "      <th>Investment</th>\n",
       "      <th>Currency</th>\n",
       "      <th>Sector</th>\n",
       "      <th>Industry</th>\n",
       "      <th>Country</th>\n",
       "      <th>Region</th>\n",
       "    </tr>\n",
       "  </thead>\n",
       "  <tbody>\n",
       "    <tr>\n",
       "      <th>3</th>\n",
       "      <td>2021-07-02</td>\n",
       "      <td>STOCK</td>\n",
       "      <td>AAPL</td>\n",
       "      <td>Buy</td>\n",
       "      <td>139.8</td>\n",
       "      <td>300</td>\n",
       "      <td>0</td>\n",
       "      <td>41940.0</td>\n",
       "      <td>USD</td>\n",
       "      <td>Technology</td>\n",
       "      <td>Consumer Electronics</td>\n",
       "      <td>United States</td>\n",
       "      <td>North America</td>\n",
       "    </tr>\n",
       "    <tr>\n",
       "      <th>2</th>\n",
       "      <td>2021-05-21</td>\n",
       "      <td>CRYPTO</td>\n",
       "      <td>BTC-USD</td>\n",
       "      <td>Buy</td>\n",
       "      <td>37430.0</td>\n",
       "      <td>1</td>\n",
       "      <td>0</td>\n",
       "      <td>37430.0</td>\n",
       "      <td>USD</td>\n",
       "      <td>Crypto</td>\n",
       "      <td>Crypto</td>\n",
       "      <td>Crypto</td>\n",
       "      <td>Crypto</td>\n",
       "    </tr>\n",
       "    <tr>\n",
       "      <th>1</th>\n",
       "      <td>2021-03-26</td>\n",
       "      <td>STOCK</td>\n",
       "      <td>MSFT</td>\n",
       "      <td>Buy</td>\n",
       "      <td>232.8</td>\n",
       "      <td>200</td>\n",
       "      <td>0</td>\n",
       "      <td>46560.0</td>\n",
       "      <td>USD</td>\n",
       "      <td>Technology</td>\n",
       "      <td>Software-Infrastructure</td>\n",
       "      <td>United States</td>\n",
       "      <td>North America</td>\n",
       "    </tr>\n",
       "    <tr>\n",
       "      <th>0</th>\n",
       "      <td>2021-03-24</td>\n",
       "      <td>STOCK</td>\n",
       "      <td>AAPL</td>\n",
       "      <td>Buy</td>\n",
       "      <td>120.7</td>\n",
       "      <td>300</td>\n",
       "      <td>0</td>\n",
       "      <td>36210.0</td>\n",
       "      <td>USD</td>\n",
       "      <td>Technology</td>\n",
       "      <td>Consumer Electronics</td>\n",
       "      <td>United States</td>\n",
       "      <td>North America</td>\n",
       "    </tr>\n",
       "  </tbody>\n",
       "</table>\n",
       "</div>"
      ],
      "text/plain": [
       "         Date    Type   Ticker Side    Price  Quantity  Fees  Investment  \\\n",
       "3  2021-07-02   STOCK     AAPL  Buy    139.8       300     0     41940.0   \n",
       "2  2021-05-21  CRYPTO  BTC-USD  Buy  37430.0         1     0     37430.0   \n",
       "1  2021-03-26   STOCK     MSFT  Buy    232.8       200     0     46560.0   \n",
       "0  2021-03-24   STOCK     AAPL  Buy    120.7       300     0     36210.0   \n",
       "\n",
       "  Currency      Sector                 Industry        Country         Region  \n",
       "3      USD  Technology     Consumer Electronics  United States  North America  \n",
       "2      USD      Crypto                   Crypto         Crypto         Crypto  \n",
       "1      USD  Technology  Software-Infrastructure  United States  North America  \n",
       "0      USD  Technology     Consumer Electronics  United States  North America  "
      ]
     },
     "execution_count": 5,
     "metadata": {},
     "output_type": "execute_result"
    }
   ],
   "source": [
    "transactions = Portfolio.read_orderbook(\"..\\\\..\\\\portfolio\\\\holdings\\\\example.csv\")\n",
    "\n",
    "P = Portfolio(transactions)\n",
    "P.generate_portfolio_data()\n",
    "P.load_benchmark()\n",
    "P.get_orderbook()"
   ]
  },
  {
   "cell_type": "code",
   "execution_count": 6,
   "id": "ba329515",
   "metadata": {},
   "outputs": [
    {
     "data": {
      "image/svg+xml": "<?xml version=\"1.0\" encoding=\"utf-8\" standalone=\"no\"?>\n<!DOCTYPE svg PUBLIC \"-//W3C//DTD SVG 1.1//EN\"\n  \"http://www.w3.org/Graphics/SVG/1.1/DTD/svg11.dtd\">\n<svg xmlns:xlink=\"http://www.w3.org/1999/xlink\" width=\"558.630064pt\" height=\"335.492312pt\" viewBox=\"0 0 558.630064 335.492312\" xmlns=\"http://www.w3.org/2000/svg\" version=\"1.1\">\n <metadata>\n  <rdf:RDF xmlns:dc=\"http://purl.org/dc/elements/1.1/\" xmlns:cc=\"http://creativecommons.org/ns#\" xmlns:rdf=\"http://www.w3.org/1999/02/22-rdf-syntax-ns#\">\n   <cc:Work>\n    <dc:type rdf:resource=\"http://purl.org/dc/dcmitype/StillImage\"/>\n    <dc:date>2022-09-11T11:35:50.854149</dc:date>\n    <dc:format>image/svg+xml</dc:format>\n    <dc:creator>\n     <cc:Agent>\n      <dc:title>Matplotlib v3.5.2, https://matplotlib.org/</dc:title>\n     </cc:Agent>\n    </dc:creator>\n   </cc:Work>\n  </rdf:RDF>\n </metadata>\n <defs>\n  <style type=\"text/css\">*{stroke-linejoin: round; stroke-linecap: butt}</style>\n </defs>\n <g id=\"figure_1\">\n  <g id=\"patch_1\">\n   <path d=\"M 0 335.492312 \nL 558.630064 335.492312 \nL 558.630064 0 \nL 0 0 \nz\n\"/>\n  </g>\n  <g id=\"axes_1\">\n   <g id=\"patch_2\">\n    <path d=\"M 25.662335 292.363284 \nL 475.295064 292.363284 \nL 475.295064 24.541687 \nL 25.662335 24.541687 \nz\n\"/>\n   </g>\n   <g id=\"matplotlib.axis_1\">\n    <g id=\"xtick_1\">\n     <g id=\"line2d_1\">\n      <path d=\"M 28.560239 292.363284 \nL 28.560239 24.541687 \n\" clip-path=\"url(#p8dabe00bc0)\" style=\"fill: none; stroke-dasharray: 0.4,0.66; stroke-dashoffset: 0; stroke: #f5eff3; stroke-width: 0.4; stroke-linejoin: miter\"/>\n     </g>\n     <g id=\"line2d_2\">\n      <defs>\n       <path id=\"m5dfe076c09\" d=\"M 0 0 \nL 0 2 \n\" style=\"stroke: #f5eff3; stroke-width: 0.2\"/>\n      </defs>\n      <g>\n       <use xlink:href=\"#m5dfe076c09\" x=\"28.560239\" y=\"292.363284\" style=\"fill: #f5eff3; stroke: #f5eff3; stroke-width: 0.2\"/>\n      </g>\n     </g>\n     <g id=\"text_1\">\n      <!-- 2021-03 -->\n      <g style=\"fill: #f5eff3\" transform=\"translate(8.497501 312.4594)rotate(-10)scale(0.10829 -0.10829)\">\n       <defs>\n        <path id=\"Consolas-32\" d=\"M 3150 0 \nL 459 0 \nL 459 488 \nL 1516 1538 \nQ 1775 1794 1937 1981 \nQ 2100 2169 2190 2323 \nQ 2281 2478 2312 2615 \nQ 2344 2753 2344 2913 \nQ 2344 3063 2303 3198 \nQ 2263 3334 2178 3437 \nQ 2094 3541 1959 3600 \nQ 1825 3659 1638 3659 \nQ 1378 3659 1165 3543 \nQ 953 3428 775 3244 \nL 475 3603 \nQ 706 3847 1007 3994 \nQ 1309 4141 1709 4141 \nQ 1981 4141 2204 4059 \nQ 2428 3978 2590 3825 \nQ 2753 3672 2842 3450 \nQ 2931 3228 2931 2950 \nQ 2931 2716 2868 2516 \nQ 2806 2316 2679 2117 \nQ 2553 1919 2361 1706 \nQ 2169 1494 1906 1241 \nL 1166 519 \nL 3150 519 \nL 3150 0 \nz\n\" transform=\"scale(0.015625)\"/>\n        <path id=\"Consolas-30\" d=\"M 3244 2041 \nQ 3244 1572 3150 1186 \nQ 3056 800 2865 523 \nQ 2675 247 2392 95 \nQ 2109 -56 1728 -56 \nQ 1400 -56 1131 67 \nQ 863 191 672 447 \nQ 481 703 378 1100 \nQ 275 1497 275 2041 \nQ 275 2509 370 2896 \nQ 466 3284 655 3561 \nQ 844 3838 1128 3989 \nQ 1413 4141 1791 4141 \nQ 2119 4141 2387 4017 \nQ 2656 3894 2847 3636 \nQ 3038 3378 3141 2981 \nQ 3244 2584 3244 2041 \nz\nM 2694 2022 \nQ 2694 2128 2686 2233 \nQ 2678 2338 2669 2438 \nL 941 1153 \nQ 988 991 1059 853 \nQ 1131 716 1232 617 \nQ 1334 519 1464 464 \nQ 1594 409 1759 409 \nQ 1972 409 2145 512 \nQ 2319 616 2441 819 \nQ 2563 1022 2628 1323 \nQ 2694 1625 2694 2022 \nz\nM 825 2059 \nQ 825 1963 826 1866 \nQ 828 1769 838 1678 \nL 2566 2956 \nQ 2519 3116 2447 3247 \nQ 2375 3378 2275 3473 \nQ 2175 3569 2047 3622 \nQ 1919 3675 1759 3675 \nQ 1547 3675 1373 3572 \nQ 1200 3469 1078 3264 \nQ 956 3059 890 2757 \nQ 825 2456 825 2059 \nz\n\" transform=\"scale(0.015625)\"/>\n        <path id=\"Consolas-31\" d=\"M 3116 0 \nL 550 0 \nL 550 506 \nL 1600 506 \nL 1600 3488 \nL 622 2956 \nL 422 3419 \nL 1722 4103 \nL 2203 4103 \nL 2203 506 \nL 3116 506 \nL 3116 0 \nz\n\" transform=\"scale(0.015625)\"/>\n        <path id=\"Consolas-2d\" d=\"M 2694 1447 \nL 825 1447 \nL 825 1959 \nL 2694 1959 \nL 2694 1447 \nz\n\" transform=\"scale(0.015625)\"/>\n        <path id=\"Consolas-33\" d=\"M 3072 1241 \nQ 3072 972 2962 736 \nQ 2853 500 2634 323 \nQ 2416 147 2084 45 \nQ 1753 -56 1313 -56 \nQ 1069 -56 875 -40 \nQ 681 -25 513 0 \nL 513 488 \nQ 706 453 922 434 \nQ 1138 416 1363 416 \nQ 1669 416 1886 470 \nQ 2103 525 2240 628 \nQ 2378 731 2440 878 \nQ 2503 1025 2503 1209 \nQ 2503 1378 2428 1503 \nQ 2353 1628 2217 1712 \nQ 2081 1797 1892 1839 \nQ 1703 1881 1478 1881 \nL 1013 1881 \nL 1013 2328 \nL 1484 2328 \nQ 1669 2328 1820 2376 \nQ 1972 2425 2080 2515 \nQ 2188 2606 2245 2739 \nQ 2303 2872 2303 3041 \nQ 2303 3369 2103 3519 \nQ 1903 3669 1516 3669 \nQ 1309 3669 1090 3628 \nQ 872 3588 622 3506 \nL 622 3981 \nQ 728 4019 848 4048 \nQ 969 4078 1089 4098 \nQ 1209 4119 1328 4130 \nQ 1447 4141 1556 4141 \nQ 1881 4141 2128 4070 \nQ 2375 4000 2540 3869 \nQ 2706 3738 2790 3550 \nQ 2875 3363 2875 3128 \nQ 2875 2778 2695 2540 \nQ 2516 2303 2203 2163 \nQ 2363 2138 2517 2063 \nQ 2672 1988 2795 1870 \nQ 2919 1753 2995 1593 \nQ 3072 1434 3072 1241 \nz\n\" transform=\"scale(0.015625)\"/>\n       </defs>\n       <use xlink:href=\"#Consolas-32\"/>\n       <use xlink:href=\"#Consolas-30\" x=\"54.980469\"/>\n       <use xlink:href=\"#Consolas-32\" x=\"109.960938\"/>\n       <use xlink:href=\"#Consolas-31\" x=\"164.941406\"/>\n       <use xlink:href=\"#Consolas-2d\" x=\"219.921875\"/>\n       <use xlink:href=\"#Consolas-30\" x=\"274.902344\"/>\n       <use xlink:href=\"#Consolas-33\" x=\"329.882812\"/>\n      </g>\n     </g>\n    </g>\n    <g id=\"xtick_2\">\n     <g id=\"line2d_3\">\n      <path d=\"M 75.079229 292.363284 \nL 75.079229 24.541687 \n\" clip-path=\"url(#p8dabe00bc0)\" style=\"fill: none; stroke-dasharray: 0.4,0.66; stroke-dashoffset: 0; stroke: #f5eff3; stroke-width: 0.4; stroke-linejoin: miter\"/>\n     </g>\n     <g id=\"line2d_4\">\n      <g>\n       <use xlink:href=\"#m5dfe076c09\" x=\"75.079229\" y=\"292.363284\" style=\"fill: #f5eff3; stroke: #f5eff3; stroke-width: 0.2\"/>\n      </g>\n     </g>\n     <g id=\"text_2\">\n      <!-- 2021-05 -->\n      <g style=\"fill: #f5eff3\" transform=\"translate(55.016491 312.4594)rotate(-10)scale(0.10829 -0.10829)\">\n       <defs>\n        <path id=\"Consolas-35\" d=\"M 3047 1306 \nQ 3047 1003 2915 753 \nQ 2784 503 2554 323 \nQ 2325 144 2012 44 \nQ 1700 -56 1338 -56 \nQ 1247 -56 1142 -51 \nQ 1038 -47 934 -39 \nQ 831 -31 732 -22 \nQ 634 -13 556 0 \nL 556 494 \nQ 725 453 942 434 \nQ 1159 416 1381 416 \nQ 1631 416 1831 475 \nQ 2031 534 2172 645 \nQ 2313 756 2388 914 \nQ 2463 1072 2463 1269 \nQ 2463 1650 2189 1823 \nQ 1916 1997 1403 1997 \nL 628 1997 \nL 628 4084 \nL 2828 4084 \nL 2828 3609 \nL 1141 3609 \nL 1141 2463 \nL 1497 2463 \nQ 1791 2463 2069 2409 \nQ 2347 2356 2564 2223 \nQ 2781 2091 2914 1867 \nQ 3047 1644 3047 1306 \nz\n\" transform=\"scale(0.015625)\"/>\n       </defs>\n       <use xlink:href=\"#Consolas-32\"/>\n       <use xlink:href=\"#Consolas-30\" x=\"54.980469\"/>\n       <use xlink:href=\"#Consolas-32\" x=\"109.960938\"/>\n       <use xlink:href=\"#Consolas-31\" x=\"164.941406\"/>\n       <use xlink:href=\"#Consolas-2d\" x=\"219.921875\"/>\n       <use xlink:href=\"#Consolas-30\" x=\"274.902344\"/>\n       <use xlink:href=\"#Consolas-35\" x=\"329.882812\"/>\n      </g>\n     </g>\n    </g>\n    <g id=\"xtick_3\">\n     <g id=\"line2d_5\">\n      <path d=\"M 121.598219 292.363284 \nL 121.598219 24.541687 \n\" clip-path=\"url(#p8dabe00bc0)\" style=\"fill: none; stroke-dasharray: 0.4,0.66; stroke-dashoffset: 0; stroke: #f5eff3; stroke-width: 0.4; stroke-linejoin: miter\"/>\n     </g>\n     <g id=\"line2d_6\">\n      <g>\n       <use xlink:href=\"#m5dfe076c09\" x=\"121.598219\" y=\"292.363284\" style=\"fill: #f5eff3; stroke: #f5eff3; stroke-width: 0.2\"/>\n      </g>\n     </g>\n     <g id=\"text_3\">\n      <!-- 2021-07 -->\n      <g style=\"fill: #f5eff3\" transform=\"translate(101.535481 312.4594)rotate(-10)scale(0.10829 -0.10829)\">\n       <defs>\n        <path id=\"Consolas-37\" d=\"M 3128 3578 \nL 1416 0 \nL 794 0 \nL 2572 3578 \nL 366 3578 \nL 366 4084 \nL 3128 4084 \nL 3128 3578 \nz\n\" transform=\"scale(0.015625)\"/>\n       </defs>\n       <use xlink:href=\"#Consolas-32\"/>\n       <use xlink:href=\"#Consolas-30\" x=\"54.980469\"/>\n       <use xlink:href=\"#Consolas-32\" x=\"109.960938\"/>\n       <use xlink:href=\"#Consolas-31\" x=\"164.941406\"/>\n       <use xlink:href=\"#Consolas-2d\" x=\"219.921875\"/>\n       <use xlink:href=\"#Consolas-30\" x=\"274.902344\"/>\n       <use xlink:href=\"#Consolas-37\" x=\"329.882812\"/>\n      </g>\n     </g>\n    </g>\n    <g id=\"xtick_4\">\n     <g id=\"line2d_7\">\n      <path d=\"M 168.879815 292.363284 \nL 168.879815 24.541687 \n\" clip-path=\"url(#p8dabe00bc0)\" style=\"fill: none; stroke-dasharray: 0.4,0.66; stroke-dashoffset: 0; stroke: #f5eff3; stroke-width: 0.4; stroke-linejoin: miter\"/>\n     </g>\n     <g id=\"line2d_8\">\n      <g>\n       <use xlink:href=\"#m5dfe076c09\" x=\"168.879815\" y=\"292.363284\" style=\"fill: #f5eff3; stroke: #f5eff3; stroke-width: 0.2\"/>\n      </g>\n     </g>\n     <g id=\"text_4\">\n      <!-- 2021-09 -->\n      <g style=\"fill: #f5eff3\" transform=\"translate(148.817077 312.4594)rotate(-10)scale(0.10829 -0.10829)\">\n       <defs>\n        <path id=\"Consolas-39\" d=\"M 3128 2272 \nQ 3128 1675 2984 1245 \nQ 2841 816 2559 539 \nQ 2278 263 1862 131 \nQ 1447 0 903 0 \nL 563 0 \nL 563 475 \nL 941 475 \nQ 1344 475 1637 556 \nQ 1931 638 2126 795 \nQ 2322 953 2425 1179 \nQ 2528 1406 2553 1697 \nL 2566 1825 \nQ 2369 1709 2112 1639 \nQ 1856 1569 1556 1569 \nQ 1247 1569 1012 1659 \nQ 778 1750 623 1912 \nQ 469 2075 391 2298 \nQ 313 2522 313 2784 \nQ 313 3069 416 3316 \nQ 519 3563 705 3745 \nQ 891 3928 1150 4034 \nQ 1409 4141 1722 4141 \nQ 2025 4141 2283 4041 \nQ 2541 3941 2728 3717 \nQ 2916 3494 3022 3137 \nQ 3128 2781 3128 2272 \nz\nM 1697 3694 \nQ 1522 3694 1373 3636 \nQ 1225 3578 1117 3467 \nQ 1009 3356 946 3193 \nQ 884 3031 884 2822 \nQ 884 2631 929 2481 \nQ 975 2331 1070 2226 \nQ 1166 2122 1316 2065 \nQ 1466 2009 1672 2009 \nQ 1788 2009 1911 2031 \nQ 2034 2053 2151 2090 \nQ 2269 2128 2375 2178 \nQ 2481 2228 2566 2284 \nQ 2566 2688 2506 2958 \nQ 2447 3228 2334 3392 \nQ 2222 3556 2061 3625 \nQ 1900 3694 1697 3694 \nz\n\" transform=\"scale(0.015625)\"/>\n       </defs>\n       <use xlink:href=\"#Consolas-32\"/>\n       <use xlink:href=\"#Consolas-30\" x=\"54.980469\"/>\n       <use xlink:href=\"#Consolas-32\" x=\"109.960938\"/>\n       <use xlink:href=\"#Consolas-31\" x=\"164.941406\"/>\n       <use xlink:href=\"#Consolas-2d\" x=\"219.921875\"/>\n       <use xlink:href=\"#Consolas-30\" x=\"274.902344\"/>\n       <use xlink:href=\"#Consolas-39\" x=\"329.882812\"/>\n      </g>\n     </g>\n    </g>\n    <g id=\"xtick_5\">\n     <g id=\"line2d_9\">\n      <path d=\"M 215.398805 292.363284 \nL 215.398805 24.541687 \n\" clip-path=\"url(#p8dabe00bc0)\" style=\"fill: none; stroke-dasharray: 0.4,0.66; stroke-dashoffset: 0; stroke: #f5eff3; stroke-width: 0.4; stroke-linejoin: miter\"/>\n     </g>\n     <g id=\"line2d_10\">\n      <g>\n       <use xlink:href=\"#m5dfe076c09\" x=\"215.398805\" y=\"292.363284\" style=\"fill: #f5eff3; stroke: #f5eff3; stroke-width: 0.2\"/>\n      </g>\n     </g>\n     <g id=\"text_5\">\n      <!-- 2021-11 -->\n      <g style=\"fill: #f5eff3\" transform=\"translate(195.336067 312.4594)rotate(-10)scale(0.10829 -0.10829)\">\n       <use xlink:href=\"#Consolas-32\"/>\n       <use xlink:href=\"#Consolas-30\" x=\"54.980469\"/>\n       <use xlink:href=\"#Consolas-32\" x=\"109.960938\"/>\n       <use xlink:href=\"#Consolas-31\" x=\"164.941406\"/>\n       <use xlink:href=\"#Consolas-2d\" x=\"219.921875\"/>\n       <use xlink:href=\"#Consolas-31\" x=\"274.902344\"/>\n       <use xlink:href=\"#Consolas-31\" x=\"329.882812\"/>\n      </g>\n     </g>\n    </g>\n    <g id=\"xtick_6\">\n     <g id=\"line2d_11\">\n      <path d=\"M 261.917795 292.363284 \nL 261.917795 24.541687 \n\" clip-path=\"url(#p8dabe00bc0)\" style=\"fill: none; stroke-dasharray: 0.4,0.66; stroke-dashoffset: 0; stroke: #f5eff3; stroke-width: 0.4; stroke-linejoin: miter\"/>\n     </g>\n     <g id=\"line2d_12\">\n      <g>\n       <use xlink:href=\"#m5dfe076c09\" x=\"261.917795\" y=\"292.363284\" style=\"fill: #f5eff3; stroke: #f5eff3; stroke-width: 0.2\"/>\n      </g>\n     </g>\n     <g id=\"text_6\">\n      <!-- 2022-01 -->\n      <g style=\"fill: #f5eff3\" transform=\"translate(241.855057 312.4594)rotate(-10)scale(0.10829 -0.10829)\">\n       <use xlink:href=\"#Consolas-32\"/>\n       <use xlink:href=\"#Consolas-30\" x=\"54.980469\"/>\n       <use xlink:href=\"#Consolas-32\" x=\"109.960938\"/>\n       <use xlink:href=\"#Consolas-32\" x=\"164.941406\"/>\n       <use xlink:href=\"#Consolas-2d\" x=\"219.921875\"/>\n       <use xlink:href=\"#Consolas-30\" x=\"274.902344\"/>\n       <use xlink:href=\"#Consolas-31\" x=\"329.882812\"/>\n      </g>\n     </g>\n    </g>\n    <g id=\"xtick_7\">\n     <g id=\"line2d_13\">\n      <path d=\"M 306.911572 292.363284 \nL 306.911572 24.541687 \n\" clip-path=\"url(#p8dabe00bc0)\" style=\"fill: none; stroke-dasharray: 0.4,0.66; stroke-dashoffset: 0; stroke: #f5eff3; stroke-width: 0.4; stroke-linejoin: miter\"/>\n     </g>\n     <g id=\"line2d_14\">\n      <g>\n       <use xlink:href=\"#m5dfe076c09\" x=\"306.911572\" y=\"292.363284\" style=\"fill: #f5eff3; stroke: #f5eff3; stroke-width: 0.2\"/>\n      </g>\n     </g>\n     <g id=\"text_7\">\n      <!-- 2022-03 -->\n      <g style=\"fill: #f5eff3\" transform=\"translate(286.848834 312.4594)rotate(-10)scale(0.10829 -0.10829)\">\n       <use xlink:href=\"#Consolas-32\"/>\n       <use xlink:href=\"#Consolas-30\" x=\"54.980469\"/>\n       <use xlink:href=\"#Consolas-32\" x=\"109.960938\"/>\n       <use xlink:href=\"#Consolas-32\" x=\"164.941406\"/>\n       <use xlink:href=\"#Consolas-2d\" x=\"219.921875\"/>\n       <use xlink:href=\"#Consolas-30\" x=\"274.902344\"/>\n       <use xlink:href=\"#Consolas-33\" x=\"329.882812\"/>\n      </g>\n     </g>\n    </g>\n    <g id=\"xtick_8\">\n     <g id=\"line2d_15\">\n      <path d=\"M 353.430562 292.363284 \nL 353.430562 24.541687 \n\" clip-path=\"url(#p8dabe00bc0)\" style=\"fill: none; stroke-dasharray: 0.4,0.66; stroke-dashoffset: 0; stroke: #f5eff3; stroke-width: 0.4; stroke-linejoin: miter\"/>\n     </g>\n     <g id=\"line2d_16\">\n      <g>\n       <use xlink:href=\"#m5dfe076c09\" x=\"353.430562\" y=\"292.363284\" style=\"fill: #f5eff3; stroke: #f5eff3; stroke-width: 0.2\"/>\n      </g>\n     </g>\n     <g id=\"text_8\">\n      <!-- 2022-05 -->\n      <g style=\"fill: #f5eff3\" transform=\"translate(333.367824 312.4594)rotate(-10)scale(0.10829 -0.10829)\">\n       <use xlink:href=\"#Consolas-32\"/>\n       <use xlink:href=\"#Consolas-30\" x=\"54.980469\"/>\n       <use xlink:href=\"#Consolas-32\" x=\"109.960938\"/>\n       <use xlink:href=\"#Consolas-32\" x=\"164.941406\"/>\n       <use xlink:href=\"#Consolas-2d\" x=\"219.921875\"/>\n       <use xlink:href=\"#Consolas-30\" x=\"274.902344\"/>\n       <use xlink:href=\"#Consolas-35\" x=\"329.882812\"/>\n      </g>\n     </g>\n    </g>\n    <g id=\"xtick_9\">\n     <g id=\"line2d_17\">\n      <path d=\"M 399.949552 292.363284 \nL 399.949552 24.541687 \n\" clip-path=\"url(#p8dabe00bc0)\" style=\"fill: none; stroke-dasharray: 0.4,0.66; stroke-dashoffset: 0; stroke: #f5eff3; stroke-width: 0.4; stroke-linejoin: miter\"/>\n     </g>\n     <g id=\"line2d_18\">\n      <g>\n       <use xlink:href=\"#m5dfe076c09\" x=\"399.949552\" y=\"292.363284\" style=\"fill: #f5eff3; stroke: #f5eff3; stroke-width: 0.2\"/>\n      </g>\n     </g>\n     <g id=\"text_9\">\n      <!-- 2022-07 -->\n      <g style=\"fill: #f5eff3\" transform=\"translate(379.886814 312.4594)rotate(-10)scale(0.10829 -0.10829)\">\n       <use xlink:href=\"#Consolas-32\"/>\n       <use xlink:href=\"#Consolas-30\" x=\"54.980469\"/>\n       <use xlink:href=\"#Consolas-32\" x=\"109.960938\"/>\n       <use xlink:href=\"#Consolas-32\" x=\"164.941406\"/>\n       <use xlink:href=\"#Consolas-2d\" x=\"219.921875\"/>\n       <use xlink:href=\"#Consolas-30\" x=\"274.902344\"/>\n       <use xlink:href=\"#Consolas-37\" x=\"329.882812\"/>\n      </g>\n     </g>\n    </g>\n    <g id=\"xtick_10\">\n     <g id=\"line2d_19\">\n      <path d=\"M 447.231149 292.363284 \nL 447.231149 24.541687 \n\" clip-path=\"url(#p8dabe00bc0)\" style=\"fill: none; stroke-dasharray: 0.4,0.66; stroke-dashoffset: 0; stroke: #f5eff3; stroke-width: 0.4; stroke-linejoin: miter\"/>\n     </g>\n     <g id=\"line2d_20\">\n      <g>\n       <use xlink:href=\"#m5dfe076c09\" x=\"447.231149\" y=\"292.363284\" style=\"fill: #f5eff3; stroke: #f5eff3; stroke-width: 0.2\"/>\n      </g>\n     </g>\n     <g id=\"text_10\">\n      <!-- 2022-09 -->\n      <g style=\"fill: #f5eff3\" transform=\"translate(427.168411 312.4594)rotate(-10)scale(0.10829 -0.10829)\">\n       <use xlink:href=\"#Consolas-32\"/>\n       <use xlink:href=\"#Consolas-30\" x=\"54.980469\"/>\n       <use xlink:href=\"#Consolas-32\" x=\"109.960938\"/>\n       <use xlink:href=\"#Consolas-32\" x=\"164.941406\"/>\n       <use xlink:href=\"#Consolas-2d\" x=\"219.921875\"/>\n       <use xlink:href=\"#Consolas-30\" x=\"274.902344\"/>\n       <use xlink:href=\"#Consolas-39\" x=\"329.882812\"/>\n      </g>\n     </g>\n    </g>\n   </g>\n   <g id=\"matplotlib.axis_2\">\n    <g id=\"ytick_1\">\n     <g id=\"line2d_21\">\n      <path d=\"M 25.662335 280.189575 \nL 475.295064 280.189575 \n\" clip-path=\"url(#p8dabe00bc0)\" style=\"fill: none; stroke-dasharray: 0.4,0.66; stroke-dashoffset: 0; stroke: #f5eff3; stroke-width: 0.4; stroke-linejoin: miter\"/>\n     </g>\n     <g id=\"line2d_22\">\n      <defs>\n       <path id=\"m1148556d1b\" d=\"M 0 0 \nL 2 0 \n\" style=\"stroke: #f5eff3; stroke-width: 0.2\"/>\n      </defs>\n      <g>\n       <use xlink:href=\"#m1148556d1b\" x=\"475.295064\" y=\"280.189575\" style=\"fill: #f5eff3; stroke: #f5eff3; stroke-width: 0.2\"/>\n      </g>\n     </g>\n     <g id=\"text_11\">\n      <!-- 0 -->\n      <g style=\"fill: #f5eff3\" transform=\"translate(480.795064 283.92558)scale(0.10829 -0.10829)\">\n       <use xlink:href=\"#Consolas-30\"/>\n      </g>\n     </g>\n    </g>\n    <g id=\"ytick_2\">\n     <g id=\"line2d_23\">\n      <path d=\"M 25.662335 226.42779 \nL 475.295064 226.42779 \n\" clip-path=\"url(#p8dabe00bc0)\" style=\"fill: none; stroke-dasharray: 0.4,0.66; stroke-dashoffset: 0; stroke: #f5eff3; stroke-width: 0.4; stroke-linejoin: miter\"/>\n     </g>\n     <g id=\"line2d_24\">\n      <g>\n       <use xlink:href=\"#m1148556d1b\" x=\"475.295064\" y=\"226.42779\" style=\"fill: #f5eff3; stroke: #f5eff3; stroke-width: 0.2\"/>\n      </g>\n     </g>\n     <g id=\"text_12\">\n      <!-- 50000 -->\n      <g style=\"fill: #f5eff3\" transform=\"translate(480.795064 230.163795)scale(0.10829 -0.10829)\">\n       <use xlink:href=\"#Consolas-35\"/>\n       <use xlink:href=\"#Consolas-30\" x=\"54.980469\"/>\n       <use xlink:href=\"#Consolas-30\" x=\"109.960938\"/>\n       <use xlink:href=\"#Consolas-30\" x=\"164.941406\"/>\n       <use xlink:href=\"#Consolas-30\" x=\"219.921875\"/>\n      </g>\n     </g>\n    </g>\n    <g id=\"ytick_3\">\n     <g id=\"line2d_25\">\n      <path d=\"M 25.662335 172.666006 \nL 475.295064 172.666006 \n\" clip-path=\"url(#p8dabe00bc0)\" style=\"fill: none; stroke-dasharray: 0.4,0.66; stroke-dashoffset: 0; stroke: #f5eff3; stroke-width: 0.4; stroke-linejoin: miter\"/>\n     </g>\n     <g id=\"line2d_26\">\n      <g>\n       <use xlink:href=\"#m1148556d1b\" x=\"475.295064\" y=\"172.666006\" style=\"fill: #f5eff3; stroke: #f5eff3; stroke-width: 0.2\"/>\n      </g>\n     </g>\n     <g id=\"text_13\">\n      <!-- 100000 -->\n      <g style=\"fill: #f5eff3\" transform=\"translate(480.795064 176.402011)scale(0.10829 -0.10829)\">\n       <use xlink:href=\"#Consolas-31\"/>\n       <use xlink:href=\"#Consolas-30\" x=\"54.980469\"/>\n       <use xlink:href=\"#Consolas-30\" x=\"109.960938\"/>\n       <use xlink:href=\"#Consolas-30\" x=\"164.941406\"/>\n       <use xlink:href=\"#Consolas-30\" x=\"219.921875\"/>\n       <use xlink:href=\"#Consolas-30\" x=\"274.902344\"/>\n      </g>\n     </g>\n    </g>\n    <g id=\"ytick_4\">\n     <g id=\"line2d_27\">\n      <path d=\"M 25.662335 118.904221 \nL 475.295064 118.904221 \n\" clip-path=\"url(#p8dabe00bc0)\" style=\"fill: none; stroke-dasharray: 0.4,0.66; stroke-dashoffset: 0; stroke: #f5eff3; stroke-width: 0.4; stroke-linejoin: miter\"/>\n     </g>\n     <g id=\"line2d_28\">\n      <g>\n       <use xlink:href=\"#m1148556d1b\" x=\"475.295064\" y=\"118.904221\" style=\"fill: #f5eff3; stroke: #f5eff3; stroke-width: 0.2\"/>\n      </g>\n     </g>\n     <g id=\"text_14\">\n      <!-- 150000 -->\n      <g style=\"fill: #f5eff3\" transform=\"translate(480.795064 122.640226)scale(0.10829 -0.10829)\">\n       <use xlink:href=\"#Consolas-31\"/>\n       <use xlink:href=\"#Consolas-35\" x=\"54.980469\"/>\n       <use xlink:href=\"#Consolas-30\" x=\"109.960938\"/>\n       <use xlink:href=\"#Consolas-30\" x=\"164.941406\"/>\n       <use xlink:href=\"#Consolas-30\" x=\"219.921875\"/>\n       <use xlink:href=\"#Consolas-30\" x=\"274.902344\"/>\n      </g>\n     </g>\n    </g>\n    <g id=\"ytick_5\">\n     <g id=\"line2d_29\">\n      <path d=\"M 25.662335 65.142436 \nL 475.295064 65.142436 \n\" clip-path=\"url(#p8dabe00bc0)\" style=\"fill: none; stroke-dasharray: 0.4,0.66; stroke-dashoffset: 0; stroke: #f5eff3; stroke-width: 0.4; stroke-linejoin: miter\"/>\n     </g>\n     <g id=\"line2d_30\">\n      <g>\n       <use xlink:href=\"#m1148556d1b\" x=\"475.295064\" y=\"65.142436\" style=\"fill: #f5eff3; stroke: #f5eff3; stroke-width: 0.2\"/>\n      </g>\n     </g>\n     <g id=\"text_15\">\n      <!-- 200000 -->\n      <g style=\"fill: #f5eff3\" transform=\"translate(480.795064 68.878441)scale(0.10829 -0.10829)\">\n       <use xlink:href=\"#Consolas-32\"/>\n       <use xlink:href=\"#Consolas-30\" x=\"54.980469\"/>\n       <use xlink:href=\"#Consolas-30\" x=\"109.960938\"/>\n       <use xlink:href=\"#Consolas-30\" x=\"164.941406\"/>\n       <use xlink:href=\"#Consolas-30\" x=\"219.921875\"/>\n       <use xlink:href=\"#Consolas-30\" x=\"274.902344\"/>\n      </g>\n     </g>\n    </g>\n    <g id=\"text_16\">\n     <!-- Holdings ($) -->\n     <g style=\"fill: #f5eff3\" transform=\"translate(528.425782 194.178034)rotate(-90)scale(0.10829 -0.10829)\">\n      <defs>\n       <path id=\"Consolas-48\" d=\"M 3175 0 \nL 2619 0 \nL 2619 1875 \nL 903 1875 \nL 903 0 \nL 347 0 \nL 347 4084 \nL 903 4084 \nL 903 2356 \nL 2619 2356 \nL 2619 4084 \nL 3175 4084 \nL 3175 0 \nz\n\" transform=\"scale(0.015625)\"/>\n       <path id=\"Consolas-6f\" d=\"M 3231 1594 \nQ 3231 1228 3128 923 \nQ 3025 619 2831 401 \nQ 2638 184 2359 64 \nQ 2081 -56 1728 -56 \nQ 1391 -56 1123 48 \nQ 856 153 670 356 \nQ 484 559 386 859 \nQ 288 1159 288 1550 \nQ 288 1916 391 2217 \nQ 494 2519 687 2736 \nQ 881 2953 1159 3073 \nQ 1438 3194 1791 3194 \nQ 2128 3194 2395 3089 \nQ 2663 2984 2848 2782 \nQ 3034 2581 3132 2281 \nQ 3231 1981 3231 1594 \nz\nM 2675 1569 \nQ 2675 1859 2611 2076 \nQ 2547 2294 2428 2439 \nQ 2309 2584 2139 2657 \nQ 1969 2731 1759 2731 \nQ 1516 2731 1342 2636 \nQ 1169 2541 1058 2381 \nQ 947 2222 895 2011 \nQ 844 1800 844 1569 \nQ 844 1278 908 1059 \nQ 972 841 1090 695 \nQ 1209 550 1378 476 \nQ 1547 403 1759 403 \nQ 2003 403 2176 498 \nQ 2350 594 2461 753 \nQ 2572 913 2623 1123 \nQ 2675 1334 2675 1569 \nz\n\" transform=\"scale(0.015625)\"/>\n       <path id=\"Consolas-6c\" d=\"M 1569 3969 \nL 641 3969 \nL 641 4416 \nL 2119 4416 \nL 2119 453 \nL 3053 453 \nL 3053 0 \nL 538 0 \nL 538 453 \nL 1569 453 \nL 1569 3969 \nz\n\" transform=\"scale(0.015625)\"/>\n       <path id=\"Consolas-64\" d=\"M 341 1503 \nQ 341 1903 450 2214 \nQ 559 2525 761 2739 \nQ 963 2953 1245 3064 \nQ 1528 3175 1875 3175 \nQ 2025 3175 2170 3156 \nQ 2316 3138 2456 3097 \nL 2456 4416 \nL 3003 4416 \nL 3003 0 \nL 2516 0 \nL 2497 594 \nQ 2269 263 2003 103 \nQ 1738 -56 1428 -56 \nQ 1159 -56 954 56 \nQ 750 169 614 373 \nQ 478 578 409 865 \nQ 341 1153 341 1503 \nz\nM 897 1538 \nQ 897 969 1064 689 \nQ 1231 409 1538 409 \nQ 1744 409 1973 593 \nQ 2203 778 2456 1141 \nL 2456 2597 \nQ 2322 2659 2159 2692 \nQ 1997 2725 1838 2725 \nQ 1394 2725 1145 2437 \nQ 897 2150 897 1538 \nz\n\" transform=\"scale(0.015625)\"/>\n       <path id=\"Consolas-69\" d=\"M 1569 2688 \nL 641 2688 \nL 641 3138 \nL 2119 3138 \nL 2119 453 \nL 3053 453 \nL 3053 0 \nL 538 0 \nL 538 453 \nL 1569 453 \nL 1569 2688 \nz\nM 1759 4453 \nQ 1850 4453 1928 4420 \nQ 2006 4388 2064 4328 \nQ 2122 4269 2155 4192 \nQ 2188 4116 2188 4025 \nQ 2188 3938 2155 3859 \nQ 2122 3781 2064 3722 \nQ 2006 3663 1928 3630 \nQ 1850 3597 1759 3597 \nQ 1669 3597 1591 3630 \nQ 1513 3663 1455 3722 \nQ 1397 3781 1364 3859 \nQ 1331 3938 1331 4025 \nQ 1331 4116 1364 4192 \nQ 1397 4269 1455 4328 \nQ 1513 4388 1591 4420 \nQ 1669 4453 1759 4453 \nz\n\" transform=\"scale(0.015625)\"/>\n       <path id=\"Consolas-6e\" d=\"M 500 3138 \nL 984 3138 \nL 1006 2631 \nQ 1144 2794 1272 2901 \nQ 1400 3009 1523 3075 \nQ 1647 3141 1775 3167 \nQ 1903 3194 2041 3194 \nQ 2525 3194 2773 2908 \nQ 3022 2622 3022 2047 \nL 3022 0 \nL 2478 0 \nL 2478 2003 \nQ 2478 2372 2340 2548 \nQ 2203 2725 1931 2725 \nQ 1831 2725 1736 2695 \nQ 1641 2666 1537 2592 \nQ 1434 2519 1314 2394 \nQ 1194 2269 1044 2081 \nL 1044 0 \nL 500 0 \nL 500 3138 \nz\n\" transform=\"scale(0.015625)\"/>\n       <path id=\"Consolas-67\" d=\"M 2759 2694 \nQ 2847 2584 2895 2439 \nQ 2944 2294 2944 2125 \nQ 2944 1881 2855 1679 \nQ 2766 1478 2603 1334 \nQ 2441 1191 2214 1111 \nQ 1988 1031 1716 1031 \nQ 1519 1031 1347 1073 \nQ 1175 1116 1075 1178 \nQ 1016 1091 975 1012 \nQ 934 934 934 838 \nQ 934 719 1048 641 \nQ 1163 563 1350 556 \nL 2175 525 \nQ 2409 519 2607 466 \nQ 2806 413 2948 313 \nQ 3091 213 3170 66 \nQ 3250 -81 3250 -275 \nQ 3250 -484 3159 -671 \nQ 3069 -859 2880 -1001 \nQ 2691 -1144 2400 -1228 \nQ 2109 -1313 1709 -1313 \nQ 1328 -1313 1061 -1252 \nQ 794 -1191 622 -1083 \nQ 450 -975 372 -826 \nQ 294 -678 294 -500 \nQ 294 -272 400 -100 \nQ 506 72 728 231 \nQ 647 269 587 325 \nQ 528 381 490 448 \nQ 453 516 434 591 \nQ 416 666 416 738 \nQ 416 941 511 1109 \nQ 606 1278 738 1428 \nQ 678 1500 633 1569 \nQ 588 1638 555 1717 \nQ 522 1797 505 1889 \nQ 488 1981 488 2100 \nQ 488 2344 577 2545 \nQ 666 2747 827 2890 \nQ 988 3034 1214 3114 \nQ 1441 3194 1716 3194 \nQ 1831 3194 1937 3178 \nQ 2044 3163 2125 3138 \nL 3263 3138 \nL 3263 2694 \nL 2759 2694 \nz\nM 872 -453 \nQ 872 -675 1103 -776 \nQ 1334 -878 1747 -878 \nQ 2006 -878 2182 -831 \nQ 2359 -784 2467 -707 \nQ 2575 -631 2622 -532 \nQ 2669 -434 2669 -331 \nQ 2669 -141 2512 -50 \nQ 2356 41 2034 56 \nL 1216 84 \nQ 1113 16 1045 -50 \nQ 978 -116 940 -183 \nQ 903 -250 887 -317 \nQ 872 -384 872 -453 \nz\nM 1038 2113 \nQ 1038 1963 1088 1838 \nQ 1138 1713 1228 1625 \nQ 1319 1538 1442 1489 \nQ 1566 1441 1716 1441 \nQ 1878 1441 2004 1495 \nQ 2131 1550 2217 1644 \nQ 2303 1738 2348 1859 \nQ 2394 1981 2394 2113 \nQ 2394 2263 2344 2388 \nQ 2294 2513 2203 2600 \nQ 2113 2688 1989 2736 \nQ 1866 2784 1716 2784 \nQ 1553 2784 1426 2728 \nQ 1300 2672 1214 2580 \nQ 1128 2488 1083 2366 \nQ 1038 2244 1038 2113 \nz\n\" transform=\"scale(0.015625)\"/>\n       <path id=\"Consolas-73\" d=\"M 2984 856 \nQ 2984 691 2928 559 \nQ 2872 428 2775 326 \nQ 2678 225 2550 153 \nQ 2422 81 2276 34 \nQ 2131 -13 1978 -34 \nQ 1825 -56 1678 -56 \nQ 1359 -56 1092 -28 \nQ 825 0 569 63 \nL 569 563 \nQ 844 484 1116 443 \nQ 1388 403 1656 403 \nQ 2047 403 2234 509 \nQ 2422 616 2422 813 \nQ 2422 897 2392 964 \nQ 2363 1031 2284 1092 \nQ 2206 1153 2042 1218 \nQ 1878 1284 1594 1369 \nQ 1381 1431 1201 1511 \nQ 1022 1591 890 1700 \nQ 759 1809 684 1956 \nQ 609 2103 609 2303 \nQ 609 2434 670 2590 \nQ 731 2747 878 2881 \nQ 1025 3016 1275 3105 \nQ 1525 3194 1900 3194 \nQ 2084 3194 2309 3173 \nQ 2534 3153 2778 3103 \nL 2778 2619 \nQ 2522 2681 2292 2711 \nQ 2063 2741 1894 2741 \nQ 1691 2741 1552 2709 \nQ 1413 2678 1327 2623 \nQ 1241 2569 1203 2495 \nQ 1166 2422 1166 2338 \nQ 1166 2253 1198 2184 \nQ 1231 2116 1320 2052 \nQ 1409 1988 1568 1923 \nQ 1728 1859 1984 1784 \nQ 2263 1703 2453 1614 \nQ 2644 1525 2762 1415 \nQ 2881 1306 2932 1168 \nQ 2984 1031 2984 856 \nz\n\" transform=\"scale(0.015625)\"/>\n       <path id=\"Consolas-20\" transform=\"scale(0.015625)\"/>\n       <path id=\"Consolas-28\" d=\"M 2378 -1313 \nQ 938 22 938 1638 \nQ 938 2016 1014 2392 \nQ 1091 2769 1261 3147 \nQ 1431 3525 1711 3903 \nQ 1991 4281 2391 4653 \nL 2706 4331 \nQ 1494 3134 1494 1678 \nQ 1494 953 1800 284 \nQ 2106 -384 2706 -978 \nL 2378 -1313 \nz\n\" transform=\"scale(0.015625)\"/>\n       <path id=\"Consolas-24\" d=\"M 1850 4672 \nL 2303 4672 \nL 2222 4063 \nQ 2384 4047 2548 4022 \nQ 2713 3997 2853 3963 \nL 2853 3481 \nQ 2681 3525 2506 3556 \nQ 2331 3588 2163 3603 \nL 1984 2266 \nQ 2194 2184 2400 2089 \nQ 2606 1994 2770 1864 \nQ 2934 1734 3036 1556 \nQ 3138 1378 3138 1131 \nQ 3138 869 3031 666 \nQ 2925 463 2734 322 \nQ 2544 181 2275 101 \nQ 2006 22 1684 6 \nL 1581 -738 \nL 1125 -738 \nL 1228 6 \nQ 975 25 745 61 \nQ 516 97 347 141 \nL 347 659 \nQ 544 591 776 547 \nQ 1009 503 1294 488 \nL 1478 1894 \nQ 1275 1972 1078 2062 \nQ 881 2153 726 2279 \nQ 572 2406 475 2578 \nQ 378 2750 378 2988 \nQ 378 3181 459 3370 \nQ 541 3559 712 3711 \nQ 884 3863 1146 3961 \nQ 1409 4059 1772 4078 \nL 1850 4672 \nz\nM 1709 3609 \nQ 1319 3575 1139 3426 \nQ 959 3278 959 3047 \nQ 959 2831 1107 2692 \nQ 1256 2553 1550 2438 \nL 1709 3609 \nz\nM 1747 488 \nQ 2169 519 2361 675 \nQ 2553 831 2553 1100 \nQ 2553 1213 2512 1302 \nQ 2472 1391 2390 1462 \nQ 2309 1534 2189 1596 \nQ 2069 1659 1906 1722 \nL 1747 488 \nz\n\" transform=\"scale(0.015625)\"/>\n       <path id=\"Consolas-29\" d=\"M 1141 4653 \nQ 2581 3319 2581 1684 \nQ 2581 1347 2512 984 \nQ 2444 622 2278 242 \nQ 2113 -138 1833 -528 \nQ 1553 -919 1128 -1313 \nL 813 -991 \nQ 1422 -388 1722 268 \nQ 2022 925 2022 1644 \nQ 2022 3131 813 4319 \nL 1141 4653 \nz\n\" transform=\"scale(0.015625)\"/>\n      </defs>\n      <use xlink:href=\"#Consolas-48\"/>\n      <use xlink:href=\"#Consolas-6f\" x=\"54.980469\"/>\n      <use xlink:href=\"#Consolas-6c\" x=\"109.960938\"/>\n      <use xlink:href=\"#Consolas-64\" x=\"164.941406\"/>\n      <use xlink:href=\"#Consolas-69\" x=\"219.921875\"/>\n      <use xlink:href=\"#Consolas-6e\" x=\"274.902344\"/>\n      <use xlink:href=\"#Consolas-67\" x=\"329.882812\"/>\n      <use xlink:href=\"#Consolas-73\" x=\"384.863281\"/>\n      <use xlink:href=\"#Consolas-20\" x=\"439.84375\"/>\n      <use xlink:href=\"#Consolas-28\" x=\"494.824219\"/>\n      <use xlink:href=\"#Consolas-24\" x=\"549.804688\"/>\n      <use xlink:href=\"#Consolas-29\" x=\"604.785156\"/>\n     </g>\n    </g>\n   </g>\n   <g id=\"line2d_31\">\n    <path d=\"M 46.100186 280.189575 \nL 46.862792 280.189575 \nL 47.625399 229.969922 \nL 49.150612 229.969922 \nL 49.913218 230.233255 \nL 50.675824 230.953165 \nL 51.438431 230.120701 \nL 52.201037 228.723347 \nL 54.488856 228.723347 \nL 55.251463 227.296268 \nL 56.014069 227.553224 \nL 56.776675 227.120009 \nL 57.539282 226.408591 \nL 58.301888 225.856443 \nL 60.589707 225.843705 \nL 61.352314 225.29581 \nL 62.11492 225.911662 \nL 62.877527 225.081324 \nL 63.640133 224.817995 \nL 65.165346 224.817995 \nL 65.927952 225.242715 \nL 66.690559 225.344643 \nL 67.453165 224.85197 \nL 68.215771 225.576127 \nL 68.978378 224.730914 \nL 71.266197 224.645973 \nL 72.028803 224.556779 \nL 72.79141 226.130394 \nL 73.554016 226.565742 \nL 75.079229 226.635822 \nL 76.604442 226.703779 \nL 77.367048 227.568099 \nL 78.129654 227.848412 \nL 79.654867 226.576357 \nL 81.18008 226.576357 \nL 81.942686 227.697634 \nL 82.705293 227.899381 \nL 83.467899 229.434769 \nL 84.230506 228.578944 \nL 84.993112 227.491646 \nL 86.518325 227.491646 \nL 87.280931 228.122363 \nL 88.043538 228.568323 \nL 88.806144 228.440612 \nL 89.56875 227.725427 \nL 90.331357 228.004264 \nL 91.85657 228.004264 \nL 92.619176 226.810154 \nL 93.381782 226.610073 \nL 94.144389 226.659028 \nL 94.906995 227.123048 \nL 96.432208 227.044295 \nL 97.957421 227.044295 \nL 98.720027 227.529599 \nL 99.482633 227.550888 \nL 100.24524 227.889321 \nL 101.007846 226.808031 \nL 102.533059 226.808031 \nL 103.295665 226.165206 \nL 104.058272 226.429149 \nL 104.820878 226.212035 \nL 105.583485 225.435124 \nL 106.346091 225.296759 \nL 107.871304 225.296759 \nL 108.63391 224.871055 \nL 110.159123 225.405319 \nL 110.921729 224.65608 \nL 111.684336 224.968977 \nL 113.209549 224.968977 \nL 114.734761 223.674822 \nL 115.497368 223.725906 \nL 116.259974 223.423647 \nL 117.02258 223.779123 \nL 118.547793 223.779123 \nL 119.3104 222.991558 \nL 120.073006 222.421113 \nL 120.835612 222.527541 \nL 121.598219 222.378548 \nL 122.360825 221.090778 \nL 125.411251 221.088652 \nL 126.173857 220.605472 \nL 126.936464 221.13973 \nL 128.461676 221.029056 \nL 129.224283 221.029056 \nL 129.986889 221.161019 \nL 130.749496 220.381985 \nL 131.512102 220.056304 \nL 132.274708 220.371334 \nL 133.799921 220.43093 \nL 134.562528 220.43093 \nL 135.325134 221.227001 \nL 136.850347 220.292588 \nL 137.612953 219.283649 \nL 138.375559 218.532263 \nL 139.900772 218.532263 \nL 140.663379 218.664259 \nL 141.425985 219.198504 \nL 142.188591 219.266625 \nL 142.951198 219.207029 \nL 143.713804 219.545462 \nL 146.001623 219.564618 \nL 146.76423 219.075053 \nL 147.526836 219.204889 \nL 148.289443 218.564211 \nL 150.577262 218.576975 \nL 151.339868 218.817512 \nL 152.102475 219.219793 \nL 152.865081 219.111239 \nL 154.390294 217.855404 \nL 155.915507 217.855404 \nL 156.678113 217.482904 \nL 158.203326 218.188187 \nL 158.965932 216.900089 \nL 159.728538 215.281447 \nL 162.016358 215.219594 \nL 162.778964 215.652516 \nL 163.54157 215.782596 \nL 164.304177 216.405326 \nL 165.066783 216.270967 \nL 166.591996 216.270967 \nL 167.354602 215.445653 \nL 168.117209 215.810317 \nL 168.879815 215.820988 \nL 169.642422 215.966004 \nL 172.692847 215.968131 \nL 173.455454 216.172868 \nL 174.21806 216.166476 \nL 174.980666 216.797717 \nL 175.743273 217.126142 \nL 177.268486 217.126142 \nL 178.031092 216.853179 \nL 178.793698 216.256044 \nL 179.556305 215.183341 \nL 180.318911 215.098026 \nL 181.081517 216.238981 \nL 182.60673 216.238981 \nL 183.369337 217.426852 \nL 184.131943 217.320215 \nL 184.894549 216.514083 \nL 185.657156 216.305087 \nL 187.944975 216.349871 \nL 188.707581 217.454567 \nL 189.470188 219.725792 \nL 190.232794 219.623433 \nL 190.995401 220.067014 \nL 191.758007 218.535794 \nL 193.28322 218.535794 \nL 194.045826 219.81324 \nL 194.808433 218.608306 \nL 195.571039 217.680626 \nL 196.333645 217.309557 \nL 198.621465 217.309557 \nL 199.384071 217.441769 \nL 200.146677 217.729669 \nL 200.909284 216.998195 \nL 201.67189 215.624782 \nL 202.434496 215.313434 \nL 203.959709 215.313434 \nL 204.722316 214.656578 \nL 205.484922 214.456113 \nL 206.247528 214.630997 \nL 207.010135 213.916566 \nL 207.772741 214.257781 \nL 209.297954 214.257781 \nL 210.06056 214.477442 \nL 210.823167 214.05519 \nL 211.585773 211.269999 \nL 212.34838 211.018352 \nL 213.110986 209.467936 \nL 214.636199 209.467936 \nL 215.398805 209.947782 \nL 216.161412 209.14591 \nL 216.924018 208.960382 \nL 217.686624 208.440017 \nL 219.211837 208.52106 \nL 219.974444 208.52106 \nL 220.73705 208.322728 \nL 221.499656 208.544509 \nL 222.262263 209.642813 \nL 223.024869 209.295199 \nL 223.787475 208.38031 \nL 225.312688 208.38031 \nL 226.075295 208.518927 \nL 226.837901 207.785301 \nL 227.600507 207.736166 \nL 229.12572 206.883708 \nL 230.650933 206.883708 \nL 231.413539 207.584488 \nL 232.176146 208.043833 \nL 233.701359 207.994684 \nL 234.463965 209.75304 \nL 235.989178 209.75304 \nL 236.751784 208.268159 \nL 237.514391 209.558619 \nL 239.039603 209.793637 \nL 239.80221 211.178088 \nL 241.327423 211.178088 \nL 242.090029 210.498683 \nL 242.852635 208.633506 \nL 243.615242 208.622822 \nL 244.377848 209.022354 \nL 245.140454 207.005479 \nL 246.665667 207.005479 \nL 247.428274 207.676353 \nL 248.19088 210.039332 \nL 248.953486 208.691192 \nL 249.716093 210.774297 \nL 250.478699 211.009315 \nL 252.003912 211.009315 \nL 252.766518 211.840411 \nL 253.529125 210.263665 \nL 254.291731 209.000979 \nL 255.054338 208.682648 \nL 257.342157 208.682648 \nL 258.104763 207.024708 \nL 258.86737 207.281094 \nL 259.629976 207.13153 \nL 261.155189 208.334384 \nL 262.680402 208.334384 \nL 263.443008 208.669831 \nL 264.205614 209.896179 \nL 264.968221 212.594598 \nL 265.730827 213.128731 \nL 269.543859 212.893707 \nL 270.306465 212.190801 \nL 271.069072 215.068684 \nL 271.831678 213.914958 \nL 274.119497 213.914958 \nL 274.882104 215.528035 \nL 275.64471 215.382749 \nL 276.407317 215.752362 \nL 277.169923 216.942399 \nL 279.457742 216.869756 \nL 280.220349 218.55333 \nL 280.982955 216.79712 \nL 281.745561 216.128392 \nL 282.508168 214.329446 \nL 284.033381 214.329446 \nL 284.795987 213.748318 \nL 285.558593 214.222618 \nL 286.3212 213.21847 \nL 287.083806 215.827144 \nL 287.846412 214.825115 \nL 289.371625 214.825115 \nL 290.134232 215.891235 \nL 290.896838 215.119958 \nL 291.659444 213.699176 \nL 292.422051 215.585715 \nL 293.184657 217.153915 \nL 295.472476 217.16246 \nL 296.235083 215.993791 \nL 296.997689 216.068724 \nL 297.760296 217.946318 \nL 298.522902 218.545783 \nL 301.573328 218.590737 \nL 302.335934 220.185727 \nL 303.09854 217.11992 \nL 303.861147 216.537584 \nL 305.38636 216.537584 \nL 306.148966 216.22073 \nL 306.911572 217.042841 \nL 307.674179 215.920997 \nL 308.436785 216.835171 \nL 309.199391 218.132581 \nL 310.724604 218.132581 \nL 311.487211 220.476895 \nL 312.249817 221.132018 \nL 313.012423 218.423742 \nL 313.77503 219.046761 \nL 314.537636 220.228542 \nL 316.062849 220.228542 \nL 316.825455 221.005706 \nL 317.588062 218.712771 \nL 318.350668 217.162736 \nL 319.113275 216.985044 \nL 319.875881 215.869618 \nL 321.401094 215.869618 \nL 322.1637 216.141511 \nL 322.926307 215.092461 \nL 323.688913 216.070863 \nL 324.451519 215.08389 \nL 325.976732 215.173812 \nL 326.739339 215.173812 \nL 327.501945 213.670871 \nL 328.264551 212.662503 \nL 329.027158 212.994347 \nL 329.789764 214.182566 \nL 330.55237 213.944917 \nL 332.077583 213.944917 \nL 332.84019 212.756704 \nL 333.602796 213.632341 \nL 334.365402 216.068724 \nL 335.128009 215.668365 \nL 335.890615 216.610378 \nL 337.415828 216.610378 \nL 338.178434 219.117402 \nL 338.941041 219.802504 \nL 339.703647 218.612145 \nL 340.466254 220.279935 \nL 342.754073 220.279935 \nL 343.516679 220.132215 \nL 344.279286 219.108844 \nL 345.041892 218.881905 \nL 345.804498 220.070125 \nL 346.567105 221.521667 \nL 348.092318 221.521667 \nL 348.854924 220.089386 \nL 349.61753 222.33736 \nL 350.380137 219.554157 \nL 351.142743 218.181814 \nL 351.905349 220.774488 \nL 353.430562 220.774488 \nL 354.193169 219.286536 \nL 354.955775 219.862447 \nL 355.718381 218.106888 \nL 356.480988 220.810878 \nL 357.243594 221.371807 \nL 358.768807 221.371807 \nL 359.531413 223.544854 \nL 360.29402 222.491512 \nL 361.056626 224.407648 \nL 361.819233 225.520925 \nL 362.581839 224.285608 \nL 364.869658 224.204256 \nL 365.632265 223.065277 \nL 366.394871 225.666128 \nL 367.920084 225.992308 \nL 369.445297 225.992308 \nL 370.207903 224.256266 \nL 370.970509 224.477292 \nL 372.495722 223.129657 \nL 373.258328 221.554559 \nL 375.546148 221.554559 \nL 376.308754 221.848542 \nL 377.07136 221.730519 \nL 377.833967 221.267007 \nL 378.596573 222.245541 \nL 380.121786 222.245541 \nL 380.884392 222.518071 \nL 381.646999 221.71335 \nL 382.409605 222.161847 \nL 383.172212 223.367851 \nL 383.934818 225.900033 \nL 385.460031 225.900033 \nL 386.222637 228.202605 \nL 386.985244 227.724062 \nL 387.74785 226.163982 \nL 388.510456 227.62106 \nL 389.273063 227.045956 \nL 391.560882 227.045956 \nL 392.323488 225.739089 \nL 393.086095 225.869992 \nL 393.848701 224.640388 \nL 394.611307 222.743389 \nL 396.13652 222.743389 \nL 396.899127 223.346391 \nL 397.661733 225.151109 \nL 398.424339 224.339954 \nL 399.186946 225.076008 \nL 399.949552 224.485876 \nL 402.237371 224.485876 \nL 403.762584 223.063137 \nL 404.525191 222.593181 \nL 405.287797 222.751973 \nL 406.81301 222.751973 \nL 407.575616 223.427939 \nL 408.338223 225.754114 \nL 409.100829 225.957975 \nL 409.863435 225.666128 \nL 410.626042 225.099608 \nL 412.151255 225.099608 \nL 412.913861 225.629649 \nL 413.676467 224.496606 \nL 415.20168 223.357128 \nL 415.964286 224.3185 \nL 417.489499 224.3185 \nL 418.252106 224.64682 \nL 419.014712 226.133941 \nL 419.777318 222.520217 \nL 420.539925 220.8743 \nL 421.302531 219.945118 \nL 422.827744 219.945118 \nL 424.352957 221.215496 \nL 425.115563 219.573872 \nL 425.87817 219.320656 \nL 426.640776 219.479454 \nL 428.165989 219.479454 \nL 428.928595 220.035244 \nL 429.691202 219.610354 \nL 430.453808 218.138257 \nL 431.216414 218.597484 \nL 431.979021 217.548125 \nL 433.504233 217.548125 \nL 434.26684 217.213367 \nL 436.554659 217.789344 \nL 437.317265 218.653838 \nL 438.842478 218.653838 \nL 439.605085 220.460232 \nL 440.367691 220.741944 \nL 441.130297 220.881723 \nL 441.892904 220.223679 \nL 442.65551 222.537588 \nL 444.180723 222.537588 \nL 445.705936 223.638629 \nL 447.231149 224.191301 \nL 447.993755 225.124605 \nL 450.281574 225.124605 \nL 451.044181 225.728887 \nL 451.806787 224.68806 \nL 452.569393 224.595591 \nL 453.332 223.318211 \nL 454.857212 223.318211 \nL 454.857212 223.318211 \n\" clip-path=\"url(#p8dabe00bc0)\" style=\"fill: none; stroke: #ffed00; stroke-width: 1.1; stroke-linejoin: miter; stroke-linecap: square\"/>\n   </g>\n   <g id=\"line2d_32\">\n    <path d=\"M 46.100186 280.189575 \nL 89.56875 280.189575 \nL 90.331357 240.078239 \nL 91.093963 239.828848 \nL 91.85657 242.803004 \nL 92.619176 238.571523 \nL 93.381782 238.898135 \nL 94.144389 237.93905 \nL 94.906995 238.860774 \nL 95.669601 241.806236 \nL 96.432208 242.969145 \nL 97.194814 241.827177 \nL 97.957421 240.047956 \nL 98.720027 240.744634 \nL 99.482633 239.787401 \nL 100.24524 238.030911 \nL 101.007846 240.519393 \nL 101.770453 241.962842 \nL 102.533059 241.629065 \nL 103.295665 244.103905 \nL 104.058272 244.198606 \nL 104.820878 240.034768 \nL 105.583485 240.725632 \nL 106.346091 240.046297 \nL 107.108697 241.962241 \nL 107.871304 238.150161 \nL 108.63391 236.945234 \nL 109.396517 236.743312 \nL 110.159123 238.957445 \nL 110.921729 239.273089 \nL 111.684336 241.709851 \nL 112.446942 241.894119 \nL 113.209549 241.805492 \nL 113.972155 246.129664 \nL 114.734761 245.238329 \nL 115.497368 243.929372 \nL 116.259974 242.919285 \nL 117.02258 246.171506 \nL 117.785187 245.581741 \nL 118.547793 242.933041 \nL 119.3104 243.164548 \nL 120.073006 241.623261 \nL 120.835612 242.512418 \nL 121.598219 244.091636 \nL 122.360825 243.74226 \nL 123.886038 242.246893 \nL 124.648644 243.904667 \nL 125.411251 243.378671 \nL 126.173857 243.787118 \nL 126.936464 244.838652 \nL 127.69907 243.848747 \nL 128.461676 244.147116 \nL 129.224283 243.373303 \nL 129.986889 244.539224 \nL 130.749496 245.02719 \nL 131.512102 244.897815 \nL 132.274708 246.017799 \nL 133.037315 246.404015 \nL 133.799921 246.284095 \nL 134.562528 246.000509 \nL 136.08774 248.139651 \nL 136.850347 245.663011 \nL 137.612953 245.445371 \nL 138.375559 244.081493 \nL 139.138166 243.317114 \nL 139.900772 242.179792 \nL 141.425985 237.817825 \nL 142.188591 237.184549 \nL 142.951198 237.171092 \nL 143.713804 234.776408 \nL 144.476411 235.431604 \nL 145.239017 237.207142 \nL 146.001623 238.038244 \nL 146.76423 239.166129 \nL 147.526836 237.45164 \nL 148.289443 236.245171 \nL 149.814655 232.281588 \nL 150.577262 233.096276 \nL 151.339868 230.33584 \nL 152.102475 231.174922 \nL 152.865081 231.16567 \nL 153.627687 232.418693 \nL 154.390294 228.800491 \nL 155.1529 229.549258 \nL 155.915507 229.602957 \nL 156.678113 230.723911 \nL 157.440719 232.131529 \nL 158.203326 232.017739 \nL 158.965932 229.957168 \nL 159.728538 227.138332 \nL 160.491145 227.604644 \nL 161.253751 227.157174 \nL 162.016358 226.915788 \nL 162.778964 228.894255 \nL 163.54157 227.545187 \nL 164.304177 229.715626 \nL 165.066783 227.439944 \nL 166.591996 227.685997 \nL 167.354602 229.594376 \nL 168.117209 229.474269 \nL 168.879815 227.667508 \nL 169.642422 227.150647 \nL 170.405028 226.400506 \nL 171.167634 226.487332 \nL 171.930241 224.542461 \nL 172.692847 223.596119 \nL 173.455454 229.856578 \nL 174.21806 230.630467 \nL 174.980666 230.307862 \nL 175.743273 231.928793 \nL 176.505879 231.587355 \nL 177.268486 230.660704 \nL 178.031092 231.843673 \nL 178.793698 229.554047 \nL 179.556305 228.388647 \nL 180.318911 228.811202 \nL 181.081517 229.365851 \nL 181.844124 228.278956 \nL 182.60673 229.373701 \nL 183.369337 234.122391 \nL 184.131943 236.434282 \nL 184.894549 233.336709 \nL 185.657156 231.916764 \nL 186.419762 234.126747 \nL 187.182369 234.259169 \nL 187.944975 233.730212 \nL 188.707581 234.77621 \nL 189.470188 236.06777 \nL 190.232794 235.498088 \nL 190.995401 233.104042 \nL 191.758007 228.452522 \nL 192.520613 228.88848 \nL 193.28322 228.363265 \nL 194.045826 227.381629 \nL 194.808433 224.79901 \nL 195.571039 220.662969 \nL 196.333645 222.33546 \nL 197.096252 222.161419 \nL 197.858858 221.08578 \nL 198.621465 221.297219 \nL 199.384071 218.379878 \nL 200.146677 219.932229 \nL 200.909284 218.469866 \nL 201.67189 218.555427 \nL 202.434496 213.961562 \nL 203.197103 214.71613 \nL 203.959709 214.004929 \nL 204.722316 213.496922 \nL 205.484922 211.092787 \nL 206.247528 209.231722 \nL 207.010135 213.298978 \nL 207.772741 214.931085 \nL 208.535348 214.176967 \nL 209.297954 214.674565 \nL 210.06056 212.406906 \nL 210.823167 215.28427 \nL 211.585773 217.307225 \nL 212.34838 215.00649 \nL 213.110986 213.279846 \nL 213.873592 213.644494 \nL 214.636199 214.257244 \nL 215.398805 214.59546 \nL 216.161412 212.206291 \nL 216.924018 212.481933 \nL 217.686624 214.113943 \nL 218.449231 214.465067 \nL 219.211837 214.033032 \nL 219.974444 212.098137 \nL 220.73705 207.53931 \nL 221.499656 208.179075 \nL 222.262263 210.304383 \nL 223.024869 210.353059 \nL 223.787475 211.206817 \nL 224.550082 210.869638 \nL 225.312688 209.797292 \nL 226.075295 211.849883 \nL 226.837901 215.502056 \nL 227.600507 215.279734 \nL 228.363114 218.963357 \nL 229.12572 217.69733 \nL 229.888327 216.00102 \nL 230.650933 217.04047 \nL 231.413539 219.665322 \nL 232.176146 218.289252 \nL 232.938752 219.674852 \nL 233.701359 218.605795 \nL 234.463965 222.589451 \nL 235.226571 221.250447 \nL 235.989178 218.633991 \nL 236.751784 218.033892 \nL 237.514391 218.895307 \nL 238.276997 218.654021 \nL 239.039603 219.462611 \nL 239.80221 222.558828 \nL 240.564816 227.287223 \nL 241.327423 227.106428 \nL 242.090029 225.801331 \nL 242.852635 225.675033 \nL 243.615242 225.885015 \nL 244.377848 228.930809 \nL 245.140454 229.391888 \nL 245.903061 227.113245 \nL 246.665667 226.322056 \nL 247.428274 229.935768 \nL 248.19088 230.070009 \nL 248.953486 227.614074 \nL 249.716093 228.938008 \nL 250.478699 230.51138 \nL 251.241306 229.816098 \nL 252.003912 229.968525 \nL 252.766518 229.782228 \nL 253.529125 227.571182 \nL 254.291731 227.902464 \nL 255.054338 225.584226 \nL 255.816944 225.543737 \nL 256.57955 225.96559 \nL 257.342157 225.55737 \nL 258.104763 225.73919 \nL 258.86737 229.020339 \nL 259.629976 230.250564 \nL 260.392582 229.461971 \nL 261.155189 230.399232 \nL 261.917795 228.915012 \nL 262.680402 229.282306 \nL 263.443008 230.236149 \nL 264.205614 230.838865 \nL 264.968221 233.342627 \nL 265.730827 233.781403 \nL 266.493433 235.505035 \nL 268.018646 235.124725 \nL 268.781253 235.221862 \nL 269.543859 234.238458 \nL 270.306465 232.933932 \nL 271.069072 234.393598 \nL 271.831678 233.84724 \nL 272.594285 233.763695 \nL 273.356891 233.831994 \nL 274.119497 234.760275 \nL 274.882104 234.625782 \nL 275.64471 235.304584 \nL 276.407317 236.448538 \nL 277.169923 240.989367 \nL 277.932529 242.5238 \nL 278.695136 241.18346 \nL 280.220349 240.455311 \nL 280.982955 240.564859 \nL 281.745561 240.25722 \nL 282.508168 239.562513 \nL 283.270774 239.182043 \nL 284.033381 239.419217 \nL 284.795987 238.811146 \nL 285.558593 238.531425 \nL 286.3212 240.456407 \nL 287.083806 240.239621 \nL 287.846412 235.566353 \nL 288.609019 235.630556 \nL 289.371625 234.586213 \nL 290.134232 233.050936 \nL 291.659444 232.514918 \nL 292.422051 233.34681 \nL 293.184657 234.591047 \nL 293.947264 234.766814 \nL 294.70987 234.8173 \nL 295.472476 234.398601 \nL 296.235083 232.260726 \nL 296.997689 232.920215 \nL 297.760296 236.601658 \nL 298.522902 237.14684 \nL 299.285508 237.048801 \nL 300.048115 238.866785 \nL 300.810721 240.324909 \nL 301.573328 239.023072 \nL 302.335934 240.086971 \nL 303.861147 238.025047 \nL 304.623753 238.142324 \nL 305.38636 239.642668 \nL 306.148966 233.746668 \nL 306.911572 232.497887 \nL 307.674179 232.960797 \nL 308.436785 234.543896 \nL 309.199391 238.107425 \nL 309.961998 237.824659 \nL 310.724604 238.879037 \nL 311.487211 239.263912 \nL 312.249817 238.53788 \nL 313.012423 235.048035 \nL 313.77503 237.785009 \nL 314.537636 238.475836 \nL 315.300243 238.358593 \nL 316.062849 239.492265 \nL 316.825455 237.538465 \nL 317.588062 237.891109 \nL 318.350668 235.950153 \nL 319.113275 236.157191 \nL 319.875881 235.24348 \nL 320.638487 234.82468 \nL 321.401094 235.838442 \nL 322.1637 236.021047 \nL 322.926307 234.643872 \nL 323.688913 234.069537 \nL 324.451519 232.92121 \nL 325.214126 232.504237 \nL 325.976732 232.340696 \nL 326.739339 229.846511 \nL 328.264551 229.152727 \nL 329.027158 229.586119 \nL 329.789764 231.224765 \nL 330.55237 230.425899 \nL 331.314977 230.869644 \nL 332.077583 230.241042 \nL 332.84019 230.05921 \nL 333.602796 231.206146 \nL 334.365402 233.732148 \nL 335.128009 233.412685 \nL 335.890615 234.720369 \nL 336.653222 234.188695 \nL 337.415828 234.80638 \nL 338.178434 237.694215 \nL 338.941041 237.043395 \nL 339.703647 235.925637 \nL 340.466254 237.249483 \nL 341.22886 236.585042 \nL 341.991466 236.723727 \nL 342.754073 237.484489 \nL 343.516679 236.291772 \nL 344.279286 235.564337 \nL 345.041892 235.702366 \nL 346.567105 237.459364 \nL 347.329711 237.732033 \nL 348.092318 237.750783 \nL 348.854924 236.687358 \nL 349.61753 239.204321 \nL 350.380137 237.996121 \nL 351.142743 237.423335 \nL 351.905349 238.674914 \nL 352.667956 239.637195 \nL 353.430562 238.826232 \nL 354.193169 238.761466 \nL 354.955775 239.59894 \nL 355.718381 237.50447 \nL 356.480988 240.862678 \nL 358.006201 242.016608 \nL 358.768807 243.567837 \nL 359.531413 247.61321 \nL 360.29402 246.832639 \nL 361.056626 249.076173 \nL 361.819233 248.956395 \nL 362.581839 248.703337 \nL 363.344445 247.82362 \nL 364.107052 246.5292 \nL 364.869658 248.0799 \nL 365.632265 247.474607 \nL 366.394871 249.308514 \nL 367.157477 247.594521 \nL 367.920084 248.791897 \nL 368.68269 248.542995 \nL 369.445297 247.584426 \nL 370.207903 248.901388 \nL 370.970509 248.302831 \nL 371.733116 248.403069 \nL 372.495722 248.720411 \nL 373.258328 249.408186 \nL 374.020935 249.206766 \nL 374.783541 248.528231 \nL 375.546148 246.076228 \nL 376.308754 246.005348 \nL 377.07136 248.148541 \nL 377.833967 247.429844 \nL 378.596573 248.250354 \nL 380.121786 248.032865 \nL 380.884392 246.458709 \nL 381.646999 246.690093 \nL 382.409605 247.702022 \nL 383.172212 247.81208 \nL 383.934818 248.91763 \nL 384.697424 249.695019 \nL 385.460031 251.41342 \nL 386.222637 256.010332 \nL 386.985244 256.312039 \nL 387.74785 255.918452 \nL 388.510456 258.274497 \nL 389.273063 258.177907 \nL 390.035669 259.741127 \nL 390.798276 258.089964 \nL 392.323488 257.920801 \nL 393.086095 258.698808 \nL 393.848701 257.517288 \nL 394.611307 257.360541 \nL 395.373914 257.069494 \nL 396.13652 257.580277 \nL 396.899127 257.894049 \nL 397.661733 258.383113 \nL 398.424339 258.573012 \nL 399.186946 258.916331 \nL 399.949552 259.470464 \nL 401.474765 259.44067 \nL 402.237371 258.4362 \nL 402.999978 258.480443 \nL 403.762584 258.095368 \nL 404.525191 256.924068 \nL 405.287797 256.823502 \nL 406.050403 256.972863 \nL 406.81301 257.759676 \nL 407.575616 258.71652 \nL 408.338223 259.411813 \nL 409.100829 258.456832 \nL 411.388648 257.404991 \nL 412.151255 257.846883 \nL 412.913861 256.012159 \nL 413.676467 255.040421 \nL 415.20168 255.282139 \nL 415.964286 255.765619 \nL 416.726893 256.033891 \nL 417.489499 255.879395 \nL 418.252106 257.220712 \nL 419.014712 257.351834 \nL 419.777318 255.533831 \nL 420.539925 254.551777 \nL 421.302531 254.593984 \nL 422.065138 254.753577 \nL 422.827744 255.096911 \nL 423.59035 255.121316 \nL 424.352957 255.482683 \nL 425.87817 255.855962 \nL 426.640776 255.148073 \nL 427.403382 255.500788 \nL 428.165989 255.27003 \nL 428.928595 254.588766 \nL 429.691202 255.282473 \nL 430.453808 254.440215 \nL 431.216414 254.429585 \nL 431.979021 253.950794 \nL 432.741627 253.927945 \nL 434.26684 254.236641 \nL 435.029446 254.509408 \nL 435.792053 255.097877 \nL 436.554659 255.23041 \nL 437.317265 257.741285 \nL 438.842478 257.03532 \nL 439.605085 257.180705 \nL 440.367691 257.041807 \nL 441.130297 257.184886 \nL 441.892904 256.963512 \nL 442.65551 258.405279 \nL 443.418117 258.639983 \nL 444.180723 259.096876 \nL 444.943329 258.364447 \nL 445.705936 258.90334 \nL 446.468542 258.631354 \nL 447.231149 258.548155 \nL 448.756361 258.865406 \nL 449.518968 258.699148 \nL 450.281574 258.886607 \nL 451.044181 259.934642 \nL 451.806787 259.44793 \nL 452.569393 259.405448 \nL 453.332 257.199797 \nL 454.094606 256.877886 \nL 454.857212 256.929064 \nL 454.857212 256.929064 \n\" clip-path=\"url(#p8dabe00bc0)\" style=\"fill: none; stroke: #ef7d00; stroke-width: 1.1; stroke-linejoin: miter; stroke-linecap: square\"/>\n   </g>\n   <g id=\"line2d_33\">\n    <path d=\"M 46.100186 241.79077 \nL 47.625399 241.432647 \nL 49.913218 241.375094 \nL 50.675824 241.851523 \nL 51.438431 241.132081 \nL 52.201037 240.860298 \nL 54.488856 240.860298 \nL 55.251463 239.93302 \nL 56.014069 239.833898 \nL 56.776675 239.29352 \nL 58.301888 237.662799 \nL 59.827101 237.662799 \nL 60.589707 238.22556 \nL 61.352314 237.205552 \nL 62.11492 237.972952 \nL 62.877527 237.183171 \nL 64.402739 237.291879 \nL 65.165346 237.291879 \nL 65.927952 237.074458 \nL 66.690559 237.627621 \nL 67.453165 237.502917 \nL 68.215771 238.001726 \nL 68.978378 237.240725 \nL 70.503591 237.240725 \nL 71.266197 237.11282 \nL 72.028803 237.218339 \nL 72.79141 237.477342 \nL 73.554016 237.509315 \nL 74.316622 238.15521 \nL 75.841835 238.15521 \nL 76.604442 237.80988 \nL 77.367048 239.309509 \nL 78.129654 239.229565 \nL 78.892261 238.705174 \nL 79.654867 238.484169 \nL 81.18008 238.484169 \nL 81.942686 239.560363 \nL 82.705293 239.861439 \nL 83.467899 240.867159 \nL 84.993112 239.36819 \nL 86.518325 239.36819 \nL 88.043538 240.200949 \nL 88.806144 240.252195 \nL 89.56875 239.413029 \nL 90.331357 240.015179 \nL 91.85657 240.015179 \nL 92.619176 239.480291 \nL 94.144389 239.560363 \nL 94.906995 240.063226 \nL 95.669601 240.277819 \nL 98.720027 240.38352 \nL 99.482633 240.13369 \nL 100.24524 240.620533 \nL 101.007846 239.867845 \nL 103.295665 239.864644 \nL 104.058272 239.595598 \nL 104.820878 239.470684 \nL 105.583485 239.797384 \nL 106.346091 239.400215 \nL 107.871304 239.400215 \nL 108.63391 238.397699 \nL 109.396517 238.666747 \nL 110.159123 238.503395 \nL 110.921729 237.978115 \nL 111.684336 238.404102 \nL 113.209549 238.404102 \nL 114.734761 237.27667 \nL 117.785187 237.555326 \nL 118.547793 237.555326 \nL 120.073006 236.523982 \nL 121.598219 236.222901 \nL 122.360825 190.533051 \nL 124.648644 190.533051 \nL 125.411251 189.213443 \nL 126.173857 187.579946 \nL 126.936464 188.431921 \nL 127.69907 187.234035 \nL 129.224283 187.234035 \nL 129.986889 187.624786 \nL 130.749496 186.894513 \nL 131.512102 184.646076 \nL 132.274708 185.075268 \nL 133.037315 186.414092 \nL 134.562528 186.414092 \nL 135.325134 188.937996 \nL 136.08774 186.567837 \nL 136.850347 187.048277 \nL 137.612953 186.151462 \nL 138.375559 185.02401 \nL 139.900772 185.02401 \nL 140.663379 184.748553 \nL 141.425985 186.170668 \nL 142.188591 187.317326 \nL 142.951198 186.894513 \nL 143.713804 186.753595 \nL 145.239017 186.753595 \nL 146.001623 186.971395 \nL 146.76423 185.792705 \nL 147.526836 186.055355 \nL 148.289443 185.984891 \nL 149.052049 186.433977 \nL 151.339868 186.466049 \nL 152.102475 186.78041 \nL 152.865081 186.613602 \nL 153.627687 184.669732 \nL 154.390294 184.534996 \nL 155.915507 184.534996 \nL 156.678113 183.239082 \nL 157.440719 183.835712 \nL 158.203326 186.292833 \nL 158.965932 186.074698 \nL 159.728538 185.118809 \nL 161.253751 185.118809 \nL 162.016358 184.143645 \nL 162.778964 184.2014 \nL 163.54157 185.009746 \nL 164.304177 185.535814 \nL 165.066783 184.855775 \nL 166.591996 184.855775 \nL 167.354602 181.955976 \nL 168.117209 182.783577 \nL 168.879815 182.347327 \nL 169.642422 181.615961 \nL 170.405028 181.198947 \nL 172.692847 181.198947 \nL 173.455454 179.665643 \nL 174.21806 180.679307 \nL 174.980666 181.346509 \nL 175.743273 184.618385 \nL 177.268486 184.618385 \nL 178.031092 184.246299 \nL 178.793698 185.163717 \nL 179.556305 184.579905 \nL 180.318911 184.733876 \nL 181.081517 186.485285 \nL 182.60673 186.485285 \nL 183.369337 188.48692 \nL 184.131943 188.172569 \nL 184.894549 186.620011 \nL 185.657156 185.991299 \nL 187.182369 185.933564 \nL 187.944975 185.933564 \nL 188.707581 186.927973 \nL 189.470188 189.147714 \nL 190.232794 188.557492 \nL 190.995401 189.410747 \nL 191.758007 188.672973 \nL 193.28322 188.672973 \nL 194.045826 190.924796 \nL 194.808433 189.660964 \nL 195.571039 189.089968 \nL 196.333645 188.262387 \nL 197.096252 188.512594 \nL 199.384071 188.570329 \nL 200.146677 189.404339 \nL 200.909284 189.789262 \nL 201.67189 187.960863 \nL 202.434496 187.267987 \nL 203.959709 187.267987 \nL 204.722316 186.170944 \nL 205.484922 184.753121 \nL 206.247528 184.432362 \nL 207.010135 184.291207 \nL 207.772741 184.79803 \nL 210.06056 184.830112 \nL 210.823167 184.393852 \nL 211.585773 184.695376 \nL 212.34838 182.308827 \nL 213.110986 184.085909 \nL 214.636199 184.085909 \nL 215.398805 184.624803 \nL 216.161412 183.944765 \nL 216.924018 183.001702 \nL 217.686624 183.341717 \nL 218.449231 182.994782 \nL 219.974444 182.994782 \nL 220.73705 183.534464 \nL 221.499656 183.296749 \nL 222.262263 185.153519 \nL 223.024869 185.18565 \nL 223.787475 183.823574 \nL 226.075295 183.817156 \nL 226.837901 183.174672 \nL 227.600507 181.574892 \nL 228.363114 178.760825 \nL 229.12572 177.038968 \nL 230.650933 177.038968 \nL 232.938752 176.145903 \nL 233.701359 176.145903 \nL 234.463965 179.441848 \nL 235.989178 179.441848 \nL 236.751784 177.238133 \nL 237.514391 173.987166 \nL 238.276997 174.327683 \nL 239.039603 174.976594 \nL 239.80221 176.210165 \nL 241.327423 176.210165 \nL 242.090029 173.97431 \nL 242.852635 170.209383 \nL 243.615242 167.703692 \nL 244.377848 168.03778 \nL 245.140454 164.896033 \nL 246.665667 164.896033 \nL 247.428274 167.279648 \nL 248.19088 168.18555 \nL 248.953486 164.992407 \nL 249.716093 169.515504 \nL 250.478699 170.235077 \nL 252.003912 170.235077 \nL 252.766518 171.128121 \nL 253.529125 169.046483 \nL 254.291731 167.343901 \nL 255.054338 166.932714 \nL 257.342157 166.932714 \nL 258.104763 164.330648 \nL 258.86737 164.998835 \nL 259.629976 164.941011 \nL 260.392582 165.699143 \nL 261.155189 166.103901 \nL 262.680402 166.103901 \nL 263.443008 163.251295 \nL 264.205614 164.735417 \nL 264.968221 167.806484 \nL 265.730827 169.682538 \nL 267.25604 169.573308 \nL 268.781253 169.560462 \nL 269.543859 167.703692 \nL 270.306465 167.414571 \nL 271.069072 169.560462 \nL 271.831678 168.995067 \nL 274.119497 168.995067 \nL 275.64471 173.38967 \nL 276.407317 174.494727 \nL 277.169923 175.843946 \nL 278.695136 175.843946 \nL 279.457742 176.351516 \nL 280.220349 177.533682 \nL 280.982955 177.591496 \nL 281.745561 177.893463 \nL 282.508168 170.755484 \nL 284.033381 170.755484 \nL 284.795987 167.896439 \nL 285.558593 168.005649 \nL 286.3212 167.215406 \nL 287.083806 169.104307 \nL 287.846412 169.290852 \nL 289.371625 169.290852 \nL 290.134232 169.760464 \nL 290.896838 167.721204 \nL 291.659444 166.788409 \nL 292.422051 169.464551 \nL 293.184657 171.703232 \nL 294.70987 171.703232 \nL 295.472476 171.548847 \nL 296.235083 169.033538 \nL 296.997689 169.187923 \nL 297.760296 171.548847 \nL 298.522902 172.565258 \nL 300.810721 172.565258 \nL 301.573328 174.482294 \nL 302.335934 177.216319 \nL 303.09854 175.498704 \nL 303.861147 174.141344 \nL 305.38636 174.141344 \nL 306.148966 173.967655 \nL 306.911572 175.202791 \nL 307.674179 173.041298 \nL 308.436785 173.253595 \nL 309.199391 175.222096 \nL 310.724604 175.222096 \nL 311.487211 177.711663 \nL 312.249817 178.90821 \nL 313.012423 175.363614 \nL 314.537636 180.651557 \nL 316.062849 180.651557 \nL 316.825455 183.295528 \nL 318.350668 177.525108 \nL 319.113275 176.862513 \nL 319.875881 174.701019 \nL 321.401094 174.701019 \nL 322.1637 173.800394 \nL 322.926307 171.587436 \nL 323.688913 170.69324 \nL 324.451519 168.210111 \nL 325.214126 167.791964 \nL 326.739339 167.791964 \nL 327.501945 167.22586 \nL 328.264551 165.064367 \nL 329.027158 165.829892 \nL 329.789764 167.862723 \nL 330.55237 168.055726 \nL 332.077583 168.055726 \nL 332.84019 165.398888 \nL 334.365402 169.651106 \nL 335.128009 169.451685 \nL 335.890615 170.770456 \nL 337.415828 170.770456 \nL 338.178434 173.562384 \nL 338.941041 172.333666 \nL 339.703647 170.571035 \nL 340.466254 173.858297 \nL 342.754073 173.858297 \nL 343.516679 173.999816 \nL 344.279286 172.500927 \nL 345.041892 172.610295 \nL 345.804498 173.131361 \nL 346.567105 176.109854 \nL 348.092318 176.109854 \nL 348.854924 175.408651 \nL 349.61753 179.319919 \nL 350.380137 179.467876 \nL 351.142743 174.919745 \nL 351.905349 178.77312 \nL 353.430562 178.77312 \nL 354.193169 178.573689 \nL 354.955775 177.595877 \nL 355.718381 173.388686 \nL 356.480988 179.339213 \nL 357.243594 178.862484 \nL 358.768807 178.862484 \nL 359.531413 182.225448 \nL 360.29402 180.647048 \nL 361.056626 185.807461 \nL 361.819233 188.345796 \nL 362.581839 185.414466 \nL 364.107052 185.414466 \nL 364.869658 186.425935 \nL 365.632265 184.042221 \nL 366.394871 189.46677 \nL 367.157477 191.702311 \nL 367.920084 191.5477 \nL 369.445297 191.5477 \nL 370.207903 187.991458 \nL 370.970509 189.763136 \nL 371.733116 189.660049 \nL 372.495722 187.559815 \nL 373.258328 183.784523 \nL 375.546148 183.784523 \nL 376.308754 184.299919 \nL 377.07136 184.383673 \nL 377.833967 182.773054 \nL 378.596573 186.529012 \nL 380.121786 186.529012 \nL 380.884392 186.039387 \nL 381.646999 184.383673 \nL 382.409605 184.86685 \nL 383.934818 191.844046 \nL 385.460031 191.844046 \nL 386.222637 195.226343 \nL 386.985244 194.659412 \nL 387.74785 192.939268 \nL 388.510456 196.398871 \nL 389.273063 195.432507 \nL 391.560882 195.432507 \nL 392.323488 192.655798 \nL 393.086095 192.990802 \nL 393.848701 191.109609 \nL 394.611307 188.925612 \nL 396.899127 188.925612 \nL 397.661733 191.644329 \nL 398.424339 190.491135 \nL 399.186946 192.108192 \nL 399.949552 190.684414 \nL 402.237371 190.684414 \nL 402.999978 188.990041 \nL 403.762584 188.113859 \nL 404.525191 185.90409 \nL 405.287797 185.459571 \nL 406.81301 185.459571 \nL 407.575616 186.857588 \nL 408.338223 186.21978 \nL 409.100829 186.458145 \nL 409.863435 184.538294 \nL 410.626042 183.443071 \nL 412.151255 183.443071 \nL 412.913861 185.440238 \nL 413.676467 182.908351 \nL 415.20168 180.10587 \nL 415.964286 180.917632 \nL 417.489499 180.917632 \nL 419.014712 182.521794 \nL 419.777318 179.178164 \nL 420.539925 178.817379 \nL 421.302531 175.493074 \nL 422.827744 175.493074 \nL 423.59035 176.137319 \nL 424.352957 177.103693 \nL 425.115563 173.160894 \nL 426.640776 173.515438 \nL 428.165989 173.515438 \nL 428.928595 173.825113 \nL 429.691202 173.792854 \nL 430.453808 171.005838 \nL 431.216414 171.489694 \nL 431.979021 169.160733 \nL 433.504233 169.160733 \nL 434.26684 168.457532 \nL 435.029446 168.560757 \nL 435.792053 167.580139 \nL 436.554659 167.838201 \nL 437.317265 169.534917 \nL 438.842478 169.534917 \nL 439.605085 172.083223 \nL 440.367691 172.302579 \nL 441.130297 172.109034 \nL 441.892904 170.496181 \nL 442.65551 174.63154 \nL 444.180723 174.63154 \nL 446.468542 178.760441 \nL 447.231149 178.283033 \nL 447.993755 179.670093 \nL 450.281574 179.670093 \nL 451.044181 180.495873 \nL 451.806787 179.573315 \nL 452.569393 180.541028 \nL 453.332 178.663674 \nL 454.857212 178.663674 \nL 454.857212 178.663674 \n\" clip-path=\"url(#p8dabe00bc0)\" style=\"fill: none; stroke: #e4003a; stroke-width: 1.1; stroke-linejoin: miter; stroke-linecap: square\"/>\n   </g>\n   <g id=\"line2d_34\">\n    <path d=\"M 46.100186 241.79077 \nL 46.862792 241.630897 \nL 47.625399 191.212995 \nL 49.150612 191.212995 \nL 49.913218 191.418773 \nL 50.675824 192.615113 \nL 52.201037 189.39407 \nL 54.488856 189.39407 \nL 55.251463 187.039713 \nL 56.014069 187.197547 \nL 56.776675 186.223954 \nL 58.301888 183.329667 \nL 59.827101 183.329667 \nL 60.589707 183.879691 \nL 61.352314 182.311787 \nL 62.11492 183.695039 \nL 62.877527 182.07492 \nL 63.640133 181.920299 \nL 65.165346 181.920299 \nL 65.927952 182.127597 \nL 66.690559 182.78269 \nL 67.453165 182.165312 \nL 68.215771 183.388277 \nL 68.978378 181.782064 \nL 70.503591 181.782064 \nL 71.266197 181.569218 \nL 72.028803 181.585543 \nL 72.79141 183.418161 \nL 73.554016 183.885482 \nL 74.316622 184.601457 \nL 75.841835 184.601457 \nL 76.604442 184.324083 \nL 77.367048 186.688033 \nL 78.129654 186.888402 \nL 78.892261 185.671713 \nL 79.654867 184.870951 \nL 81.18008 184.870951 \nL 81.942686 187.068422 \nL 82.705293 187.571246 \nL 83.467899 190.112353 \nL 84.230506 188.551882 \nL 84.993112 186.670261 \nL 86.518325 186.670261 \nL 88.043538 188.579697 \nL 88.806144 188.503232 \nL 89.56875 186.948881 \nL 90.331357 147.718532 \nL 91.093963 147.46914 \nL 91.85657 150.443297 \nL 92.619176 144.482818 \nL 93.381782 144.673404 \nL 94.144389 143.77929 \nL 94.906995 145.667898 \nL 95.669601 148.7492 \nL 96.432208 149.912109 \nL 97.194814 148.770142 \nL 97.957421 146.990921 \nL 98.720027 148.278602 \nL 99.482633 147.092828 \nL 100.24524 146.161615 \nL 101.007846 146.816119 \nL 101.770453 148.259568 \nL 102.533059 147.925791 \nL 103.295665 149.754604 \nL 104.058272 149.844202 \nL 104.820878 145.338336 \nL 105.583485 145.578989 \nL 106.346091 144.36412 \nL 107.108697 146.280064 \nL 107.871304 142.467984 \nL 108.63391 139.834837 \nL 109.396517 140.227635 \nL 110.159123 142.487008 \nL 110.921729 141.528134 \nL 111.684336 144.70378 \nL 112.446942 144.888048 \nL 113.209549 144.799421 \nL 113.972155 147.853108 \nL 114.734761 145.810671 \nL 116.259974 143.42302 \nL 117.02258 147.126805 \nL 117.785187 146.53704 \nL 118.547793 143.88834 \nL 119.3104 142.797394 \nL 120.073006 140.189206 \nL 120.835612 140.982997 \nL 121.598219 142.313935 \nL 122.360825 94.986939 \nL 123.886038 93.491572 \nL 124.648644 95.149346 \nL 126.173857 91.593385 \nL 126.936464 94.031153 \nL 127.69907 91.732687 \nL 128.461676 92.031057 \nL 129.224283 91.257244 \nL 129.986889 92.945879 \nL 130.749496 91.924538 \nL 131.512102 89.221045 \nL 133.037315 92.869887 \nL 133.799921 92.749966 \nL 134.562528 92.466381 \nL 135.325134 96.838988 \nL 136.08774 95.063646 \nL 137.612953 90.501331 \nL 138.375559 87.258616 \nL 139.138166 86.494237 \nL 139.900772 85.356915 \nL 140.663379 83.076587 \nL 141.425985 82.807847 \nL 142.188591 83.389349 \nL 142.951198 82.893483 \nL 143.713804 80.696314 \nL 144.476411 81.35151 \nL 145.239017 83.127048 \nL 146.001623 84.195107 \nL 146.76423 83.654736 \nL 147.526836 82.332734 \nL 149.052049 78.783548 \nL 149.814655 76.91339 \nL 150.577262 77.728078 \nL 151.339868 75.24025 \nL 152.102475 76.795976 \nL 152.865081 76.511361 \nL 153.627687 75.211756 \nL 154.390294 70.811741 \nL 155.1529 71.560508 \nL 155.915507 71.614207 \nL 156.678113 71.066748 \nL 157.440719 73.394544 \nL 158.203326 76.119608 \nL 158.965932 72.552804 \nL 159.728538 67.159438 \nL 160.491145 67.62575 \nL 161.253751 67.17828 \nL 162.016358 65.899876 \nL 162.778964 68.369021 \nL 163.54157 67.958379 \nL 164.304177 71.277615 \nL 165.066783 68.187536 \nL 166.591996 68.433589 \nL 167.354602 66.616855 \nL 168.117209 67.689013 \nL 168.879815 65.456672 \nL 170.405028 63.188433 \nL 171.167634 63.275259 \nL 171.930241 61.330388 \nL 172.692847 60.384046 \nL 173.455454 65.315939 \nL 174.21806 67.097099 \nL 174.980666 68.072939 \nL 175.743273 73.29417 \nL 176.505879 72.952732 \nL 177.268486 72.02608 \nL 178.031092 72.564 \nL 178.793698 70.594657 \nL 179.556305 67.772742 \nL 180.318911 68.263953 \nL 181.081517 71.710966 \nL 181.844124 70.624071 \nL 182.60673 71.718816 \nL 183.369337 79.657013 \nL 184.131943 81.547916 \nL 184.894549 76.091653 \nL 185.657156 73.833999 \nL 186.419762 76.031031 \nL 187.182369 76.163453 \nL 187.944975 75.634496 \nL 188.707581 78.779599 \nL 189.470188 84.562125 \nL 190.995401 82.202653 \nL 191.758007 75.282139 \nL 192.520613 75.718097 \nL 193.28322 75.192882 \nL 194.045826 77.740515 \nL 195.571039 67.054413 \nL 196.333645 67.528253 \nL 197.096252 67.604419 \nL 197.858858 66.52878 \nL 198.621465 66.740219 \nL 199.384071 64.012826 \nL 200.146677 66.687086 \nL 200.909284 64.878173 \nL 201.67189 61.761922 \nL 202.434496 56.163833 \nL 203.197103 56.918401 \nL 203.959709 56.2072 \nL 204.722316 53.945293 \nL 205.484922 49.922871 \nL 206.247528 47.91593 \nL 207.010135 51.127601 \nL 207.772741 53.607745 \nL 208.535348 52.853627 \nL 209.297954 53.351226 \nL 210.06056 51.335309 \nL 210.823167 53.354162 \nL 211.585773 52.89345 \nL 212.34838 47.954518 \nL 213.110986 46.454541 \nL 213.873592 46.819188 \nL 214.636199 47.431938 \nL 215.398805 48.788895 \nL 216.161412 44.917815 \nL 216.924018 44.064867 \nL 217.686624 45.516527 \nL 218.449231 45.601758 \nL 219.211837 45.169724 \nL 219.974444 43.234829 \nL 220.73705 39.017352 \nL 221.499656 39.641182 \nL 222.262263 44.721565 \nL 223.024869 44.454757 \nL 223.787475 43.031551 \nL 224.550082 42.694372 \nL 225.312688 41.622026 \nL 226.837901 46.082879 \nL 227.600507 44.211641 \nL 228.363114 44.621853 \nL 229.12572 41.240856 \nL 229.888327 39.544545 \nL 230.650933 40.583996 \nL 231.413539 43.607661 \nL 232.176146 42.440354 \nL 232.938752 43.43629 \nL 233.701359 42.367232 \nL 234.463965 51.405188 \nL 235.226571 50.066184 \nL 235.989178 47.449728 \nL 236.751784 43.161034 \nL 237.514391 42.061942 \nL 238.276997 42.270127 \nL 239.039603 43.853692 \nL 239.80221 49.567931 \nL 240.564816 54.296326 \nL 241.327423 54.115531 \nL 242.090029 49.895173 \nL 242.852635 44.138772 \nL 243.615242 41.832378 \nL 244.377848 45.611792 \nL 245.140454 40.91425 \nL 245.903061 38.635607 \nL 246.665667 37.844418 \nL 247.428274 44.512619 \nL 248.19088 47.91574 \nL 248.953486 40.918522 \nL 249.716093 48.848659 \nL 250.478699 51.376621 \nL 251.241306 50.681338 \nL 252.003912 50.833766 \nL 252.766518 52.371609 \nL 253.529125 46.50218 \nL 254.291731 43.868193 \nL 255.054338 40.820437 \nL 255.816944 40.779947 \nL 256.57955 41.201801 \nL 257.342157 40.793581 \nL 258.104763 36.715396 \nL 258.86737 40.921117 \nL 259.629976 41.943954 \nL 260.392582 42.475399 \nL 261.155189 44.458367 \nL 261.917795 42.974147 \nL 262.680402 43.341441 \nL 263.443008 41.778124 \nL 264.205614 45.091311 \nL 264.968221 53.364559 \nL 265.730827 56.213522 \nL 266.493433 57.793739 \nL 268.018646 57.413429 \nL 268.781253 57.448578 \nL 269.543859 54.456707 \nL 270.306465 52.160154 \nL 271.069072 58.643594 \nL 271.831678 56.378115 \nL 272.594285 56.29457 \nL 273.356891 56.362869 \nL 274.119497 57.29115 \nL 274.882104 60.870667 \nL 276.407317 66.316476 \nL 277.169923 73.396562 \nL 277.932529 74.930995 \nL 278.695136 73.590654 \nL 279.457742 73.619656 \nL 280.220349 76.163172 \nL 280.982955 74.574325 \nL 281.745561 73.899925 \nL 282.508168 64.268292 \nL 283.270774 63.887823 \nL 284.033381 64.124996 \nL 284.795987 60.076752 \nL 285.558593 60.380542 \nL 286.3212 60.511133 \nL 287.083806 64.791922 \nL 287.846412 59.30317 \nL 288.609019 59.367374 \nL 289.371625 58.32303 \nL 290.134232 58.323485 \nL 290.896838 55.213861 \nL 291.659444 52.623353 \nL 293.184657 63.069044 \nL 293.947264 63.244811 \nL 294.70987 63.295297 \nL 295.472476 62.730758 \nL 296.235083 56.908904 \nL 296.997689 57.797711 \nL 297.760296 65.717673 \nL 298.522902 67.878731 \nL 299.285508 67.780691 \nL 300.048115 69.598675 \nL 300.810721 71.0568 \nL 301.573328 71.716952 \nL 302.335934 77.109867 \nL 303.09854 71.21246 \nL 303.861147 68.324825 \nL 304.623753 68.442102 \nL 305.38636 69.942446 \nL 306.148966 63.555902 \nL 306.911572 64.364369 \nL 307.674179 61.543941 \nL 308.436785 64.253512 \nL 309.199391 71.082951 \nL 309.961998 70.800185 \nL 310.724604 71.854563 \nL 311.487211 77.07332 \nL 312.249817 78.198958 \nL 313.012423 68.456241 \nL 313.77503 74.666055 \nL 314.537636 78.976784 \nL 315.300243 78.859542 \nL 316.062849 79.993214 \nL 316.825455 81.460549 \nL 317.588062 76.644705 \nL 318.350668 70.258846 \nL 319.113275 69.625597 \nL 319.875881 65.434966 \nL 320.638487 65.016166 \nL 321.401094 66.029929 \nL 322.1637 65.583803 \nL 322.926307 60.944619 \nL 323.688913 60.454489 \nL 324.451519 55.83606 \nL 325.214126 55.090863 \nL 325.976732 54.927322 \nL 327.501945 50.033444 \nL 328.264551 46.500447 \nL 329.027158 48.031207 \nL 329.789764 52.890904 \nL 330.55237 52.047391 \nL 331.314977 52.491136 \nL 332.077583 51.862535 \nL 332.84019 47.835652 \nL 333.602796 52.032585 \nL 334.365402 59.072828 \nL 335.128009 58.153585 \nL 335.890615 61.722053 \nL 336.653222 61.190379 \nL 337.415828 61.808064 \nL 338.178434 69.994851 \nL 338.941041 68.800415 \nL 339.703647 64.729667 \nL 340.466254 71.008565 \nL 341.22886 70.344124 \nL 341.991466 70.482808 \nL 342.754073 71.243571 \nL 343.516679 70.044652 \nL 344.279286 66.794958 \nL 345.041892 66.815416 \nL 345.804498 69.435443 \nL 346.567105 74.711735 \nL 347.329711 74.984404 \nL 348.092318 75.003153 \nL 348.854924 71.806244 \nL 349.61753 80.482449 \nL 350.380137 76.639003 \nL 351.142743 70.145744 \nL 351.905349 77.843372 \nL 352.667956 78.805653 \nL 353.430562 77.99469 \nL 354.193169 76.242541 \nL 354.955775 76.678114 \nL 355.718381 68.620892 \nL 356.480988 80.63362 \nL 358.006201 81.871749 \nL 358.768807 83.422978 \nL 359.531413 93.004361 \nL 360.29402 89.592049 \nL 361.056626 98.912132 \nL 361.819233 102.443965 \nL 362.581839 98.02426 \nL 363.344445 97.144543 \nL 364.107052 95.850123 \nL 364.869658 98.330941 \nL 365.632265 94.202955 \nL 366.394871 104.062262 \nL 367.157477 104.785528 \nL 367.920084 105.952754 \nL 368.68269 105.703852 \nL 369.445297 104.745284 \nL 370.207903 100.769962 \nL 370.970509 102.164108 \nL 371.733116 101.538949 \nL 372.495722 99.030732 \nL 373.258328 94.368117 \nL 374.020935 94.166697 \nL 374.783541 93.488163 \nL 375.546148 91.036159 \nL 376.308754 91.77466 \nL 377.07136 93.883582 \nL 377.833967 91.090755 \nL 378.596573 96.645757 \nL 380.121786 96.428267 \nL 380.884392 94.637017 \nL 381.646999 92.407965 \nL 382.409605 94.351568 \nL 383.172212 99.095033 \nL 383.934818 106.282559 \nL 384.697424 107.059948 \nL 385.460031 108.778349 \nL 386.222637 119.06013 \nL 386.985244 118.316362 \nL 387.74785 114.642552 \nL 388.510456 121.915277 \nL 389.273063 120.277219 \nL 390.035669 121.84044 \nL 390.798276 120.189277 \nL 391.560882 120.13953 \nL 392.323488 115.936538 \nL 393.086095 117.180452 \nL 394.611307 108.650391 \nL 395.373914 108.359344 \nL 396.13652 108.870127 \nL 396.899127 109.786901 \nL 397.661733 114.7994 \nL 398.424339 113.02495 \nL 399.186946 115.721381 \nL 399.949552 114.261603 \nL 401.474765 114.231809 \nL 402.237371 113.227339 \nL 402.999978 110.87549 \nL 403.762584 108.893214 \nL 404.525191 105.04219 \nL 405.287797 104.655896 \nL 406.050403 104.805257 \nL 406.81301 105.592069 \nL 407.575616 108.622896 \nL 408.338223 111.006557 \nL 409.100829 110.493801 \nL 409.863435 107.897334 \nL 410.626042 105.94914 \nL 411.388648 105.568519 \nL 412.151255 106.010412 \nL 412.913861 106.702896 \nL 413.676467 102.066227 \nL 415.20168 98.365987 \nL 415.964286 100.622602 \nL 416.726893 100.890873 \nL 417.489499 100.736377 \nL 419.014712 105.628418 \nL 419.777318 96.853062 \nL 420.539925 93.864306 \nL 421.302531 89.653026 \nL 422.065138 89.812618 \nL 422.827744 90.155952 \nL 423.59035 91.410437 \nL 424.352957 93.422722 \nL 425.115563 87.979809 \nL 425.87817 88.164526 \nL 426.640776 87.763814 \nL 427.403382 88.116529 \nL 428.165989 87.885772 \nL 429.691202 88.306531 \nL 430.453808 83.20516 \nL 431.216414 84.137612 \nL 431.979021 80.280502 \nL 432.741627 80.257653 \nL 433.504233 80.370267 \nL 434.26684 79.528389 \nL 435.029446 80.067471 \nL 435.792053 79.840907 \nL 436.554659 80.478805 \nL 437.317265 85.550889 \nL 438.842478 84.844923 \nL 439.605085 89.34501 \nL 440.367691 89.707179 \nL 441.130297 89.796493 \nL 441.892904 87.304221 \nL 442.65551 95.195257 \nL 443.418117 95.429961 \nL 444.180723 95.886854 \nL 444.943329 97.214567 \nL 445.705936 99.832969 \nL 446.468542 100.973844 \nL 447.231149 100.643339 \nL 447.993755 103.132912 \nL 448.756361 103.280954 \nL 449.518968 103.114696 \nL 450.281574 103.302154 \nL 451.044181 105.780252 \nL 451.806787 103.330155 \nL 452.569393 104.162916 \nL 453.332 98.802531 \nL 454.094606 98.480619 \nL 454.857212 98.531798 \nL 454.857212 98.531798 \n\" clip-path=\"url(#p8dabe00bc0)\" style=\"fill: none; stroke: #c13246; stroke-width: 1.1; stroke-linejoin: miter; stroke-linecap: square\"/>\n   </g>\n   <g id=\"patch_3\">\n    <path d=\"M 25.662335 292.363284 \nL 25.662335 24.541688 \n\" style=\"fill: none; stroke: #f5eff3; stroke-width: 0.2; stroke-linejoin: miter; stroke-linecap: square\"/>\n   </g>\n   <g id=\"patch_4\">\n    <path d=\"M 475.295064 292.363284 \nL 475.295064 24.541688 \n\" style=\"fill: none; stroke: #f5eff3; stroke-width: 0.2; stroke-linejoin: miter; stroke-linecap: square\"/>\n   </g>\n   <g id=\"patch_5\">\n    <path d=\"M 25.662335 292.363284 \nL 475.295064 292.363284 \n\" style=\"fill: none; stroke: #f5eff3; stroke-width: 0.2; stroke-linejoin: miter; stroke-linecap: square\"/>\n   </g>\n   <g id=\"patch_6\">\n    <path d=\"M 25.662335 24.541687 \nL 475.295064 24.541687 \n\" style=\"fill: none; stroke: #f5eff3; stroke-width: 0.2; stroke-linejoin: miter; stroke-linecap: square\"/>\n   </g>\n   <g id=\"text_17\">\n    <!-- Individual Asset Holdings (value) -->\n    <g style=\"fill: #f5eff3\" transform=\"translate(25.662335 18.541687)scale(0.156 -0.156)\">\n     <defs>\n      <path id=\"Consolas-49\" d=\"M 1478 3616 \nL 538 3616 \nL 538 4084 \nL 2981 4084 \nL 2981 3616 \nL 2041 3616 \nL 2041 475 \nL 2981 475 \nL 2981 0 \nL 538 0 \nL 538 475 \nL 1478 475 \nL 1478 3616 \nz\n\" transform=\"scale(0.015625)\"/>\n      <path id=\"Consolas-76\" d=\"M 206 3138 \nL 825 3138 \nL 1594 1063 \nL 1759 556 \nL 1931 1075 \nL 2694 3138 \nL 3291 3138 \nL 2059 0 \nL 1434 0 \nL 206 3138 \nz\n\" transform=\"scale(0.015625)\"/>\n      <path id=\"Consolas-75\" d=\"M 3022 0 \nL 2534 0 \nL 2516 506 \nQ 2375 344 2248 236 \nQ 2122 128 1997 62 \nQ 1872 -3 1745 -29 \nQ 1619 -56 1478 -56 \nQ 994 -56 747 228 \nQ 500 513 500 1088 \nL 500 3138 \nL 1044 3138 \nL 1044 1131 \nQ 1044 409 1588 409 \nQ 1688 409 1783 439 \nQ 1878 469 1983 542 \nQ 2088 616 2208 741 \nQ 2328 866 2478 1056 \nL 2478 3138 \nL 3022 3138 \nL 3022 0 \nz\n\" transform=\"scale(0.015625)\"/>\n      <path id=\"Consolas-61\" d=\"M 2516 0 \nL 2503 422 \nQ 2247 169 1983 56 \nQ 1719 -56 1428 -56 \nQ 1159 -56 968 12 \nQ 778 81 654 201 \nQ 531 322 473 484 \nQ 416 647 416 838 \nQ 416 1309 767 1576 \nQ 1119 1844 1806 1844 \nL 2456 1844 \nL 2456 2119 \nQ 2456 2397 2278 2564 \nQ 2100 2731 1734 2731 \nQ 1469 2731 1211 2672 \nQ 953 2613 678 2503 \nL 678 2994 \nQ 781 3031 907 3067 \nQ 1034 3103 1175 3131 \nQ 1316 3159 1469 3176 \nQ 1622 3194 1778 3194 \nQ 2063 3194 2291 3131 \nQ 2519 3069 2676 2941 \nQ 2834 2813 2918 2619 \nQ 3003 2425 3003 2163 \nL 3003 0 \nL 2516 0 \nz\nM 2456 1428 \nL 1766 1428 \nQ 1563 1428 1416 1387 \nQ 1269 1347 1175 1272 \nQ 1081 1197 1036 1092 \nQ 991 988 991 856 \nQ 991 766 1019 683 \nQ 1047 600 1109 536 \nQ 1172 472 1272 434 \nQ 1372 397 1516 397 \nQ 1703 397 1945 511 \nQ 2188 625 2456 872 \nL 2456 1428 \nz\n\" transform=\"scale(0.015625)\"/>\n      <path id=\"Consolas-41\" d=\"M 3488 0 \nL 2881 0 \nL 2597 891 \nL 897 891 \nL 609 0 \nL 31 0 \nL 1388 4084 \nL 2150 4084 \nL 3488 0 \nz\nM 2438 1388 \nL 1747 3572 \nL 1056 1388 \nL 2438 1388 \nz\n\" transform=\"scale(0.015625)\"/>\n      <path id=\"Consolas-65\" d=\"M 3150 1734 \nQ 3150 1619 3147 1541 \nQ 3144 1463 3138 1394 \nL 934 1394 \nQ 934 913 1203 655 \nQ 1472 397 1978 397 \nQ 2116 397 2253 408 \nQ 2391 419 2519 437 \nQ 2647 456 2764 479 \nQ 2881 503 2981 531 \nL 2981 84 \nQ 2759 22 2479 -17 \nQ 2200 -56 1900 -56 \nQ 1497 -56 1206 53 \nQ 916 163 730 370 \nQ 544 578 455 879 \nQ 366 1181 366 1563 \nQ 366 1894 461 2189 \nQ 556 2484 739 2707 \nQ 922 2931 1187 3062 \nQ 1453 3194 1791 3194 \nQ 2119 3194 2372 3091 \nQ 2625 2988 2798 2798 \nQ 2972 2609 3061 2339 \nQ 3150 2069 3150 1734 \nz\nM 2584 1813 \nQ 2594 2022 2544 2195 \nQ 2494 2369 2389 2494 \nQ 2284 2619 2128 2689 \nQ 1972 2759 1766 2759 \nQ 1588 2759 1441 2690 \nQ 1294 2622 1187 2497 \nQ 1081 2372 1015 2197 \nQ 950 2022 934 1813 \nL 2584 1813 \nz\n\" transform=\"scale(0.015625)\"/>\n      <path id=\"Consolas-74\" d=\"M 3028 44 \nQ 2844 -3 2647 -23 \nQ 2450 -44 2247 -44 \nQ 1656 -44 1365 223 \nQ 1075 491 1075 1044 \nL 1075 2681 \nL 197 2681 \nL 197 3138 \nL 1075 3138 \nL 1075 4000 \nL 1619 4141 \nL 1619 3138 \nL 3028 3138 \nL 3028 2681 \nL 1619 2681 \nL 1619 1088 \nQ 1619 750 1798 583 \nQ 1978 416 2328 416 \nQ 2478 416 2656 439 \nQ 2834 463 3028 513 \nL 3028 44 \nz\n\" transform=\"scale(0.015625)\"/>\n     </defs>\n     <use xlink:href=\"#Consolas-49\"/>\n     <use xlink:href=\"#Consolas-6e\" x=\"54.980469\"/>\n     <use xlink:href=\"#Consolas-64\" x=\"109.960938\"/>\n     <use xlink:href=\"#Consolas-69\" x=\"164.941406\"/>\n     <use xlink:href=\"#Consolas-76\" x=\"219.921875\"/>\n     <use xlink:href=\"#Consolas-69\" x=\"274.902344\"/>\n     <use xlink:href=\"#Consolas-64\" x=\"329.882812\"/>\n     <use xlink:href=\"#Consolas-75\" x=\"384.863281\"/>\n     <use xlink:href=\"#Consolas-61\" x=\"439.84375\"/>\n     <use xlink:href=\"#Consolas-6c\" x=\"494.824219\"/>\n     <use xlink:href=\"#Consolas-20\" x=\"549.804688\"/>\n     <use xlink:href=\"#Consolas-41\" x=\"604.785156\"/>\n     <use xlink:href=\"#Consolas-73\" x=\"659.765625\"/>\n     <use xlink:href=\"#Consolas-73\" x=\"714.746094\"/>\n     <use xlink:href=\"#Consolas-65\" x=\"769.726562\"/>\n     <use xlink:href=\"#Consolas-74\" x=\"824.707031\"/>\n     <use xlink:href=\"#Consolas-20\" x=\"879.6875\"/>\n     <use xlink:href=\"#Consolas-48\" x=\"934.667969\"/>\n     <use xlink:href=\"#Consolas-6f\" x=\"989.648438\"/>\n     <use xlink:href=\"#Consolas-6c\" x=\"1044.628906\"/>\n     <use xlink:href=\"#Consolas-64\" x=\"1099.609375\"/>\n     <use xlink:href=\"#Consolas-69\" x=\"1154.589844\"/>\n     <use xlink:href=\"#Consolas-6e\" x=\"1209.570312\"/>\n     <use xlink:href=\"#Consolas-67\" x=\"1264.550781\"/>\n     <use xlink:href=\"#Consolas-73\" x=\"1319.53125\"/>\n     <use xlink:href=\"#Consolas-20\" x=\"1374.511719\"/>\n     <use xlink:href=\"#Consolas-28\" x=\"1429.492188\"/>\n     <use xlink:href=\"#Consolas-76\" x=\"1484.472656\"/>\n     <use xlink:href=\"#Consolas-61\" x=\"1539.453125\"/>\n     <use xlink:href=\"#Consolas-6c\" x=\"1594.433594\"/>\n     <use xlink:href=\"#Consolas-75\" x=\"1649.414062\"/>\n     <use xlink:href=\"#Consolas-65\" x=\"1704.394531\"/>\n     <use xlink:href=\"#Consolas-29\" x=\"1759.375\"/>\n    </g>\n   </g>\n   <g id=\"legend_1\">\n    <g id=\"patch_7\">\n     <path d=\"M 33.242635 93.854056 \nL 133.392272 93.854056 \nQ 135.558072 93.854056 135.558072 91.688256 \nL 135.558072 32.121987 \nQ 135.558072 29.956187 133.392272 29.956187 \nL 33.242635 29.956187 \nQ 31.076835 29.956187 31.076835 32.121987 \nL 31.076835 91.688256 \nQ 31.076835 93.854056 33.242635 93.854056 \nz\n\" style=\"opacity: 0.6; stroke: #000000; stroke-linejoin: miter\"/>\n    </g>\n    <g id=\"line2d_35\">\n     <path d=\"M 35.408435 38.077937 \nL 46.237435 38.077937 \nL 57.066435 38.077937 \n\" style=\"fill: none; stroke: #ffed00; stroke-width: 1.1; stroke-linejoin: miter; stroke-linecap: square\"/>\n    </g>\n    <g id=\"text_18\">\n     <!-- MSFT -->\n     <g style=\"fill: #f5eff3\" transform=\"translate(65.729635 41.868087)scale(0.10829 -0.10829)\">\n      <defs>\n       <path id=\"Consolas-4d\" d=\"M 3366 0 \nL 2822 0 \nL 2741 2547 \nL 2706 3525 \nL 2516 2956 \nL 1913 1331 \nL 1528 1331 \nL 953 2894 \nL 763 3525 \nL 750 2503 \nL 678 0 \nL 153 0 \nL 353 4084 \nL 1013 4084 \nL 1563 2547 \nL 1741 2028 \nL 1913 2547 \nL 2491 4084 \nL 3169 4084 \nL 3366 0 \nz\n\" transform=\"scale(0.015625)\"/>\n       <path id=\"Consolas-53\" d=\"M 3116 1106 \nQ 3116 816 2997 597 \nQ 2878 378 2665 233 \nQ 2453 88 2154 16 \nQ 1856 -56 1497 -56 \nQ 1334 -56 1173 -43 \nQ 1013 -31 864 -12 \nQ 716 6 584 31 \nQ 453 56 347 84 \nL 347 622 \nQ 581 534 873 484 \nQ 1166 434 1538 434 \nQ 1806 434 1995 476 \nQ 2184 519 2304 601 \nQ 2425 684 2479 803 \nQ 2534 922 2534 1075 \nQ 2534 1241 2442 1358 \nQ 2350 1475 2200 1567 \nQ 2050 1659 1858 1736 \nQ 1666 1813 1466 1894 \nQ 1266 1975 1073 2070 \nQ 881 2166 731 2295 \nQ 581 2425 489 2600 \nQ 397 2775 397 3016 \nQ 397 3225 484 3428 \nQ 572 3631 756 3789 \nQ 941 3947 1230 4044 \nQ 1519 4141 1919 4141 \nQ 2022 4141 2142 4131 \nQ 2263 4122 2386 4105 \nQ 2509 4088 2629 4066 \nQ 2750 4044 2853 4019 \nL 2853 3519 \nQ 2613 3588 2372 3623 \nQ 2131 3659 1906 3659 \nQ 1428 3659 1203 3500 \nQ 978 3341 978 3072 \nQ 978 2906 1070 2787 \nQ 1163 2669 1313 2575 \nQ 1463 2481 1655 2404 \nQ 1847 2328 2047 2247 \nQ 2247 2166 2439 2069 \nQ 2631 1972 2781 1839 \nQ 2931 1706 3023 1528 \nQ 3116 1350 3116 1106 \nz\n\" transform=\"scale(0.015625)\"/>\n       <path id=\"Consolas-46\" d=\"M 2944 3609 \nL 1209 3609 \nL 1209 2284 \nL 2853 2284 \nL 2853 1819 \nL 1209 1819 \nL 1209 0 \nL 641 0 \nL 641 4084 \nL 2944 4084 \nL 2944 3609 \nz\n\" transform=\"scale(0.015625)\"/>\n       <path id=\"Consolas-54\" d=\"M 3250 3609 \nL 2041 3609 \nL 2041 0 \nL 1478 0 \nL 1478 3609 \nL 269 3609 \nL 269 4084 \nL 3250 4084 \nL 3250 3609 \nz\n\" transform=\"scale(0.015625)\"/>\n      </defs>\n      <use xlink:href=\"#Consolas-4d\"/>\n      <use xlink:href=\"#Consolas-53\" x=\"54.980469\"/>\n      <use xlink:href=\"#Consolas-46\" x=\"109.960938\"/>\n      <use xlink:href=\"#Consolas-54\" x=\"164.941406\"/>\n     </g>\n    </g>\n    <g id=\"line2d_36\">\n     <path d=\"M 35.408435 53.24023 \nL 46.237435 53.24023 \nL 57.066435 53.24023 \n\" style=\"fill: none; stroke: #ef7d00; stroke-width: 1.1; stroke-linejoin: miter; stroke-linecap: square\"/>\n    </g>\n    <g id=\"text_19\">\n     <!-- BTC-USD -->\n     <g style=\"fill: #f5eff3\" transform=\"translate(65.729635 57.03038)scale(0.10829 -0.10829)\">\n      <defs>\n       <path id=\"Consolas-42\" d=\"M 3175 1222 \nQ 3175 928 3061 701 \nQ 2947 475 2736 319 \nQ 2525 163 2226 81 \nQ 1928 0 1563 0 \nL 494 0 \nL 494 4084 \nL 1663 4084 \nQ 3028 4084 3028 3091 \nQ 3028 2759 2870 2521 \nQ 2713 2284 2356 2169 \nQ 2522 2138 2670 2063 \nQ 2819 1988 2931 1869 \nQ 3044 1750 3109 1587 \nQ 3175 1425 3175 1222 \nz\nM 2450 3016 \nQ 2450 3141 2412 3252 \nQ 2375 3363 2281 3442 \nQ 2188 3522 2028 3569 \nQ 1869 3616 1625 3616 \nL 1050 3616 \nL 1050 2338 \nL 1606 2338 \nQ 1797 2338 1951 2378 \nQ 2106 2419 2217 2503 \nQ 2328 2588 2389 2714 \nQ 2450 2841 2450 3016 \nz\nM 2584 1203 \nQ 2584 1359 2518 1484 \nQ 2453 1609 2328 1695 \nQ 2203 1781 2023 1828 \nQ 1844 1875 1619 1875 \nL 1050 1875 \nL 1050 469 \nL 1638 469 \nQ 2116 469 2350 647 \nQ 2584 825 2584 1203 \nz\n\" transform=\"scale(0.015625)\"/>\n       <path id=\"Consolas-43\" d=\"M 3109 153 \nQ 2619 -50 2081 -50 \nQ 1216 -50 752 467 \nQ 288 984 288 1997 \nQ 288 2488 416 2884 \nQ 544 3281 781 3557 \nQ 1019 3834 1356 3984 \nQ 1694 4134 2113 4134 \nQ 2397 4134 2640 4086 \nQ 2884 4038 3109 3938 \nL 3109 3391 \nQ 2888 3513 2650 3577 \nQ 2413 3641 2131 3641 \nQ 1844 3641 1611 3533 \nQ 1378 3425 1215 3220 \nQ 1053 3016 965 2720 \nQ 878 2425 878 2047 \nQ 878 1253 1200 850 \nQ 1522 447 2144 447 \nQ 2406 447 2647 508 \nQ 2888 569 3109 678 \nL 3109 153 \nz\n\" transform=\"scale(0.015625)\"/>\n       <path id=\"Consolas-55\" d=\"M 3181 1422 \nQ 3181 1084 3086 811 \nQ 2991 538 2806 345 \nQ 2622 153 2355 48 \nQ 2088 -56 1741 -56 \nQ 1359 -56 1093 44 \nQ 828 144 661 326 \nQ 494 509 417 765 \nQ 341 1022 341 1338 \nL 341 4084 \nL 897 4084 \nL 897 1381 \nQ 897 1141 942 959 \nQ 988 778 1091 656 \nQ 1194 534 1358 471 \nQ 1522 409 1759 409 \nQ 2203 409 2414 665 \nQ 2625 922 2625 1388 \nL 2625 4084 \nL 3181 4084 \nL 3181 1422 \nz\n\" transform=\"scale(0.015625)\"/>\n       <path id=\"Consolas-44\" d=\"M 3291 2088 \nQ 3291 1794 3245 1525 \nQ 3200 1256 3100 1025 \nQ 3000 794 2840 605 \nQ 2681 416 2450 281 \nQ 2219 147 1912 73 \nQ 1606 0 1216 0 \nL 341 0 \nL 341 4084 \nL 1394 4084 \nQ 2350 4084 2820 3592 \nQ 3291 3100 3291 2088 \nz\nM 2706 2047 \nQ 2706 2481 2625 2781 \nQ 2544 3081 2378 3265 \nQ 2213 3450 1963 3533 \nQ 1713 3616 1375 3616 \nL 897 3616 \nL 897 481 \nL 1313 481 \nQ 2706 481 2706 2047 \nz\n\" transform=\"scale(0.015625)\"/>\n      </defs>\n      <use xlink:href=\"#Consolas-42\"/>\n      <use xlink:href=\"#Consolas-54\" x=\"54.980469\"/>\n      <use xlink:href=\"#Consolas-43\" x=\"109.960938\"/>\n      <use xlink:href=\"#Consolas-2d\" x=\"164.941406\"/>\n      <use xlink:href=\"#Consolas-55\" x=\"219.921875\"/>\n      <use xlink:href=\"#Consolas-53\" x=\"274.902344\"/>\n      <use xlink:href=\"#Consolas-44\" x=\"329.882812\"/>\n     </g>\n    </g>\n    <g id=\"line2d_37\">\n     <path d=\"M 35.408435 68.402522 \nL 46.237435 68.402522 \nL 57.066435 68.402522 \n\" style=\"fill: none; stroke: #e4003a; stroke-width: 1.1; stroke-linejoin: miter; stroke-linecap: square\"/>\n    </g>\n    <g id=\"text_20\">\n     <!-- AAPL -->\n     <g style=\"fill: #f5eff3\" transform=\"translate(65.729635 72.192672)scale(0.10829 -0.10829)\">\n      <defs>\n       <path id=\"Consolas-50\" d=\"M 3175 2834 \nQ 3175 2584 3081 2339 \nQ 2988 2094 2791 1900 \nQ 2594 1706 2287 1586 \nQ 1981 1466 1556 1466 \nL 1050 1466 \nL 1050 0 \nL 494 0 \nL 494 4084 \nL 1644 4084 \nQ 1947 4084 2225 4017 \nQ 2503 3950 2714 3800 \nQ 2925 3650 3050 3412 \nQ 3175 3175 3175 2834 \nz\nM 2597 2809 \nQ 2597 3203 2339 3412 \nQ 2081 3622 1619 3622 \nL 1050 3622 \nL 1050 1941 \nL 1569 1941 \nQ 2063 1941 2330 2156 \nQ 2597 2372 2597 2809 \nz\n\" transform=\"scale(0.015625)\"/>\n       <path id=\"Consolas-4c\" d=\"M 3078 0 \nL 728 0 \nL 728 4084 \nL 1294 4084 \nL 1294 475 \nL 3078 475 \nL 3078 0 \nz\n\" transform=\"scale(0.015625)\"/>\n      </defs>\n      <use xlink:href=\"#Consolas-41\"/>\n      <use xlink:href=\"#Consolas-41\" x=\"54.980469\"/>\n      <use xlink:href=\"#Consolas-50\" x=\"109.960938\"/>\n      <use xlink:href=\"#Consolas-4c\" x=\"164.941406\"/>\n     </g>\n    </g>\n    <g id=\"line2d_38\">\n     <path d=\"M 35.408435 83.564814 \nL 46.237435 83.564814 \nL 57.066435 83.564814 \n\" style=\"fill: none; stroke: #c13246; stroke-width: 1.1; stroke-linejoin: miter; stroke-linecap: square\"/>\n    </g>\n    <g id=\"text_21\">\n     <!-- Total Value -->\n     <g style=\"fill: #f5eff3\" transform=\"translate(65.729635 87.354964)scale(0.10829 -0.10829)\">\n      <defs>\n       <path id=\"Consolas-56\" d=\"M 3506 4084 \nL 2119 0 \nL 1369 0 \nL 13 4084 \nL 641 4084 \nL 1522 1331 \nL 1772 525 \nL 2028 1331 \nL 2913 4084 \nL 3506 4084 \nz\n\" transform=\"scale(0.015625)\"/>\n      </defs>\n      <use xlink:href=\"#Consolas-54\"/>\n      <use xlink:href=\"#Consolas-6f\" x=\"54.980469\"/>\n      <use xlink:href=\"#Consolas-74\" x=\"109.960938\"/>\n      <use xlink:href=\"#Consolas-61\" x=\"164.941406\"/>\n      <use xlink:href=\"#Consolas-6c\" x=\"219.921875\"/>\n      <use xlink:href=\"#Consolas-20\" x=\"274.902344\"/>\n      <use xlink:href=\"#Consolas-56\" x=\"329.882812\"/>\n      <use xlink:href=\"#Consolas-61\" x=\"384.863281\"/>\n      <use xlink:href=\"#Consolas-6c\" x=\"439.84375\"/>\n      <use xlink:href=\"#Consolas-75\" x=\"494.824219\"/>\n      <use xlink:href=\"#Consolas-65\" x=\"549.804688\"/>\n     </g>\n    </g>\n   </g>\n  </g>\n  <g id=\"text_22\">\n   <!-- OpenBB Terminal -->\n   <g style=\"fill: #808080; opacity: 0.5\" transform=\"translate(452.458189 325.890437)scale(0.12 -0.12)\">\n    <defs>\n     <path id=\"Consolas-4f\" d=\"M 3347 2069 \nQ 3347 1519 3217 1119 \nQ 3088 719 2867 458 \nQ 2647 197 2351 70 \nQ 2056 -56 1728 -56 \nQ 1334 -56 1042 86 \nQ 750 228 558 497 \nQ 366 766 272 1152 \nQ 178 1538 178 2022 \nQ 178 2566 306 2966 \nQ 434 3366 654 3627 \nQ 875 3888 1169 4014 \nQ 1463 4141 1791 4141 \nQ 2184 4141 2476 3997 \nQ 2769 3853 2962 3586 \nQ 3156 3319 3251 2934 \nQ 3347 2550 3347 2069 \nz\nM 2769 2028 \nQ 2769 2388 2714 2686 \nQ 2659 2984 2537 3200 \nQ 2416 3416 2223 3534 \nQ 2031 3653 1759 3653 \nQ 1497 3653 1308 3526 \nQ 1119 3400 997 3183 \nQ 875 2966 815 2673 \nQ 756 2381 756 2053 \nQ 756 1691 812 1392 \nQ 869 1094 989 880 \nQ 1109 666 1300 547 \nQ 1491 428 1759 428 \nQ 2022 428 2212 554 \nQ 2403 681 2526 898 \nQ 2650 1116 2709 1406 \nQ 2769 1697 2769 2028 \nz\n\" transform=\"scale(0.015625)\"/>\n     <path id=\"Consolas-70\" d=\"M 3181 1625 \nQ 3181 1206 3064 893 \nQ 2947 581 2740 375 \nQ 2534 169 2253 65 \nQ 1972 -38 1644 -38 \nQ 1494 -38 1345 -22 \nQ 1197 -6 1044 31 \nL 1044 -1281 \nL 500 -1281 \nL 500 3138 \nL 984 3138 \nL 1019 2613 \nQ 1253 2934 1518 3064 \nQ 1784 3194 2094 3194 \nQ 2363 3194 2566 3081 \nQ 2769 2969 2906 2764 \nQ 3044 2559 3112 2270 \nQ 3181 1981 3181 1625 \nz\nM 2625 1600 \nQ 2625 1847 2589 2053 \nQ 2553 2259 2475 2406 \nQ 2397 2553 2275 2636 \nQ 2153 2719 1984 2719 \nQ 1881 2719 1775 2686 \nQ 1669 2653 1555 2576 \nQ 1441 2500 1314 2373 \nQ 1188 2247 1044 2059 \nL 1044 538 \nQ 1194 475 1359 439 \nQ 1525 403 1684 403 \nQ 2125 403 2375 701 \nQ 2625 1000 2625 1600 \nz\n\" transform=\"scale(0.015625)\"/>\n     <path id=\"Consolas-72\" d=\"M 628 3138 \nL 1125 3138 \nL 1141 2559 \nQ 1419 2894 1689 3044 \nQ 1959 3194 2234 3194 \nQ 2722 3194 2973 2878 \nQ 3225 2563 3206 1941 \nL 2656 1941 \nQ 2666 2353 2536 2539 \nQ 2406 2725 2156 2725 \nQ 2047 2725 1936 2686 \nQ 1825 2647 1708 2561 \nQ 1591 2475 1459 2340 \nQ 1328 2206 1178 2016 \nL 1178 0 \nL 628 0 \nL 628 3138 \nz\n\" transform=\"scale(0.015625)\"/>\n     <path id=\"Consolas-6d\" d=\"M 2738 0 \nL 2738 2253 \nQ 2738 2400 2727 2494 \nQ 2716 2588 2692 2642 \nQ 2669 2697 2633 2719 \nQ 2597 2741 2544 2741 \nQ 2481 2741 2428 2703 \nQ 2375 2666 2314 2581 \nQ 2253 2497 2179 2358 \nQ 2106 2219 2006 2016 \nL 2006 0 \nL 1509 0 \nL 1509 2194 \nQ 1509 2366 1498 2472 \nQ 1488 2578 1464 2637 \nQ 1441 2697 1403 2719 \nQ 1366 2741 1313 2741 \nQ 1256 2741 1206 2709 \nQ 1156 2678 1095 2597 \nQ 1034 2516 959 2375 \nQ 884 2234 781 2016 \nL 781 0 \nL 281 0 \nL 281 3138 \nL 697 3138 \nL 722 2541 \nQ 803 2719 879 2844 \nQ 956 2969 1037 3045 \nQ 1119 3122 1211 3158 \nQ 1303 3194 1416 3194 \nQ 1669 3194 1800 3028 \nQ 1931 2863 1931 2516 \nQ 2006 2678 2078 2804 \nQ 2150 2931 2233 3017 \nQ 2316 3103 2416 3148 \nQ 2516 3194 2647 3194 \nQ 3238 3194 3238 2284 \nL 3238 0 \nL 2738 0 \nz\n\" transform=\"scale(0.015625)\"/>\n    </defs>\n    <use xlink:href=\"#Consolas-4f\"/>\n    <use xlink:href=\"#Consolas-70\" x=\"54.980469\"/>\n    <use xlink:href=\"#Consolas-65\" x=\"109.960938\"/>\n    <use xlink:href=\"#Consolas-6e\" x=\"164.941406\"/>\n    <use xlink:href=\"#Consolas-42\" x=\"219.921875\"/>\n    <use xlink:href=\"#Consolas-42\" x=\"274.902344\"/>\n    <use xlink:href=\"#Consolas-20\" x=\"329.882812\"/>\n    <use xlink:href=\"#Consolas-54\" x=\"384.863281\"/>\n    <use xlink:href=\"#Consolas-65\" x=\"439.84375\"/>\n    <use xlink:href=\"#Consolas-72\" x=\"494.824219\"/>\n    <use xlink:href=\"#Consolas-6d\" x=\"549.804688\"/>\n    <use xlink:href=\"#Consolas-69\" x=\"604.785156\"/>\n    <use xlink:href=\"#Consolas-6e\" x=\"659.765625\"/>\n    <use xlink:href=\"#Consolas-61\" x=\"714.746094\"/>\n    <use xlink:href=\"#Consolas-6c\" x=\"769.726562\"/>\n   </g>\n  </g>\n </g>\n <defs>\n  <clipPath id=\"p8dabe00bc0\">\n   <rect x=\"25.662335\" y=\"24.541687\" width=\"449.632729\" height=\"267.821597\"/>\n  </clipPath>\n </defs>\n</svg>\n",
      "text/plain": [
       "<Figure size 800x500 with 1 Axes>"
      ]
     },
     "metadata": {},
     "output_type": "display_data"
    },
    {
     "data": {
      "text/html": [
       "<pre style=\"white-space:pre;overflow-x:auto;line-height:normal;font-family:Menlo,'DejaVu Sans Mono',consolas,'Courier New',monospace\">\n",
       "</pre>\n"
      ],
      "text/plain": [
       "\n"
      ]
     },
     "metadata": {},
     "output_type": "display_data"
    }
   ],
   "source": [
    "openbb.portfolio.holdv(P, chart=True)"
   ]
  },
  {
   "cell_type": "code",
   "execution_count": 7,
   "id": "2bbdc428",
   "metadata": {},
   "outputs": [
    {
     "data": {
      "text/html": [
       "<div>\n",
       "<style scoped>\n",
       "    .dataframe tbody tr th:only-of-type {\n",
       "        vertical-align: middle;\n",
       "    }\n",
       "\n",
       "    .dataframe tbody tr th {\n",
       "        vertical-align: top;\n",
       "    }\n",
       "\n",
       "    .dataframe thead th {\n",
       "        text-align: right;\n",
       "    }\n",
       "</style>\n",
       "<table border=\"1\" class=\"dataframe\">\n",
       "  <thead>\n",
       "    <tr style=\"text-align: right;\">\n",
       "      <th></th>\n",
       "      <th>Portfolio</th>\n",
       "      <th>Benchmark</th>\n",
       "      <th>Difference</th>\n",
       "    </tr>\n",
       "  </thead>\n",
       "  <tbody>\n",
       "    <tr>\n",
       "      <th>Total Investment</th>\n",
       "      <td>162140.0</td>\n",
       "      <td>162140.0</td>\n",
       "      <td>-</td>\n",
       "    </tr>\n",
       "    <tr>\n",
       "      <th>Total Value</th>\n",
       "      <td>168946.936768</td>\n",
       "      <td>164503.606211</td>\n",
       "      <td>4443.330556</td>\n",
       "    </tr>\n",
       "    <tr>\n",
       "      <th>Total % Return</th>\n",
       "      <td>4.20%</td>\n",
       "      <td>1.46%</td>\n",
       "      <td>2.74%</td>\n",
       "    </tr>\n",
       "    <tr>\n",
       "      <th>Total Abs Return</th>\n",
       "      <td>6806.936768</td>\n",
       "      <td>2363.606211</td>\n",
       "      <td>4443.330556</td>\n",
       "    </tr>\n",
       "  </tbody>\n",
       "</table>\n",
       "</div>"
      ],
      "text/plain": [
       "                      Portfolio      Benchmark   Difference\n",
       "Total Investment       162140.0       162140.0            -\n",
       "Total Value       168946.936768  164503.606211  4443.330556\n",
       "Total % Return            4.20%          1.46%        2.74%\n",
       "Total Abs Return    6806.936768    2363.606211  4443.330556"
      ]
     },
     "execution_count": 7,
     "metadata": {},
     "output_type": "execute_result"
    }
   ],
   "source": [
    "openbb.portfolio.perf(P)"
   ]
  }
 ],
 "metadata": {
  "celltoolbar": "Tags",
  "kernelspec": {
   "display_name": "Python 3.8.13 ('gst')",
   "language": "python",
   "name": "python3"
  },
  "language_info": {
   "codemirror_mode": {
    "name": "ipython",
    "version": 3
   },
   "file_extension": ".py",
   "mimetype": "text/x-python",
   "name": "python",
   "nbconvert_exporter": "python",
   "pygments_lexer": "ipython3",
   "version": "3.8.13"
  },
  "vscode": {
   "interpreter": {
    "hash": "39c68581b77c20b2b9e341f45cfba0f58d94e64800d60175ae1f2ce9ad635dc5"
   }
  }
 },
 "nbformat": 4,
 "nbformat_minor": 5
}
