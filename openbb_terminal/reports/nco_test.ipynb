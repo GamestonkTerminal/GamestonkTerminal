{
 "cells": [
  {
   "cell_type": "code",
   "execution_count": 1,
   "metadata": {},
   "outputs": [
    {
     "name": "stdout",
     "output_type": "stream",
     "text": [
      "WARNING! Breaking changes incoming! Especially avoid using kwargs, since some of them will change.\n",
      "You can try <link> branch with the latest changes.\n"
     ]
    }
   ],
   "source": [
    "from openbb_terminal.api import openbb"
   ]
  },
  {
   "cell_type": "code",
   "execution_count": 2,
   "metadata": {},
   "outputs": [],
   "source": [
    "file = \"../../portfolio/allocation/OpenBB_Portfolio_Template_v1.0.0.xlsx\"\n",
    "tickers, categories = openbb.portfolio.po.load(file)"
   ]
  },
  {
   "cell_type": "code",
   "execution_count": 3,
   "metadata": {},
   "outputs": [
    {
     "name": "stdout",
     "output_type": "stream",
     "text": [
      "model NCO codependence pearson covariance hist obj MinRisk rm MV rf 0.0 l 1.0 linkage ward k 0 max_k 10 bins_info KN alpha_tail 0.05 leaf_order True d 0.94\n"
     ]
    },
    {
     "data": {
      "text/html": [
       "<pre style=\"white-space:pre;overflow-x:auto;line-height:normal;font-family:Menlo,'DejaVu Sans Mono',consolas,'Courier New',monospace\"><span style=\"color: #800000; text-decoration-color: #800000\">Error: (il&gt;=1&amp;&amp;il&lt;=n) failed for 6th keyword il: dsyevr:il=1</span>\n",
       "\n",
       "</pre>\n"
      ],
      "text/plain": [
       "\u001b[31mError: (il>=1&&il<=n) failed for 6th keyword il: dsyevr:il=1\u001b[0m\n",
       "\n"
      ]
     },
     "metadata": {},
     "output_type": "display_data"
    },
    {
     "name": "stderr",
     "output_type": "stream",
     "text": [
      "Exception: (il>=1&&il<=n) failed for 6th keyword il: dsyevr:il=1\n",
      "Traceback (most recent call last):\n",
      "  File \"C:\\Users\\monte\\OneDrive\\Desktop\\Openbb\\OpenBBTerminal\\openbb_terminal\\decorators.py\", line 66, in wrapper\n",
      "    value = func(*args, **kwargs)\n",
      "  File \"C:\\Users\\monte\\OneDrive\\Desktop\\Openbb\\OpenBBTerminal\\openbb_terminal\\portfolio\\portfolio_optimization\\optimizer_model.py\", line 2267, in get_hcp_portfolio\n",
      "    weights = port.optimization(\n",
      "  File \"c:\\Users\\monte\\anaconda3\\envs\\gst\\lib\\site-packages\\riskfolio\\HCPortfolio.py\", line 788, in optimization\n",
      "    weights = self._inter_weights(intra_weights, obj=obj, rm=rm, rf=rf, l=l)\n",
      "  File \"c:\\Users\\monte\\anaconda3\\envs\\gst\\lib\\site-packages\\riskfolio\\HCPortfolio.py\", line 528, in _inter_weights\n",
      "    self._opt_w(tot_ret, tot_mu, tot_cov, obj=obj, rm=rm, rf=rf, l=l).flatten(),\n",
      "  File \"c:\\Users\\monte\\anaconda3\\envs\\gst\\lib\\site-packages\\riskfolio\\HCPortfolio.py\", line 151, in _opt_w\n",
      "    port.assets_stats(method_mu=\"hist\", method_cov=\"hist\", d=0.94)\n",
      "  File \"c:\\Users\\monte\\anaconda3\\envs\\gst\\lib\\site-packages\\riskfolio\\Portfolio.py\", line 448, in assets_stats\n",
      "    value = af.is_pos_def(self.cov, threshold=1e-8)\n",
      "  File \"c:\\Users\\monte\\anaconda3\\envs\\gst\\lib\\site-packages\\riskfolio\\AuxFunctions.py\", line 51, in is_pos_def\n",
      "    w, V = LA.eigh(cov_, lower=True, check_finite=True)\n",
      "  File \"c:\\Users\\monte\\anaconda3\\envs\\gst\\lib\\site-packages\\scipy\\linalg\\_decomp.py\", line 547, in eigh\n",
      "    w, v, *other_args, info = drv(a=a1, **drv_args, **lwork_args)\n",
      "_flapack.error: (il>=1&&il<=n) failed for 6th keyword il: dsyevr:il=1\n"
     ]
    },
    {
     "data": {
      "text/html": [
       "<pre style=\"white-space:pre;overflow-x:auto;line-height:normal;font-family:Menlo,'DejaVu Sans Mono',consolas,'Courier New',monospace\"><span style=\"color: #800000; text-decoration-color: #800000\">Error: not enough values to unpack (expected 2, got 0)</span>\n",
       "\n",
       "</pre>\n"
      ],
      "text/plain": [
       "\u001b[31mError: not enough values to unpack (expected 2, got 0)\u001b[0m\n",
       "\n"
      ]
     },
     "metadata": {},
     "output_type": "display_data"
    },
    {
     "name": "stderr",
     "output_type": "stream",
     "text": [
      "Exception: not enough values to unpack (expected 2, got 0)\n",
      "Traceback (most recent call last):\n",
      "  File \"C:\\Users\\monte\\OneDrive\\Desktop\\Openbb\\OpenBBTerminal\\openbb_terminal\\decorators.py\", line 66, in wrapper\n",
      "    value = func(*args, **kwargs)\n",
      "  File \"C:\\Users\\monte\\OneDrive\\Desktop\\Openbb\\OpenBBTerminal\\openbb_terminal\\portfolio\\portfolio_optimization\\optimizer_view.py\", line 2859, in display_hcp\n",
      "    weights, stock_returns = optimizer_model.get_hcp_portfolio(\n",
      "ValueError: not enough values to unpack (expected 2, got 0)\n"
     ]
    },
    {
     "data": {
      "text/plain": [
       "[]"
      ]
     },
     "execution_count": 3,
     "metadata": {},
     "output_type": "execute_result"
    }
   ],
   "source": [
    "openbb.portfolio.po.hcp(tickers, model=\"NCO\", chart=True)"
   ]
  }
 ],
 "metadata": {
  "kernelspec": {
   "display_name": "Python 3.8.13 ('gst')",
   "language": "python",
   "name": "python3"
  },
  "language_info": {
   "codemirror_mode": {
    "name": "ipython",
    "version": 3
   },
   "file_extension": ".py",
   "mimetype": "text/x-python",
   "name": "python",
   "nbconvert_exporter": "python",
   "pygments_lexer": "ipython3",
   "version": "3.8.13"
  },
  "orig_nbformat": 4,
  "vscode": {
   "interpreter": {
    "hash": "39c68581b77c20b2b9e341f45cfba0f58d94e64800d60175ae1f2ce9ad635dc5"
   }
  }
 },
 "nbformat": 4,
 "nbformat_minor": 2
}
