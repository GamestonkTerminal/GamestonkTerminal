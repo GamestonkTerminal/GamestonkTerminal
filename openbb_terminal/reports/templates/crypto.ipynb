{
 "cells": [
  {
   "cell_type": "markdown",
   "id": "70ba2c8a",
   "metadata": {},
   "source": [
    "## Notebook setup"
   ]
  },
  {
   "cell_type": "code",
   "execution_count": 1,
   "id": "driven-billion",
   "metadata": {},
   "outputs": [
    {
     "name": "stderr",
     "output_type": "stream",
     "text": [
      "/Users/diogosousa/OpenBBTerminal/openbb_terminal/api.py:20: UserWarning: Forecasting dependencies are not installed. This part of the SDK will not be usable\n",
      "  warnings.warn(\n"
     ]
    },
    {
     "name": "stdout",
     "output_type": "stream",
     "text": [
      "WARNING! Breaking changes incoming! Especially avoid using kwargs, since some of them will change.\n",
      "For more information see the official documentation at: https://openbb-finance.github.io/OpenBBTerminal/api/\n"
     ]
    }
   ],
   "source": [
    "import os\n",
    "import io\n",
    "import warnings\n",
    "import datetime\n",
    "import numpy as np\n",
    "import base64\n",
    "import pandas as pd\n",
    "\n",
    "import matplotlib.pyplot as plt\n",
    "import matplotlib_inline.backend_inline\n",
    "\n",
    "from IPython.display import HTML\n",
    "\n",
    "# import sys\n",
    "# sys.path.append('../../')\n",
    "\n",
    "from openbb_terminal.sdk import widgets\n",
    "from openbb_terminal.sdk import openbb\n",
    "from openbb_terminal.helper_classes import TerminalStyle\n",
    "\n",
    "%matplotlib inline\n",
    "matplotlib_inline.backend_inline.set_matplotlib_formats(\"svg\")\n",
    "warnings.filterwarnings(\"ignore\")\n",
    "\n",
    "pd.set_option(\"display.float_format\", lambda x: \"%.5f\" % x)"
   ]
  },
  {
   "cell_type": "code",
   "execution_count": 2,
   "id": "c3fe7db5-ec6a-42cf-9e66-52dc1de22370",
   "metadata": {},
   "outputs": [],
   "source": [
    "try:\n",
    "    theme = TerminalStyle(\"light\", \"light\", \"light\")\n",
    "except:\n",
    "    pass\n",
    "stylesheet = widgets.html_report_stylesheet()"
   ]
  },
  {
   "cell_type": "markdown",
   "id": "807fda4e",
   "metadata": {},
   "source": [
    "## Select Ticker"
   ]
  },
  {
   "cell_type": "code",
   "execution_count": 3,
   "id": "intended-sherman",
   "metadata": {
    "tags": [
     "parameters"
    ]
   },
   "outputs": [],
   "source": [
    "# Parameters that will be replaced when calling this notebook\n",
    "# Do not leave parameters blank as notebook will not run otherwise\n",
    "symbol = \"USDT\"\n",
    "report_name = \"Crypto Report for ATOM\""
   ]
  },
  {
   "cell_type": "code",
   "execution_count": 4,
   "id": "2c46efb8",
   "metadata": {},
   "outputs": [],
   "source": [
    "ticker = symbol"
   ]
  },
  {
   "cell_type": "code",
   "execution_count": 5,
   "id": "d4897334",
   "metadata": {},
   "outputs": [
    {
     "data": {
      "text/plain": [
       "('INVESTMENT RESEARCH REPORT ON USDT',\n",
       " '16 October, 2022',\n",
       " '19:50',\n",
       " datetime.timezone(datetime.timedelta(seconds=3600), 'WEST'))"
      ]
     },
     "execution_count": 5,
     "metadata": {},
     "output_type": "execute_result"
    }
   ],
   "source": [
    "author = \"\"\n",
    "report_title = f\"INVESTMENT RESEARCH REPORT ON {ticker.upper()}\"\n",
    "report_date = datetime.datetime.now().strftime(\"%d %B, %Y\")\n",
    "report_time = datetime.datetime.now().strftime(\"%H:%M\")\n",
    "report_timezone = datetime.datetime.now(datetime.timezone.utc).astimezone().tzinfo\n",
    "report_title, report_date, report_time, report_timezone"
   ]
  },
  {
   "cell_type": "code",
   "execution_count": 6,
   "id": "35d9a943",
   "metadata": {},
   "outputs": [],
   "source": [
    "# basic info\n",
    "from openbb_terminal.cryptocurrency.cryptocurrency_helpers import get_coinpaprika_id\n",
    "\n",
    "cp_id = get_coinpaprika_id(ticker)\n",
    "basic_info = openbb.crypto.dd.basic(cp_id)\n",
    "if not basic_info.empty:\n",
    "    basic_info = basic_info.set_index(\"Metric\")\n",
    "    basic_info"
   ]
  },
  {
   "cell_type": "code",
   "execution_count": 7,
   "id": "091d305e",
   "metadata": {},
   "outputs": [
    {
     "data": {
      "text/html": [
       "<pre style=\"white-space:pre;overflow-x:auto;line-height:normal;font-family:Menlo,'DejaVu Sans Mono',consolas,'Courier New',monospace\"><span style=\"color: #808000; text-decoration-color: #808000\">Fetching data. Please be patient</span>\n",
       "\n",
       "</pre>\n"
      ],
      "text/plain": [
       "\u001b[33mFetching data. Please be patient\u001b[0m\n",
       "\n"
      ]
     },
     "metadata": {},
     "output_type": "display_data"
    },
    {
     "data": {
      "text/html": [
       "<div>\n",
       "<style scoped>\n",
       "    .dataframe tbody tr th:only-of-type {\n",
       "        vertical-align: middle;\n",
       "    }\n",
       "\n",
       "    .dataframe tbody tr th {\n",
       "        vertical-align: top;\n",
       "    }\n",
       "\n",
       "    .dataframe thead th {\n",
       "        text-align: right;\n",
       "    }\n",
       "</style>\n",
       "<table border=\"1\" class=\"dataframe\">\n",
       "  <thead>\n",
       "    <tr style=\"text-align: right;\">\n",
       "      <th></th>\n",
       "      <th>title</th>\n",
       "      <th>link</th>\n",
       "    </tr>\n",
       "    <tr>\n",
       "      <th>published</th>\n",
       "      <th></th>\n",
       "      <th></th>\n",
       "    </tr>\n",
       "  </thead>\n",
       "  <tbody>\n",
       "    <tr>\n",
       "      <th>2022-10-16 16:10:49+00:00</th>\n",
       "      <td>Wintermute repays $92M TrueFi loan on time des...</td>\n",
       "      <td>&lt;a href=\"https://cryptosrus.com/wintermute-rep...</td>\n",
       "    </tr>\n",
       "    <tr>\n",
       "      <th>2022-10-16 12:14:17+00:00</th>\n",
       "      <td>Moshnake Promises A Fair P2E Experience As Axi...</td>\n",
       "      <td>&lt;a href=\"https://www.tekedia.com/moshnake-prom...</td>\n",
       "    </tr>\n",
       "    <tr>\n",
       "      <th>2022-10-15 21:39:52+00:00</th>\n",
       "      <td>Tether (USDT) Receives a Neutral Rating Saturd...</td>\n",
       "      <td>&lt;a href=\"https://www.investorsobserver.com/new...</td>\n",
       "    </tr>\n",
       "    <tr>\n",
       "      <th>2022-10-15 21:25:48+00:00</th>\n",
       "      <td>Venus USDT (vUSDT) Receives a Neutral Rating S...</td>\n",
       "      <td>&lt;a href=\"https://www.investorsobserver.com/new...</td>\n",
       "    </tr>\n",
       "    <tr>\n",
       "      <th>2022-10-14 20:00:00+00:00</th>\n",
       "      <td>CryptoKG- Providing Trustworthy Crypto Trading...</td>\n",
       "      <td>&lt;a href=\"https://beincrypto.com/cryptokg-provi...</td>\n",
       "    </tr>\n",
       "    <tr>\n",
       "      <th>2022-10-14 17:53:24+00:00</th>\n",
       "      <td>Price analysis 10/14: SPX, DXY, BTC, ETH, BNB,...</td>\n",
       "      <td>&lt;a href=\"https://cointelegraph.com/news/price-...</td>\n",
       "    </tr>\n",
       "    <tr>\n",
       "      <th>2022-10-14 11:17:46+00:00</th>\n",
       "      <td>Judge Presiding Over $1 Trillion Tether Lawsui...</td>\n",
       "      <td>&lt;a href=\"https://en.ethereumworldnews.com/judg...</td>\n",
       "    </tr>\n",
       "    <tr>\n",
       "      <th>2022-10-14 09:57:15+00:00</th>\n",
       "      <td>Moshnake – A Premium Play To Earn Utility Toke...</td>\n",
       "      <td>&lt;a href=\"https://www.tekedia.com/moshnake-a-pr...</td>\n",
       "    </tr>\n",
       "    <tr>\n",
       "      <th>2022-10-14 08:22:00+00:00</th>\n",
       "      <td>1MMMIT(Mango Man Intelligent) Gets Listed on X...</td>\n",
       "      <td>&lt;a href=\"https://www.prnewswire.com/news-relea...</td>\n",
       "    </tr>\n",
       "    <tr>\n",
       "      <th>2022-10-14 08:21:00+00:00</th>\n",
       "      <td>XT.COM Lists Tamadoge ($TAMA) On Its Platform ...</td>\n",
       "      <td>&lt;a href=\"https://www.prnewswire.com/news-relea...</td>\n",
       "    </tr>\n",
       "  </tbody>\n",
       "</table>\n",
       "</div>"
      ],
      "text/plain": [
       "                                                                       title  \\\n",
       "published                                                                      \n",
       "2022-10-16 16:10:49+00:00  Wintermute repays $92M TrueFi loan on time des...   \n",
       "2022-10-16 12:14:17+00:00  Moshnake Promises A Fair P2E Experience As Axi...   \n",
       "2022-10-15 21:39:52+00:00  Tether (USDT) Receives a Neutral Rating Saturd...   \n",
       "2022-10-15 21:25:48+00:00  Venus USDT (vUSDT) Receives a Neutral Rating S...   \n",
       "2022-10-14 20:00:00+00:00  CryptoKG- Providing Trustworthy Crypto Trading...   \n",
       "2022-10-14 17:53:24+00:00  Price analysis 10/14: SPX, DXY, BTC, ETH, BNB,...   \n",
       "2022-10-14 11:17:46+00:00  Judge Presiding Over $1 Trillion Tether Lawsui...   \n",
       "2022-10-14 09:57:15+00:00  Moshnake – A Premium Play To Earn Utility Toke...   \n",
       "2022-10-14 08:22:00+00:00  1MMMIT(Mango Man Intelligent) Gets Listed on X...   \n",
       "2022-10-14 08:21:00+00:00  XT.COM Lists Tamadoge ($TAMA) On Its Platform ...   \n",
       "\n",
       "                                                                        link  \n",
       "published                                                                     \n",
       "2022-10-16 16:10:49+00:00  <a href=\"https://cryptosrus.com/wintermute-rep...  \n",
       "2022-10-16 12:14:17+00:00  <a href=\"https://www.tekedia.com/moshnake-prom...  \n",
       "2022-10-15 21:39:52+00:00  <a href=\"https://www.investorsobserver.com/new...  \n",
       "2022-10-15 21:25:48+00:00  <a href=\"https://www.investorsobserver.com/new...  \n",
       "2022-10-14 20:00:00+00:00  <a href=\"https://beincrypto.com/cryptokg-provi...  \n",
       "2022-10-14 17:53:24+00:00  <a href=\"https://cointelegraph.com/news/price-...  \n",
       "2022-10-14 11:17:46+00:00  <a href=\"https://en.ethereumworldnews.com/judg...  \n",
       "2022-10-14 09:57:15+00:00  <a href=\"https://www.tekedia.com/moshnake-a-pr...  \n",
       "2022-10-14 08:22:00+00:00  <a href=\"https://www.prnewswire.com/news-relea...  \n",
       "2022-10-14 08:21:00+00:00  <a href=\"https://www.prnewswire.com/news-relea...  "
      ]
     },
     "execution_count": 7,
     "metadata": {},
     "output_type": "execute_result"
    }
   ],
   "source": [
    "news = openbb.common.news(term=ticker).head(10)\n",
    "news = news.set_index(\"published\")\n",
    "news.sort_index()\n",
    "news[\"link\"] = news[\"link\"].apply(lambda x: f'<a href=\"{x}\">{x}</a>')\n",
    "news"
   ]
  },
  {
   "cell_type": "code",
   "execution_count": 8,
   "id": "bd281ab8",
   "metadata": {},
   "outputs": [],
   "source": [
    "links = openbb.crypto.dd.links(ticker)\n",
    "\n",
    "if not links.empty:\n",
    "    links = links.set_index(\"Name\")\n",
    "\n",
    "    links[\"Link\"] = links[\"Link\"].apply(lambda x: f'<a href=\"{x}\">{x}</a>')\n",
    "\n",
    "    links"
   ]
  },
  {
   "cell_type": "code",
   "execution_count": 9,
   "id": "9b73e41f",
   "metadata": {},
   "outputs": [],
   "source": [
    "# alt index\n",
    "\n",
    "# fig, ax = plt.subplots(figsize=(11, 5), dpi=150)\n",
    "# openbb.crypto.ov.altindex(external_axes=[ax], chart=True)\n",
    "# fig.tight_layout()\n",
    "# f = io.BytesIO()\n",
    "# fig.savefig(f, format=\"svg\")\n",
    "# altindex = f.getvalue().decode(\"utf-8\")"
   ]
  },
  {
   "cell_type": "code",
   "execution_count": 10,
   "id": "07d09ce8",
   "metadata": {},
   "outputs": [],
   "source": [
    "five_year = datetime.datetime.now() - datetime.timedelta(days=1825)\n",
    "three_year = datetime.datetime.now() - datetime.timedelta(days=1095)\n",
    "one_year = datetime.datetime.now() - datetime.timedelta(days=365)\n",
    "three_months = datetime.datetime.now() - datetime.timedelta(days=90)\n",
    "\n",
    "dates = {\n",
    "    \"three_months\": three_months,\n",
    "    \"one_year\": one_year,\n",
    "    \"three_year\": three_year,\n",
    "    \"five_year\": five_year,\n",
    "}"
   ]
  },
  {
   "cell_type": "code",
   "execution_count": 11,
   "id": "e6d6d43d",
   "metadata": {},
   "outputs": [],
   "source": [
    "def get_historical_data(ticker, dict_of_dates, is_plot=True):\n",
    "\n",
    "    list_of_historical_data = []\n",
    "\n",
    "    for date in dict_of_dates:\n",
    "        data = openbb.crypto.load(\n",
    "            symbol=ticker,\n",
    "            start_date=dict_of_dates[date],\n",
    "        )\n",
    "\n",
    "        # we'll be using the adjusted close price as same as close price\n",
    "        data[\"Adj Close\"] = data[\"Close\"]\n",
    "\n",
    "        if is_plot:\n",
    "            fig, ax = plt.subplots(figsize=(11, 3), dpi=150)\n",
    "            plt.suptitle(\n",
    "                f\"{date} historical data for {ticker.upper()}\",\n",
    "                fontsize=14,\n",
    "                color=\"black\",\n",
    "            )\n",
    "            data.plot(y=\"Close\", ax=ax)\n",
    "            plt.ylabel(\"USDT\")\n",
    "\n",
    "            fig.tight_layout()\n",
    "            f = io.BytesIO()\n",
    "            fig.savefig(f, format=\"svg\")\n",
    "            plot_data = f.getvalue().decode(\"utf-8\")\n",
    "\n",
    "            list_of_historical_data.append(plot_data)\n",
    "        else:\n",
    "            list_of_historical_data.append(data)\n",
    "\n",
    "    return list_of_historical_data"
   ]
  },
  {
   "cell_type": "code",
   "execution_count": 12,
   "id": "ed19a708",
   "metadata": {},
   "outputs": [
    {
     "data": {
      "text/html": [
       "<pre style=\"white-space:pre;overflow-x:auto;line-height:normal;font-family:Menlo,'DejaVu Sans Mono',consolas,'Courier New',monospace\">\n",
       "Pair USDT/USDT not found in binance\n",
       "\n",
       "</pre>\n"
      ],
      "text/plain": [
       "\n",
       "Pair USDT/USDT not found in binance\n",
       "\n"
      ]
     },
     "metadata": {},
     "output_type": "display_data"
    },
    {
     "ename": "KeyError",
     "evalue": "'Close'",
     "output_type": "error",
     "traceback": [
      "\u001b[0;31m---------------------------------------------------------------------------\u001b[0m",
      "\u001b[0;31mKeyError\u001b[0m                                  Traceback (most recent call last)",
      "File \u001b[0;32m~/opt/anaconda3/envs/obb/lib/python3.9/site-packages/pandas/core/indexes/base.py:3800\u001b[0m, in \u001b[0;36mIndex.get_loc\u001b[0;34m(self, key, method, tolerance)\u001b[0m\n\u001b[1;32m   3799\u001b[0m \u001b[39mtry\u001b[39;00m:\n\u001b[0;32m-> 3800\u001b[0m     \u001b[39mreturn\u001b[39;00m \u001b[39mself\u001b[39;49m\u001b[39m.\u001b[39;49m_engine\u001b[39m.\u001b[39;49mget_loc(casted_key)\n\u001b[1;32m   3801\u001b[0m \u001b[39mexcept\u001b[39;00m \u001b[39mKeyError\u001b[39;00m \u001b[39mas\u001b[39;00m err:\n",
      "File \u001b[0;32m~/opt/anaconda3/envs/obb/lib/python3.9/site-packages/pandas/_libs/index.pyx:138\u001b[0m, in \u001b[0;36mpandas._libs.index.IndexEngine.get_loc\u001b[0;34m()\u001b[0m\n",
      "File \u001b[0;32m~/opt/anaconda3/envs/obb/lib/python3.9/site-packages/pandas/_libs/index.pyx:165\u001b[0m, in \u001b[0;36mpandas._libs.index.IndexEngine.get_loc\u001b[0;34m()\u001b[0m\n",
      "File \u001b[0;32mpandas/_libs/hashtable_class_helper.pxi:5745\u001b[0m, in \u001b[0;36mpandas._libs.hashtable.PyObjectHashTable.get_item\u001b[0;34m()\u001b[0m\n",
      "File \u001b[0;32mpandas/_libs/hashtable_class_helper.pxi:5753\u001b[0m, in \u001b[0;36mpandas._libs.hashtable.PyObjectHashTable.get_item\u001b[0;34m()\u001b[0m\n",
      "\u001b[0;31mKeyError\u001b[0m: 'Close'",
      "\nThe above exception was the direct cause of the following exception:\n",
      "\u001b[0;31mKeyError\u001b[0m                                  Traceback (most recent call last)",
      "Cell \u001b[0;32mIn [12], line 2\u001b[0m\n\u001b[1;32m      1\u001b[0m \u001b[38;5;28;01mtry\u001b[39;00m:\n\u001b[0;32m----> 2\u001b[0m     historical_data \u001b[38;5;241m=\u001b[39m \u001b[43mget_historical_data\u001b[49m\u001b[43m(\u001b[49m\u001b[43mticker\u001b[49m\u001b[43m,\u001b[49m\u001b[43m \u001b[49m\u001b[43mdates\u001b[49m\u001b[43m)\u001b[49m\n\u001b[1;32m      3\u001b[0m \u001b[38;5;28;01mexcept\u001b[39;00m \u001b[38;5;167;01mException\u001b[39;00m \u001b[38;5;28;01mas\u001b[39;00m e:\n\u001b[1;32m      4\u001b[0m     \u001b[38;5;28;01mraise\u001b[39;00m\n",
      "Cell \u001b[0;32mIn [11], line 12\u001b[0m, in \u001b[0;36mget_historical_data\u001b[0;34m(ticker, dict_of_dates, is_plot)\u001b[0m\n\u001b[1;32m      6\u001b[0m data \u001b[38;5;241m=\u001b[39m openbb\u001b[38;5;241m.\u001b[39mcrypto\u001b[38;5;241m.\u001b[39mload(\n\u001b[1;32m      7\u001b[0m     symbol\u001b[38;5;241m=\u001b[39mticker,\n\u001b[1;32m      8\u001b[0m     start_date\u001b[38;5;241m=\u001b[39mdict_of_dates[date],\n\u001b[1;32m      9\u001b[0m )\n\u001b[1;32m     11\u001b[0m \u001b[38;5;66;03m# we'll be using the adjusted close price as same as close price\u001b[39;00m\n\u001b[0;32m---> 12\u001b[0m data[\u001b[38;5;124m\"\u001b[39m\u001b[38;5;124mAdj Close\u001b[39m\u001b[38;5;124m\"\u001b[39m] \u001b[38;5;241m=\u001b[39m \u001b[43mdata\u001b[49m\u001b[43m[\u001b[49m\u001b[38;5;124;43m\"\u001b[39;49m\u001b[38;5;124;43mClose\u001b[39;49m\u001b[38;5;124;43m\"\u001b[39;49m\u001b[43m]\u001b[49m\n\u001b[1;32m     14\u001b[0m \u001b[38;5;28;01mif\u001b[39;00m is_plot:\n\u001b[1;32m     15\u001b[0m     fig, ax \u001b[38;5;241m=\u001b[39m plt\u001b[38;5;241m.\u001b[39msubplots(figsize\u001b[38;5;241m=\u001b[39m(\u001b[38;5;241m11\u001b[39m, \u001b[38;5;241m3\u001b[39m), dpi\u001b[38;5;241m=\u001b[39m\u001b[38;5;241m150\u001b[39m)\n",
      "File \u001b[0;32m~/opt/anaconda3/envs/obb/lib/python3.9/site-packages/pandas/core/frame.py:3805\u001b[0m, in \u001b[0;36mDataFrame.__getitem__\u001b[0;34m(self, key)\u001b[0m\n\u001b[1;32m   3803\u001b[0m \u001b[39mif\u001b[39;00m \u001b[39mself\u001b[39m\u001b[39m.\u001b[39mcolumns\u001b[39m.\u001b[39mnlevels \u001b[39m>\u001b[39m \u001b[39m1\u001b[39m:\n\u001b[1;32m   3804\u001b[0m     \u001b[39mreturn\u001b[39;00m \u001b[39mself\u001b[39m\u001b[39m.\u001b[39m_getitem_multilevel(key)\n\u001b[0;32m-> 3805\u001b[0m indexer \u001b[39m=\u001b[39m \u001b[39mself\u001b[39;49m\u001b[39m.\u001b[39;49mcolumns\u001b[39m.\u001b[39;49mget_loc(key)\n\u001b[1;32m   3806\u001b[0m \u001b[39mif\u001b[39;00m is_integer(indexer):\n\u001b[1;32m   3807\u001b[0m     indexer \u001b[39m=\u001b[39m [indexer]\n",
      "File \u001b[0;32m~/opt/anaconda3/envs/obb/lib/python3.9/site-packages/pandas/core/indexes/base.py:3802\u001b[0m, in \u001b[0;36mIndex.get_loc\u001b[0;34m(self, key, method, tolerance)\u001b[0m\n\u001b[1;32m   3800\u001b[0m     \u001b[39mreturn\u001b[39;00m \u001b[39mself\u001b[39m\u001b[39m.\u001b[39m_engine\u001b[39m.\u001b[39mget_loc(casted_key)\n\u001b[1;32m   3801\u001b[0m \u001b[39mexcept\u001b[39;00m \u001b[39mKeyError\u001b[39;00m \u001b[39mas\u001b[39;00m err:\n\u001b[0;32m-> 3802\u001b[0m     \u001b[39mraise\u001b[39;00m \u001b[39mKeyError\u001b[39;00m(key) \u001b[39mfrom\u001b[39;00m \u001b[39merr\u001b[39;00m\n\u001b[1;32m   3803\u001b[0m \u001b[39mexcept\u001b[39;00m \u001b[39mTypeError\u001b[39;00m:\n\u001b[1;32m   3804\u001b[0m     \u001b[39m# If we have a listlike key, _check_indexing_error will raise\u001b[39;00m\n\u001b[1;32m   3805\u001b[0m     \u001b[39m#  InvalidIndexError. Otherwise we fall through and re-raise\u001b[39;00m\n\u001b[1;32m   3806\u001b[0m     \u001b[39m#  the TypeError.\u001b[39;00m\n\u001b[1;32m   3807\u001b[0m     \u001b[39mself\u001b[39m\u001b[39m.\u001b[39m_check_indexing_error(key)\n",
      "\u001b[0;31mKeyError\u001b[0m: 'Close'"
     ]
    }
   ],
   "source": [
    "try:\n",
    "    historical_data = get_historical_data(ticker, dates)\n",
    "except Exception as e:\n",
    "    raise KeyboardInterrupt"
   ]
  },
  {
   "cell_type": "code",
   "execution_count": null,
   "id": "8f815dbc",
   "metadata": {},
   "outputs": [],
   "source": [
    "historical_data_one_year = get_historical_data(ticker, {\"one_year\": one_year}, False)[0]\n",
    "historical_data_one_year"
   ]
  },
  {
   "cell_type": "code",
   "execution_count": null,
   "id": "081a4bb3",
   "metadata": {},
   "outputs": [],
   "source": [
    "from openbb_terminal.cryptocurrency.cryptocurrency_helpers import show_quick_performance\n",
    "\n",
    "show_quick_performance(\n",
    "    crypto_df=historical_data_one_year,\n",
    "    symbol=ticker,\n",
    "    current_currency=\"USDT\",\n",
    "    source=\"cctx\",\n",
    "    exchange=\"binance\",\n",
    "    interval=\"1440\",\n",
    ")\n",
    "\n",
    "fig = plt.figure(figsize=(11, 3), dpi=150)\n",
    "fig.tight_layout()\n",
    "f = io.BytesIO()\n",
    "fig.savefig(f, format=\"svg\")\n",
    "quick_performance = f.getvalue().decode(\"utf-8\")"
   ]
  },
  {
   "cell_type": "code",
   "execution_count": null,
   "id": "88af0fbe",
   "metadata": {},
   "outputs": [],
   "source": [
    "fig, ax = plt.subplots(figsize=(11, 3), dpi=150)\n",
    "openbb.crypto.dd.headlines(ticker, external_axes=[ax], chart=True)\n",
    "fig.tight_layout()\n",
    "f = io.BytesIO()\n",
    "fig.savefig(f, format=\"svg\")\n",
    "headlines = f.getvalue().decode(\"utf-8\")"
   ]
  },
  {
   "cell_type": "code",
   "execution_count": null,
   "id": "3b23868d",
   "metadata": {},
   "outputs": [],
   "source": [
    "# fig, (ax1, ax2) = plt.subplots(nrows=2, ncols=1, figsize=(11, 5), dpi=150)\n",
    "# openbb.crypto.chart(\n",
    "#     historical_data_one_year,\n",
    "#     symbol=ticker,\n",
    "#     currency=\"USDT\",\n",
    "#     source=\"cctx\",\n",
    "#     exchange=\"binance\",\n",
    "#     interval=\"1440\",\n",
    "#     external_axes=[ax1, ax2],\n",
    "# )\n",
    "# fig.tight_layout()\n",
    "# f = io.BytesIO()\n",
    "# fig.savefig(f, format=\"svg\")\n",
    "# one_year_candle = f.getvalue().decode(\"utf-8\")"
   ]
  },
  {
   "cell_type": "code",
   "execution_count": null,
   "id": "e4509c6e",
   "metadata": {},
   "outputs": [],
   "source": [
    "fig, (ax1, ax2) = plt.subplots(nrows=2, ncols=1, figsize=(11, 5), dpi=150)\n",
    "openbb.crypto.chart(\n",
    "    historical_data_one_year,\n",
    "    to_symbol=ticker,\n",
    "    from_symbol=\"USDT\",\n",
    "    source=\"cctx\",\n",
    "    exchange=\"binance\",\n",
    "    interval=\"1440\",\n",
    "    external_axes=[ax1, ax2],\n",
    "    chart=True,\n",
    ")\n",
    "fig.tight_layout()\n",
    "f = io.BytesIO()\n",
    "fig.savefig(f, format=\"svg\")\n",
    "candle_one_year = f.getvalue().decode(\"utf-8\")"
   ]
  },
  {
   "cell_type": "markdown",
   "id": "7f83daae",
   "metadata": {},
   "source": [
    "## Due Diligence"
   ]
  },
  {
   "cell_type": "code",
   "execution_count": null,
   "id": "93d66cf1",
   "metadata": {},
   "outputs": [],
   "source": [
    "# market cap dominance\n",
    "\n",
    "fig, ax = plt.subplots(figsize=(11, 5), dpi=150)\n",
    "openbb.crypto.dd.mcapdom(symbol=ticker, external_axes=[ax], chart=True)\n",
    "fig.tight_layout()\n",
    "f = io.BytesIO()\n",
    "fig.savefig(f, format=\"svg\")\n",
    "mcapdom = f.getvalue().decode(\"utf-8\")\n",
    "mcapdom_df = openbb.crypto.dd.mcapdom(symbol=ticker)"
   ]
  },
  {
   "cell_type": "code",
   "execution_count": null,
   "id": "284b0586",
   "metadata": {},
   "outputs": [],
   "source": [
    "# roadmap\n",
    "\n",
    "fig, ax = plt.subplots(figsize=(11, 5), dpi=150)\n",
    "openbb.crypto.dd.rm(symbol=ticker, external_axes=[ax], chart=True)\n",
    "fig.tight_layout()\n",
    "f = io.BytesIO()\n",
    "fig.savefig(f, format=\"svg\")\n",
    "roadmap_view = f.getvalue().decode(\"utf-8\")\n",
    "\n",
    "roadmap_model = openbb.crypto.dd.rm(symbol=ticker)"
   ]
  },
  {
   "cell_type": "code",
   "execution_count": null,
   "id": "f496d047",
   "metadata": {},
   "outputs": [],
   "source": [
    "if not roadmap_model.empty:\n",
    "    roadmap_model = roadmap_model.set_index(\"Date\")\n",
    "    roadmap_model.sort_index()\n",
    "    roadmap_model"
   ]
  },
  {
   "cell_type": "code",
   "execution_count": null,
   "id": "9ddbc654",
   "metadata": {},
   "outputs": [],
   "source": [
    "fig, ax1 = plt.subplots(figsize=(11, 5), dpi=150)\n",
    "ax2 = ax1.twinx()\n",
    "openbb.crypto.dd.tk(symbol=ticker, external_axes=[ax1, ax2], chart=True)\n",
    "fig.tight_layout()\n",
    "f = io.BytesIO()\n",
    "fig.savefig(f, format=\"svg\")\n",
    "tokenomics_view = f.getvalue().decode(\"utf-8\")"
   ]
  },
  {
   "cell_type": "code",
   "execution_count": null,
   "id": "aecd816f",
   "metadata": {},
   "outputs": [],
   "source": [
    "tokenomics_model = openbb.crypto.dd.rm(symbol=ticker)\n",
    "if not tokenomics_model.empty:\n",
    "    tokenomics_model = tokenomics_model.set_index(\"Date\")\n",
    "    tokenomics_model.sort_index()\n",
    "    tokenomics_model"
   ]
  },
  {
   "cell_type": "code",
   "execution_count": null,
   "id": "7d02fcc4",
   "metadata": {},
   "outputs": [],
   "source": [
    "# fundraise\n",
    "\n",
    "fundraise = openbb.crypto.dd.fr(symbol=ticker)\n",
    "fundraise_info = fundraise[0]\n",
    "fundraise_df = fundraise[1]"
   ]
  },
  {
   "cell_type": "code",
   "execution_count": null,
   "id": "5e625a2e",
   "metadata": {},
   "outputs": [],
   "source": [
    "trading_pair_info = openbb.crypto.dd.trading_pair_info(f\"{ticker}-USDT\")\n",
    "if not trading_pair_info.empty:\n",
    "    trading_pair_info = trading_pair_info.set_index(\"Metric\")\n",
    "    trading_pair_info"
   ]
  },
  {
   "cell_type": "code",
   "execution_count": null,
   "id": "8f33b4d8",
   "metadata": {},
   "outputs": [],
   "source": [
    "import openbb_terminal.cryptocurrency.due_diligence.pycoingecko_model as gecko\n",
    "from openbb_terminal.cryptocurrency.cryptocurrency_helpers import get_coingecko_id\n",
    "\n",
    "ath = pd.DataFrame()\n",
    "try:\n",
    "    cg_id = get_coingecko_id(symbol=ticker)\n",
    "    coin = gecko.Coin(ticker)\n",
    "    ath = coin.get_all_time_high(currency=cg_id)\n",
    "\n",
    "except Exception as e:\n",
    "    # ath = str(\"Reached coingecko API limit\")\n",
    "    pass"
   ]
  },
  {
   "cell_type": "code",
   "execution_count": null,
   "id": "2a82e990",
   "metadata": {},
   "outputs": [],
   "source": [
    "import openbb_terminal.cryptocurrency.due_diligence.pycoingecko_model as gecko\n",
    "from openbb_terminal.cryptocurrency.cryptocurrency_helpers import get_coingecko_id\n",
    "\n",
    "atl = pd.DataFrame()\n",
    "try:\n",
    "    cg_id = get_coingecko_id(symbol=ticker)\n",
    "    coin = gecko.Coin(ticker)\n",
    "    atl = coin.get_all_time_low(currency=cg_id)\n",
    "\n",
    "except Exception as e:\n",
    "    # atl = str(\"Reached coingecko API limit\")\n",
    "    pass"
   ]
  },
  {
   "cell_type": "code",
   "execution_count": null,
   "id": "e9e512e9",
   "metadata": {},
   "outputs": [],
   "source": [
    "# market stats about loaded coin\n",
    "from openbb_terminal.cryptocurrency.cryptocurrency_helpers import get_coinpaprika_id\n",
    "\n",
    "cp_id = get_coinpaprika_id(ticker)\n",
    "market = openbb.crypto.dd.mkt(cp_id)\n",
    "\n",
    "if not market.empty:\n",
    "    market = market.set_index(\"exchange\")\n",
    "\n",
    "    market[\"market_url\"] = market[\"market_url\"].apply(\n",
    "        lambda x: f'<a href=\"{x}\">{x}</a>'\n",
    "    )\n",
    "\n",
    "    market"
   ]
  },
  {
   "cell_type": "code",
   "execution_count": null,
   "id": "1d6e76cb",
   "metadata": {},
   "outputs": [],
   "source": [
    "from openbb_terminal.cryptocurrency.cryptocurrency_helpers import get_coinpaprika_id\n",
    "\n",
    "# all exchanges where loaded coin is listed\n",
    "cp_id = get_coinpaprika_id(ticker)\n",
    "ex = openbb.crypto.dd.ex(cp_id)\n",
    "if not ex.empty:\n",
    "    ex = ex.set_index(\"id\")\n",
    "    ex"
   ]
  },
  {
   "cell_type": "code",
   "execution_count": null,
   "id": "1fcdbc67",
   "metadata": {},
   "outputs": [],
   "source": [
    "# last trades\n",
    "trades = openbb.crypto.dd.trades(symbol=f\"{ticker}-USDT\")\n",
    "if not trades.empty:\n",
    "    trades = trades.set_index(\"time\")\n",
    "    trades"
   ]
  },
  {
   "cell_type": "code",
   "execution_count": null,
   "id": "262d190a",
   "metadata": {},
   "outputs": [],
   "source": [
    "# order book\n",
    "\n",
    "fig, ax = plt.subplots(figsize=(11, 5), dpi=150)\n",
    "openbb.crypto.dd.cbbook(symbol=f\"{ticker}-USDT\", external_axes=[ax], chart=True)\n",
    "fig.tight_layout()\n",
    "f = io.BytesIO()\n",
    "fig.savefig(f, format=\"svg\")\n",
    "order_book = f.getvalue().decode(\"utf-8\")\n",
    "order_book_raw = openbb.crypto.dd.cbbook(symbol=f\"{ticker}-USDT\")"
   ]
  },
  {
   "cell_type": "code",
   "execution_count": null,
   "id": "95cdc32e",
   "metadata": {},
   "outputs": [],
   "source": [
    "order_book_raw"
   ]
  },
  {
   "cell_type": "code",
   "execution_count": null,
   "id": "679d0d79",
   "metadata": {},
   "outputs": [],
   "source": [
    "# price and supply related metrics for loaded coin\n",
    "from openbb_terminal.cryptocurrency.cryptocurrency_helpers import get_coinpaprika_id\n",
    "\n",
    "cp_id = get_coinpaprika_id(ticker)\n",
    "ps = openbb.crypto.dd.ps(cp_id)\n",
    "if not ps.empty:\n",
    "    ps = ps.set_index(\"Metric\")\n",
    "    ps"
   ]
  },
  {
   "cell_type": "code",
   "execution_count": null,
   "id": "92e76d79",
   "metadata": {},
   "outputs": [],
   "source": [
    "# events\n",
    "from openbb_terminal.cryptocurrency.cryptocurrency_helpers import get_coinpaprika_id\n",
    "\n",
    "cp_id = get_coinpaprika_id(ticker)\n",
    "events = openbb.crypto.dd.events(cp_id)\n",
    "\n",
    "if not events.empty:\n",
    "    events = events.set_index(\"date\")\n",
    "\n",
    "    events[\"link\"] = events[\"link\"].apply(lambda x: f'<a href=\"{x}\">{x}</a>')\n",
    "\n",
    "events"
   ]
  },
  {
   "cell_type": "code",
   "execution_count": null,
   "id": "a14130db",
   "metadata": {},
   "outputs": [],
   "source": [
    "# social media\n",
    "\n",
    "from openbb_terminal.cryptocurrency.due_diligence.pycoingecko_view import display_social\n",
    "\n",
    "display_social(ticker)\n",
    "fig = plt.figure()\n",
    "fig.tight_layout()\n",
    "f = io.BytesIO()\n",
    "fig.savefig(f, format=\"svg\")\n",
    "social = f.getvalue().decode(\"utf-8\")"
   ]
  },
  {
   "cell_type": "code",
   "execution_count": null,
   "id": "8f89627f",
   "metadata": {},
   "outputs": [],
   "source": [
    "# tweets for loaded coin\n",
    "from openbb_terminal.cryptocurrency.cryptocurrency_helpers import get_coinpaprika_id\n",
    "\n",
    "cp_id = get_coinpaprika_id(ticker)\n",
    "tweets = openbb.crypto.dd.twitter(cp_id)\n",
    "tweets"
   ]
  },
  {
   "cell_type": "code",
   "execution_count": null,
   "id": "9bb75443",
   "metadata": {},
   "outputs": [],
   "source": [
    "# github activity over time\n",
    "\n",
    "gh_data = openbb.crypto.dd.gh(symbol=ticker)\n",
    "\n",
    "if not gh_data.empty:\n",
    "    fig, ax = plt.subplots(figsize=(11, 5), dpi=150)\n",
    "    openbb.crypto.dd.gh(symbol=ticker, external_axes=[ax], chart=True)\n",
    "    fig.tight_layout()\n",
    "    f = io.BytesIO()\n",
    "    fig.savefig(f, format=\"svg\")\n",
    "    gh = f.getvalue().decode(\"utf-8\")"
   ]
  },
  {
   "cell_type": "markdown",
   "id": "fcaa973d",
   "metadata": {},
   "source": [
    "## TA\n"
   ]
  },
  {
   "cell_type": "code",
   "execution_count": null,
   "id": "477317b4",
   "metadata": {},
   "outputs": [],
   "source": [
    "ticker_data = historical_data_one_year.copy()"
   ]
  },
  {
   "cell_type": "code",
   "execution_count": null,
   "id": "7af3695c",
   "metadata": {},
   "outputs": [],
   "source": [
    "# simple moving average\n",
    "ticker_data.index.names = [\"date\"]\n",
    "\n",
    "fig, ax = plt.subplots(figsize=(11, 3), dpi=150)\n",
    "openbb.common.ta.ma(\n",
    "    data=ticker_data[\"Close\"],\n",
    "    ma_type=\"SMA\",\n",
    "    symbol=ticker,\n",
    "    external_axes=[ax],\n",
    "    chart=True,\n",
    ")\n",
    "fig.tight_layout()\n",
    "f = io.BytesIO()\n",
    "fig.savefig(f, format=\"svg\")\n",
    "sma = f.getvalue().decode(\"utf-8\")"
   ]
  },
  {
   "cell_type": "code",
   "execution_count": null,
   "id": "5d5089fa",
   "metadata": {},
   "outputs": [],
   "source": [
    "# exponential moving average\n",
    "fig, ax = plt.subplots(figsize=(11, 3), dpi=150)\n",
    "openbb.common.ta.ma(\n",
    "    data=ticker_data[\"Close\"],\n",
    "    ma_type=\"EMA\",\n",
    "    symbol=ticker,\n",
    "    external_axes=[ax],\n",
    "    chart=True,\n",
    ")\n",
    "fig.tight_layout()\n",
    "f = io.BytesIO()\n",
    "fig.savefig(f, format=\"svg\")\n",
    "ema = f.getvalue().decode(\"utf-8\")"
   ]
  },
  {
   "cell_type": "code",
   "execution_count": null,
   "id": "5facfbf4",
   "metadata": {},
   "outputs": [],
   "source": [
    "# zero lag exponential moving average\n",
    "\n",
    "fig, ax = plt.subplots(figsize=(11, 3), dpi=150)\n",
    "openbb.common.ta.ma(\n",
    "    data=ticker_data[\"Close\"],\n",
    "    ma_type=\"ZLMA\",\n",
    "    symbol=ticker,\n",
    "    external_axes=[ax],\n",
    "    chart=True,\n",
    ")\n",
    "fig.tight_layout()\n",
    "f = io.BytesIO()\n",
    "fig.savefig(f, format=\"svg\")\n",
    "zlma = f.getvalue().decode(\"utf-8\")"
   ]
  },
  {
   "cell_type": "code",
   "execution_count": null,
   "id": "df54f7ad",
   "metadata": {},
   "outputs": [],
   "source": [
    "# commodity channel index\n",
    "\n",
    "fig, (ax1, ax2) = plt.subplots(nrows=2, ncols=1, figsize=(11, 5), dpi=150)\n",
    "openbb.common.ta.cci(\n",
    "    data=ticker_data,\n",
    "    symbol=ticker,\n",
    "    external_axes=[ax1, ax2],\n",
    "    chart=True,\n",
    ")\n",
    "fig.tight_layout()\n",
    "f = io.BytesIO()\n",
    "fig.savefig(f, format=\"svg\")\n",
    "cci = f.getvalue().decode(\"utf-8\")"
   ]
  },
  {
   "cell_type": "code",
   "execution_count": null,
   "id": "f53469eb",
   "metadata": {},
   "outputs": [],
   "source": [
    "# moving average convergence/divergence\n",
    "\n",
    "fig, (ax1, ax2) = plt.subplots(nrows=2, ncols=1, figsize=(11, 5), dpi=150)\n",
    "openbb.common.ta.macd(\n",
    "    data=ticker_data[\"Adj Close\"],\n",
    "    symbol=ticker,\n",
    "    external_axes=[ax1, ax2],\n",
    "    chart=True,\n",
    ")\n",
    "fig.tight_layout()\n",
    "f = io.BytesIO()\n",
    "fig.savefig(f, format=\"svg\")\n",
    "macd = f.getvalue().decode(\"utf-8\")"
   ]
  },
  {
   "cell_type": "code",
   "execution_count": null,
   "id": "dd79e6b6",
   "metadata": {},
   "outputs": [],
   "source": [
    "# fisher transform\n",
    "\n",
    "fig, (ax1, ax2) = plt.subplots(nrows=2, ncols=1, figsize=(11, 11), dpi=150)\n",
    "ax3 = ax2.twinx()\n",
    "openbb.common.ta.fisher(\n",
    "    data=ticker_data,\n",
    "    symbol=ticker,\n",
    "    external_axes=[ax1, ax2, ax3],\n",
    "    chart=True,\n",
    ")\n",
    "fig.tight_layout()\n",
    "f = io.BytesIO()\n",
    "fig.savefig(f, format=\"svg\")\n",
    "fisher = f.getvalue().decode(\"utf-8\")"
   ]
  },
  {
   "cell_type": "code",
   "execution_count": null,
   "id": "b699e61f",
   "metadata": {},
   "outputs": [],
   "source": [
    "# aroon indicator\n",
    "\n",
    "fig, (ax1, ax2, ax3) = plt.subplots(nrows=3, ncols=1, figsize=(11, 11), dpi=150)\n",
    "openbb.common.ta.aroon(\n",
    "    data=ticker_data,\n",
    "    symbol=ticker,\n",
    "    external_axes=[ax1, ax2, ax3],\n",
    "    chart=True,\n",
    ")\n",
    "fig.tight_layout()\n",
    "f = io.BytesIO()\n",
    "fig.savefig(f, format=\"svg\")\n",
    "aroon = f.getvalue().decode(\"utf-8\")"
   ]
  },
  {
   "cell_type": "code",
   "execution_count": null,
   "id": "79401027",
   "metadata": {},
   "outputs": [],
   "source": [
    "# bollinger bands\n",
    "\n",
    "fig, ax = plt.subplots(figsize=(11, 3), dpi=150)\n",
    "openbb.common.ta.bbands(\n",
    "    data=ticker_data,\n",
    "    symbol=ticker,\n",
    "    external_axes=[ax],\n",
    "    chart=True,\n",
    ")\n",
    "fig.tight_layout()\n",
    "f = io.BytesIO()\n",
    "fig.savefig(f, format=\"svg\")\n",
    "bbands = f.getvalue().decode(\"utf-8\")"
   ]
  },
  {
   "cell_type": "code",
   "execution_count": null,
   "id": "0b5e2949",
   "metadata": {},
   "outputs": [],
   "source": [
    "# fibonacci retracement\n",
    "\n",
    "fig, ax1 = plt.subplots(figsize=(11, 5), dpi=150)\n",
    "ax2 = ax1.twinx()\n",
    "openbb.common.ta.fib(\n",
    "    data=ticker_data,\n",
    "    symbol=ticker,\n",
    "    external_axes=[ax1, ax2],\n",
    "    chart=True,\n",
    ")\n",
    "fig.tight_layout()\n",
    "f = io.BytesIO()\n",
    "fig.savefig(f, format=\"svg\")\n",
    "fib = f.getvalue().decode(\"utf-8\")"
   ]
  },
  {
   "cell_type": "markdown",
   "id": "48847a7f",
   "metadata": {},
   "source": [
    "## QA"
   ]
  },
  {
   "cell_type": "code",
   "execution_count": null,
   "id": "e77b373b",
   "metadata": {},
   "outputs": [],
   "source": [
    "# summary\n",
    "\n",
    "summary = openbb.common.qa.summary(data=ticker_data)\n",
    "summary"
   ]
  },
  {
   "cell_type": "code",
   "execution_count": null,
   "id": "3ecfc93e",
   "metadata": {},
   "outputs": [],
   "source": [
    "# normality statistics and tests\n",
    "\n",
    "# fig, _ = plt.subplots(figsize=(11, 3), dpi=150)\n",
    "# openbb.common.qa.normality(\n",
    "#     data=ticker_data,\n",
    "#     target=\"Close\",\n",
    "#     chart=True,\n",
    "# )\n",
    "# fig.tight_layout()\n",
    "# f = io.BytesIO()\n",
    "# fig.savefig(f, format=\"svg\")\n",
    "\n",
    "normality = openbb.common.qa.normality(\n",
    "    data=ticker_data[\"Close\"],\n",
    ")\n",
    "normality"
   ]
  },
  {
   "cell_type": "code",
   "execution_count": null,
   "id": "8abe96b0",
   "metadata": {},
   "outputs": [],
   "source": [
    "# box and whisker plot\n",
    "\n",
    "fig, ax = plt.subplots(figsize=(11, 3), dpi=150)\n",
    "openbb.common.qa.bw(\n",
    "    symbol=ticker,\n",
    "    data=ticker_data,\n",
    "    target=\"Close\",\n",
    "    yearly=False,\n",
    "    external_axes=[ax],\n",
    "    chart=True,\n",
    ")\n",
    "fig.tight_layout()\n",
    "f = io.BytesIO()\n",
    "fig.savefig(f, format=\"svg\")\n",
    "bw = f.getvalue().decode(\"utf-8\")"
   ]
  },
  {
   "cell_type": "code",
   "execution_count": null,
   "id": "66a7dccc",
   "metadata": {},
   "outputs": [],
   "source": [
    "# rolling mean and std deviation of prices\n",
    "\n",
    "fig, (ax1, ax2) = plt.subplots(nrows=2, ncols=1, figsize=(11, 5), dpi=150)\n",
    "openbb.common.qa.rolling(\n",
    "    symbol=ticker,\n",
    "    data=ticker_data,\n",
    "    target=\"Close\",\n",
    "    external_axes=[ax1, ax2],\n",
    "    chart=True,\n",
    ")\n",
    "fig.tight_layout()\n",
    "f = io.BytesIO()\n",
    "fig.savefig(f, format=\"svg\")\n",
    "rolling = f.getvalue().decode(\"utf-8\")"
   ]
  },
  {
   "cell_type": "code",
   "execution_count": null,
   "id": "d6b43dd7",
   "metadata": {},
   "outputs": [],
   "source": [
    "# rolling kurtosis of distribution of prices\n",
    "\n",
    "fig, (ax1, ax2) = plt.subplots(nrows=2, ncols=1, figsize=(11, 5), dpi=150)\n",
    "openbb.common.qa.kurtosis(\n",
    "    symbol=ticker,\n",
    "    data=ticker_data,\n",
    "    target=\"Close\",\n",
    "    external_axes=[ax1, ax2],\n",
    "    chart=True,\n",
    ")\n",
    "fig.tight_layout()\n",
    "f = io.BytesIO()\n",
    "fig.savefig(f, format=\"svg\")\n",
    "kurtosis = f.getvalue().decode(\"utf-8\")"
   ]
  },
  {
   "cell_type": "markdown",
   "id": "ebdbebf5",
   "metadata": {},
   "source": [
    "## PRED"
   ]
  },
  {
   "cell_type": "code",
   "execution_count": null,
   "id": "fd5136de",
   "metadata": {},
   "outputs": [],
   "source": [
    "# TODO: add prediction"
   ]
  },
  {
   "cell_type": "markdown",
   "id": "ac501a32-124d-4d21-aae1-a8d147bb1071",
   "metadata": {},
   "source": [
    "## Render the report template to a file"
   ]
  },
  {
   "cell_type": "code",
   "execution_count": null,
   "id": "abfe37e4-ea38-42c3-8fb5-7cceb233fb12",
   "metadata": {},
   "outputs": [],
   "source": [
    "body = \"\"\n",
    "\n",
    "img = \"openbb_terminal/reports/templates/OpenBB_reports_logo.png\"\n",
    "floppy_disk_img = \"openbb_terminal/reports/templates/floppy-disc.png\"\n",
    "body += widgets.header(\n",
    "    img,\n",
    "    floppy_disk_img,\n",
    "    author,\n",
    "    report_date,\n",
    "    report_time,\n",
    "    report_timezone,\n",
    "    f\"<b>INVESTMENT RESEARCH REPORT:</b> {ticker}\",\n",
    ")\n",
    "\n",
    "body += widgets.tablinks(\n",
    "    [\n",
    "        \"SUMMARY\",\n",
    "        \"Due Diligence\",\n",
    "        \"Technical Analysis\",\n",
    "        \"Quantitative Analysis\",\n",
    "    ]\n",
    ")\n",
    "\n",
    "comment = \"\"\n",
    "\n",
    "# Summary tab\n",
    "htmlcode = \"\"\n",
    "htmlcode += widgets.row(\n",
    "    [widgets.h(3, \"Basic information about loaded coin\") + basic_info.to_html()]\n",
    ")\n",
    "if not links.empty:\n",
    "    htmlcode += widgets.row([widgets.h(3, \"Links\") + links.to_html(escape=False)])\n",
    "\n",
    "htmlcode += widgets.row([widgets.h(3, \"Published news\") + news.to_html(escape=False)])\n",
    "# htmlcode += widgets.row([widgets.h(3, \"Altindex\")])\n",
    "# htmlcode += widgets.row([altindex])\n",
    "\n",
    "htmlcode += widgets.row([widgets.h(3, \"Historical data\")])\n",
    "for data in historical_data:\n",
    "    htmlcode += widgets.row([data])\n",
    "\n",
    "htmlcode += widgets.row([widgets.h(3, \"1-year historical data candlestick chart\")])\n",
    "htmlcode += widgets.row([candle_one_year])\n",
    "htmlcode += widgets.row([widgets.h(3, \"Sentiment analysis\")])\n",
    "htmlcode += widgets.row([headlines])\n",
    "# TODO: print rich table\n",
    "# htmlcode += widgets.row([widgets.h(3, \"Quick performance\")])\n",
    "# htmlcode += widgets.row([quick_performance])\n",
    "body += widgets.add_tab(\"SUMMARY\", htmlcode)\n",
    "\n",
    "# # Due diligence tab\n",
    "htmlcode = \"\"\n",
    "htmlcode += widgets.row(\n",
    "    [widgets.h(3, f\"Trading pair info {ticker}/USDT\") + trading_pair_info.to_html()]\n",
    ")\n",
    "if not mcapdom_df.empty:\n",
    "    htmlcode += widgets.row([widgets.h(3, \"Market cap dominance\")])\n",
    "    htmlcode += widgets.row([mcapdom])\n",
    "\n",
    "if not roadmap_model.empty:\n",
    "    htmlcode += widgets.row([widgets.h(3, \"Roadmap\") + roadmap_model.to_html()])\n",
    "    htmlcode += widgets.row([roadmap_view])\n",
    "\n",
    "if not tokenomics_model.empty:\n",
    "    htmlcode += widgets.row([widgets.h(3, \"Tokenomics\") + tokenomics_model.to_html()])\n",
    "    htmlcode += widgets.row([tokenomics_view])\n",
    "\n",
    "if not fundraise_df.empty:\n",
    "    htmlcode += widgets.row([widgets.h(3, \"Fundraising Details\")])\n",
    "    htmlcode += widgets.row([widgets.p(fundraise_info)])\n",
    "    htmlcode += widgets.row([fundraise_df.to_html()])\n",
    "\n",
    "if not ath.empty:\n",
    "    htmlcode += widgets.row([widgets.h(3, \"All time high\")])\n",
    "    htmlcode += widgets.row([ath.to_html()])\n",
    "\n",
    "if not atl.empty:\n",
    "    htmlcode += widgets.row([widgets.h(3, \"All time low\")])\n",
    "    htmlcode += widgets.row([atl.to_html()])\n",
    "\n",
    "htmlcode += widgets.row([widgets.h(3, \"All markets\")])\n",
    "htmlcode += widgets.row([market.sample(n=20).sort_index().to_html(escape=False)])\n",
    "htmlcode += widgets.row([widgets.h(3, \"Exchanges where loaded coin is listed\")])\n",
    "htmlcode += widgets.row([ex.sample(n=20).sort_index().to_html()])\n",
    "htmlcode += widgets.row([widgets.h(3, \"Last trades\")])\n",
    "htmlcode += widgets.row([trades.tail(20).to_html()])\n",
    "\n",
    "if order_book_raw:\n",
    "    htmlcode += widgets.row([widgets.h(3, \"Order book\")])\n",
    "    htmlcode += widgets.row([order_book])\n",
    "\n",
    "htmlcode += widgets.row(\n",
    "    [widgets.h(3, \"Price and supply related metrics for loaded coin\")]\n",
    ")\n",
    "htmlcode += widgets.row([ps.to_html()])\n",
    "if not events.empty:\n",
    "    htmlcode += widgets.row([widgets.h(3, \"Events\")])\n",
    "    htmlcode += widgets.row([events.to_html(escape=False)])\n",
    "# TODO: print rich table\n",
    "# htmlcode += widgets.row([widgets.h(3, \"Tweets for loaded coin\")])\n",
    "# htmlcode += widgets.row([tweets])\n",
    "# htmlcode += widgets.row([widgets.h(3, \"Social media\")])\n",
    "# htmlcode += widgets.row([social.to_html()])\n",
    "if not gh_data.empty:\n",
    "    htmlcode += widgets.row([widgets.h(3, \"Github activity over time\")])\n",
    "    htmlcode += widgets.row([gh])\n",
    "else:\n",
    "    htmlcode += widgets.row([widgets.h(3, \"Github activity over time\")])\n",
    "    htmlcode += widgets.row([widgets.p(\"No data available.\")])\n",
    "\n",
    "body += widgets.add_tab(\"Due Diligence\", htmlcode)\n",
    "\n",
    "# Technical Analysis tab\n",
    "htmlcode = \"\"\n",
    "htmlcode = widgets.row([widgets.h(3, \"Simple moving average\")])\n",
    "htmlcode += widgets.row([sma])\n",
    "htmlcode += widgets.row([widgets.h(3, \"Exponential moving average\")])\n",
    "htmlcode += widgets.row([ema])\n",
    "htmlcode += widgets.row([widgets.h(3, \"Zero lag exponential moving average\")])\n",
    "htmlcode += widgets.row([zlma])\n",
    "htmlcode += widgets.row([widgets.h(3, \"Commodity channel index\")])\n",
    "htmlcode += widgets.row([cci])\n",
    "htmlcode += widgets.row([widgets.h(3, \"Moving average convergence/divergence\")])\n",
    "htmlcode += widgets.row([macd])\n",
    "htmlcode += widgets.row([widgets.h(3, \"Fisher transform\")])\n",
    "htmlcode += widgets.row([fisher])\n",
    "htmlcode += widgets.row([widgets.h(3, \"Aroon indicator\")])\n",
    "htmlcode += widgets.row([aroon])\n",
    "htmlcode += widgets.row([widgets.h(3, \"Bollinger bands\")])\n",
    "htmlcode += widgets.row([bbands])\n",
    "htmlcode += widgets.row([widgets.h(3, \"Fibonacci retracement\")])\n",
    "htmlcode += widgets.row([fib])\n",
    "body += widgets.add_tab(\"Technical Analysis\", htmlcode)\n",
    "\n",
    "# Quantitative Analysis tab\n",
    "htmlcode = \"\"\n",
    "htmlcode = widgets.row([widgets.h(3, \"Summary\") + summary.to_html()])\n",
    "htmlcode += widgets.row(\n",
    "    [widgets.h(3, \"Normality statistics and tests\") + normality.to_html()]\n",
    ")\n",
    "htmlcode += widgets.row([widgets.h(3, \"Box and whisker plot\")])\n",
    "htmlcode += widgets.row([bw])\n",
    "htmlcode += widgets.row([widgets.h(3, \"Rolling mean and std deviation of prices\")])\n",
    "htmlcode += widgets.row([rolling])\n",
    "htmlcode += widgets.row([widgets.h(3, \"Rolling kurtosis of distribution of prices\")])\n",
    "htmlcode += widgets.row([kurtosis])\n",
    "body += widgets.add_tab(\"Quantitative Analysis\", htmlcode)\n",
    "\n",
    "body += widgets.tab_clickable_and_save_evt()\n",
    "report = widgets.html_report(title=report_name, stylesheet=stylesheet, body=body)\n",
    "\n",
    "# # to save the results\n",
    "with open(report_name + \".html\", \"w\", encoding=\"utf-8\") as fh:\n",
    "    fh.write(report)"
   ]
  },
  {
   "cell_type": "code",
   "execution_count": null,
   "id": "746a3e56",
   "metadata": {},
   "outputs": [],
   "source": []
  }
 ],
 "metadata": {
  "celltoolbar": "Tags",
  "kernelspec": {
   "display_name": "Python 3.9.13 ('obb')",
   "language": "python",
   "name": "python3"
  },
  "language_info": {
   "codemirror_mode": {
    "name": "ipython",
    "version": 3
   },
   "file_extension": ".py",
   "mimetype": "text/x-python",
   "name": "python",
   "nbconvert_exporter": "python",
   "pygments_lexer": "ipython3",
   "version": "3.9.13"
  },
  "vscode": {
   "interpreter": {
    "hash": "e784374cc4f9a84ed6af2983247aaf351b155c82bcc2188134a65f3c99031000"
   }
  }
 },
 "nbformat": 4,
 "nbformat_minor": 5
}
