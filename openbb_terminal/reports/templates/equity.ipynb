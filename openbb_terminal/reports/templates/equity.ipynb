{
 "cells": [
  {
   "cell_type": "markdown",
   "id": "70ba2c8a",
   "metadata": {},
   "source": [
    "## Notebook setup\n"
   ]
  },
  {
   "cell_type": "code",
   "execution_count": 2,
   "id": "driven-billion",
   "metadata": {},
   "outputs": [],
   "source": [
    "import warnings\n",
    "import datetime\n",
    "import numpy as np\n",
    "import pandas as pd\n",
    "\n",
    "from IPython.display import HTML\n",
    "\n",
    "from openbb_terminal import config_terminal as cfg\n",
    "from openbb_terminal.helper_classes import TerminalStyle\n",
    "from openbb_terminal.core.config.paths import REPOSITORY_DIRECTORY\n",
    "from openbb_terminal import OpenBBFigure\n",
    "from openbb_terminal.core.plots.plotly_ta.ta_class import PlotlyTA\n",
    "\n",
    "warnings.filterwarnings(\"ignore\")"
   ]
  },
  {
   "cell_type": "code",
   "execution_count": 3,
   "id": "150e5103",
   "metadata": {},
   "outputs": [
    {
     "data": {
      "text/html": [
       "<pre style=\"white-space:pre;overflow-x:auto;line-height:normal;font-family:Menlo,'DejaVu Sans Mono',consolas,'Courier New',monospace\"><span style=\"color: #800000; text-decoration-color: #800000\">Error: Failed to create session.</span>\n",
       "\n",
       "</pre>\n"
      ],
      "text/plain": [
       "\u001b[31mError: Failed to create session.\u001b[0m\n",
       "\n"
      ]
     },
     "metadata": {},
     "output_type": "display_data"
    },
    {
     "name": "stderr",
     "output_type": "stream",
     "text": [
      "Exception: Failed to create session.\n",
      "Traceback (most recent call last):\n",
      "  File \"C:\\Users\\Andrew\\Desktop\\openbb-good\\OpenBBTerminal\\openbb_terminal\\decorators.py\", line 71, in wrapper\n",
      "    value = func(*args, **kwargs)\n",
      "  File \"C:\\Users\\Andrew\\Desktop\\openbb-good\\OpenBBTerminal\\openbb_terminal\\core\\session\\sdk_session.py\", line 67, in login\n",
      "    session = get_session(email, password, token, keep_session)\n",
      "  File \"C:\\Users\\Andrew\\Desktop\\openbb-good\\OpenBBTerminal\\openbb_terminal\\core\\session\\sdk_session.py\", line 30, in get_session\n",
      "    raise Exception(\"Failed to create session.\")\n",
      "Exception: Failed to create session.\n"
     ]
    }
   ],
   "source": [
    "# Suppressing sdk logs\n",
    "from openbb_terminal.core.session.current_system import set_system_variable\n",
    "\n",
    "set_system_variable(\"LOGGING_SUPPRESS\", True)\n",
    "\n",
    "# Import the OpenBB SDK\n",
    "from openbb_terminal.sdk import openbb, widgets"
   ]
  },
  {
   "cell_type": "code",
   "execution_count": 4,
   "id": "cf31bcc7",
   "metadata": {},
   "outputs": [],
   "source": [
    "from openbb_terminal.core.session.current_user import get_current_user\n",
    "\n",
    "user = get_current_user()\n",
    "\n",
    "cfg.theme = TerminalStyle(\n",
    "    user.preferences.MPL_STYLE,\n",
    "    user.preferences.PMF_STYLE,\n",
    "    user.preferences.RICH_STYLE,\n",
    ")"
   ]
  },
  {
   "cell_type": "code",
   "execution_count": 5,
   "id": "c3fe7db5-ec6a-42cf-9e66-52dc1de22370",
   "metadata": {},
   "outputs": [],
   "source": [
    "stylesheet = widgets.html_report_stylesheet()"
   ]
  },
  {
   "attachments": {},
   "cell_type": "markdown",
   "id": "807fda4e",
   "metadata": {},
   "source": [
    "## Select symbol\n"
   ]
  },
  {
   "cell_type": "code",
   "execution_count": 6,
   "id": "intended-sherman",
   "metadata": {
    "tags": [
     "parameters"
    ]
   },
   "outputs": [],
   "source": [
    "# Parameters that will be replaced when calling this notebook\n",
    "# Do not leave parameters blank as notebook will not run otherwise\n",
    "symbol = \"MSFT\"\n",
    "report_name = f\"Equity report for {symbol}\""
   ]
  },
  {
   "cell_type": "code",
   "execution_count": 7,
   "id": "a441ddbc-d75b-4a18-84d4-e01b677674d3",
   "metadata": {},
   "outputs": [],
   "source": [
    "if \".\" in symbol:\n",
    "    import sys\n",
    "\n",
    "    sys.exit(0)\n",
    "symbol = symbol.upper()"
   ]
  },
  {
   "cell_type": "code",
   "execution_count": 8,
   "id": "1be26dae-cafe-4a22-80aa-eff296fc1a9b",
   "metadata": {},
   "outputs": [
    {
     "data": {
      "text/html": [
       "<pre style=\"white-space:pre;overflow-x:auto;line-height:normal;font-family:Menlo,'DejaVu Sans Mono',consolas,'Courier New',monospace\">Loading Daily data for WINT with starting period 2021-10-25.\n",
       "</pre>\n"
      ],
      "text/plain": [
       "Loading Daily data for WINT with starting period 2021-10-25.\n"
      ]
     },
     "metadata": {},
     "output_type": "display_data"
    },
    {
     "data": {
      "text/plain": [
       "('Investment Research Report on WINT',\n",
       " '17 April, 2023',\n",
       " '15:33',\n",
       " datetime.timezone(datetime.timedelta(days=-1, seconds=72000), 'Eastern Daylight Time'))"
      ]
     },
     "execution_count": 8,
     "metadata": {},
     "output_type": "execute_result"
    }
   ],
   "source": [
    "ticker_data = openbb.stocks.load(\n",
    "    symbol=symbol, start_date=datetime.datetime.now() - datetime.timedelta(days=18 * 30)\n",
    ")\n",
    "ticker_data = openbb.stocks.process_candle(data=ticker_data)\n",
    "\n",
    "author = \"\"\n",
    "report_title = f\"Investment Research Report on {symbol.upper()}\"\n",
    "report_date = datetime.datetime.now().strftime(\"%d %B, %Y\")\n",
    "report_time = datetime.datetime.now().strftime(\"%H:%M\")\n",
    "report_timezone = datetime.datetime.now(datetime.timezone.utc).astimezone().tzinfo\n",
    "report_title, report_date, report_time, report_timezone"
   ]
  },
  {
   "cell_type": "code",
   "execution_count": 9,
   "id": "e3b15d6f-dc9e-4f97-aa07-37d949a4e4bb",
   "metadata": {},
   "outputs": [],
   "source": [
    "info = openbb.stocks.fa.data(symbol=symbol).transpose()\n",
    "\n",
    "info \n",
    "try:\n",
    "    company_name = info['Company'][0]\n",
    "except:\n",
    "    company_name = \"N/A\"\n",
    "try:\n",
    "    company_sector = info['Sector'][0]\n",
    "except:\n",
    "    company_sector = \"N/A\"\n",
    "\n",
    "try:    \n",
    "    company_industry = info['Industry'][0]\n",
    "except:\n",
    "    company_industry = \"N/A\"\n",
    "\n",
    "\n",
    "overview = [company_name, company_sector, company_industry]\n"
   ]
  },
  {
   "cell_type": "markdown",
   "id": "f8a0d747",
   "metadata": {},
   "source": [
    "## Data\n"
   ]
  },
  {
   "cell_type": "code",
   "execution_count": 10,
   "id": "aca4b6ef",
   "metadata": {},
   "outputs": [
    {
     "data": {
      "text/html": [
       "<div>\n",
       "<style scoped>\n",
       "    .dataframe tbody tr th:only-of-type {\n",
       "        vertical-align: middle;\n",
       "    }\n",
       "\n",
       "    .dataframe tbody tr th {\n",
       "        vertical-align: top;\n",
       "    }\n",
       "\n",
       "    .dataframe thead th {\n",
       "        text-align: right;\n",
       "    }\n",
       "</style>\n",
       "<table border=\"1\" class=\"dataframe\">\n",
       "  <thead>\n",
       "    <tr style=\"text-align: right;\">\n",
       "      <th></th>\n",
       "    </tr>\n",
       "  </thead>\n",
       "  <tbody>\n",
       "  </tbody>\n",
       "</table>\n",
       "</div>"
      ],
      "text/plain": [
       "Empty DataFrame\n",
       "Columns: []\n",
       "Index: []"
      ]
     },
     "execution_count": 10,
     "metadata": {},
     "output_type": "execute_result"
    }
   ],
   "source": [
    "(\n",
    "    df_year_estimates,\n",
    "    df_quarter_earnings,\n",
    "    df_quarter_revenues,\n",
    ") = openbb.stocks.fa.est(symbol=symbol)\n",
    "df_quarter_revenues"
   ]
  },
  {
   "cell_type": "code",
   "execution_count": 11,
   "id": "c0f0a1ca",
   "metadata": {},
   "outputs": [],
   "source": [
    "display_year = sorted(df_year_estimates.columns.tolist())[:3]\n",
    "df_year_estimates = df_year_estimates[display_year].head(5)"
   ]
  },
  {
   "cell_type": "code",
   "execution_count": 12,
   "id": "6976c1d5",
   "metadata": {},
   "outputs": [],
   "source": [
    "tables = openbb.etf.news(info[\"Short name\"][0], 5) if \"Short name\" in info else symbol\n",
    "\n",
    "for table in tables:\n",
    "    if not isinstance(table, pd.DataFrame):\n",
    "        continue\n",
    "\n",
    "    table[0].loc[\"link\"] = (\n",
    "        table[0].loc[\"link\"].apply(lambda x: f'<a href=\"{x}\">{x}</a>')\n",
    "    )"
   ]
  },
  {
   "cell_type": "code",
   "execution_count": 13,
   "id": "38e38d7c",
   "metadata": {},
   "outputs": [
    {
     "data": {
      "text/html": [
       "<div>\n",
       "<style scoped>\n",
       "    .dataframe tbody tr th:only-of-type {\n",
       "        vertical-align: middle;\n",
       "    }\n",
       "\n",
       "    .dataframe tbody tr th {\n",
       "        vertical-align: top;\n",
       "    }\n",
       "\n",
       "    .dataframe thead th {\n",
       "        text-align: right;\n",
       "    }\n",
       "</style>\n",
       "<table border=\"1\" class=\"dataframe\">\n",
       "  <thead>\n",
       "    <tr style=\"text-align: right;\">\n",
       "      <th></th>\n",
       "      <th>0</th>\n",
       "    </tr>\n",
       "  </thead>\n",
       "  <tbody>\n",
       "    <tr>\n",
       "      <th>Symbol</th>\n",
       "      <td>WINT</td>\n",
       "    </tr>\n",
       "    <tr>\n",
       "      <th>Name</th>\n",
       "      <td>Windtree Therapeutics, Inc.</td>\n",
       "    </tr>\n",
       "    <tr>\n",
       "      <th>Price</th>\n",
       "      <td>9.37</td>\n",
       "    </tr>\n",
       "    <tr>\n",
       "      <th>Changes percentage</th>\n",
       "      <td>116.3972</td>\n",
       "    </tr>\n",
       "    <tr>\n",
       "      <th>Change</th>\n",
       "      <td>5.04</td>\n",
       "    </tr>\n",
       "    <tr>\n",
       "      <th>Day low</th>\n",
       "      <td>4.7</td>\n",
       "    </tr>\n",
       "    <tr>\n",
       "      <th>Day high</th>\n",
       "      <td>18.48</td>\n",
       "    </tr>\n",
       "    <tr>\n",
       "      <th>Year high</th>\n",
       "      <td>71.5</td>\n",
       "    </tr>\n",
       "    <tr>\n",
       "      <th>Year low</th>\n",
       "      <td>4.28</td>\n",
       "    </tr>\n",
       "    <tr>\n",
       "      <th>Market cap</th>\n",
       "      <td>8.517 M</td>\n",
       "    </tr>\n",
       "    <tr>\n",
       "      <th>Price avg50</th>\n",
       "      <td>6.1102</td>\n",
       "    </tr>\n",
       "    <tr>\n",
       "      <th>Price avg200</th>\n",
       "      <td>12.21505</td>\n",
       "    </tr>\n",
       "    <tr>\n",
       "      <th>Exchange</th>\n",
       "      <td>NASDAQ</td>\n",
       "    </tr>\n",
       "    <tr>\n",
       "      <th>Volume</th>\n",
       "      <td>11.453 M</td>\n",
       "    </tr>\n",
       "    <tr>\n",
       "      <th>Avg volume</th>\n",
       "      <td>149950</td>\n",
       "    </tr>\n",
       "    <tr>\n",
       "      <th>Open</th>\n",
       "      <td>4.75</td>\n",
       "    </tr>\n",
       "    <tr>\n",
       "      <th>Previous close</th>\n",
       "      <td>4.33</td>\n",
       "    </tr>\n",
       "    <tr>\n",
       "      <th>Eps</th>\n",
       "      <td>-60.3</td>\n",
       "    </tr>\n",
       "    <tr>\n",
       "      <th>Pe</th>\n",
       "      <td>-0.16</td>\n",
       "    </tr>\n",
       "    <tr>\n",
       "      <th>Earnings announcement</th>\n",
       "      <td>2023-05-03 10:59:00</td>\n",
       "    </tr>\n",
       "    <tr>\n",
       "      <th>Shares outstanding</th>\n",
       "      <td>909.013 K</td>\n",
       "    </tr>\n",
       "    <tr>\n",
       "      <th>Timestamp</th>\n",
       "      <td>2023-04-17 15:32:55</td>\n",
       "    </tr>\n",
       "  </tbody>\n",
       "</table>\n",
       "</div>"
      ],
      "text/plain": [
       "                                                 0\n",
       "Symbol                                        WINT\n",
       "Name                   Windtree Therapeutics, Inc.\n",
       "Price                                         9.37\n",
       "Changes percentage                        116.3972\n",
       "Change                                        5.04\n",
       "Day low                                        4.7\n",
       "Day high                                     18.48\n",
       "Year high                                     71.5\n",
       "Year low                                      4.28\n",
       "Market cap                                 8.517 M\n",
       "Price avg50                                 6.1102\n",
       "Price avg200                              12.21505\n",
       "Exchange                                    NASDAQ\n",
       "Volume                                    11.453 M\n",
       "Avg volume                                  149950\n",
       "Open                                          4.75\n",
       "Previous close                                4.33\n",
       "Eps                                          -60.3\n",
       "Pe                                           -0.16\n",
       "Earnings announcement          2023-05-03 10:59:00\n",
       "Shares outstanding                       909.013 K\n",
       "Timestamp                      2023-04-17 15:32:55"
      ]
     },
     "execution_count": 13,
     "metadata": {},
     "output_type": "execute_result"
    }
   ],
   "source": [
    "quote_data = openbb.stocks.quote(symbol)\n",
    "quote_data"
   ]
  },
  {
   "cell_type": "code",
   "execution_count": 14,
   "id": "fde46353",
   "metadata": {},
   "outputs": [
    {
     "data": {
      "text/html": [
       "<div>\n",
       "<style scoped>\n",
       "    .dataframe tbody tr th:only-of-type {\n",
       "        vertical-align: middle;\n",
       "    }\n",
       "\n",
       "    .dataframe tbody tr th {\n",
       "        vertical-align: top;\n",
       "    }\n",
       "\n",
       "    .dataframe thead th {\n",
       "        text-align: right;\n",
       "    }\n",
       "</style>\n",
       "<table border=\"1\" class=\"dataframe\">\n",
       "  <thead>\n",
       "    <tr style=\"text-align: right;\">\n",
       "      <th></th>\n",
       "      <th>Holder</th>\n",
       "      <th>Shares</th>\n",
       "      <th>Date Reported</th>\n",
       "      <th>Stake</th>\n",
       "      <th>Value</th>\n",
       "    </tr>\n",
       "  </thead>\n",
       "  <tbody>\n",
       "    <tr>\n",
       "      <th>1</th>\n",
       "      <td>Renaissance Technologies, LLC</td>\n",
       "      <td>6.714 K</td>\n",
       "      <td>2022-12-30</td>\n",
       "      <td>0.74 %</td>\n",
       "      <td>62.910 K</td>\n",
       "    </tr>\n",
       "    <tr>\n",
       "      <th>2</th>\n",
       "      <td>Envestnet Asset Management</td>\n",
       "      <td>4.245 K</td>\n",
       "      <td>2022-12-30</td>\n",
       "      <td>0.47 %</td>\n",
       "      <td>39.775 K</td>\n",
       "    </tr>\n",
       "    <tr>\n",
       "      <th>3</th>\n",
       "      <td>PVG Asset Management Corp</td>\n",
       "      <td>3.741 K</td>\n",
       "      <td>2022-12-30</td>\n",
       "      <td>0.41 %</td>\n",
       "      <td>35.053 K</td>\n",
       "    </tr>\n",
       "    <tr>\n",
       "      <th>4</th>\n",
       "      <td>Vanguard Group, Inc. (The)</td>\n",
       "      <td>3.365 K</td>\n",
       "      <td>2022-12-30</td>\n",
       "      <td>0.37 %</td>\n",
       "      <td>31.530 K</td>\n",
       "    </tr>\n",
       "    <tr>\n",
       "      <th>5</th>\n",
       "      <td>Geode Capital Management, LLC</td>\n",
       "      <td>3.175 K</td>\n",
       "      <td>2022-12-30</td>\n",
       "      <td>0.35 %</td>\n",
       "      <td>29.749 K</td>\n",
       "    </tr>\n",
       "    <tr>\n",
       "      <th>6</th>\n",
       "      <td>Skandinaviska Enskilda Banken AB publ</td>\n",
       "      <td>2.210 K</td>\n",
       "      <td>2022-12-30</td>\n",
       "      <td>0.24 %</td>\n",
       "      <td>20.707 K</td>\n",
       "    </tr>\n",
       "    <tr>\n",
       "      <th>7</th>\n",
       "      <td>Millennium Management Llc</td>\n",
       "      <td>1.688 K</td>\n",
       "      <td>2022-12-30</td>\n",
       "      <td>0.19 %</td>\n",
       "      <td>15.816 K</td>\n",
       "    </tr>\n",
       "    <tr>\n",
       "      <th>8</th>\n",
       "      <td>Northern Trust Corporation</td>\n",
       "      <td>1.004 K</td>\n",
       "      <td>2022-12-30</td>\n",
       "      <td>0.11 %</td>\n",
       "      <td>9.407 K</td>\n",
       "    </tr>\n",
       "    <tr>\n",
       "      <th>9</th>\n",
       "      <td>Advisor Group, Inc.</td>\n",
       "      <td>927</td>\n",
       "      <td>2022-12-30</td>\n",
       "      <td>0.10 %</td>\n",
       "      <td>8.685 K</td>\n",
       "    </tr>\n",
       "    <tr>\n",
       "      <th>10</th>\n",
       "      <td>HRT Financial LP</td>\n",
       "      <td>660</td>\n",
       "      <td>2022-12-30</td>\n",
       "      <td>0.07 %</td>\n",
       "      <td>6.184 K</td>\n",
       "    </tr>\n",
       "  </tbody>\n",
       "</table>\n",
       "</div>"
      ],
      "text/plain": [
       "                                   Holder   Shares Date Reported   Stake  \\\n",
       "1           Renaissance Technologies, LLC  6.714 K    2022-12-30  0.74 %   \n",
       "2              Envestnet Asset Management  4.245 K    2022-12-30  0.47 %   \n",
       "3               PVG Asset Management Corp  3.741 K    2022-12-30  0.41 %   \n",
       "4              Vanguard Group, Inc. (The)  3.365 K    2022-12-30  0.37 %   \n",
       "5           Geode Capital Management, LLC  3.175 K    2022-12-30  0.35 %   \n",
       "6   Skandinaviska Enskilda Banken AB publ  2.210 K    2022-12-30  0.24 %   \n",
       "7               Millennium Management Llc  1.688 K    2022-12-30  0.19 %   \n",
       "8              Northern Trust Corporation  1.004 K    2022-12-30  0.11 %   \n",
       "9                     Advisor Group, Inc.      927    2022-12-30  0.10 %   \n",
       "10                       HRT Financial LP      660    2022-12-30  0.07 %   \n",
       "\n",
       "       Value  \n",
       "1   62.910 K  \n",
       "2   39.775 K  \n",
       "3   35.053 K  \n",
       "4   31.530 K  \n",
       "5   29.749 K  \n",
       "6   20.707 K  \n",
       "7   15.816 K  \n",
       "8    9.407 K  \n",
       "9    8.685 K  \n",
       "10   6.184 K  "
      ]
     },
     "execution_count": 14,
     "metadata": {},
     "output_type": "execute_result"
    }
   ],
   "source": [
    "df_institutional_shareholders = openbb.stocks.fa.shrs(symbol, holder=\"institutional\")\n",
    "df_institutional_shareholders.index += 1\n",
    "df_institutional_shareholders"
   ]
  },
  {
   "cell_type": "code",
   "execution_count": 15,
   "id": "e101e24e",
   "metadata": {},
   "outputs": [
    {
     "data": {
      "text/html": [
       "<div>\n",
       "<style scoped>\n",
       "    .dataframe tbody tr th:only-of-type {\n",
       "        vertical-align: middle;\n",
       "    }\n",
       "\n",
       "    .dataframe tbody tr th {\n",
       "        vertical-align: top;\n",
       "    }\n",
       "\n",
       "    .dataframe thead th {\n",
       "        text-align: right;\n",
       "    }\n",
       "</style>\n",
       "<table border=\"1\" class=\"dataframe\">\n",
       "  <thead>\n",
       "    <tr style=\"text-align: right;\">\n",
       "      <th></th>\n",
       "      <th>Holder</th>\n",
       "      <th>Shares</th>\n",
       "      <th>Date Reported</th>\n",
       "      <th>Stake</th>\n",
       "      <th>Value</th>\n",
       "    </tr>\n",
       "  </thead>\n",
       "  <tbody>\n",
       "    <tr>\n",
       "      <th>0</th>\n",
       "      <td>Renaissance Technologies, LLC</td>\n",
       "      <td>6.714 K</td>\n",
       "      <td>2022-12-30</td>\n",
       "      <td>0.74 %</td>\n",
       "      <td>62.910 K</td>\n",
       "    </tr>\n",
       "    <tr>\n",
       "      <th>1</th>\n",
       "      <td>Envestnet Asset Management</td>\n",
       "      <td>4.245 K</td>\n",
       "      <td>2022-12-30</td>\n",
       "      <td>0.47 %</td>\n",
       "      <td>39.775 K</td>\n",
       "    </tr>\n",
       "    <tr>\n",
       "      <th>2</th>\n",
       "      <td>PVG Asset Management Corp</td>\n",
       "      <td>3.741 K</td>\n",
       "      <td>2022-12-30</td>\n",
       "      <td>0.41 %</td>\n",
       "      <td>35.053 K</td>\n",
       "    </tr>\n",
       "    <tr>\n",
       "      <th>3</th>\n",
       "      <td>Vanguard Group, Inc. (The)</td>\n",
       "      <td>3.365 K</td>\n",
       "      <td>2022-12-30</td>\n",
       "      <td>0.37 %</td>\n",
       "      <td>31.530 K</td>\n",
       "    </tr>\n",
       "    <tr>\n",
       "      <th>4</th>\n",
       "      <td>Geode Capital Management, LLC</td>\n",
       "      <td>3.175 K</td>\n",
       "      <td>2022-12-30</td>\n",
       "      <td>0.35 %</td>\n",
       "      <td>29.749 K</td>\n",
       "    </tr>\n",
       "    <tr>\n",
       "      <th>5</th>\n",
       "      <td>Skandinaviska Enskilda Banken AB publ</td>\n",
       "      <td>2.210 K</td>\n",
       "      <td>2022-12-30</td>\n",
       "      <td>0.24 %</td>\n",
       "      <td>20.707 K</td>\n",
       "    </tr>\n",
       "    <tr>\n",
       "      <th>6</th>\n",
       "      <td>Millennium Management Llc</td>\n",
       "      <td>1.688 K</td>\n",
       "      <td>2022-12-30</td>\n",
       "      <td>0.19 %</td>\n",
       "      <td>15.816 K</td>\n",
       "    </tr>\n",
       "    <tr>\n",
       "      <th>7</th>\n",
       "      <td>Northern Trust Corporation</td>\n",
       "      <td>1.004 K</td>\n",
       "      <td>2022-12-30</td>\n",
       "      <td>0.11 %</td>\n",
       "      <td>9.407 K</td>\n",
       "    </tr>\n",
       "    <tr>\n",
       "      <th>8</th>\n",
       "      <td>Advisor Group, Inc.</td>\n",
       "      <td>927</td>\n",
       "      <td>2022-12-30</td>\n",
       "      <td>0.10 %</td>\n",
       "      <td>8.685 K</td>\n",
       "    </tr>\n",
       "    <tr>\n",
       "      <th>9</th>\n",
       "      <td>HRT Financial LP</td>\n",
       "      <td>660</td>\n",
       "      <td>2022-12-30</td>\n",
       "      <td>0.07 %</td>\n",
       "      <td>6.184 K</td>\n",
       "    </tr>\n",
       "  </tbody>\n",
       "</table>\n",
       "</div>"
      ],
      "text/plain": [
       "                                  Holder   Shares Date Reported   Stake  \\\n",
       "0          Renaissance Technologies, LLC  6.714 K    2022-12-30  0.74 %   \n",
       "1             Envestnet Asset Management  4.245 K    2022-12-30  0.47 %   \n",
       "2              PVG Asset Management Corp  3.741 K    2022-12-30  0.41 %   \n",
       "3             Vanguard Group, Inc. (The)  3.365 K    2022-12-30  0.37 %   \n",
       "4          Geode Capital Management, LLC  3.175 K    2022-12-30  0.35 %   \n",
       "5  Skandinaviska Enskilda Banken AB publ  2.210 K    2022-12-30  0.24 %   \n",
       "6              Millennium Management Llc  1.688 K    2022-12-30  0.19 %   \n",
       "7             Northern Trust Corporation  1.004 K    2022-12-30  0.11 %   \n",
       "8                    Advisor Group, Inc.      927    2022-12-30  0.10 %   \n",
       "9                       HRT Financial LP      660    2022-12-30  0.07 %   \n",
       "\n",
       "      Value  \n",
       "0  62.910 K  \n",
       "1  39.775 K  \n",
       "2  35.053 K  \n",
       "3  31.530 K  \n",
       "4  29.749 K  \n",
       "5  20.707 K  \n",
       "6  15.816 K  \n",
       "7   9.407 K  \n",
       "8   8.685 K  \n",
       "9   6.184 K  "
      ]
     },
     "execution_count": 15,
     "metadata": {},
     "output_type": "execute_result"
    }
   ],
   "source": [
    "openbb.stocks.fa.shrs(symbol)"
   ]
  },
  {
   "cell_type": "code",
   "execution_count": 16,
   "id": "51dfd9d2",
   "metadata": {},
   "outputs": [
    {
     "data": {
      "text/html": [
       "<div>\n",
       "<style scoped>\n",
       "    .dataframe tbody tr th:only-of-type {\n",
       "        vertical-align: middle;\n",
       "    }\n",
       "\n",
       "    .dataframe tbody tr th {\n",
       "        vertical-align: top;\n",
       "    }\n",
       "\n",
       "    .dataframe thead th {\n",
       "        text-align: right;\n",
       "    }\n",
       "</style>\n",
       "<table border=\"1\" class=\"dataframe\">\n",
       "  <thead>\n",
       "    <tr style=\"text-align: right;\">\n",
       "      <th></th>\n",
       "      <th>Holder</th>\n",
       "      <th>Shares</th>\n",
       "      <th>Date Reported</th>\n",
       "      <th>Stake</th>\n",
       "      <th>Value</th>\n",
       "    </tr>\n",
       "  </thead>\n",
       "  <tbody>\n",
       "    <tr>\n",
       "      <th>1</th>\n",
       "      <td>Renaissance Technologies, LLC</td>\n",
       "      <td>6.714 K</td>\n",
       "      <td>2022-12-30</td>\n",
       "      <td>0.74 %</td>\n",
       "      <td>62.910 K</td>\n",
       "    </tr>\n",
       "    <tr>\n",
       "      <th>2</th>\n",
       "      <td>Envestnet Asset Management</td>\n",
       "      <td>4.245 K</td>\n",
       "      <td>2022-12-30</td>\n",
       "      <td>0.47 %</td>\n",
       "      <td>39.775 K</td>\n",
       "    </tr>\n",
       "    <tr>\n",
       "      <th>3</th>\n",
       "      <td>PVG Asset Management Corp</td>\n",
       "      <td>3.741 K</td>\n",
       "      <td>2022-12-30</td>\n",
       "      <td>0.41 %</td>\n",
       "      <td>35.053 K</td>\n",
       "    </tr>\n",
       "    <tr>\n",
       "      <th>4</th>\n",
       "      <td>Vanguard Group, Inc. (The)</td>\n",
       "      <td>3.365 K</td>\n",
       "      <td>2022-12-30</td>\n",
       "      <td>0.37 %</td>\n",
       "      <td>31.530 K</td>\n",
       "    </tr>\n",
       "    <tr>\n",
       "      <th>5</th>\n",
       "      <td>Geode Capital Management, LLC</td>\n",
       "      <td>3.175 K</td>\n",
       "      <td>2022-12-30</td>\n",
       "      <td>0.35 %</td>\n",
       "      <td>29.749 K</td>\n",
       "    </tr>\n",
       "    <tr>\n",
       "      <th>6</th>\n",
       "      <td>Skandinaviska Enskilda Banken AB publ</td>\n",
       "      <td>2.210 K</td>\n",
       "      <td>2022-12-30</td>\n",
       "      <td>0.24 %</td>\n",
       "      <td>20.707 K</td>\n",
       "    </tr>\n",
       "    <tr>\n",
       "      <th>7</th>\n",
       "      <td>Millennium Management Llc</td>\n",
       "      <td>1.688 K</td>\n",
       "      <td>2022-12-30</td>\n",
       "      <td>0.19 %</td>\n",
       "      <td>15.816 K</td>\n",
       "    </tr>\n",
       "    <tr>\n",
       "      <th>8</th>\n",
       "      <td>Northern Trust Corporation</td>\n",
       "      <td>1.004 K</td>\n",
       "      <td>2022-12-30</td>\n",
       "      <td>0.11 %</td>\n",
       "      <td>9.407 K</td>\n",
       "    </tr>\n",
       "    <tr>\n",
       "      <th>9</th>\n",
       "      <td>Advisor Group, Inc.</td>\n",
       "      <td>927</td>\n",
       "      <td>2022-12-30</td>\n",
       "      <td>0.10 %</td>\n",
       "      <td>8.685 K</td>\n",
       "    </tr>\n",
       "    <tr>\n",
       "      <th>10</th>\n",
       "      <td>HRT Financial LP</td>\n",
       "      <td>660</td>\n",
       "      <td>2022-12-30</td>\n",
       "      <td>0.07 %</td>\n",
       "      <td>6.184 K</td>\n",
       "    </tr>\n",
       "  </tbody>\n",
       "</table>\n",
       "</div>"
      ],
      "text/plain": [
       "                                   Holder   Shares Date Reported   Stake  \\\n",
       "1           Renaissance Technologies, LLC  6.714 K    2022-12-30  0.74 %   \n",
       "2              Envestnet Asset Management  4.245 K    2022-12-30  0.47 %   \n",
       "3               PVG Asset Management Corp  3.741 K    2022-12-30  0.41 %   \n",
       "4              Vanguard Group, Inc. (The)  3.365 K    2022-12-30  0.37 %   \n",
       "5           Geode Capital Management, LLC  3.175 K    2022-12-30  0.35 %   \n",
       "6   Skandinaviska Enskilda Banken AB publ  2.210 K    2022-12-30  0.24 %   \n",
       "7               Millennium Management Llc  1.688 K    2022-12-30  0.19 %   \n",
       "8              Northern Trust Corporation  1.004 K    2022-12-30  0.11 %   \n",
       "9                     Advisor Group, Inc.      927    2022-12-30  0.10 %   \n",
       "10                       HRT Financial LP      660    2022-12-30  0.07 %   \n",
       "\n",
       "       Value  \n",
       "1   62.910 K  \n",
       "2   39.775 K  \n",
       "3   35.053 K  \n",
       "4   31.530 K  \n",
       "5   29.749 K  \n",
       "6   20.707 K  \n",
       "7   15.816 K  \n",
       "8    9.407 K  \n",
       "9    8.685 K  \n",
       "10   6.184 K  "
      ]
     },
     "execution_count": 16,
     "metadata": {},
     "output_type": "execute_result"
    }
   ],
   "source": [
    "df_institutional_shareholders = openbb.stocks.fa.shrs(symbol)\n",
    "df_institutional_shareholders.index += 1\n",
    "df_institutional_shareholders"
   ]
  },
  {
   "cell_type": "code",
   "execution_count": 17,
   "id": "3022130e",
   "metadata": {},
   "outputs": [
    {
     "data": {
      "text/html": [
       "<div>\n",
       "<style scoped>\n",
       "    .dataframe tbody tr th:only-of-type {\n",
       "        vertical-align: middle;\n",
       "    }\n",
       "\n",
       "    .dataframe tbody tr th {\n",
       "        vertical-align: top;\n",
       "    }\n",
       "\n",
       "    .dataframe thead th {\n",
       "        text-align: right;\n",
       "    }\n",
       "</style>\n",
       "<table border=\"1\" class=\"dataframe\">\n",
       "  <thead>\n",
       "    <tr style=\"text-align: right;\">\n",
       "      <th></th>\n",
       "      <th>Company Name</th>\n",
       "      <th>Reporting Owner</th>\n",
       "      <th>Form Type</th>\n",
       "      <th>Period</th>\n",
       "    </tr>\n",
       "    <tr>\n",
       "      <th>Filed</th>\n",
       "      <th></th>\n",
       "      <th></th>\n",
       "      <th></th>\n",
       "      <th></th>\n",
       "    </tr>\n",
       "  </thead>\n",
       "  <tbody>\n",
       "    <tr>\n",
       "      <th>04/13/2023</th>\n",
       "      <td>Windtree Therapeutics Inc.</td>\n",
       "      <td></td>\n",
       "      <td>FWP</td>\n",
       "      <td></td>\n",
       "    </tr>\n",
       "    <tr>\n",
       "      <th>04/13/2023</th>\n",
       "      <td>Windtree Therapeutics Inc.</td>\n",
       "      <td></td>\n",
       "      <td>S-1/A</td>\n",
       "      <td></td>\n",
       "    </tr>\n",
       "    <tr>\n",
       "      <th>04/07/2023</th>\n",
       "      <td>Windtree Therapeutics Inc.</td>\n",
       "      <td></td>\n",
       "      <td>8-K</td>\n",
       "      <td>04/06/2023</td>\n",
       "    </tr>\n",
       "    <tr>\n",
       "      <th>04/07/2023</th>\n",
       "      <td>Windtree Therapeutics Inc.</td>\n",
       "      <td></td>\n",
       "      <td>S-1/A</td>\n",
       "      <td></td>\n",
       "    </tr>\n",
       "    <tr>\n",
       "      <th>04/03/2023</th>\n",
       "      <td>Windtree Therapeutics Inc.</td>\n",
       "      <td></td>\n",
       "      <td>8-K</td>\n",
       "      <td>04/03/2023</td>\n",
       "    </tr>\n",
       "  </tbody>\n",
       "</table>\n",
       "</div>"
      ],
      "text/plain": [
       "                          Company Name Reporting Owner Form Type      Period\n",
       "Filed                                                                       \n",
       "04/13/2023  Windtree Therapeutics Inc.                       FWP            \n",
       "04/13/2023  Windtree Therapeutics Inc.                     S-1/A            \n",
       "04/07/2023  Windtree Therapeutics Inc.                       8-K  04/06/2023\n",
       "04/07/2023  Windtree Therapeutics Inc.                     S-1/A            \n",
       "04/03/2023  Windtree Therapeutics Inc.                       8-K  04/03/2023"
      ]
     },
     "execution_count": 17,
     "metadata": {},
     "output_type": "execute_result"
    }
   ],
   "source": [
    "df_sec_filings = openbb.stocks.fa.sec(symbol)[\n",
    "    [\"Company Name\", \"Reporting Owner\", \"Form Type\", \"Period\"]\n",
    "].head(5)\n",
    "df_sec_filings"
   ]
  },
  {
   "cell_type": "code",
   "execution_count": 18,
   "id": "4662b1ac",
   "metadata": {},
   "outputs": [
    {
     "name": "stdout",
     "output_type": "stream",
     "text": [
      "             category             analyst rating  target\n",
      "date                                                    \n",
      "2020-06-26  Initiated  Ladenburg Thalmann    Buy   12.25\n"
     ]
    },
    {
     "data": {
      "text/html": [
       "<div>\n",
       "<style scoped>\n",
       "    .dataframe tbody tr th:only-of-type {\n",
       "        vertical-align: middle;\n",
       "    }\n",
       "\n",
       "    .dataframe tbody tr th {\n",
       "        vertical-align: top;\n",
       "    }\n",
       "\n",
       "    .dataframe thead th {\n",
       "        text-align: right;\n",
       "    }\n",
       "</style>\n",
       "<table border=\"1\" class=\"dataframe\">\n",
       "  <thead>\n",
       "    <tr style=\"text-align: right;\">\n",
       "      <th></th>\n",
       "      <th>Category</th>\n",
       "      <th>Analyst</th>\n",
       "      <th>Rating</th>\n",
       "      <th>Price Target</th>\n",
       "    </tr>\n",
       "    <tr>\n",
       "      <th>date</th>\n",
       "      <th></th>\n",
       "      <th></th>\n",
       "      <th></th>\n",
       "      <th></th>\n",
       "    </tr>\n",
       "  </thead>\n",
       "  <tbody>\n",
       "    <tr>\n",
       "      <th>2020-06-26</th>\n",
       "      <td>Initiated</td>\n",
       "      <td>Ladenburg Thalmann</td>\n",
       "      <td>Buy</td>\n",
       "      <td>12.25</td>\n",
       "    </tr>\n",
       "  </tbody>\n",
       "</table>\n",
       "</div>"
      ],
      "text/plain": [
       "             Category             Analyst Rating  Price Target\n",
       "date                                                          \n",
       "2020-06-26  Initiated  Ladenburg Thalmann    Buy         12.25"
      ]
     },
     "execution_count": 18,
     "metadata": {},
     "output_type": "execute_result"
    }
   ],
   "source": [
    "df_analyst = openbb.stocks.fa.analyst(symbol=symbol)\n",
    "print(df_analyst)\n",
    "if not df_analyst.empty:\n",
    "    if \"target\" in df_analyst.columns:\n",
    "        if \"target_to\" in df_analyst.columns:\n",
    "            df_analyst[\"target\"] = df_analyst[\"target_to\"].combine_first(\n",
    "                df_analyst[\"target\"]\n",
    "            )\n",
    "        else:\n",
    "            df_analyst[\"target\"] = df_analyst[\"target\"]\n",
    "        df_analyst = df_analyst[[\"category\", \"analyst\", \"rating\", \"target\"]].rename(\n",
    "            columns={\n",
    "                \"category\": \"Category\",\n",
    "                \"analyst\": \"Analyst\",\n",
    "                \"rating\": \"Rating\",\n",
    "                \"target\": \"Price Target\",\n",
    "            }\n",
    "        )\n",
    "df_analyst"
   ]
  },
  {
   "cell_type": "code",
   "execution_count": 19,
   "id": "df8bdb7d",
   "metadata": {},
   "outputs": [
    {
     "data": {
      "text/html": [
       "<div>\n",
       "<style scoped>\n",
       "    .dataframe tbody tr th:only-of-type {\n",
       "        vertical-align: middle;\n",
       "    }\n",
       "\n",
       "    .dataframe tbody tr th {\n",
       "        vertical-align: top;\n",
       "    }\n",
       "\n",
       "    .dataframe thead th {\n",
       "        text-align: right;\n",
       "    }\n",
       "</style>\n",
       "<table border=\"1\" class=\"dataframe\">\n",
       "  <thead>\n",
       "    <tr style=\"text-align: right;\">\n",
       "      <th></th>\n",
       "      <th>Rating</th>\n",
       "      <th>DCF</th>\n",
       "      <th>ROE</th>\n",
       "      <th>ROA</th>\n",
       "      <th>DE</th>\n",
       "      <th>PE</th>\n",
       "      <th>PB</th>\n",
       "    </tr>\n",
       "    <tr>\n",
       "      <th>date</th>\n",
       "      <th></th>\n",
       "      <th></th>\n",
       "      <th></th>\n",
       "      <th></th>\n",
       "      <th></th>\n",
       "      <th></th>\n",
       "      <th></th>\n",
       "    </tr>\n",
       "  </thead>\n",
       "  <tbody>\n",
       "    <tr>\n",
       "      <th>2023-04-14</th>\n",
       "      <td>Buy</td>\n",
       "      <td>Strong Buy</td>\n",
       "      <td>Sell</td>\n",
       "      <td>Neutral</td>\n",
       "      <td>Buy</td>\n",
       "      <td>Sell</td>\n",
       "      <td>Buy</td>\n",
       "    </tr>\n",
       "    <tr>\n",
       "      <th>2023-04-13</th>\n",
       "      <td>Buy</td>\n",
       "      <td>Strong Buy</td>\n",
       "      <td>Sell</td>\n",
       "      <td>Neutral</td>\n",
       "      <td>Buy</td>\n",
       "      <td>Sell</td>\n",
       "      <td>Buy</td>\n",
       "    </tr>\n",
       "    <tr>\n",
       "      <th>2023-04-12</th>\n",
       "      <td>Buy</td>\n",
       "      <td>Strong Buy</td>\n",
       "      <td>Sell</td>\n",
       "      <td>Neutral</td>\n",
       "      <td>Buy</td>\n",
       "      <td>Sell</td>\n",
       "      <td>Buy</td>\n",
       "    </tr>\n",
       "    <tr>\n",
       "      <th>2023-04-10</th>\n",
       "      <td>Buy</td>\n",
       "      <td>Strong Buy</td>\n",
       "      <td>Sell</td>\n",
       "      <td>Neutral</td>\n",
       "      <td>Buy</td>\n",
       "      <td>Sell</td>\n",
       "      <td>Buy</td>\n",
       "    </tr>\n",
       "    <tr>\n",
       "      <th>2023-03-31</th>\n",
       "      <td>Buy</td>\n",
       "      <td>Strong Buy</td>\n",
       "      <td>Sell</td>\n",
       "      <td>Neutral</td>\n",
       "      <td>Buy</td>\n",
       "      <td>Sell</td>\n",
       "      <td>Buy</td>\n",
       "    </tr>\n",
       "    <tr>\n",
       "      <th>...</th>\n",
       "      <td>...</td>\n",
       "      <td>...</td>\n",
       "      <td>...</td>\n",
       "      <td>...</td>\n",
       "      <td>...</td>\n",
       "      <td>...</td>\n",
       "      <td>...</td>\n",
       "    </tr>\n",
       "    <tr>\n",
       "      <th>2020-08-24</th>\n",
       "      <td>Buy</td>\n",
       "      <td>Strong Buy</td>\n",
       "      <td>Neutral</td>\n",
       "      <td>Neutral</td>\n",
       "      <td>Buy</td>\n",
       "      <td>Strong Sell</td>\n",
       "      <td>Buy</td>\n",
       "    </tr>\n",
       "    <tr>\n",
       "      <th>2020-08-21</th>\n",
       "      <td>Buy</td>\n",
       "      <td>Strong Buy</td>\n",
       "      <td>Neutral</td>\n",
       "      <td>Neutral</td>\n",
       "      <td>Buy</td>\n",
       "      <td>Strong Sell</td>\n",
       "      <td>Buy</td>\n",
       "    </tr>\n",
       "    <tr>\n",
       "      <th>2020-08-20</th>\n",
       "      <td>Buy</td>\n",
       "      <td>Strong Buy</td>\n",
       "      <td>Neutral</td>\n",
       "      <td>Neutral</td>\n",
       "      <td>Buy</td>\n",
       "      <td>Strong Sell</td>\n",
       "      <td>Buy</td>\n",
       "    </tr>\n",
       "    <tr>\n",
       "      <th>2020-08-19</th>\n",
       "      <td>Buy</td>\n",
       "      <td>Strong Buy</td>\n",
       "      <td>Neutral</td>\n",
       "      <td>Neutral</td>\n",
       "      <td>Buy</td>\n",
       "      <td>Strong Sell</td>\n",
       "      <td>Buy</td>\n",
       "    </tr>\n",
       "    <tr>\n",
       "      <th>2020-08-18</th>\n",
       "      <td>Buy</td>\n",
       "      <td>Strong Buy</td>\n",
       "      <td>Neutral</td>\n",
       "      <td>Neutral</td>\n",
       "      <td>Buy</td>\n",
       "      <td>Strong Sell</td>\n",
       "      <td>Buy</td>\n",
       "    </tr>\n",
       "  </tbody>\n",
       "</table>\n",
       "<p>650 rows × 7 columns</p>\n",
       "</div>"
      ],
      "text/plain": [
       "           Rating         DCF      ROE      ROA   DE           PE   PB\n",
       "date                                                                  \n",
       "2023-04-14    Buy  Strong Buy     Sell  Neutral  Buy         Sell  Buy\n",
       "2023-04-13    Buy  Strong Buy     Sell  Neutral  Buy         Sell  Buy\n",
       "2023-04-12    Buy  Strong Buy     Sell  Neutral  Buy         Sell  Buy\n",
       "2023-04-10    Buy  Strong Buy     Sell  Neutral  Buy         Sell  Buy\n",
       "2023-03-31    Buy  Strong Buy     Sell  Neutral  Buy         Sell  Buy\n",
       "...           ...         ...      ...      ...  ...          ...  ...\n",
       "2020-08-24    Buy  Strong Buy  Neutral  Neutral  Buy  Strong Sell  Buy\n",
       "2020-08-21    Buy  Strong Buy  Neutral  Neutral  Buy  Strong Sell  Buy\n",
       "2020-08-20    Buy  Strong Buy  Neutral  Neutral  Buy  Strong Sell  Buy\n",
       "2020-08-19    Buy  Strong Buy  Neutral  Neutral  Buy  Strong Sell  Buy\n",
       "2020-08-18    Buy  Strong Buy  Neutral  Neutral  Buy  Strong Sell  Buy\n",
       "\n",
       "[650 rows x 7 columns]"
      ]
     },
     "execution_count": 19,
     "metadata": {},
     "output_type": "execute_result"
    }
   ],
   "source": [
    "df_rating = openbb.stocks.fa.rating(symbol)\n",
    "df_rating"
   ]
  },
  {
   "cell_type": "code",
   "execution_count": 20,
   "id": "d0df953b",
   "metadata": {},
   "outputs": [],
   "source": [
    "pcr_chart = openbb.stocks.options.pcr_chart(symbol, window=30, external_axes=True)\n",
    "\n",
    "if pcr_chart:\n",
    "    pcr_chart = pcr_chart.to_html()"
   ]
  },
  {
   "cell_type": "code",
   "execution_count": 21,
   "id": "bd79195c",
   "metadata": {},
   "outputs": [
    {
     "data": {
      "text/html": [
       "<pre style=\"white-space:pre;overflow-x:auto;line-height:normal;font-family:Menlo,'DejaVu Sans Mono',consolas,'Courier New',monospace\"><span style=\"color: #800000; text-decoration-color: #800000\">Error: 'NoneType' object is not subscriptable</span>\n",
       "\n",
       "</pre>\n"
      ],
      "text/plain": [
       "\u001b[31mError: 'NoneType' object is not subscriptable\u001b[0m\n",
       "\n"
      ]
     },
     "metadata": {},
     "output_type": "display_data"
    },
    {
     "name": "stderr",
     "output_type": "stream",
     "text": [
      "Exception: 'NoneType' object is not subscriptable\n",
      "Traceback (most recent call last):\n",
      "  File \"C:\\Users\\Andrew\\Desktop\\openbb-good\\OpenBBTerminal\\openbb_terminal\\decorators.py\", line 71, in wrapper\n",
      "    value = func(*args, **kwargs)\n",
      "  File \"C:\\Users\\Andrew\\Desktop\\openbb-good\\OpenBBTerminal\\openbb_terminal\\stocks\\options\\nasdaq_model.py\", line 107, in get_full_option_chain\n",
      "    return process_response(response_json)\n",
      "  File \"C:\\Users\\Andrew\\Desktop\\openbb-good\\OpenBBTerminal\\openbb_terminal\\stocks\\options\\nasdaq_model.py\", line 114, in process_response\n",
      "    df = pd.DataFrame(response_json[\"data\"][\"table\"][\"rows\"]).drop(\n",
      "TypeError: 'NoneType' object is not subscriptable\n"
     ]
    },
    {
     "data": {
      "text/html": [
       "<pre style=\"white-space:pre;overflow-x:auto;line-height:normal;font-family:Menlo,'DejaVu Sans Mono',consolas,'Courier New',monospace\"><span style=\"color: #800000; text-decoration-color: #800000\">Error: 'list' object has no attribute 'empty'</span>\n",
       "\n",
       "</pre>\n"
      ],
      "text/plain": [
       "\u001b[31mError: 'list' object has no attribute 'empty'\u001b[0m\n",
       "\n"
      ]
     },
     "metadata": {},
     "output_type": "display_data"
    },
    {
     "name": "stderr",
     "output_type": "stream",
     "text": [
      "Exception: 'list' object has no attribute 'empty'\n",
      "Traceback (most recent call last):\n",
      "  File \"C:\\Users\\Andrew\\Desktop\\openbb-good\\OpenBBTerminal\\openbb_terminal\\decorators.py\", line 71, in wrapper\n",
      "    value = func(*args, **kwargs)\n",
      "  File \"C:\\Users\\Andrew\\Desktop\\openbb-good\\OpenBBTerminal\\openbb_terminal\\stocks\\options\\nasdaq_model.py\", line 180, in option_expirations\n",
      "    if df.empty:\n",
      "AttributeError: 'list' object has no attribute 'empty'\n"
     ]
    },
    {
     "data": {
      "text/html": [
       "<pre style=\"white-space:pre;overflow-x:auto;line-height:normal;font-family:Menlo,'DejaVu Sans Mono',consolas,'Courier New',monospace\">Invalid Source or Symbol\n",
       "</pre>\n"
      ],
      "text/plain": [
       "Invalid Source or Symbol\n"
      ]
     },
     "metadata": {},
     "output_type": "display_data"
    }
   ],
   "source": [
    "expiry_dates = openbb.stocks.options.expirations(symbol)\n",
    "\n",
    "if expiry_dates:\n",
    "    exp = expiry_dates[0]\n",
    "    option_chain = openbb.stocks.options.chains(symbol, expiration=exp)\n",
    "    current_price = float(ticker_data[\"Adj Close\"][-1])"
   ]
  },
  {
   "cell_type": "code",
   "execution_count": 22,
   "id": "ad6d0c24",
   "metadata": {},
   "outputs": [],
   "source": [
    "if expiry_dates:\n",
    "    vol_chart = openbb.stocks.options.vol(\n",
    "        option_chain, current_price, symbol, exp, external_axes=True\n",
    "    )\n",
    "\n",
    "    if vol_chart:\n",
    "        vol_chart = vol_chart.to_html()\n",
    "\n",
    "    voi_chart = openbb.stocks.options.voi(\n",
    "        option_chain, current_price, symbol, exp, external_axes=True\n",
    "    )\n",
    "\n",
    "    if voi_chart:\n",
    "        voi_chart = voi_chart.to_html()"
   ]
  },
  {
   "cell_type": "code",
   "execution_count": 23,
   "id": "324e2d4b-b2f6-4da3-bac4-ef785ad4e436",
   "metadata": {},
   "outputs": [],
   "source": [
    "net_short_position = openbb.stocks.dps.spos_chart(\n",
    "    symbol=symbol,\n",
    "    limit=84,\n",
    "    raw=False,\n",
    "    export=\"\",\n",
    "    external_axes=True,\n",
    ")\n",
    "\n",
    "if net_short_position:\n",
    "    net_short_position = net_short_position.to_html()"
   ]
  },
  {
   "cell_type": "code",
   "execution_count": 24,
   "id": "ac0bfbda-e4b8-4b3b-b8e7-c02639fdb971",
   "metadata": {},
   "outputs": [],
   "source": [
    "dark_pools = openbb.stocks.dps.dpotc_chart(symbol=symbol, external_axes=True)\n",
    "\n",
    "if dark_pools:\n",
    "    dark_pools = dark_pools.to_html()"
   ]
  },
  {
   "cell_type": "code",
   "execution_count": 25,
   "id": "22a7266f",
   "metadata": {},
   "outputs": [
    {
     "data": {
      "text/html": [
       "<pre style=\"white-space:pre;overflow-x:auto;line-height:normal;font-family:Menlo,'DejaVu Sans Mono',consolas,'Courier New',monospace\">No congress trading data found\n",
       "\n",
       "</pre>\n"
      ],
      "text/plain": [
       "No congress trading data found\n",
       "\n"
      ]
     },
     "metadata": {},
     "output_type": "display_data"
    }
   ],
   "source": [
    "gtrades_chart = openbb.stocks.gov.gtrades_chart(\n",
    "    symbol,\n",
    "    past_transactions_months=12,\n",
    "    external_axes=True,\n",
    ")\n",
    "\n",
    "if gtrades_chart:\n",
    "    gtrades_chart = gtrades_chart.to_html()"
   ]
  },
  {
   "cell_type": "code",
   "execution_count": 26,
   "id": "4c670ba3",
   "metadata": {},
   "outputs": [
    {
     "data": {
      "text/html": [
       "<pre style=\"white-space:pre;overflow-x:auto;line-height:normal;font-family:Menlo,'DejaVu Sans Mono',consolas,'Courier New',monospace\">No government contracts found\n",
       "\n",
       "</pre>\n"
      ],
      "text/plain": [
       "No government contracts found\n",
       "\n"
      ]
     },
     "metadata": {},
     "output_type": "display_data"
    }
   ],
   "source": [
    "gov_contracts_chart = openbb.stocks.gov.contracts_chart(\n",
    "    symbol,\n",
    "    past_transaction_days=365,\n",
    "    external_axes=True,\n",
    ")\n",
    "\n",
    "if gov_contracts_chart:\n",
    "    gov_contracts_chart = gov_contracts_chart.to_html()"
   ]
  },
  {
   "cell_type": "code",
   "execution_count": 27,
   "id": "caa3dae2",
   "metadata": {},
   "outputs": [],
   "source": [
    "google_mentions_chart = openbb.stocks.ba.mentions_chart(\n",
    "    symbol,\n",
    "    external_axes=True,\n",
    ")\n",
    "\n",
    "if google_mentions_chart:\n",
    "    google_mentions_chart = google_mentions_chart.to_html()"
   ]
  },
  {
   "cell_type": "code",
   "execution_count": 28,
   "id": "b77e60d8",
   "metadata": {},
   "outputs": [],
   "source": [
    "google_regions_chart = openbb.stocks.ba.regions_chart(\n",
    "    symbol,\n",
    "    limit=10,\n",
    "    external_axes=True,\n",
    ")\n",
    "\n",
    "if google_regions_chart:\n",
    "    google_regions_chart = google_regions_chart.to_html()"
   ]
  },
  {
   "cell_type": "code",
   "execution_count": 29,
   "id": "78593369",
   "metadata": {},
   "outputs": [],
   "source": [
    "similar_companies = openbb.stocks.ca.similar(symbol, source=\"Polygon\")\n",
    "if similar_companies:\n",
    "    similar_companies.append(symbol)"
   ]
  },
  {
   "cell_type": "code",
   "execution_count": 30,
   "id": "4639665b",
   "metadata": {},
   "outputs": [
    {
     "data": {
      "text/html": [
       "<pre style=\"white-space:pre;overflow-x:auto;line-height:normal;font-family:Menlo,'DejaVu Sans Mono',consolas,'Courier New',monospace\"><span style=\"color: #800000; text-decoration-color: #800000\">Error: No objects to concatenate</span>\n",
       "\n",
       "</pre>\n"
      ],
      "text/plain": [
       "\u001b[31mError: No objects to concatenate\u001b[0m\n",
       "\n"
      ]
     },
     "metadata": {},
     "output_type": "display_data"
    },
    {
     "name": "stderr",
     "output_type": "stream",
     "text": [
      "Exception: No objects to concatenate\n",
      "Traceback (most recent call last):\n",
      "  File \"c:\\Users\\Andrew\\Desktop\\openbb-good\\OpenBBTerminal\\venv\\lib\\site-packages\\yfinance\\multi.py\", line 164, in download\n",
      "    data = _pd.concat(shared._DFS.values(), axis=1, sort=True,\n",
      "  File \"c:\\Users\\Andrew\\Desktop\\openbb-good\\OpenBBTerminal\\venv\\lib\\site-packages\\pandas\\util\\_decorators.py\", line 331, in wrapper\n",
      "    return func(*args, **kwargs)\n",
      "  File \"c:\\Users\\Andrew\\Desktop\\openbb-good\\OpenBBTerminal\\venv\\lib\\site-packages\\pandas\\core\\reshape\\concat.py\", line 368, in concat\n",
      "    op = _Concatenator(\n",
      "  File \"c:\\Users\\Andrew\\Desktop\\openbb-good\\OpenBBTerminal\\venv\\lib\\site-packages\\pandas\\core\\reshape\\concat.py\", line 425, in __init__\n",
      "    raise ValueError(\"No objects to concatenate\")\n",
      "ValueError: No objects to concatenate\n",
      "\n",
      "During handling of the above exception, another exception occurred:\n",
      "\n",
      "Traceback (most recent call last):\n",
      "  File \"C:\\Users\\Andrew\\Desktop\\openbb-good\\OpenBBTerminal\\openbb_terminal\\decorators.py\", line 71, in wrapper\n",
      "    value = func(*args, **kwargs)\n",
      "  File \"C:\\Users\\Andrew\\Desktop\\openbb-good\\OpenBBTerminal\\openbb_terminal\\stocks\\comparison_analysis\\yahoo_finance_model.py\", line 82, in get_historical\n",
      "    similar_tickers_dataframe = yf.download(\n",
      "  File \"c:\\Users\\Andrew\\Desktop\\openbb-good\\OpenBBTerminal\\venv\\lib\\site-packages\\yfinance\\multi.py\", line 168, in download\n",
      "    data = _pd.concat(shared._DFS.values(), axis=1, sort=True,\n",
      "  File \"c:\\Users\\Andrew\\Desktop\\openbb-good\\OpenBBTerminal\\venv\\lib\\site-packages\\pandas\\util\\_decorators.py\", line 331, in wrapper\n",
      "    return func(*args, **kwargs)\n",
      "  File \"c:\\Users\\Andrew\\Desktop\\openbb-good\\OpenBBTerminal\\venv\\lib\\site-packages\\pandas\\core\\reshape\\concat.py\", line 368, in concat\n",
      "    op = _Concatenator(\n",
      "  File \"c:\\Users\\Andrew\\Desktop\\openbb-good\\OpenBBTerminal\\venv\\lib\\site-packages\\pandas\\core\\reshape\\concat.py\", line 425, in __init__\n",
      "    raise ValueError(\"No objects to concatenate\")\n",
      "ValueError: No objects to concatenate\n"
     ]
    },
    {
     "data": {
      "text/html": [
       "<pre style=\"white-space:pre;overflow-x:auto;line-height:normal;font-family:Menlo,'DejaVu Sans Mono',consolas,'Courier New',monospace\"><span style=\"color: #800000; text-decoration-color: #800000\">Error: 'list' object has no attribute 'columns'</span>\n",
       "\n",
       "</pre>\n"
      ],
      "text/plain": [
       "\u001b[31mError: 'list' object has no attribute 'columns'\u001b[0m\n",
       "\n"
      ]
     },
     "metadata": {},
     "output_type": "display_data"
    },
    {
     "name": "stderr",
     "output_type": "stream",
     "text": [
      "Exception: 'list' object has no attribute 'columns'\n",
      "Traceback (most recent call last):\n",
      "  File \"C:\\Users\\Andrew\\Desktop\\openbb-good\\OpenBBTerminal\\openbb_terminal\\decorators.py\", line 71, in wrapper\n",
      "    value = func(*args, **kwargs)\n",
      "  File \"C:\\Users\\Andrew\\Desktop\\openbb-good\\OpenBBTerminal\\openbb_terminal\\stocks\\comparison_analysis\\yahoo_finance_view.py\", line 84, in display_historical\n",
      "    for ticker in df_similar.columns:\n",
      "AttributeError: 'list' object has no attribute 'columns'\n"
     ]
    }
   ],
   "source": [
    "historical_similar = openbb.stocks.ca.hist_chart(\n",
    "    similar_companies,\n",
    "    external_axes=True,\n",
    "    normalize=False,\n",
    ")\n",
    "\n",
    "if historical_similar:\n",
    "    historical_similar = historical_similar.to_html()"
   ]
  },
  {
   "cell_type": "code",
   "execution_count": 31,
   "id": "74565e53",
   "metadata": {},
   "outputs": [
    {
     "data": {
      "text/html": [
       "<pre style=\"white-space:pre;overflow-x:auto;line-height:normal;font-family:Menlo,'DejaVu Sans Mono',consolas,'Courier New',monospace\"><span style=\"color: #800000; text-decoration-color: #800000\">Error: No objects to concatenate</span>\n",
       "\n",
       "</pre>\n"
      ],
      "text/plain": [
       "\u001b[31mError: No objects to concatenate\u001b[0m\n",
       "\n"
      ]
     },
     "metadata": {},
     "output_type": "display_data"
    },
    {
     "name": "stderr",
     "output_type": "stream",
     "text": [
      "Exception: No objects to concatenate\n",
      "Traceback (most recent call last):\n",
      "  File \"c:\\Users\\Andrew\\Desktop\\openbb-good\\OpenBBTerminal\\venv\\lib\\site-packages\\yfinance\\multi.py\", line 164, in download\n",
      "    data = _pd.concat(shared._DFS.values(), axis=1, sort=True,\n",
      "  File \"c:\\Users\\Andrew\\Desktop\\openbb-good\\OpenBBTerminal\\venv\\lib\\site-packages\\pandas\\util\\_decorators.py\", line 331, in wrapper\n",
      "    return func(*args, **kwargs)\n",
      "  File \"c:\\Users\\Andrew\\Desktop\\openbb-good\\OpenBBTerminal\\venv\\lib\\site-packages\\pandas\\core\\reshape\\concat.py\", line 368, in concat\n",
      "    op = _Concatenator(\n",
      "  File \"c:\\Users\\Andrew\\Desktop\\openbb-good\\OpenBBTerminal\\venv\\lib\\site-packages\\pandas\\core\\reshape\\concat.py\", line 425, in __init__\n",
      "    raise ValueError(\"No objects to concatenate\")\n",
      "ValueError: No objects to concatenate\n",
      "\n",
      "During handling of the above exception, another exception occurred:\n",
      "\n",
      "Traceback (most recent call last):\n",
      "  File \"C:\\Users\\Andrew\\Desktop\\openbb-good\\OpenBBTerminal\\openbb_terminal\\decorators.py\", line 71, in wrapper\n",
      "    value = func(*args, **kwargs)\n",
      "  File \"C:\\Users\\Andrew\\Desktop\\openbb-good\\OpenBBTerminal\\openbb_terminal\\stocks\\comparison_analysis\\yahoo_finance_model.py\", line 82, in get_historical\n",
      "    similar_tickers_dataframe = yf.download(\n",
      "  File \"c:\\Users\\Andrew\\Desktop\\openbb-good\\OpenBBTerminal\\venv\\lib\\site-packages\\yfinance\\multi.py\", line 168, in download\n",
      "    data = _pd.concat(shared._DFS.values(), axis=1, sort=True,\n",
      "  File \"c:\\Users\\Andrew\\Desktop\\openbb-good\\OpenBBTerminal\\venv\\lib\\site-packages\\pandas\\util\\_decorators.py\", line 331, in wrapper\n",
      "    return func(*args, **kwargs)\n",
      "  File \"c:\\Users\\Andrew\\Desktop\\openbb-good\\OpenBBTerminal\\venv\\lib\\site-packages\\pandas\\core\\reshape\\concat.py\", line 368, in concat\n",
      "    op = _Concatenator(\n",
      "  File \"c:\\Users\\Andrew\\Desktop\\openbb-good\\OpenBBTerminal\\venv\\lib\\site-packages\\pandas\\core\\reshape\\concat.py\", line 425, in __init__\n",
      "    raise ValueError(\"No objects to concatenate\")\n",
      "ValueError: No objects to concatenate\n"
     ]
    },
    {
     "data": {
      "text/html": [
       "<pre style=\"white-space:pre;overflow-x:auto;line-height:normal;font-family:Menlo,'DejaVu Sans Mono',consolas,'Courier New',monospace\"><span style=\"color: #800000; text-decoration-color: #800000\">Error: 'list' object has no attribute 'corr'</span>\n",
       "\n",
       "</pre>\n"
      ],
      "text/plain": [
       "\u001b[31mError: 'list' object has no attribute 'corr'\u001b[0m\n",
       "\n"
      ]
     },
     "metadata": {},
     "output_type": "display_data"
    },
    {
     "name": "stderr",
     "output_type": "stream",
     "text": [
      "Exception: 'list' object has no attribute 'corr'\n",
      "Traceback (most recent call last):\n",
      "  File \"C:\\Users\\Andrew\\Desktop\\openbb-good\\OpenBBTerminal\\openbb_terminal\\decorators.py\", line 71, in wrapper\n",
      "    value = func(*args, **kwargs)\n",
      "  File \"C:\\Users\\Andrew\\Desktop\\openbb-good\\OpenBBTerminal\\openbb_terminal\\stocks\\comparison_analysis\\yahoo_finance_model.py\", line 149, in get_correlation\n",
      "    correlations = df_similar.corr()\n",
      "AttributeError: 'list' object has no attribute 'corr'\n"
     ]
    },
    {
     "data": {
      "text/html": [
       "<pre style=\"white-space:pre;overflow-x:auto;line-height:normal;font-family:Menlo,'DejaVu Sans Mono',consolas,'Courier New',monospace\"><span style=\"color: #800000; text-decoration-color: #800000\">Error: not enough values to unpack (expected 2, got 0)</span>\n",
       "\n",
       "</pre>\n"
      ],
      "text/plain": [
       "\u001b[31mError: not enough values to unpack (expected 2, got 0)\u001b[0m\n",
       "\n"
      ]
     },
     "metadata": {},
     "output_type": "display_data"
    },
    {
     "name": "stderr",
     "output_type": "stream",
     "text": [
      "Exception: not enough values to unpack (expected 2, got 0)\n",
      "Traceback (most recent call last):\n",
      "  File \"C:\\Users\\Andrew\\Desktop\\openbb-good\\OpenBBTerminal\\openbb_terminal\\decorators.py\", line 71, in wrapper\n",
      "    value = func(*args, **kwargs)\n",
      "  File \"C:\\Users\\Andrew\\Desktop\\openbb-good\\OpenBBTerminal\\openbb_terminal\\stocks\\comparison_analysis\\yahoo_finance_view.py\", line 194, in display_correlation\n",
      "    correlations, df_similar = yahoo_finance_model.get_correlation(\n",
      "ValueError: not enough values to unpack (expected 2, got 0)\n"
     ]
    }
   ],
   "source": [
    "hcorr_similar = openbb.stocks.ca.hcorr_chart(\n",
    "    similar_companies,\n",
    "    external_axes=True,\n",
    ")\n",
    "\n",
    "if hcorr_similar:\n",
    "    hcorr_similar = hcorr_similar.to_html()"
   ]
  },
  {
   "cell_type": "code",
   "execution_count": 32,
   "id": "936babfd",
   "metadata": {},
   "outputs": [
    {
     "data": {
      "text/html": [
       "<pre style=\"white-space:pre;overflow-x:auto;line-height:normal;font-family:Menlo,'DejaVu Sans Mono',consolas,'Courier New',monospace\"><span style=\"color: #800000; text-decoration-color: #800000\">Error: No objects to concatenate</span>\n",
       "\n",
       "</pre>\n"
      ],
      "text/plain": [
       "\u001b[31mError: No objects to concatenate\u001b[0m\n",
       "\n"
      ]
     },
     "metadata": {},
     "output_type": "display_data"
    },
    {
     "name": "stderr",
     "output_type": "stream",
     "text": [
      "Exception: No objects to concatenate\n",
      "Traceback (most recent call last):\n",
      "  File \"c:\\Users\\Andrew\\Desktop\\openbb-good\\OpenBBTerminal\\venv\\lib\\site-packages\\yfinance\\multi.py\", line 164, in download\n",
      "    data = _pd.concat(shared._DFS.values(), axis=1, sort=True,\n",
      "  File \"c:\\Users\\Andrew\\Desktop\\openbb-good\\OpenBBTerminal\\venv\\lib\\site-packages\\pandas\\util\\_decorators.py\", line 331, in wrapper\n",
      "    return func(*args, **kwargs)\n",
      "  File \"c:\\Users\\Andrew\\Desktop\\openbb-good\\OpenBBTerminal\\venv\\lib\\site-packages\\pandas\\core\\reshape\\concat.py\", line 368, in concat\n",
      "    op = _Concatenator(\n",
      "  File \"c:\\Users\\Andrew\\Desktop\\openbb-good\\OpenBBTerminal\\venv\\lib\\site-packages\\pandas\\core\\reshape\\concat.py\", line 425, in __init__\n",
      "    raise ValueError(\"No objects to concatenate\")\n",
      "ValueError: No objects to concatenate\n",
      "\n",
      "During handling of the above exception, another exception occurred:\n",
      "\n",
      "Traceback (most recent call last):\n",
      "  File \"C:\\Users\\Andrew\\Desktop\\openbb-good\\OpenBBTerminal\\openbb_terminal\\decorators.py\", line 71, in wrapper\n",
      "    value = func(*args, **kwargs)\n",
      "  File \"C:\\Users\\Andrew\\Desktop\\openbb-good\\OpenBBTerminal\\openbb_terminal\\stocks\\comparison_analysis\\yahoo_finance_model.py\", line 82, in get_historical\n",
      "    similar_tickers_dataframe = yf.download(\n",
      "  File \"c:\\Users\\Andrew\\Desktop\\openbb-good\\OpenBBTerminal\\venv\\lib\\site-packages\\yfinance\\multi.py\", line 168, in download\n",
      "    data = _pd.concat(shared._DFS.values(), axis=1, sort=True,\n",
      "  File \"c:\\Users\\Andrew\\Desktop\\openbb-good\\OpenBBTerminal\\venv\\lib\\site-packages\\pandas\\util\\_decorators.py\", line 331, in wrapper\n",
      "    return func(*args, **kwargs)\n",
      "  File \"c:\\Users\\Andrew\\Desktop\\openbb-good\\OpenBBTerminal\\venv\\lib\\site-packages\\pandas\\core\\reshape\\concat.py\", line 368, in concat\n",
      "    op = _Concatenator(\n",
      "  File \"c:\\Users\\Andrew\\Desktop\\openbb-good\\OpenBBTerminal\\venv\\lib\\site-packages\\pandas\\core\\reshape\\concat.py\", line 425, in __init__\n",
      "    raise ValueError(\"No objects to concatenate\")\n",
      "ValueError: No objects to concatenate\n"
     ]
    },
    {
     "data": {
      "text/html": [
       "<pre style=\"white-space:pre;overflow-x:auto;line-height:normal;font-family:Menlo,'DejaVu Sans Mono',consolas,'Courier New',monospace\"><span style=\"color: #800000; text-decoration-color: #800000\">Error: 'list' object has no attribute 'columns'</span>\n",
       "\n",
       "</pre>\n"
      ],
      "text/plain": [
       "\u001b[31mError: 'list' object has no attribute 'columns'\u001b[0m\n",
       "\n"
      ]
     },
     "metadata": {},
     "output_type": "display_data"
    },
    {
     "name": "stderr",
     "output_type": "stream",
     "text": [
      "Exception: 'list' object has no attribute 'columns'\n",
      "Traceback (most recent call last):\n",
      "  File \"C:\\Users\\Andrew\\Desktop\\openbb-good\\OpenBBTerminal\\openbb_terminal\\decorators.py\", line 71, in wrapper\n",
      "    value = func(*args, **kwargs)\n",
      "  File \"C:\\Users\\Andrew\\Desktop\\openbb-good\\OpenBBTerminal\\openbb_terminal\\stocks\\comparison_analysis\\yahoo_finance_model.py\", line 183, in get_volume\n",
      "    df_similar = df_similar[df_similar.columns]\n",
      "AttributeError: 'list' object has no attribute 'columns'\n"
     ]
    },
    {
     "data": {
      "text/html": [
       "<pre style=\"white-space:pre;overflow-x:auto;line-height:normal;font-family:Menlo,'DejaVu Sans Mono',consolas,'Courier New',monospace\"><span style=\"color: #800000; text-decoration-color: #800000\">Error: 'list' object has no attribute 'columns'</span>\n",
       "\n",
       "</pre>\n"
      ],
      "text/plain": [
       "\u001b[31mError: 'list' object has no attribute 'columns'\u001b[0m\n",
       "\n"
      ]
     },
     "metadata": {},
     "output_type": "display_data"
    },
    {
     "name": "stderr",
     "output_type": "stream",
     "text": [
      "Exception: 'list' object has no attribute 'columns'\n",
      "Traceback (most recent call last):\n",
      "  File \"C:\\Users\\Andrew\\Desktop\\openbb-good\\OpenBBTerminal\\openbb_terminal\\decorators.py\", line 71, in wrapper\n",
      "    value = func(*args, **kwargs)\n",
      "  File \"C:\\Users\\Andrew\\Desktop\\openbb-good\\OpenBBTerminal\\openbb_terminal\\stocks\\comparison_analysis\\yahoo_finance_view.py\", line 134, in display_volume\n",
      "    for ticker in df_similar.columns:\n",
      "AttributeError: 'list' object has no attribute 'columns'\n"
     ]
    }
   ],
   "source": [
    "vol_similar = openbb.stocks.ca.volume_chart(\n",
    "    similar_companies,\n",
    "    external_axes=True,\n",
    ")\n",
    "\n",
    "if vol_similar:\n",
    "    vol_similar = vol_similar.to_html()"
   ]
  },
  {
   "cell_type": "code",
   "execution_count": 33,
   "id": "99388d4e",
   "metadata": {},
   "outputs": [
    {
     "data": {
      "text/html": [
       "<pre style=\"white-space:pre;overflow-x:auto;line-height:normal;font-family:Menlo,'DejaVu Sans Mono',consolas,'Courier New',monospace\"><span style=\"color: #800000; text-decoration-color: #800000\">Error: min() arg is an empty sequence</span>\n",
       "\n",
       "</pre>\n"
      ],
      "text/plain": [
       "\u001b[31mError: min() arg is an empty sequence\u001b[0m\n",
       "\n"
      ]
     },
     "metadata": {},
     "output_type": "display_data"
    },
    {
     "name": "stderr",
     "output_type": "stream",
     "text": [
      "Exception: min() arg is an empty sequence\n",
      "Traceback (most recent call last):\n",
      "  File \"C:\\Users\\Andrew\\Desktop\\openbb-good\\OpenBBTerminal\\openbb_terminal\\decorators.py\", line 71, in wrapper\n",
      "    value = func(*args, **kwargs)\n",
      "  File \"C:\\Users\\Andrew\\Desktop\\openbb-good\\OpenBBTerminal\\openbb_terminal\\stocks\\comparison_analysis\\finbrain_model.py\", line 43, in find_smallest_num_data_point\n",
      "    return min(small_list)\n",
      "ValueError: min() arg is an empty sequence\n"
     ]
    },
    {
     "data": {
      "text/html": [
       "<pre style=\"white-space:pre;overflow-x:auto;line-height:normal;font-family:Menlo,'DejaVu Sans Mono',consolas,'Courier New',monospace\">No sentiments found.\n",
       "</pre>\n"
      ],
      "text/plain": [
       "No sentiments found.\n"
      ]
     },
     "metadata": {},
     "output_type": "display_data"
    }
   ],
   "source": [
    "scorr_similar = openbb.stocks.ca.scorr_chart(\n",
    "    similar_companies,\n",
    "    external_axes=True,\n",
    ")\n",
    "\n",
    "if scorr_similar:\n",
    "    scorr_similar = scorr_similar.to_html()"
   ]
  },
  {
   "cell_type": "code",
   "execution_count": 34,
   "id": "eaa67343",
   "metadata": {},
   "outputs": [
    {
     "data": {
      "text/html": [
       "<pre style=\"white-space:pre;overflow-x:auto;line-height:normal;font-family:Menlo,'DejaVu Sans Mono',consolas,'Courier New',monospace\"><span style=\"color: #800000; text-decoration-color: #800000\">No similar tickers found.</span>\n",
       "</pre>\n"
      ],
      "text/plain": [
       "\u001b[31mNo similar tickers found.\u001b[0m\n"
      ]
     },
     "metadata": {},
     "output_type": "display_data"
    },
    {
     "data": {
      "text/html": [
       "<div>\n",
       "<style scoped>\n",
       "    .dataframe tbody tr th:only-of-type {\n",
       "        vertical-align: middle;\n",
       "    }\n",
       "\n",
       "    .dataframe tbody tr th {\n",
       "        vertical-align: top;\n",
       "    }\n",
       "\n",
       "    .dataframe thead th {\n",
       "        text-align: right;\n",
       "    }\n",
       "</style>\n",
       "<table border=\"1\" class=\"dataframe\">\n",
       "  <thead>\n",
       "    <tr style=\"text-align: right;\">\n",
       "      <th></th>\n",
       "    </tr>\n",
       "  </thead>\n",
       "  <tbody>\n",
       "  </tbody>\n",
       "</table>\n",
       "</div>"
      ],
      "text/plain": [
       "Empty DataFrame\n",
       "Columns: []\n",
       "Index: []"
      ]
     },
     "execution_count": 34,
     "metadata": {},
     "output_type": "execute_result"
    }
   ],
   "source": [
    "income_comparison = openbb.stocks.ca.income(similar_companies)\n",
    "income_comparison"
   ]
  },
  {
   "cell_type": "code",
   "execution_count": 35,
   "id": "13ad71cf",
   "metadata": {},
   "outputs": [],
   "source": [
    "try:\n",
    "    df_related_queries = openbb.stocks.ba.queries(symbol)\n",
    "    df_related_queries.index += 1\n",
    "    df_related_queries.index\n",
    "except:\n",
    "    pass"
   ]
  },
  {
   "cell_type": "code",
   "execution_count": 36,
   "id": "58c06129",
   "metadata": {},
   "outputs": [],
   "source": [
    "try:\n",
    "    df_rising_queries = openbb.stocks.ba.rise(symbol)\n",
    "    df_rising_queries.index += 1\n",
    "    df_rising_queries\n",
    "except:\n",
    "    pass"
   ]
  },
  {
   "cell_type": "code",
   "execution_count": 37,
   "id": "0a467f1a",
   "metadata": {},
   "outputs": [
    {
     "data": {
      "text/html": [
       "<pre style=\"white-space:pre;overflow-x:auto;line-height:normal;font-family:Menlo,'DejaVu Sans Mono',consolas,'Courier New',monospace\">No quarterly government contracts found\n",
       "\n",
       "</pre>\n"
      ],
      "text/plain": [
       "No quarterly government contracts found\n",
       "\n"
      ]
     },
     "metadata": {},
     "output_type": "display_data"
    }
   ],
   "source": [
    "gov_histcont_chart = openbb.stocks.gov.histcont_chart(\n",
    "    symbol,\n",
    "    external_axes=True,\n",
    ")\n",
    "\n",
    "if gov_histcont_chart:\n",
    "    gov_histcont_chart = gov_histcont_chart.to_html()"
   ]
  },
  {
   "cell_type": "code",
   "execution_count": 38,
   "id": "730cae26",
   "metadata": {},
   "outputs": [
    {
     "data": {
      "text/html": [
       "<pre style=\"white-space:pre;overflow-x:auto;line-height:normal;font-family:Menlo,'DejaVu Sans Mono',consolas,'Courier New',monospace\">No corporate lobbying found\n",
       "\n",
       "</pre>\n"
      ],
      "text/plain": [
       "No corporate lobbying found\n",
       "\n"
      ]
     },
     "metadata": {},
     "output_type": "display_data"
    },
    {
     "data": {
      "text/html": [
       "<div>\n",
       "<style scoped>\n",
       "    .dataframe tbody tr th:only-of-type {\n",
       "        vertical-align: middle;\n",
       "    }\n",
       "\n",
       "    .dataframe tbody tr th {\n",
       "        vertical-align: top;\n",
       "    }\n",
       "\n",
       "    .dataframe thead th {\n",
       "        text-align: right;\n",
       "    }\n",
       "</style>\n",
       "<table border=\"1\" class=\"dataframe\">\n",
       "  <thead>\n",
       "    <tr style=\"text-align: right;\">\n",
       "      <th></th>\n",
       "    </tr>\n",
       "  </thead>\n",
       "  <tbody>\n",
       "  </tbody>\n",
       "</table>\n",
       "</div>"
      ],
      "text/plain": [
       "Empty DataFrame\n",
       "Columns: []\n",
       "Index: []"
      ]
     },
     "execution_count": 38,
     "metadata": {},
     "output_type": "execute_result"
    }
   ],
   "source": [
    "df_lobbying = openbb.stocks.gov.lobbying(symbol, limit=5)\n",
    "df_lobbying"
   ]
  },
  {
   "cell_type": "code",
   "execution_count": 39,
   "id": "d8bb53c1-147e-4342-af61-0d0a9cc56e59",
   "metadata": {},
   "outputs": [],
   "source": [
    "price_vs_short_interest = openbb.stocks.dps.psi_sg_chart(\n",
    "    symbol=symbol, external_axes=True\n",
    ")\n",
    "\n",
    "if price_vs_short_interest:\n",
    "    price_vs_short_interest = price_vs_short_interest.to_html()"
   ]
  },
  {
   "cell_type": "code",
   "execution_count": 40,
   "id": "394668e1-1158-4a2b-8a38-04c72a6abdd6",
   "metadata": {},
   "outputs": [],
   "source": [
    "price_chart = openbb.stocks.candle(\n",
    "    symbol=symbol,\n",
    "    data=ticker_data,\n",
    "    external_axes=True,\n",
    ")\n",
    "\n",
    "if price_chart:\n",
    "    price_chart = price_chart.to_html()"
   ]
  },
  {
   "cell_type": "code",
   "execution_count": 41,
   "id": "900686a3",
   "metadata": {},
   "outputs": [
    {
     "data": {
      "text/html": [
       "<pre style=\"white-space:pre;overflow-x:auto;line-height:normal;font-family:Menlo,'DejaVu Sans Mono',consolas,'Courier New',monospace\"><span style=\"color: #800000; text-decoration-color: #800000\">Could not get data for ticker.</span>\n",
       "\n",
       "</pre>\n"
      ],
      "text/plain": [
       "\u001b[31mCould not get data for ticker.\u001b[0m\n",
       "\n"
      ]
     },
     "metadata": {},
     "output_type": "display_data"
    }
   ],
   "source": [
    "price_target_chart = openbb.stocks.fa.pt_chart(\n",
    "    symbol=symbol,\n",
    "    start_date=\"2022-01-01\",\n",
    "    data=ticker_data,\n",
    "    limit=10,\n",
    "    raw=False,\n",
    "    external_axes=True,\n",
    ")\n",
    "\n",
    "if price_target_chart:\n",
    "    price_target_chart = price_target_chart.to_html()"
   ]
  },
  {
   "cell_type": "code",
   "execution_count": 42,
   "id": "61d62e1a-199e-481d-b57d-38ab486951be",
   "metadata": {},
   "outputs": [],
   "source": [
    "df = openbb.stocks.fa.pt(symbol=symbol)\n",
    "avg_ratings_last_30_days = 0\n",
    "days = 0\n",
    "if not df.empty:\n",
    "    df_ratings = df[datetime.datetime.now() - datetime.timedelta(days=days) :]\n",
    "    while df_ratings.empty:\n",
    "        days += 30\n",
    "        df_ratings = df[datetime.datetime.now() - datetime.timedelta(days=days) :]\n",
    "\n",
    "        if days > 100:\n",
    "            break\n",
    "\n",
    "    if not df_ratings.empty:\n",
    "        avg_ratings_last_30_days = round(np.mean(df_ratings[\"Price Target\"].values), 2)\n",
    "    else:\n",
    "        avg_ratings = 0\n",
    "\n",
    "last_price = round(ticker_data[\"Close\"][-1], 2)"
   ]
  },
  {
   "cell_type": "code",
   "execution_count": 43,
   "id": "f3733ff2",
   "metadata": {},
   "outputs": [],
   "source": [
    "ratings_over_time_chart = openbb.stocks.fa.rot_chart(\n",
    "    symbol=symbol,\n",
    "    limit=10,\n",
    "    raw=False,\n",
    "    export=\"\",\n",
    "    external_axes=True,\n",
    ")\n",
    "\n",
    "if ratings_over_time_chart:\n",
    "    ratings_over_time_chart = ratings_over_time_chart.to_html()"
   ]
  },
  {
   "cell_type": "code",
   "execution_count": 44,
   "id": "924f8042-e58a-449c-91a3-7923158ff714",
   "metadata": {},
   "outputs": [],
   "source": [
    "ta_rsi = openbb.ta.rsi_chart(ticker_data[\"Close\"], external_axes=True)\n",
    "\n",
    "if ta_rsi:\n",
    "    ta_rsi = ta_rsi.to_html()"
   ]
  },
  {
   "cell_type": "code",
   "execution_count": 45,
   "id": "953a340e-7ea1-4aa3-ae1d-872683dced41",
   "metadata": {},
   "outputs": [
    {
     "data": {
      "text/plain": [
       "73.11"
      ]
     },
     "execution_count": 45,
     "metadata": {},
     "output_type": "execute_result"
    }
   ],
   "source": [
    "df = openbb.ta.rsi(ticker_data[\"Close\"])\n",
    "rsi_value = round(df.values[-1][0], 2)\n",
    "rsi_value"
   ]
  },
  {
   "cell_type": "code",
   "execution_count": 46,
   "id": "dce71711-20b3-4c69-af52-e0f9a69991f8",
   "metadata": {},
   "outputs": [],
   "source": [
    "from sklearn.linear_model import LinearRegression\n",
    "\n",
    "model = LinearRegression().fit(\n",
    "    np.array(range(len(ticker_data[\"Close\"][-30:].index))).reshape(-1, 1),\n",
    "    ticker_data[\"Close\"][-30:].values,\n",
    ")\n",
    "regression_slope = round(model.coef_[0], 2)"
   ]
  },
  {
   "cell_type": "code",
   "execution_count": 47,
   "id": "6272e34b-9511-4b48-9eea-ea882ce9846a",
   "metadata": {},
   "outputs": [],
   "source": [
    "df_insider = pd.DataFrame.from_dict(openbb.stocks.ins.lins(symbol=symbol)).head(10)\n",
    "if not df_insider.empty:\n",
    "    df_insider[\"Val ($)\"] = df_insider[\"Value ($)\"].replace({\",\": \"\"}, regex=True)\n",
    "    df_insider[\"Trade\"] = df_insider.apply(\n",
    "        lambda row: (-1 * float(row[\"Val ($)\"]))\n",
    "        if row[\"Transaction\"] == \"Sale\"\n",
    "        else (float(row[\"Val ($)\"]) if row[\"Transaction\"] == \"Buy\" else 0),\n",
    "        axis=1,\n",
    "    )\n",
    "    last_10_insider_trading = round(sum(df_insider[\"Trade\"]) / 1_000_000, 2)\n",
    "    df_insider = df_insider.drop(columns=[\"Val ($)\", \"Trade\"])\n",
    "    df_insider"
   ]
  },
  {
   "cell_type": "code",
   "execution_count": 48,
   "id": "29254666-58c6-4686-87e6-2635ad8387e2",
   "metadata": {},
   "outputs": [
    {
     "data": {
      "text/html": [
       "<pre style=\"white-space:pre;overflow-x:auto;line-height:normal;font-family:Menlo,'DejaVu Sans Mono',consolas,'Courier New',monospace\">No sentiment data found.\n",
       "\n",
       "</pre>\n"
      ],
      "text/plain": [
       "No sentiment data found.\n",
       "\n"
      ]
     },
     "metadata": {},
     "output_type": "display_data"
    }
   ],
   "source": [
    "finbrain_sentiment = openbb.stocks.ba.headlines_chart(symbol=symbol, external_axes=True)\n",
    "\n",
    "if finbrain_sentiment:\n",
    "    finbrain_sentiment = finbrain_sentiment.to_html()"
   ]
  },
  {
   "cell_type": "code",
   "execution_count": 49,
   "id": "b8251b47-8ecc-47be-83f3-d9f108596898",
   "metadata": {},
   "outputs": [
    {
     "data": {
      "text/html": [
       "<pre style=\"white-space:pre;overflow-x:auto;line-height:normal;font-family:Menlo,'DejaVu Sans Mono',consolas,'Courier New',monospace\">Request error in retrieving WINT sentiment from FinBrain API\n",
       "</pre>\n"
      ],
      "text/plain": [
       "Request error in retrieving WINT sentiment from FinBrain API\n"
      ]
     },
     "metadata": {},
     "output_type": "display_data"
    },
    {
     "data": {
      "text/html": [
       "<pre style=\"white-space:pre;overflow-x:auto;line-height:normal;font-family:Menlo,'DejaVu Sans Mono',consolas,'Courier New',monospace\"><span style=\"color: #800000; text-decoration-color: #800000\">Error: min() arg is an empty sequence</span>\n",
       "\n",
       "</pre>\n"
      ],
      "text/plain": [
       "\u001b[31mError: min() arg is an empty sequence\u001b[0m\n",
       "\n"
      ]
     },
     "metadata": {},
     "output_type": "display_data"
    },
    {
     "name": "stderr",
     "output_type": "stream",
     "text": [
      "Exception: min() arg is an empty sequence\n",
      "Traceback (most recent call last):\n",
      "  File \"C:\\Users\\Andrew\\Desktop\\openbb-good\\OpenBBTerminal\\openbb_terminal\\decorators.py\", line 71, in wrapper\n",
      "    value = func(*args, **kwargs)\n",
      "  File \"C:\\Users\\Andrew\\Desktop\\openbb-good\\OpenBBTerminal\\openbb_terminal\\stocks\\comparison_analysis\\finbrain_model.py\", line 43, in find_smallest_num_data_point\n",
      "    return min(small_list)\n",
      "ValueError: min() arg is an empty sequence\n"
     ]
    }
   ],
   "source": [
    "try:\n",
    "    df_sentiment_finbrain = openbb.stocks.ca.sentiment(symbols=[symbol])\n",
    "    finbrain_sentiment_val = float(df_sentiment_finbrain.values[-1][0])\n",
    "except Exception as e:\n",
    "    finbrain_sentiment_val = \"N/A\""
   ]
  },
  {
   "cell_type": "code",
   "execution_count": 50,
   "id": "6fe6e513-d568-41b4-8aa0-37cc578c9dc3",
   "metadata": {},
   "outputs": [
    {
     "data": {
      "text/plain": [
       "'Watchlist count: 5707</br>\\nLast 21 sentiment messages:</br>Bullish 85.71%</br>Bearish 14.29%'"
      ]
     },
     "execution_count": 50,
     "metadata": {},
     "output_type": "execute_result"
    }
   ],
   "source": [
    "(\n",
    "    watchlist_count,\n",
    "    n_cases,\n",
    "    n_bull,\n",
    "    n_bear,\n",
    ") = openbb.stocks.ba.bullbear(symbol=symbol)\n",
    "stocktwits_sentiment = f\"Watchlist count: {watchlist_count}</br>\"\n",
    "if n_cases > 0:\n",
    "    stocktwits_sentiment += f\"\\nLast {n_cases} sentiment messages:</br>\"\n",
    "    stocktwits_sentiment += f\"Bullish {round(100*n_bull/n_cases, 2)}%</br>\"\n",
    "    stocktwits_sentiment += f\"Bearish {round(100*n_bear/n_cases, 2)}%\"\n",
    "else:\n",
    "    stocktwits_sentiment += \"No messages found\"\n",
    "stocktwits_sentiment"
   ]
  },
  {
   "cell_type": "code",
   "execution_count": 51,
   "id": "bfb75909-b877-4b3a-82a7-21ce174a7bb4",
   "metadata": {},
   "outputs": [],
   "source": [
    "snews = openbb.stocks.ba.snews_chart(symbol, external_axes=True)\n",
    "\n",
    "if snews:\n",
    "    snews = snews.to_html()"
   ]
  },
  {
   "cell_type": "code",
   "execution_count": 52,
   "id": "329c9e1b-e1de-4836-91fd-656cc87f7111",
   "metadata": {},
   "outputs": [
    {
     "data": {
      "text/html": [
       "<pre style=\"white-space:pre;overflow-x:auto;line-height:normal;font-family:Menlo,'DejaVu Sans Mono',consolas,'Courier New',monospace\">Loading Daily data for WINT with starting period 2019-11-04.\n",
       "</pre>\n"
      ],
      "text/plain": [
       "Loading Daily data for WINT with starting period 2019-11-04.\n"
      ]
     },
     "metadata": {},
     "output_type": "display_data"
    }
   ],
   "source": [
    "ticker_data_all = openbb.stocks.load(\n",
    "    symbol=symbol,\n",
    "    start_date=datetime.datetime.now() - datetime.timedelta(days=5 * 12 * 21),\n",
    ")\n",
    "ticker_data_all[\"Returns\"] = ticker_data_all[\"Adj Close\"].pct_change()"
   ]
  },
  {
   "cell_type": "code",
   "execution_count": 53,
   "id": "37743ef3-2f16-4166-bfcc-a0fe3eb959bc",
   "metadata": {},
   "outputs": [],
   "source": [
    "bw_month = openbb.qa.bw(\n",
    "    ticker_data_all,\n",
    "    \"Returns\",\n",
    "    symbol,\n",
    "    yearly=False,\n",
    "    external_axes=True,\n",
    ")\n",
    "\n",
    "if bw_month:\n",
    "    bw_month = bw_month.to_html()"
   ]
  },
  {
   "cell_type": "code",
   "execution_count": 54,
   "id": "16b33868-23dc-4c77-ac00-acb452da386c",
   "metadata": {},
   "outputs": [],
   "source": [
    "bw_year = openbb.qa.bw(\n",
    "    ticker_data_all,\n",
    "    \"Returns\",\n",
    "    symbol,\n",
    "    yearly=True,\n",
    "    external_axes=True,\n",
    ")\n",
    "\n",
    "if bw_year:\n",
    "    bw_year = bw_year.to_html()"
   ]
  },
  {
   "cell_type": "code",
   "execution_count": 55,
   "id": "28ce0827",
   "metadata": {},
   "outputs": [
    {
     "data": {
      "text/html": [
       "<pre style=\"white-space:pre;overflow-x:auto;line-height:normal;font-family:Menlo,'DejaVu Sans Mono',consolas,'Courier New',monospace\"><span style=\"color: #800000; text-decoration-color: #800000\">No management information in Business Insider for WINT</span>\n",
       "</pre>\n"
      ],
      "text/plain": [
       "\u001b[31mNo management information in Business Insider for WINT\u001b[0m\n"
      ]
     },
     "metadata": {},
     "output_type": "display_data"
    },
    {
     "data": {
      "text/html": [
       "<pre style=\"white-space:pre;overflow-x:auto;line-height:normal;font-family:Menlo,'DejaVu Sans Mono',consolas,'Courier New',monospace\">Ticker should be a NASDAQ 100 ticker or SP 500 ticker \n",
       "\n",
       "</pre>\n"
      ],
      "text/plain": [
       "Ticker should be a NASDAQ 100 ticker or SP 500 ticker \n",
       "\n"
      ]
     },
     "metadata": {},
     "output_type": "display_data"
    }
   ],
   "source": [
    "income_df = openbb.stocks.fa.income(symbol, source=\"FinancialModelingPrep\")\n",
    "data_df = openbb.stocks.fa.data(symbol)\n",
    "mgmt_df = openbb.stocks.fa.mgmt(symbol)\n",
    "try:\n",
    "    if not mgmt_df.empty:\n",
    "        mgmt_df[\"Info\"] = mgmt_df[\"Info\"].apply(lambda x: f'<a href=\"{x}\">{x}</a>')\n",
    "        mgmt_df[\"Insider Activity\"] = mgmt_df[\"Insider Activity\"].apply(\n",
    "            lambda x: f'<a href=\"{x}\">{x}</a>' if x != \"-\" else x\n",
    "        )\n",
    "except:\n",
    "    pass\n",
    "try:\n",
    "    hist_dcf = openbb.stocks.fa.dcfc(symbol)\n",
    "except:\n",
    "    pass\n",
    "\n",
    "enterprise_df = openbb.stocks.fa.enterprise(symbol)\n",
    "score = openbb.stocks.fa.score(symbol, years=10)\n"
   ]
  },
  {
   "cell_type": "code",
   "execution_count": 56,
   "id": "42e289ab",
   "metadata": {},
   "outputs": [],
   "source": [
    "indicators = dict(\n",
    "    ema=dict(length=[50]),\n",
    "    sma=dict(length=[50]),\n",
    "    wma=dict(length=[50]),\n",
    ")\n",
    "\n",
    "ma_chart = PlotlyTA.plot(ticker_data, indicators, symbol, candles=False, volume=False)\n",
    "\n",
    "if ma_chart:\n",
    "    ma_chart = ma_chart.show(external=True)\n",
    "    ma_chart = ma_chart.to_html()"
   ]
  },
  {
   "cell_type": "code",
   "execution_count": 57,
   "id": "e8846a6f",
   "metadata": {},
   "outputs": [],
   "source": [
    "macd_chart = openbb.ta.macd_chart(\n",
    "    ticker_data[\"Close\"], symbol=symbol, external_axes=True\n",
    ")\n",
    "\n",
    "if macd_chart:\n",
    "    macd_chart = macd_chart.to_html()"
   ]
  },
  {
   "cell_type": "code",
   "execution_count": 58,
   "id": "48a7a427",
   "metadata": {},
   "outputs": [],
   "source": [
    "cci_chart = openbb.ta.cci_chart(ticker_data, symbol=symbol, external_axes=True)\n",
    "\n",
    "if cci_chart:\n",
    "    cci_chart = cci_chart.to_html()"
   ]
  },
  {
   "cell_type": "code",
   "execution_count": 59,
   "id": "6a1bd2c6",
   "metadata": {},
   "outputs": [],
   "source": [
    "stoch_chart = openbb.ta.stoch_chart(ticker_data, symbol=symbol, external_axes=True)\n",
    "\n",
    "if stoch_chart:\n",
    "    stoch_chart = stoch_chart.to_html()"
   ]
  },
  {
   "cell_type": "code",
   "execution_count": 60,
   "id": "2611d3c6",
   "metadata": {},
   "outputs": [],
   "source": [
    "adx_chart = openbb.ta.adx_chart(ticker_data, symbol=symbol, external_axes=True)\n",
    "\n",
    "if adx_chart:\n",
    "    adx_chart = adx_chart.to_html()"
   ]
  },
  {
   "cell_type": "code",
   "execution_count": 61,
   "id": "6ecb6e17",
   "metadata": {},
   "outputs": [],
   "source": [
    "bbands_chart = openbb.ta.bbands_chart(ticker_data, symbol=symbol, external_axes=True)\n",
    "\n",
    "if bbands_chart:\n",
    "    bbands_chart = bbands_chart.to_html()"
   ]
  },
  {
   "cell_type": "code",
   "execution_count": 62,
   "id": "07e42fdb",
   "metadata": {},
   "outputs": [],
   "source": [
    "ad_chart = openbb.ta.ad_chart(ticker_data, symbol=symbol, external_axes=True)\n",
    "\n",
    "if ad_chart:\n",
    "    ad_chart = ad_chart.to_html()"
   ]
  },
  {
   "attachments": {},
   "cell_type": "markdown",
   "id": "ac501a32-124d-4d21-aae1-a8d147bb1071",
   "metadata": {},
   "source": [
    "## Render the report template to a file\n"
   ]
  },
  {
   "cell_type": "code",
   "execution_count": 64,
   "id": "abfe37e4-ea38-42c3-8fb5-7cceb233fb12",
   "metadata": {},
   "outputs": [
    {
     "name": "stdout",
     "output_type": "stream",
     "text": [
      "Windtree Therapeutics, Inc.\n",
      "Healthcare\n",
      "Biotechnology\n"
     ]
    }
   ],
   "source": [
    "body = f\"\"\"\n",
    "<style>\n",
    "@font-face {{\n",
    "    font-family: \"Fira Code\";\n",
    "    src: url(\"{(OpenBBFigure.plotlyjs_path.parent.parent / \"web\"/\"css\").as_uri()}/fonts/FiraCode-Regular.ttf\") format(\"truetype\");\n",
    "    font-weight: 400 700;\n",
    "    font-stretch: 50%;\n",
    "}}\n",
    "</style>\n",
    "<script src=\"/{OpenBBFigure.plotlyjs_path.as_uri()}\"></script>\n",
    "\"\"\"\n",
    "\n",
    "\n",
    "img = (\n",
    "    str(REPOSITORY_DIRECTORY)\n",
    "    + \"/openbb_terminal/reports/templates/OpenBB_reports_logo.png\"\n",
    ")\n",
    "floppy_disk_img = (\n",
    "    str(REPOSITORY_DIRECTORY) + \"/openbb_terminal/reports/templates/floppy-disc.png\"\n",
    ")\n",
    "body += widgets.header(\n",
    "    img,\n",
    "    floppy_disk_img,\n",
    "    author,\n",
    "    report_date,\n",
    "    report_time,\n",
    "    report_timezone,\n",
    "    report_title,\n",
    ")\n",
    "\n",
    "body += widgets.tablinks(\n",
    "    [\n",
    "        \"SUMMARY\",\n",
    "        \"Overview\",\n",
    "        \"Fundamental Analysis\",\n",
    "        \"Technical Analysis\",\n",
    "        \"Behavioural Analysis\",\n",
    "        \"Government Menu\",\n",
    "        \"Comparison Menu\",\n",
    "        \"Options\",\n",
    "        \"Dark Pool and Shorts\",\n",
    "        \"Quantitative Analysis\",\n",
    "        \"Analyst Opinions\",\n",
    "        \"Insider Trading\",\n",
    "        #    \"Prediction Techniques\",\n",
    "    ]\n",
    ")\n",
    "\n",
    "htmlcode = widgets.h(3, \"KPIs\")\n",
    "htmlcode += widgets.kpi(\n",
    "    [last_price],\n",
    "    [\n",
    "        \"Last closing price is above the average price ratings of last 30 days\",\n",
    "        \"Average price ratings of last 30 day is above last closing price\",\n",
    "    ],\n",
    "    avg_ratings_last_30_days,\n",
    ")\n",
    "htmlcode += widgets.kpi(\n",
    "    [30, 70],\n",
    "    [\"RSI level is oversold\", \"RSI level is normal\", \"RSI level is overbought\"],\n",
    "    rsi_value,\n",
    ")\n",
    "try:\n",
    "    htmlcode += widgets.kpi(\n",
    "        [0],\n",
    "        [\n",
    "            \"The sum of last 10 insider trading (in millions) was negative\",\n",
    "            \"The sum of last 10 insider trading (in millions) was positive\",\n",
    "        ],\n",
    "        last_10_insider_trading,\n",
    "    )\n",
    "except:\n",
    "    pass\n",
    "try:\n",
    "    htmlcode += widgets.kpi(\n",
    "        [-0.1, 0.1],\n",
    "        [\n",
    "            \"Last FinBrain sentiment is bearish\",\n",
    "            \" Last FinBrain sentiment is neutral\",\n",
    "            \"Last FinBrain sentiment is bullish\",\n",
    "        ],\n",
    "        finbrain_sentiment_val,\n",
    "    )\n",
    "except:\n",
    "    pass\n",
    "if score and score[\"Total Score\"]:\n",
    "    htmlcode += widgets.kpi(\n",
    "        [25, 75],\n",
    "        [\n",
    "            \"Buffet Score is not favourable\",\n",
    "            \"Buffet Score is neutral\",\n",
    "            \"Buffet Score is favourable\",\n",
    "        ],\n",
    "        float(score[\"Total Score\"]),\n",
    "    )\n",
    "body += widgets.add_tab(\"SUMMARY\", htmlcode)\n",
    "\n",
    "htmlcode = \"\"\n",
    "if overview:\n",
    "    titles = [\"Company\", \"Sector\", \"Industry\"]\n",
    "    m = 0\n",
    "    for x in overview:\n",
    "        print(x)\n",
    "        htmlcode += widgets.row([widgets.h(3, titles[m]) + widgets.p(x)])\n",
    "        m += 1\n",
    "htmlcode += widgets.row([widgets.h(3, \"Price Chart\") + (price_chart or \"\")])\n",
    "\n",
    "try:\n",
    "    htmlcode += widgets.row([widgets.h(3, \"Quote\") + quote_data.to_html()])\n",
    "except:\n",
    "    pass\n",
    "\n",
    "htmlcode += widgets.row([widgets.h(3, \"Latest News for \" + symbol)])\n",
    "try:\n",
    "    for table in tables:\n",
    "        htmlcode += widgets.row(\n",
    "            [widgets.h(4, table[1][\"title\"]) + table[0].to_html(escape=False)]\n",
    "        )\n",
    "except:\n",
    "    pass\n",
    "\n",
    "if not mgmt_df.empty:\n",
    "    htmlcode += widgets.row(\n",
    "        [widgets.h(3, f\"Management team of {symbol}\") + mgmt_df.to_html(escape=False)]\n",
    "    )\n",
    "body += widgets.add_tab(\"Overview\", htmlcode)\n",
    "\n",
    "htmlcode = widgets.row(\n",
    "    [widgets.h(3, \"Price Target Chart\") + (price_target_chart or \"\")]\n",
    ")\n",
    "htmlcode += widgets.row(\n",
    "    [widgets.h(3, \"Analyst Ratings over time\") + (ratings_over_time_chart or \"\")]\n",
    ")\n",
    "try:\n",
    "    htmlcode += widgets.row([widgets.h(3, \"Analyst Ratings\") + df_analyst.to_html()])\n",
    "except:\n",
    "    pass\n",
    "try:\n",
    "    htmlcode += widgets.row(\n",
    "        [widgets.h(3, \"Analyst Recommendations\") + df_rating.to_html()]\n",
    "    )\n",
    "except:\n",
    "    pass\n",
    "\n",
    "body += widgets.add_tab(\"Analyst Opinions\", htmlcode)\n",
    "\n",
    "try:\n",
    "    htmlcode = widgets.row(\n",
    "        [widgets.h(3, \"Estimates\") + df_year_estimates.head().to_html()]\n",
    "    )\n",
    "except:\n",
    "    pass\n",
    "\n",
    "if not df_quarter_earnings.empty:\n",
    "    htmlcode += widgets.row(\n",
    "        [widgets.h(3, \"Earnings\") + df_quarter_earnings.head().to_html()]\n",
    "    )\n",
    "if not df_quarter_revenues.empty:\n",
    "    htmlcode += widgets.row(\n",
    "        [widgets.h(3, \"Revenues\") + df_quarter_revenues.head().to_html()]\n",
    "    )\n",
    "try:\n",
    "    htmlcode += widgets.row(\n",
    "        [\n",
    "            widgets.h(3, \"Major Institutional Shareholders\")\n",
    "            + df_institutional_shareholders.head().to_html()\n",
    "        ]\n",
    "    )\n",
    "except:\n",
    "    pass\n",
    "try:\n",
    "    htmlcode += widgets.row(\n",
    "        [widgets.h(3, f\"Historical DCF for {symbol}\") + hist_dcf.to_html()]\n",
    "    )\n",
    "except:\n",
    "    pass\n",
    "try:\n",
    "    htmlcode += widgets.row(\n",
    "        [widgets.h(3, f\"Enterprise data for {symbol}\") + enterprise_df.to_html()]\n",
    "    )\n",
    "except:\n",
    "    pass\n",
    "try:\n",
    "    htmlcode += widgets.row(\n",
    "        [widgets.h(3, f\"Income Statement for {symbol}\") + income_df.to_html()]\n",
    "    )\n",
    "except:\n",
    "    pass\n",
    "try:\n",
    "    htmlcode += widgets.row([widgets.h(3, f\"Data for {symbol}\") + data_df.to_html()])\n",
    "except:\n",
    "    pass\n",
    "try:\n",
    "    htmlcode += widgets.row(\n",
    "        [widgets.h(3, \"SEC filings\") + df_sec_filings.to_html(escape=False)]\n",
    "    )\n",
    "except:\n",
    "    pass\n",
    "\n",
    "body += widgets.add_tab(\"Fundamental Analysis\", htmlcode)\n",
    "\n",
    "htmlcode = widgets.row([widgets.h(3, \"Put to call ratio\") + (pcr_chart or \"\")])\n",
    "\n",
    "if expiry_dates:\n",
    "    htmlcode += widgets.row(\n",
    "        [widgets.h(3, \"Option Volume for closest expiry date\") + (vol_chart or \"\")]\n",
    "    )\n",
    "    htmlcode += widgets.row(\n",
    "        [\n",
    "            widgets.h(3, \"Volume and Open Interest for closest expiry date\")\n",
    "            + (voi_chart or \"\")\n",
    "        ]\n",
    "    )\n",
    "\n",
    "body += widgets.add_tab(\"Options\", htmlcode)\n",
    "\n",
    "htmlcode = widgets.row([net_short_position or \"\"])\n",
    "htmlcode += widgets.row([price_vs_short_interest or \"\"])\n",
    "# htmlcode += widgets.row([dark_pools])\n",
    "body += widgets.add_tab(\"Dark Pool and Shorts\", htmlcode)\n",
    "\n",
    "htmlcode = widgets.row(\n",
    "    [\n",
    "        widgets.h(3, \"Congress trading in the past 12 months for \" + symbol)\n",
    "        + (gtrades_chart or \"\")\n",
    "    ]\n",
    ")\n",
    "htmlcode += widgets.row([gov_histcont_chart or \"\"])\n",
    "htmlcode += widgets.row([gov_contracts_chart or \"\"])\n",
    "htmlcode += widgets.row([widgets.h(3, \"Recent Corporate Lobbying by \" + symbol)])\n",
    "try:\n",
    "    for _, row in df_lobbying.iterrows():\n",
    "        amount = (\n",
    "            \"$\" + str(int(float(row[\"Amount\"]))) if row[\"Amount\"] is not None else \"N/A\"\n",
    "        )\n",
    "        htmlcode += widgets.row([widgets.p(f\"{row['Date']}: {row['Client']} {amount}\")])\n",
    "        if (row[\"Amount\"] is not None) and (row[\"Specific_Issue\"] is not None):\n",
    "            htmlcode += widgets.row(\n",
    "                [\n",
    "                    widgets.p(\n",
    "                        \"\\t\"\n",
    "                        + row[\"Specific_Issue\"].replace(\"\\n\", \" \").replace(\"\\r\", \"\")\n",
    "                    )\n",
    "                ]\n",
    "            )\n",
    "except:\n",
    "    pass\n",
    "\n",
    "body += widgets.add_tab(\"Government Menu\", htmlcode)\n",
    "\n",
    "htmlcode = widgets.row(\n",
    "    [\n",
    "        widgets.h(3, f\"Price over the past year for companies similar to {symbol}\")\n",
    "        + (historical_similar or \"\")\n",
    "    ]\n",
    ")\n",
    "htmlcode += widgets.row(\n",
    "    [\n",
    "        widgets.h(3, f\"Price correlation with similar companies for {symbol}\")\n",
    "        + (hcorr_similar or \"\")\n",
    "    ]\n",
    ")\n",
    "htmlcode += widgets.row(\n",
    "    [\n",
    "        widgets.h(3, f\"Volume over the past year for companies similar to {symbol}\")\n",
    "        + (vol_similar or \"\")\n",
    "    ]\n",
    ")\n",
    "htmlcode += widgets.row(\n",
    "    [\n",
    "        widgets.h(3, f\"Sentiment correlation with similar companies for {symbol}\")\n",
    "        + (scorr_similar or \"\")\n",
    "    ]\n",
    ")\n",
    "if isinstance(income_comparison, pd.DataFrame):\n",
    "    htmlcode += widgets.row(\n",
    "        [\n",
    "            widgets.h(3, f\"Income data for similar companies to {symbol}\")\n",
    "            + income_comparison.to_html()\n",
    "        ]\n",
    "    )\n",
    "htmlcode += widgets.row(\n",
    "    [\n",
    "        widgets.p(\n",
    "            \"Note that similar companies have been found using openbb.stocks.ca.similar\"\n",
    "        )\n",
    "    ]\n",
    ")\n",
    "body += widgets.add_tab(\"Comparison Menu\", htmlcode)\n",
    "\n",
    "htmlcode = widgets.row([widgets.h(3, f\"Moving Averages for {symbol}\") + ma_chart])\n",
    "htmlcode += widgets.row([macd_chart or \"\"])\n",
    "htmlcode += widgets.row([ta_rsi or \"\"])\n",
    "htmlcode += widgets.row([stoch_chart or \"\"])\n",
    "htmlcode += widgets.row([cci_chart or \"\"])\n",
    "htmlcode += widgets.row([ad_chart or \"\"])\n",
    "htmlcode += widgets.row([bbands_chart or \"\"])\n",
    "htmlcode += widgets.row([adx_chart or \"\"])\n",
    "body += widgets.add_tab(\"Technical Analysis\", htmlcode)\n",
    "\n",
    "if not df_insider.empty:\n",
    "    htmlcode = widgets.row(\n",
    "        [widgets.h(3, \"Last Activity\") + df_insider.head(10).to_html(col_space=\"75px\")]\n",
    "    )\n",
    "else:\n",
    "    htmlcode = widgets.row(\n",
    "        [widgets.h(3, \"Last Activity\") + widgets.p(\"No insider trading data found.\")]\n",
    "    )\n",
    "\n",
    "body += widgets.add_tab(\"Insider Trading\", htmlcode)\n",
    "\n",
    "\n",
    "htmlcode = widgets.row([bw_year or \"\"])\n",
    "htmlcode += widgets.row([bw_month or \"\"])\n",
    "body += widgets.add_tab(\"Quantitative Analysis\", htmlcode)\n",
    "\n",
    "\n",
    "htmlcode = widgets.row([finbrain_sentiment or \"\"])\n",
    "htmlcode += widgets.row([snews or \"\"])\n",
    "htmlcode += widgets.row(\n",
    "    [\n",
    "        widgets.h(3, \"Interest in \" + symbol + \" based on google analytics\")\n",
    "        + (google_mentions_chart or \"\")\n",
    "    ]\n",
    ")\n",
    "htmlcode += widgets.row(\n",
    "    [\n",
    "        widgets.h(3, f\"Regions with highest interest in {symbol}\")\n",
    "        + (google_regions_chart or \"\")\n",
    "    ]\n",
    ")\n",
    "try:\n",
    "    htmlcode += widgets.row(\n",
    "        [\n",
    "            widgets.h(3, f\"Top queries related to {symbol}\")\n",
    "            + df_related_queries.to_html()\n",
    "        ]\n",
    "    )\n",
    "    htmlcode += widgets.row(\n",
    "        [\n",
    "            widgets.h(3, f\"Top rising queries related to {symbol}\")\n",
    "            + df_rising_queries.to_html()\n",
    "        ]\n",
    "    )\n",
    "except:\n",
    "    pass\n",
    "htmlcode += widgets.row(\n",
    "    [widgets.h(3, f\"Stocktwits sentiment for {symbol}\") + stocktwits_sentiment]\n",
    ")\n",
    "body += widgets.add_tab(\"Behavioural Analysis\", htmlcode)\n",
    "\n",
    "body += widgets.tab_clickable_and_save_evt()\n",
    "\n",
    "report = widgets.html_report(\n",
    "    title=report_name, stylesheet=widgets.html_report_stylesheet(), body=body\n",
    ")\n",
    "\n",
    "# to save the results\n",
    "with open(report_name + \".html\", \"w\", encoding=\"utf-8\") as fh:\n",
    "    fh.write(report)"
   ]
  }
 ],
 "metadata": {
  "celltoolbar": "Tags",
  "kernelspec": {
   "display_name": "Python 3",
   "language": "python",
   "name": "python3"
  },
  "language_info": {
   "codemirror_mode": {
    "name": "ipython",
    "version": 3
   },
   "file_extension": ".py",
   "mimetype": "text/x-python",
   "name": "python",
   "nbconvert_exporter": "python",
   "pygments_lexer": "ipython3",
   "version": "3.10.5"
  },
  "vscode": {
   "interpreter": {
    "hash": "af870c0f9615f5bb08692efcc9bf540319fe60e6793056508a4dab09c9fa8dda"
   }
  }
 },
 "nbformat": 4,
 "nbformat_minor": 5
}
