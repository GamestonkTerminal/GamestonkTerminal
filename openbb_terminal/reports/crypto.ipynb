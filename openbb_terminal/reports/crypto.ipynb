{
 "cells": [
  {
   "cell_type": "markdown",
   "id": "70ba2c8a",
   "metadata": {},
   "source": [
    "## Notebook setup"
   ]
  },
  {
   "cell_type": "code",
   "execution_count": null,
   "id": "driven-billion",
   "metadata": {},
   "outputs": [],
   "source": [
    "import os\n",
    "import io\n",
    "import warnings\n",
    "import datetime\n",
    "import numpy as np\n",
    "import base64\n",
    "import pandas as pd\n",
    "\n",
    "import matplotlib.pyplot as plt\n",
    "import matplotlib_inline.backend_inline\n",
    "\n",
    "from IPython.display import HTML\n",
    "\n",
    "# import sys\n",
    "# sys.path.append('../../')\n",
    "\n",
    "from openbb_terminal.api import widgets\n",
    "from openbb_terminal.api import openbb\n",
    "from openbb_terminal.helper_classes import TerminalStyle\n",
    "\n",
    "%matplotlib inline\n",
    "matplotlib_inline.backend_inline.set_matplotlib_formats(\"svg\")\n",
    "warnings.filterwarnings(\"ignore\")"
   ]
  },
  {
   "cell_type": "code",
   "execution_count": null,
   "id": "c3fe7db5-ec6a-42cf-9e66-52dc1de22370",
   "metadata": {},
   "outputs": [],
   "source": [
    "try:\n",
    "    theme = TerminalStyle(\"light\", \"light\", \"light\")\n",
    "except:\n",
    "    pass\n",
    "stylesheet = widgets.html_report_stylesheet()\n",
    "with open(\"./openbb_terminal/reports/OpenBB_reports_logo.png\", \"rb\") as image_file:\n",
    "    openbb_image_encoded = base64.b64encode(image_file.read())"
   ]
  },
  {
   "cell_type": "markdown",
   "id": "807fda4e",
   "metadata": {},
   "source": [
    "## Select Ticker"
   ]
  },
  {
   "cell_type": "code",
   "execution_count": null,
   "id": "intended-sherman",
   "metadata": {
    "tags": [
     "parameters"
    ]
   },
   "outputs": [],
   "source": [
    "# Parameters that will be replaced when calling this notebook\n",
    "ticker = \"ATOM\"\n",
    "report_name = \"\""
   ]
  },
  {
   "cell_type": "code",
   "execution_count": null,
   "id": "d4897334",
   "metadata": {},
   "outputs": [],
   "source": [
    "author = \"Henrique Joaquim\"\n",
    "report_title = f\"INVESTMENT RESEARCH REPORT ON {ticker.upper()}\"\n",
    "report_date = datetime.datetime.now().strftime(\"%d %B, %Y\")\n",
    "report_time = datetime.datetime.now().strftime(\"%H:%M\")\n",
    "report_timezone = datetime.datetime.now(datetime.timezone.utc).astimezone().tzinfo\n",
    "report_title, report_date, report_time, report_timezone"
   ]
  },
  {
   "cell_type": "code",
   "execution_count": null,
   "id": "35d9a943",
   "metadata": {},
   "outputs": [],
   "source": [
    "# basic info\n",
    "from openbb_terminal.cryptocurrency.cryptocurrency_helpers import get_coinpaprika_id\n",
    "ticker = \"btc\"\n",
    "cp_id = get_coinpaprika_id(ticker)\n",
    "basic_info = openbb.crypto.dd.basic(cp_id)\n",
    "basic_info = basic_info.set_index(\"Metric\")\n",
    "basic_info"
   ]
  },
  {
   "cell_type": "code",
   "execution_count": null,
   "id": "07d09ce8",
   "metadata": {},
   "outputs": [],
   "source": [
    "five_year = datetime.datetime.now() - datetime.timedelta(days=1825)\n",
    "three_year = datetime.datetime.now() - datetime.timedelta(days=1095)\n",
    "one_year = datetime.datetime.now() - datetime.timedelta(days=365)\n",
    "three_months = datetime.datetime.now() - datetime.timedelta(days=90)\n",
    "\n",
    "dates = {\n",
    "    \"three_months\": three_months,\n",
    "    \"one_year\": one_year,\n",
    "    \"three_year\": three_year,\n",
    "    \"five_year\": five_year,\n",
    "}"
   ]
  },
  {
   "cell_type": "code",
   "execution_count": null,
   "id": "e6d6d43d",
   "metadata": {},
   "outputs": [],
   "source": [
    "def get_historical_data(ticker, dict_of_dates, is_plot=True):\n",
    "\n",
    "    list_of_historical_data = []\n",
    "\n",
    "    for date in dict_of_dates:\n",
    "        data = openbb.crypto.load(\n",
    "            symbol=ticker,\n",
    "            start_date=dict_of_dates[date],\n",
    "        )\n",
    "\n",
    "        # we'll be using the adjusted close price as same as close price\n",
    "        data[\"Adj Close\"] = data[\"Close\"]\n",
    "\n",
    "        if is_plot:\n",
    "            fig, ax = plt.subplots(figsize=(11, 3), dpi=150)\n",
    "            plt.suptitle(\n",
    "                f\"{date} historical data for {ticker.upper()}\",\n",
    "                fontsize=14,\n",
    "                color=\"black\",\n",
    "            )\n",
    "            plt.plot(data.index, data[\"Close\"])\n",
    "            plt.ylabel(\"USDT\")\n",
    "            plt.show()\n",
    "\n",
    "            fig.tight_layout()\n",
    "            f = io.BytesIO()\n",
    "            fig.savefig(f, format=\"svg\")\n",
    "            plot_data = f.getvalue().decode(\"utf-8\")\n",
    "\n",
    "            list_of_historical_data.append(plot_data)\n",
    "        else:\n",
    "            list_of_historical_data.append(data)\n",
    "\n",
    "    return list_of_historical_data"
   ]
  },
  {
   "cell_type": "code",
   "execution_count": null,
   "id": "ed19a708",
   "metadata": {},
   "outputs": [],
   "source": [
    "historical_data = get_historical_data(ticker, dates)"
   ]
  },
  {
   "cell_type": "code",
   "execution_count": null,
   "id": "8f815dbc",
   "metadata": {},
   "outputs": [],
   "source": [
    "historical_data_one_year = get_historical_data(ticker, {\"one_year\": one_year}, False)[0]\n",
    "historical_data_one_year"
   ]
  },
  {
   "cell_type": "code",
   "execution_count": null,
   "id": "081a4bb3",
   "metadata": {},
   "outputs": [],
   "source": [
    "from openbb_terminal.cryptocurrency.cryptocurrency_helpers import show_quick_performance\n",
    "\n",
    "show_quick_performance(\n",
    "    crypto_df=historical_data_one_year,\n",
    "    symbol=ticker,\n",
    "    current_currency=\"USDT\",\n",
    "    source=\"cctx\",\n",
    "    exchange=\"binance\",\n",
    "    interval=\"1440\",\n",
    ")\n",
    "\n",
    "fig = plt.figure(figsize=(11, 3), dpi=150)\n",
    "fig.tight_layout()\n",
    "f = io.BytesIO()\n",
    "fig.savefig(f, format=\"svg\")\n",
    "quick_performance = f.getvalue().decode(\"utf-8\")"
   ]
  },
  {
   "cell_type": "code",
   "execution_count": null,
   "id": "88af0fbe",
   "metadata": {},
   "outputs": [],
   "source": [
    "fig, ax = plt.subplots(figsize=(11, 3), dpi=150)\n",
    "openbb.crypto.dd.headlines(ticker, external_axes=[ax], chart=True)\n",
    "fig.tight_layout()\n",
    "f = io.BytesIO()\n",
    "fig.savefig(f, format=\"svg\")\n",
    "headlines = f.getvalue().decode(\"utf-8\")"
   ]
  },
  {
   "cell_type": "code",
   "execution_count": null,
   "id": "3b23868d",
   "metadata": {},
   "outputs": [],
   "source": [
    "# fig, (ax1, ax2) = plt.subplots(nrows=2, ncols=1, figsize=(11, 5), dpi=150)\n",
    "# openbb.crypto.chart(\n",
    "#     historical_data_one_year,\n",
    "#     symbol=ticker,\n",
    "#     currency=\"USDT\",\n",
    "#     source=\"cctx\",\n",
    "#     exchange=\"binance\",\n",
    "#     interval=\"1440\",\n",
    "#     external_axes=[ax1, ax2],\n",
    "# )\n",
    "# fig.tight_layout()\n",
    "# f = io.BytesIO()\n",
    "# fig.savefig(f, format=\"svg\")\n",
    "# one_year_candle = f.getvalue().decode(\"utf-8\")"
   ]
  },
  {
   "cell_type": "code",
   "execution_count": null,
   "id": "e4509c6e",
   "metadata": {},
   "outputs": [],
   "source": [
    "fig, (ax1, ax2) = plt.subplots(nrows=2, ncols=1, figsize=(11, 5), dpi=150)\n",
    "openbb.crypto.chart(\n",
    "    historical_data_one_year,\n",
    "    symbol=ticker,\n",
    "    currency=\"USDT\",\n",
    "    source=\"cctx\",\n",
    "    exchange=\"binance\",\n",
    "    interval=\"1440\",\n",
    "    external_axes=[ax1, ax2],\n",
    "    chart=True,\n",
    ")\n",
    "fig.tight_layout()\n",
    "f = io.BytesIO()\n",
    "fig.savefig(f, format=\"svg\")\n",
    "candle_one_year = f.getvalue().decode(\"utf-8\")"
   ]
  },
  {
   "cell_type": "code",
   "execution_count": null,
   "id": "c894b389",
   "metadata": {},
   "outputs": [],
   "source": [
    "from openbb_terminal.cryptocurrency.cryptocurrency_helpers import get_coingecko_id\n",
    "import openbb_terminal.cryptocurrency.due_diligence.pycoingecko_model as gecko\n",
    "\n",
    "potential_returns = pd.DataFrame()\n",
    "try:\n",
    "    current_coin_id = get_coingecko_id(symbol=ticker)\n",
    "    coin_found = get_coingecko_id(symbol=\"BTC\")\n",
    "\n",
    "    potential_returns = gecko.get_coin_potential_returns(current_coin_id, coin_found)\n",
    "    potential_returns = potential_returns.set_index(\"Coin\")\n",
    "\n",
    "except Exception as e:\n",
    "    # potential_returns = str(\"Reached coingecko API limit\")\n",
    "    pass"
   ]
  },
  {
   "cell_type": "markdown",
   "id": "7f83daae",
   "metadata": {},
   "source": [
    "## Due Diligence"
   ]
  },
  {
   "cell_type": "code",
   "execution_count": null,
   "id": "5e625a2e",
   "metadata": {},
   "outputs": [],
   "source": [
    "trading_pair_info = openbb.crypto.dd.trading_pair_info(f\"{ticker}-USDT\")\n",
    "trading_pair_info = trading_pair_info.set_index(\"Metric\")\n",
    "trading_pair_info"
   ]
  },
  {
   "cell_type": "code",
   "execution_count": null,
   "id": "8f33b4d8",
   "metadata": {},
   "outputs": [],
   "source": [
    "import openbb_terminal.cryptocurrency.due_diligence.pycoingecko_model as gecko\n",
    "from openbb_terminal.cryptocurrency.cryptocurrency_helpers import get_coingecko_id\n",
    "\n",
    "ath = pd.DataFrame()\n",
    "try:\n",
    "    cg_id = get_coingecko_id(symbol=ticker)\n",
    "    coin = gecko.Coin(ticker)\n",
    "    ath = coin.get_all_time_high(currency=cg_id)\n",
    "\n",
    "except Exception as e:\n",
    "    # ath = str(\"Reached coingecko API limit\")\n",
    "    pass"
   ]
  },
  {
   "cell_type": "code",
   "execution_count": null,
   "id": "2a82e990",
   "metadata": {},
   "outputs": [],
   "source": [
    "import openbb_terminal.cryptocurrency.due_diligence.pycoingecko_model as gecko\n",
    "from openbb_terminal.cryptocurrency.cryptocurrency_helpers import get_coingecko_id\n",
    "\n",
    "atl = pd.DataFrame()\n",
    "try:\n",
    "    cg_id = get_coingecko_id(symbol=ticker)\n",
    "    coin = gecko.Coin(ticker)\n",
    "    atl = coin.get_all_time_low(currency=cg_id)\n",
    "\n",
    "except Exception as e:\n",
    "    # atl = str(\"Reached coingecko API limit\")\n",
    "    pass"
   ]
  },
  {
   "cell_type": "code",
   "execution_count": null,
   "id": "e9e512e9",
   "metadata": {},
   "outputs": [],
   "source": [
    "# market stats about loaded coin\n",
    "from openbb_terminal.cryptocurrency.cryptocurrency_helpers import get_coinpaprika_id\n",
    "\n",
    "cp_id = get_coinpaprika_id(ticker)\n",
    "market = openbb.crypto.dd.mkt(cp_id)\n",
    "market = market.set_index(\"exchange\")"
   ]
  },
  {
   "cell_type": "code",
   "execution_count": null,
   "id": "1d6e76cb",
   "metadata": {},
   "outputs": [],
   "source": [
    "from openbb_terminal.cryptocurrency.cryptocurrency_helpers import get_coinpaprika_id\n",
    "\n",
    "# all exchanges where loaded coin is listed\n",
    "cp_id = get_coinpaprika_id(ticker)\n",
    "ex = openbb.crypto.dd.ex(cp_id)\n",
    "ex = ex.set_index(\"id\")\n",
    "ex"
   ]
  },
  {
   "cell_type": "code",
   "execution_count": null,
   "id": "1fcdbc67",
   "metadata": {},
   "outputs": [],
   "source": [
    "# last trades\n",
    "trades = openbb.crypto.dd.trades(symbol=f\"{ticker}-USDT\")\n",
    "trades = trades.set_index(\"time\")\n",
    "trades"
   ]
  },
  {
   "cell_type": "code",
   "execution_count": null,
   "id": "262d190a",
   "metadata": {},
   "outputs": [],
   "source": [
    "# order book\n",
    "\n",
    "fig, ax = plt.subplots(figsize=(11, 5), dpi=150)\n",
    "openbb.crypto.dd.cbbook(symbol=f\"{ticker}-USDT\", external_axes=[ax], chart=True)\n",
    "fig.tight_layout()\n",
    "f = io.BytesIO()\n",
    "fig.savefig(f, format=\"svg\")\n",
    "ob = f.getvalue().decode(\"utf-8\")"
   ]
  },
  {
   "cell_type": "code",
   "execution_count": null,
   "id": "679d0d79",
   "metadata": {},
   "outputs": [],
   "source": [
    "# price and supply related metrics for loaded coin\n",
    "from openbb_terminal.cryptocurrency.cryptocurrency_helpers import get_coinpaprika_id\n",
    "\n",
    "cp_id = get_coinpaprika_id(ticker)\n",
    "ps = openbb.crypto.dd.ps(cp_id)\n",
    "ps = ps.set_index(\"Metric\")\n",
    "ps"
   ]
  },
  {
   "cell_type": "code",
   "execution_count": null,
   "id": "92e76d79",
   "metadata": {},
   "outputs": [],
   "source": [
    "# events\n",
    "from openbb_terminal.cryptocurrency.cryptocurrency_helpers import get_coinpaprika_id\n",
    "\n",
    "cp_id = get_coinpaprika_id(ticker)\n",
    "events = openbb.crypto.dd.events(cp_id)\n",
    "events = events.set_index(\"date\")"
   ]
  },
  {
   "cell_type": "code",
   "execution_count": null,
   "id": "a14130db",
   "metadata": {},
   "outputs": [],
   "source": [
    "# social media\n",
    "\n",
    "from openbb_terminal.cryptocurrency.due_diligence.pycoingecko_view import display_social\n",
    "\n",
    "display_social(ticker)\n",
    "fig = plt.figure()\n",
    "fig.tight_layout()\n",
    "f = io.BytesIO()\n",
    "fig.savefig(f, format=\"svg\")\n",
    "social = f.getvalue().decode(\"utf-8\")"
   ]
  },
  {
   "cell_type": "code",
   "execution_count": null,
   "id": "8f89627f",
   "metadata": {},
   "outputs": [],
   "source": [
    "# tweets for loaded coin\n",
    "from openbb_terminal.cryptocurrency.cryptocurrency_helpers import get_coinpaprika_id\n",
    "\n",
    "cp_id = get_coinpaprika_id(ticker)\n",
    "tweets = openbb.crypto.dd.twitter(cp_id)\n",
    "tweets"
   ]
  },
  {
   "cell_type": "code",
   "execution_count": null,
   "id": "9bb75443",
   "metadata": {},
   "outputs": [],
   "source": [
    "# github activity over time\n",
    "\n",
    "gh = openbb.crypto.dd.gh(ticker)\n",
    "type(gh)"
   ]
  },
  {
   "cell_type": "markdown",
   "id": "fcaa973d",
   "metadata": {},
   "source": [
    "## TA\n"
   ]
  },
  {
   "cell_type": "code",
   "execution_count": null,
   "id": "477317b4",
   "metadata": {},
   "outputs": [],
   "source": [
    "ticker_data = historical_data_one_year.copy()"
   ]
  },
  {
   "cell_type": "code",
   "execution_count": null,
   "id": "7af3695c",
   "metadata": {},
   "outputs": [],
   "source": [
    "# simple moving average\n",
    "ticker_data.index.names = [\"date\"]\n",
    "\n",
    "fig, ax = plt.subplots(figsize=(11, 3), dpi=150)\n",
    "openbb.common.ta.ma(\n",
    "    data=ticker_data[\"Close\"],\n",
    "    ma_type=\"SMA\",\n",
    "    symbol=ticker,\n",
    "    external_axes=[ax],\n",
    "    chart=True,\n",
    ")\n",
    "fig.tight_layout()\n",
    "f = io.BytesIO()\n",
    "fig.savefig(f, format=\"svg\")\n",
    "sma = f.getvalue().decode(\"utf-8\")"
   ]
  },
  {
   "cell_type": "code",
   "execution_count": null,
   "id": "5d5089fa",
   "metadata": {},
   "outputs": [],
   "source": [
    "# exponential moving average\n",
    "fig, ax = plt.subplots(figsize=(11, 3), dpi=150)\n",
    "openbb.common.ta.ma(\n",
    "    data=ticker_data[\"Close\"],\n",
    "    ma_type=\"EMA\",\n",
    "    symbol=ticker,\n",
    "    external_axes=[ax],\n",
    "    chart=True,\n",
    ")\n",
    "fig.tight_layout()\n",
    "f = io.BytesIO()\n",
    "fig.savefig(f, format=\"svg\")\n",
    "ema = f.getvalue().decode(\"utf-8\")"
   ]
  },
  {
   "cell_type": "code",
   "execution_count": null,
   "id": "5facfbf4",
   "metadata": {},
   "outputs": [],
   "source": [
    "# zero lag exponential moving average\n",
    "\n",
    "fig, ax = plt.subplots(figsize=(11, 3), dpi=150)\n",
    "openbb.common.ta.ma(\n",
    "    data=ticker_data[\"Close\"],\n",
    "    ma_type=\"ZLMA\",\n",
    "    symbol=ticker,\n",
    "    external_axes=[ax],\n",
    "    chart=True,\n",
    ")\n",
    "fig.tight_layout()\n",
    "f = io.BytesIO()\n",
    "fig.savefig(f, format=\"svg\")\n",
    "zlma = f.getvalue().decode(\"utf-8\")"
   ]
  },
  {
   "cell_type": "code",
   "execution_count": null,
   "id": "df54f7ad",
   "metadata": {},
   "outputs": [],
   "source": [
    "# commodity channel index\n",
    "\n",
    "fig, (ax1, ax2) = plt.subplots(nrows=2, ncols=1, figsize=(11, 5), dpi=150)\n",
    "openbb.common.ta.cci(\n",
    "    data=ticker_data,\n",
    "    symbol=ticker,\n",
    "    external_axes=[ax1, ax2],\n",
    "    chart=True,\n",
    ")\n",
    "fig.tight_layout()\n",
    "f = io.BytesIO()\n",
    "fig.savefig(f, format=\"svg\")\n",
    "cci = f.getvalue().decode(\"utf-8\")"
   ]
  },
  {
   "cell_type": "code",
   "execution_count": null,
   "id": "f53469eb",
   "metadata": {},
   "outputs": [],
   "source": [
    "# moving average convergence/divergence\n",
    "\n",
    "fig, (ax1, ax2) = plt.subplots(nrows=2, ncols=1, figsize=(11, 5), dpi=150)\n",
    "openbb.common.ta.macd(\n",
    "    series=ticker_data[\"Adj Close\"],\n",
    "    symbol=ticker,\n",
    "    external_axes=[ax1, ax2],\n",
    "    chart=True,\n",
    ")\n",
    "fig.tight_layout()\n",
    "f = io.BytesIO()\n",
    "fig.savefig(f, format=\"svg\")\n",
    "macd = f.getvalue().decode(\"utf-8\")"
   ]
  },
  {
   "cell_type": "code",
   "execution_count": null,
   "id": "dd79e6b6",
   "metadata": {},
   "outputs": [],
   "source": [
    "# fisher transform\n",
    "\n",
    "fig, (ax1, ax2, ax3) = plt.subplots(nrows=3, ncols=1, figsize=(11, 11), dpi=150)\n",
    "openbb.common.ta.fisher(\n",
    "    data=ticker_data,\n",
    "    symbol=ticker,\n",
    "    external_axes=[ax1, ax2, ax3],\n",
    "    chart=True,\n",
    ")\n",
    "fig.tight_layout()\n",
    "f = io.BytesIO()\n",
    "fig.savefig(f, format=\"svg\")\n",
    "fisher = f.getvalue().decode(\"utf-8\")"
   ]
  },
  {
   "cell_type": "code",
   "execution_count": null,
   "id": "b699e61f",
   "metadata": {},
   "outputs": [],
   "source": [
    "# aroon indicator\n",
    "\n",
    "fig, (ax1, ax2, ax3) = plt.subplots(nrows=3, ncols=1, figsize=(11, 11), dpi=150)\n",
    "openbb.common.ta.aroon(\n",
    "    data=ticker_data,\n",
    "    symbol=ticker,\n",
    "    external_axes=[ax1, ax2, ax3],\n",
    "    chart=True,\n",
    ")\n",
    "fig.tight_layout()\n",
    "f = io.BytesIO()\n",
    "fig.savefig(f, format=\"svg\")\n",
    "aroon = f.getvalue().decode(\"utf-8\")"
   ]
  },
  {
   "cell_type": "code",
   "execution_count": null,
   "id": "79401027",
   "metadata": {},
   "outputs": [],
   "source": [
    "# bollinger bands\n",
    "\n",
    "fig, ax = plt.subplots(figsize=(11, 3), dpi=150)\n",
    "openbb.common.ta.bbands(\n",
    "    data=ticker_data,\n",
    "    symbol=ticker,\n",
    "    external_axes=[ax],\n",
    "    chart=True,\n",
    ")\n",
    "fig.tight_layout()\n",
    "f = io.BytesIO()\n",
    "fig.savefig(f, format=\"svg\")\n",
    "bbands = f.getvalue().decode(\"utf-8\")"
   ]
  },
  {
   "cell_type": "code",
   "execution_count": null,
   "id": "0b5e2949",
   "metadata": {},
   "outputs": [],
   "source": [
    "# fibonacci retracement\n",
    "\n",
    "fig, (ax1, ax2) = plt.subplots(nrows=2, ncols=1, figsize=(11, 5), dpi=150)\n",
    "openbb.common.ta.fib(\n",
    "    data=ticker_data,\n",
    "    symbol=ticker,\n",
    "    external_axes=[ax1, ax2],\n",
    "    chart=True,\n",
    ")\n",
    "fig.tight_layout()\n",
    "f = io.BytesIO()\n",
    "fig.savefig(f, format=\"svg\")\n",
    "fib = f.getvalue().decode(\"utf-8\")"
   ]
  },
  {
   "cell_type": "markdown",
   "id": "48847a7f",
   "metadata": {},
   "source": [
    "## QA"
   ]
  },
  {
   "cell_type": "code",
   "execution_count": null,
   "id": "e77b373b",
   "metadata": {},
   "outputs": [],
   "source": [
    "# summary\n",
    "\n",
    "summary = openbb.common.qa.summary(data=ticker_data)\n",
    "summary"
   ]
  },
  {
   "cell_type": "code",
   "execution_count": null,
   "id": "3ecfc93e",
   "metadata": {},
   "outputs": [],
   "source": [
    "# normality statistics and tests\n",
    "\n",
    "# fig, _ = plt.subplots(figsize=(11, 3), dpi=150)\n",
    "# openbb.common.qa.normality(\n",
    "#     data=ticker_data,\n",
    "#     target=\"Close\",\n",
    "#     chart=True,\n",
    "# )\n",
    "# fig.tight_layout()\n",
    "# f = io.BytesIO()\n",
    "# fig.savefig(f, format=\"svg\")\n",
    "\n",
    "normality = openbb.common.qa.normality(\n",
    "    data=ticker_data[\"Close\"],\n",
    ")\n",
    "normality"
   ]
  },
  {
   "cell_type": "code",
   "execution_count": null,
   "id": "8abe96b0",
   "metadata": {},
   "outputs": [],
   "source": [
    "# box and whisker plot\n",
    "\n",
    "fig, ax = plt.subplots(figsize=(11, 3), dpi=150)\n",
    "openbb.common.qa.bw(\n",
    "    symbol=ticker,\n",
    "    data=ticker_data,\n",
    "    target=\"Close\",\n",
    "    yearly=False,\n",
    "    external_axes=[ax],\n",
    "    chart=True,\n",
    ")\n",
    "fig.tight_layout()\n",
    "f = io.BytesIO()\n",
    "fig.savefig(f, format=\"svg\")\n",
    "bw = f.getvalue().decode(\"utf-8\")"
   ]
  },
  {
   "cell_type": "code",
   "execution_count": null,
   "id": "66a7dccc",
   "metadata": {},
   "outputs": [],
   "source": [
    "# rolling mean and std deviation of prices\n",
    "\n",
    "fig, (ax1, ax2) = plt.subplots(nrows=2, ncols=1, figsize=(11, 5), dpi=150)\n",
    "openbb.common.qa.rolling(\n",
    "    symbol=ticker,\n",
    "    data=ticker_data,\n",
    "    target=\"Close\",\n",
    "    external_axes=[ax1, ax2],\n",
    "    chart=True,\n",
    ")\n",
    "fig.tight_layout()\n",
    "f = io.BytesIO()\n",
    "fig.savefig(f, format=\"svg\")\n",
    "rolling = f.getvalue().decode(\"utf-8\")"
   ]
  },
  {
   "cell_type": "code",
   "execution_count": null,
   "id": "d6b43dd7",
   "metadata": {},
   "outputs": [],
   "source": [
    "# rolling kurtosis of distribution of prices\n",
    "\n",
    "fig, (ax1, ax2) = plt.subplots(nrows=2, ncols=1, figsize=(11, 5), dpi=150)\n",
    "openbb.common.qa.kurtosis(\n",
    "    symbol=ticker,\n",
    "    data=ticker_data,\n",
    "    target=\"Close\",\n",
    "    external_axes=[ax1, ax2],\n",
    "    chart=True,\n",
    ")\n",
    "fig.tight_layout()\n",
    "f = io.BytesIO()\n",
    "fig.savefig(f, format=\"svg\")\n",
    "kurtosis = f.getvalue().decode(\"utf-8\")"
   ]
  },
  {
   "cell_type": "markdown",
   "id": "ebdbebf5",
   "metadata": {},
   "source": [
    "## PRED"
   ]
  },
  {
   "cell_type": "code",
   "execution_count": null,
   "id": "fd5136de",
   "metadata": {},
   "outputs": [],
   "source": [
    "# TODO: add prediction"
   ]
  },
  {
   "cell_type": "markdown",
   "id": "ac501a32-124d-4d21-aae1-a8d147bb1071",
   "metadata": {},
   "source": [
    "## Render the report template to a file"
   ]
  },
  {
   "cell_type": "code",
   "execution_count": null,
   "id": "abfe37e4-ea38-42c3-8fb5-7cceb233fb12",
   "metadata": {},
   "outputs": [],
   "source": [
    "body = \"\"\n",
    "\n",
    "img = f'<img src=\"data:image/png;base64,{openbb_image_encoded.decode()}\" alt=\"OpenBB\" style=\"width:144px;\">'\n",
    "body += widgets.header(\n",
    "    img,\n",
    "    author,\n",
    "    report_date,\n",
    "    report_time,\n",
    "    report_timezone,\n",
    "    f\"<b>INVESTMENT RESEARCH REPORT:</b> {ticker}\",\n",
    ")\n",
    "\n",
    "body += widgets.tablinks(\n",
    "    [\n",
    "        \"SUMMARY\",\n",
    "        \"Due Diligence\",\n",
    "        \"Technical Analysis\",\n",
    "        \"Quantitative Analysis\",\n",
    "    ]\n",
    ")\n",
    "\n",
    "comment = \"\"\n",
    "\n",
    "# Summary tab\n",
    "htmlcode = \"\"\n",
    "htmlcode += widgets.row(\n",
    "    [widgets.h(3, \"Basic information about loaded coin\") + basic_info.to_html()]\n",
    ")\n",
    "htmlcode += widgets.row([widgets.h(3, \"Historical data\")])\n",
    "for data in historical_data:\n",
    "    htmlcode += widgets.row([data])\n",
    "htmlcode += widgets.row([widgets.h(3, \"1-year historical data - in detail\")])\n",
    "htmlcode += widgets.row(\n",
    "    [widgets.p(\"Note that the whole analysis is based on this 1-year historical data.\")]\n",
    ")\n",
    "htmlcode += widgets.row(\n",
    "    [\n",
    "        widgets.p(\"Here is a sample among the 365 days.\")\n",
    "        + historical_data_one_year.sample(n=20).sort_index().to_html()\n",
    "    ]\n",
    ")\n",
    "htmlcode += widgets.row([widgets.h(4, \"1-year historical data candlestick chart\")])\n",
    "htmlcode += widgets.row([candle_one_year])\n",
    "htmlcode += widgets.row([widgets.h(3, \"Sentiment analysis\")])\n",
    "htmlcode += widgets.row([headlines])\n",
    "htmlcode += widgets.row([widgets.h(3, \"Potential returns against BTC\")])\n",
    "htmlcode += widgets.row([potential_returns.to_html()])\n",
    "# TODO: print rich table\n",
    "# htmlcode += widgets.row([widgets.h(3, \"Quick performance\")])\n",
    "# htmlcode += widgets.row([quick_performance])\n",
    "body += widgets.add_tab(\"SUMMARY\", htmlcode)\n",
    "\n",
    "# # Due diligence tab\n",
    "htmlcode = \"\"\n",
    "htmlcode += widgets.row(\n",
    "    [widgets.h(3, f\"Trading pair info {ticker}/USDT\") + trading_pair_info.to_html()]\n",
    ")\n",
    "if not ath.empty:\n",
    "    htmlcode += widgets.row([widgets.h(3, \"All time high\")])\n",
    "    htmlcode += widgets.row([ath.to_html()])\n",
    "if not atl.empty:\n",
    "    htmlcode += widgets.row([widgets.h(3, \"All time low\")])\n",
    "    htmlcode += widgets.row([atl.to_html()])\n",
    "htmlcode += widgets.row([widgets.h(3, \"Market stats about loaded coin\")])\n",
    "htmlcode += widgets.row([market.sample(n=20).sort_index().to_html()])\n",
    "htmlcode += widgets.row([widgets.h(3, \"Exchanges where loaded coin is listed\")])\n",
    "htmlcode += widgets.row([ex.sample(n=20).sort_index().to_html()])\n",
    "htmlcode += widgets.row([widgets.h(3, \"Last trades\")])\n",
    "htmlcode += widgets.row([trades.tail(20).to_html()])\n",
    "htmlcode += widgets.row([widgets.h(3, \"Order book\")])\n",
    "htmlcode += widgets.row([ob])\n",
    "htmlcode += widgets.row(\n",
    "    [widgets.h(3, \"Price and supply related metrics for loaded coin\")]\n",
    ")\n",
    "htmlcode += widgets.row([ps.to_html()])\n",
    "if not events.empty:\n",
    "    htmlcode += widgets.row([widgets.h(3, \"Events\")])\n",
    "    htmlcode += widgets.row([events.to_html()])\n",
    "# TODO: print rich table\n",
    "# htmlcode += widgets.row([widgets.h(3, \"Tweets for loaded coin\")])\n",
    "# htmlcode += widgets.row([tweets])\n",
    "# htmlcode += widgets.row([widgets.h(3, \"Social media\")])\n",
    "# htmlcode += widgets.row([social.to_html()])\n",
    "if not gh.empty:\n",
    "    htmlcode += widgets.row([widgets.h(3, \"Github activity over time\")])\n",
    "    htmlcode += widgets.row([gh.to_html()])\n",
    "body += widgets.add_tab(\"Due Diligence\", htmlcode)\n",
    "\n",
    "# Technical Analysis tab\n",
    "htmlcode = \"\"\n",
    "htmlcode = widgets.row([widgets.h(3, \"Simple moving average\")])\n",
    "htmlcode += widgets.row([sma])\n",
    "htmlcode += widgets.row([widgets.h(3, \"Exponential moving average\")])\n",
    "htmlcode += widgets.row([ema])\n",
    "htmlcode += widgets.row([widgets.h(3, \"Zero lag exponential moving average\")])\n",
    "htmlcode += widgets.row([zlma])\n",
    "htmlcode += widgets.row([widgets.h(3, \"Commodity channel index\")])\n",
    "htmlcode += widgets.row([cci])\n",
    "htmlcode += widgets.row([widgets.h(3, \"Moving average convergence/divergence\")])\n",
    "htmlcode += widgets.row([macd])\n",
    "htmlcode += widgets.row([widgets.h(3, \"Fisher transform\")])\n",
    "htmlcode += widgets.row([fisher])\n",
    "htmlcode += widgets.row([widgets.h(3, \"Aroon indicator\")])\n",
    "htmlcode += widgets.row([aroon])\n",
    "htmlcode += widgets.row([widgets.h(3, \"Bollinger bands\")])\n",
    "htmlcode += widgets.row([bbands])\n",
    "htmlcode += widgets.row([widgets.h(3, \"Fibonacci retracement\")])\n",
    "htmlcode += widgets.row([fib])\n",
    "body += widgets.add_tab(\"Technical Analysis\", htmlcode)\n",
    "\n",
    "# Quantitative Analysis tab\n",
    "htmlcode = \"\"\n",
    "htmlcode = widgets.row([widgets.h(3, \"Summary\") + summary.to_html()])\n",
    "htmlcode += widgets.row(\n",
    "    [widgets.h(3, \"Normality statistics and tests\") + normality.to_html()]\n",
    ")\n",
    "htmlcode += widgets.row([widgets.h(3, \"Box and whisker plot\")])\n",
    "htmlcode += widgets.row([bw])\n",
    "htmlcode += widgets.row([widgets.h(3, \"Rolling mean and std deviation of prices\")])\n",
    "htmlcode += widgets.row([rolling])\n",
    "htmlcode += widgets.row([widgets.h(3, \"Rolling kurtosis of distribution of prices\")])\n",
    "htmlcode += widgets.row([kurtosis])\n",
    "body += widgets.add_tab(\"Quantitative Analysis\", htmlcode)\n",
    "\n",
    "body += widgets.tab_clickable_evt()\n",
    "\n",
    "report = widgets.html_report(title=report_name, stylesheet=stylesheet, body=body)\n",
    "\n",
    "# # to save the results\n",
    "with open(report_name + \".html\", \"w\", encoding=\"utf-8\") as fh:\n",
    "    fh.write(report)"
   ]
  },
  {
   "cell_type": "code",
   "execution_count": null,
   "id": "746a3e56",
   "metadata": {},
   "outputs": [],
   "source": []
  }
 ],
 "metadata": {
  "celltoolbar": "Tags",
  "kernelspec": {
   "display_name": "Python 3 (ipykernel)",
   "language": "python",
   "name": "python3"
  },
  "language_info": {
   "codemirror_mode": {
    "name": "ipython",
    "version": 3
   },
   "file_extension": ".py",
   "mimetype": "text/x-python",
   "name": "python",
   "nbconvert_exporter": "python",
   "pygments_lexer": "ipython3",
   "version": "3.9.13"
  },
  "vscode": {
   "interpreter": {
    "hash": "1a8cc6b6e60740679b24fc1ea93bdeb94d949a22102a80c99b7fd3f0d572afd6"
   }
  }
 },
 "nbformat": 4,
 "nbformat_minor": 5
}
