{
 "cells": [
  {
   "cell_type": "markdown",
   "id": "70ba2c8a",
   "metadata": {},
   "source": [
    "## Notebook setup"
   ]
  },
  {
   "cell_type": "code",
   "execution_count": null,
   "id": "driven-billion",
   "metadata": {},
   "outputs": [],
   "source": [
    "import os\n",
    "import io\n",
    "import warnings\n",
    "import datetime\n",
    "import numpy as np\n",
    "import base64\n",
    "import pytz\n",
    "import pandas as pd\n",
    "import matplotlib\n",
    "\n",
    "import matplotlib.pyplot as plt\n",
    "import matplotlib_inline.backend_inline\n",
    "\n",
    "from IPython.display import HTML\n",
    "\n",
    "# import sys\n",
    "# sys.path.append('../../')\n",
    "\n",
    "from openbb_terminal.api import widgets\n",
    "from openbb_terminal.api import helper\n",
    "from openbb_terminal.api import openbb\n",
    "from openbb_terminal.api import Portfolio\n",
    "from openbb_terminal.helper_classes import TerminalStyle\n",
    "\n",
    "%matplotlib inline\n",
    "matplotlib_inline.backend_inline.set_matplotlib_formats(\"svg\")\n",
    "warnings.filterwarnings(\"ignore\")\n",
    "\n",
    "# Detect if prediction capabilities are present. If they are not, disable prediction in the rest of the script\n",
    "# so that the report can still be generated without prediction results.\n",
    "# predictions = True\n",
    "# try:\n",
    "#     openbb.stocks.pred.models\n",
    "# except Exception as e:\n",
    "#     predictions = False\n",
    "\n",
    "# TODO Fix predictions virtual path on api refactored\n",
    "\n",
    "predictions = False"
   ]
  },
  {
   "cell_type": "markdown",
   "id": "8136bf90",
   "metadata": {},
   "source": [
    "### Header"
   ]
  },
  {
   "cell_type": "code",
   "execution_count": null,
   "id": "c3fe7db5-ec6a-42cf-9e66-52dc1de22370",
   "metadata": {},
   "outputs": [],
   "source": [
    "theme = TerminalStyle(\"dark\", \"dark\", \"dark\")\n",
    "stylesheet = widgets.html_report_stylesheet()\n",
    "user_time_zone = pytz.timezone(helper.get_user_timezone())"
   ]
  },
  {
   "cell_type": "code",
   "execution_count": null,
   "id": "daef64ec",
   "metadata": {
    "tags": [
     "parameters"
    ]
   },
   "outputs": [],
   "source": [
    "# Parameters that will be replaced when calling this notebook\n",
    "orderbook = \"Public_Equity_Orderbook.xlsx\"\n",
    "report_name = \"Portfolio Report\""
   ]
  },
  {
   "cell_type": "code",
   "execution_count": null,
   "id": "ee7112da",
   "metadata": {},
   "outputs": [],
   "source": [
    "if \"reports\" in os.getcwd():\n",
    "    holdings = \"../../portfolio/holdings/\"\n",
    "else:\n",
    "    holdings = \"portfolio/holdings/\""
   ]
  },
  {
   "cell_type": "code",
   "execution_count": null,
   "id": "1be26dae-cafe-4a22-80aa-eff296fc1a9b",
   "metadata": {},
   "outputs": [],
   "source": [
    "orderbook_path = holdings + orderbook\n",
    "_, orderbook_file = os.path.split(orderbook_path)\n",
    "report_title = f\"Portfolio report for {orderbook_file}\"\n",
    "report_date = pd.Timestamp.now(tz=user_time_zone).strftime(\"%d %B, %Y\")\n",
    "report_time = pd.Timestamp.now(tz=user_time_zone).strftime(\"%H:%M\")\n",
    "report_timezone = pd.Timestamp.now(tz=user_time_zone).tzinfo\n",
    "report_title, report_date, report_time, report_timezone"
   ]
  },
  {
   "cell_type": "markdown",
   "id": "9363f19a",
   "metadata": {},
   "source": [
    "## Data"
   ]
  },
  {
   "cell_type": "markdown",
   "id": "eb3dbd48",
   "metadata": {},
   "source": [
    "Loading"
   ]
  },
  {
   "cell_type": "code",
   "execution_count": null,
   "id": "655bcff8",
   "metadata": {},
   "outputs": [],
   "source": [
    "file = \"../../portfolio/allocation/OpenBB_Portfolio_Template_v1.0.0.xlsx\"\n",
    "tickers, categories = openbb.portfolio.po.load(file)"
   ]
  },
  {
   "cell_type": "code",
   "execution_count": null,
   "id": "b139556d",
   "metadata": {},
   "outputs": [],
   "source": [
    "openbb.portfolio.po.maxsharpe(tickers)"
   ]
  },
  {
   "cell_type": "code",
   "execution_count": null,
   "id": "80b39de4",
   "metadata": {},
   "outputs": [],
   "source": [
    "openbb.portfolio.po.minrisk(tickers)"
   ]
  },
  {
   "cell_type": "code",
   "execution_count": null,
   "id": "7ea4ef66",
   "metadata": {},
   "outputs": [],
   "source": [
    "openbb.portfolio.po.maxutil(tickers)"
   ]
  },
  {
   "cell_type": "code",
   "execution_count": null,
   "id": "6663bd40",
   "metadata": {},
   "outputs": [],
   "source": [
    "openbb.portfolio.po.maxret(tickers)"
   ]
  },
  {
   "cell_type": "code",
   "execution_count": null,
   "id": "d12aa72e",
   "metadata": {},
   "outputs": [],
   "source": [
    "openbb.portfolio.po.maxdiv(tickers)"
   ]
  },
  {
   "cell_type": "code",
   "execution_count": null,
   "id": "ccb71468",
   "metadata": {},
   "outputs": [],
   "source": [
    "openbb.portfolio.po.maxdecorr(tickers)"
   ]
  },
  {
   "cell_type": "code",
   "execution_count": null,
   "id": "38258ed5",
   "metadata": {},
   "outputs": [],
   "source": [
    "weights, _ = openbb.portfolio.po.maxsharpe(tickers)\n",
    "p_views = [\n",
    "    [0.0, 1.0, 0.0, 0.0, 0.0, 0.0, 0.0, 0.0, 0.0, 0.0, 0.0, 0.0, 0.0, 0.0, 0.0],\n",
    "    [1.0, 0.0, 0.0, 0.0, 0.0, 0.0, 0.0, 0.0, 0.0, 0.0, 0.0, 0.0, 0.0, 0.0, 0.0],\n",
    "    [0.0, 0.0, 0.0, 1.0, 0.0, 0.0, 0.0, 0.0, 0.0, 0.0, 0.0, 0.0, 0.0, 0.0, 0.0],\n",
    "]\n",
    "q_views = [0.1, 0.1, 0.05]"
   ]
  },
  {
   "cell_type": "code",
   "execution_count": null,
   "id": "b39d2cd4",
   "metadata": {},
   "outputs": [],
   "source": [
    "openbb.portfolio.po.blacklitterman(\n",
    "    symbols=tickers, benchmark=weights, p_views=p_views, q_views=q_views\n",
    ")"
   ]
  },
  {
   "cell_type": "code",
   "execution_count": null,
   "id": "edf4d015",
   "metadata": {},
   "outputs": [],
   "source": [
    "openbb.portfolio.po.ef(tickers, chart=True)"
   ]
  },
  {
   "cell_type": "code",
   "execution_count": null,
   "id": "4e2c6546",
   "metadata": {},
   "outputs": [],
   "source": [
    "openbb.portfolio.po.riskparity(tickers)"
   ]
  },
  {
   "cell_type": "code",
   "execution_count": null,
   "id": "24d87153",
   "metadata": {},
   "outputs": [],
   "source": [
    "openbb.portfolio.po.relriskparity(tickers)"
   ]
  },
  {
   "cell_type": "code",
   "execution_count": null,
   "id": "676a4113",
   "metadata": {},
   "outputs": [],
   "source": [
    "openbb.portfolio.po.hrp(tickers)"
   ]
  },
  {
   "cell_type": "code",
   "execution_count": null,
   "id": "fa6facdf",
   "metadata": {},
   "outputs": [],
   "source": [
    "openbb.portfolio.po.herc(tickers, chart=True)"
   ]
  },
  {
   "cell_type": "code",
   "execution_count": null,
   "id": "6ef8e6d1",
   "metadata": {},
   "outputs": [],
   "source": [
    "# NCO model is not working if not launched by controller\n",
    "openbb.portfolio.po.hcp(tickers, model=\"NCO\")"
   ]
  },
  {
   "cell_type": "code",
   "execution_count": null,
   "id": "bd04d009",
   "metadata": {},
   "outputs": [],
   "source": [
    "openbb.portfolio.po.equal(tickers)"
   ]
  },
  {
   "cell_type": "code",
   "execution_count": null,
   "id": "722e64b1",
   "metadata": {},
   "outputs": [],
   "source": [
    "openbb.portfolio.po.get_properties()"
   ]
  },
  {
   "cell_type": "code",
   "execution_count": null,
   "id": "27ee0a46",
   "metadata": {},
   "outputs": [],
   "source": [
    "openbb.portfolio.po.property(tickers, s_property=\"marketCap\")"
   ]
  },
  {
   "cell_type": "code",
   "execution_count": null,
   "id": "173398e7",
   "metadata": {},
   "outputs": [],
   "source": [
    "openbb.portfolio.po.property(tickers, s_property=\"dividendYield\")"
   ]
  },
  {
   "cell_type": "code",
   "execution_count": null,
   "id": "c213a2d8",
   "metadata": {},
   "outputs": [],
   "source": [
    "openbb.portfolio.po.meanrisk(tickers)"
   ]
  }
 ],
 "metadata": {
  "celltoolbar": "Tags",
  "kernelspec": {
   "display_name": "Python 3.8.13 ('gst')",
   "language": "python",
   "name": "python3"
  },
  "language_info": {
   "codemirror_mode": {
    "name": "ipython",
    "version": 3
   },
   "file_extension": ".py",
   "mimetype": "text/x-python",
   "name": "python",
   "nbconvert_exporter": "python",
   "pygments_lexer": "ipython3",
   "version": "3.8.13"
  },
  "vscode": {
   "interpreter": {
    "hash": "39c68581b77c20b2b9e341f45cfba0f58d94e64800d60175ae1f2ce9ad635dc5"
   }
  }
 },
 "nbformat": 4,
 "nbformat_minor": 5
}
