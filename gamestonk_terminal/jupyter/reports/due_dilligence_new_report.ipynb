{
 "cells": [
  {
   "cell_type": "code",
   "execution_count": 4,
   "id": "driven-billion",
   "metadata": {},
   "outputs": [],
   "source": [
    "# Import most generic modules\n",
    "import os\n",
    "import sys\n",
    "from datetime import datetime\n",
    "import pandas as pd\n",
    "from IPython.display import display, Markdown\n",
    "import warnings\n",
    "\n",
    "warnings.filterwarnings(\"ignore\")\n",
    "module_path = os.path.abspath(os.path.join(\"../..\"))\n",
    "\n",
    "import ipywidgets as widgets\n",
    "from ipyflex import FlexLayout\n",
    "from gamestonk_terminal import api as gst\n",
    "\n",
    "import matplotlib.pyplot as plt\n",
    "import matplotlib_inline.backend_inline\n",
    "\n",
    "from gamestonk_terminal.stocks.due_diligence import business_insider_model, business_insider_view, finnhub_model, finnhub_view, marketwatch_model, finviz_model\n",
    "from gamestonk_terminal.config_terminal import theme\n",
    "\n",
    "%matplotlib inline\n",
    "matplotlib_inline.backend_inline.set_matplotlib_formats(\"svg\")\n",
    "\n",
    "from gamestonk_terminal.jupyter.reports import report_helper\n",
    "import gamestonk_terminal.config_plot as cfp\n",
    "from gamestonk_terminal.helper_funcs import (\n",
    "    plot_autoscale,\n",
    ")\n",
    "\n",
    "warnings.filterwarnings(\"ignore\")\n",
    "module_path = os.path.abspath(os.path.join(\"../..\"))\n",
    "\n",
    "if module_path not in sys.path:\n",
    "    sys.path.append(module_path)"
   ]
  },
  {
   "cell_type": "markdown",
   "id": "70ba2c8a",
   "metadata": {},
   "source": [
    "## Set Terminal style to light mode"
   ]
  },
  {
   "cell_type": "code",
   "execution_count": 5,
   "id": "93766a26",
   "metadata": {},
   "outputs": [],
   "source": [
    "from gamestonk_terminal.helper_classes import TerminalStyle as _TerminalStyle\n",
    "\n",
    "try:\n",
    "    # Terminal UX section\n",
    "    theme = _TerminalStyle(\"light\", \"light\", \"light\",\n",
    "    )\n",
    "except Exception as e:\n",
    "    pass"
   ]
  },
  {
   "cell_type": "markdown",
   "id": "807fda4e",
   "metadata": {},
   "source": [
    "## Select Ticker"
   ]
  },
  {
   "cell_type": "code",
   "execution_count": 6,
   "id": "intended-sherman",
   "metadata": {
    "tags": [
     "parameters"
    ]
   },
   "outputs": [
    {
     "data": {
      "text/html": [
       "<pre style=\"white-space:pre;overflow-x:auto;line-height:normal;font-family:Menlo,'DejaVu Sans Mono',consolas,'Courier New',monospace\">\n",
       "Loading Daily AMC stock with starting period 2019-03-20 for analysis.\n",
       "</pre>\n"
      ],
      "text/plain": [
       "\n",
       "Loading Daily AMC stock with starting period 2019-03-20 for analysis.\n"
      ]
     },
     "metadata": {},
     "output_type": "display_data"
    }
   ],
   "source": [
    "# Parameters that will be replaced when calling this notebook\n",
    "ticker = \"AMC\"\n",
    "ticker_data = gst.stocks.load(ticker)\n",
    "\n",
    "report_name = (\n",
    "    f\"{datetime.now().strftime('%Y%m%d_%H%M%S')}_due_diligence_{ticker.upper()}\"\n",
    ")"
   ]
  },
  {
   "cell_type": "code",
   "execution_count": 7,
   "id": "mounted-phase",
   "metadata": {},
   "outputs": [
    {
     "data": {
      "text/markdown": [
       "# AMC - Due Dilligence - 2022/03/24 10:31:24"
      ],
      "text/plain": [
       "<IPython.core.display.Markdown object>"
      ]
     },
     "metadata": {},
     "output_type": "display_data"
    }
   ],
   "source": [
    "display(\n",
    "    Markdown(\n",
    "        f\"# {ticker.upper()} - Due Dilligence - {datetime.now().strftime('%Y/%m/%d %H:%M:%S')}\"\n",
    "    )\n",
    ")"
   ]
  },
  {
   "cell_type": "markdown",
   "id": "f8a0d747",
   "metadata": {},
   "source": [
    "## Dataframe Outputs"
   ]
  },
  {
   "cell_type": "code",
   "execution_count": 8,
   "id": "aca4b6ef",
   "metadata": {},
   "outputs": [],
   "source": [
    "df_year_estimates, df_quarter_earnings, df_quarter_revenues = business_insider_model.get_estimates(ticker)\n",
    "display_year = sorted(df_year_estimates.columns.tolist())[:3]\n",
    "df_year_estimates = df_year_estimates[display_year]"
   ]
  },
  {
   "cell_type": "markdown",
   "id": "b9c8feff",
   "metadata": {},
   "source": [
    "### 1. Yearly Estimates"
   ]
  },
  {
   "cell_type": "code",
   "execution_count": 9,
   "id": "c0f0a1ca",
   "metadata": {},
   "outputs": [
    {
     "data": {
      "text/html": [
       "<div>\n",
       "<style scoped>\n",
       "    .dataframe tbody tr th:only-of-type {\n",
       "        vertical-align: middle;\n",
       "    }\n",
       "\n",
       "    .dataframe tbody tr th {\n",
       "        vertical-align: top;\n",
       "    }\n",
       "\n",
       "    .dataframe thead th {\n",
       "        text-align: right;\n",
       "    }\n",
       "</style>\n",
       "<table border=\"1\" class=\"dataframe\">\n",
       "  <thead>\n",
       "    <tr style=\"text-align: right;\">\n",
       "      <th></th>\n",
       "      <th>2022</th>\n",
       "      <th>2023</th>\n",
       "      <th>2024</th>\n",
       "    </tr>\n",
       "    <tr>\n",
       "      <th>YEARLY ESTIMATES</th>\n",
       "      <th></th>\n",
       "      <th></th>\n",
       "      <th></th>\n",
       "    </tr>\n",
       "  </thead>\n",
       "  <tbody>\n",
       "    <tr>\n",
       "      <th>Revenue</th>\n",
       "      <td>4,603</td>\n",
       "      <td>5,269</td>\n",
       "      <td>5,381</td>\n",
       "    </tr>\n",
       "    <tr>\n",
       "      <th>Dividend</th>\n",
       "      <td>0.02</td>\n",
       "      <td>0.03</td>\n",
       "      <td>0.00</td>\n",
       "    </tr>\n",
       "    <tr>\n",
       "      <th>Dividend Yield (in %)</th>\n",
       "      <td>0.12 %</td>\n",
       "      <td>0.16 %</td>\n",
       "      <td>-</td>\n",
       "    </tr>\n",
       "    <tr>\n",
       "      <th>EPS</th>\n",
       "      <td>-0.80</td>\n",
       "      <td>-0.40</td>\n",
       "      <td>-0.29</td>\n",
       "    </tr>\n",
       "    <tr>\n",
       "      <th>P/E Ratio</th>\n",
       "      <td>-22.99</td>\n",
       "      <td>-46.19</td>\n",
       "      <td>-62.62</td>\n",
       "    </tr>\n",
       "  </tbody>\n",
       "</table>\n",
       "</div>"
      ],
      "text/plain": [
       "                         2022    2023    2024\n",
       "YEARLY ESTIMATES                             \n",
       "Revenue                 4,603   5,269   5,381\n",
       "Dividend                 0.02    0.03    0.00\n",
       "Dividend Yield (in %)  0.12 %  0.16 %       -\n",
       "EPS                     -0.80   -0.40   -0.29\n",
       "P/E Ratio              -22.99  -46.19  -62.62"
      ]
     },
     "execution_count": 9,
     "metadata": {},
     "output_type": "execute_result"
    }
   ],
   "source": [
    "df_year_estimates.head()"
   ]
  },
  {
   "cell_type": "markdown",
   "id": "64d3d490",
   "metadata": {},
   "source": [
    "### 2. Quarterly Earnings"
   ]
  },
  {
   "cell_type": "code",
   "execution_count": 10,
   "id": "fde46353",
   "metadata": {},
   "outputs": [
    {
     "data": {
      "text/html": [
       "<div>\n",
       "<style scoped>\n",
       "    .dataframe tbody tr th:only-of-type {\n",
       "        vertical-align: middle;\n",
       "    }\n",
       "\n",
       "    .dataframe tbody tr th {\n",
       "        vertical-align: top;\n",
       "    }\n",
       "\n",
       "    .dataframe thead th {\n",
       "        text-align: right;\n",
       "    }\n",
       "</style>\n",
       "<table border=\"1\" class=\"dataframe\">\n",
       "  <thead>\n",
       "    <tr style=\"text-align: right;\">\n",
       "      <th></th>\n",
       "      <th>Previous Quarter</th>\n",
       "      <th>Current Quarter</th>\n",
       "      <th>Next Quarter</th>\n",
       "      <th>Current Year</th>\n",
       "      <th>Next Year</th>\n",
       "    </tr>\n",
       "    <tr>\n",
       "      <th>QUARTER EARNINGS ESTIMATES</th>\n",
       "      <th></th>\n",
       "      <th></th>\n",
       "      <th></th>\n",
       "      <th></th>\n",
       "      <th></th>\n",
       "    </tr>\n",
       "  </thead>\n",
       "  <tbody>\n",
       "    <tr>\n",
       "      <th>Date</th>\n",
       "      <td>ending 12/31/21</td>\n",
       "      <td>ending 03/31/22</td>\n",
       "      <td>ending 06/30/22</td>\n",
       "      <td>ending 12/31/22</td>\n",
       "      <td>ending 12/31/23</td>\n",
       "    </tr>\n",
       "    <tr>\n",
       "      <th>No. of Analysts</th>\n",
       "      <td>8</td>\n",
       "      <td>7</td>\n",
       "      <td>7</td>\n",
       "      <td>7</td>\n",
       "      <td>7</td>\n",
       "    </tr>\n",
       "    <tr>\n",
       "      <th>Average Estimate</th>\n",
       "      <td>-0.229 USD</td>\n",
       "      <td>-0.471 USD</td>\n",
       "      <td>-0.138 USD</td>\n",
       "      <td>-0.801 USD</td>\n",
       "      <td>-0.399 USD</td>\n",
       "    </tr>\n",
       "    <tr>\n",
       "      <th>Year Ago</th>\n",
       "      <td>-6.210 USD</td>\n",
       "      <td>-1.420 USD</td>\n",
       "      <td>-0.710 USD</td>\n",
       "      <td>-2.500 USD</td>\n",
       "      <td>-0.801 USD</td>\n",
       "    </tr>\n",
       "    <tr>\n",
       "      <th>Publish Date</th>\n",
       "      <td>3/1/2022</td>\n",
       "      <td>5/9/2022</td>\n",
       "      <td>8/11/2022</td>\n",
       "      <td>-</td>\n",
       "      <td>-</td>\n",
       "    </tr>\n",
       "  </tbody>\n",
       "</table>\n",
       "</div>"
      ],
      "text/plain": [
       "                           Previous Quarter  Current Quarter     Next Quarter  \\\n",
       "QUARTER EARNINGS ESTIMATES                                                      \n",
       "Date                        ending 12/31/21  ending 03/31/22  ending 06/30/22   \n",
       "No. of Analysts                           8                7                7   \n",
       "Average Estimate                 -0.229 USD       -0.471 USD       -0.138 USD   \n",
       "Year Ago                         -6.210 USD       -1.420 USD       -0.710 USD   \n",
       "Publish Date                       3/1/2022         5/9/2022        8/11/2022   \n",
       "\n",
       "                               Current Year        Next Year  \n",
       "QUARTER EARNINGS ESTIMATES                                    \n",
       "Date                        ending 12/31/22  ending 12/31/23  \n",
       "No. of Analysts                           7                7  \n",
       "Average Estimate                 -0.801 USD       -0.399 USD  \n",
       "Year Ago                         -2.500 USD       -0.801 USD  \n",
       "Publish Date                              -                -  "
      ]
     },
     "execution_count": 10,
     "metadata": {},
     "output_type": "execute_result"
    }
   ],
   "source": [
    "df_quarter_earnings.head()"
   ]
  },
  {
   "cell_type": "markdown",
   "id": "d13a1e5e",
   "metadata": {},
   "source": [
    "### 3. Quarterly Revenues"
   ]
  },
  {
   "cell_type": "code",
   "execution_count": 11,
   "id": "51dfd9d2",
   "metadata": {},
   "outputs": [
    {
     "data": {
      "text/html": [
       "<div>\n",
       "<style scoped>\n",
       "    .dataframe tbody tr th:only-of-type {\n",
       "        vertical-align: middle;\n",
       "    }\n",
       "\n",
       "    .dataframe tbody tr th {\n",
       "        vertical-align: top;\n",
       "    }\n",
       "\n",
       "    .dataframe thead th {\n",
       "        text-align: right;\n",
       "    }\n",
       "</style>\n",
       "<table border=\"1\" class=\"dataframe\">\n",
       "  <thead>\n",
       "    <tr style=\"text-align: right;\">\n",
       "      <th></th>\n",
       "      <th>Previous Quarter</th>\n",
       "      <th>Current Quarter</th>\n",
       "      <th>Next Quarter</th>\n",
       "      <th>Current Year</th>\n",
       "      <th>Next Year</th>\n",
       "    </tr>\n",
       "    <tr>\n",
       "      <th>QUARTER REVENUES ESTIMATES</th>\n",
       "      <th></th>\n",
       "      <th></th>\n",
       "      <th></th>\n",
       "      <th></th>\n",
       "      <th></th>\n",
       "    </tr>\n",
       "  </thead>\n",
       "  <tbody>\n",
       "    <tr>\n",
       "      <th>Date</th>\n",
       "      <td>ending 12/31/21</td>\n",
       "      <td>ending 03/31/22</td>\n",
       "      <td>ending 06/30/22</td>\n",
       "      <td>ending 12/31/22</td>\n",
       "      <td>ending 12/31/23</td>\n",
       "    </tr>\n",
       "    <tr>\n",
       "      <th>No. of Analysts</th>\n",
       "      <td>7</td>\n",
       "      <td>7</td>\n",
       "      <td>7</td>\n",
       "      <td>8</td>\n",
       "      <td>7</td>\n",
       "    </tr>\n",
       "    <tr>\n",
       "      <th>Average Estimate</th>\n",
       "      <td>1,092 USD</td>\n",
       "      <td>779 USD</td>\n",
       "      <td>1,248 USD</td>\n",
       "      <td>4,603 USD</td>\n",
       "      <td>5,269 USD</td>\n",
       "    </tr>\n",
       "    <tr>\n",
       "      <th>Year Ago</th>\n",
       "      <td>163 USD</td>\n",
       "      <td>148 USD</td>\n",
       "      <td>445 USD</td>\n",
       "      <td>2,515 USD</td>\n",
       "      <td>4,603 USD</td>\n",
       "    </tr>\n",
       "    <tr>\n",
       "      <th>Publish Date</th>\n",
       "      <td>3/1/2022</td>\n",
       "      <td>5/9/2022</td>\n",
       "      <td>8/11/2022</td>\n",
       "      <td>-</td>\n",
       "      <td>-</td>\n",
       "    </tr>\n",
       "  </tbody>\n",
       "</table>\n",
       "</div>"
      ],
      "text/plain": [
       "                           Previous Quarter  Current Quarter     Next Quarter  \\\n",
       "QUARTER REVENUES ESTIMATES                                                      \n",
       "Date                        ending 12/31/21  ending 03/31/22  ending 06/30/22   \n",
       "No. of Analysts                           7                7                7   \n",
       "Average Estimate                  1,092 USD          779 USD        1,248 USD   \n",
       "Year Ago                            163 USD          148 USD          445 USD   \n",
       "Publish Date                       3/1/2022         5/9/2022        8/11/2022   \n",
       "\n",
       "                               Current Year        Next Year  \n",
       "QUARTER REVENUES ESTIMATES                                    \n",
       "Date                        ending 12/31/22  ending 12/31/23  \n",
       "No. of Analysts                           8                7  \n",
       "Average Estimate                  4,603 USD        5,269 USD  \n",
       "Year Ago                          2,515 USD        4,603 USD  \n",
       "Publish Date                              -                -  "
      ]
     },
     "execution_count": 11,
     "metadata": {},
     "output_type": "execute_result"
    }
   ],
   "source": [
    "df_quarter_revenues.head()"
   ]
  },
  {
   "cell_type": "markdown",
   "id": "6303e520",
   "metadata": {},
   "source": [
    "### 4. SEC Filings"
   ]
  },
  {
   "cell_type": "code",
   "execution_count": 12,
   "id": "3022130e",
   "metadata": {},
   "outputs": [
    {
     "data": {
      "text/html": [
       "<div>\n",
       "<style scoped>\n",
       "    .dataframe tbody tr th:only-of-type {\n",
       "        vertical-align: middle;\n",
       "    }\n",
       "\n",
       "    .dataframe tbody tr th {\n",
       "        vertical-align: top;\n",
       "    }\n",
       "\n",
       "    .dataframe thead th {\n",
       "        text-align: right;\n",
       "    }\n",
       "</style>\n",
       "<table border=\"1\" class=\"dataframe\">\n",
       "  <thead>\n",
       "    <tr style=\"text-align: right;\">\n",
       "      <th></th>\n",
       "      <th>Type</th>\n",
       "      <th>Category</th>\n",
       "      <th>Link</th>\n",
       "    </tr>\n",
       "    <tr>\n",
       "      <th>Filing Date</th>\n",
       "      <th></th>\n",
       "      <th></th>\n",
       "      <th></th>\n",
       "    </tr>\n",
       "  </thead>\n",
       "  <tbody>\n",
       "    <tr>\n",
       "      <th>03/01/2022</th>\n",
       "      <td>10-K</td>\n",
       "      <td>Annual Reports</td>\n",
       "      <td>https://www.marketwatch.com/investing/stock/amc/financials/secfilings?docid=15621595</td>\n",
       "    </tr>\n",
       "    <tr>\n",
       "      <th>03/01/2022</th>\n",
       "      <td>8-K</td>\n",
       "      <td>Special Events</td>\n",
       "      <td>https://www.marketwatch.com/investing/stock/amc/financials/secfilings?docid=15620562</td>\n",
       "    </tr>\n",
       "    <tr>\n",
       "      <th>03/01/2022</th>\n",
       "      <td>8-K</td>\n",
       "      <td>Special Events</td>\n",
       "      <td>https://www.marketwatch.com/investing/stock/amc/financials/secfilings?docid=15616454</td>\n",
       "    </tr>\n",
       "    <tr>\n",
       "      <th>02/14/2022</th>\n",
       "      <td>8-K</td>\n",
       "      <td>Special Events</td>\n",
       "      <td>https://www.marketwatch.com/investing/stock/amc/financials/secfilings?docid=15569198</td>\n",
       "    </tr>\n",
       "    <tr>\n",
       "      <th>02/09/2022</th>\n",
       "      <td>SC 13G</td>\n",
       "      <td>Institutional Ownership</td>\n",
       "      <td>https://www.marketwatch.com/investing/stock/amc/financials/secfilings?docid=15544603</td>\n",
       "    </tr>\n",
       "  </tbody>\n",
       "</table>\n",
       "</div>"
      ],
      "text/plain": [
       "               Type                 Category  \\\n",
       "Filing Date                                    \n",
       "03/01/2022     10-K           Annual Reports   \n",
       "03/01/2022      8-K           Special Events   \n",
       "03/01/2022      8-K           Special Events   \n",
       "02/14/2022      8-K           Special Events   \n",
       "02/09/2022   SC 13G  Institutional Ownership   \n",
       "\n",
       "                                                                                             Link  \n",
       "Filing Date                                                                                        \n",
       "03/01/2022   https://www.marketwatch.com/investing/stock/amc/financials/secfilings?docid=15621595  \n",
       "03/01/2022   https://www.marketwatch.com/investing/stock/amc/financials/secfilings?docid=15620562  \n",
       "03/01/2022   https://www.marketwatch.com/investing/stock/amc/financials/secfilings?docid=15616454  \n",
       "02/14/2022   https://www.marketwatch.com/investing/stock/amc/financials/secfilings?docid=15569198  \n",
       "02/09/2022   https://www.marketwatch.com/investing/stock/amc/financials/secfilings?docid=15544603  "
      ]
     },
     "execution_count": 12,
     "metadata": {},
     "output_type": "execute_result"
    }
   ],
   "source": [
    "df_sec_filings = marketwatch_model.get_sec_filings(ticker)[[\"Type\", \"Category\", \"Link\"]].head(5)\n",
    "df_sec_filings"
   ]
  },
  {
   "cell_type": "markdown",
   "id": "1e201003",
   "metadata": {},
   "source": [
    "### 5. Analyst Ratings"
   ]
  },
  {
   "cell_type": "code",
   "execution_count": 13,
   "id": "4662b1ac",
   "metadata": {},
   "outputs": [
    {
     "data": {
      "text/html": [
       "<div>\n",
       "<style scoped>\n",
       "    .dataframe tbody tr th:only-of-type {\n",
       "        vertical-align: middle;\n",
       "    }\n",
       "\n",
       "    .dataframe tbody tr th {\n",
       "        vertical-align: top;\n",
       "    }\n",
       "\n",
       "    .dataframe thead th {\n",
       "        text-align: right;\n",
       "    }\n",
       "</style>\n",
       "<table border=\"1\" class=\"dataframe\">\n",
       "  <thead>\n",
       "    <tr style=\"text-align: right;\">\n",
       "      <th></th>\n",
       "      <th>Category</th>\n",
       "      <th>Analyst</th>\n",
       "      <th>Rating</th>\n",
       "      <th>Price Target</th>\n",
       "    </tr>\n",
       "    <tr>\n",
       "      <th>date</th>\n",
       "      <th></th>\n",
       "      <th></th>\n",
       "      <th></th>\n",
       "      <th></th>\n",
       "    </tr>\n",
       "  </thead>\n",
       "  <tbody>\n",
       "    <tr>\n",
       "      <th>2021-11-04</th>\n",
       "      <td>Downgrade</td>\n",
       "      <td>Wedbush</td>\n",
       "      <td>Neutral -&gt; Underperform</td>\n",
       "      <td>7.5</td>\n",
       "    </tr>\n",
       "    <tr>\n",
       "      <th>2021-09-01</th>\n",
       "      <td>Downgrade</td>\n",
       "      <td>Macquarie</td>\n",
       "      <td>Neutral -&gt; Underperform</td>\n",
       "      <td>NaN</td>\n",
       "    </tr>\n",
       "    <tr>\n",
       "      <th>2021-05-26</th>\n",
       "      <td>Downgrade</td>\n",
       "      <td>B. Riley Securities</td>\n",
       "      <td>Buy -&gt; Neutral</td>\n",
       "      <td>16.0</td>\n",
       "    </tr>\n",
       "    <tr>\n",
       "      <th>2021-04-05</th>\n",
       "      <td>Upgrade</td>\n",
       "      <td>B. Riley Securities</td>\n",
       "      <td>Neutral -&gt; Buy</td>\n",
       "      <td>13.0</td>\n",
       "    </tr>\n",
       "    <tr>\n",
       "      <th>2021-02-01</th>\n",
       "      <td>Downgrade</td>\n",
       "      <td>MKM Partners</td>\n",
       "      <td>Neutral -&gt; Sell</td>\n",
       "      <td>1.0</td>\n",
       "    </tr>\n",
       "  </tbody>\n",
       "</table>\n",
       "</div>"
      ],
      "text/plain": [
       "             Category              Analyst                   Rating  \\\n",
       "date                                                                  \n",
       "2021-11-04  Downgrade              Wedbush  Neutral -> Underperform   \n",
       "2021-09-01  Downgrade            Macquarie  Neutral -> Underperform   \n",
       "2021-05-26  Downgrade  B. Riley Securities           Buy -> Neutral   \n",
       "2021-04-05    Upgrade  B. Riley Securities           Neutral -> Buy   \n",
       "2021-02-01  Downgrade         MKM Partners          Neutral -> Sell   \n",
       "\n",
       "            Price Target  \n",
       "date                      \n",
       "2021-11-04           7.5  \n",
       "2021-09-01           NaN  \n",
       "2021-05-26          16.0  \n",
       "2021-04-05          13.0  \n",
       "2021-02-01           1.0  "
      ]
     },
     "execution_count": 13,
     "metadata": {},
     "output_type": "execute_result"
    }
   ],
   "source": [
    "df_analyst = finviz_model.get_analyst_data(ticker)\n",
    "df_analyst[\"target_to\"] = df_analyst[\"target_to\"].combine_first(df_analyst[\"target\"])\n",
    "df_analyst = df_analyst[[\"category\",\"analyst\", \"rating\", \"target_to\"]].rename(columns = {\"category\": \"Category\", \"analyst\": \"Analyst\", \"rating\": \"Rating\", \"target_to\": \"Price Target\"})\n",
    "df_analyst"
   ]
  },
  {
   "cell_type": "markdown",
   "id": "eba11600",
   "metadata": {},
   "source": [
    "## Plots"
   ]
  },
  {
   "cell_type": "markdown",
   "id": "bf07a909",
   "metadata": {},
   "source": [
    "### 1. Price Target"
   ]
  },
  {
   "cell_type": "code",
   "execution_count": 14,
   "id": "900686a3",
   "metadata": {},
   "outputs": [
    {
     "data": {
      "text/html": [
       "<pre style=\"white-space:pre;overflow-x:auto;line-height:normal;font-family:Menlo,'DejaVu Sans Mono',consolas,'Courier New',monospace\">\n",
       "</pre>\n"
      ],
      "text/plain": [
       "\n"
      ]
     },
     "metadata": {},
     "output_type": "display_data"
    },
    {
     "data": {
      "image/svg+xml": "<?xml version=\"1.0\" encoding=\"utf-8\" standalone=\"no\"?>\n<!DOCTYPE svg PUBLIC \"-//W3C//DTD SVG 1.1//EN\"\n  \"http://www.w3.org/Graphics/SVG/1.1/DTD/svg11.dtd\">\n<svg xmlns:xlink=\"http://www.w3.org/1999/xlink\" width=\"496.148384pt\" height=\"325.772366pt\" viewBox=\"0 0 496.148384 325.772366\" xmlns=\"http://www.w3.org/2000/svg\" version=\"1.1\">\n <metadata>\n  <rdf:RDF xmlns:dc=\"http://purl.org/dc/elements/1.1/\" xmlns:cc=\"http://creativecommons.org/ns#\" xmlns:rdf=\"http://www.w3.org/1999/02/22-rdf-syntax-ns#\">\n   <cc:Work>\n    <dc:type rdf:resource=\"http://purl.org/dc/dcmitype/StillImage\"/>\n    <dc:date>2022-03-24T10:31:30.701496</dc:date>\n    <dc:format>image/svg+xml</dc:format>\n    <dc:creator>\n     <cc:Agent>\n      <dc:title>Matplotlib v3.5.1, https://matplotlib.org/</dc:title>\n     </cc:Agent>\n    </dc:creator>\n   </cc:Work>\n  </rdf:RDF>\n </metadata>\n <defs>\n  <style type=\"text/css\">*{stroke-linejoin: round; stroke-linecap: butt}</style>\n </defs>\n <g id=\"figure_1\">\n  <g id=\"patch_1\">\n   <path d=\"M 0 325.772366 \nL 496.148384 325.772366 \nL 496.148384 0 \nL 0 0 \nz\n\" style=\"fill: #ffffff\"/>\n  </g>\n  <g id=\"axes_1\">\n   <g id=\"patch_2\">\n    <path d=\"M 11.500366 296.341687 \nL 457.900366 296.341687 \nL 457.900366 24.541687 \nL 11.500366 24.541687 \nz\n\" style=\"fill: #ffffff\"/>\n   </g>\n   <g id=\"matplotlib.axis_1\">\n    <g id=\"xtick_1\">\n     <g id=\"line2d_1\">\n      <path d=\"M 28.560239 296.341687 \nL 28.560239 24.541687 \n\" clip-path=\"url(#pfe33236944)\" style=\"fill: none; stroke-dasharray: 0.4,0.66; stroke-dashoffset: 0; stroke: #0f0f0f; stroke-width: 0.4; stroke-linejoin: miter\"/>\n     </g>\n     <g id=\"line2d_2\">\n      <defs>\n       <path id=\"m0d954d21a0\" d=\"M 0 0 \nL 0 2 \n\" style=\"stroke: #0f0f0f; stroke-width: 0.2\"/>\n      </defs>\n      <g>\n       <use xlink:href=\"#m0d954d21a0\" x=\"28.560239\" y=\"296.341687\" style=\"fill: #0f0f0f; stroke: #0f0f0f; stroke-width: 0.2\"/>\n      </g>\n     </g>\n     <g id=\"text_1\">\n      <!-- 2019-05 -->\n      <g style=\"fill: #0f0f0f\" transform=\"translate(8.497501 316.437803)rotate(-10)scale(0.10829 -0.10829)\">\n       <defs>\n        <path id=\"Consolas-32\" d=\"M 3150 0 \nL 459 0 \nL 459 488 \nL 1516 1538 \nQ 1775 1794 1937 1981 \nQ 2100 2169 2190 2323 \nQ 2281 2478 2312 2615 \nQ 2344 2753 2344 2913 \nQ 2344 3063 2303 3198 \nQ 2263 3334 2178 3437 \nQ 2094 3541 1959 3600 \nQ 1825 3659 1638 3659 \nQ 1378 3659 1165 3543 \nQ 953 3428 775 3244 \nL 475 3603 \nQ 706 3847 1007 3994 \nQ 1309 4141 1709 4141 \nQ 1981 4141 2204 4059 \nQ 2428 3978 2590 3825 \nQ 2753 3672 2842 3450 \nQ 2931 3228 2931 2950 \nQ 2931 2716 2868 2516 \nQ 2806 2316 2679 2117 \nQ 2553 1919 2361 1706 \nQ 2169 1494 1906 1241 \nL 1166 519 \nL 3150 519 \nL 3150 0 \nz\n\" transform=\"scale(0.015625)\"/>\n        <path id=\"Consolas-30\" d=\"M 3244 2041 \nQ 3244 1572 3150 1186 \nQ 3056 800 2865 523 \nQ 2675 247 2392 95 \nQ 2109 -56 1728 -56 \nQ 1400 -56 1131 67 \nQ 863 191 672 447 \nQ 481 703 378 1100 \nQ 275 1497 275 2041 \nQ 275 2509 370 2896 \nQ 466 3284 655 3561 \nQ 844 3838 1128 3989 \nQ 1413 4141 1791 4141 \nQ 2119 4141 2387 4017 \nQ 2656 3894 2847 3636 \nQ 3038 3378 3141 2981 \nQ 3244 2584 3244 2041 \nz\nM 2694 2022 \nQ 2694 2128 2686 2233 \nQ 2678 2338 2669 2438 \nL 941 1153 \nQ 988 991 1059 853 \nQ 1131 716 1232 617 \nQ 1334 519 1464 464 \nQ 1594 409 1759 409 \nQ 1972 409 2145 512 \nQ 2319 616 2441 819 \nQ 2563 1022 2628 1323 \nQ 2694 1625 2694 2022 \nz\nM 825 2059 \nQ 825 1963 826 1866 \nQ 828 1769 838 1678 \nL 2566 2956 \nQ 2519 3116 2447 3247 \nQ 2375 3378 2275 3473 \nQ 2175 3569 2047 3622 \nQ 1919 3675 1759 3675 \nQ 1547 3675 1373 3572 \nQ 1200 3469 1078 3264 \nQ 956 3059 890 2757 \nQ 825 2456 825 2059 \nz\n\" transform=\"scale(0.015625)\"/>\n        <path id=\"Consolas-31\" d=\"M 3116 0 \nL 550 0 \nL 550 506 \nL 1600 506 \nL 1600 3488 \nL 622 2956 \nL 422 3419 \nL 1722 4103 \nL 2203 4103 \nL 2203 506 \nL 3116 506 \nL 3116 0 \nz\n\" transform=\"scale(0.015625)\"/>\n        <path id=\"Consolas-39\" d=\"M 3128 2272 \nQ 3128 1675 2984 1245 \nQ 2841 816 2559 539 \nQ 2278 263 1862 131 \nQ 1447 0 903 0 \nL 563 0 \nL 563 475 \nL 941 475 \nQ 1344 475 1637 556 \nQ 1931 638 2126 795 \nQ 2322 953 2425 1179 \nQ 2528 1406 2553 1697 \nL 2566 1825 \nQ 2369 1709 2112 1639 \nQ 1856 1569 1556 1569 \nQ 1247 1569 1012 1659 \nQ 778 1750 623 1912 \nQ 469 2075 391 2298 \nQ 313 2522 313 2784 \nQ 313 3069 416 3316 \nQ 519 3563 705 3745 \nQ 891 3928 1150 4034 \nQ 1409 4141 1722 4141 \nQ 2025 4141 2283 4041 \nQ 2541 3941 2728 3717 \nQ 2916 3494 3022 3137 \nQ 3128 2781 3128 2272 \nz\nM 1697 3694 \nQ 1522 3694 1373 3636 \nQ 1225 3578 1117 3467 \nQ 1009 3356 946 3193 \nQ 884 3031 884 2822 \nQ 884 2631 929 2481 \nQ 975 2331 1070 2226 \nQ 1166 2122 1316 2065 \nQ 1466 2009 1672 2009 \nQ 1788 2009 1911 2031 \nQ 2034 2053 2151 2090 \nQ 2269 2128 2375 2178 \nQ 2481 2228 2566 2284 \nQ 2566 2688 2506 2958 \nQ 2447 3228 2334 3392 \nQ 2222 3556 2061 3625 \nQ 1900 3694 1697 3694 \nz\n\" transform=\"scale(0.015625)\"/>\n        <path id=\"Consolas-2d\" d=\"M 2694 1447 \nL 825 1447 \nL 825 1959 \nL 2694 1959 \nL 2694 1447 \nz\n\" transform=\"scale(0.015625)\"/>\n        <path id=\"Consolas-35\" d=\"M 3047 1306 \nQ 3047 1003 2915 753 \nQ 2784 503 2554 323 \nQ 2325 144 2012 44 \nQ 1700 -56 1338 -56 \nQ 1247 -56 1142 -51 \nQ 1038 -47 934 -39 \nQ 831 -31 732 -22 \nQ 634 -13 556 0 \nL 556 494 \nQ 725 453 942 434 \nQ 1159 416 1381 416 \nQ 1631 416 1831 475 \nQ 2031 534 2172 645 \nQ 2313 756 2388 914 \nQ 2463 1072 2463 1269 \nQ 2463 1650 2189 1823 \nQ 1916 1997 1403 1997 \nL 628 1997 \nL 628 4084 \nL 2828 4084 \nL 2828 3609 \nL 1141 3609 \nL 1141 2463 \nL 1497 2463 \nQ 1791 2463 2069 2409 \nQ 2347 2356 2564 2223 \nQ 2781 2091 2914 1867 \nQ 3047 1644 3047 1306 \nz\n\" transform=\"scale(0.015625)\"/>\n       </defs>\n       <use xlink:href=\"#Consolas-32\"/>\n       <use xlink:href=\"#Consolas-30\" x=\"54.980469\"/>\n       <use xlink:href=\"#Consolas-31\" x=\"109.960938\"/>\n       <use xlink:href=\"#Consolas-39\" x=\"164.941406\"/>\n       <use xlink:href=\"#Consolas-2d\" x=\"219.921875\"/>\n       <use xlink:href=\"#Consolas-30\" x=\"274.902344\"/>\n       <use xlink:href=\"#Consolas-35\" x=\"329.882812\"/>\n      </g>\n     </g>\n    </g>\n    <g id=\"xtick_2\">\n     <g id=\"line2d_3\">\n      <path d=\"M 78.521294 296.341687 \nL 78.521294 24.541687 \n\" clip-path=\"url(#pfe33236944)\" style=\"fill: none; stroke-dasharray: 0.4,0.66; stroke-dashoffset: 0; stroke: #0f0f0f; stroke-width: 0.4; stroke-linejoin: miter\"/>\n     </g>\n     <g id=\"line2d_4\">\n      <g>\n       <use xlink:href=\"#m0d954d21a0\" x=\"78.521294\" y=\"296.341687\" style=\"fill: #0f0f0f; stroke: #0f0f0f; stroke-width: 0.2\"/>\n      </g>\n     </g>\n     <g id=\"text_2\">\n      <!-- 2019-09 -->\n      <g style=\"fill: #0f0f0f\" transform=\"translate(58.458556 316.437803)rotate(-10)scale(0.10829 -0.10829)\">\n       <use xlink:href=\"#Consolas-32\"/>\n       <use xlink:href=\"#Consolas-30\" x=\"54.980469\"/>\n       <use xlink:href=\"#Consolas-31\" x=\"109.960938\"/>\n       <use xlink:href=\"#Consolas-39\" x=\"164.941406\"/>\n       <use xlink:href=\"#Consolas-2d\" x=\"219.921875\"/>\n       <use xlink:href=\"#Consolas-30\" x=\"274.902344\"/>\n       <use xlink:href=\"#Consolas-39\" x=\"329.882812\"/>\n      </g>\n     </g>\n    </g>\n    <g id=\"xtick_3\">\n     <g id=\"line2d_5\">\n      <path d=\"M 128.076162 296.341687 \nL 128.076162 24.541687 \n\" clip-path=\"url(#pfe33236944)\" style=\"fill: none; stroke-dasharray: 0.4,0.66; stroke-dashoffset: 0; stroke: #0f0f0f; stroke-width: 0.4; stroke-linejoin: miter\"/>\n     </g>\n     <g id=\"line2d_6\">\n      <g>\n       <use xlink:href=\"#m0d954d21a0\" x=\"128.076162\" y=\"296.341687\" style=\"fill: #0f0f0f; stroke: #0f0f0f; stroke-width: 0.2\"/>\n      </g>\n     </g>\n     <g id=\"text_3\">\n      <!-- 2020-01 -->\n      <g style=\"fill: #0f0f0f\" transform=\"translate(108.013424 316.437803)rotate(-10)scale(0.10829 -0.10829)\">\n       <use xlink:href=\"#Consolas-32\"/>\n       <use xlink:href=\"#Consolas-30\" x=\"54.980469\"/>\n       <use xlink:href=\"#Consolas-32\" x=\"109.960938\"/>\n       <use xlink:href=\"#Consolas-30\" x=\"164.941406\"/>\n       <use xlink:href=\"#Consolas-2d\" x=\"219.921875\"/>\n       <use xlink:href=\"#Consolas-30\" x=\"274.902344\"/>\n       <use xlink:href=\"#Consolas-31\" x=\"329.882812\"/>\n      </g>\n     </g>\n    </g>\n    <g id=\"xtick_4\">\n     <g id=\"line2d_7\">\n      <path d=\"M 177.224843 296.341687 \nL 177.224843 24.541687 \n\" clip-path=\"url(#pfe33236944)\" style=\"fill: none; stroke-dasharray: 0.4,0.66; stroke-dashoffset: 0; stroke: #0f0f0f; stroke-width: 0.4; stroke-linejoin: miter\"/>\n     </g>\n     <g id=\"line2d_8\">\n      <g>\n       <use xlink:href=\"#m0d954d21a0\" x=\"177.224843\" y=\"296.341687\" style=\"fill: #0f0f0f; stroke: #0f0f0f; stroke-width: 0.2\"/>\n      </g>\n     </g>\n     <g id=\"text_4\">\n      <!-- 2020-05 -->\n      <g style=\"fill: #0f0f0f\" transform=\"translate(157.162105 316.437803)rotate(-10)scale(0.10829 -0.10829)\">\n       <use xlink:href=\"#Consolas-32\"/>\n       <use xlink:href=\"#Consolas-30\" x=\"54.980469\"/>\n       <use xlink:href=\"#Consolas-32\" x=\"109.960938\"/>\n       <use xlink:href=\"#Consolas-30\" x=\"164.941406\"/>\n       <use xlink:href=\"#Consolas-2d\" x=\"219.921875\"/>\n       <use xlink:href=\"#Consolas-30\" x=\"274.902344\"/>\n       <use xlink:href=\"#Consolas-35\" x=\"329.882812\"/>\n      </g>\n     </g>\n    </g>\n    <g id=\"xtick_5\">\n     <g id=\"line2d_9\">\n      <path d=\"M 227.185899 296.341687 \nL 227.185899 24.541687 \n\" clip-path=\"url(#pfe33236944)\" style=\"fill: none; stroke-dasharray: 0.4,0.66; stroke-dashoffset: 0; stroke: #0f0f0f; stroke-width: 0.4; stroke-linejoin: miter\"/>\n     </g>\n     <g id=\"line2d_10\">\n      <g>\n       <use xlink:href=\"#m0d954d21a0\" x=\"227.185899\" y=\"296.341687\" style=\"fill: #0f0f0f; stroke: #0f0f0f; stroke-width: 0.2\"/>\n      </g>\n     </g>\n     <g id=\"text_5\">\n      <!-- 2020-09 -->\n      <g style=\"fill: #0f0f0f\" transform=\"translate(207.123161 316.437803)rotate(-10)scale(0.10829 -0.10829)\">\n       <use xlink:href=\"#Consolas-32\"/>\n       <use xlink:href=\"#Consolas-30\" x=\"54.980469\"/>\n       <use xlink:href=\"#Consolas-32\" x=\"109.960938\"/>\n       <use xlink:href=\"#Consolas-30\" x=\"164.941406\"/>\n       <use xlink:href=\"#Consolas-2d\" x=\"219.921875\"/>\n       <use xlink:href=\"#Consolas-30\" x=\"274.902344\"/>\n       <use xlink:href=\"#Consolas-39\" x=\"329.882812\"/>\n      </g>\n     </g>\n    </g>\n    <g id=\"xtick_6\">\n     <g id=\"line2d_11\">\n      <path d=\"M 276.740767 296.341687 \nL 276.740767 24.541687 \n\" clip-path=\"url(#pfe33236944)\" style=\"fill: none; stroke-dasharray: 0.4,0.66; stroke-dashoffset: 0; stroke: #0f0f0f; stroke-width: 0.4; stroke-linejoin: miter\"/>\n     </g>\n     <g id=\"line2d_12\">\n      <g>\n       <use xlink:href=\"#m0d954d21a0\" x=\"276.740767\" y=\"296.341687\" style=\"fill: #0f0f0f; stroke: #0f0f0f; stroke-width: 0.2\"/>\n      </g>\n     </g>\n     <g id=\"text_6\">\n      <!-- 2021-01 -->\n      <g style=\"fill: #0f0f0f\" transform=\"translate(256.678029 316.437803)rotate(-10)scale(0.10829 -0.10829)\">\n       <use xlink:href=\"#Consolas-32\"/>\n       <use xlink:href=\"#Consolas-30\" x=\"54.980469\"/>\n       <use xlink:href=\"#Consolas-32\" x=\"109.960938\"/>\n       <use xlink:href=\"#Consolas-31\" x=\"164.941406\"/>\n       <use xlink:href=\"#Consolas-2d\" x=\"219.921875\"/>\n       <use xlink:href=\"#Consolas-30\" x=\"274.902344\"/>\n       <use xlink:href=\"#Consolas-31\" x=\"329.882812\"/>\n      </g>\n     </g>\n    </g>\n    <g id=\"xtick_7\">\n     <g id=\"line2d_13\">\n      <path d=\"M 325.48326 296.341687 \nL 325.48326 24.541687 \n\" clip-path=\"url(#pfe33236944)\" style=\"fill: none; stroke-dasharray: 0.4,0.66; stroke-dashoffset: 0; stroke: #0f0f0f; stroke-width: 0.4; stroke-linejoin: miter\"/>\n     </g>\n     <g id=\"line2d_14\">\n      <g>\n       <use xlink:href=\"#m0d954d21a0\" x=\"325.48326\" y=\"296.341687\" style=\"fill: #0f0f0f; stroke: #0f0f0f; stroke-width: 0.2\"/>\n      </g>\n     </g>\n     <g id=\"text_7\">\n      <!-- 2021-05 -->\n      <g style=\"fill: #0f0f0f\" transform=\"translate(305.420522 316.437803)rotate(-10)scale(0.10829 -0.10829)\">\n       <use xlink:href=\"#Consolas-32\"/>\n       <use xlink:href=\"#Consolas-30\" x=\"54.980469\"/>\n       <use xlink:href=\"#Consolas-32\" x=\"109.960938\"/>\n       <use xlink:href=\"#Consolas-31\" x=\"164.941406\"/>\n       <use xlink:href=\"#Consolas-2d\" x=\"219.921875\"/>\n       <use xlink:href=\"#Consolas-30\" x=\"274.902344\"/>\n       <use xlink:href=\"#Consolas-35\" x=\"329.882812\"/>\n      </g>\n     </g>\n    </g>\n    <g id=\"xtick_8\">\n     <g id=\"line2d_15\">\n      <path d=\"M 375.444315 296.341687 \nL 375.444315 24.541687 \n\" clip-path=\"url(#pfe33236944)\" style=\"fill: none; stroke-dasharray: 0.4,0.66; stroke-dashoffset: 0; stroke: #0f0f0f; stroke-width: 0.4; stroke-linejoin: miter\"/>\n     </g>\n     <g id=\"line2d_16\">\n      <g>\n       <use xlink:href=\"#m0d954d21a0\" x=\"375.444315\" y=\"296.341687\" style=\"fill: #0f0f0f; stroke: #0f0f0f; stroke-width: 0.2\"/>\n      </g>\n     </g>\n     <g id=\"text_8\">\n      <!-- 2021-09 -->\n      <g style=\"fill: #0f0f0f\" transform=\"translate(355.381577 316.437803)rotate(-10)scale(0.10829 -0.10829)\">\n       <use xlink:href=\"#Consolas-32\"/>\n       <use xlink:href=\"#Consolas-30\" x=\"54.980469\"/>\n       <use xlink:href=\"#Consolas-32\" x=\"109.960938\"/>\n       <use xlink:href=\"#Consolas-31\" x=\"164.941406\"/>\n       <use xlink:href=\"#Consolas-2d\" x=\"219.921875\"/>\n       <use xlink:href=\"#Consolas-30\" x=\"274.902344\"/>\n       <use xlink:href=\"#Consolas-39\" x=\"329.882812\"/>\n      </g>\n     </g>\n    </g>\n    <g id=\"xtick_9\">\n     <g id=\"line2d_17\">\n      <path d=\"M 424.999183 296.341687 \nL 424.999183 24.541687 \n\" clip-path=\"url(#pfe33236944)\" style=\"fill: none; stroke-dasharray: 0.4,0.66; stroke-dashoffset: 0; stroke: #0f0f0f; stroke-width: 0.4; stroke-linejoin: miter\"/>\n     </g>\n     <g id=\"line2d_18\">\n      <g>\n       <use xlink:href=\"#m0d954d21a0\" x=\"424.999183\" y=\"296.341687\" style=\"fill: #0f0f0f; stroke: #0f0f0f; stroke-width: 0.2\"/>\n      </g>\n     </g>\n     <g id=\"text_9\">\n      <!-- 2022-01 -->\n      <g style=\"fill: #0f0f0f\" transform=\"translate(404.936445 316.437803)rotate(-10)scale(0.10829 -0.10829)\">\n       <use xlink:href=\"#Consolas-32\"/>\n       <use xlink:href=\"#Consolas-30\" x=\"54.980469\"/>\n       <use xlink:href=\"#Consolas-32\" x=\"109.960938\"/>\n       <use xlink:href=\"#Consolas-32\" x=\"164.941406\"/>\n       <use xlink:href=\"#Consolas-2d\" x=\"219.921875\"/>\n       <use xlink:href=\"#Consolas-30\" x=\"274.902344\"/>\n       <use xlink:href=\"#Consolas-31\" x=\"329.882812\"/>\n      </g>\n     </g>\n    </g>\n   </g>\n   <g id=\"matplotlib.axis_2\">\n    <g id=\"ytick_1\">\n     <g id=\"line2d_19\">\n      <path d=\"M 11.500366 292.064408 \nL 457.900366 292.064408 \n\" clip-path=\"url(#pfe33236944)\" style=\"fill: none; stroke-dasharray: 0.4,0.66; stroke-dashoffset: 0; stroke: #0f0f0f; stroke-width: 0.4; stroke-linejoin: miter\"/>\n     </g>\n     <g id=\"line2d_20\">\n      <defs>\n       <path id=\"md22323de8c\" d=\"M 0 0 \nL 2 0 \n\" style=\"stroke: #0f0f0f; stroke-width: 0.2\"/>\n      </defs>\n      <g>\n       <use xlink:href=\"#md22323de8c\" x=\"457.900366\" y=\"292.064408\" style=\"fill: #0f0f0f; stroke: #0f0f0f; stroke-width: 0.2\"/>\n      </g>\n     </g>\n     <g id=\"text_10\">\n      <!-- 0 -->\n      <g style=\"fill: #0f0f0f\" transform=\"translate(463.400366 295.800413)scale(0.10829 -0.10829)\">\n       <use xlink:href=\"#Consolas-30\"/>\n      </g>\n     </g>\n    </g>\n    <g id=\"ytick_2\">\n     <g id=\"line2d_21\">\n      <path d=\"M 11.500366 251.270135 \nL 457.900366 251.270135 \n\" clip-path=\"url(#pfe33236944)\" style=\"fill: none; stroke-dasharray: 0.4,0.66; stroke-dashoffset: 0; stroke: #0f0f0f; stroke-width: 0.4; stroke-linejoin: miter\"/>\n     </g>\n     <g id=\"line2d_22\">\n      <g>\n       <use xlink:href=\"#md22323de8c\" x=\"457.900366\" y=\"251.270135\" style=\"fill: #0f0f0f; stroke: #0f0f0f; stroke-width: 0.2\"/>\n      </g>\n     </g>\n     <g id=\"text_11\">\n      <!-- 10 -->\n      <g style=\"fill: #0f0f0f\" transform=\"translate(463.400366 255.00614)scale(0.10829 -0.10829)\">\n       <use xlink:href=\"#Consolas-31\"/>\n       <use xlink:href=\"#Consolas-30\" x=\"54.980469\"/>\n      </g>\n     </g>\n    </g>\n    <g id=\"ytick_3\">\n     <g id=\"line2d_23\">\n      <path d=\"M 11.500366 210.475862 \nL 457.900366 210.475862 \n\" clip-path=\"url(#pfe33236944)\" style=\"fill: none; stroke-dasharray: 0.4,0.66; stroke-dashoffset: 0; stroke: #0f0f0f; stroke-width: 0.4; stroke-linejoin: miter\"/>\n     </g>\n     <g id=\"line2d_24\">\n      <g>\n       <use xlink:href=\"#md22323de8c\" x=\"457.900366\" y=\"210.475862\" style=\"fill: #0f0f0f; stroke: #0f0f0f; stroke-width: 0.2\"/>\n      </g>\n     </g>\n     <g id=\"text_12\">\n      <!-- 20 -->\n      <g style=\"fill: #0f0f0f\" transform=\"translate(463.400366 214.211867)scale(0.10829 -0.10829)\">\n       <use xlink:href=\"#Consolas-32\"/>\n       <use xlink:href=\"#Consolas-30\" x=\"54.980469\"/>\n      </g>\n     </g>\n    </g>\n    <g id=\"ytick_4\">\n     <g id=\"line2d_25\">\n      <path d=\"M 11.500366 169.681589 \nL 457.900366 169.681589 \n\" clip-path=\"url(#pfe33236944)\" style=\"fill: none; stroke-dasharray: 0.4,0.66; stroke-dashoffset: 0; stroke: #0f0f0f; stroke-width: 0.4; stroke-linejoin: miter\"/>\n     </g>\n     <g id=\"line2d_26\">\n      <g>\n       <use xlink:href=\"#md22323de8c\" x=\"457.900366\" y=\"169.681589\" style=\"fill: #0f0f0f; stroke: #0f0f0f; stroke-width: 0.2\"/>\n      </g>\n     </g>\n     <g id=\"text_13\">\n      <!-- 30 -->\n      <g style=\"fill: #0f0f0f\" transform=\"translate(463.400366 173.417594)scale(0.10829 -0.10829)\">\n       <defs>\n        <path id=\"Consolas-33\" d=\"M 3072 1241 \nQ 3072 972 2962 736 \nQ 2853 500 2634 323 \nQ 2416 147 2084 45 \nQ 1753 -56 1313 -56 \nQ 1069 -56 875 -40 \nQ 681 -25 513 0 \nL 513 488 \nQ 706 453 922 434 \nQ 1138 416 1363 416 \nQ 1669 416 1886 470 \nQ 2103 525 2240 628 \nQ 2378 731 2440 878 \nQ 2503 1025 2503 1209 \nQ 2503 1378 2428 1503 \nQ 2353 1628 2217 1712 \nQ 2081 1797 1892 1839 \nQ 1703 1881 1478 1881 \nL 1013 1881 \nL 1013 2328 \nL 1484 2328 \nQ 1669 2328 1820 2376 \nQ 1972 2425 2080 2515 \nQ 2188 2606 2245 2739 \nQ 2303 2872 2303 3041 \nQ 2303 3369 2103 3519 \nQ 1903 3669 1516 3669 \nQ 1309 3669 1090 3628 \nQ 872 3588 622 3506 \nL 622 3981 \nQ 728 4019 848 4048 \nQ 969 4078 1089 4098 \nQ 1209 4119 1328 4130 \nQ 1447 4141 1556 4141 \nQ 1881 4141 2128 4070 \nQ 2375 4000 2540 3869 \nQ 2706 3738 2790 3550 \nQ 2875 3363 2875 3128 \nQ 2875 2778 2695 2540 \nQ 2516 2303 2203 2163 \nQ 2363 2138 2517 2063 \nQ 2672 1988 2795 1870 \nQ 2919 1753 2995 1593 \nQ 3072 1434 3072 1241 \nz\n\" transform=\"scale(0.015625)\"/>\n       </defs>\n       <use xlink:href=\"#Consolas-33\"/>\n       <use xlink:href=\"#Consolas-30\" x=\"54.980469\"/>\n      </g>\n     </g>\n    </g>\n    <g id=\"ytick_5\">\n     <g id=\"line2d_27\">\n      <path d=\"M 11.500366 128.887316 \nL 457.900366 128.887316 \n\" clip-path=\"url(#pfe33236944)\" style=\"fill: none; stroke-dasharray: 0.4,0.66; stroke-dashoffset: 0; stroke: #0f0f0f; stroke-width: 0.4; stroke-linejoin: miter\"/>\n     </g>\n     <g id=\"line2d_28\">\n      <g>\n       <use xlink:href=\"#md22323de8c\" x=\"457.900366\" y=\"128.887316\" style=\"fill: #0f0f0f; stroke: #0f0f0f; stroke-width: 0.2\"/>\n      </g>\n     </g>\n     <g id=\"text_14\">\n      <!-- 40 -->\n      <g style=\"fill: #0f0f0f\" transform=\"translate(463.400366 132.623321)scale(0.10829 -0.10829)\">\n       <defs>\n        <path id=\"Consolas-34\" d=\"M 3353 903 \nL 2656 903 \nL 2656 0 \nL 2100 0 \nL 2100 903 \nL 134 903 \nL 134 1381 \nL 1875 4084 \nL 2656 4084 \nL 2656 1381 \nL 3353 1381 \nL 3353 903 \nz\nM 2100 3559 \nL 678 1381 \nL 2100 1381 \nL 2100 3559 \nz\n\" transform=\"scale(0.015625)\"/>\n       </defs>\n       <use xlink:href=\"#Consolas-34\"/>\n       <use xlink:href=\"#Consolas-30\" x=\"54.980469\"/>\n      </g>\n     </g>\n    </g>\n    <g id=\"ytick_6\">\n     <g id=\"line2d_29\">\n      <path d=\"M 11.500366 88.093043 \nL 457.900366 88.093043 \n\" clip-path=\"url(#pfe33236944)\" style=\"fill: none; stroke-dasharray: 0.4,0.66; stroke-dashoffset: 0; stroke: #0f0f0f; stroke-width: 0.4; stroke-linejoin: miter\"/>\n     </g>\n     <g id=\"line2d_30\">\n      <g>\n       <use xlink:href=\"#md22323de8c\" x=\"457.900366\" y=\"88.093043\" style=\"fill: #0f0f0f; stroke: #0f0f0f; stroke-width: 0.2\"/>\n      </g>\n     </g>\n     <g id=\"text_15\">\n      <!-- 50 -->\n      <g style=\"fill: #0f0f0f\" transform=\"translate(463.400366 91.829048)scale(0.10829 -0.10829)\">\n       <use xlink:href=\"#Consolas-35\"/>\n       <use xlink:href=\"#Consolas-30\" x=\"54.980469\"/>\n      </g>\n     </g>\n    </g>\n    <g id=\"ytick_7\">\n     <g id=\"line2d_31\">\n      <path d=\"M 11.500366 47.298769 \nL 457.900366 47.298769 \n\" clip-path=\"url(#pfe33236944)\" style=\"fill: none; stroke-dasharray: 0.4,0.66; stroke-dashoffset: 0; stroke: #0f0f0f; stroke-width: 0.4; stroke-linejoin: miter\"/>\n     </g>\n     <g id=\"line2d_32\">\n      <g>\n       <use xlink:href=\"#md22323de8c\" x=\"457.900366\" y=\"47.298769\" style=\"fill: #0f0f0f; stroke: #0f0f0f; stroke-width: 0.2\"/>\n      </g>\n     </g>\n     <g id=\"text_16\">\n      <!-- 60 -->\n      <g style=\"fill: #0f0f0f\" transform=\"translate(463.400366 51.034774)scale(0.10829 -0.10829)\">\n       <defs>\n        <path id=\"Consolas-36\" d=\"M 3200 1294 \nQ 3200 1013 3098 766 \nQ 2997 519 2809 336 \nQ 2622 153 2358 48 \nQ 2094 -56 1772 -56 \nQ 1434 -56 1175 51 \nQ 916 159 741 382 \nQ 566 606 475 947 \nQ 384 1288 384 1753 \nQ 384 2066 425 2359 \nQ 466 2653 559 2912 \nQ 653 3172 809 3387 \nQ 966 3603 1198 3758 \nQ 1431 3913 1747 3998 \nQ 2063 4084 2478 4084 \nL 2881 4084 \nL 2881 3609 \nL 2444 3609 \nQ 2078 3609 1809 3521 \nQ 1541 3434 1359 3275 \nQ 1178 3116 1081 2891 \nQ 984 2666 959 2388 \nL 947 2259 \nQ 1144 2375 1401 2445 \nQ 1659 2516 1959 2516 \nQ 2269 2516 2501 2425 \nQ 2734 2334 2889 2173 \nQ 3044 2013 3122 1788 \nQ 3200 1563 3200 1294 \nz\nM 2631 1259 \nQ 2631 1447 2586 1598 \nQ 2541 1750 2444 1854 \nQ 2347 1959 2198 2017 \nQ 2050 2075 1844 2075 \nQ 1725 2075 1603 2053 \nQ 1481 2031 1364 1992 \nQ 1247 1953 1140 1903 \nQ 1034 1853 947 1797 \nQ 947 1394 1003 1123 \nQ 1059 853 1170 690 \nQ 1281 528 1443 459 \nQ 1606 391 1819 391 \nQ 1997 391 2145 448 \nQ 2294 506 2401 618 \nQ 2509 731 2570 892 \nQ 2631 1053 2631 1259 \nz\n\" transform=\"scale(0.015625)\"/>\n       </defs>\n       <use xlink:href=\"#Consolas-36\"/>\n       <use xlink:href=\"#Consolas-30\" x=\"54.980469\"/>\n      </g>\n     </g>\n    </g>\n    <g id=\"text_17\">\n     <!-- Share Price -->\n     <g style=\"fill: #0f0f0f\" transform=\"translate(486.780892 193.190106)rotate(-90)scale(0.10829 -0.10829)\">\n      <defs>\n       <path id=\"Consolas-53\" d=\"M 3116 1106 \nQ 3116 816 2997 597 \nQ 2878 378 2665 233 \nQ 2453 88 2154 16 \nQ 1856 -56 1497 -56 \nQ 1334 -56 1173 -43 \nQ 1013 -31 864 -12 \nQ 716 6 584 31 \nQ 453 56 347 84 \nL 347 622 \nQ 581 534 873 484 \nQ 1166 434 1538 434 \nQ 1806 434 1995 476 \nQ 2184 519 2304 601 \nQ 2425 684 2479 803 \nQ 2534 922 2534 1075 \nQ 2534 1241 2442 1358 \nQ 2350 1475 2200 1567 \nQ 2050 1659 1858 1736 \nQ 1666 1813 1466 1894 \nQ 1266 1975 1073 2070 \nQ 881 2166 731 2295 \nQ 581 2425 489 2600 \nQ 397 2775 397 3016 \nQ 397 3225 484 3428 \nQ 572 3631 756 3789 \nQ 941 3947 1230 4044 \nQ 1519 4141 1919 4141 \nQ 2022 4141 2142 4131 \nQ 2263 4122 2386 4105 \nQ 2509 4088 2629 4066 \nQ 2750 4044 2853 4019 \nL 2853 3519 \nQ 2613 3588 2372 3623 \nQ 2131 3659 1906 3659 \nQ 1428 3659 1203 3500 \nQ 978 3341 978 3072 \nQ 978 2906 1070 2787 \nQ 1163 2669 1313 2575 \nQ 1463 2481 1655 2404 \nQ 1847 2328 2047 2247 \nQ 2247 2166 2439 2069 \nQ 2631 1972 2781 1839 \nQ 2931 1706 3023 1528 \nQ 3116 1350 3116 1106 \nz\n\" transform=\"scale(0.015625)\"/>\n       <path id=\"Consolas-68\" d=\"M 3022 0 \nL 2478 0 \nL 2478 2003 \nQ 2478 2366 2342 2545 \nQ 2206 2725 1953 2725 \nQ 1844 2725 1748 2695 \nQ 1653 2666 1550 2592 \nQ 1447 2519 1325 2394 \nQ 1203 2269 1044 2081 \nL 1044 0 \nL 500 0 \nL 500 4416 \nL 1044 4416 \nL 1044 3138 \nL 1025 2644 \nQ 1153 2797 1276 2901 \nQ 1400 3006 1523 3072 \nQ 1647 3138 1775 3166 \nQ 1903 3194 2041 3194 \nQ 2509 3194 2765 2908 \nQ 3022 2622 3022 2047 \nL 3022 0 \nz\n\" transform=\"scale(0.015625)\"/>\n       <path id=\"Consolas-61\" d=\"M 2516 0 \nL 2503 422 \nQ 2247 169 1983 56 \nQ 1719 -56 1428 -56 \nQ 1159 -56 968 12 \nQ 778 81 654 201 \nQ 531 322 473 484 \nQ 416 647 416 838 \nQ 416 1309 767 1576 \nQ 1119 1844 1806 1844 \nL 2456 1844 \nL 2456 2119 \nQ 2456 2397 2278 2564 \nQ 2100 2731 1734 2731 \nQ 1469 2731 1211 2672 \nQ 953 2613 678 2503 \nL 678 2994 \nQ 781 3031 907 3067 \nQ 1034 3103 1175 3131 \nQ 1316 3159 1469 3176 \nQ 1622 3194 1778 3194 \nQ 2063 3194 2291 3131 \nQ 2519 3069 2676 2941 \nQ 2834 2813 2918 2619 \nQ 3003 2425 3003 2163 \nL 3003 0 \nL 2516 0 \nz\nM 2456 1428 \nL 1766 1428 \nQ 1563 1428 1416 1387 \nQ 1269 1347 1175 1272 \nQ 1081 1197 1036 1092 \nQ 991 988 991 856 \nQ 991 766 1019 683 \nQ 1047 600 1109 536 \nQ 1172 472 1272 434 \nQ 1372 397 1516 397 \nQ 1703 397 1945 511 \nQ 2188 625 2456 872 \nL 2456 1428 \nz\n\" transform=\"scale(0.015625)\"/>\n       <path id=\"Consolas-72\" d=\"M 628 3138 \nL 1125 3138 \nL 1141 2559 \nQ 1419 2894 1689 3044 \nQ 1959 3194 2234 3194 \nQ 2722 3194 2973 2878 \nQ 3225 2563 3206 1941 \nL 2656 1941 \nQ 2666 2353 2536 2539 \nQ 2406 2725 2156 2725 \nQ 2047 2725 1936 2686 \nQ 1825 2647 1708 2561 \nQ 1591 2475 1459 2340 \nQ 1328 2206 1178 2016 \nL 1178 0 \nL 628 0 \nL 628 3138 \nz\n\" transform=\"scale(0.015625)\"/>\n       <path id=\"Consolas-65\" d=\"M 3150 1734 \nQ 3150 1619 3147 1541 \nQ 3144 1463 3138 1394 \nL 934 1394 \nQ 934 913 1203 655 \nQ 1472 397 1978 397 \nQ 2116 397 2253 408 \nQ 2391 419 2519 437 \nQ 2647 456 2764 479 \nQ 2881 503 2981 531 \nL 2981 84 \nQ 2759 22 2479 -17 \nQ 2200 -56 1900 -56 \nQ 1497 -56 1206 53 \nQ 916 163 730 370 \nQ 544 578 455 879 \nQ 366 1181 366 1563 \nQ 366 1894 461 2189 \nQ 556 2484 739 2707 \nQ 922 2931 1187 3062 \nQ 1453 3194 1791 3194 \nQ 2119 3194 2372 3091 \nQ 2625 2988 2798 2798 \nQ 2972 2609 3061 2339 \nQ 3150 2069 3150 1734 \nz\nM 2584 1813 \nQ 2594 2022 2544 2195 \nQ 2494 2369 2389 2494 \nQ 2284 2619 2128 2689 \nQ 1972 2759 1766 2759 \nQ 1588 2759 1441 2690 \nQ 1294 2622 1187 2497 \nQ 1081 2372 1015 2197 \nQ 950 2022 934 1813 \nL 2584 1813 \nz\n\" transform=\"scale(0.015625)\"/>\n       <path id=\"Consolas-20\" transform=\"scale(0.015625)\"/>\n       <path id=\"Consolas-50\" d=\"M 3175 2834 \nQ 3175 2584 3081 2339 \nQ 2988 2094 2791 1900 \nQ 2594 1706 2287 1586 \nQ 1981 1466 1556 1466 \nL 1050 1466 \nL 1050 0 \nL 494 0 \nL 494 4084 \nL 1644 4084 \nQ 1947 4084 2225 4017 \nQ 2503 3950 2714 3800 \nQ 2925 3650 3050 3412 \nQ 3175 3175 3175 2834 \nz\nM 2597 2809 \nQ 2597 3203 2339 3412 \nQ 2081 3622 1619 3622 \nL 1050 3622 \nL 1050 1941 \nL 1569 1941 \nQ 2063 1941 2330 2156 \nQ 2597 2372 2597 2809 \nz\n\" transform=\"scale(0.015625)\"/>\n       <path id=\"Consolas-69\" d=\"M 1569 2688 \nL 641 2688 \nL 641 3138 \nL 2119 3138 \nL 2119 453 \nL 3053 453 \nL 3053 0 \nL 538 0 \nL 538 453 \nL 1569 453 \nL 1569 2688 \nz\nM 1759 4453 \nQ 1850 4453 1928 4420 \nQ 2006 4388 2064 4328 \nQ 2122 4269 2155 4192 \nQ 2188 4116 2188 4025 \nQ 2188 3938 2155 3859 \nQ 2122 3781 2064 3722 \nQ 2006 3663 1928 3630 \nQ 1850 3597 1759 3597 \nQ 1669 3597 1591 3630 \nQ 1513 3663 1455 3722 \nQ 1397 3781 1364 3859 \nQ 1331 3938 1331 4025 \nQ 1331 4116 1364 4192 \nQ 1397 4269 1455 4328 \nQ 1513 4388 1591 4420 \nQ 1669 4453 1759 4453 \nz\n\" transform=\"scale(0.015625)\"/>\n       <path id=\"Consolas-63\" d=\"M 2938 116 \nQ 2725 34 2501 -5 \nQ 2278 -44 2041 -44 \nQ 1297 -44 895 359 \nQ 494 763 494 1538 \nQ 494 1909 609 2212 \nQ 725 2516 934 2731 \nQ 1144 2947 1434 3064 \nQ 1725 3181 2075 3181 \nQ 2319 3181 2531 3147 \nQ 2744 3113 2938 3034 \nL 2938 2516 \nQ 2734 2622 2523 2670 \nQ 2313 2719 2088 2719 \nQ 1878 2719 1692 2639 \nQ 1506 2559 1365 2409 \nQ 1225 2259 1144 2043 \nQ 1063 1828 1063 1556 \nQ 1063 988 1339 705 \nQ 1616 422 2106 422 \nQ 2328 422 2536 472 \nQ 2744 522 2938 622 \nL 2938 116 \nz\n\" transform=\"scale(0.015625)\"/>\n      </defs>\n      <use xlink:href=\"#Consolas-53\"/>\n      <use xlink:href=\"#Consolas-68\" x=\"54.980469\"/>\n      <use xlink:href=\"#Consolas-61\" x=\"109.960938\"/>\n      <use xlink:href=\"#Consolas-72\" x=\"164.941406\"/>\n      <use xlink:href=\"#Consolas-65\" x=\"219.921875\"/>\n      <use xlink:href=\"#Consolas-20\" x=\"274.902344\"/>\n      <use xlink:href=\"#Consolas-50\" x=\"329.882812\"/>\n      <use xlink:href=\"#Consolas-72\" x=\"384.863281\"/>\n      <use xlink:href=\"#Consolas-69\" x=\"439.84375\"/>\n      <use xlink:href=\"#Consolas-63\" x=\"494.824219\"/>\n      <use xlink:href=\"#Consolas-65\" x=\"549.804688\"/>\n     </g>\n    </g>\n   </g>\n   <g id=\"line2d_33\">\n    <path d=\"M 11.500366 234.882826 \nL 11.906554 233.12457 \nL 12.312741 234.500597 \nL 13.531304 233.58325 \nL 13.937491 234.959277 \nL 14.749866 235.609067 \nL 15.156053 235.303282 \nL 16.374616 234.768163 \nL 17.186991 236.220637 \nL 17.593178 234.691715 \nL 17.999365 234.806386 \nL 19.217928 229.722734 \nL 19.624115 230.334296 \nL 20.030303 230.334296 \nL 20.43649 230.448956 \nL 20.842677 229.264051 \nL 22.06124 228.996489 \nL 22.467427 228.652484 \nL 22.873615 228.652484 \nL 23.279802 230.716529 \nL 24.904552 233.73614 \nL 25.310739 233.77436 \nL 25.716927 233.048127 \nL 26.123114 233.58325 \nL 26.529302 233.201021 \nL 27.747864 232.818785 \nL 28.154051 234.118369 \nL 28.560239 235.838405 \nL 28.966426 235.876628 \nL 29.372614 236.297073 \nL 30.997364 234.844602 \nL 31.403551 236.067743 \nL 31.809738 239.966486 \nL 32.215926 239.240253 \nL 33.434488 241.266066 \nL 33.840676 240.463381 \nL 34.246863 240.157596 \nL 34.653051 240.845614 \nL 35.059238 241.877632 \nL 36.2778 242.374531 \nL 36.683988 241.571851 \nL 37.090175 242.221641 \nL 37.496363 242.565649 \nL 37.90255 243.559448 \nL 39.5273 244.285685 \nL 39.933487 245.96749 \nL 40.745862 246.273282 \nL 41.964425 246.579064 \nL 42.370612 247.037735 \nL 42.776799 249.331114 \nL 43.182987 249.675119 \nL 43.589174 250.220069 \nL 44.807737 249.480499 \nL 45.213924 249.091249 \nL 45.620112 250.453624 \nL 46.026299 249.441575 \nL 46.432486 249.402648 \nL 47.651049 248.546298 \nL 48.057236 247.651021 \nL 48.463424 247.183927 \nL 48.869611 249.519419 \nL 49.275799 250.803947 \nL 50.494361 253.100516 \nL 50.900548 255.163545 \nL 51.306736 255.280316 \nL 51.712923 255.124617 \nL 52.119111 255.747415 \nL 53.337673 255.980966 \nL 53.74386 256.214513 \nL 54.150048 256.642688 \nL 54.962423 255.47494 \nL 56.180985 257.576889 \nL 56.587172 257.382265 \nL 57.399547 255.280316 \nL 59.024297 255.124617 \nL 59.430485 253.995789 \nL 59.836672 253.879017 \nL 60.242859 254.618594 \nL 60.649047 251.037494 \nL 61.867609 251.543521 \nL 62.273797 251.971695 \nL 62.679984 250.103297 \nL 63.086172 249.480499 \nL 63.492359 248.273823 \nL 64.710921 247.49533 \nL 65.117109 246.366501 \nL 65.523296 246.016179 \nL 65.929484 248.234899 \nL 66.335671 246.833604 \nL 67.554233 248.857693 \nL 67.960421 248.001348 \nL 68.366608 247.884573 \nL 68.772796 245.315525 \nL 69.178983 244.653799 \nL 70.397546 246.28865 \nL 70.803733 246.638977 \nL 71.20992 250.220069 \nL 71.616108 249.869746 \nL 72.022295 248.663074 \nL 73.240858 247.728873 \nL 73.647045 247.923496 \nL 74.45942 247.261771 \nL 74.865607 249.208024 \nL 76.08417 248.040272 \nL 76.490357 249.791898 \nL 76.896545 248.273823 \nL 77.302732 248.079196 \nL 77.70892 248.818773 \nL 79.333669 247.689949 \nL 80.146044 245.276601 \nL 80.552232 246.464109 \nL 81.770794 245.830768 \nL 82.176981 245.949524 \nL 82.583169 245.593272 \nL 82.989356 245.751605 \nL 83.395544 244.72243 \nL 84.614106 244.920349 \nL 85.426481 247.849535 \nL 85.832668 249.432876 \nL 86.238856 249.116206 \nL 87.457418 249.630795 \nL 87.863606 249.670376 \nL 88.269793 249.274543 \nL 88.675981 249.234962 \nL 89.082168 249.393295 \nL 90.30073 249.709965 \nL 90.706918 250.026632 \nL 91.519293 252.7579 \nL 91.92548 253.193322 \nL 93.144042 253.351652 \nL 93.55023 253.153733 \nL 93.956417 254.895411 \nL 94.362605 255.805838 \nL 94.768792 255.568334 \nL 95.987354 256.63709 \nL 96.799729 255.093334 \nL 97.612104 255.014167 \nL 98.830667 255.568334 \nL 99.236854 253.430822 \nL 99.643041 252.9954 \nL 100.049229 254.064159 \nL 100.455416 253.589155 \nL 101.673979 252.83707 \nL 102.080166 253.232904 \nL 102.486354 254.85583 \nL 102.892541 254.974582 \nL 103.298728 253.984993 \nL 104.923478 253.351652 \nL 105.329666 253.707911 \nL 105.735853 255.489171 \nL 106.142041 253.984993 \nL 107.360603 254.301659 \nL 107.76679 255.330834 \nL 108.172978 257.230845 \nL 108.579165 256.914175 \nL 108.985353 257.389179 \nL 110.203915 258.537101 \nL 110.610102 258.537101 \nL 111.01629 259.882946 \nL 111.422477 260.635035 \nL 111.828665 260.555869 \nL 113.047227 258.893353 \nL 113.453415 260.793371 \nL 113.859602 258.695439 \nL 114.671977 258.898166 \nL 115.890539 256.911436 \nL 116.702914 259.911806 \nL 117.109102 260.155079 \nL 117.515289 259.425259 \nL 118.733851 258.695442 \nL 119.140039 259.222528 \nL 119.546226 258.979258 \nL 119.952414 258.411619 \nL 120.358601 258.735985 \nL 121.577163 258.208892 \nL 121.983351 259.141439 \nL 122.795726 260.438897 \nL 123.201913 260.722714 \nL 124.420475 262.385082 \nL 124.826663 261.614716 \nL 125.639038 262.30399 \nL 126.045225 262.466173 \nL 127.669975 262.709446 \nL 128.48235 261.817445 \nL 128.888537 262.385082 \nL 130.1071 263.195993 \nL 130.513287 263.155447 \nL 130.919475 265.223269 \nL 131.325662 265.871997 \nL 131.731849 265.831452 \nL 132.950412 265.466542 \nL 133.762787 263.236537 \nL 134.168974 262.344536 \nL 134.575162 262.547263 \nL 136.199911 262.952719 \nL 137.012286 264.493449 \nL 137.418474 264.736724 \nL 138.637036 266.277453 \nL 139.043223 264.533995 \nL 139.449411 264.615085 \nL 139.855598 264.331268 \nL 140.261786 265.628723 \nL 141.480348 265.912543 \nL 141.886536 265.101632 \nL 142.292723 263.682538 \nL 143.105098 265.507086 \nL 144.32366 264.533995 \nL 144.729848 263.925811 \nL 145.136035 264.250175 \nL 145.94841 263.277083 \nL 147.57316 263.520357 \nL 147.979347 262.425628 \nL 148.385535 260.601078 \nL 148.791722 261.817445 \nL 150.010284 263.479811 \nL 150.822659 268.020911 \nL 151.635034 266.682907 \nL 152.853597 267.291091 \nL 153.259784 268.507456 \nL 153.665971 268.46691 \nL 154.072159 272.116009 \nL 154.478346 273.584602 \nL 155.696909 276.358613 \nL 156.103096 274.930814 \nL 156.509284 277.215292 \nL 156.915471 280.193274 \nL 157.321658 278.928652 \nL 158.540221 281.457898 \nL 158.946408 281.947428 \nL 159.352596 281.988223 \nL 159.758783 278.316739 \nL 160.16497 279.051035 \nL 161.383533 279.214212 \nL 161.78972 277.541647 \nL 162.195908 277.94959 \nL 162.602095 276.970527 \nL 163.008283 277.37847 \nL 164.226845 279.662949 \nL 164.633032 279.173418 \nL 165.03922 281.376309 \nL 165.445407 282.926491 \nL 165.851595 282.804108 \nL 167.882532 278.602298 \nL 168.288719 281.457898 \nL 169.913469 283.5792 \nL 170.319657 283.171256 \nL 170.725844 282.232988 \nL 171.132031 282.110605 \nL 171.538219 279.010241 \nL 172.756781 279.091829 \nL 173.162969 278.806269 \nL 174.381531 279.622155 \nL 175.600093 278.357533 \nL 176.006281 275.17558 \nL 176.412468 270.89218 \nL 176.818656 271.993626 \nL 177.224843 273.421425 \nL 178.443405 274.52287 \nL 178.849593 276.195436 \nL 179.25578 276.073053 \nL 179.661968 275.787493 \nL 180.068155 275.338757 \nL 181.286718 270.361854 \nL 181.692905 271.177741 \nL 182.099092 273.299043 \nL 182.911467 273.625397 \nL 184.13003 272.809512 \nL 184.536217 273.46222 \nL 184.942405 273.054278 \nL 185.754779 273.380631 \nL 187.379529 271.218534 \nL 187.785717 269.219616 \nL 188.191904 271.381711 \nL 189.816654 270.402649 \nL 190.222841 269.260409 \nL 190.629029 269.83153 \nL 191.035216 270.117089 \nL 191.441404 267.954993 \nL 192.659966 265.752103 \nL 193.066153 267.62864 \nL 193.472341 266.404811 \nL 193.878528 270.973769 \nL 194.284716 268.036582 \nL 195.503278 268.403729 \nL 195.909465 269.382793 \nL 196.315653 269.953912 \nL 196.72184 269.097232 \nL 197.128028 269.54597 \nL 198.34659 270.321061 \nL 198.752778 271.259329 \nL 199.158965 272.523952 \nL 199.565152 274.645254 \nL 199.97134 275.012403 \nL 201.189902 274.033339 \nL 201.59609 274.563665 \nL 202.002277 273.421425 \nL 202.408465 273.584602 \nL 204.033214 274.604458 \nL 204.439402 275.216373 \nL 204.845589 273.992546 \nL 205.251777 273.421425 \nL 205.657964 273.299043 \nL 206.876526 274.686047 \nL 207.282714 274.849226 \nL 207.688901 273.706985 \nL 208.501276 274.645254 \nL 209.719839 275.134784 \nL 210.126026 275.134784 \nL 210.532213 275.624315 \nL 210.938401 275.501934 \nL 211.344588 275.746699 \nL 212.563151 276.277025 \nL 212.969338 275.134784 \nL 213.375526 275.093991 \nL 213.781713 275.257168 \nL 214.1879 275.583522 \nL 215.406463 275.297961 \nL 215.81265 275.338757 \nL 216.218838 275.134784 \nL 216.625025 275.17558 \nL 217.031213 272.687128 \nL 218.249775 273.829369 \nL 219.06215 273.135866 \nL 219.468337 270.402649 \nL 219.874525 269.464381 \nL 221.093087 269.219616 \nL 221.499274 270.239472 \nL 221.905462 270.076296 \nL 222.311649 268.852467 \nL 222.717837 270.89218 \nL 223.936399 269.994707 \nL 224.342587 269.464381 \nL 224.748774 269.219616 \nL 225.154961 265.466542 \nL 225.561149 266.364015 \nL 226.779711 268.077375 \nL 227.185899 267.302284 \nL 227.592086 263.34524 \nL 227.998273 265.140188 \nL 228.404461 263.426829 \nL 230.435398 266.527192 \nL 230.841586 267.83261 \nL 231.247773 268.444524 \nL 232.466335 269.464381 \nL 232.872523 269.54597 \nL 233.27871 268.566906 \nL 234.091085 268.934055 \nL 235.715835 270.810592 \nL 236.122022 272.564745 \nL 236.52821 273.258248 \nL 236.934397 272.156802 \nL 238.15296 272.034421 \nL 238.559147 272.238391 \nL 238.965334 272.850305 \nL 239.371522 273.095071 \nL 239.777709 273.095071 \nL 240.996272 275.216373 \nL 241.402459 275.501934 \nL 241.808647 275.583522 \nL 242.214834 275.17558 \nL 242.621021 275.542727 \nL 243.839584 275.420345 \nL 244.651959 279.989303 \nL 245.058146 280.7236 \nL 245.464334 279.662949 \nL 246.682896 277.623236 \nL 247.089083 279.458978 \nL 247.495271 279.826126 \nL 247.901458 279.336595 \nL 248.307646 279.948509 \nL 249.526208 280.845983 \nL 249.932395 280.682806 \nL 250.338583 281.417103 \nL 250.74477 281.784251 \nL 251.150958 282.43696 \nL 252.36952 283.293639 \nL 252.775708 282.518549 \nL 253.181895 282.640931 \nL 253.588082 282.029017 \nL 253.99427 281.906634 \nL 255.212832 276.684967 \nL 255.61902 277.745618 \nL 256.025207 279.2958 \nL 256.431395 280.070892 \nL 256.837582 279.948509 \nL 258.056144 279.37739 \nL 258.462332 279.907715 \nL 258.868519 278.765475 \nL 259.274707 279.051035 \nL 260.899456 276.52179 \nL 261.305644 273.380631 \nL 261.711831 273.747781 \nL 262.524206 273.910957 \nL 263.742768 274.645254 \nL 264.148956 275.134784 \nL 264.555143 274.441282 \nL 264.961331 277.256087 \nL 265.367518 277.745618 \nL 266.586081 277.541647 \nL 266.992268 275.828287 \nL 267.398455 276.317819 \nL 267.804643 275.37955 \nL 268.21083 276.073053 \nL 269.429393 279.051035 \nL 269.83558 280.397247 \nL 270.241768 280.7236 \nL 270.647955 280.438041 \nL 273.491267 281.825046 \nL 275.116017 282.314576 \nL 276.334579 283.416023 \nL 278.365516 283.987142 \nL 279.177891 283.701582 \nL 279.584079 283.334433 \nL 280.802641 283.089668 \nL 281.208829 282.72252 \nL 281.615016 283.171256 \nL 282.021203 283.171256 \nL 282.427391 282.559343 \nL 284.052141 279.581361 \nL 284.458328 279.948509 \nL 284.864516 279.907715 \nL 285.270703 277.745618 \nL 286.489265 274.033339 \nL 286.895453 271.830449 \nL 287.30164 210.883806 \nL 287.707828 256.85895 \nL 288.114015 237.971201 \nL 289.332577 237.808024 \nL 289.738765 260.163286 \nL 290.144952 255.471944 \nL 290.55114 263.141268 \nL 290.957327 264.20192 \nL 292.17589 266.853548 \nL 292.582077 269.627558 \nL 292.988264 268.403729 \nL 293.394452 269.17882 \nL 293.800639 269.260409 \nL 295.425389 269.015643 \nL 295.831576 269.423586 \nL 296.237764 269.586763 \nL 296.643951 268.811673 \nL 297.862514 265.344159 \nL 298.674889 254.982413 \nL 299.081076 258.245956 \nL 299.487263 259.388194 \nL 300.705826 254.615264 \nL 301.112013 255.635121 \nL 301.518201 257.062922 \nL 301.924388 259.306608 \nL 302.330576 259.225018 \nL 303.549138 254.166529 \nL 303.955325 249.230421 \nL 304.361513 251.882048 \nL 304.7677 250.127897 \nL 306.39245 234.789249 \nL 306.798637 238.950263 \nL 307.611012 234.952426 \nL 308.0172 235.237985 \nL 309.235762 241.112362 \nL 310.048137 255.267972 \nL 310.454324 247.435475 \nL 310.860512 250.291073 \nL 312.079074 249.842334 \nL 312.485262 249.842334 \nL 312.891449 250.413455 \nL 313.297637 253.88097 \nL 314.922386 248.781686 \nL 315.734761 251.882048 \nL 316.140949 252.126815 \nL 316.547136 253.636203 \nL 317.765698 256.899745 \nL 318.171886 256.00227 \nL 318.984261 251.678079 \nL 319.390448 254.003352 \nL 320.609011 252.657141 \nL 321.015198 254.207324 \nL 321.421385 252.16761 \nL 322.23376 250.617427 \nL 323.452323 245.150994 \nL 323.85851 245.314171 \nL 324.670885 250.45425 \nL 325.077072 251.147753 \nL 326.295635 252.453169 \nL 326.701822 253.758584 \nL 327.514197 255.349562 \nL 327.920385 253.269054 \nL 329.138947 252.330787 \nL 329.951322 249.96472 \nL 330.357509 239.97012 \nL 330.763697 239.113444 \nL 331.982259 235.156398 \nL 332.388446 234.830044 \nL 332.794634 240.500446 \nL 333.200821 240.867595 \nL 333.607009 242.784927 \nL 334.825571 236.257841 \nL 335.637946 212.270812 \nL 336.044133 183.877994 \nL 336.450321 185.509763 \nL 338.075071 161.359553 \nL 338.481258 36.896233 \nL 338.887445 82.626609 \nL 339.293633 96.619046 \nL 340.512195 67.695906 \nL 340.918383 67.491938 \nL 341.730758 117.424119 \nL 342.136945 90.540693 \nL 343.761695 51.215016 \nL 344.167882 66.961608 \nL 344.57407 44.320789 \nL 344.980257 50.317553 \nL 346.198819 64.881107 \nL 346.605007 54.356177 \nL 347.011194 54.233799 \nL 347.417382 60.760877 \nL 347.823569 71.530562 \nL 349.042132 55.008885 \nL 349.448319 61.862324 \nL 349.854506 60.842467 \nL 350.666881 80.097369 \nL 352.291631 88.256223 \nL 352.697819 108.20462 \nL 353.104006 96.496668 \nL 353.510193 103.635666 \nL 354.728756 118.240008 \nL 355.134943 131.53895 \nL 355.541131 155.689152 \nL 355.947318 145.205025 \nL 356.353506 149.447633 \nL 357.572068 150.834639 \nL 357.978255 116.281885 \nL 358.384443 125.705367 \nL 358.79063 140.146528 \nL 359.196818 141.166385 \nL 360.41538 127.704278 \nL 360.821567 137.005383 \nL 361.227755 133.37468 \nL 361.633942 136.51584 \nL 362.04013 141.044007 \nL 363.258692 148.468564 \nL 363.66488 155.036444 \nL 364.071067 170.334297 \nL 364.477254 155.362806 \nL 364.883442 158.667132 \nL 366.102004 154.179768 \nL 366.508192 162.542591 \nL 366.914379 163.35848 \nL 367.320566 157.157748 \nL 367.726754 155.525971 \nL 368.945316 146.469653 \nL 369.351504 140.47289 \nL 369.757691 142.961343 \nL 370.163879 154.098178 \nL 370.570066 151.691315 \nL 371.788628 142.023077 \nL 372.194816 111.508962 \nL 372.601003 112.732787 \nL 373.007191 127.622688 \nL 373.413378 125.460596 \nL 374.63194 115.302815 \nL 375.038128 99.800995 \nL 375.444315 113.834235 \nL 375.850503 111.01942 \nL 376.25669 112.488016 \nL 377.88144 96.945392 \nL 378.287627 98.699547 \nL 378.693815 94.130593 \nL 379.100002 87.440335 \nL 380.318565 81.198816 \nL 380.724752 99.107499 \nL 381.13094 100.984032 \nL 381.537127 104.247571 \nL 381.943314 111.753718 \nL 383.568064 133.701041 \nL 383.974252 128.560954 \nL 384.380439 128.968906 \nL 384.786627 128.846528 \nL 386.005189 131.742918 \nL 386.411376 141.166385 \nL 386.817564 147.081558 \nL 387.223751 136.801399 \nL 387.629939 135.169638 \nL 388.848501 142.063864 \nL 389.254688 140.880826 \nL 389.660876 141.819093 \nL 390.067063 136.475053 \nL 390.473251 140.350512 \nL 391.691813 140.105741 \nL 392.098001 141.859896 \nL 392.504188 137.413319 \nL 392.910375 128.601757 \nL 393.316563 125.868533 \nL 394.535125 116.526656 \nL 394.941313 125.623777 \nL 395.3475 125.297415 \nL 395.753688 131.987674 \nL 396.159875 142.757375 \nL 397.378437 141.819093 \nL 397.784625 145.001057 \nL 398.190812 150.263522 \nL 398.597 148.346186 \nL 399.003187 147.775069 \nL 400.221749 140.840039 \nL 401.034124 125.664564 \nL 401.440312 128.683347 \nL 401.846499 121.952286 \nL 403.065061 108.245408 \nL 403.471249 129.172874 \nL 403.877436 135.863133 \nL 404.283624 131.09021 \nL 404.689811 128.887316 \nL 405.908374 117.954449 \nL 406.314561 118.280811 \nL 406.720748 120.198131 \nL 407.126936 127.214751 \nL 407.533123 125.338218 \nL 408.751686 123.828819 \nL 409.157873 132.314035 \nL 409.564061 133.415483 \nL 410.376435 138.555554 \nL 411.594998 141.778305 \nL 412.001185 153.608651 \nL 412.407373 175.515171 \nL 412.81356 168.539346 \nL 413.219748 173.720221 \nL 414.43831 174.617692 \nL 414.844497 165.438981 \nL 415.250685 160.094941 \nL 415.656872 171.884483 \nL 416.06306 180.124921 \nL 417.281622 197.258518 \nL 417.687809 192.118439 \nL 418.093997 191.465731 \nL 418.500184 192.322407 \nL 418.906372 173.271481 \nL 420.124934 170.905414 \nL 420.531122 168.457764 \nL 420.937309 175.066432 \nL 421.343496 175.719139 \nL 422.968246 174.984841 \nL 423.374434 178.982686 \nL 423.780621 178.044412 \nL 424.186809 174.00578 \nL 424.592996 181.103982 \nL 425.811558 183.877994 \nL 426.217746 188.079807 \nL 426.623933 199.257437 \nL 427.030121 200.440475 \nL 427.436308 198.278375 \nL 428.65487 199.135051 \nL 429.061058 199.094256 \nL 429.467245 199.379822 \nL 429.873433 207.783441 \nL 430.27962 208.15059 \nL 432.716745 218.349158 \nL 433.122932 218.757102 \nL 434.341495 224.18274 \nL 434.747682 226.711981 \nL 435.153869 227.038339 \nL 435.560057 232.831122 \nL 435.966244 230.628231 \nL 437.184807 226.548808 \nL 437.590994 223.285261 \nL 437.997182 229.159639 \nL 438.403369 231.403325 \nL 438.809556 229.445197 \nL 440.028119 231.240148 \nL 440.434306 225.039416 \nL 440.840494 214.800053 \nL 441.246681 216.227854 \nL 441.652869 215.330383 \nL 442.871431 219.654573 \nL 443.277618 212.597166 \nL 443.683806 211.822073 \nL 444.089993 214.800053 \nL 444.496181 219.042661 \nL 446.12093 224.876243 \nL 446.527118 227.895018 \nL 446.933305 219.940132 \nL 447.339493 220.021722 \nL 448.558055 215.126407 \nL 448.964243 217.329301 \nL 449.37043 216.472617 \nL 449.776617 218.389953 \nL 450.182805 224.468299 \nL 451.401367 230.016319 \nL 451.807555 229.28202 \nL 452.213742 227.976605 \nL 452.61993 229.567583 \nL 453.026117 233.728597 \nL 454.244679 236.747372 \nL 455.057054 229.934732 \nL 455.463242 230.097909 \nL 455.869429 227.609456 \nL 457.087991 227.364692 \nL 457.900366 207.457087 \nL 457.900366 207.457087 \n\" clip-path=\"url(#pfe33236944)\" style=\"fill: none; stroke: #254495; stroke-width: 1.1; stroke-linejoin: miter; stroke-linecap: square\"/>\n   </g>\n   <g id=\"line2d_34\">\n    <path d=\"M 401.440312 261.468703 \n\" clip-path=\"url(#pfe33236944)\" style=\"fill: none; stroke: #48277c; stroke-width: 1.1; stroke-linejoin: miter; stroke-linecap: square\"/>\n   </g>\n   <g id=\"PathCollection_1\">\n    <defs>\n     <path id=\"mee65a0dda7\" d=\"M 0 2 \nC 0.530406 2 1.03916 1.789267 1.414214 1.414214 \nC 1.789267 1.03916 2 0.530406 2 0 \nC 2 -0.530406 1.789267 -1.03916 1.414214 -1.414214 \nC 1.03916 -1.789267 0.530406 -2 0 -2 \nC -0.530406 -2 -1.03916 -1.789267 -1.414214 -1.414214 \nC -1.789267 -1.03916 -2 -0.530406 -2 0 \nC -2 0.530406 -1.789267 1.03916 -1.414214 1.414214 \nC -1.03916 1.789267 -0.530406 2 0 2 \nz\n\" style=\"stroke: #00acff\"/>\n    </defs>\n    <g clip-path=\"url(#pfe33236944)\">\n     <use xlink:href=\"#mee65a0dda7\" x=\"401.440312\" y=\"261.468703\" style=\"fill: #e4003a; stroke: #00acff\"/>\n    </g>\n   </g>\n   <g id=\"patch_3\">\n    <path d=\"M 11.500366 296.341687 \nL 11.500366 24.541687 \n\" style=\"fill: none; stroke: #0f0f0f; stroke-width: 0.2; stroke-linejoin: miter; stroke-linecap: square\"/>\n   </g>\n   <g id=\"patch_4\">\n    <path d=\"M 457.900366 296.341687 \nL 457.900366 24.541687 \n\" style=\"fill: none; stroke: #0f0f0f; stroke-width: 0.2; stroke-linejoin: miter; stroke-linecap: square\"/>\n   </g>\n   <g id=\"patch_5\">\n    <path d=\"M 11.500366 296.341687 \nL 457.900366 296.341687 \n\" style=\"fill: none; stroke: #0f0f0f; stroke-width: 0.2; stroke-linejoin: miter; stroke-linecap: square\"/>\n   </g>\n   <g id=\"patch_6\">\n    <path d=\"M 11.500366 24.541687 \nL 457.900366 24.541687 \n\" style=\"fill: none; stroke: #0f0f0f; stroke-width: 0.2; stroke-linejoin: miter; stroke-linecap: square\"/>\n   </g>\n   <g id=\"text_18\">\n    <!-- AMC (Time Series) and Price Target -->\n    <g style=\"fill: #0f0f0f\" transform=\"translate(11.500366 18.541687)scale(0.156 -0.156)\">\n     <defs>\n      <path id=\"Consolas-41\" d=\"M 3488 0 \nL 2881 0 \nL 2597 891 \nL 897 891 \nL 609 0 \nL 31 0 \nL 1388 4084 \nL 2150 4084 \nL 3488 0 \nz\nM 2438 1388 \nL 1747 3572 \nL 1056 1388 \nL 2438 1388 \nz\n\" transform=\"scale(0.015625)\"/>\n      <path id=\"Consolas-4d\" d=\"M 3366 0 \nL 2822 0 \nL 2741 2547 \nL 2706 3525 \nL 2516 2956 \nL 1913 1331 \nL 1528 1331 \nL 953 2894 \nL 763 3525 \nL 750 2503 \nL 678 0 \nL 153 0 \nL 353 4084 \nL 1013 4084 \nL 1563 2547 \nL 1741 2028 \nL 1913 2547 \nL 2491 4084 \nL 3169 4084 \nL 3366 0 \nz\n\" transform=\"scale(0.015625)\"/>\n      <path id=\"Consolas-43\" d=\"M 3109 153 \nQ 2619 -50 2081 -50 \nQ 1216 -50 752 467 \nQ 288 984 288 1997 \nQ 288 2488 416 2884 \nQ 544 3281 781 3557 \nQ 1019 3834 1356 3984 \nQ 1694 4134 2113 4134 \nQ 2397 4134 2640 4086 \nQ 2884 4038 3109 3938 \nL 3109 3391 \nQ 2888 3513 2650 3577 \nQ 2413 3641 2131 3641 \nQ 1844 3641 1611 3533 \nQ 1378 3425 1215 3220 \nQ 1053 3016 965 2720 \nQ 878 2425 878 2047 \nQ 878 1253 1200 850 \nQ 1522 447 2144 447 \nQ 2406 447 2647 508 \nQ 2888 569 3109 678 \nL 3109 153 \nz\n\" transform=\"scale(0.015625)\"/>\n      <path id=\"Consolas-28\" d=\"M 2378 -1313 \nQ 938 22 938 1638 \nQ 938 2016 1014 2392 \nQ 1091 2769 1261 3147 \nQ 1431 3525 1711 3903 \nQ 1991 4281 2391 4653 \nL 2706 4331 \nQ 1494 3134 1494 1678 \nQ 1494 953 1800 284 \nQ 2106 -384 2706 -978 \nL 2378 -1313 \nz\n\" transform=\"scale(0.015625)\"/>\n      <path id=\"Consolas-54\" d=\"M 3250 3609 \nL 2041 3609 \nL 2041 0 \nL 1478 0 \nL 1478 3609 \nL 269 3609 \nL 269 4084 \nL 3250 4084 \nL 3250 3609 \nz\n\" transform=\"scale(0.015625)\"/>\n      <path id=\"Consolas-6d\" d=\"M 2738 0 \nL 2738 2253 \nQ 2738 2400 2727 2494 \nQ 2716 2588 2692 2642 \nQ 2669 2697 2633 2719 \nQ 2597 2741 2544 2741 \nQ 2481 2741 2428 2703 \nQ 2375 2666 2314 2581 \nQ 2253 2497 2179 2358 \nQ 2106 2219 2006 2016 \nL 2006 0 \nL 1509 0 \nL 1509 2194 \nQ 1509 2366 1498 2472 \nQ 1488 2578 1464 2637 \nQ 1441 2697 1403 2719 \nQ 1366 2741 1313 2741 \nQ 1256 2741 1206 2709 \nQ 1156 2678 1095 2597 \nQ 1034 2516 959 2375 \nQ 884 2234 781 2016 \nL 781 0 \nL 281 0 \nL 281 3138 \nL 697 3138 \nL 722 2541 \nQ 803 2719 879 2844 \nQ 956 2969 1037 3045 \nQ 1119 3122 1211 3158 \nQ 1303 3194 1416 3194 \nQ 1669 3194 1800 3028 \nQ 1931 2863 1931 2516 \nQ 2006 2678 2078 2804 \nQ 2150 2931 2233 3017 \nQ 2316 3103 2416 3148 \nQ 2516 3194 2647 3194 \nQ 3238 3194 3238 2284 \nL 3238 0 \nL 2738 0 \nz\n\" transform=\"scale(0.015625)\"/>\n      <path id=\"Consolas-73\" d=\"M 2984 856 \nQ 2984 691 2928 559 \nQ 2872 428 2775 326 \nQ 2678 225 2550 153 \nQ 2422 81 2276 34 \nQ 2131 -13 1978 -34 \nQ 1825 -56 1678 -56 \nQ 1359 -56 1092 -28 \nQ 825 0 569 63 \nL 569 563 \nQ 844 484 1116 443 \nQ 1388 403 1656 403 \nQ 2047 403 2234 509 \nQ 2422 616 2422 813 \nQ 2422 897 2392 964 \nQ 2363 1031 2284 1092 \nQ 2206 1153 2042 1218 \nQ 1878 1284 1594 1369 \nQ 1381 1431 1201 1511 \nQ 1022 1591 890 1700 \nQ 759 1809 684 1956 \nQ 609 2103 609 2303 \nQ 609 2434 670 2590 \nQ 731 2747 878 2881 \nQ 1025 3016 1275 3105 \nQ 1525 3194 1900 3194 \nQ 2084 3194 2309 3173 \nQ 2534 3153 2778 3103 \nL 2778 2619 \nQ 2522 2681 2292 2711 \nQ 2063 2741 1894 2741 \nQ 1691 2741 1552 2709 \nQ 1413 2678 1327 2623 \nQ 1241 2569 1203 2495 \nQ 1166 2422 1166 2338 \nQ 1166 2253 1198 2184 \nQ 1231 2116 1320 2052 \nQ 1409 1988 1568 1923 \nQ 1728 1859 1984 1784 \nQ 2263 1703 2453 1614 \nQ 2644 1525 2762 1415 \nQ 2881 1306 2932 1168 \nQ 2984 1031 2984 856 \nz\n\" transform=\"scale(0.015625)\"/>\n      <path id=\"Consolas-29\" d=\"M 1141 4653 \nQ 2581 3319 2581 1684 \nQ 2581 1347 2512 984 \nQ 2444 622 2278 242 \nQ 2113 -138 1833 -528 \nQ 1553 -919 1128 -1313 \nL 813 -991 \nQ 1422 -388 1722 268 \nQ 2022 925 2022 1644 \nQ 2022 3131 813 4319 \nL 1141 4653 \nz\n\" transform=\"scale(0.015625)\"/>\n      <path id=\"Consolas-6e\" d=\"M 500 3138 \nL 984 3138 \nL 1006 2631 \nQ 1144 2794 1272 2901 \nQ 1400 3009 1523 3075 \nQ 1647 3141 1775 3167 \nQ 1903 3194 2041 3194 \nQ 2525 3194 2773 2908 \nQ 3022 2622 3022 2047 \nL 3022 0 \nL 2478 0 \nL 2478 2003 \nQ 2478 2372 2340 2548 \nQ 2203 2725 1931 2725 \nQ 1831 2725 1736 2695 \nQ 1641 2666 1537 2592 \nQ 1434 2519 1314 2394 \nQ 1194 2269 1044 2081 \nL 1044 0 \nL 500 0 \nL 500 3138 \nz\n\" transform=\"scale(0.015625)\"/>\n      <path id=\"Consolas-64\" d=\"M 341 1503 \nQ 341 1903 450 2214 \nQ 559 2525 761 2739 \nQ 963 2953 1245 3064 \nQ 1528 3175 1875 3175 \nQ 2025 3175 2170 3156 \nQ 2316 3138 2456 3097 \nL 2456 4416 \nL 3003 4416 \nL 3003 0 \nL 2516 0 \nL 2497 594 \nQ 2269 263 2003 103 \nQ 1738 -56 1428 -56 \nQ 1159 -56 954 56 \nQ 750 169 614 373 \nQ 478 578 409 865 \nQ 341 1153 341 1503 \nz\nM 897 1538 \nQ 897 969 1064 689 \nQ 1231 409 1538 409 \nQ 1744 409 1973 593 \nQ 2203 778 2456 1141 \nL 2456 2597 \nQ 2322 2659 2159 2692 \nQ 1997 2725 1838 2725 \nQ 1394 2725 1145 2437 \nQ 897 2150 897 1538 \nz\n\" transform=\"scale(0.015625)\"/>\n      <path id=\"Consolas-67\" d=\"M 2759 2694 \nQ 2847 2584 2895 2439 \nQ 2944 2294 2944 2125 \nQ 2944 1881 2855 1679 \nQ 2766 1478 2603 1334 \nQ 2441 1191 2214 1111 \nQ 1988 1031 1716 1031 \nQ 1519 1031 1347 1073 \nQ 1175 1116 1075 1178 \nQ 1016 1091 975 1012 \nQ 934 934 934 838 \nQ 934 719 1048 641 \nQ 1163 563 1350 556 \nL 2175 525 \nQ 2409 519 2607 466 \nQ 2806 413 2948 313 \nQ 3091 213 3170 66 \nQ 3250 -81 3250 -275 \nQ 3250 -484 3159 -671 \nQ 3069 -859 2880 -1001 \nQ 2691 -1144 2400 -1228 \nQ 2109 -1313 1709 -1313 \nQ 1328 -1313 1061 -1252 \nQ 794 -1191 622 -1083 \nQ 450 -975 372 -826 \nQ 294 -678 294 -500 \nQ 294 -272 400 -100 \nQ 506 72 728 231 \nQ 647 269 587 325 \nQ 528 381 490 448 \nQ 453 516 434 591 \nQ 416 666 416 738 \nQ 416 941 511 1109 \nQ 606 1278 738 1428 \nQ 678 1500 633 1569 \nQ 588 1638 555 1717 \nQ 522 1797 505 1889 \nQ 488 1981 488 2100 \nQ 488 2344 577 2545 \nQ 666 2747 827 2890 \nQ 988 3034 1214 3114 \nQ 1441 3194 1716 3194 \nQ 1831 3194 1937 3178 \nQ 2044 3163 2125 3138 \nL 3263 3138 \nL 3263 2694 \nL 2759 2694 \nz\nM 872 -453 \nQ 872 -675 1103 -776 \nQ 1334 -878 1747 -878 \nQ 2006 -878 2182 -831 \nQ 2359 -784 2467 -707 \nQ 2575 -631 2622 -532 \nQ 2669 -434 2669 -331 \nQ 2669 -141 2512 -50 \nQ 2356 41 2034 56 \nL 1216 84 \nQ 1113 16 1045 -50 \nQ 978 -116 940 -183 \nQ 903 -250 887 -317 \nQ 872 -384 872 -453 \nz\nM 1038 2113 \nQ 1038 1963 1088 1838 \nQ 1138 1713 1228 1625 \nQ 1319 1538 1442 1489 \nQ 1566 1441 1716 1441 \nQ 1878 1441 2004 1495 \nQ 2131 1550 2217 1644 \nQ 2303 1738 2348 1859 \nQ 2394 1981 2394 2113 \nQ 2394 2263 2344 2388 \nQ 2294 2513 2203 2600 \nQ 2113 2688 1989 2736 \nQ 1866 2784 1716 2784 \nQ 1553 2784 1426 2728 \nQ 1300 2672 1214 2580 \nQ 1128 2488 1083 2366 \nQ 1038 2244 1038 2113 \nz\n\" transform=\"scale(0.015625)\"/>\n      <path id=\"Consolas-74\" d=\"M 3028 44 \nQ 2844 -3 2647 -23 \nQ 2450 -44 2247 -44 \nQ 1656 -44 1365 223 \nQ 1075 491 1075 1044 \nL 1075 2681 \nL 197 2681 \nL 197 3138 \nL 1075 3138 \nL 1075 4000 \nL 1619 4141 \nL 1619 3138 \nL 3028 3138 \nL 3028 2681 \nL 1619 2681 \nL 1619 1088 \nQ 1619 750 1798 583 \nQ 1978 416 2328 416 \nQ 2478 416 2656 439 \nQ 2834 463 3028 513 \nL 3028 44 \nz\n\" transform=\"scale(0.015625)\"/>\n     </defs>\n     <use xlink:href=\"#Consolas-41\"/>\n     <use xlink:href=\"#Consolas-4d\" x=\"54.980469\"/>\n     <use xlink:href=\"#Consolas-43\" x=\"109.960938\"/>\n     <use xlink:href=\"#Consolas-20\" x=\"164.941406\"/>\n     <use xlink:href=\"#Consolas-28\" x=\"219.921875\"/>\n     <use xlink:href=\"#Consolas-54\" x=\"274.902344\"/>\n     <use xlink:href=\"#Consolas-69\" x=\"329.882812\"/>\n     <use xlink:href=\"#Consolas-6d\" x=\"384.863281\"/>\n     <use xlink:href=\"#Consolas-65\" x=\"439.84375\"/>\n     <use xlink:href=\"#Consolas-20\" x=\"494.824219\"/>\n     <use xlink:href=\"#Consolas-53\" x=\"549.804688\"/>\n     <use xlink:href=\"#Consolas-65\" x=\"604.785156\"/>\n     <use xlink:href=\"#Consolas-72\" x=\"659.765625\"/>\n     <use xlink:href=\"#Consolas-69\" x=\"714.746094\"/>\n     <use xlink:href=\"#Consolas-65\" x=\"769.726562\"/>\n     <use xlink:href=\"#Consolas-73\" x=\"824.707031\"/>\n     <use xlink:href=\"#Consolas-29\" x=\"879.6875\"/>\n     <use xlink:href=\"#Consolas-20\" x=\"934.667969\"/>\n     <use xlink:href=\"#Consolas-61\" x=\"989.648438\"/>\n     <use xlink:href=\"#Consolas-6e\" x=\"1044.628906\"/>\n     <use xlink:href=\"#Consolas-64\" x=\"1099.609375\"/>\n     <use xlink:href=\"#Consolas-20\" x=\"1154.589844\"/>\n     <use xlink:href=\"#Consolas-50\" x=\"1209.570312\"/>\n     <use xlink:href=\"#Consolas-72\" x=\"1264.550781\"/>\n     <use xlink:href=\"#Consolas-69\" x=\"1319.53125\"/>\n     <use xlink:href=\"#Consolas-63\" x=\"1374.511719\"/>\n     <use xlink:href=\"#Consolas-65\" x=\"1429.492188\"/>\n     <use xlink:href=\"#Consolas-20\" x=\"1484.472656\"/>\n     <use xlink:href=\"#Consolas-54\" x=\"1539.453125\"/>\n     <use xlink:href=\"#Consolas-61\" x=\"1594.433594\"/>\n     <use xlink:href=\"#Consolas-72\" x=\"1649.414062\"/>\n     <use xlink:href=\"#Consolas-67\" x=\"1704.394531\"/>\n     <use xlink:href=\"#Consolas-65\" x=\"1759.375\"/>\n     <use xlink:href=\"#Consolas-74\" x=\"1814.355469\"/>\n    </g>\n   </g>\n   <g id=\"legend_1\">\n    <g id=\"patch_7\">\n     <path d=\"M 19.080666 78.854199 \nL 184.727142 78.854199 \nQ 186.892942 78.854199 186.892942 76.688399 \nL 186.892942 32.121987 \nQ 186.892942 29.956187 184.727142 29.956187 \nL 19.080666 29.956187 \nQ 16.914866 29.956187 16.914866 32.121987 \nL 16.914866 76.688399 \nQ 16.914866 78.854199 19.080666 78.854199 \nz\n\" style=\"fill: #ffffff; opacity: 0.6; stroke: #ffffff; stroke-linejoin: miter\"/>\n    </g>\n    <g id=\"line2d_35\">\n     <path d=\"M 21.246466 38.077937 \nL 32.075466 38.077937 \nL 42.904466 38.077937 \n\" style=\"fill: none; stroke: #254495; stroke-width: 1.1; stroke-linejoin: miter; stroke-linecap: square\"/>\n    </g>\n    <g id=\"text_19\">\n     <!-- Adjusted closing price -->\n     <g style=\"fill: #0f0f0f\" transform=\"translate(51.567666 41.868087)scale(0.10829 -0.10829)\">\n      <defs>\n       <path id=\"Consolas-6a\" d=\"M 2625 3138 \nL 2625 56 \nQ 2625 -272 2531 -526 \nQ 2438 -781 2263 -956 \nQ 2088 -1131 1833 -1222 \nQ 1578 -1313 1259 -1313 \nQ 1028 -1313 808 -1270 \nQ 588 -1228 409 -1153 \nL 409 -634 \nQ 506 -684 617 -725 \nQ 728 -766 845 -794 \nQ 963 -822 1081 -836 \nQ 1200 -850 1313 -850 \nQ 1669 -850 1872 -625 \nQ 2075 -400 2075 38 \nL 2075 2688 \nL 538 2688 \nL 538 3138 \nL 2625 3138 \nz\nM 2297 4453 \nQ 2388 4453 2466 4420 \nQ 2544 4388 2601 4328 \nQ 2659 4269 2692 4191 \nQ 2725 4113 2725 4025 \nQ 2725 3934 2692 3857 \nQ 2659 3781 2601 3722 \nQ 2544 3663 2466 3630 \nQ 2388 3597 2297 3597 \nQ 2206 3597 2128 3630 \nQ 2050 3663 1992 3722 \nQ 1934 3781 1901 3857 \nQ 1869 3934 1869 4025 \nQ 1869 4113 1901 4191 \nQ 1934 4269 1992 4328 \nQ 2050 4388 2128 4420 \nQ 2206 4453 2297 4453 \nz\n\" transform=\"scale(0.015625)\"/>\n       <path id=\"Consolas-75\" d=\"M 3022 0 \nL 2534 0 \nL 2516 506 \nQ 2375 344 2248 236 \nQ 2122 128 1997 62 \nQ 1872 -3 1745 -29 \nQ 1619 -56 1478 -56 \nQ 994 -56 747 228 \nQ 500 513 500 1088 \nL 500 3138 \nL 1044 3138 \nL 1044 1131 \nQ 1044 409 1588 409 \nQ 1688 409 1783 439 \nQ 1878 469 1983 542 \nQ 2088 616 2208 741 \nQ 2328 866 2478 1056 \nL 2478 3138 \nL 3022 3138 \nL 3022 0 \nz\n\" transform=\"scale(0.015625)\"/>\n       <path id=\"Consolas-6c\" d=\"M 1569 3969 \nL 641 3969 \nL 641 4416 \nL 2119 4416 \nL 2119 453 \nL 3053 453 \nL 3053 0 \nL 538 0 \nL 538 453 \nL 1569 453 \nL 1569 3969 \nz\n\" transform=\"scale(0.015625)\"/>\n       <path id=\"Consolas-6f\" d=\"M 3231 1594 \nQ 3231 1228 3128 923 \nQ 3025 619 2831 401 \nQ 2638 184 2359 64 \nQ 2081 -56 1728 -56 \nQ 1391 -56 1123 48 \nQ 856 153 670 356 \nQ 484 559 386 859 \nQ 288 1159 288 1550 \nQ 288 1916 391 2217 \nQ 494 2519 687 2736 \nQ 881 2953 1159 3073 \nQ 1438 3194 1791 3194 \nQ 2128 3194 2395 3089 \nQ 2663 2984 2848 2782 \nQ 3034 2581 3132 2281 \nQ 3231 1981 3231 1594 \nz\nM 2675 1569 \nQ 2675 1859 2611 2076 \nQ 2547 2294 2428 2439 \nQ 2309 2584 2139 2657 \nQ 1969 2731 1759 2731 \nQ 1516 2731 1342 2636 \nQ 1169 2541 1058 2381 \nQ 947 2222 895 2011 \nQ 844 1800 844 1569 \nQ 844 1278 908 1059 \nQ 972 841 1090 695 \nQ 1209 550 1378 476 \nQ 1547 403 1759 403 \nQ 2003 403 2176 498 \nQ 2350 594 2461 753 \nQ 2572 913 2623 1123 \nQ 2675 1334 2675 1569 \nz\n\" transform=\"scale(0.015625)\"/>\n       <path id=\"Consolas-70\" d=\"M 3181 1625 \nQ 3181 1206 3064 893 \nQ 2947 581 2740 375 \nQ 2534 169 2253 65 \nQ 1972 -38 1644 -38 \nQ 1494 -38 1345 -22 \nQ 1197 -6 1044 31 \nL 1044 -1281 \nL 500 -1281 \nL 500 3138 \nL 984 3138 \nL 1019 2613 \nQ 1253 2934 1518 3064 \nQ 1784 3194 2094 3194 \nQ 2363 3194 2566 3081 \nQ 2769 2969 2906 2764 \nQ 3044 2559 3112 2270 \nQ 3181 1981 3181 1625 \nz\nM 2625 1600 \nQ 2625 1847 2589 2053 \nQ 2553 2259 2475 2406 \nQ 2397 2553 2275 2636 \nQ 2153 2719 1984 2719 \nQ 1881 2719 1775 2686 \nQ 1669 2653 1555 2576 \nQ 1441 2500 1314 2373 \nQ 1188 2247 1044 2059 \nL 1044 538 \nQ 1194 475 1359 439 \nQ 1525 403 1684 403 \nQ 2125 403 2375 701 \nQ 2625 1000 2625 1600 \nz\n\" transform=\"scale(0.015625)\"/>\n      </defs>\n      <use xlink:href=\"#Consolas-41\"/>\n      <use xlink:href=\"#Consolas-64\" x=\"54.980469\"/>\n      <use xlink:href=\"#Consolas-6a\" x=\"109.960938\"/>\n      <use xlink:href=\"#Consolas-75\" x=\"164.941406\"/>\n      <use xlink:href=\"#Consolas-73\" x=\"219.921875\"/>\n      <use xlink:href=\"#Consolas-74\" x=\"274.902344\"/>\n      <use xlink:href=\"#Consolas-65\" x=\"329.882812\"/>\n      <use xlink:href=\"#Consolas-64\" x=\"384.863281\"/>\n      <use xlink:href=\"#Consolas-20\" x=\"439.84375\"/>\n      <use xlink:href=\"#Consolas-63\" x=\"494.824219\"/>\n      <use xlink:href=\"#Consolas-6c\" x=\"549.804688\"/>\n      <use xlink:href=\"#Consolas-6f\" x=\"604.785156\"/>\n      <use xlink:href=\"#Consolas-73\" x=\"659.765625\"/>\n      <use xlink:href=\"#Consolas-69\" x=\"714.746094\"/>\n      <use xlink:href=\"#Consolas-6e\" x=\"769.726562\"/>\n      <use xlink:href=\"#Consolas-67\" x=\"824.707031\"/>\n      <use xlink:href=\"#Consolas-20\" x=\"879.6875\"/>\n      <use xlink:href=\"#Consolas-70\" x=\"934.667969\"/>\n      <use xlink:href=\"#Consolas-72\" x=\"989.648438\"/>\n      <use xlink:href=\"#Consolas-69\" x=\"1044.628906\"/>\n      <use xlink:href=\"#Consolas-63\" x=\"1099.609375\"/>\n      <use xlink:href=\"#Consolas-65\" x=\"1154.589844\"/>\n     </g>\n    </g>\n    <g id=\"line2d_36\">\n     <path d=\"M 21.246466 53.294375 \nL 32.075466 53.294375 \nL 42.904466 53.294375 \n\" style=\"fill: none; stroke: #48277c; stroke-width: 1.1; stroke-linejoin: miter; stroke-linecap: square\"/>\n    </g>\n    <g id=\"text_20\">\n     <!-- Average Price Target -->\n     <g style=\"fill: #0f0f0f\" transform=\"translate(51.567666 57.084525)scale(0.10829 -0.10829)\">\n      <defs>\n       <path id=\"Consolas-76\" d=\"M 206 3138 \nL 825 3138 \nL 1594 1063 \nL 1759 556 \nL 1931 1075 \nL 2694 3138 \nL 3291 3138 \nL 2059 0 \nL 1434 0 \nL 206 3138 \nz\n\" transform=\"scale(0.015625)\"/>\n      </defs>\n      <use xlink:href=\"#Consolas-41\"/>\n      <use xlink:href=\"#Consolas-76\" x=\"54.980469\"/>\n      <use xlink:href=\"#Consolas-65\" x=\"109.960938\"/>\n      <use xlink:href=\"#Consolas-72\" x=\"164.941406\"/>\n      <use xlink:href=\"#Consolas-61\" x=\"219.921875\"/>\n      <use xlink:href=\"#Consolas-67\" x=\"274.902344\"/>\n      <use xlink:href=\"#Consolas-65\" x=\"329.882812\"/>\n      <use xlink:href=\"#Consolas-20\" x=\"384.863281\"/>\n      <use xlink:href=\"#Consolas-50\" x=\"439.84375\"/>\n      <use xlink:href=\"#Consolas-72\" x=\"494.824219\"/>\n      <use xlink:href=\"#Consolas-69\" x=\"549.804688\"/>\n      <use xlink:href=\"#Consolas-63\" x=\"604.785156\"/>\n      <use xlink:href=\"#Consolas-65\" x=\"659.765625\"/>\n      <use xlink:href=\"#Consolas-20\" x=\"714.746094\"/>\n      <use xlink:href=\"#Consolas-54\" x=\"769.726562\"/>\n      <use xlink:href=\"#Consolas-61\" x=\"824.707031\"/>\n      <use xlink:href=\"#Consolas-72\" x=\"879.6875\"/>\n      <use xlink:href=\"#Consolas-67\" x=\"934.667969\"/>\n      <use xlink:href=\"#Consolas-65\" x=\"989.648438\"/>\n      <use xlink:href=\"#Consolas-74\" x=\"1044.628906\"/>\n     </g>\n    </g>\n    <g id=\"PathCollection_2\">\n     <path d=\"M 24.495166 71.458349 \nC 25.025573 71.458349 25.534326 71.247616 25.90938 70.872563 \nC 26.284434 70.497509 26.495166 69.988755 26.495166 69.458349 \nC 26.495166 68.927943 26.284434 68.419189 25.90938 68.044136 \nC 25.534326 67.669082 25.025573 67.458349 24.495166 67.458349 \nC 23.96476 67.458349 23.456007 67.669082 23.080953 68.044136 \nC 22.705899 68.419189 22.495166 68.927943 22.495166 69.458349 \nC 22.495166 69.988755 22.705899 70.497509 23.080953 70.872563 \nC 23.456007 71.247616 23.96476 71.458349 24.495166 71.458349 \nz\n\" style=\"fill: #e4003a; stroke: #00acff\"/>\n     <path d=\"M 32.075466 70.510812 \nC 32.605873 70.510812 33.114626 70.300079 33.48968 69.925025 \nC 33.864734 69.549971 34.075466 69.041218 34.075466 68.510812 \nC 34.075466 67.980405 33.864734 67.471652 33.48968 67.096598 \nC 33.114626 66.721544 32.605873 66.510812 32.075466 66.510812 \nC 31.54506 66.510812 31.036307 66.721544 30.661253 67.096598 \nC 30.286199 67.471652 30.075466 67.980405 30.075466 68.510812 \nC 30.075466 69.041218 30.286199 69.549971 30.661253 69.925025 \nC 31.036307 70.300079 31.54506 70.510812 32.075466 70.510812 \nz\n\" style=\"fill: #e4003a; stroke: #00acff\"/>\n     <path d=\"M 39.655766 71.932118 \nC 40.186173 71.932118 40.694926 71.721385 41.06998 71.346331 \nC 41.445034 70.971278 41.655766 70.462524 41.655766 69.932118 \nC 41.655766 69.401712 41.445034 68.892958 41.06998 68.517904 \nC 40.694926 68.14285 40.186173 67.932118 39.655766 67.932118 \nC 39.12536 67.932118 38.616607 68.14285 38.241553 68.517904 \nC 37.866499 68.892958 37.655766 69.401712 37.655766 69.932118 \nC 37.655766 70.462524 37.866499 70.971278 38.241553 71.346331 \nC 38.616607 71.721385 39.12536 71.932118 39.655766 71.932118 \nz\n\" style=\"fill: #e4003a; stroke: #00acff\"/>\n    </g>\n    <g id=\"text_21\">\n     <!-- Price Target -->\n     <g style=\"fill: #0f0f0f\" transform=\"translate(51.567666 72.300962)scale(0.10829 -0.10829)\">\n      <use xlink:href=\"#Consolas-50\"/>\n      <use xlink:href=\"#Consolas-72\" x=\"54.980469\"/>\n      <use xlink:href=\"#Consolas-69\" x=\"109.960938\"/>\n      <use xlink:href=\"#Consolas-63\" x=\"164.941406\"/>\n      <use xlink:href=\"#Consolas-65\" x=\"219.921875\"/>\n      <use xlink:href=\"#Consolas-20\" x=\"274.902344\"/>\n      <use xlink:href=\"#Consolas-54\" x=\"329.882812\"/>\n      <use xlink:href=\"#Consolas-61\" x=\"384.863281\"/>\n      <use xlink:href=\"#Consolas-72\" x=\"439.84375\"/>\n      <use xlink:href=\"#Consolas-67\" x=\"494.824219\"/>\n      <use xlink:href=\"#Consolas-65\" x=\"549.804688\"/>\n      <use xlink:href=\"#Consolas-74\" x=\"604.785156\"/>\n     </g>\n    </g>\n   </g>\n  </g>\n </g>\n <defs>\n  <clipPath id=\"pfe33236944\">\n   <rect x=\"11.500366\" y=\"24.541687\" width=\"446.4\" height=\"271.8\"/>\n  </clipPath>\n </defs>\n</svg>\n",
      "text/plain": [
       "<Figure size 800x500 with 1 Axes>"
      ]
     },
     "metadata": {},
     "output_type": "display_data"
    }
   ],
   "source": [
    "fig_pt, ax_pt = plt.subplots(figsize=plot_autoscale(), dpi=cfp.PLOT_DPI)\n",
    "gst.stocks.dd.pt(ticker=ticker, start=\"10/25/2021\", interval=\"1440min\", stock=ticker_data, num=10, raw=False, external_axes=[ax_pt])\n",
    "plt.show(fig_pt)"
   ]
  },
  {
   "cell_type": "markdown",
   "id": "63c0538c",
   "metadata": {},
   "source": [
    "### 2. Ratings over time"
   ]
  },
  {
   "cell_type": "code",
   "execution_count": 15,
   "id": "f3733ff2",
   "metadata": {},
   "outputs": [
    {
     "data": {
      "image/svg+xml": "<?xml version=\"1.0\" encoding=\"utf-8\" standalone=\"no\"?>\n<!DOCTYPE svg PUBLIC \"-//W3C//DTD SVG 1.1//EN\"\n  \"http://www.w3.org/Graphics/SVG/1.1/DTD/svg11.dtd\">\n<svg xmlns:xlink=\"http://www.w3.org/1999/xlink\" width=\"521.111876pt\" height=\"328.386704pt\" viewBox=\"0 0 521.111876 328.386704\" xmlns=\"http://www.w3.org/2000/svg\" version=\"1.1\">\n <metadata>\n  <rdf:RDF xmlns:dc=\"http://purl.org/dc/elements/1.1/\" xmlns:cc=\"http://creativecommons.org/ns#\" xmlns:rdf=\"http://www.w3.org/1999/02/22-rdf-syntax-ns#\">\n   <cc:Work>\n    <dc:type rdf:resource=\"http://purl.org/dc/dcmitype/StillImage\"/>\n    <dc:date>2022-03-24T10:31:31.581519</dc:date>\n    <dc:format>image/svg+xml</dc:format>\n    <dc:creator>\n     <cc:Agent>\n      <dc:title>Matplotlib v3.5.1, https://matplotlib.org/</dc:title>\n     </cc:Agent>\n    </dc:creator>\n   </cc:Work>\n  </rdf:RDF>\n </metadata>\n <defs>\n  <style type=\"text/css\">*{stroke-linejoin: round; stroke-linecap: butt}</style>\n </defs>\n <g id=\"figure_1\">\n  <g id=\"patch_1\">\n   <path d=\"M 0 328.386704 \nL 521.111876 328.386704 \nL 521.111876 0 \nL 0 0 \nz\n\" style=\"fill: #ffffff\"/>\n  </g>\n  <g id=\"axes_1\">\n   <g id=\"patch_2\">\n    <path d=\"M 37.355938 295.854187 \nL 483.755938 295.854187 \nL 483.755938 24.054187 \nL 37.355938 24.054187 \nz\n\" style=\"fill: #ffffff\"/>\n   </g>\n   <g id=\"matplotlib.axis_1\">\n    <g id=\"xtick_1\">\n     <g id=\"line2d_1\">\n      <path d=\"M 37.355938 295.854187 \nL 37.355938 24.054187 \n\" clip-path=\"url(#pcf7aef7b53)\" style=\"fill: none; stroke-dasharray: 0.4,0.66; stroke-dashoffset: 0; stroke: #0f0f0f; stroke-width: 0.4; stroke-linejoin: miter\"/>\n     </g>\n     <g id=\"line2d_2\">\n      <defs>\n       <path id=\"m545ffcbc0c\" d=\"M 0 0 \nL 0 2 \n\" style=\"stroke: #0f0f0f; stroke-width: 0.2\"/>\n      </defs>\n      <g>\n       <use xlink:href=\"#m545ffcbc0c\" x=\"37.355938\" y=\"295.854187\" style=\"fill: #0f0f0f; stroke: #0f0f0f; stroke-width: 0.2\"/>\n      </g>\n     </g>\n     <g id=\"text_1\">\n      <!-- 2021-12-01 -->\n      <g style=\"fill: #0f0f0f\" transform=\"translate(8.497501 319.052141)rotate(-10)scale(0.10829 -0.10829)\">\n       <defs>\n        <path id=\"Consolas-32\" d=\"M 3150 0 \nL 459 0 \nL 459 488 \nL 1516 1538 \nQ 1775 1794 1937 1981 \nQ 2100 2169 2190 2323 \nQ 2281 2478 2312 2615 \nQ 2344 2753 2344 2913 \nQ 2344 3063 2303 3198 \nQ 2263 3334 2178 3437 \nQ 2094 3541 1959 3600 \nQ 1825 3659 1638 3659 \nQ 1378 3659 1165 3543 \nQ 953 3428 775 3244 \nL 475 3603 \nQ 706 3847 1007 3994 \nQ 1309 4141 1709 4141 \nQ 1981 4141 2204 4059 \nQ 2428 3978 2590 3825 \nQ 2753 3672 2842 3450 \nQ 2931 3228 2931 2950 \nQ 2931 2716 2868 2516 \nQ 2806 2316 2679 2117 \nQ 2553 1919 2361 1706 \nQ 2169 1494 1906 1241 \nL 1166 519 \nL 3150 519 \nL 3150 0 \nz\n\" transform=\"scale(0.015625)\"/>\n        <path id=\"Consolas-30\" d=\"M 3244 2041 \nQ 3244 1572 3150 1186 \nQ 3056 800 2865 523 \nQ 2675 247 2392 95 \nQ 2109 -56 1728 -56 \nQ 1400 -56 1131 67 \nQ 863 191 672 447 \nQ 481 703 378 1100 \nQ 275 1497 275 2041 \nQ 275 2509 370 2896 \nQ 466 3284 655 3561 \nQ 844 3838 1128 3989 \nQ 1413 4141 1791 4141 \nQ 2119 4141 2387 4017 \nQ 2656 3894 2847 3636 \nQ 3038 3378 3141 2981 \nQ 3244 2584 3244 2041 \nz\nM 2694 2022 \nQ 2694 2128 2686 2233 \nQ 2678 2338 2669 2438 \nL 941 1153 \nQ 988 991 1059 853 \nQ 1131 716 1232 617 \nQ 1334 519 1464 464 \nQ 1594 409 1759 409 \nQ 1972 409 2145 512 \nQ 2319 616 2441 819 \nQ 2563 1022 2628 1323 \nQ 2694 1625 2694 2022 \nz\nM 825 2059 \nQ 825 1963 826 1866 \nQ 828 1769 838 1678 \nL 2566 2956 \nQ 2519 3116 2447 3247 \nQ 2375 3378 2275 3473 \nQ 2175 3569 2047 3622 \nQ 1919 3675 1759 3675 \nQ 1547 3675 1373 3572 \nQ 1200 3469 1078 3264 \nQ 956 3059 890 2757 \nQ 825 2456 825 2059 \nz\n\" transform=\"scale(0.015625)\"/>\n        <path id=\"Consolas-31\" d=\"M 3116 0 \nL 550 0 \nL 550 506 \nL 1600 506 \nL 1600 3488 \nL 622 2956 \nL 422 3419 \nL 1722 4103 \nL 2203 4103 \nL 2203 506 \nL 3116 506 \nL 3116 0 \nz\n\" transform=\"scale(0.015625)\"/>\n        <path id=\"Consolas-2d\" d=\"M 2694 1447 \nL 825 1447 \nL 825 1959 \nL 2694 1959 \nL 2694 1447 \nz\n\" transform=\"scale(0.015625)\"/>\n       </defs>\n       <use xlink:href=\"#Consolas-32\"/>\n       <use xlink:href=\"#Consolas-30\" x=\"54.980469\"/>\n       <use xlink:href=\"#Consolas-32\" x=\"109.960938\"/>\n       <use xlink:href=\"#Consolas-31\" x=\"164.941406\"/>\n       <use xlink:href=\"#Consolas-2d\" x=\"219.921875\"/>\n       <use xlink:href=\"#Consolas-31\" x=\"274.902344\"/>\n       <use xlink:href=\"#Consolas-32\" x=\"329.882812\"/>\n       <use xlink:href=\"#Consolas-2d\" x=\"384.863281\"/>\n       <use xlink:href=\"#Consolas-30\" x=\"439.84375\"/>\n       <use xlink:href=\"#Consolas-31\" x=\"494.824219\"/>\n      </g>\n     </g>\n    </g>\n    <g id=\"xtick_2\">\n     <g id=\"line2d_3\">\n      <path d=\"M 106.795938 295.854187 \nL 106.795938 24.054187 \n\" clip-path=\"url(#pcf7aef7b53)\" style=\"fill: none; stroke-dasharray: 0.4,0.66; stroke-dashoffset: 0; stroke: #0f0f0f; stroke-width: 0.4; stroke-linejoin: miter\"/>\n     </g>\n     <g id=\"line2d_4\">\n      <g>\n       <use xlink:href=\"#m545ffcbc0c\" x=\"106.795938\" y=\"295.854187\" style=\"fill: #0f0f0f; stroke: #0f0f0f; stroke-width: 0.2\"/>\n      </g>\n     </g>\n     <g id=\"text_2\">\n      <!-- 2021-12-15 -->\n      <g style=\"fill: #0f0f0f\" transform=\"translate(77.937501 319.052141)rotate(-10)scale(0.10829 -0.10829)\">\n       <defs>\n        <path id=\"Consolas-35\" d=\"M 3047 1306 \nQ 3047 1003 2915 753 \nQ 2784 503 2554 323 \nQ 2325 144 2012 44 \nQ 1700 -56 1338 -56 \nQ 1247 -56 1142 -51 \nQ 1038 -47 934 -39 \nQ 831 -31 732 -22 \nQ 634 -13 556 0 \nL 556 494 \nQ 725 453 942 434 \nQ 1159 416 1381 416 \nQ 1631 416 1831 475 \nQ 2031 534 2172 645 \nQ 2313 756 2388 914 \nQ 2463 1072 2463 1269 \nQ 2463 1650 2189 1823 \nQ 1916 1997 1403 1997 \nL 628 1997 \nL 628 4084 \nL 2828 4084 \nL 2828 3609 \nL 1141 3609 \nL 1141 2463 \nL 1497 2463 \nQ 1791 2463 2069 2409 \nQ 2347 2356 2564 2223 \nQ 2781 2091 2914 1867 \nQ 3047 1644 3047 1306 \nz\n\" transform=\"scale(0.015625)\"/>\n       </defs>\n       <use xlink:href=\"#Consolas-32\"/>\n       <use xlink:href=\"#Consolas-30\" x=\"54.980469\"/>\n       <use xlink:href=\"#Consolas-32\" x=\"109.960938\"/>\n       <use xlink:href=\"#Consolas-31\" x=\"164.941406\"/>\n       <use xlink:href=\"#Consolas-2d\" x=\"219.921875\"/>\n       <use xlink:href=\"#Consolas-31\" x=\"274.902344\"/>\n       <use xlink:href=\"#Consolas-32\" x=\"329.882812\"/>\n       <use xlink:href=\"#Consolas-2d\" x=\"384.863281\"/>\n       <use xlink:href=\"#Consolas-31\" x=\"439.84375\"/>\n       <use xlink:href=\"#Consolas-35\" x=\"494.824219\"/>\n      </g>\n     </g>\n    </g>\n    <g id=\"xtick_3\">\n     <g id=\"line2d_5\">\n      <path d=\"M 191.115938 295.854187 \nL 191.115938 24.054187 \n\" clip-path=\"url(#pcf7aef7b53)\" style=\"fill: none; stroke-dasharray: 0.4,0.66; stroke-dashoffset: 0; stroke: #0f0f0f; stroke-width: 0.4; stroke-linejoin: miter\"/>\n     </g>\n     <g id=\"line2d_6\">\n      <g>\n       <use xlink:href=\"#m545ffcbc0c\" x=\"191.115938\" y=\"295.854187\" style=\"fill: #0f0f0f; stroke: #0f0f0f; stroke-width: 0.2\"/>\n      </g>\n     </g>\n     <g id=\"text_3\">\n      <!-- 2022-01-01 -->\n      <g style=\"fill: #0f0f0f\" transform=\"translate(162.257501 319.052141)rotate(-10)scale(0.10829 -0.10829)\">\n       <use xlink:href=\"#Consolas-32\"/>\n       <use xlink:href=\"#Consolas-30\" x=\"54.980469\"/>\n       <use xlink:href=\"#Consolas-32\" x=\"109.960938\"/>\n       <use xlink:href=\"#Consolas-32\" x=\"164.941406\"/>\n       <use xlink:href=\"#Consolas-2d\" x=\"219.921875\"/>\n       <use xlink:href=\"#Consolas-30\" x=\"274.902344\"/>\n       <use xlink:href=\"#Consolas-31\" x=\"329.882812\"/>\n       <use xlink:href=\"#Consolas-2d\" x=\"384.863281\"/>\n       <use xlink:href=\"#Consolas-30\" x=\"439.84375\"/>\n       <use xlink:href=\"#Consolas-31\" x=\"494.824219\"/>\n      </g>\n     </g>\n    </g>\n    <g id=\"xtick_4\">\n     <g id=\"line2d_7\">\n      <path d=\"M 260.555938 295.854187 \nL 260.555938 24.054187 \n\" clip-path=\"url(#pcf7aef7b53)\" style=\"fill: none; stroke-dasharray: 0.4,0.66; stroke-dashoffset: 0; stroke: #0f0f0f; stroke-width: 0.4; stroke-linejoin: miter\"/>\n     </g>\n     <g id=\"line2d_8\">\n      <g>\n       <use xlink:href=\"#m545ffcbc0c\" x=\"260.555938\" y=\"295.854187\" style=\"fill: #0f0f0f; stroke: #0f0f0f; stroke-width: 0.2\"/>\n      </g>\n     </g>\n     <g id=\"text_4\">\n      <!-- 2022-01-15 -->\n      <g style=\"fill: #0f0f0f\" transform=\"translate(231.697501 319.052141)rotate(-10)scale(0.10829 -0.10829)\">\n       <use xlink:href=\"#Consolas-32\"/>\n       <use xlink:href=\"#Consolas-30\" x=\"54.980469\"/>\n       <use xlink:href=\"#Consolas-32\" x=\"109.960938\"/>\n       <use xlink:href=\"#Consolas-32\" x=\"164.941406\"/>\n       <use xlink:href=\"#Consolas-2d\" x=\"219.921875\"/>\n       <use xlink:href=\"#Consolas-30\" x=\"274.902344\"/>\n       <use xlink:href=\"#Consolas-31\" x=\"329.882812\"/>\n       <use xlink:href=\"#Consolas-2d\" x=\"384.863281\"/>\n       <use xlink:href=\"#Consolas-31\" x=\"439.84375\"/>\n       <use xlink:href=\"#Consolas-35\" x=\"494.824219\"/>\n      </g>\n     </g>\n    </g>\n    <g id=\"xtick_5\">\n     <g id=\"line2d_9\">\n      <path d=\"M 344.875938 295.854187 \nL 344.875938 24.054187 \n\" clip-path=\"url(#pcf7aef7b53)\" style=\"fill: none; stroke-dasharray: 0.4,0.66; stroke-dashoffset: 0; stroke: #0f0f0f; stroke-width: 0.4; stroke-linejoin: miter\"/>\n     </g>\n     <g id=\"line2d_10\">\n      <g>\n       <use xlink:href=\"#m545ffcbc0c\" x=\"344.875938\" y=\"295.854187\" style=\"fill: #0f0f0f; stroke: #0f0f0f; stroke-width: 0.2\"/>\n      </g>\n     </g>\n     <g id=\"text_5\">\n      <!-- 2022-02-01 -->\n      <g style=\"fill: #0f0f0f\" transform=\"translate(316.017501 319.052141)rotate(-10)scale(0.10829 -0.10829)\">\n       <use xlink:href=\"#Consolas-32\"/>\n       <use xlink:href=\"#Consolas-30\" x=\"54.980469\"/>\n       <use xlink:href=\"#Consolas-32\" x=\"109.960938\"/>\n       <use xlink:href=\"#Consolas-32\" x=\"164.941406\"/>\n       <use xlink:href=\"#Consolas-2d\" x=\"219.921875\"/>\n       <use xlink:href=\"#Consolas-30\" x=\"274.902344\"/>\n       <use xlink:href=\"#Consolas-32\" x=\"329.882812\"/>\n       <use xlink:href=\"#Consolas-2d\" x=\"384.863281\"/>\n       <use xlink:href=\"#Consolas-30\" x=\"439.84375\"/>\n       <use xlink:href=\"#Consolas-31\" x=\"494.824219\"/>\n      </g>\n     </g>\n    </g>\n    <g id=\"xtick_6\">\n     <g id=\"line2d_11\">\n      <path d=\"M 414.315938 295.854187 \nL 414.315938 24.054187 \n\" clip-path=\"url(#pcf7aef7b53)\" style=\"fill: none; stroke-dasharray: 0.4,0.66; stroke-dashoffset: 0; stroke: #0f0f0f; stroke-width: 0.4; stroke-linejoin: miter\"/>\n     </g>\n     <g id=\"line2d_12\">\n      <g>\n       <use xlink:href=\"#m545ffcbc0c\" x=\"414.315938\" y=\"295.854187\" style=\"fill: #0f0f0f; stroke: #0f0f0f; stroke-width: 0.2\"/>\n      </g>\n     </g>\n     <g id=\"text_6\">\n      <!-- 2022-02-15 -->\n      <g style=\"fill: #0f0f0f\" transform=\"translate(385.457501 319.052141)rotate(-10)scale(0.10829 -0.10829)\">\n       <use xlink:href=\"#Consolas-32\"/>\n       <use xlink:href=\"#Consolas-30\" x=\"54.980469\"/>\n       <use xlink:href=\"#Consolas-32\" x=\"109.960938\"/>\n       <use xlink:href=\"#Consolas-32\" x=\"164.941406\"/>\n       <use xlink:href=\"#Consolas-2d\" x=\"219.921875\"/>\n       <use xlink:href=\"#Consolas-30\" x=\"274.902344\"/>\n       <use xlink:href=\"#Consolas-32\" x=\"329.882812\"/>\n       <use xlink:href=\"#Consolas-2d\" x=\"384.863281\"/>\n       <use xlink:href=\"#Consolas-31\" x=\"439.84375\"/>\n       <use xlink:href=\"#Consolas-35\" x=\"494.824219\"/>\n      </g>\n     </g>\n    </g>\n    <g id=\"xtick_7\">\n     <g id=\"line2d_13\">\n      <path d=\"M 483.755938 295.854187 \nL 483.755938 24.054187 \n\" clip-path=\"url(#pcf7aef7b53)\" style=\"fill: none; stroke-dasharray: 0.4,0.66; stroke-dashoffset: 0; stroke: #0f0f0f; stroke-width: 0.4; stroke-linejoin: miter\"/>\n     </g>\n     <g id=\"line2d_14\">\n      <g>\n       <use xlink:href=\"#m545ffcbc0c\" x=\"483.755938\" y=\"295.854187\" style=\"fill: #0f0f0f; stroke: #0f0f0f; stroke-width: 0.2\"/>\n      </g>\n     </g>\n     <g id=\"text_7\">\n      <!-- 2022-03-01 -->\n      <g style=\"fill: #0f0f0f\" transform=\"translate(454.897501 319.052141)rotate(-10)scale(0.10829 -0.10829)\">\n       <defs>\n        <path id=\"Consolas-33\" d=\"M 3072 1241 \nQ 3072 972 2962 736 \nQ 2853 500 2634 323 \nQ 2416 147 2084 45 \nQ 1753 -56 1313 -56 \nQ 1069 -56 875 -40 \nQ 681 -25 513 0 \nL 513 488 \nQ 706 453 922 434 \nQ 1138 416 1363 416 \nQ 1669 416 1886 470 \nQ 2103 525 2240 628 \nQ 2378 731 2440 878 \nQ 2503 1025 2503 1209 \nQ 2503 1378 2428 1503 \nQ 2353 1628 2217 1712 \nQ 2081 1797 1892 1839 \nQ 1703 1881 1478 1881 \nL 1013 1881 \nL 1013 2328 \nL 1484 2328 \nQ 1669 2328 1820 2376 \nQ 1972 2425 2080 2515 \nQ 2188 2606 2245 2739 \nQ 2303 2872 2303 3041 \nQ 2303 3369 2103 3519 \nQ 1903 3669 1516 3669 \nQ 1309 3669 1090 3628 \nQ 872 3588 622 3506 \nL 622 3981 \nQ 728 4019 848 4048 \nQ 969 4078 1089 4098 \nQ 1209 4119 1328 4130 \nQ 1447 4141 1556 4141 \nQ 1881 4141 2128 4070 \nQ 2375 4000 2540 3869 \nQ 2706 3738 2790 3550 \nQ 2875 3363 2875 3128 \nQ 2875 2778 2695 2540 \nQ 2516 2303 2203 2163 \nQ 2363 2138 2517 2063 \nQ 2672 1988 2795 1870 \nQ 2919 1753 2995 1593 \nQ 3072 1434 3072 1241 \nz\n\" transform=\"scale(0.015625)\"/>\n       </defs>\n       <use xlink:href=\"#Consolas-32\"/>\n       <use xlink:href=\"#Consolas-30\" x=\"54.980469\"/>\n       <use xlink:href=\"#Consolas-32\" x=\"109.960938\"/>\n       <use xlink:href=\"#Consolas-32\" x=\"164.941406\"/>\n       <use xlink:href=\"#Consolas-2d\" x=\"219.921875\"/>\n       <use xlink:href=\"#Consolas-30\" x=\"274.902344\"/>\n       <use xlink:href=\"#Consolas-33\" x=\"329.882812\"/>\n       <use xlink:href=\"#Consolas-2d\" x=\"384.863281\"/>\n       <use xlink:href=\"#Consolas-30\" x=\"439.84375\"/>\n       <use xlink:href=\"#Consolas-31\" x=\"494.824219\"/>\n      </g>\n     </g>\n    </g>\n   </g>\n   <g id=\"matplotlib.axis_2\">\n    <g id=\"ytick_1\">\n     <g id=\"line2d_15\">\n      <path d=\"M 37.355938 283.499642 \nL 483.755938 283.499642 \n\" clip-path=\"url(#pcf7aef7b53)\" style=\"fill: none; stroke-dasharray: 0.4,0.66; stroke-dashoffset: 0; stroke: #0f0f0f; stroke-width: 0.4; stroke-linejoin: miter\"/>\n     </g>\n     <g id=\"line2d_16\">\n      <defs>\n       <path id=\"m8c6f976ebb\" d=\"M 0 0 \nL 2 0 \n\" style=\"stroke: #0f0f0f; stroke-width: 0.2\"/>\n      </defs>\n      <g>\n       <use xlink:href=\"#m8c6f976ebb\" x=\"483.755938\" y=\"283.499642\" style=\"fill: #0f0f0f; stroke: #0f0f0f; stroke-width: 0.2\"/>\n      </g>\n     </g>\n     <g id=\"text_8\">\n      <!-- 0 -->\n      <g style=\"fill: #0f0f0f\" transform=\"translate(489.255938 287.235647)scale(0.10829 -0.10829)\">\n       <use xlink:href=\"#Consolas-30\"/>\n      </g>\n     </g>\n    </g>\n    <g id=\"ytick_2\">\n     <g id=\"line2d_17\">\n      <path d=\"M 37.355938 252.613278 \nL 483.755938 252.613278 \n\" clip-path=\"url(#pcf7aef7b53)\" style=\"fill: none; stroke-dasharray: 0.4,0.66; stroke-dashoffset: 0; stroke: #0f0f0f; stroke-width: 0.4; stroke-linejoin: miter\"/>\n     </g>\n     <g id=\"line2d_18\">\n      <g>\n       <use xlink:href=\"#m8c6f976ebb\" x=\"483.755938\" y=\"252.613278\" style=\"fill: #0f0f0f; stroke: #0f0f0f; stroke-width: 0.2\"/>\n      </g>\n     </g>\n     <g id=\"text_9\">\n      <!-- 1 -->\n      <g style=\"fill: #0f0f0f\" transform=\"translate(489.255938 256.349283)scale(0.10829 -0.10829)\">\n       <use xlink:href=\"#Consolas-31\"/>\n      </g>\n     </g>\n    </g>\n    <g id=\"ytick_3\">\n     <g id=\"line2d_19\">\n      <path d=\"M 37.355938 221.726915 \nL 483.755938 221.726915 \n\" clip-path=\"url(#pcf7aef7b53)\" style=\"fill: none; stroke-dasharray: 0.4,0.66; stroke-dashoffset: 0; stroke: #0f0f0f; stroke-width: 0.4; stroke-linejoin: miter\"/>\n     </g>\n     <g id=\"line2d_20\">\n      <g>\n       <use xlink:href=\"#m8c6f976ebb\" x=\"483.755938\" y=\"221.726915\" style=\"fill: #0f0f0f; stroke: #0f0f0f; stroke-width: 0.2\"/>\n      </g>\n     </g>\n     <g id=\"text_10\">\n      <!-- 2 -->\n      <g style=\"fill: #0f0f0f\" transform=\"translate(489.255938 225.46292)scale(0.10829 -0.10829)\">\n       <use xlink:href=\"#Consolas-32\"/>\n      </g>\n     </g>\n    </g>\n    <g id=\"ytick_4\">\n     <g id=\"line2d_21\">\n      <path d=\"M 37.355938 190.840551 \nL 483.755938 190.840551 \n\" clip-path=\"url(#pcf7aef7b53)\" style=\"fill: none; stroke-dasharray: 0.4,0.66; stroke-dashoffset: 0; stroke: #0f0f0f; stroke-width: 0.4; stroke-linejoin: miter\"/>\n     </g>\n     <g id=\"line2d_22\">\n      <g>\n       <use xlink:href=\"#m8c6f976ebb\" x=\"483.755938\" y=\"190.840551\" style=\"fill: #0f0f0f; stroke: #0f0f0f; stroke-width: 0.2\"/>\n      </g>\n     </g>\n     <g id=\"text_11\">\n      <!-- 3 -->\n      <g style=\"fill: #0f0f0f\" transform=\"translate(489.255938 194.576556)scale(0.10829 -0.10829)\">\n       <use xlink:href=\"#Consolas-33\"/>\n      </g>\n     </g>\n    </g>\n    <g id=\"ytick_5\">\n     <g id=\"line2d_23\">\n      <path d=\"M 37.355938 159.954187 \nL 483.755938 159.954187 \n\" clip-path=\"url(#pcf7aef7b53)\" style=\"fill: none; stroke-dasharray: 0.4,0.66; stroke-dashoffset: 0; stroke: #0f0f0f; stroke-width: 0.4; stroke-linejoin: miter\"/>\n     </g>\n     <g id=\"line2d_24\">\n      <g>\n       <use xlink:href=\"#m8c6f976ebb\" x=\"483.755938\" y=\"159.954187\" style=\"fill: #0f0f0f; stroke: #0f0f0f; stroke-width: 0.2\"/>\n      </g>\n     </g>\n     <g id=\"text_12\">\n      <!-- 4 -->\n      <g style=\"fill: #0f0f0f\" transform=\"translate(489.255938 163.690192)scale(0.10829 -0.10829)\">\n       <defs>\n        <path id=\"Consolas-34\" d=\"M 3353 903 \nL 2656 903 \nL 2656 0 \nL 2100 0 \nL 2100 903 \nL 134 903 \nL 134 1381 \nL 1875 4084 \nL 2656 4084 \nL 2656 1381 \nL 3353 1381 \nL 3353 903 \nz\nM 2100 3559 \nL 678 1381 \nL 2100 1381 \nL 2100 3559 \nz\n\" transform=\"scale(0.015625)\"/>\n       </defs>\n       <use xlink:href=\"#Consolas-34\"/>\n      </g>\n     </g>\n    </g>\n    <g id=\"ytick_6\">\n     <g id=\"line2d_25\">\n      <path d=\"M 37.355938 129.067824 \nL 483.755938 129.067824 \n\" clip-path=\"url(#pcf7aef7b53)\" style=\"fill: none; stroke-dasharray: 0.4,0.66; stroke-dashoffset: 0; stroke: #0f0f0f; stroke-width: 0.4; stroke-linejoin: miter\"/>\n     </g>\n     <g id=\"line2d_26\">\n      <g>\n       <use xlink:href=\"#m8c6f976ebb\" x=\"483.755938\" y=\"129.067824\" style=\"fill: #0f0f0f; stroke: #0f0f0f; stroke-width: 0.2\"/>\n      </g>\n     </g>\n     <g id=\"text_13\">\n      <!-- 5 -->\n      <g style=\"fill: #0f0f0f\" transform=\"translate(489.255938 132.803829)scale(0.10829 -0.10829)\">\n       <use xlink:href=\"#Consolas-35\"/>\n      </g>\n     </g>\n    </g>\n    <g id=\"ytick_7\">\n     <g id=\"line2d_27\">\n      <path d=\"M 37.355938 98.18146 \nL 483.755938 98.18146 \n\" clip-path=\"url(#pcf7aef7b53)\" style=\"fill: none; stroke-dasharray: 0.4,0.66; stroke-dashoffset: 0; stroke: #0f0f0f; stroke-width: 0.4; stroke-linejoin: miter\"/>\n     </g>\n     <g id=\"line2d_28\">\n      <g>\n       <use xlink:href=\"#m8c6f976ebb\" x=\"483.755938\" y=\"98.18146\" style=\"fill: #0f0f0f; stroke: #0f0f0f; stroke-width: 0.2\"/>\n      </g>\n     </g>\n     <g id=\"text_14\">\n      <!-- 6 -->\n      <g style=\"fill: #0f0f0f\" transform=\"translate(489.255938 101.917465)scale(0.10829 -0.10829)\">\n       <defs>\n        <path id=\"Consolas-36\" d=\"M 3200 1294 \nQ 3200 1013 3098 766 \nQ 2997 519 2809 336 \nQ 2622 153 2358 48 \nQ 2094 -56 1772 -56 \nQ 1434 -56 1175 51 \nQ 916 159 741 382 \nQ 566 606 475 947 \nQ 384 1288 384 1753 \nQ 384 2066 425 2359 \nQ 466 2653 559 2912 \nQ 653 3172 809 3387 \nQ 966 3603 1198 3758 \nQ 1431 3913 1747 3998 \nQ 2063 4084 2478 4084 \nL 2881 4084 \nL 2881 3609 \nL 2444 3609 \nQ 2078 3609 1809 3521 \nQ 1541 3434 1359 3275 \nQ 1178 3116 1081 2891 \nQ 984 2666 959 2388 \nL 947 2259 \nQ 1144 2375 1401 2445 \nQ 1659 2516 1959 2516 \nQ 2269 2516 2501 2425 \nQ 2734 2334 2889 2173 \nQ 3044 2013 3122 1788 \nQ 3200 1563 3200 1294 \nz\nM 2631 1259 \nQ 2631 1447 2586 1598 \nQ 2541 1750 2444 1854 \nQ 2347 1959 2198 2017 \nQ 2050 2075 1844 2075 \nQ 1725 2075 1603 2053 \nQ 1481 2031 1364 1992 \nQ 1247 1953 1140 1903 \nQ 1034 1853 947 1797 \nQ 947 1394 1003 1123 \nQ 1059 853 1170 690 \nQ 1281 528 1443 459 \nQ 1606 391 1819 391 \nQ 1997 391 2145 448 \nQ 2294 506 2401 618 \nQ 2509 731 2570 892 \nQ 2631 1053 2631 1259 \nz\n\" transform=\"scale(0.015625)\"/>\n       </defs>\n       <use xlink:href=\"#Consolas-36\"/>\n      </g>\n     </g>\n    </g>\n    <g id=\"ytick_8\">\n     <g id=\"line2d_29\">\n      <path d=\"M 37.355938 67.295097 \nL 483.755938 67.295097 \n\" clip-path=\"url(#pcf7aef7b53)\" style=\"fill: none; stroke-dasharray: 0.4,0.66; stroke-dashoffset: 0; stroke: #0f0f0f; stroke-width: 0.4; stroke-linejoin: miter\"/>\n     </g>\n     <g id=\"line2d_30\">\n      <g>\n       <use xlink:href=\"#m8c6f976ebb\" x=\"483.755938\" y=\"67.295097\" style=\"fill: #0f0f0f; stroke: #0f0f0f; stroke-width: 0.2\"/>\n      </g>\n     </g>\n     <g id=\"text_15\">\n      <!-- 7 -->\n      <g style=\"fill: #0f0f0f\" transform=\"translate(489.255938 71.031102)scale(0.10829 -0.10829)\">\n       <defs>\n        <path id=\"Consolas-37\" d=\"M 3128 3578 \nL 1416 0 \nL 794 0 \nL 2572 3578 \nL 366 3578 \nL 366 4084 \nL 3128 4084 \nL 3128 3578 \nz\n\" transform=\"scale(0.015625)\"/>\n       </defs>\n       <use xlink:href=\"#Consolas-37\"/>\n      </g>\n     </g>\n    </g>\n    <g id=\"ytick_9\">\n     <g id=\"line2d_31\">\n      <path d=\"M 37.355938 36.408733 \nL 483.755938 36.408733 \n\" clip-path=\"url(#pcf7aef7b53)\" style=\"fill: none; stroke-dasharray: 0.4,0.66; stroke-dashoffset: 0; stroke: #0f0f0f; stroke-width: 0.4; stroke-linejoin: miter\"/>\n     </g>\n     <g id=\"line2d_32\">\n      <g>\n       <use xlink:href=\"#m8c6f976ebb\" x=\"483.755938\" y=\"36.408733\" style=\"fill: #0f0f0f; stroke: #0f0f0f; stroke-width: 0.2\"/>\n      </g>\n     </g>\n     <g id=\"text_16\">\n      <!-- 8 -->\n      <g style=\"fill: #0f0f0f\" transform=\"translate(489.255938 40.144738)scale(0.10829 -0.10829)\">\n       <defs>\n        <path id=\"Consolas-38\" d=\"M 3150 1025 \nQ 3150 766 3044 564 \nQ 2938 363 2747 225 \nQ 2556 88 2297 16 \nQ 2038 -56 1734 -56 \nQ 1400 -56 1145 19 \nQ 891 94 719 228 \nQ 547 363 459 547 \nQ 372 731 372 953 \nQ 372 1328 581 1600 \nQ 791 1872 1228 2094 \nQ 828 2297 643 2545 \nQ 459 2794 459 3116 \nQ 459 3313 540 3497 \nQ 622 3681 786 3825 \nQ 950 3969 1197 4055 \nQ 1444 4141 1778 4141 \nQ 2094 4141 2333 4073 \nQ 2572 4006 2734 3881 \nQ 2897 3756 2978 3578 \nQ 3059 3400 3059 3181 \nQ 3059 2825 2861 2575 \nQ 2663 2325 2297 2138 \nQ 2478 2047 2634 1937 \nQ 2791 1828 2906 1693 \nQ 3022 1559 3086 1393 \nQ 3150 1228 3150 1025 \nz\nM 2503 3138 \nQ 2503 3416 2308 3552 \nQ 2113 3688 1759 3688 \nQ 1409 3688 1214 3553 \nQ 1019 3419 1019 3150 \nQ 1019 3028 1066 2925 \nQ 1113 2822 1211 2731 \nQ 1309 2641 1456 2553 \nQ 1603 2466 1806 2375 \nQ 2159 2541 2331 2720 \nQ 2503 2900 2503 3138 \nz\nM 2559 984 \nQ 2559 1100 2521 1209 \nQ 2484 1319 2387 1425 \nQ 2291 1531 2128 1637 \nQ 1966 1744 1716 1856 \nQ 1503 1753 1358 1651 \nQ 1213 1550 1123 1445 \nQ 1034 1341 996 1228 \nQ 959 1116 959 991 \nQ 959 850 1020 742 \nQ 1081 634 1187 559 \nQ 1294 484 1441 446 \nQ 1588 409 1759 409 \nQ 1925 409 2072 443 \nQ 2219 478 2326 548 \nQ 2434 619 2496 726 \nQ 2559 834 2559 984 \nz\n\" transform=\"scale(0.015625)\"/>\n       </defs>\n       <use xlink:href=\"#Consolas-38\"/>\n      </g>\n     </g>\n    </g>\n    <g id=\"text_17\">\n     <!-- Rating -->\n     <g style=\"fill: #0f0f0f\" transform=\"translate(506.744811 177.816961)rotate(-90)scale(0.10829 -0.10829)\">\n      <defs>\n       <path id=\"Consolas-52\" d=\"M 3284 0 \nL 2656 0 \nL 2047 1306 \nQ 1978 1456 1906 1554 \nQ 1834 1653 1751 1711 \nQ 1669 1769 1570 1794 \nQ 1472 1819 1350 1819 \nL 1088 1819 \nL 1088 0 \nL 531 0 \nL 531 4084 \nL 1625 4084 \nQ 1981 4084 2237 4006 \nQ 2494 3928 2658 3787 \nQ 2822 3647 2898 3448 \nQ 2975 3250 2975 3009 \nQ 2975 2819 2919 2648 \nQ 2863 2478 2752 2339 \nQ 2641 2200 2477 2098 \nQ 2313 1997 2100 1947 \nQ 2272 1888 2392 1739 \nQ 2513 1591 2638 1344 \nL 3284 0 \nz\nM 2394 2963 \nQ 2394 3291 2189 3453 \nQ 1984 3616 1613 3616 \nL 1088 3616 \nL 1088 2266 \nL 1538 2266 \nQ 1734 2266 1892 2311 \nQ 2050 2356 2161 2445 \nQ 2272 2534 2333 2664 \nQ 2394 2794 2394 2963 \nz\n\" transform=\"scale(0.015625)\"/>\n       <path id=\"Consolas-61\" d=\"M 2516 0 \nL 2503 422 \nQ 2247 169 1983 56 \nQ 1719 -56 1428 -56 \nQ 1159 -56 968 12 \nQ 778 81 654 201 \nQ 531 322 473 484 \nQ 416 647 416 838 \nQ 416 1309 767 1576 \nQ 1119 1844 1806 1844 \nL 2456 1844 \nL 2456 2119 \nQ 2456 2397 2278 2564 \nQ 2100 2731 1734 2731 \nQ 1469 2731 1211 2672 \nQ 953 2613 678 2503 \nL 678 2994 \nQ 781 3031 907 3067 \nQ 1034 3103 1175 3131 \nQ 1316 3159 1469 3176 \nQ 1622 3194 1778 3194 \nQ 2063 3194 2291 3131 \nQ 2519 3069 2676 2941 \nQ 2834 2813 2918 2619 \nQ 3003 2425 3003 2163 \nL 3003 0 \nL 2516 0 \nz\nM 2456 1428 \nL 1766 1428 \nQ 1563 1428 1416 1387 \nQ 1269 1347 1175 1272 \nQ 1081 1197 1036 1092 \nQ 991 988 991 856 \nQ 991 766 1019 683 \nQ 1047 600 1109 536 \nQ 1172 472 1272 434 \nQ 1372 397 1516 397 \nQ 1703 397 1945 511 \nQ 2188 625 2456 872 \nL 2456 1428 \nz\n\" transform=\"scale(0.015625)\"/>\n       <path id=\"Consolas-74\" d=\"M 3028 44 \nQ 2844 -3 2647 -23 \nQ 2450 -44 2247 -44 \nQ 1656 -44 1365 223 \nQ 1075 491 1075 1044 \nL 1075 2681 \nL 197 2681 \nL 197 3138 \nL 1075 3138 \nL 1075 4000 \nL 1619 4141 \nL 1619 3138 \nL 3028 3138 \nL 3028 2681 \nL 1619 2681 \nL 1619 1088 \nQ 1619 750 1798 583 \nQ 1978 416 2328 416 \nQ 2478 416 2656 439 \nQ 2834 463 3028 513 \nL 3028 44 \nz\n\" transform=\"scale(0.015625)\"/>\n       <path id=\"Consolas-69\" d=\"M 1569 2688 \nL 641 2688 \nL 641 3138 \nL 2119 3138 \nL 2119 453 \nL 3053 453 \nL 3053 0 \nL 538 0 \nL 538 453 \nL 1569 453 \nL 1569 2688 \nz\nM 1759 4453 \nQ 1850 4453 1928 4420 \nQ 2006 4388 2064 4328 \nQ 2122 4269 2155 4192 \nQ 2188 4116 2188 4025 \nQ 2188 3938 2155 3859 \nQ 2122 3781 2064 3722 \nQ 2006 3663 1928 3630 \nQ 1850 3597 1759 3597 \nQ 1669 3597 1591 3630 \nQ 1513 3663 1455 3722 \nQ 1397 3781 1364 3859 \nQ 1331 3938 1331 4025 \nQ 1331 4116 1364 4192 \nQ 1397 4269 1455 4328 \nQ 1513 4388 1591 4420 \nQ 1669 4453 1759 4453 \nz\n\" transform=\"scale(0.015625)\"/>\n       <path id=\"Consolas-6e\" d=\"M 500 3138 \nL 984 3138 \nL 1006 2631 \nQ 1144 2794 1272 2901 \nQ 1400 3009 1523 3075 \nQ 1647 3141 1775 3167 \nQ 1903 3194 2041 3194 \nQ 2525 3194 2773 2908 \nQ 3022 2622 3022 2047 \nL 3022 0 \nL 2478 0 \nL 2478 2003 \nQ 2478 2372 2340 2548 \nQ 2203 2725 1931 2725 \nQ 1831 2725 1736 2695 \nQ 1641 2666 1537 2592 \nQ 1434 2519 1314 2394 \nQ 1194 2269 1044 2081 \nL 1044 0 \nL 500 0 \nL 500 3138 \nz\n\" transform=\"scale(0.015625)\"/>\n       <path id=\"Consolas-67\" d=\"M 2759 2694 \nQ 2847 2584 2895 2439 \nQ 2944 2294 2944 2125 \nQ 2944 1881 2855 1679 \nQ 2766 1478 2603 1334 \nQ 2441 1191 2214 1111 \nQ 1988 1031 1716 1031 \nQ 1519 1031 1347 1073 \nQ 1175 1116 1075 1178 \nQ 1016 1091 975 1012 \nQ 934 934 934 838 \nQ 934 719 1048 641 \nQ 1163 563 1350 556 \nL 2175 525 \nQ 2409 519 2607 466 \nQ 2806 413 2948 313 \nQ 3091 213 3170 66 \nQ 3250 -81 3250 -275 \nQ 3250 -484 3159 -671 \nQ 3069 -859 2880 -1001 \nQ 2691 -1144 2400 -1228 \nQ 2109 -1313 1709 -1313 \nQ 1328 -1313 1061 -1252 \nQ 794 -1191 622 -1083 \nQ 450 -975 372 -826 \nQ 294 -678 294 -500 \nQ 294 -272 400 -100 \nQ 506 72 728 231 \nQ 647 269 587 325 \nQ 528 381 490 448 \nQ 453 516 434 591 \nQ 416 666 416 738 \nQ 416 941 511 1109 \nQ 606 1278 738 1428 \nQ 678 1500 633 1569 \nQ 588 1638 555 1717 \nQ 522 1797 505 1889 \nQ 488 1981 488 2100 \nQ 488 2344 577 2545 \nQ 666 2747 827 2890 \nQ 988 3034 1214 3114 \nQ 1441 3194 1716 3194 \nQ 1831 3194 1937 3178 \nQ 2044 3163 2125 3138 \nL 3263 3138 \nL 3263 2694 \nL 2759 2694 \nz\nM 872 -453 \nQ 872 -675 1103 -776 \nQ 1334 -878 1747 -878 \nQ 2006 -878 2182 -831 \nQ 2359 -784 2467 -707 \nQ 2575 -631 2622 -532 \nQ 2669 -434 2669 -331 \nQ 2669 -141 2512 -50 \nQ 2356 41 2034 56 \nL 1216 84 \nQ 1113 16 1045 -50 \nQ 978 -116 940 -183 \nQ 903 -250 887 -317 \nQ 872 -384 872 -453 \nz\nM 1038 2113 \nQ 1038 1963 1088 1838 \nQ 1138 1713 1228 1625 \nQ 1319 1538 1442 1489 \nQ 1566 1441 1716 1441 \nQ 1878 1441 2004 1495 \nQ 2131 1550 2217 1644 \nQ 2303 1738 2348 1859 \nQ 2394 1981 2394 2113 \nQ 2394 2263 2344 2388 \nQ 2294 2513 2203 2600 \nQ 2113 2688 1989 2736 \nQ 1866 2784 1716 2784 \nQ 1553 2784 1426 2728 \nQ 1300 2672 1214 2580 \nQ 1128 2488 1083 2366 \nQ 1038 2244 1038 2113 \nz\n\" transform=\"scale(0.015625)\"/>\n      </defs>\n      <use xlink:href=\"#Consolas-52\"/>\n      <use xlink:href=\"#Consolas-61\" x=\"54.980469\"/>\n      <use xlink:href=\"#Consolas-74\" x=\"109.960938\"/>\n      <use xlink:href=\"#Consolas-69\" x=\"164.941406\"/>\n      <use xlink:href=\"#Consolas-6e\" x=\"219.921875\"/>\n      <use xlink:href=\"#Consolas-67\" x=\"274.902344\"/>\n     </g>\n    </g>\n   </g>\n   <g id=\"line2d_33\">\n    <path d=\"M 37.355938 283.499642 \nL 191.115938 283.499642 \nL 344.875938 283.499642 \nL 483.755938 283.499642 \n\" clip-path=\"url(#pcf7aef7b53)\" style=\"fill: none; stroke: #008000; stroke-width: 3; stroke-linejoin: miter; stroke-linecap: square\"/>\n   </g>\n   <g id=\"line2d_34\">\n    <path d=\"M 37.355938 283.499642 \nL 191.115938 283.499642 \nL 344.875938 283.499642 \nL 483.755938 283.499642 \n\" clip-path=\"url(#pcf7aef7b53)\" style=\"fill: none; stroke: #90ee90; stroke-width: 3; stroke-linejoin: miter; stroke-linecap: square\"/>\n   </g>\n   <g id=\"line2d_35\">\n    <path d=\"M 37.355938 129.067824 \nL 191.115938 129.067824 \nL 344.875938 129.067824 \nL 483.755938 129.067824 \n\" clip-path=\"url(#pcf7aef7b53)\" style=\"fill: none; stroke: #808080; stroke-width: 3; stroke-linejoin: miter; stroke-linecap: square\"/>\n   </g>\n   <g id=\"line2d_36\">\n    <path d=\"M 37.355938 36.408733 \nL 191.115938 36.408733 \nL 344.875938 36.408733 \nL 483.755938 36.408733 \n\" clip-path=\"url(#pcf7aef7b53)\" style=\"fill: none; stroke: #ffc0cb; stroke-width: 3; stroke-linejoin: miter; stroke-linecap: square\"/>\n   </g>\n   <g id=\"line2d_37\">\n    <path d=\"M 37.355938 190.840551 \nL 191.115938 190.840551 \nL 344.875938 190.840551 \nL 483.755938 190.840551 \n\" clip-path=\"url(#pcf7aef7b53)\" style=\"fill: none; stroke: #ff0000; stroke-width: 3; stroke-linejoin: miter; stroke-linecap: square\"/>\n   </g>\n   <g id=\"patch_3\">\n    <path d=\"M 37.355938 295.854187 \nL 37.355938 24.054187 \n\" style=\"fill: none; stroke: #0f0f0f; stroke-width: 0.2; stroke-linejoin: miter; stroke-linecap: square\"/>\n   </g>\n   <g id=\"patch_4\">\n    <path d=\"M 483.755938 295.854187 \nL 483.755938 24.054187 \n\" style=\"fill: none; stroke: #0f0f0f; stroke-width: 0.2; stroke-linejoin: miter; stroke-linecap: square\"/>\n   </g>\n   <g id=\"patch_5\">\n    <path d=\"M 37.355938 295.854187 \nL 483.755938 295.854187 \n\" style=\"fill: none; stroke: #0f0f0f; stroke-width: 0.2; stroke-linejoin: miter; stroke-linecap: square\"/>\n   </g>\n   <g id=\"patch_6\">\n    <path d=\"M 37.355938 24.054187 \nL 483.755938 24.054187 \n\" style=\"fill: none; stroke: #0f0f0f; stroke-width: 0.2; stroke-linejoin: miter; stroke-linecap: square\"/>\n   </g>\n   <g id=\"text_18\">\n    <!-- AMC's ratings over time -->\n    <g style=\"fill: #0f0f0f\" transform=\"translate(37.355938 18.054187)scale(0.156 -0.156)\">\n     <defs>\n      <path id=\"Consolas-41\" d=\"M 3488 0 \nL 2881 0 \nL 2597 891 \nL 897 891 \nL 609 0 \nL 31 0 \nL 1388 4084 \nL 2150 4084 \nL 3488 0 \nz\nM 2438 1388 \nL 1747 3572 \nL 1056 1388 \nL 2438 1388 \nz\n\" transform=\"scale(0.015625)\"/>\n      <path id=\"Consolas-4d\" d=\"M 3366 0 \nL 2822 0 \nL 2741 2547 \nL 2706 3525 \nL 2516 2956 \nL 1913 1331 \nL 1528 1331 \nL 953 2894 \nL 763 3525 \nL 750 2503 \nL 678 0 \nL 153 0 \nL 353 4084 \nL 1013 4084 \nL 1563 2547 \nL 1741 2028 \nL 1913 2547 \nL 2491 4084 \nL 3169 4084 \nL 3366 0 \nz\n\" transform=\"scale(0.015625)\"/>\n      <path id=\"Consolas-43\" d=\"M 3109 153 \nQ 2619 -50 2081 -50 \nQ 1216 -50 752 467 \nQ 288 984 288 1997 \nQ 288 2488 416 2884 \nQ 544 3281 781 3557 \nQ 1019 3834 1356 3984 \nQ 1694 4134 2113 4134 \nQ 2397 4134 2640 4086 \nQ 2884 4038 3109 3938 \nL 3109 3391 \nQ 2888 3513 2650 3577 \nQ 2413 3641 2131 3641 \nQ 1844 3641 1611 3533 \nQ 1378 3425 1215 3220 \nQ 1053 3016 965 2720 \nQ 878 2425 878 2047 \nQ 878 1253 1200 850 \nQ 1522 447 2144 447 \nQ 2406 447 2647 508 \nQ 2888 569 3109 678 \nL 3109 153 \nz\n\" transform=\"scale(0.015625)\"/>\n      <path id=\"Consolas-27\" d=\"M 2119 4416 \nL 2028 2950 \nL 1491 2950 \nL 1403 4416 \nL 2119 4416 \nz\n\" transform=\"scale(0.015625)\"/>\n      <path id=\"Consolas-73\" d=\"M 2984 856 \nQ 2984 691 2928 559 \nQ 2872 428 2775 326 \nQ 2678 225 2550 153 \nQ 2422 81 2276 34 \nQ 2131 -13 1978 -34 \nQ 1825 -56 1678 -56 \nQ 1359 -56 1092 -28 \nQ 825 0 569 63 \nL 569 563 \nQ 844 484 1116 443 \nQ 1388 403 1656 403 \nQ 2047 403 2234 509 \nQ 2422 616 2422 813 \nQ 2422 897 2392 964 \nQ 2363 1031 2284 1092 \nQ 2206 1153 2042 1218 \nQ 1878 1284 1594 1369 \nQ 1381 1431 1201 1511 \nQ 1022 1591 890 1700 \nQ 759 1809 684 1956 \nQ 609 2103 609 2303 \nQ 609 2434 670 2590 \nQ 731 2747 878 2881 \nQ 1025 3016 1275 3105 \nQ 1525 3194 1900 3194 \nQ 2084 3194 2309 3173 \nQ 2534 3153 2778 3103 \nL 2778 2619 \nQ 2522 2681 2292 2711 \nQ 2063 2741 1894 2741 \nQ 1691 2741 1552 2709 \nQ 1413 2678 1327 2623 \nQ 1241 2569 1203 2495 \nQ 1166 2422 1166 2338 \nQ 1166 2253 1198 2184 \nQ 1231 2116 1320 2052 \nQ 1409 1988 1568 1923 \nQ 1728 1859 1984 1784 \nQ 2263 1703 2453 1614 \nQ 2644 1525 2762 1415 \nQ 2881 1306 2932 1168 \nQ 2984 1031 2984 856 \nz\n\" transform=\"scale(0.015625)\"/>\n      <path id=\"Consolas-20\" transform=\"scale(0.015625)\"/>\n      <path id=\"Consolas-72\" d=\"M 628 3138 \nL 1125 3138 \nL 1141 2559 \nQ 1419 2894 1689 3044 \nQ 1959 3194 2234 3194 \nQ 2722 3194 2973 2878 \nQ 3225 2563 3206 1941 \nL 2656 1941 \nQ 2666 2353 2536 2539 \nQ 2406 2725 2156 2725 \nQ 2047 2725 1936 2686 \nQ 1825 2647 1708 2561 \nQ 1591 2475 1459 2340 \nQ 1328 2206 1178 2016 \nL 1178 0 \nL 628 0 \nL 628 3138 \nz\n\" transform=\"scale(0.015625)\"/>\n      <path id=\"Consolas-6f\" d=\"M 3231 1594 \nQ 3231 1228 3128 923 \nQ 3025 619 2831 401 \nQ 2638 184 2359 64 \nQ 2081 -56 1728 -56 \nQ 1391 -56 1123 48 \nQ 856 153 670 356 \nQ 484 559 386 859 \nQ 288 1159 288 1550 \nQ 288 1916 391 2217 \nQ 494 2519 687 2736 \nQ 881 2953 1159 3073 \nQ 1438 3194 1791 3194 \nQ 2128 3194 2395 3089 \nQ 2663 2984 2848 2782 \nQ 3034 2581 3132 2281 \nQ 3231 1981 3231 1594 \nz\nM 2675 1569 \nQ 2675 1859 2611 2076 \nQ 2547 2294 2428 2439 \nQ 2309 2584 2139 2657 \nQ 1969 2731 1759 2731 \nQ 1516 2731 1342 2636 \nQ 1169 2541 1058 2381 \nQ 947 2222 895 2011 \nQ 844 1800 844 1569 \nQ 844 1278 908 1059 \nQ 972 841 1090 695 \nQ 1209 550 1378 476 \nQ 1547 403 1759 403 \nQ 2003 403 2176 498 \nQ 2350 594 2461 753 \nQ 2572 913 2623 1123 \nQ 2675 1334 2675 1569 \nz\n\" transform=\"scale(0.015625)\"/>\n      <path id=\"Consolas-76\" d=\"M 206 3138 \nL 825 3138 \nL 1594 1063 \nL 1759 556 \nL 1931 1075 \nL 2694 3138 \nL 3291 3138 \nL 2059 0 \nL 1434 0 \nL 206 3138 \nz\n\" transform=\"scale(0.015625)\"/>\n      <path id=\"Consolas-65\" d=\"M 3150 1734 \nQ 3150 1619 3147 1541 \nQ 3144 1463 3138 1394 \nL 934 1394 \nQ 934 913 1203 655 \nQ 1472 397 1978 397 \nQ 2116 397 2253 408 \nQ 2391 419 2519 437 \nQ 2647 456 2764 479 \nQ 2881 503 2981 531 \nL 2981 84 \nQ 2759 22 2479 -17 \nQ 2200 -56 1900 -56 \nQ 1497 -56 1206 53 \nQ 916 163 730 370 \nQ 544 578 455 879 \nQ 366 1181 366 1563 \nQ 366 1894 461 2189 \nQ 556 2484 739 2707 \nQ 922 2931 1187 3062 \nQ 1453 3194 1791 3194 \nQ 2119 3194 2372 3091 \nQ 2625 2988 2798 2798 \nQ 2972 2609 3061 2339 \nQ 3150 2069 3150 1734 \nz\nM 2584 1813 \nQ 2594 2022 2544 2195 \nQ 2494 2369 2389 2494 \nQ 2284 2619 2128 2689 \nQ 1972 2759 1766 2759 \nQ 1588 2759 1441 2690 \nQ 1294 2622 1187 2497 \nQ 1081 2372 1015 2197 \nQ 950 2022 934 1813 \nL 2584 1813 \nz\n\" transform=\"scale(0.015625)\"/>\n      <path id=\"Consolas-6d\" d=\"M 2738 0 \nL 2738 2253 \nQ 2738 2400 2727 2494 \nQ 2716 2588 2692 2642 \nQ 2669 2697 2633 2719 \nQ 2597 2741 2544 2741 \nQ 2481 2741 2428 2703 \nQ 2375 2666 2314 2581 \nQ 2253 2497 2179 2358 \nQ 2106 2219 2006 2016 \nL 2006 0 \nL 1509 0 \nL 1509 2194 \nQ 1509 2366 1498 2472 \nQ 1488 2578 1464 2637 \nQ 1441 2697 1403 2719 \nQ 1366 2741 1313 2741 \nQ 1256 2741 1206 2709 \nQ 1156 2678 1095 2597 \nQ 1034 2516 959 2375 \nQ 884 2234 781 2016 \nL 781 0 \nL 281 0 \nL 281 3138 \nL 697 3138 \nL 722 2541 \nQ 803 2719 879 2844 \nQ 956 2969 1037 3045 \nQ 1119 3122 1211 3158 \nQ 1303 3194 1416 3194 \nQ 1669 3194 1800 3028 \nQ 1931 2863 1931 2516 \nQ 2006 2678 2078 2804 \nQ 2150 2931 2233 3017 \nQ 2316 3103 2416 3148 \nQ 2516 3194 2647 3194 \nQ 3238 3194 3238 2284 \nL 3238 0 \nL 2738 0 \nz\n\" transform=\"scale(0.015625)\"/>\n     </defs>\n     <use xlink:href=\"#Consolas-41\"/>\n     <use xlink:href=\"#Consolas-4d\" x=\"54.980469\"/>\n     <use xlink:href=\"#Consolas-43\" x=\"109.960938\"/>\n     <use xlink:href=\"#Consolas-27\" x=\"164.941406\"/>\n     <use xlink:href=\"#Consolas-73\" x=\"219.921875\"/>\n     <use xlink:href=\"#Consolas-20\" x=\"274.902344\"/>\n     <use xlink:href=\"#Consolas-72\" x=\"329.882812\"/>\n     <use xlink:href=\"#Consolas-61\" x=\"384.863281\"/>\n     <use xlink:href=\"#Consolas-74\" x=\"439.84375\"/>\n     <use xlink:href=\"#Consolas-69\" x=\"494.824219\"/>\n     <use xlink:href=\"#Consolas-6e\" x=\"549.804688\"/>\n     <use xlink:href=\"#Consolas-67\" x=\"604.785156\"/>\n     <use xlink:href=\"#Consolas-73\" x=\"659.765625\"/>\n     <use xlink:href=\"#Consolas-20\" x=\"714.746094\"/>\n     <use xlink:href=\"#Consolas-6f\" x=\"769.726562\"/>\n     <use xlink:href=\"#Consolas-76\" x=\"824.707031\"/>\n     <use xlink:href=\"#Consolas-65\" x=\"879.6875\"/>\n     <use xlink:href=\"#Consolas-72\" x=\"934.667969\"/>\n     <use xlink:href=\"#Consolas-20\" x=\"989.648438\"/>\n     <use xlink:href=\"#Consolas-74\" x=\"1044.628906\"/>\n     <use xlink:href=\"#Consolas-69\" x=\"1099.609375\"/>\n     <use xlink:href=\"#Consolas-6d\" x=\"1154.589844\"/>\n     <use xlink:href=\"#Consolas-65\" x=\"1209.570312\"/>\n    </g>\n   </g>\n   <g id=\"legend_1\">\n    <g id=\"patch_7\">\n     <path d=\"M 376.026 108.669286 \nL 476.175638 108.669286 \nQ 478.341438 108.669286 478.341438 106.503486 \nL 478.341438 31.634487 \nQ 478.341438 29.468687 476.175638 29.468687 \nL 376.026 29.468687 \nQ 373.8602 29.468687 373.8602 31.634487 \nL 373.8602 106.503486 \nQ 373.8602 108.669286 376.026 108.669286 \nz\n\" style=\"fill: #ffffff; opacity: 0.6; stroke: #ffffff; stroke-linejoin: miter\"/>\n    </g>\n    <g id=\"line2d_38\">\n     <path d=\"M 378.1918 37.590437 \nL 389.0208 37.590437 \nL 399.8498 37.590437 \n\" style=\"fill: none; stroke: #008000; stroke-width: 3; stroke-linejoin: miter; stroke-linecap: square\"/>\n    </g>\n    <g id=\"text_19\">\n     <!-- Strong Buy -->\n     <g style=\"fill: #0f0f0f\" transform=\"translate(408.513 41.380587)scale(0.10829 -0.10829)\">\n      <defs>\n       <path id=\"Consolas-53\" d=\"M 3116 1106 \nQ 3116 816 2997 597 \nQ 2878 378 2665 233 \nQ 2453 88 2154 16 \nQ 1856 -56 1497 -56 \nQ 1334 -56 1173 -43 \nQ 1013 -31 864 -12 \nQ 716 6 584 31 \nQ 453 56 347 84 \nL 347 622 \nQ 581 534 873 484 \nQ 1166 434 1538 434 \nQ 1806 434 1995 476 \nQ 2184 519 2304 601 \nQ 2425 684 2479 803 \nQ 2534 922 2534 1075 \nQ 2534 1241 2442 1358 \nQ 2350 1475 2200 1567 \nQ 2050 1659 1858 1736 \nQ 1666 1813 1466 1894 \nQ 1266 1975 1073 2070 \nQ 881 2166 731 2295 \nQ 581 2425 489 2600 \nQ 397 2775 397 3016 \nQ 397 3225 484 3428 \nQ 572 3631 756 3789 \nQ 941 3947 1230 4044 \nQ 1519 4141 1919 4141 \nQ 2022 4141 2142 4131 \nQ 2263 4122 2386 4105 \nQ 2509 4088 2629 4066 \nQ 2750 4044 2853 4019 \nL 2853 3519 \nQ 2613 3588 2372 3623 \nQ 2131 3659 1906 3659 \nQ 1428 3659 1203 3500 \nQ 978 3341 978 3072 \nQ 978 2906 1070 2787 \nQ 1163 2669 1313 2575 \nQ 1463 2481 1655 2404 \nQ 1847 2328 2047 2247 \nQ 2247 2166 2439 2069 \nQ 2631 1972 2781 1839 \nQ 2931 1706 3023 1528 \nQ 3116 1350 3116 1106 \nz\n\" transform=\"scale(0.015625)\"/>\n       <path id=\"Consolas-42\" d=\"M 3175 1222 \nQ 3175 928 3061 701 \nQ 2947 475 2736 319 \nQ 2525 163 2226 81 \nQ 1928 0 1563 0 \nL 494 0 \nL 494 4084 \nL 1663 4084 \nQ 3028 4084 3028 3091 \nQ 3028 2759 2870 2521 \nQ 2713 2284 2356 2169 \nQ 2522 2138 2670 2063 \nQ 2819 1988 2931 1869 \nQ 3044 1750 3109 1587 \nQ 3175 1425 3175 1222 \nz\nM 2450 3016 \nQ 2450 3141 2412 3252 \nQ 2375 3363 2281 3442 \nQ 2188 3522 2028 3569 \nQ 1869 3616 1625 3616 \nL 1050 3616 \nL 1050 2338 \nL 1606 2338 \nQ 1797 2338 1951 2378 \nQ 2106 2419 2217 2503 \nQ 2328 2588 2389 2714 \nQ 2450 2841 2450 3016 \nz\nM 2584 1203 \nQ 2584 1359 2518 1484 \nQ 2453 1609 2328 1695 \nQ 2203 1781 2023 1828 \nQ 1844 1875 1619 1875 \nL 1050 1875 \nL 1050 469 \nL 1638 469 \nQ 2116 469 2350 647 \nQ 2584 825 2584 1203 \nz\n\" transform=\"scale(0.015625)\"/>\n       <path id=\"Consolas-75\" d=\"M 3022 0 \nL 2534 0 \nL 2516 506 \nQ 2375 344 2248 236 \nQ 2122 128 1997 62 \nQ 1872 -3 1745 -29 \nQ 1619 -56 1478 -56 \nQ 994 -56 747 228 \nQ 500 513 500 1088 \nL 500 3138 \nL 1044 3138 \nL 1044 1131 \nQ 1044 409 1588 409 \nQ 1688 409 1783 439 \nQ 1878 469 1983 542 \nQ 2088 616 2208 741 \nQ 2328 866 2478 1056 \nL 2478 3138 \nL 3022 3138 \nL 3022 0 \nz\n\" transform=\"scale(0.015625)\"/>\n       <path id=\"Consolas-79\" d=\"M 3291 3138 \nL 2222 331 \nQ 2056 -97 1879 -406 \nQ 1703 -716 1493 -914 \nQ 1284 -1113 1034 -1206 \nQ 784 -1300 475 -1300 \nQ 394 -1300 328 -1297 \nQ 263 -1294 184 -1288 \nL 184 -794 \nQ 253 -803 334 -811 \nQ 416 -819 506 -819 \nQ 656 -819 786 -775 \nQ 916 -731 1031 -632 \nQ 1147 -534 1253 -378 \nQ 1359 -222 1459 0 \nL 206 3138 \nL 825 3138 \nL 1619 1063 \nL 1778 575 \nL 1959 1075 \nL 2694 3138 \nL 3291 3138 \nz\n\" transform=\"scale(0.015625)\"/>\n      </defs>\n      <use xlink:href=\"#Consolas-53\"/>\n      <use xlink:href=\"#Consolas-74\" x=\"54.980469\"/>\n      <use xlink:href=\"#Consolas-72\" x=\"109.960938\"/>\n      <use xlink:href=\"#Consolas-6f\" x=\"164.941406\"/>\n      <use xlink:href=\"#Consolas-6e\" x=\"219.921875\"/>\n      <use xlink:href=\"#Consolas-67\" x=\"274.902344\"/>\n      <use xlink:href=\"#Consolas-20\" x=\"329.882812\"/>\n      <use xlink:href=\"#Consolas-42\" x=\"384.863281\"/>\n      <use xlink:href=\"#Consolas-75\" x=\"439.84375\"/>\n      <use xlink:href=\"#Consolas-79\" x=\"494.824219\"/>\n     </g>\n    </g>\n    <g id=\"line2d_39\">\n     <path d=\"M 378.1918 52.806875 \nL 389.0208 52.806875 \nL 399.8498 52.806875 \n\" style=\"fill: none; stroke: #90ee90; stroke-width: 3; stroke-linejoin: miter; stroke-linecap: square\"/>\n    </g>\n    <g id=\"text_20\">\n     <!-- Buy -->\n     <g style=\"fill: #0f0f0f\" transform=\"translate(408.513 56.597025)scale(0.10829 -0.10829)\">\n      <use xlink:href=\"#Consolas-42\"/>\n      <use xlink:href=\"#Consolas-75\" x=\"54.980469\"/>\n      <use xlink:href=\"#Consolas-79\" x=\"109.960938\"/>\n     </g>\n    </g>\n    <g id=\"line2d_40\">\n     <path d=\"M 378.1918 68.001315 \nL 389.0208 68.001315 \nL 399.8498 68.001315 \n\" style=\"fill: none; stroke: #808080; stroke-width: 3; stroke-linejoin: miter; stroke-linecap: square\"/>\n    </g>\n    <g id=\"text_21\">\n     <!-- Hold -->\n     <g style=\"fill: #0f0f0f\" transform=\"translate(408.513 71.791465)scale(0.10829 -0.10829)\">\n      <defs>\n       <path id=\"Consolas-48\" d=\"M 3175 0 \nL 2619 0 \nL 2619 1875 \nL 903 1875 \nL 903 0 \nL 347 0 \nL 347 4084 \nL 903 4084 \nL 903 2356 \nL 2619 2356 \nL 2619 4084 \nL 3175 4084 \nL 3175 0 \nz\n\" transform=\"scale(0.015625)\"/>\n       <path id=\"Consolas-6c\" d=\"M 1569 3969 \nL 641 3969 \nL 641 4416 \nL 2119 4416 \nL 2119 453 \nL 3053 453 \nL 3053 0 \nL 538 0 \nL 538 453 \nL 1569 453 \nL 1569 3969 \nz\n\" transform=\"scale(0.015625)\"/>\n       <path id=\"Consolas-64\" d=\"M 341 1503 \nQ 341 1903 450 2214 \nQ 559 2525 761 2739 \nQ 963 2953 1245 3064 \nQ 1528 3175 1875 3175 \nQ 2025 3175 2170 3156 \nQ 2316 3138 2456 3097 \nL 2456 4416 \nL 3003 4416 \nL 3003 0 \nL 2516 0 \nL 2497 594 \nQ 2269 263 2003 103 \nQ 1738 -56 1428 -56 \nQ 1159 -56 954 56 \nQ 750 169 614 373 \nQ 478 578 409 865 \nQ 341 1153 341 1503 \nz\nM 897 1538 \nQ 897 969 1064 689 \nQ 1231 409 1538 409 \nQ 1744 409 1973 593 \nQ 2203 778 2456 1141 \nL 2456 2597 \nQ 2322 2659 2159 2692 \nQ 1997 2725 1838 2725 \nQ 1394 2725 1145 2437 \nQ 897 2150 897 1538 \nz\n\" transform=\"scale(0.015625)\"/>\n      </defs>\n      <use xlink:href=\"#Consolas-48\"/>\n      <use xlink:href=\"#Consolas-6f\" x=\"54.980469\"/>\n      <use xlink:href=\"#Consolas-6c\" x=\"109.960938\"/>\n      <use xlink:href=\"#Consolas-64\" x=\"164.941406\"/>\n     </g>\n    </g>\n    <g id=\"line2d_41\">\n     <path d=\"M 378.1918 83.163607 \nL 389.0208 83.163607 \nL 399.8498 83.163607 \n\" style=\"fill: none; stroke: #ffc0cb; stroke-width: 3; stroke-linejoin: miter; stroke-linecap: square\"/>\n    </g>\n    <g id=\"text_22\">\n     <!-- Sell -->\n     <g style=\"fill: #0f0f0f\" transform=\"translate(408.513 86.953757)scale(0.10829 -0.10829)\">\n      <use xlink:href=\"#Consolas-53\"/>\n      <use xlink:href=\"#Consolas-65\" x=\"54.980469\"/>\n      <use xlink:href=\"#Consolas-6c\" x=\"109.960938\"/>\n      <use xlink:href=\"#Consolas-6c\" x=\"164.941406\"/>\n     </g>\n    </g>\n    <g id=\"line2d_42\">\n     <path d=\"M 378.1918 98.325899 \nL 389.0208 98.325899 \nL 399.8498 98.325899 \n\" style=\"fill: none; stroke: #ff0000; stroke-width: 3; stroke-linejoin: miter; stroke-linecap: square\"/>\n    </g>\n    <g id=\"text_23\">\n     <!-- Strong Sell -->\n     <g style=\"fill: #0f0f0f\" transform=\"translate(408.513 102.116049)scale(0.10829 -0.10829)\">\n      <use xlink:href=\"#Consolas-53\"/>\n      <use xlink:href=\"#Consolas-74\" x=\"54.980469\"/>\n      <use xlink:href=\"#Consolas-72\" x=\"109.960938\"/>\n      <use xlink:href=\"#Consolas-6f\" x=\"164.941406\"/>\n      <use xlink:href=\"#Consolas-6e\" x=\"219.921875\"/>\n      <use xlink:href=\"#Consolas-67\" x=\"274.902344\"/>\n      <use xlink:href=\"#Consolas-20\" x=\"329.882812\"/>\n      <use xlink:href=\"#Consolas-53\" x=\"384.863281\"/>\n      <use xlink:href=\"#Consolas-65\" x=\"439.84375\"/>\n      <use xlink:href=\"#Consolas-6c\" x=\"494.824219\"/>\n      <use xlink:href=\"#Consolas-6c\" x=\"549.804688\"/>\n     </g>\n    </g>\n   </g>\n  </g>\n </g>\n <defs>\n  <clipPath id=\"pcf7aef7b53\">\n   <rect x=\"37.355938\" y=\"24.054187\" width=\"446.4\" height=\"271.8\"/>\n  </clipPath>\n </defs>\n</svg>\n",
      "text/plain": [
       "<Figure size 800x500 with 1 Axes>"
      ]
     },
     "metadata": {},
     "output_type": "display_data"
    }
   ],
   "source": [
    "fig_rot, ax_rot = plt.subplots(figsize=plot_autoscale(), dpi=cfp.PLOT_DPI)\n",
    "\n",
    "gst.stocks.dd.rot(ticker=ticker, external_axes=[ax_rot], num=10, raw=False, export =\"\")\n",
    "plt.show(fig_rot)"
   ]
  }
 ],
 "metadata": {
  "celltoolbar": "Tags",
  "interpreter": {
   "hash": "31090e8428bc3cbe850895ffb75aca3a30f914a21038b56ab61f04d2ddd7301b"
  },
  "kernelspec": {
   "display_name": "Python 3 (ipykernel)",
   "language": "python",
   "name": "python3"
  },
  "language_info": {
   "codemirror_mode": {
    "name": "ipython",
    "version": 3
   },
   "file_extension": ".py",
   "mimetype": "text/x-python",
   "name": "python",
   "nbconvert_exporter": "python",
   "pygments_lexer": "ipython3",
   "version": "3.9.10"
  }
 },
 "nbformat": 4,
 "nbformat_minor": 5
}
