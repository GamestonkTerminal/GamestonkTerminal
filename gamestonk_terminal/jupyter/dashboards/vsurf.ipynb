{
 "cells": [
  {
   "cell_type": "code",
   "execution_count": 11,
   "id": "68b664c7-c52d-42c1-b170-575370323d22",
   "metadata": {},
   "outputs": [],
   "source": [
    "import matplotlib_inline.backend_inline\n",
    "from gamestonk_terminal import api as gst\n",
    "import ipywidgets as widgets\n",
    "import matplotlib\n",
    "\n",
    "%matplotlib inline\n",
    "matplotlib.rcParams['figure.figsize'] = [7, 7]"
   ]
  },
  {
   "cell_type": "code",
   "execution_count": 12,
   "id": "c1bc5c6a-ccb2-4ef5-9c79-1f619fbf95a6",
   "metadata": {},
   "outputs": [
    {
     "data": {
      "application/vnd.jupyter.widget-view+json": {
       "model_id": "95be23c721fe4365b66b723c731db99c",
       "version_major": 2,
       "version_minor": 0
      },
      "text/plain": [
       "VBox(children=(HTML(value='<h1>3D Options Dashboard</h1>'), HBox(children=(Text(value='', description='Ticker'…"
      ]
     },
     "metadata": {},
     "output_type": "display_data"
    }
   ],
   "source": [
    "output = widgets.Output()\n",
    "ticker_w = widgets.Text(description=\"Ticker\")\n",
    "opts = [\"IV\",\"OI\",\"LP\"]\n",
    "z_w = widgets.Dropdown(options=opts, value=\"IV\",description=\"Z-index\")\n",
    "button = widgets.Button(description=\"Submit\")\n",
    "\n",
    "\n",
    "def create_plot(btn):\n",
    "    output.clear_output()\n",
    "    with output:\n",
    "        gst.stocks.options.vsurf(ticker_w.value, False, z_w.value)\n",
    "\n",
    "\n",
    "button.on_click(create_plot)\n",
    "title_html = \"<h1>3D Options Dashboard</h1>\"\n",
    "contents = widgets.HBox([ticker_w, z_w, button])\n",
    "app_contents = [widgets.HTML(title_html), contents, output]\n",
    "app = widgets.VBox(app_contents)\n",
    "display(app)"
   ]
  },
  {
   "cell_type": "code",
   "execution_count": null,
   "id": "f5569ad1-2e13-4583-84db-18da0cf548c1",
   "metadata": {},
   "outputs": [],
   "source": []
  }
 ],
 "metadata": {
  "kernelspec": {
   "display_name": "Python 3 (ipykernel)",
   "language": "python",
   "name": "python3"
  },
  "language_info": {
   "codemirror_mode": {
    "name": "ipython",
    "version": 3
   },
   "file_extension": ".py",
   "mimetype": "text/x-python",
   "name": "python",
   "nbconvert_exporter": "python",
   "pygments_lexer": "ipython3",
   "version": "3.8.12"
  }
 },
 "nbformat": 4,
 "nbformat_minor": 5
}
