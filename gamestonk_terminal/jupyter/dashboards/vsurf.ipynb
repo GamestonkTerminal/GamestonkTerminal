{
 "cells": [
  {
   "cell_type": "code",
   "execution_count": null,
   "id": "68b664c7-c52d-42c1-b170-575370323d22",
   "metadata": {},
   "outputs": [],
   "source": [
    "import os\n",
    "from datetime import datetime, timedelta\n",
    "import ipywidgets as widgets\n",
    "import plotly.graph_objs as go\n",
    "import yfinance as yf\n",
    "import pandas as pd\n",
    "import numpy as np\n",
    "from IPython.display import display\n",
    "from gamestonk_terminal import api as gst\n"
   ]
  },
  {
   "cell_type": "code",
   "execution_count": null,
   "id": "c1bc5c6a-ccb2-4ef5-9c79-1f619fbf95a6",
   "metadata": {},
   "outputs": [],
   "source": [
    "def view_chart(data, ticker):\n",
    "    if ticker:\n",
    "        df = gst.stocks.options.models.yfinance.get_iv_surface(ticker)\n",
    "        grouped = df.groupby('dte')\n",
    "        print(grouped)\n",
    "\n",
    "        if not df.empty:\n",
    "            z = []\n",
    "            df.sort_values(by=['dte'])\n",
    "            for name, group in grouped:\n",
    "                temp = []\n",
    "                for index, row in group.iterrows():\n",
    "                    temp.append(row[\"impliedVolatility\"])\n",
    "                z.append(temp)\n",
    "            print(df)\n",
    "            \n",
    "            # I do not believe this data is accurate, but it shows how we can look to plot\n",
    "            fig = go.Figure(data=[go.Surface(z=z, x=df.dte.drop_duplicates(), y=df.strike.drop_duplicates())])\n",
    "            \n",
    "            fig.update_layout(title=f'{data.upper()} Surface for {ticker.upper()}', autosize=False,\n",
    "                  width=500, height=500,\n",
    "                  margin=dict(l=65, r=50, b=65, t=90))\n",
    "\n",
    "            if os.environ.get(\"SERVER_SOFTWARE\", \"jupyter\").startswith(\"voila\"):\n",
    "                fig.show(config={\"showTips\": False}, renderer=\"notebook\")\n",
    "            else:\n",
    "                fig.show(config={\"showTips\": False})\n",
    "\n",
    "\n",
    "w_auto = widgets.Layout(width=\"auto\")\n",
    "opts = [\"IV\", \"OI\", \"LP\"]\n",
    "data_widget = widgets.Dropdown(\n",
    "    options=opts, value=\"IV\", description=\"Data\"\n",
    ")\n",
    "\n",
    "tickers_widget = widgets.Text(description=\"Ticker\", value=\"TSLA\")\n",
    "\n",
    "controls = widgets.VBox([tickers_widget, data_widget])\n",
    "\n",
    "stocks_view = widgets.interactive_output(\n",
    "    view_chart,\n",
    "    {\n",
    "        \"data\": data_widget,\n",
    "        \"ticker\": tickers_widget,\n",
    "    },\n",
    ")\n",
    "\n",
    "title_html = \"<h1>Option Surface Dashboard</h1>\"\n",
    "app_contents = [\n",
    "    widgets.HTML(title_html),\n",
    "    controls,\n",
    "    stocks_view,\n",
    "]\n",
    "app = widgets.VBox(app_contents)\n",
    "display(app)"
   ]
  },
  {
   "cell_type": "code",
   "execution_count": null,
   "id": "71a490b2-df69-470a-a2b4-bc17eac79019",
   "metadata": {},
   "outputs": [],
   "source": []
  }
 ],
 "metadata": {
  "kernelspec": {
   "display_name": "",
   "language": "python",
   "name": ""
  },
  "language_info": {
   "codemirror_mode": {
    "name": "ipython",
    "version": 3
   },
   "file_extension": ".py",
   "mimetype": "text/x-python",
   "name": "python",
   "nbconvert_exporter": "python",
   "pygments_lexer": "ipython3",
   "version": "3.8.12"
  }
 },
 "nbformat": 4,
 "nbformat_minor": 5
}
