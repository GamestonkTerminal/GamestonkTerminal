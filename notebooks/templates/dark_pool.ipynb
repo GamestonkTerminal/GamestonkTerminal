{
 "cells": [
  {
   "cell_type": "code",
   "execution_count": null,
   "id": "marine-ethnic",
   "metadata": {
    "collapsed": true
   },
   "outputs": [],
   "source": [
    "import importlib\n",
    "import pathlib\n",
    "import os\n",
    "import sys\n",
    "from datetime import datetime, timedelta\n",
    "import pandas as pd\n",
    "from IPython.display import display, Markdown\n",
    "import warnings\n",
    "warnings.filterwarnings('ignore')\n",
    "module_path = os.path.abspath(os.path.join('../..'))\n",
    "\n",
    "if module_path not in sys.path:\n",
    "    sys.path.append(module_path)"
   ]
  },
  {
   "cell_type": "code",
   "execution_count": null,
   "id": "parental-consistency",
   "metadata": {
    "collapsed": true,
    "tags": [
     "parameters"
    ]
   },
   "outputs": [],
   "source": [
    "ticker=\"AMC\"\n",
    "report_name=f\"{ticker.upper()}_{datetime.now().strftime('%Y%m%d_%H%M%S')}_dark_pool\"\n",
    "base_path=os.path.abspath(os.path.join('.'))"
   ]
  },
  {
   "cell_type": "code",
   "execution_count": null,
   "id": "vertical-universe",
   "metadata": {
    "collapsed": true
   },
   "outputs": [],
   "source": [
    "display(Markdown(f\"# {datetime.now().strftime('%Y/%m/%d %H:%M:%S')} - {ticker.upper()} - Dark Pool\"))"
   ]
  },
  {
   "cell_type": "code",
   "execution_count": null,
   "id": "parental-associate",
   "metadata": {
    "collapsed": true
   },
   "outputs": [],
   "source": [
    "from gamestonk_terminal.technical_analysis import trendline_api as trend\n",
    "from gamestonk_terminal.due_diligence import finviz_view as finviz"
   ]
  },
  {
   "cell_type": "markdown",
   "id": "smart-direction",
   "metadata": {},
   "source": [
    "## Top 10 Negative Dark Pool Positions"
   ]
  },
  {
   "cell_type": "code",
   "execution_count": null,
   "id": "permanent-tooth",
   "metadata": {
    "collapsed": true
   },
   "outputs": [],
   "source": [
    "from gamestonk_terminal.discovery import stockgrid_view\n",
    "stockgrid_view.darkshort([\"-a\"])"
   ]
  },
  {
   "cell_type": "markdown",
   "id": "bored-stadium",
   "metadata": {},
   "source": [
    "## Previous Ten Days of trading data for the Dark Pool"
   ]
  },
  {
   "cell_type": "code",
   "execution_count": null,
   "id": "existing-johnson",
   "metadata": {
    "collapsed": true
   },
   "outputs": [],
   "source": [
    "from gamestonk_terminal.due_diligence import stockgrid_dd_view\n",
    "stockgrid_dd_view.darkpos(ticker.upper(), [\"-n\", \"10\", \"-r\"])"
   ]
  },
  {
   "cell_type": "code",
   "execution_count": null,
   "id": "exciting-relative",
   "metadata": {
    "collapsed": true
   },
   "outputs": [],
   "source": [
    "stockgrid_dd_view.shortview(ticker.upper(), [\"-n\", \"10\", \"-r\"])"
   ]
  },
  {
   "cell_type": "markdown",
   "id": "southwest-transformation",
   "metadata": {},
   "source": [
    "## Options info"
   ]
  },
  {
   "cell_type": "code",
   "execution_count": null,
   "id": "threatened-cycle",
   "metadata": {
    "collapsed": true
   },
   "outputs": [],
   "source": [
    "from gamestonk_terminal.options import barchart_view\n",
    "barchart_view.print_options_data(\"AMC\", [])"
   ]
  },
  {
   "cell_type": "markdown",
   "id": "warming-tonight",
   "metadata": {},
   "source": [
    "## Put and Call Open Interest Expiring"
   ]
  },
  {
   "cell_type": "code",
   "execution_count": null,
   "id": "ancient-profession",
   "metadata": {
    "collapsed": true
   },
   "outputs": [],
   "source": [
    "from gamestonk_terminal.options import yfinance_model, yfinance_view, yfinance_model\n",
    "selected_date = yfinance_model.option_expirations(ticker)[0]\n",
    "\n",
    "from gamestonk_terminal.options import op_helpers\n",
    "parsed = op_helpers.oi([\"-m\", \"1\", \"-M\", \"145\", \"--source\", \"yf\"])\n",
    "\n",
    "#from gamestonk_terminal.options import op_helpers\n",
    "options = yfinance_model.get_option_chain(ticker, selected_date)\n",
    "yfinance_view.plot_oi(options.calls, options.puts, ticker, selected_date, parsed)"
   ]
  },
  {
   "cell_type": "markdown",
   "id": "through-southwest",
   "metadata": {},
   "source": [
    "## Failure-to-deliver (30 days lag)"
   ]
  },
  {
   "cell_type": "code",
   "execution_count": null,
   "id": "conservative-thumbnail",
   "metadata": {
    "collapsed": true
   },
   "outputs": [],
   "source": [
    "ticker = \"AMC\"\n",
    "import pandas as pd\n",
    "from gamestonk_terminal import main_helper\n",
    "_, _, _, stock = main_helper.load([\"-t\", ticker], \"\", \"\", 1440, pd.DataFrame())\n",
    "\n",
    "from gamestonk_terminal.due_diligence import sec_view\n",
    "sec_view.fails_to_deliver([], ticker, stock)"
   ]
  },
  {
   "cell_type": "code",
   "execution_count": null,
   "id": "abroad-absorption",
   "metadata": {
    "collapsed": true
   },
   "outputs": [],
   "source": [
    "folder = \"notebooks/reports/\"\n",
    "extension = \".ipynb\"\n",
    "!jupyter nbconvert {folder + report_name + extension} --to html --no-input"
   ]
  }
 ],
 "metadata": {
  "kernelspec": {
   "display_name": "Python 3",
   "language": "python",
   "name": "python3"
  },
  "language_info": {
   "codemirror_mode": {
    "name": "ipython",
    "version": 3
   },
   "file_extension": ".py",
   "mimetype": "text/x-python",
   "name": "python",
   "nbconvert_exporter": "python",
   "pygments_lexer": "ipython3",
   "version": "3.6.8"
  }
 },
 "nbformat": 4,
 "nbformat_minor": 5
}
