{
 "cells": [
  {
   "cell_type": "markdown",
   "metadata": {},
   "source": [
    "## Fundamental Analysis with OpenBB\n",
    "\n",
    "#### Description\n",
    "This notebook demonstrates how to perform fundamental analysis on a company using historical data from OpenBB. Fundamental Analysis is the art of examining a company's financial statements along with wider economic indicators to arrive at a security's intrinsic value.\n",
    "\n",
    "In this notebook, we will:\n",
    "- Fetch a company's income statement, cash flow statement and balance sheet.\n",
    "- Look at the company's growth in Revenue, Profit, Expenses, Debt.\n",
    "- Look at key metrics and ratios of the company (price-to-earnings ratio, return on equity, debt-to-equity ratio etc).\n",
    "- View insider transactions at the company\n",
    "\n",
    "#### Author\n",
    "[Courtney Hackshaw](https://github.com/ckhackshaw)\n",
    "\n",
    "[![Open in Colab](https://colab.research.google.com/assets/colab-badge.svg)](https://colab.research.google.com/github/OpenBB-Finance/OpenBB/blob/develop/examples/Fundamental_Analysis.ipynb)"
   ]
  },
  {
   "cell_type": "markdown",
   "metadata": {},
   "source": [
    "If you are running this notebook in Colab, you can run the following command to install the OpenBB Platform:\n",
    "\n",
    "```python\n",
    "!pip install openbb\n",
    "```\n"
   ]
  },
  {
   "cell_type": "code",
   "execution_count": 136,
   "metadata": {},
   "outputs": [],
   "source": [
    "from openbb import obb\n",
    "import pandas as pd\n",
    "import matplotlib.pyplot as plt\n",
    "import matplotlib.ticker as mticker"
   ]
  },
  {
   "cell_type": "markdown",
   "metadata": {},
   "source": [
    "We will look at Celcius Holdings, a company that sells energyy drinks and was floated in 2019. "
   ]
  },
  {
   "cell_type": "code",
   "execution_count": 137,
   "metadata": {},
   "outputs": [
    {
     "name": "stdout",
     "output_type": "stream",
     "text": [
      "0    31.4\n",
      "Name: last_price, dtype: float64\n"
     ]
    }
   ],
   "source": [
    "symbol = \"CELH\"\n",
    "start_date = \"2020-01-01\"\n",
    "\n",
    "try:\n",
    "    celh = obb.equity.price.quote(symbol=symbol, provider=\"yfinance\").to_df()\n",
    "    print(celh.get('last_price'))\n",
    "except Exception as e:\n",
    "    print(f\"Failed to fetch data for {symbol}: {str(e)}\")"
   ]
  },
  {
   "cell_type": "code",
   "execution_count": 138,
   "metadata": {},
   "outputs": [],
   "source": [
    "# let's look at the company's profits over the last 5 years\n",
    "try:\n",
    "    celh_income_statement = obb.equity.fundamental.income(symbol=symbol, provider=\"yfinance\").to_df()\n",
    "    celh_columns = ['period_ending', 'total_revenue','operating_revenue', 'cost_of_revenue', 'gross_profit', 'selling_general_and_admin_expense', 'operating_income', 'ebitda', 'net_income', 'basic_earnings_per_share']\n",
    "    celh_income_data = celh_income_statement[celh_columns].copy()\n",
    "    celh_income_data.loc[:, \"year_ending\"] = pd.to_datetime(celh_income_data[\"period_ending\"]).dt.year\n",
    "    celh_income_data[\"gross_margin\"] = celh_income_data[\"gross_profit\"] / celh_income_data[\"total_revenue\"] * 100\n",
    "except Exception as e:\n",
    "    print(f\"Failed to fetch Income Statement: {str(e)}\")"
   ]
  },
  {
   "cell_type": "code",
   "execution_count": 139,
   "metadata": {},
   "outputs": [],
   "source": [
    "def show_bar_graph(title, x_column, y_column, x_label, y_label, format_y = False):\n",
    "    try:\n",
    "        plt.figure(figsize=(10, 6))\n",
    "        plt.bar(x_column, y_column, color=\"teal\")\n",
    "        plt.xlabel(x_label)\n",
    "        plt.ylabel(y_label)\n",
    "        plt.title(title)\n",
    "        plt.xticks(ticks=x_column.unique(), rotation=45)\n",
    "        plt.ticklabel_format(axis=\"y\", style=\"plain\")\n",
    "        if format_y:\n",
    "            plt.gca().yaxis.set_major_formatter(mticker.FuncFormatter(lambda x, _: f'${x/1e9:.1f}B' if x >= 1e9 else f'${x/1e6:.1f}M'))\n",
    "        plt.tight_layout()\n",
    "        plt.show()\n",
    "    except Exception as e:\n",
    "        print(f\"Failed to Draw Bar Graph: {str(e)}\")"
   ]
  },
  {
   "cell_type": "code",
   "execution_count": null,
   "metadata": {},
   "outputs": [],
   "source": [
    "show_bar_graph(\"YOY Revenue Growth\", celh_income_data[\"year_ending\"], celh_income_data[\"total_revenue\"], \"Year\", \"Revenue\", True)"
   ]
  },
  {
   "cell_type": "code",
   "execution_count": null,
   "metadata": {},
   "outputs": [],
   "source": [
    "show_bar_graph(\"Gross Profit\", celh_income_data[\"year_ending\"], celh_income_data[\"gross_profit\"], \"Year\", \"Gross Profit\", True)"
   ]
  },
  {
   "cell_type": "code",
   "execution_count": null,
   "metadata": {},
   "outputs": [],
   "source": [
    "show_bar_graph(\"Gross Margin\", celh_income_data[\"year_ending\"], celh_income_data[\"gross_margin\"], \"Year\", \"Gross Margin %\")"
   ]
  },
  {
   "cell_type": "code",
   "execution_count": null,
   "metadata": {},
   "outputs": [],
   "source": [
    "show_bar_graph(\"Ebitda\", celh_income_data[\"year_ending\"], celh_income_data[\"ebitda\"], \"Year\", \"Ebitda\", True)"
   ]
  },
  {
   "cell_type": "code",
   "execution_count": null,
   "metadata": {},
   "outputs": [],
   "source": [
    "show_bar_graph(\"Net Income\", celh_income_data[\"year_ending\"], celh_income_data[\"net_income\"], \"Year\", \"Net Income\", True)"
   ]
  }
 ],
 "metadata": {
  "kernelspec": {
   "display_name": "Python (OpenBB Platform)",
   "language": "python",
   "name": "openbb_platform_env"
  },
  "language_info": {
   "codemirror_mode": {
    "name": "ipython",
    "version": 3
   },
   "file_extension": ".py",
   "mimetype": "text/x-python",
   "name": "python",
   "nbconvert_exporter": "python",
   "pygments_lexer": "ipython3",
   "version": "3.9.12"
  }
 },
 "nbformat": 4,
 "nbformat_minor": 2
}
