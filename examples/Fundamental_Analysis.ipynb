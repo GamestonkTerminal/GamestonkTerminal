{
 "cells": [
  {
   "cell_type": "markdown",
   "metadata": {},
   "source": [
    "## Fundamental Analysis with OpenBB\n",
    "\n",
    "#### Description\n",
    "This notebook demonstrates how to perform fundamental analysis on a company using historical data from OpenBB. Fundamental Analysis is the art of examining a company's financial statements along with wider economic indicators to arrive at a security's intrinsic value.\n",
    "\n",
    "In this notebook, we will:\n",
    "- Fetch a company's income statement, cash flow statement and balance sheet.\n",
    "- Look at the company's growth in Revenue, Profit, Expenses, Debt.\n",
    "- Look at key metrics and ratios of the company (price-to-earnings ratio, return on equity, debt-to-equity ratio etc).\n",
    "- View insider transactions at the company\n",
    "\n",
    "#### Author\n",
    "[Courtney Hackshaw](https://github.com/ckhackshaw)\n",
    "\n",
    "[![Open in Colab](https://colab.research.google.com/assets/colab-badge.svg)](https://colab.research.google.com/github/OpenBB-Finance/OpenBB/blob/develop/examples/Fundamental_Analysis.ipynb)"
   ]
  },
  {
   "cell_type": "markdown",
   "metadata": {},
   "source": [
    "If you are running this notebook in Colab, you can run the following command to install the OpenBB Platform:\n",
    "\n",
    "```python\n",
    "!pip install openbb\n",
    "```\n"
   ]
  },
  {
   "cell_type": "code",
   "execution_count": null,
   "metadata": {},
   "outputs": [],
   "source": [
    "from openbb import obb"
   ]
  }
 ],
 "metadata": {
  "kernelspec": {
   "display_name": "Python (OpenBB Platform)",
   "language": "python",
   "name": "openbb_platform_env"
  },
  "language_info": {
   "name": "python",
   "version": "3.9.12"
  }
 },
 "nbformat": 4,
 "nbformat_minor": 2
}
