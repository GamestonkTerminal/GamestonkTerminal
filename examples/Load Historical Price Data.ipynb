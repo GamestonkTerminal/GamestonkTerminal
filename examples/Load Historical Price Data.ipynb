{
 "cells": [
  {
   "attachments": {},
   "cell_type": "markdown",
   "metadata": {},
   "source": [
    "# Downloading Historical Price Data Using the OpenBB SDK\n",
    "\n",
    "This notebook demonstrates the different ways to approach loading historical price data using the OpenBB SDK.  There are obvious methods, and some less conventional ones. To begin, let's look at the Stocks module, but first, we need to initialize the notebook with the import statements block.\n",
    "\n",
    "## Import Statements"
   ]
  },
  {
   "cell_type": "code",
   "execution_count": 1,
   "metadata": {},
   "outputs": [],
   "source": [
    "import pandas as pd\n",
    "from openbb_terminal.sdk import openbb"
   ]
  },
  {
   "attachments": {},
   "cell_type": "markdown",
   "metadata": {},
   "source": [
    "## The Stocks Module\n",
    "\n",
    "The `load` function is likely the first place to reach when requesting daily, or intraday, historical price data.  `openbb.stocks.load()` is a versatile data aggregator, and not only for stocks.\n",
    "\n",
    "### openbb.stocks.load()\n",
    "\n",
    "The input parameters for the function:\n",
    "\n",
    "```python\n",
    "Parameters\n",
    "----------\n",
    "symbol: str\n",
    "    Ticker to get data\n",
    "start_date: str or datetime, optional\n",
    "    Start date to get data from with. - datetime or string format (YYYY-MM-DD)\n",
    "interval: int\n",
    "    Interval (in minutes) to get data 1, 5, 15, 30, 60 or 1440\n",
    "end_date: str or datetime, optional\n",
    "    End date to get data from with. - datetime or string format (YYYY-MM-DD)\n",
    "prepost: bool\n",
    "    Pre and After hours data\n",
    "source: str\n",
    "    Source of data extracted\n",
    "weekly: bool\n",
    "    Flag to get weekly data\n",
    "monthly: bool\n",
    "    Flag to get monthly data\n",
    "verbose: bool\n",
    "    Display verbose information on what was the symbol that was loaded\n",
    "```\n",
    "\n",
    "\n",
    "Set `verbose = False` to silence the console print.  Execute the two cells below to demonstrate."
   ]
  },
  {
   "cell_type": "code",
   "execution_count": 2,
   "metadata": {},
   "outputs": [
    {
     "data": {
      "text/html": [
       "<pre style=\"white-space:pre;overflow-x:auto;line-height:normal;font-family:Menlo,'DejaVu Sans Mono',consolas,'Courier New',monospace\">Loading Daily data for SPY with starting period 2020-05-18.\n",
       "</pre>\n"
      ],
      "text/plain": [
       "Loading Daily data for SPY with starting period 2020-05-18.\n"
      ]
     },
     "metadata": {},
     "output_type": "display_data"
    }
   ],
   "source": [
    "df_daily = openbb.stocks.load(symbol = 'spy')"
   ]
  },
  {
   "cell_type": "code",
   "execution_count": 3,
   "metadata": {},
   "outputs": [],
   "source": [
    "df_daily = openbb.stocks.load(symbol = 'spy', verbose = False)"
   ]
  },
  {
   "attachments": {},
   "cell_type": "markdown",
   "metadata": {},
   "source": [
    "To load the entire history available from a source, pick a starting date well beyond what it might be. For example, `1900-01-01`"
   ]
  },
  {
   "cell_type": "code",
   "execution_count": 4,
   "metadata": {},
   "outputs": [
    {
     "data": {
      "text/html": [
       "<pre style=\"white-space:pre;overflow-x:auto;line-height:normal;font-family:Menlo,'DejaVu Sans Mono',consolas,'Courier New',monospace\">Loading Daily data for SPY with starting period 1993-01-29.\n",
       "</pre>\n"
      ],
      "text/plain": [
       "Loading Daily data for SPY with starting period 1993-01-29.\n"
      ]
     },
     "metadata": {},
     "output_type": "display_data"
    }
   ],
   "source": [
    "df_daily = openbb.stocks.load(symbol = 'spy', start_date = '1990-01-01')"
   ]
  },
  {
   "attachments": {},
   "cell_type": "markdown",
   "metadata": {},
   "source": [
    "Weekly and monthly intervals are selected with either argument as `True`."
   ]
  },
  {
   "cell_type": "code",
   "execution_count": 5,
   "metadata": {},
   "outputs": [
    {
     "data": {
      "text/html": [
       "<pre style=\"white-space:pre;overflow-x:auto;line-height:normal;font-family:Menlo,'DejaVu Sans Mono',consolas,'Courier New',monospace\">Loading Weekly data for SPY with starting period 1993-01-25.\n",
       "</pre>\n"
      ],
      "text/plain": [
       "Loading Weekly data for SPY with starting period 1993-01-25.\n"
      ]
     },
     "metadata": {},
     "output_type": "display_data"
    }
   ],
   "source": [
    "df_weekly = openbb.stocks.load(symbol = 'spy', start_date = '1990-01-01', weekly = True)"
   ]
  },
  {
   "cell_type": "code",
   "execution_count": 6,
   "metadata": {},
   "outputs": [
    {
     "data": {
      "text/html": [
       "<pre style=\"white-space:pre;overflow-x:auto;line-height:normal;font-family:Menlo,'DejaVu Sans Mono',consolas,'Courier New',monospace\">Loading Monthly data for SPY with starting period 1993-02-01.\n",
       "</pre>\n"
      ],
      "text/plain": [
       "Loading Monthly data for SPY with starting period 1993-02-01.\n"
      ]
     },
     "metadata": {},
     "output_type": "display_data"
    }
   ],
   "source": [
    "df_monthly = openbb.stocks.load(symbol = 'spy', start_date = '1990-01-01', monthly = True)"
   ]
  },
  {
   "attachments": {},
   "cell_type": "markdown",
   "metadata": {},
   "source": [
    "The default settings retrieve daily, intraday data is selected using the `interval = N` argument."
   ]
  },
  {
   "cell_type": "code",
   "execution_count": 7,
   "metadata": {},
   "outputs": [
    {
     "data": {
      "text/html": [
       "<pre style=\"white-space:pre;overflow-x:auto;line-height:normal;font-family:Menlo,'DejaVu Sans Mono',consolas,'Courier New',monospace\">Loading Intraday 1min data for SPY with starting period 2023-05-16.\n",
       "</pre>\n"
      ],
      "text/plain": [
       "Loading Intraday 1min data for SPY with starting period 2023-05-16.\n"
      ]
     },
     "metadata": {},
     "output_type": "display_data"
    }
   ],
   "source": [
    "df_1min = openbb.stocks.load(symbol = 'spy', interval = 1)"
   ]
  },
  {
   "cell_type": "code",
   "execution_count": 8,
   "metadata": {},
   "outputs": [
    {
     "data": {
      "text/html": [
       "<pre style=\"white-space:pre;overflow-x:auto;line-height:normal;font-family:Menlo,'DejaVu Sans Mono',consolas,'Courier New',monospace\">Loading Intraday 5min data for SPY with starting period 2023-03-24.\n",
       "</pre>\n"
      ],
      "text/plain": [
       "Loading Intraday 5min data for SPY with starting period 2023-03-24.\n"
      ]
     },
     "metadata": {},
     "output_type": "display_data"
    }
   ],
   "source": [
    "df_5min = openbb.stocks.load(symbol = 'spy', interval = 5)"
   ]
  },
  {
   "cell_type": "code",
   "execution_count": 9,
   "metadata": {},
   "outputs": [
    {
     "data": {
      "text/html": [
       "<pre style=\"white-space:pre;overflow-x:auto;line-height:normal;font-family:Menlo,'DejaVu Sans Mono',consolas,'Courier New',monospace\">Loading Intraday 15min data for SPY with starting period 2023-03-24.\n",
       "</pre>\n"
      ],
      "text/plain": [
       "Loading Intraday 15min data for SPY with starting period 2023-03-24.\n"
      ]
     },
     "metadata": {},
     "output_type": "display_data"
    }
   ],
   "source": [
    "df_15min = openbb.stocks.load(symbol = 'spy', interval = 15)"
   ]
  },
  {
   "cell_type": "code",
   "execution_count": 10,
   "metadata": {},
   "outputs": [
    {
     "data": {
      "text/html": [
       "<pre style=\"white-space:pre;overflow-x:auto;line-height:normal;font-family:Menlo,'DejaVu Sans Mono',consolas,'Courier New',monospace\">Loading Intraday 30min data for SPY with starting period 2023-03-24.\n",
       "</pre>\n"
      ],
      "text/plain": [
       "Loading Intraday 30min data for SPY with starting period 2023-03-24.\n"
      ]
     },
     "metadata": {},
     "output_type": "display_data"
    }
   ],
   "source": [
    "df_30min = openbb.stocks.load(symbol = 'spy', interval = 30)"
   ]
  },
  {
   "attachments": {},
   "cell_type": "markdown",
   "metadata": {},
   "source": [
    "When the source is `YahooFinance`, the standard default, the amount of intraday history available varies by interval.  One hour candles have the longest history, 2 years.  Other sources, such as Polygon, offer total market coverage for 10+ years of historical prices at all granularities.  For demonstration purposes, it is simple, effective, and accessible to use yFinance as the source."
   ]
  },
  {
   "cell_type": "code",
   "execution_count": 11,
   "metadata": {},
   "outputs": [
    {
     "data": {
      "text/html": [
       "<pre style=\"white-space:pre;overflow-x:auto;line-height:normal;font-family:Menlo,'DejaVu Sans Mono',consolas,'Courier New',monospace\">Loading Intraday 60min data for SPY with starting period 2021-05-24.\n",
       "</pre>\n"
      ],
      "text/plain": [
       "Loading Intraday 60min data for SPY with starting period 2021-05-24.\n"
      ]
     },
     "metadata": {},
     "output_type": "display_data"
    }
   ],
   "source": [
    "df_60min = openbb.stocks.load(symbol = 'spy', interval = 60)"
   ]
  },
  {
   "attachments": {},
   "cell_type": "markdown",
   "metadata": {},
   "source": [
    "Include pre/post market data by setting the argument, `prepost = True`.  **Note**: an interval must also be selected."
   ]
  },
  {
   "cell_type": "code",
   "execution_count": 12,
   "metadata": {},
   "outputs": [
    {
     "data": {
      "text/html": [
       "<pre style=\"white-space:pre;overflow-x:auto;line-height:normal;font-family:Menlo,'DejaVu Sans Mono',consolas,'Courier New',monospace\">Loading Intraday 1min data for SPY with starting period 2023-05-16.\n",
       "</pre>\n"
      ],
      "text/plain": [
       "Loading Intraday 1min data for SPY with starting period 2023-05-16.\n"
      ]
     },
     "metadata": {},
     "output_type": "display_data"
    },
    {
     "data": {
      "text/html": [
       "<div>\n",
       "<style scoped>\n",
       "    .dataframe tbody tr th:only-of-type {\n",
       "        vertical-align: middle;\n",
       "    }\n",
       "\n",
       "    .dataframe tbody tr th {\n",
       "        vertical-align: top;\n",
       "    }\n",
       "\n",
       "    .dataframe thead th {\n",
       "        text-align: right;\n",
       "    }\n",
       "</style>\n",
       "<table border=\"1\" class=\"dataframe\">\n",
       "  <thead>\n",
       "    <tr style=\"text-align: right;\">\n",
       "      <th></th>\n",
       "      <th>Open</th>\n",
       "      <th>High</th>\n",
       "      <th>Low</th>\n",
       "      <th>Close</th>\n",
       "      <th>Adj Close</th>\n",
       "      <th>Volume</th>\n",
       "    </tr>\n",
       "    <tr>\n",
       "      <th>date</th>\n",
       "      <th></th>\n",
       "      <th></th>\n",
       "      <th></th>\n",
       "      <th></th>\n",
       "      <th></th>\n",
       "      <th></th>\n",
       "    </tr>\n",
       "  </thead>\n",
       "  <tbody>\n",
       "    <tr>\n",
       "      <th>2023-05-22 10:55:00</th>\n",
       "      <td>418.380005</td>\n",
       "      <td>418.459991</td>\n",
       "      <td>418.320007</td>\n",
       "      <td>418.390015</td>\n",
       "      <td>418.390015</td>\n",
       "      <td>144608</td>\n",
       "    </tr>\n",
       "    <tr>\n",
       "      <th>2023-05-22 10:56:00</th>\n",
       "      <td>418.399994</td>\n",
       "      <td>418.440002</td>\n",
       "      <td>418.230011</td>\n",
       "      <td>418.260010</td>\n",
       "      <td>418.260010</td>\n",
       "      <td>103038</td>\n",
       "    </tr>\n",
       "    <tr>\n",
       "      <th>2023-05-22 10:57:00</th>\n",
       "      <td>418.269989</td>\n",
       "      <td>418.269989</td>\n",
       "      <td>418.269989</td>\n",
       "      <td>418.269989</td>\n",
       "      <td>418.269989</td>\n",
       "      <td>0</td>\n",
       "    </tr>\n",
       "  </tbody>\n",
       "</table>\n",
       "</div>"
      ],
      "text/plain": [
       "                           Open        High         Low       Close  \\\n",
       "date                                                                  \n",
       "2023-05-22 10:55:00  418.380005  418.459991  418.320007  418.390015   \n",
       "2023-05-22 10:56:00  418.399994  418.440002  418.230011  418.260010   \n",
       "2023-05-22 10:57:00  418.269989  418.269989  418.269989  418.269989   \n",
       "\n",
       "                      Adj Close  Volume  \n",
       "date                                     \n",
       "2023-05-22 10:55:00  418.390015  144608  \n",
       "2023-05-22 10:56:00  418.260010  103038  \n",
       "2023-05-22 10:57:00  418.269989       0  "
      ]
     },
     "execution_count": 12,
     "metadata": {},
     "output_type": "execute_result"
    }
   ],
   "source": [
    "df_prepost = openbb.stocks.load(symbol = 'spy', start_date = '2023-03-22', prepost = True, interval = 1)\n",
    "\n",
    "df_prepost.tail(3)"
   ]
  },
  {
   "attachments": {},
   "cell_type": "markdown",
   "metadata": {},
   "source": [
    "It is also possible to load individual options contracts using the same syntax.  There will be gaps in the historical data when the contract has zero volume.  "
   ]
  },
  {
   "cell_type": "code",
   "execution_count": 13,
   "metadata": {},
   "outputs": [
    {
     "data": {
      "text/html": [
       "<pre style=\"white-space:pre;overflow-x:auto;line-height:normal;font-family:Menlo,'DejaVu Sans Mono',consolas,'Courier New',monospace\">Loading Daily data for SPY251219P00400000 with starting period 2023-01-09.\n",
       "</pre>\n"
      ],
      "text/plain": [
       "Loading Daily data for SPY251219P00400000 with starting period 2023-01-09.\n"
      ]
     },
     "metadata": {},
     "output_type": "display_data"
    }
   ],
   "source": [
    "spy251219P00400000 = openbb.stocks.load(symbol = 'spy251219P00400000')"
   ]
  },
  {
   "cell_type": "code",
   "execution_count": 14,
   "metadata": {},
   "outputs": [
    {
     "data": {
      "text/html": [
       "<div>\n",
       "<style scoped>\n",
       "    .dataframe tbody tr th:only-of-type {\n",
       "        vertical-align: middle;\n",
       "    }\n",
       "\n",
       "    .dataframe tbody tr th {\n",
       "        vertical-align: top;\n",
       "    }\n",
       "\n",
       "    .dataframe thead th {\n",
       "        text-align: right;\n",
       "    }\n",
       "</style>\n",
       "<table border=\"1\" class=\"dataframe\">\n",
       "  <thead>\n",
       "    <tr style=\"text-align: right;\">\n",
       "      <th></th>\n",
       "      <th>Open</th>\n",
       "      <th>High</th>\n",
       "      <th>Low</th>\n",
       "      <th>Close</th>\n",
       "      <th>Adj Close</th>\n",
       "      <th>Volume</th>\n",
       "      <th>Dividends</th>\n",
       "      <th>Stock Splits</th>\n",
       "    </tr>\n",
       "    <tr>\n",
       "      <th>date</th>\n",
       "      <th></th>\n",
       "      <th></th>\n",
       "      <th></th>\n",
       "      <th></th>\n",
       "      <th></th>\n",
       "      <th></th>\n",
       "      <th></th>\n",
       "      <th></th>\n",
       "    </tr>\n",
       "  </thead>\n",
       "  <tbody>\n",
       "    <tr>\n",
       "      <th>2023-01-09</th>\n",
       "      <td>49.779999</td>\n",
       "      <td>49.779999</td>\n",
       "      <td>47.250000</td>\n",
       "      <td>47.250000</td>\n",
       "      <td>47.250000</td>\n",
       "      <td>26</td>\n",
       "      <td>0.0</td>\n",
       "      <td>0.0</td>\n",
       "    </tr>\n",
       "    <tr>\n",
       "      <th>2023-01-10</th>\n",
       "      <td>47.000000</td>\n",
       "      <td>47.000000</td>\n",
       "      <td>47.000000</td>\n",
       "      <td>47.000000</td>\n",
       "      <td>47.000000</td>\n",
       "      <td>1</td>\n",
       "      <td>0.0</td>\n",
       "      <td>0.0</td>\n",
       "    </tr>\n",
       "    <tr>\n",
       "      <th>2023-01-11</th>\n",
       "      <td>47.090000</td>\n",
       "      <td>47.090000</td>\n",
       "      <td>47.090000</td>\n",
       "      <td>47.090000</td>\n",
       "      <td>47.090000</td>\n",
       "      <td>4</td>\n",
       "      <td>0.0</td>\n",
       "      <td>0.0</td>\n",
       "    </tr>\n",
       "    <tr>\n",
       "      <th>2023-01-12</th>\n",
       "      <td>46.080002</td>\n",
       "      <td>46.080002</td>\n",
       "      <td>46.080002</td>\n",
       "      <td>46.080002</td>\n",
       "      <td>46.080002</td>\n",
       "      <td>1</td>\n",
       "      <td>0.0</td>\n",
       "      <td>0.0</td>\n",
       "    </tr>\n",
       "    <tr>\n",
       "      <th>2023-01-13</th>\n",
       "      <td>47.000000</td>\n",
       "      <td>47.000000</td>\n",
       "      <td>43.400002</td>\n",
       "      <td>43.950001</td>\n",
       "      <td>43.950001</td>\n",
       "      <td>151</td>\n",
       "      <td>0.0</td>\n",
       "      <td>0.0</td>\n",
       "    </tr>\n",
       "    <tr>\n",
       "      <th>...</th>\n",
       "      <td>...</td>\n",
       "      <td>...</td>\n",
       "      <td>...</td>\n",
       "      <td>...</td>\n",
       "      <td>...</td>\n",
       "      <td>...</td>\n",
       "      <td>...</td>\n",
       "      <td>...</td>\n",
       "    </tr>\n",
       "    <tr>\n",
       "      <th>2023-05-08</th>\n",
       "      <td>36.959999</td>\n",
       "      <td>37.000000</td>\n",
       "      <td>36.599998</td>\n",
       "      <td>36.599998</td>\n",
       "      <td>36.599998</td>\n",
       "      <td>141</td>\n",
       "      <td>0.0</td>\n",
       "      <td>0.0</td>\n",
       "    </tr>\n",
       "    <tr>\n",
       "      <th>2023-05-15</th>\n",
       "      <td>37.630001</td>\n",
       "      <td>37.630001</td>\n",
       "      <td>36.750000</td>\n",
       "      <td>36.750000</td>\n",
       "      <td>36.750000</td>\n",
       "      <td>4</td>\n",
       "      <td>0.0</td>\n",
       "      <td>0.0</td>\n",
       "    </tr>\n",
       "    <tr>\n",
       "      <th>2023-05-16</th>\n",
       "      <td>36.000000</td>\n",
       "      <td>36.000000</td>\n",
       "      <td>36.000000</td>\n",
       "      <td>36.000000</td>\n",
       "      <td>36.000000</td>\n",
       "      <td>5</td>\n",
       "      <td>0.0</td>\n",
       "      <td>0.0</td>\n",
       "    </tr>\n",
       "    <tr>\n",
       "      <th>2023-05-17</th>\n",
       "      <td>36.590000</td>\n",
       "      <td>36.590000</td>\n",
       "      <td>36.590000</td>\n",
       "      <td>36.590000</td>\n",
       "      <td>36.590000</td>\n",
       "      <td>1</td>\n",
       "      <td>0.0</td>\n",
       "      <td>0.0</td>\n",
       "    </tr>\n",
       "    <tr>\n",
       "      <th>2023-05-18</th>\n",
       "      <td>34.650002</td>\n",
       "      <td>34.650002</td>\n",
       "      <td>34.650002</td>\n",
       "      <td>34.650002</td>\n",
       "      <td>34.650002</td>\n",
       "      <td>0</td>\n",
       "      <td>0.0</td>\n",
       "      <td>0.0</td>\n",
       "    </tr>\n",
       "  </tbody>\n",
       "</table>\n",
       "<p>69 rows × 8 columns</p>\n",
       "</div>"
      ],
      "text/plain": [
       "                 Open       High        Low      Close  Adj Close  Volume  \\\n",
       "date                                                                        \n",
       "2023-01-09  49.779999  49.779999  47.250000  47.250000  47.250000      26   \n",
       "2023-01-10  47.000000  47.000000  47.000000  47.000000  47.000000       1   \n",
       "2023-01-11  47.090000  47.090000  47.090000  47.090000  47.090000       4   \n",
       "2023-01-12  46.080002  46.080002  46.080002  46.080002  46.080002       1   \n",
       "2023-01-13  47.000000  47.000000  43.400002  43.950001  43.950001     151   \n",
       "...               ...        ...        ...        ...        ...     ...   \n",
       "2023-05-08  36.959999  37.000000  36.599998  36.599998  36.599998     141   \n",
       "2023-05-15  37.630001  37.630001  36.750000  36.750000  36.750000       4   \n",
       "2023-05-16  36.000000  36.000000  36.000000  36.000000  36.000000       5   \n",
       "2023-05-17  36.590000  36.590000  36.590000  36.590000  36.590000       1   \n",
       "2023-05-18  34.650002  34.650002  34.650002  34.650002  34.650002       0   \n",
       "\n",
       "            Dividends  Stock Splits  \n",
       "date                                 \n",
       "2023-01-09        0.0           0.0  \n",
       "2023-01-10        0.0           0.0  \n",
       "2023-01-11        0.0           0.0  \n",
       "2023-01-12        0.0           0.0  \n",
       "2023-01-13        0.0           0.0  \n",
       "...               ...           ...  \n",
       "2023-05-08        0.0           0.0  \n",
       "2023-05-15        0.0           0.0  \n",
       "2023-05-16        0.0           0.0  \n",
       "2023-05-17        0.0           0.0  \n",
       "2023-05-18        0.0           0.0  \n",
       "\n",
       "[69 rows x 8 columns]"
      ]
     },
     "execution_count": 14,
     "metadata": {},
     "output_type": "execute_result"
    }
   ],
   "source": [
    "spy251219P00400000"
   ]
  },
  {
   "attachments": {},
   "cell_type": "markdown",
   "metadata": {},
   "source": [
    "Currency pairs can also be loaded.  When the source is `YahooFinance`, the symbol will be the two currencies with `=X`.\n",
    "\n",
    "- For Polygon, the symbol is: `C:EURUSD`\n",
    "- For AlphaVantage, the symbol is: `EURUSD`\n"
   ]
  },
  {
   "cell_type": "code",
   "execution_count": 15,
   "metadata": {},
   "outputs": [
    {
     "data": {
      "text/html": [
       "<pre style=\"white-space:pre;overflow-x:auto;line-height:normal;font-family:Menlo,'DejaVu Sans Mono',consolas,'Courier New',monospace\">Loading Daily data for EURUSD=X with starting period 2003-12-01.\n",
       "</pre>\n"
      ],
      "text/plain": [
       "Loading Daily data for EURUSD=X with starting period 2003-12-01.\n"
      ]
     },
     "metadata": {},
     "output_type": "display_data"
    }
   ],
   "source": [
    "eurusd_daily = openbb.stocks.load(symbol = 'EURUSD=X', start_date = '1900-01-01')"
   ]
  },
  {
   "cell_type": "code",
   "execution_count": 16,
   "metadata": {},
   "outputs": [
    {
     "data": {
      "text/html": [
       "<pre style=\"white-space:pre;overflow-x:auto;line-height:normal;font-family:Menlo,'DejaVu Sans Mono',consolas,'Courier New',monospace\">Loading Intraday 60min data for EURUSD=X with starting period 2021-05-24.\n",
       "</pre>\n"
      ],
      "text/plain": [
       "Loading Intraday 60min data for EURUSD=X with starting period 2021-05-24.\n"
      ]
     },
     "metadata": {},
     "output_type": "display_data"
    }
   ],
   "source": [
    "eurusd_60min = openbb.stocks.load(symbol = 'EURUSD=X', start_date = '1900-01-01', interval = 60)"
   ]
  },
  {
   "attachments": {},
   "cell_type": "markdown",
   "metadata": {},
   "source": [
    "Crypto pairs work in a similar way, but with a different syntax.\n",
    "\n",
    "- YahooFinance: `BTC-USD`\n",
    "- Polygon: `X:BTCUSD`\n",
    "- AlphaVantage: `BTCUSD`"
   ]
  },
  {
   "cell_type": "code",
   "execution_count": 17,
   "metadata": {},
   "outputs": [
    {
     "data": {
      "text/html": [
       "<pre style=\"white-space:pre;overflow-x:auto;line-height:normal;font-family:Menlo,'DejaVu Sans Mono',consolas,'Courier New',monospace\">Loading Intraday 15min data for BTC-USD with starting period 2023-03-24.\n",
       "</pre>\n"
      ],
      "text/plain": [
       "Loading Intraday 15min data for BTC-USD with starting period 2023-03-24.\n"
      ]
     },
     "metadata": {},
     "output_type": "display_data"
    }
   ],
   "source": [
    "btcusd_15min = openbb.stocks.load(symbol = 'BTC-USD', start_date = '1900-01-01', interval = 15)"
   ]
  },
  {
   "cell_type": "code",
   "execution_count": 18,
   "metadata": {},
   "outputs": [
    {
     "data": {
      "text/html": [
       "<pre style=\"white-space:pre;overflow-x:auto;line-height:normal;font-family:Menlo,'DejaVu Sans Mono',consolas,'Courier New',monospace\">Loading Intraday 15min data for BTC-EUR with starting period 2023-03-24.\n",
       "</pre>\n"
      ],
      "text/plain": [
       "Loading Intraday 15min data for BTC-EUR with starting period 2023-03-24.\n"
      ]
     },
     "metadata": {},
     "output_type": "display_data"
    }
   ],
   "source": [
    "btceur_15min = openbb.stocks.load(symbol = 'BTC-EUR', start_date = '1900-01-01', interval = 15)"
   ]
  },
  {
   "cell_type": "code",
   "execution_count": 19,
   "metadata": {},
   "outputs": [
    {
     "data": {
      "text/html": [
       "<pre style=\"white-space:pre;overflow-x:auto;line-height:normal;font-family:Menlo,'DejaVu Sans Mono',consolas,'Courier New',monospace\">Loading Daily data for ETH-USD with starting period 2017-11-09.\n",
       "</pre>\n"
      ],
      "text/plain": [
       "Loading Daily data for ETH-USD with starting period 2017-11-09.\n"
      ]
     },
     "metadata": {},
     "output_type": "display_data"
    }
   ],
   "source": [
    "ethusd_daily = openbb.stocks.load(symbol = 'ETH-USD', start_date = '1900-01-01')"
   ]
  },
  {
   "cell_type": "code",
   "execution_count": 20,
   "metadata": {},
   "outputs": [
    {
     "data": {
      "text/html": [
       "<pre style=\"white-space:pre;overflow-x:auto;line-height:normal;font-family:Menlo,'DejaVu Sans Mono',consolas,'Courier New',monospace\">Loading Intraday 15min data for ETH-EUR with starting period 2023-03-24.\n",
       "</pre>\n"
      ],
      "text/plain": [
       "Loading Intraday 15min data for ETH-EUR with starting period 2023-03-24.\n"
      ]
     },
     "metadata": {},
     "output_type": "display_data"
    }
   ],
   "source": [
    "etheur_15min = openbb.stocks.load(symbol = 'ETH-EUR', start_date = '1900-01-01', interval = 15)"
   ]
  },
  {
   "attachments": {},
   "cell_type": "markdown",
   "metadata": {},
   "source": [
    "The continuous front month futures contract is loaded with `=F` attached.  For example, WTI crude oil futures:"
   ]
  },
  {
   "cell_type": "code",
   "execution_count": 21,
   "metadata": {},
   "outputs": [
    {
     "data": {
      "text/html": [
       "<pre style=\"white-space:pre;overflow-x:auto;line-height:normal;font-family:Menlo,'DejaVu Sans Mono',consolas,'Courier New',monospace\">Loading Daily data for CL=F with starting period 2000-08-23.\n",
       "</pre>\n"
      ],
      "text/plain": [
       "Loading Daily data for CL=F with starting period 2000-08-23.\n"
      ]
     },
     "metadata": {},
     "output_type": "display_data"
    }
   ],
   "source": [
    "wti = openbb.stocks.load(symbol = 'CL=F', start_date='1900-01-01')"
   ]
  },
  {
   "attachments": {},
   "cell_type": "markdown",
   "metadata": {},
   "source": [
    "An active, individual, contract with trading volume can also be loaded.  For example, the December 2027 contract:"
   ]
  },
  {
   "cell_type": "code",
   "execution_count": 22,
   "metadata": {},
   "outputs": [
    {
     "data": {
      "text/html": [
       "<pre style=\"white-space:pre;overflow-x:auto;line-height:normal;font-family:Menlo,'DejaVu Sans Mono',consolas,'Courier New',monospace\">Loading Daily data for CLZ27.NYM with starting period 2020-01-24.\n",
       "</pre>\n"
      ],
      "text/plain": [
       "Loading Daily data for CLZ27.NYM with starting period 2020-01-24.\n"
      ]
     },
     "metadata": {},
     "output_type": "display_data"
    }
   ],
   "source": [
    "wti_dec27 = openbb.stocks.load(symbol = 'clz27.nym', start_date = '2000-01-01')"
   ]
  },
  {
   "attachments": {},
   "cell_type": "markdown",
   "metadata": {},
   "source": [
    "Indices have their own symbology, YahooFinance preceeds the ticker symbol with, `^`."
   ]
  },
  {
   "cell_type": "code",
   "execution_count": 23,
   "metadata": {},
   "outputs": [
    {
     "data": {
      "text/html": [
       "<pre style=\"white-space:pre;overflow-x:auto;line-height:normal;font-family:Menlo,'DejaVu Sans Mono',consolas,'Courier New',monospace\">Loading Daily data for ^VIX with starting period 1990-01-02.\n",
       "</pre>\n"
      ],
      "text/plain": [
       "Loading Daily data for ^VIX with starting period 1990-01-02.\n"
      ]
     },
     "metadata": {},
     "output_type": "display_data"
    }
   ],
   "source": [
    "vix = openbb.stocks.load(symbol = '^VIX', start_date = '1900-01-01')"
   ]
  },
  {
   "attachments": {},
   "cell_type": "markdown",
   "metadata": {},
   "source": [
    "What the `load` function **cannot** do is batch download.  For this type of functionality, we need to stretch our wings and use one of the other functions.\n",
    "\n",
    "### openbb.stocks.ca.hist()\n",
    "\n",
    "This function, within the Comparison Analysis sub-module, offers the ability to return data for multiple tickers as a single Pandas DataFrame, and targeting a single data point.  Choices are: open, high, low, close, adjust close, volume, and return.  It is chosen by using the optional argument, `candle_type`, with the first letter of the candle type as the value - `a` for Adjusted Close.  The list of tickers must be encapsulated with square brackets [] and quotation marks for each individual symbol."
   ]
  },
  {
   "cell_type": "code",
   "execution_count": 24,
   "metadata": {},
   "outputs": [
    {
     "data": {
      "text/html": [
       "<pre style=\"white-space:pre;overflow-x:auto;line-height:normal;font-family:Menlo,'DejaVu Sans Mono',consolas,'Courier New',monospace\">NaN values found in: AMZN.  Backfilling data\n",
       "</pre>\n"
      ],
      "text/plain": [
       "NaN values found in: AMZN.  Backfilling data\n"
      ]
     },
     "metadata": {},
     "output_type": "display_data"
    },
    {
     "data": {
      "text/html": [
       "<div>\n",
       "<style scoped>\n",
       "    .dataframe tbody tr th:only-of-type {\n",
       "        vertical-align: middle;\n",
       "    }\n",
       "\n",
       "    .dataframe tbody tr th {\n",
       "        vertical-align: top;\n",
       "    }\n",
       "\n",
       "    .dataframe thead th {\n",
       "        text-align: right;\n",
       "    }\n",
       "</style>\n",
       "<table border=\"1\" class=\"dataframe\">\n",
       "  <thead>\n",
       "    <tr style=\"text-align: right;\">\n",
       "      <th></th>\n",
       "      <th>META</th>\n",
       "      <th>AAPL</th>\n",
       "      <th>AMZN</th>\n",
       "      <th>NFLX</th>\n",
       "      <th>GOOG</th>\n",
       "      <th>MSFT</th>\n",
       "      <th>TSLA</th>\n",
       "    </tr>\n",
       "    <tr>\n",
       "      <th>Date</th>\n",
       "      <th></th>\n",
       "      <th></th>\n",
       "      <th></th>\n",
       "      <th></th>\n",
       "      <th></th>\n",
       "      <th></th>\n",
       "      <th></th>\n",
       "    </tr>\n",
       "  </thead>\n",
       "  <tbody>\n",
       "    <tr>\n",
       "      <th>2023-05-18</th>\n",
       "      <td>246.850006</td>\n",
       "      <td>175.050003</td>\n",
       "      <td>118.150002</td>\n",
       "      <td>371.290009</td>\n",
       "      <td>123.519997</td>\n",
       "      <td>318.519989</td>\n",
       "      <td>176.889999</td>\n",
       "    </tr>\n",
       "    <tr>\n",
       "      <th>2023-05-19</th>\n",
       "      <td>245.639999</td>\n",
       "      <td>175.160004</td>\n",
       "      <td>116.250000</td>\n",
       "      <td>365.359985</td>\n",
       "      <td>123.250000</td>\n",
       "      <td>318.339996</td>\n",
       "      <td>180.139999</td>\n",
       "    </tr>\n",
       "    <tr>\n",
       "      <th>2023-05-22</th>\n",
       "      <td>251.160004</td>\n",
       "      <td>173.779999</td>\n",
       "      <td>NaN</td>\n",
       "      <td>366.720001</td>\n",
       "      <td>126.144997</td>\n",
       "      <td>321.739990</td>\n",
       "      <td>184.570007</td>\n",
       "    </tr>\n",
       "  </tbody>\n",
       "</table>\n",
       "</div>"
      ],
      "text/plain": [
       "                  META        AAPL        AMZN        NFLX        GOOG  \\\n",
       "Date                                                                     \n",
       "2023-05-18  246.850006  175.050003  118.150002  371.290009  123.519997   \n",
       "2023-05-19  245.639999  175.160004  116.250000  365.359985  123.250000   \n",
       "2023-05-22  251.160004  173.779999         NaN  366.720001  126.144997   \n",
       "\n",
       "                  MSFT        TSLA  \n",
       "Date                                \n",
       "2023-05-18  318.519989  176.889999  \n",
       "2023-05-19  318.339996  180.139999  \n",
       "2023-05-22  321.739990  184.570007  "
      ]
     },
     "execution_count": 24,
     "metadata": {},
     "output_type": "execute_result"
    }
   ],
   "source": [
    "tickers = [\"META\", \"AAPL\", \"AMZN\", \"NFLX\", \"GOOG\", \"MSFT\", \"TSLA\"]\n",
    "df_compare = openbb.stocks.ca.hist(similar = tickers, candle_type = 'a')\n",
    "\n",
    "df_compare.tail(3)"
   ]
  },
  {
   "attachments": {},
   "cell_type": "markdown",
   "metadata": {},
   "source": [
    "## The Economy Module\n",
    "\n",
    "It may not be an obvious choice, but it can get the job done in a similar way as `openbb.stocks.ca.hist()`.\n",
    "\n",
    "### openbb.economy.index()\n",
    "\n",
    "This function can be coaxed into completing the same task, with slight differences being the `column` argument, and `returns` is a boolean choice for calculating the cumulative returns over the entire history."
   ]
  },
  {
   "cell_type": "code",
   "execution_count": 25,
   "metadata": {},
   "outputs": [
    {
     "data": {
      "text/html": [
       "<div>\n",
       "<style scoped>\n",
       "    .dataframe tbody tr th:only-of-type {\n",
       "        vertical-align: middle;\n",
       "    }\n",
       "\n",
       "    .dataframe tbody tr th {\n",
       "        vertical-align: top;\n",
       "    }\n",
       "\n",
       "    .dataframe thead th {\n",
       "        text-align: right;\n",
       "    }\n",
       "</style>\n",
       "<table border=\"1\" class=\"dataframe\">\n",
       "  <thead>\n",
       "    <tr style=\"text-align: right;\">\n",
       "      <th></th>\n",
       "      <th>META</th>\n",
       "      <th>AAPL</th>\n",
       "      <th>AMZN</th>\n",
       "      <th>NFLX</th>\n",
       "      <th>GOOG</th>\n",
       "      <th>MSFT</th>\n",
       "      <th>TSLA</th>\n",
       "    </tr>\n",
       "    <tr>\n",
       "      <th>Date</th>\n",
       "      <th></th>\n",
       "      <th></th>\n",
       "      <th></th>\n",
       "      <th></th>\n",
       "      <th></th>\n",
       "      <th></th>\n",
       "      <th></th>\n",
       "    </tr>\n",
       "  </thead>\n",
       "  <tbody>\n",
       "    <tr>\n",
       "      <th>2023-05-18</th>\n",
       "      <td>246.850006</td>\n",
       "      <td>175.050003</td>\n",
       "      <td>118.150002</td>\n",
       "      <td>371.290009</td>\n",
       "      <td>123.519997</td>\n",
       "      <td>318.519989</td>\n",
       "      <td>176.889999</td>\n",
       "    </tr>\n",
       "    <tr>\n",
       "      <th>2023-05-19</th>\n",
       "      <td>245.639999</td>\n",
       "      <td>175.160004</td>\n",
       "      <td>116.250000</td>\n",
       "      <td>365.359985</td>\n",
       "      <td>123.250000</td>\n",
       "      <td>318.339996</td>\n",
       "      <td>180.139999</td>\n",
       "    </tr>\n",
       "    <tr>\n",
       "      <th>2023-05-22</th>\n",
       "      <td>251.149994</td>\n",
       "      <td>173.779999</td>\n",
       "      <td>114.544998</td>\n",
       "      <td>366.720001</td>\n",
       "      <td>126.144997</td>\n",
       "      <td>321.709991</td>\n",
       "      <td>184.540100</td>\n",
       "    </tr>\n",
       "  </tbody>\n",
       "</table>\n",
       "</div>"
      ],
      "text/plain": [
       "                  META        AAPL        AMZN        NFLX        GOOG  \\\n",
       "Date                                                                     \n",
       "2023-05-18  246.850006  175.050003  118.150002  371.290009  123.519997   \n",
       "2023-05-19  245.639999  175.160004  116.250000  365.359985  123.250000   \n",
       "2023-05-22  251.149994  173.779999  114.544998  366.720001  126.144997   \n",
       "\n",
       "                  MSFT        TSLA  \n",
       "Date                                \n",
       "2023-05-18  318.519989  176.889999  \n",
       "2023-05-19  318.339996  180.139999  \n",
       "2023-05-22  321.709991  184.540100  "
      ]
     },
     "execution_count": 25,
     "metadata": {},
     "output_type": "execute_result"
    }
   ],
   "source": [
    "df_compare2 = openbb.economy.index(indices = tickers, column = 'Adj Close')\n",
    "\n",
    "df_compare2.tail(3)"
   ]
  },
  {
   "attachments": {},
   "cell_type": "markdown",
   "metadata": {},
   "source": [
    "Some daily historical prices, or index levels, are part of the FRED library.  For example, the Nasdaq Composite Index."
   ]
  },
  {
   "cell_type": "code",
   "execution_count": 29,
   "metadata": {},
   "outputs": [
    {
     "name": "stdout",
     "output_type": "stream",
     "text": [
      "{'NASDAQCOM': {'title': 'NASDAQ Composite Index', 'units': 'Index Feb 5, 1971=100'}}\n"
     ]
    },
    {
     "data": {
      "text/html": [
       "<div>\n",
       "<style scoped>\n",
       "    .dataframe tbody tr th:only-of-type {\n",
       "        vertical-align: middle;\n",
       "    }\n",
       "\n",
       "    .dataframe tbody tr th {\n",
       "        vertical-align: top;\n",
       "    }\n",
       "\n",
       "    .dataframe thead th {\n",
       "        text-align: right;\n",
       "    }\n",
       "</style>\n",
       "<table border=\"1\" class=\"dataframe\">\n",
       "  <thead>\n",
       "    <tr style=\"text-align: right;\">\n",
       "      <th></th>\n",
       "      <th>NASDAQCOM</th>\n",
       "    </tr>\n",
       "  </thead>\n",
       "  <tbody>\n",
       "    <tr>\n",
       "      <th>2023-05-17</th>\n",
       "      <td>12500.57</td>\n",
       "    </tr>\n",
       "    <tr>\n",
       "      <th>2023-05-18</th>\n",
       "      <td>12688.84</td>\n",
       "    </tr>\n",
       "    <tr>\n",
       "      <th>2023-05-19</th>\n",
       "      <td>12657.90</td>\n",
       "    </tr>\n",
       "  </tbody>\n",
       "</table>\n",
       "</div>"
      ],
      "text/plain": [
       "            NASDAQCOM\n",
       "2023-05-17   12500.57\n",
       "2023-05-18   12688.84\n",
       "2023-05-19   12657.90"
      ]
     },
     "execution_count": 29,
     "metadata": {},
     "output_type": "execute_result"
    }
   ],
   "source": [
    "nasdaq = openbb.economy.fred([\"NASDAQCOM\"])\n",
    "\n",
    "# Note that the return from FRED is a Tuple, and the second element is the Series ID and description.\n",
    "\n",
    "print(nasdaq[1])\n",
    "\n",
    "nasdaq[0].tail(3)"
   ]
  },
  {
   "attachments": {},
   "cell_type": "markdown",
   "metadata": {},
   "source": [
    "## The Crypto Module\n",
    "\n",
    "Similarly, the `crypto` module has its own nuances.\n",
    "\n",
    "### openbb.crypto.load()\n",
    "\n",
    "This version of the `load` function has three sources: `YahooFinance`, `CoinGecko`, and `CCXT`. Selecting `CCXT` will activate the `--exchange` argument, which allows the user to target a specific venue.  \n",
    "\n",
    "Choices of exchange are: [\n",
    "\n",
    "    ace,alpaca,ascendex,bequant,bigone,binance,binancecoinm,binanceus,binanceusdm,bit2c,bitbank,bitbay,bitcoincom,\n",
    "    bitfinex,bitfinex2,bitflyer,bitforex,bitget,bithumb,bitmart,bitmex,bitopro,bitpanda,bitrue,bitso,bitstamp,bitstamp1,\n",
    "    bittrex,bitvavo,bkex,bl3p,btcalpha,btcbox,btcex,btcmarkets,btctradeua,btcturk,buda,bybit,cex,coinbase,coinbaseprime,coinbasepro,\n",
    "    coincheck,coinex,coinfalcon,coinmate,coinone,coinspot,cryptocom,currencycom,delta,deribit,digifinex,exmo,flowbtc,fmfwio,gate,\n",
    "    gateio,gemini,hitbtc,hitbtc3,hollaex,huobi,huobijp,huobipro,idex,independentreserve,indodax,itbit,kraken,krakenfutures,kucoin,\n",
    "    kucoinfutures,kuna,latoken,lbank,lbank2,lykke,mercado,mexc,mexc3,ndax,novadax,oceanex,okcoin,okex,okex5,okx,paymium,phemex,\n",
    "    poloniex,poloniexfutures,probit,ripio,stex,tidex,timex,tokocrypto,upbit,wavesexchange,wazirx,whitebit,woo,yobit,zaif,zb,zonda\n",
    "]\n",
    "\n",
    "**Note**: Asset coverage and history varies by exchange.  Binance may have access restrictions for US-based users."
   ]
  },
  {
   "cell_type": "code",
   "execution_count": 30,
   "metadata": {},
   "outputs": [],
   "source": [
    "btc_usdt = openbb.crypto.load(symbol = 'BTC', to_symbol = 'USDT', source = 'CCXT', exchange = 'bitcoincom', start_date = '2010-01-01')"
   ]
  },
  {
   "cell_type": "code",
   "execution_count": 31,
   "metadata": {},
   "outputs": [
    {
     "data": {
      "text/html": [
       "<div>\n",
       "<style scoped>\n",
       "    .dataframe tbody tr th:only-of-type {\n",
       "        vertical-align: middle;\n",
       "    }\n",
       "\n",
       "    .dataframe tbody tr th {\n",
       "        vertical-align: top;\n",
       "    }\n",
       "\n",
       "    .dataframe thead th {\n",
       "        text-align: right;\n",
       "    }\n",
       "</style>\n",
       "<table border=\"1\" class=\"dataframe\">\n",
       "  <thead>\n",
       "    <tr style=\"text-align: right;\">\n",
       "      <th></th>\n",
       "      <th>Open</th>\n",
       "      <th>High</th>\n",
       "      <th>Low</th>\n",
       "      <th>Close</th>\n",
       "      <th>Volume</th>\n",
       "    </tr>\n",
       "    <tr>\n",
       "      <th>date</th>\n",
       "      <th></th>\n",
       "      <th></th>\n",
       "      <th></th>\n",
       "      <th></th>\n",
       "      <th></th>\n",
       "    </tr>\n",
       "  </thead>\n",
       "  <tbody>\n",
       "    <tr>\n",
       "      <th>2013-12-27</th>\n",
       "      <td>777.00</td>\n",
       "      <td>779.00</td>\n",
       "      <td>694.84</td>\n",
       "      <td>742.43</td>\n",
       "      <td>1502.36000</td>\n",
       "    </tr>\n",
       "    <tr>\n",
       "      <th>2013-12-28</th>\n",
       "      <td>710.46</td>\n",
       "      <td>752.42</td>\n",
       "      <td>672.80</td>\n",
       "      <td>732.42</td>\n",
       "      <td>4583.78000</td>\n",
       "    </tr>\n",
       "    <tr>\n",
       "      <th>2013-12-29</th>\n",
       "      <td>699.61</td>\n",
       "      <td>750.01</td>\n",
       "      <td>690.50</td>\n",
       "      <td>746.28</td>\n",
       "      <td>4718.43000</td>\n",
       "    </tr>\n",
       "    <tr>\n",
       "      <th>2013-12-30</th>\n",
       "      <td>715.05</td>\n",
       "      <td>758.58</td>\n",
       "      <td>710.40</td>\n",
       "      <td>721.52</td>\n",
       "      <td>4824.67000</td>\n",
       "    </tr>\n",
       "    <tr>\n",
       "      <th>2013-12-31</th>\n",
       "      <td>721.99</td>\n",
       "      <td>756.09</td>\n",
       "      <td>698.17</td>\n",
       "      <td>722.58</td>\n",
       "      <td>4821.72000</td>\n",
       "    </tr>\n",
       "    <tr>\n",
       "      <th>...</th>\n",
       "      <td>...</td>\n",
       "      <td>...</td>\n",
       "      <td>...</td>\n",
       "      <td>...</td>\n",
       "      <td>...</td>\n",
       "    </tr>\n",
       "    <tr>\n",
       "      <th>2023-05-18</th>\n",
       "      <td>27412.94</td>\n",
       "      <td>27478.18</td>\n",
       "      <td>26370.67</td>\n",
       "      <td>26824.46</td>\n",
       "      <td>6122.14291</td>\n",
       "    </tr>\n",
       "    <tr>\n",
       "      <th>2023-05-19</th>\n",
       "      <td>26818.90</td>\n",
       "      <td>27175.07</td>\n",
       "      <td>26637.68</td>\n",
       "      <td>26882.36</td>\n",
       "      <td>3745.86633</td>\n",
       "    </tr>\n",
       "    <tr>\n",
       "      <th>2023-05-20</th>\n",
       "      <td>26881.73</td>\n",
       "      <td>27147.59</td>\n",
       "      <td>26827.33</td>\n",
       "      <td>27102.86</td>\n",
       "      <td>1866.26447</td>\n",
       "    </tr>\n",
       "    <tr>\n",
       "      <th>2023-05-21</th>\n",
       "      <td>27104.46</td>\n",
       "      <td>27277.00</td>\n",
       "      <td>26667.45</td>\n",
       "      <td>26751.54</td>\n",
       "      <td>3528.06387</td>\n",
       "    </tr>\n",
       "    <tr>\n",
       "      <th>2023-05-22</th>\n",
       "      <td>26749.61</td>\n",
       "      <td>27093.47</td>\n",
       "      <td>26536.93</td>\n",
       "      <td>26901.10</td>\n",
       "      <td>3985.02463</td>\n",
       "    </tr>\n",
       "  </tbody>\n",
       "</table>\n",
       "<p>3431 rows × 5 columns</p>\n",
       "</div>"
      ],
      "text/plain": [
       "                Open      High       Low     Close      Volume\n",
       "date                                                          \n",
       "2013-12-27    777.00    779.00    694.84    742.43  1502.36000\n",
       "2013-12-28    710.46    752.42    672.80    732.42  4583.78000\n",
       "2013-12-29    699.61    750.01    690.50    746.28  4718.43000\n",
       "2013-12-30    715.05    758.58    710.40    721.52  4824.67000\n",
       "2013-12-31    721.99    756.09    698.17    722.58  4821.72000\n",
       "...              ...       ...       ...       ...         ...\n",
       "2023-05-18  27412.94  27478.18  26370.67  26824.46  6122.14291\n",
       "2023-05-19  26818.90  27175.07  26637.68  26882.36  3745.86633\n",
       "2023-05-20  26881.73  27147.59  26827.33  27102.86  1866.26447\n",
       "2023-05-21  27104.46  27277.00  26667.45  26751.54  3528.06387\n",
       "2023-05-22  26749.61  27093.47  26536.93  26901.10  3985.02463\n",
       "\n",
       "[3431 rows x 5 columns]"
      ]
     },
     "execution_count": 31,
     "metadata": {},
     "output_type": "execute_result"
    }
   ],
   "source": [
    "btc_usdt"
   ]
  },
  {
   "attachments": {},
   "cell_type": "markdown",
   "metadata": {},
   "source": [
    "### openbb.crypto.dd.mt()\n",
    "\n",
    "This function returns crpyto time-series data from Messari, selectable by `timeseries_id`. Find the appropriate value with, `openbb.crypto.dd.get_mt()`. "
   ]
  },
  {
   "cell_type": "code",
   "execution_count": 32,
   "metadata": {},
   "outputs": [
    {
     "data": {
      "text/html": [
       "<div>\n",
       "<style scoped>\n",
       "    .dataframe tbody tr th:only-of-type {\n",
       "        vertical-align: middle;\n",
       "    }\n",
       "\n",
       "    .dataframe tbody tr th {\n",
       "        vertical-align: top;\n",
       "    }\n",
       "\n",
       "    .dataframe thead th {\n",
       "        text-align: right;\n",
       "    }\n",
       "</style>\n",
       "<table border=\"1\" class=\"dataframe\">\n",
       "  <thead>\n",
       "    <tr style=\"text-align: right;\">\n",
       "      <th></th>\n",
       "      <th>Title</th>\n",
       "      <th>Description</th>\n",
       "      <th>Requires Paid Key</th>\n",
       "      <th>Sources</th>\n",
       "    </tr>\n",
       "    <tr>\n",
       "      <th>id</th>\n",
       "      <th></th>\n",
       "      <th></th>\n",
       "      <th></th>\n",
       "      <th></th>\n",
       "    </tr>\n",
       "  </thead>\n",
       "  <tbody>\n",
       "    <tr>\n",
       "      <th>sply.total.iss</th>\n",
       "      <td>Total Issuance</td>\n",
       "      <td>The sum USD value of all new native units issu...</td>\n",
       "      <td>False</td>\n",
       "      <td>Coinmetrics</td>\n",
       "    </tr>\n",
       "    <tr>\n",
       "      <th>sply.circ</th>\n",
       "      <td>Circulating Supply</td>\n",
       "      <td>The circulating supply acknowledges that token...</td>\n",
       "      <td>False</td>\n",
       "      <td></td>\n",
       "    </tr>\n",
       "    <tr>\n",
       "      <th>txn.fee.avg</th>\n",
       "      <td>Average Transaction Fees</td>\n",
       "      <td>The USD value of the mean fee per transaction ...</td>\n",
       "      <td>False</td>\n",
       "      <td>Coinmetrics</td>\n",
       "    </tr>\n",
       "    <tr>\n",
       "      <th>txn.tfr.val.adj.ntv</th>\n",
       "      <td>Adjusted Transaction Volume (Native Units)</td>\n",
       "      <td>The sum of native units transferred between di...</td>\n",
       "      <td>False</td>\n",
       "      <td>Coinmetrics</td>\n",
       "    </tr>\n",
       "    <tr>\n",
       "      <th>txn.tfr.erc721.cnt</th>\n",
       "      <td>ERC-721 Transfer Count</td>\n",
       "      <td>The sum count of ERC-721 transfers in that int...</td>\n",
       "      <td>False</td>\n",
       "      <td>Coinmetrics</td>\n",
       "    </tr>\n",
       "    <tr>\n",
       "      <th>...</th>\n",
       "      <td>...</td>\n",
       "      <td>...</td>\n",
       "      <td>...</td>\n",
       "      <td>...</td>\n",
       "    </tr>\n",
       "    <tr>\n",
       "      <th>mcap.circ</th>\n",
       "      <td>Circulating Marketcap</td>\n",
       "      <td>The circulating marketcap is the price of the ...</td>\n",
       "      <td>False</td>\n",
       "      <td>Messari,Kaiko</td>\n",
       "    </tr>\n",
       "    <tr>\n",
       "      <th>cg.sply.circ</th>\n",
       "      <td>Circulating Supply (CoinGecko)</td>\n",
       "      <td>The circulating supply acknowledges that token...</td>\n",
       "      <td>False</td>\n",
       "      <td></td>\n",
       "    </tr>\n",
       "    <tr>\n",
       "      <th>real.vol</th>\n",
       "      <td>Real Volume</td>\n",
       "      <td>It is well known that many exchanges conduct w...</td>\n",
       "      <td>False</td>\n",
       "      <td>Kaiko</td>\n",
       "    </tr>\n",
       "    <tr>\n",
       "      <th>twitter.followers</th>\n",
       "      <td>Twitter Followers</td>\n",
       "      <td>The number of followers of the asset's primary...</td>\n",
       "      <td>False</td>\n",
       "      <td>CoinGecko</td>\n",
       "    </tr>\n",
       "    <tr>\n",
       "      <th>reddit.subscribers</th>\n",
       "      <td>Reddit Subscribers</td>\n",
       "      <td>The number of subscribers on the asset's prima...</td>\n",
       "      <td>False</td>\n",
       "      <td>Reddit</td>\n",
       "    </tr>\n",
       "  </tbody>\n",
       "</table>\n",
       "<p>61 rows × 4 columns</p>\n",
       "</div>"
      ],
      "text/plain": [
       "                                                          Title  \\\n",
       "id                                                                \n",
       "sply.total.iss                                   Total Issuance   \n",
       "sply.circ                                    Circulating Supply   \n",
       "txn.fee.avg                            Average Transaction Fees   \n",
       "txn.tfr.val.adj.ntv  Adjusted Transaction Volume (Native Units)   \n",
       "txn.tfr.erc721.cnt                       ERC-721 Transfer Count   \n",
       "...                                                         ...   \n",
       "mcap.circ                                 Circulating Marketcap   \n",
       "cg.sply.circ                     Circulating Supply (CoinGecko)   \n",
       "real.vol                                            Real Volume   \n",
       "twitter.followers                             Twitter Followers   \n",
       "reddit.subscribers                           Reddit Subscribers   \n",
       "\n",
       "                                                           Description  \\\n",
       "id                                                                       \n",
       "sply.total.iss       The sum USD value of all new native units issu...   \n",
       "sply.circ            The circulating supply acknowledges that token...   \n",
       "txn.fee.avg          The USD value of the mean fee per transaction ...   \n",
       "txn.tfr.val.adj.ntv  The sum of native units transferred between di...   \n",
       "txn.tfr.erc721.cnt   The sum count of ERC-721 transfers in that int...   \n",
       "...                                                                ...   \n",
       "mcap.circ            The circulating marketcap is the price of the ...   \n",
       "cg.sply.circ         The circulating supply acknowledges that token...   \n",
       "real.vol             It is well known that many exchanges conduct w...   \n",
       "twitter.followers    The number of followers of the asset's primary...   \n",
       "reddit.subscribers   The number of subscribers on the asset's prima...   \n",
       "\n",
       "                     Requires Paid Key        Sources  \n",
       "id                                                     \n",
       "sply.total.iss                   False    Coinmetrics  \n",
       "sply.circ                        False                 \n",
       "txn.fee.avg                      False    Coinmetrics  \n",
       "txn.tfr.val.adj.ntv              False    Coinmetrics  \n",
       "txn.tfr.erc721.cnt               False    Coinmetrics  \n",
       "...                                ...            ...  \n",
       "mcap.circ                        False  Messari,Kaiko  \n",
       "cg.sply.circ                     False                 \n",
       "real.vol                         False          Kaiko  \n",
       "twitter.followers                False      CoinGecko  \n",
       "reddit.subscribers               False         Reddit  \n",
       "\n",
       "[61 rows x 4 columns]"
      ]
     },
     "execution_count": 32,
     "metadata": {},
     "output_type": "execute_result"
    }
   ],
   "source": [
    "openbb.crypto.dd.get_mt()"
   ]
  },
  {
   "cell_type": "code",
   "execution_count": 33,
   "metadata": {},
   "outputs": [
    {
     "data": {
      "text/html": [
       "<div>\n",
       "<style scoped>\n",
       "    .dataframe tbody tr th:only-of-type {\n",
       "        vertical-align: middle;\n",
       "    }\n",
       "\n",
       "    .dataframe tbody tr th {\n",
       "        vertical-align: top;\n",
       "    }\n",
       "\n",
       "    .dataframe thead th {\n",
       "        text-align: right;\n",
       "    }\n",
       "</style>\n",
       "<table border=\"1\" class=\"dataframe\">\n",
       "  <thead>\n",
       "    <tr style=\"text-align: right;\">\n",
       "      <th></th>\n",
       "      <th>open</th>\n",
       "      <th>high</th>\n",
       "      <th>low</th>\n",
       "      <th>close</th>\n",
       "      <th>volume</th>\n",
       "    </tr>\n",
       "    <tr>\n",
       "      <th>timestamp</th>\n",
       "      <th></th>\n",
       "      <th></th>\n",
       "      <th></th>\n",
       "      <th></th>\n",
       "      <th></th>\n",
       "    </tr>\n",
       "  </thead>\n",
       "  <tbody>\n",
       "    <tr>\n",
       "      <th>2015-08-10</th>\n",
       "      <td>0.648707</td>\n",
       "      <td>2.237367</td>\n",
       "      <td>0.603205</td>\n",
       "      <td>1.608072</td>\n",
       "      <td>2.097282e+06</td>\n",
       "    </tr>\n",
       "    <tr>\n",
       "      <th>2015-08-24</th>\n",
       "      <td>1.322712</td>\n",
       "      <td>1.388551</td>\n",
       "      <td>1.052930</td>\n",
       "      <td>1.317280</td>\n",
       "      <td>5.410970e+05</td>\n",
       "    </tr>\n",
       "    <tr>\n",
       "      <th>2015-09-07</th>\n",
       "      <td>1.306615</td>\n",
       "      <td>1.317278</td>\n",
       "      <td>0.915953</td>\n",
       "      <td>0.934512</td>\n",
       "      <td>4.992946e+05</td>\n",
       "    </tr>\n",
       "    <tr>\n",
       "      <th>2015-09-21</th>\n",
       "      <td>0.958794</td>\n",
       "      <td>0.959938</td>\n",
       "      <td>0.700710</td>\n",
       "      <td>0.725005</td>\n",
       "      <td>2.127151e+05</td>\n",
       "    </tr>\n",
       "    <tr>\n",
       "      <th>2015-10-05</th>\n",
       "      <td>0.670480</td>\n",
       "      <td>0.692221</td>\n",
       "      <td>0.592912</td>\n",
       "      <td>0.640576</td>\n",
       "      <td>1.482326e+05</td>\n",
       "    </tr>\n",
       "    <tr>\n",
       "      <th>...</th>\n",
       "      <td>...</td>\n",
       "      <td>...</td>\n",
       "      <td>...</td>\n",
       "      <td>...</td>\n",
       "      <td>...</td>\n",
       "    </tr>\n",
       "    <tr>\n",
       "      <th>2023-04-17</th>\n",
       "      <td>2119.946792</td>\n",
       "      <td>2124.773781</td>\n",
       "      <td>1825.870872</td>\n",
       "      <td>1862.347251</td>\n",
       "      <td>1.688352e+10</td>\n",
       "    </tr>\n",
       "    <tr>\n",
       "      <th>2023-04-24</th>\n",
       "      <td>1862.415979</td>\n",
       "      <td>1964.871858</td>\n",
       "      <td>1788.171822</td>\n",
       "      <td>1871.279988</td>\n",
       "      <td>1.601219e+10</td>\n",
       "    </tr>\n",
       "    <tr>\n",
       "      <th>2023-05-01</th>\n",
       "      <td>1871.241099</td>\n",
       "      <td>2020.697828</td>\n",
       "      <td>1807.152925</td>\n",
       "      <td>1876.106590</td>\n",
       "      <td>1.490494e+10</td>\n",
       "    </tr>\n",
       "    <tr>\n",
       "      <th>2023-05-08</th>\n",
       "      <td>1876.432076</td>\n",
       "      <td>1893.804134</td>\n",
       "      <td>1740.316450</td>\n",
       "      <td>1800.125067</td>\n",
       "      <td>1.356115e+10</td>\n",
       "    </tr>\n",
       "    <tr>\n",
       "      <th>2023-05-15</th>\n",
       "      <td>1800.005357</td>\n",
       "      <td>1847.083266</td>\n",
       "      <td>1771.691096</td>\n",
       "      <td>1805.469747</td>\n",
       "      <td>8.322231e+09</td>\n",
       "    </tr>\n",
       "  </tbody>\n",
       "</table>\n",
       "<p>212 rows × 5 columns</p>\n",
       "</div>"
      ],
      "text/plain": [
       "                   open         high          low        close        volume\n",
       "timestamp                                                                   \n",
       "2015-08-10     0.648707     2.237367     0.603205     1.608072  2.097282e+06\n",
       "2015-08-24     1.322712     1.388551     1.052930     1.317280  5.410970e+05\n",
       "2015-09-07     1.306615     1.317278     0.915953     0.934512  4.992946e+05\n",
       "2015-09-21     0.958794     0.959938     0.700710     0.725005  2.127151e+05\n",
       "2015-10-05     0.670480     0.692221     0.592912     0.640576  1.482326e+05\n",
       "...                 ...          ...          ...          ...           ...\n",
       "2023-04-17  2119.946792  2124.773781  1825.870872  1862.347251  1.688352e+10\n",
       "2023-04-24  1862.415979  1964.871858  1788.171822  1871.279988  1.601219e+10\n",
       "2023-05-01  1871.241099  2020.697828  1807.152925  1876.106590  1.490494e+10\n",
       "2023-05-08  1876.432076  1893.804134  1740.316450  1800.125067  1.356115e+10\n",
       "2023-05-15  1800.005357  1847.083266  1771.691096  1805.469747  8.322231e+09\n",
       "\n",
       "[212 rows x 5 columns]"
      ]
     },
     "execution_count": 33,
     "metadata": {},
     "output_type": "execute_result"
    }
   ],
   "source": [
    "openbb.crypto.dd.mt('eth', timeseries_id='price', start_date = '2010-01-01', interval = '1w')[0]"
   ]
  },
  {
   "attachments": {},
   "cell_type": "markdown",
   "metadata": {},
   "source": [
    "These examples represent only a few methods of getting historical price data.  Explore the contents of each module to find more!"
   ]
  }
 ],
 "metadata": {
  "kernelspec": {
   "display_name": "obb",
   "language": "python",
   "name": "python3"
  },
  "language_info": {
   "codemirror_mode": {
    "name": "ipython",
    "version": 3
   },
   "file_extension": ".py",
   "mimetype": "text/x-python",
   "name": "python",
   "nbconvert_exporter": "python",
   "pygments_lexer": "ipython3",
   "version": "3.10.8"
  },
  "orig_nbformat": 4
 },
 "nbformat": 4,
 "nbformat_minor": 2
}
