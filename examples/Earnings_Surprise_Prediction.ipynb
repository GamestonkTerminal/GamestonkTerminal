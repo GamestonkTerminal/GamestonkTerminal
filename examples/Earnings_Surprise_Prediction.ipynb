{
  "nbformat": 4,
  "nbformat_minor": 0,
  "metadata": {
    "colab": {
      "provenance": []
    },
    "kernelspec": {
      "name": "python3",
      "display_name": "Python 3"
    },
    "language_info": {
      "name": "python"
    }
  },
  "cells": [
    {
      "cell_type": "markdown",
      "source": [
        "## Installing & Importing Necessary Libraries"
      ],
      "metadata": {
        "id": "EJAMccZhTH_i"
      }
    },
    {
      "cell_type": "code",
      "execution_count": null,
      "metadata": {
        "id": "W9U0phXaTF11"
      },
      "outputs": [],
      "source": [
        "!pip install openbb"
      ]
    },
    {
      "cell_type": "code",
      "source": [
        "from openbb import obb\n",
        "import pandas as pd\n",
        "from datetime import date"
      ],
      "metadata": {
        "id": "bDGuACseT0kL"
      },
      "execution_count": 18,
      "outputs": []
    },
    {
      "cell_type": "markdown",
      "source": [
        "## Earnings Suprise Prediction"
      ],
      "metadata": {
        "id": "4EMQcw7bUGe6"
      }
    },
    {
      "cell_type": "code",
      "source": [
        "from openbb_core.provider.standard_models.calendar_earnings import (\n",
        "CalendarEarningsData,\n",
        "CalendarEarningsQueryParams,\n",
        ")"
      ],
      "metadata": {
        "id": "v6BKtw5ya6fA"
      },
      "execution_count": 14,
      "outputs": []
    },
    {
      "cell_type": "code",
      "source": [
        "earnings = {\n",
        "    \"reportDate\": \"2024-01-25\",\n",
        "    \"symbol\": \"AAPL\",\n",
        "    \"name\": \"Apple Inc.\",\n",
        "    \"epsPrevious\": 1.25,\n",
        "    \"epsConsensus\": 1.30,\n",
        "}\n",
        "CalendarEarningsData(\n",
        "        reportDate=date.fromisoformat(earnings['reportDate']),\n",
        "        symbol=earnings['symbol'],\n",
        "        name=earnings.get('name', None),\n",
        "        epsPrevious=earnings.get('epsPrevious', None),\n",
        "        epsConsensus=earnings.get('epsConsensus', None),\n",
        "    )"
      ],
      "metadata": {
        "colab": {
          "base_uri": "https://localhost:8080/"
        },
        "id": "3z5V0KUBcwl7",
        "outputId": "3f7ae427-7b73-4c62-dd8a-03ddb06ef842"
      },
      "execution_count": 20,
      "outputs": [
        {
          "output_type": "execute_result",
          "data": {
            "text/plain": [
              "CalendarEarningsData(report_date=2024-01-25, symbol=AAPL, name=Apple Inc., eps_previous=1.25, eps_consensus=1.3)"
            ]
          },
          "metadata": {},
          "execution_count": 20
        }
      ]
    }
  ]
}